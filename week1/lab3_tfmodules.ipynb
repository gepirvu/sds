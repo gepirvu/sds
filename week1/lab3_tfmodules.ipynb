{
 "cells": [
  {
   "cell_type": "markdown",
   "metadata": {},
   "source": [
    "## Project 2: Expert\n",
    "\n",
    "### A question answering agent that is an expert knowledge worker\n",
    "### To be used by employees of Insurellm, an Insurance Tech company\n",
    "### The agent needs to be accurate and the solution should be low cost.\n",
    "\n",
    "This project will use RAG (Retrieval Augmented Generation) to ensure our question/answering assistant has high accuracy.\n",
    "\n",
    "We will be using the LangChain framework which does most of the heavy lifting for us! We'll also be using Gradio's chat interface, and Plotly for charts. We'll also be using the popular open source Vector Database Chroma.\n",
    "\n",
    "## BEFORE WE START: take a look in the knowledge-base folder"
   ]
  },
  {
   "cell_type": "code",
   "execution_count": 1,
   "metadata": {},
   "outputs": [],
   "source": [
    "# imports\n",
    "\n",
    "import os\n",
    "import glob\n",
    "from dotenv import load_dotenv\n",
    "import gradio as gr"
   ]
  },
  {
   "cell_type": "code",
   "execution_count": 17,
   "metadata": {},
   "outputs": [
    {
     "ename": "ModuleNotFoundError",
     "evalue": "No module named 'matplotlib'",
     "output_type": "error",
     "traceback": [
      "\u001b[31m---------------------------------------------------------------------------\u001b[39m",
      "\u001b[31mModuleNotFoundError\u001b[39m                       Traceback (most recent call last)",
      "\u001b[36mCell\u001b[39m\u001b[36m \u001b[39m\u001b[32mIn[17]\u001b[39m\u001b[32m, line 12\u001b[39m\n\u001b[32m     10\u001b[39m \u001b[38;5;28;01mfrom\u001b[39;00m\u001b[38;5;250m \u001b[39m\u001b[34;01mlangchain\u001b[39;00m\u001b[34;01m.\u001b[39;00m\u001b[34;01mmemory\u001b[39;00m\u001b[38;5;250m \u001b[39m\u001b[38;5;28;01mimport\u001b[39;00m ConversationBufferMemory\n\u001b[32m     11\u001b[39m \u001b[38;5;28;01mfrom\u001b[39;00m\u001b[38;5;250m \u001b[39m\u001b[34;01mlangchain\u001b[39;00m\u001b[34;01m.\u001b[39;00m\u001b[34;01mchains\u001b[39;00m\u001b[38;5;250m \u001b[39m\u001b[38;5;28;01mimport\u001b[39;00m ConversationalRetrievalChain\n\u001b[32m---> \u001b[39m\u001b[32m12\u001b[39m \u001b[38;5;28;01mimport\u001b[39;00m\u001b[38;5;250m \u001b[39m\u001b[34;01mmatplotlib\u001b[39;00m\u001b[34;01m.\u001b[39;00m\u001b[34;01mpyplot\u001b[39;00m\u001b[38;5;250m \u001b[39m\u001b[38;5;28;01mas\u001b[39;00m\u001b[38;5;250m \u001b[39m\u001b[34;01mplt\u001b[39;00m\n",
      "\u001b[31mModuleNotFoundError\u001b[39m: No module named 'matplotlib'"
     ]
    }
   ],
   "source": [
    "# imports for langchain, plotly and Chroma\n",
    "\n",
    "from langchain.document_loaders import DirectoryLoader, TextLoader\n",
    "from langchain.text_splitter import CharacterTextSplitter\n",
    "from langchain_openai import OpenAIEmbeddings, ChatOpenAI\n",
    "from langchain_chroma import Chroma\n",
    "from sklearn.manifold import TSNE\n",
    "import numpy as np\n",
    "import plotly.graph_objects as go\n",
    "from langchain.memory import ConversationBufferMemory\n",
    "from langchain.chains import ConversationalRetrievalChain"
   ]
  },
  {
   "cell_type": "code",
   "execution_count": 3,
   "metadata": {},
   "outputs": [],
   "source": [
    "# price is a factor for our company, so we're going to use a low cost model\n",
    "\n",
    "MODEL = \"gpt-4.1-mini\"\n",
    "db_name = \"vector_db\""
   ]
  },
  {
   "cell_type": "code",
   "execution_count": 4,
   "metadata": {},
   "outputs": [
    {
     "name": "stdout",
     "output_type": "stream",
     "text": [
      "OpenAI API Key exists and begins sk-proj-\n"
     ]
    }
   ],
   "source": [
    "# Load environment variables in a file called .env\n",
    "\n",
    "load_dotenv()\n",
    "openai_api_key = os.getenv('OPENAI_API_KEY')\n",
    "\n",
    "if openai_api_key:\n",
    "    print(f\"OpenAI API Key exists and begins {openai_api_key[:8]}\")\n",
    "else:\n",
    "    print(\"OpenAI API Key not set\")"
   ]
  },
  {
   "cell_type": "code",
   "execution_count": 7,
   "metadata": {},
   "outputs": [
    {
     "name": "stdout",
     "output_type": "stream",
     "text": [
      "Loaded 154 documents\n"
     ]
    }
   ],
   "source": [
    "# Read in documents using LangChain's loaders\n",
    "# Take everything in all the sub-folders of our knowledgebase\n",
    "\n",
    "folders = glob.glob(\"knowledge-base/terraform_modules/*\")\n",
    "\n",
    "documents = []\n",
    "for folder in folders:\n",
    "    doc_type = os.path.basename(folder)\n",
    "    loader = DirectoryLoader(folder, glob=\"**/*.md\", loader_cls=TextLoader, loader_kwargs={'encoding': 'utf-8'})\n",
    "    folder_docs = loader.load()\n",
    "    for doc in folder_docs:\n",
    "        doc.metadata[\"doc_type\"] = doc_type\n",
    "        documents.append(doc)\n",
    "\n",
    "print(f\"Loaded {len(documents)} documents\")"
   ]
  },
  {
   "cell_type": "code",
   "execution_count": 10,
   "metadata": {},
   "outputs": [
    {
     "name": "stderr",
     "output_type": "stream",
     "text": [
      "Created a chunk of size 2290, which is longer than the specified 500\n",
      "Created a chunk of size 659, which is longer than the specified 500\n",
      "Created a chunk of size 3600, which is longer than the specified 500\n",
      "Created a chunk of size 10252, which is longer than the specified 500\n",
      "Created a chunk of size 560, which is longer than the specified 500\n",
      "Created a chunk of size 5012, which is longer than the specified 500\n",
      "Created a chunk of size 568, which is longer than the specified 500\n",
      "Created a chunk of size 558, which is longer than the specified 500\n",
      "Created a chunk of size 677, which is longer than the specified 500\n",
      "Created a chunk of size 641, which is longer than the specified 500\n",
      "Created a chunk of size 640, which is longer than the specified 500\n",
      "Created a chunk of size 1340, which is longer than the specified 500\n",
      "Created a chunk of size 15048, which is longer than the specified 500\n",
      "Created a chunk of size 865, which is longer than the specified 500\n",
      "Created a chunk of size 6076, which is longer than the specified 500\n",
      "Created a chunk of size 537, which is longer than the specified 500\n",
      "Created a chunk of size 1328, which is longer than the specified 500\n",
      "Created a chunk of size 1328, which is longer than the specified 500\n",
      "Created a chunk of size 727, which is longer than the specified 500\n",
      "Created a chunk of size 2075, which is longer than the specified 500\n",
      "Created a chunk of size 4312, which is longer than the specified 500\n",
      "Created a chunk of size 2264, which is longer than the specified 500\n",
      "Created a chunk of size 532, which is longer than the specified 500\n",
      "Created a chunk of size 615, which is longer than the specified 500\n",
      "Created a chunk of size 684, which is longer than the specified 500\n",
      "Created a chunk of size 667, which is longer than the specified 500\n",
      "Created a chunk of size 1166, which is longer than the specified 500\n",
      "Created a chunk of size 641, which is longer than the specified 500\n",
      "Created a chunk of size 639, which is longer than the specified 500\n",
      "Created a chunk of size 610, which is longer than the specified 500\n",
      "Created a chunk of size 710, which is longer than the specified 500\n",
      "Created a chunk of size 639, which is longer than the specified 500\n",
      "Created a chunk of size 610, which is longer than the specified 500\n",
      "Created a chunk of size 639, which is longer than the specified 500\n",
      "Created a chunk of size 610, which is longer than the specified 500\n",
      "Created a chunk of size 1825, which is longer than the specified 500\n",
      "Created a chunk of size 610, which is longer than the specified 500\n",
      "Created a chunk of size 1442, which is longer than the specified 500\n",
      "Created a chunk of size 628, which is longer than the specified 500\n",
      "Created a chunk of size 639, which is longer than the specified 500\n",
      "Created a chunk of size 1908, which is longer than the specified 500\n",
      "Created a chunk of size 629, which is longer than the specified 500\n",
      "Created a chunk of size 3374, which is longer than the specified 500\n",
      "Created a chunk of size 14328, which is longer than the specified 500\n",
      "Created a chunk of size 13862, which is longer than the specified 500\n",
      "Created a chunk of size 782, which is longer than the specified 500\n",
      "Created a chunk of size 4016, which is longer than the specified 500\n",
      "Created a chunk of size 3801, which is longer than the specified 500\n",
      "Created a chunk of size 1126, which is longer than the specified 500\n",
      "Created a chunk of size 853, which is longer than the specified 500\n",
      "Created a chunk of size 600, which is longer than the specified 500\n",
      "Created a chunk of size 536, which is longer than the specified 500\n",
      "Created a chunk of size 543, which is longer than the specified 500\n",
      "Created a chunk of size 538, which is longer than the specified 500\n",
      "Created a chunk of size 532, which is longer than the specified 500\n",
      "Created a chunk of size 628, which is longer than the specified 500\n",
      "Created a chunk of size 1470, which is longer than the specified 500\n",
      "Created a chunk of size 2334, which is longer than the specified 500\n",
      "Created a chunk of size 959, which is longer than the specified 500\n",
      "Created a chunk of size 2236, which is longer than the specified 500\n",
      "Created a chunk of size 2313, which is longer than the specified 500\n",
      "Created a chunk of size 10027, which is longer than the specified 500\n",
      "Created a chunk of size 10027, which is longer than the specified 500\n",
      "Created a chunk of size 760, which is longer than the specified 500\n",
      "Created a chunk of size 1497, which is longer than the specified 500\n",
      "Created a chunk of size 1335, which is longer than the specified 500\n",
      "Created a chunk of size 2456, which is longer than the specified 500\n",
      "Created a chunk of size 5769, which is longer than the specified 500\n",
      "Created a chunk of size 4310, which is longer than the specified 500\n",
      "Created a chunk of size 1135, which is longer than the specified 500\n",
      "Created a chunk of size 825, which is longer than the specified 500\n",
      "Created a chunk of size 4405, which is longer than the specified 500\n",
      "Created a chunk of size 3310, which is longer than the specified 500\n",
      "Created a chunk of size 3310, which is longer than the specified 500\n",
      "Created a chunk of size 670, which is longer than the specified 500\n",
      "Created a chunk of size 807, which is longer than the specified 500\n",
      "Created a chunk of size 1098, which is longer than the specified 500\n",
      "Created a chunk of size 4538, which is longer than the specified 500\n",
      "Created a chunk of size 4538, which is longer than the specified 500\n",
      "Created a chunk of size 1671, which is longer than the specified 500\n",
      "Created a chunk of size 1263, which is longer than the specified 500\n",
      "Created a chunk of size 905, which is longer than the specified 500\n",
      "Created a chunk of size 794, which is longer than the specified 500\n",
      "Created a chunk of size 1238, which is longer than the specified 500\n",
      "Created a chunk of size 2120, which is longer than the specified 500\n",
      "Created a chunk of size 773, which is longer than the specified 500\n",
      "Created a chunk of size 1216, which is longer than the specified 500\n",
      "Created a chunk of size 1239, which is longer than the specified 500\n",
      "Created a chunk of size 1701, which is longer than the specified 500\n",
      "Created a chunk of size 1044, which is longer than the specified 500\n",
      "Created a chunk of size 855, which is longer than the specified 500\n",
      "Created a chunk of size 630, which is longer than the specified 500\n",
      "Created a chunk of size 1149, which is longer than the specified 500\n",
      "Created a chunk of size 1824, which is longer than the specified 500\n",
      "Created a chunk of size 6760, which is longer than the specified 500\n",
      "Created a chunk of size 29174, which is longer than the specified 500\n",
      "Created a chunk of size 24607, which is longer than the specified 500\n",
      "Created a chunk of size 725, which is longer than the specified 500\n",
      "Created a chunk of size 732, which is longer than the specified 500\n",
      "Created a chunk of size 532, which is longer than the specified 500\n",
      "Created a chunk of size 5461, which is longer than the specified 500\n",
      "Created a chunk of size 1040, which is longer than the specified 500\n",
      "Created a chunk of size 7320, which is longer than the specified 500\n",
      "Created a chunk of size 7322, which is longer than the specified 500\n",
      "Created a chunk of size 691, which is longer than the specified 500\n",
      "Created a chunk of size 629, which is longer than the specified 500\n",
      "Created a chunk of size 1912, which is longer than the specified 500\n",
      "Created a chunk of size 1912, which is longer than the specified 500\n",
      "Created a chunk of size 570, which is longer than the specified 500\n",
      "Created a chunk of size 1299, which is longer than the specified 500\n",
      "Created a chunk of size 736, which is longer than the specified 500\n",
      "Created a chunk of size 2464, which is longer than the specified 500\n",
      "Created a chunk of size 4669, which is longer than the specified 500\n",
      "Created a chunk of size 4466, which is longer than the specified 500\n",
      "Created a chunk of size 1099, which is longer than the specified 500\n",
      "Created a chunk of size 530, which is longer than the specified 500\n",
      "Created a chunk of size 665, which is longer than the specified 500\n",
      "Created a chunk of size 607, which is longer than the specified 500\n",
      "Created a chunk of size 675, which is longer than the specified 500\n",
      "Created a chunk of size 681, which is longer than the specified 500\n",
      "Created a chunk of size 1007, which is longer than the specified 500\n",
      "Created a chunk of size 630, which is longer than the specified 500\n",
      "Created a chunk of size 507, which is longer than the specified 500\n",
      "Created a chunk of size 575, which is longer than the specified 500\n",
      "Created a chunk of size 645, which is longer than the specified 500\n",
      "Created a chunk of size 810, which is longer than the specified 500\n",
      "Created a chunk of size 1716, which is longer than the specified 500\n",
      "Created a chunk of size 2289, which is longer than the specified 500\n",
      "Created a chunk of size 608, which is longer than the specified 500\n",
      "Created a chunk of size 1551, which is longer than the specified 500\n",
      "Created a chunk of size 505, which is longer than the specified 500\n",
      "Created a chunk of size 794, which is longer than the specified 500\n",
      "Created a chunk of size 1221, which is longer than the specified 500\n",
      "Created a chunk of size 1701, which is longer than the specified 500\n",
      "Created a chunk of size 665, which is longer than the specified 500\n",
      "Created a chunk of size 730, which is longer than the specified 500\n",
      "Created a chunk of size 6063, which is longer than the specified 500\n",
      "Created a chunk of size 32192, which is longer than the specified 500\n",
      "Created a chunk of size 1307, which is longer than the specified 500\n",
      "Created a chunk of size 633, which is longer than the specified 500\n",
      "Created a chunk of size 528, which is longer than the specified 500\n",
      "Created a chunk of size 28775, which is longer than the specified 500\n",
      "Created a chunk of size 559, which is longer than the specified 500\n",
      "Created a chunk of size 798, which is longer than the specified 500\n",
      "Created a chunk of size 3534, which is longer than the specified 500\n",
      "Created a chunk of size 3283, which is longer than the specified 500\n",
      "Created a chunk of size 1034, which is longer than the specified 500\n",
      "Created a chunk of size 810, which is longer than the specified 500\n",
      "Created a chunk of size 2990, which is longer than the specified 500\n",
      "Created a chunk of size 11223, which is longer than the specified 500\n",
      "Created a chunk of size 2966, which is longer than the specified 500\n",
      "Created a chunk of size 502, which is longer than the specified 500\n",
      "Created a chunk of size 527, which is longer than the specified 500\n",
      "Created a chunk of size 1405, which is longer than the specified 500\n",
      "Created a chunk of size 6712, which is longer than the specified 500\n",
      "Created a chunk of size 6521, which is longer than the specified 500\n",
      "Created a chunk of size 506, which is longer than the specified 500\n",
      "Created a chunk of size 592, which is longer than the specified 500\n",
      "Created a chunk of size 1654, which is longer than the specified 500\n",
      "Created a chunk of size 554, which is longer than the specified 500\n",
      "Created a chunk of size 993, which is longer than the specified 500\n",
      "Created a chunk of size 988, which is longer than the specified 500\n",
      "Created a chunk of size 1001, which is longer than the specified 500\n",
      "Created a chunk of size 2002, which is longer than the specified 500\n",
      "Created a chunk of size 1279, which is longer than the specified 500\n",
      "Created a chunk of size 1033, which is longer than the specified 500\n",
      "Created a chunk of size 1117, which is longer than the specified 500\n",
      "Created a chunk of size 3700, which is longer than the specified 500\n",
      "Created a chunk of size 6928, which is longer than the specified 500\n",
      "Created a chunk of size 7093, which is longer than the specified 500\n",
      "Created a chunk of size 676, which is longer than the specified 500\n",
      "Created a chunk of size 1430, which is longer than the specified 500\n",
      "Created a chunk of size 1300, which is longer than the specified 500\n",
      "Created a chunk of size 1275, which is longer than the specified 500\n",
      "Created a chunk of size 1153, which is longer than the specified 500\n",
      "Created a chunk of size 933, which is longer than the specified 500\n",
      "Created a chunk of size 933, which is longer than the specified 500\n",
      "Created a chunk of size 616, which is longer than the specified 500\n",
      "Created a chunk of size 695, which is longer than the specified 500\n",
      "Created a chunk of size 621, which is longer than the specified 500\n",
      "Created a chunk of size 722, which is longer than the specified 500\n",
      "Created a chunk of size 1167, which is longer than the specified 500\n",
      "Created a chunk of size 2249, which is longer than the specified 500\n",
      "Created a chunk of size 597, which is longer than the specified 500\n",
      "Created a chunk of size 2672, which is longer than the specified 500\n",
      "Created a chunk of size 2721, which is longer than the specified 500\n",
      "Created a chunk of size 9275, which is longer than the specified 500\n",
      "Created a chunk of size 808, which is longer than the specified 500\n",
      "Created a chunk of size 616, which is longer than the specified 500\n",
      "Created a chunk of size 695, which is longer than the specified 500\n",
      "Created a chunk of size 621, which is longer than the specified 500\n",
      "Created a chunk of size 723, which is longer than the specified 500\n",
      "Created a chunk of size 1090, which is longer than the specified 500\n",
      "Created a chunk of size 2041, which is longer than the specified 500\n",
      "Created a chunk of size 558, which is longer than the specified 500\n",
      "Created a chunk of size 2650, which is longer than the specified 500\n",
      "Created a chunk of size 2721, which is longer than the specified 500\n",
      "Created a chunk of size 8960, which is longer than the specified 500\n",
      "Created a chunk of size 9301, which is longer than the specified 500\n",
      "Created a chunk of size 593, which is longer than the specified 500\n",
      "Created a chunk of size 1769, which is longer than the specified 500\n",
      "Created a chunk of size 5960, which is longer than the specified 500\n",
      "Created a chunk of size 4012, which is longer than the specified 500\n",
      "Created a chunk of size 1999, which is longer than the specified 500\n",
      "Created a chunk of size 863, which is longer than the specified 500\n",
      "Created a chunk of size 2081, which is longer than the specified 500\n",
      "Created a chunk of size 2081, which is longer than the specified 500\n",
      "Created a chunk of size 1078, which is longer than the specified 500\n",
      "Created a chunk of size 1035, which is longer than the specified 500\n",
      "Created a chunk of size 1534, which is longer than the specified 500\n",
      "Created a chunk of size 708, which is longer than the specified 500\n",
      "Created a chunk of size 683, which is longer than the specified 500\n",
      "Created a chunk of size 502, which is longer than the specified 500\n",
      "Created a chunk of size 2160, which is longer than the specified 500\n",
      "Created a chunk of size 8789, which is longer than the specified 500\n",
      "Created a chunk of size 7957, which is longer than the specified 500\n",
      "Created a chunk of size 504, which is longer than the specified 500\n",
      "Created a chunk of size 599, which is longer than the specified 500\n",
      "Created a chunk of size 742, which is longer than the specified 500\n",
      "Created a chunk of size 539, which is longer than the specified 500\n",
      "Created a chunk of size 1256, which is longer than the specified 500\n",
      "Created a chunk of size 1423, which is longer than the specified 500\n",
      "Created a chunk of size 561, which is longer than the specified 500\n",
      "Created a chunk of size 1866, which is longer than the specified 500\n",
      "Created a chunk of size 830, which is longer than the specified 500\n",
      "Created a chunk of size 1009, which is longer than the specified 500\n",
      "Created a chunk of size 632, which is longer than the specified 500\n",
      "Created a chunk of size 2384, which is longer than the specified 500\n",
      "Created a chunk of size 2384, which is longer than the specified 500\n",
      "Created a chunk of size 1490, which is longer than the specified 500\n",
      "Created a chunk of size 1654, which is longer than the specified 500\n",
      "Created a chunk of size 785, which is longer than the specified 500\n",
      "Created a chunk of size 4434, which is longer than the specified 500\n",
      "Created a chunk of size 4015, which is longer than the specified 500\n",
      "Created a chunk of size 606, which is longer than the specified 500\n",
      "Created a chunk of size 702, which is longer than the specified 500\n",
      "Created a chunk of size 987, which is longer than the specified 500\n",
      "Created a chunk of size 622, which is longer than the specified 500\n",
      "Created a chunk of size 866, which is longer than the specified 500\n",
      "Created a chunk of size 2094, which is longer than the specified 500\n",
      "Created a chunk of size 2089, which is longer than the specified 500\n",
      "Created a chunk of size 557, which is longer than the specified 500\n",
      "Created a chunk of size 904, which is longer than the specified 500\n",
      "Created a chunk of size 550, which is longer than the specified 500\n",
      "Created a chunk of size 948, which is longer than the specified 500\n",
      "Created a chunk of size 927, which is longer than the specified 500\n",
      "Created a chunk of size 1704, which is longer than the specified 500\n",
      "Created a chunk of size 4346, which is longer than the specified 500\n",
      "Created a chunk of size 1254, which is longer than the specified 500\n",
      "Created a chunk of size 1507, which is longer than the specified 500\n",
      "Created a chunk of size 5392, which is longer than the specified 500\n",
      "Created a chunk of size 2458, which is longer than the specified 500\n",
      "Created a chunk of size 1329, which is longer than the specified 500\n",
      "Created a chunk of size 529, which is longer than the specified 500\n",
      "Created a chunk of size 721, which is longer than the specified 500\n",
      "Created a chunk of size 769, which is longer than the specified 500\n",
      "Created a chunk of size 1118, which is longer than the specified 500\n",
      "Created a chunk of size 2816, which is longer than the specified 500\n",
      "Created a chunk of size 1539, which is longer than the specified 500\n",
      "Created a chunk of size 1069, which is longer than the specified 500\n",
      "Created a chunk of size 1075, which is longer than the specified 500\n",
      "Created a chunk of size 559, which is longer than the specified 500\n",
      "Created a chunk of size 940, which is longer than the specified 500\n",
      "Created a chunk of size 3313, which is longer than the specified 500\n",
      "Created a chunk of size 3285, which is longer than the specified 500\n",
      "Created a chunk of size 1180, which is longer than the specified 500\n",
      "Created a chunk of size 618, which is longer than the specified 500\n",
      "Created a chunk of size 3318, which is longer than the specified 500\n",
      "Created a chunk of size 2696, which is longer than the specified 500\n",
      "Created a chunk of size 12140, which is longer than the specified 500\n",
      "Created a chunk of size 5619, which is longer than the specified 500\n",
      "Created a chunk of size 714, which is longer than the specified 500\n",
      "Created a chunk of size 1872, which is longer than the specified 500\n",
      "Created a chunk of size 1821, which is longer than the specified 500\n",
      "Created a chunk of size 563, which is longer than the specified 500\n",
      "Created a chunk of size 2826, which is longer than the specified 500\n",
      "Created a chunk of size 2004, which is longer than the specified 500\n",
      "Created a chunk of size 2845, which is longer than the specified 500\n",
      "Created a chunk of size 1283, which is longer than the specified 500\n",
      "Created a chunk of size 1039, which is longer than the specified 500\n",
      "Created a chunk of size 1115, which is longer than the specified 500\n",
      "Created a chunk of size 3708, which is longer than the specified 500\n",
      "Created a chunk of size 7181, which is longer than the specified 500\n",
      "Created a chunk of size 9084, which is longer than the specified 500\n",
      "Created a chunk of size 731, which is longer than the specified 500\n",
      "Created a chunk of size 2146, which is longer than the specified 500\n",
      "Created a chunk of size 1557, which is longer than the specified 500\n",
      "Created a chunk of size 1167, which is longer than the specified 500\n",
      "Created a chunk of size 1174, which is longer than the specified 500\n",
      "Created a chunk of size 1002, which is longer than the specified 500\n",
      "Created a chunk of size 1421, which is longer than the specified 500\n",
      "Created a chunk of size 526, which is longer than the specified 500\n",
      "Created a chunk of size 1741, which is longer than the specified 500\n",
      "Created a chunk of size 515, which is longer than the specified 500\n",
      "Created a chunk of size 1798, which is longer than the specified 500\n",
      "Created a chunk of size 2073, which is longer than the specified 500\n",
      "Created a chunk of size 5401, which is longer than the specified 500\n",
      "Created a chunk of size 1748, which is longer than the specified 500\n",
      "Created a chunk of size 1863, which is longer than the specified 500\n",
      "Created a chunk of size 1861, which is longer than the specified 500\n",
      "Created a chunk of size 2701, which is longer than the specified 500\n",
      "Created a chunk of size 1357, which is longer than the specified 500\n",
      "Created a chunk of size 584, which is longer than the specified 500\n",
      "Created a chunk of size 2390, which is longer than the specified 500\n",
      "Created a chunk of size 2271, which is longer than the specified 500\n",
      "Created a chunk of size 593, which is longer than the specified 500\n",
      "Created a chunk of size 1153, which is longer than the specified 500\n",
      "Created a chunk of size 548, which is longer than the specified 500\n",
      "Created a chunk of size 520, which is longer than the specified 500\n",
      "Created a chunk of size 738, which is longer than the specified 500\n",
      "Created a chunk of size 611, which is longer than the specified 500\n"
     ]
    },
    {
     "name": "stdout",
     "output_type": "stream",
     "text": [
      "Divided into 1765 chunks\n"
     ]
    }
   ],
   "source": [
    "text_splitter = CharacterTextSplitter(chunk_size=500, chunk_overlap=100)\n",
    "chunks = text_splitter.split_documents(documents)\n",
    "\n",
    "print(f\"Divided into {len(chunks)} chunks\")"
   ]
  },
  {
   "cell_type": "markdown",
   "metadata": {},
   "source": [
    "## A sidenote on Embeddings, and \"Auto-Encoding LLMs\"\n",
    "\n",
    "We will be mapping each chunk of text into a Vector that represents the meaning of the text, known as an embedding.\n",
    "\n",
    "OpenAI offers a model to do this, which we will use by calling their API with some LangChain code.\n",
    "\n",
    "This model is an example of an \"Auto-Encoding LLM\" which generates an output given a complete input.\n",
    "It's different to all the other LLMs we've discussed today, which are known as \"Auto-Regressive LLMs\", and generate future tokens based only on past context.\n",
    "\n",
    "Another example of an Auto-Encoding LLMs is BERT from Google. In addition to embedding, Auto-encoding LLMs are often used for classification.\n",
    "\n",
    "More details in the resources."
   ]
  },
  {
   "cell_type": "code",
   "execution_count": 11,
   "metadata": {},
   "outputs": [
    {
     "name": "stdout",
     "output_type": "stream",
     "text": [
      "Vectorstore created with 1765 documents\n"
     ]
    }
   ],
   "source": [
    "# Put the chunks of data into a Vector Store that associates a Vector Embedding with each chunk\n",
    "# Chroma is a popular open source Vector Database based on SQLLite\n",
    "\n",
    "embeddings = OpenAIEmbeddings()\n",
    "\n",
    "# Delete if already exists\n",
    "\n",
    "if os.path.exists(db_name):\n",
    "    Chroma(persist_directory=db_name, embedding_function=embeddings).delete_collection()\n",
    "\n",
    "# Create vectorstore\n",
    "\n",
    "vectorstore = Chroma.from_documents(documents=chunks, embedding=embeddings, persist_directory=db_name)\n",
    "print(f\"Vectorstore created with {vectorstore._collection.count()} documents\")"
   ]
  },
  {
   "cell_type": "code",
   "execution_count": 12,
   "metadata": {},
   "outputs": [
    {
     "name": "stdout",
     "output_type": "stream",
     "text": [
      "There are 1,765 vectors with 1,536 dimensions in the vector store\n"
     ]
    }
   ],
   "source": [
    "# Let's investigate the vectors\n",
    "\n",
    "collection = vectorstore._collection\n",
    "count = collection.count()\n",
    "\n",
    "sample_embedding = collection.get(limit=1, include=[\"embeddings\"])[\"embeddings\"][0]\n",
    "dimensions = len(sample_embedding)\n",
    "print(f\"There are {count:,} vectors with {dimensions:,} dimensions in the vector store\")"
   ]
  },
  {
   "cell_type": "markdown",
   "metadata": {},
   "source": [
    "## Visualizing the Vector Store\n",
    "\n",
    "Let's take a minute to look at the documents and their embedding vectors to see what's going on."
   ]
  },
  {
   "cell_type": "code",
   "execution_count": 14,
   "metadata": {},
   "outputs": [
    {
     "name": "stdout",
     "output_type": "stream",
     "text": [
      "[{'doc_type': 'azurerm_api_management', 'source': 'knowledge-base\\\\terraform_modules\\\\azurerm_api_management\\\\README.md'}, {'doc_type': 'azurerm_api_management', 'source': 'knowledge-base\\\\terraform_modules\\\\azurerm_api_management\\\\README.md'}, {'doc_type': 'azurerm_api_management', 'source': 'knowledge-base\\\\terraform_modules\\\\azurerm_api_management\\\\README.md'}, {'doc_type': 'azurerm_api_management', 'source': 'knowledge-base\\\\terraform_modules\\\\azurerm_api_management\\\\README.md'}, {'source': 'knowledge-base\\\\terraform_modules\\\\azurerm_api_management\\\\README.md', 'doc_type': 'azurerm_api_management'}, {'doc_type': 'azurerm_api_management', 'source': 'knowledge-base\\\\terraform_modules\\\\azurerm_api_management\\\\README.md'}, {'doc_type': 'azurerm_api_management', 'source': 'knowledge-base\\\\terraform_modules\\\\azurerm_api_management\\\\README.md'}, {'source': 'knowledge-base\\\\terraform_modules\\\\azurerm_api_management\\\\README.md', 'doc_type': 'azurerm_api_management'}, {'source': 'knowledge-base\\\\terraform_modules\\\\azurerm_api_management\\\\README.md', 'doc_type': 'azurerm_api_management'}, {'source': 'knowledge-base\\\\terraform_modules\\\\azurerm_api_management\\\\README.md', 'doc_type': 'azurerm_api_management'}, {'doc_type': 'azurerm_api_management', 'source': 'knowledge-base\\\\terraform_modules\\\\azurerm_api_management\\\\README.md'}, {'doc_type': 'azurerm_api_management', 'source': 'knowledge-base\\\\terraform_modules\\\\azurerm_api_management\\\\README.md'}, {'source': 'knowledge-base\\\\terraform_modules\\\\azurerm_api_management\\\\README.md', 'doc_type': 'azurerm_api_management'}, {'doc_type': 'azurerm_api_management', 'source': 'knowledge-base\\\\terraform_modules\\\\azurerm_api_management\\\\README.md'}, {'doc_type': 'azurerm_api_management', 'source': 'knowledge-base\\\\terraform_modules\\\\azurerm_api_management\\\\README.md'}, {'source': 'knowledge-base\\\\terraform_modules\\\\azurerm_api_management\\\\README.md', 'doc_type': 'azurerm_api_management'}, {'source': 'knowledge-base\\\\terraform_modules\\\\azurerm_api_management\\\\README.md', 'doc_type': 'azurerm_api_management'}, {'doc_type': 'azurerm_api_management', 'source': 'knowledge-base\\\\terraform_modules\\\\azurerm_api_management\\\\README.md'}, {'doc_type': 'azurerm_api_management', 'source': 'knowledge-base\\\\terraform_modules\\\\azurerm_api_management\\\\README.md'}, {'doc_type': 'azurerm_api_management', 'source': 'knowledge-base\\\\terraform_modules\\\\azurerm_api_management\\\\README.md'}, {'source': 'knowledge-base\\\\terraform_modules\\\\azurerm_api_management\\\\README.md', 'doc_type': 'azurerm_api_management'}, {'doc_type': 'azurerm_api_management', 'source': 'knowledge-base\\\\terraform_modules\\\\azurerm_api_management\\\\README.md'}, {'doc_type': 'azurerm_api_management', 'source': 'knowledge-base\\\\terraform_modules\\\\azurerm_api_management\\\\README.md'}, {'doc_type': 'azurerm_api_management', 'source': 'knowledge-base\\\\terraform_modules\\\\azurerm_api_management\\\\README.md'}, {'source': 'knowledge-base\\\\terraform_modules\\\\azurerm_api_management\\\\README.md', 'doc_type': 'azurerm_api_management'}, {'source': 'knowledge-base\\\\terraform_modules\\\\azurerm_api_management\\\\README.md', 'doc_type': 'azurerm_api_management'}, {'doc_type': 'azurerm_api_management', 'source': 'knowledge-base\\\\terraform_modules\\\\azurerm_api_management\\\\README.md'}, {'doc_type': 'azurerm_api_management', 'source': 'knowledge-base\\\\terraform_modules\\\\azurerm_api_management\\\\README.md'}, {'source': 'knowledge-base\\\\terraform_modules\\\\azurerm_api_management\\\\README.md', 'doc_type': 'azurerm_api_management'}, {'doc_type': 'azurerm_api_management', 'source': 'knowledge-base\\\\terraform_modules\\\\azurerm_api_management\\\\README.md'}, {'source': 'knowledge-base\\\\terraform_modules\\\\azurerm_api_management\\\\RELEASES.md', 'doc_type': 'azurerm_api_management'}, {'source': 'knowledge-base\\\\terraform_modules\\\\azurerm_api_management\\\\RELEASES.md', 'doc_type': 'azurerm_api_management'}, {'doc_type': 'azurerm_api_management', 'source': 'knowledge-base\\\\terraform_modules\\\\azurerm_api_management\\\\RELEASES.md'}, {'source': 'knowledge-base\\\\terraform_modules\\\\azurerm_api_management\\\\Tests\\\\README.md', 'doc_type': 'azurerm_api_management'}, {'source': 'knowledge-base\\\\terraform_modules\\\\azurerm_api_management\\\\Tests\\\\README.md', 'doc_type': 'azurerm_api_management'}, {'doc_type': 'azurerm_api_management', 'source': 'knowledge-base\\\\terraform_modules\\\\azurerm_api_management\\\\Tests\\\\README.md'}, {'source': 'knowledge-base\\\\terraform_modules\\\\azurerm_api_management\\\\Tests\\\\README.md', 'doc_type': 'azurerm_api_management'}, {'source': 'knowledge-base\\\\terraform_modules\\\\azurerm_api_management\\\\Tests\\\\README.md', 'doc_type': 'azurerm_api_management'}, {'source': 'knowledge-base\\\\terraform_modules\\\\azurerm_api_management\\\\Tests\\\\README.md', 'doc_type': 'azurerm_api_management'}, {'doc_type': 'azurerm_application_gateway', 'source': 'knowledge-base\\\\terraform_modules\\\\azurerm_application_gateway\\\\README.md'}, {'doc_type': 'azurerm_application_gateway', 'source': 'knowledge-base\\\\terraform_modules\\\\azurerm_application_gateway\\\\README.md'}, {'source': 'knowledge-base\\\\terraform_modules\\\\azurerm_application_gateway\\\\README.md', 'doc_type': 'azurerm_application_gateway'}, {'doc_type': 'azurerm_application_gateway', 'source': 'knowledge-base\\\\terraform_modules\\\\azurerm_application_gateway\\\\README.md'}, {'source': 'knowledge-base\\\\terraform_modules\\\\azurerm_application_gateway\\\\README.md', 'doc_type': 'azurerm_application_gateway'}, {'doc_type': 'azurerm_application_gateway', 'source': 'knowledge-base\\\\terraform_modules\\\\azurerm_application_gateway\\\\README.md'}, {'source': 'knowledge-base\\\\terraform_modules\\\\azurerm_application_gateway\\\\README.md', 'doc_type': 'azurerm_application_gateway'}, {'doc_type': 'azurerm_application_gateway', 'source': 'knowledge-base\\\\terraform_modules\\\\azurerm_application_gateway\\\\README.md'}, {'doc_type': 'azurerm_application_gateway', 'source': 'knowledge-base\\\\terraform_modules\\\\azurerm_application_gateway\\\\README.md'}, {'source': 'knowledge-base\\\\terraform_modules\\\\azurerm_application_gateway\\\\README.md', 'doc_type': 'azurerm_application_gateway'}, {'doc_type': 'azurerm_application_gateway', 'source': 'knowledge-base\\\\terraform_modules\\\\azurerm_application_gateway\\\\README.md'}, {'doc_type': 'azurerm_application_gateway', 'source': 'knowledge-base\\\\terraform_modules\\\\azurerm_application_gateway\\\\README.md'}, {'doc_type': 'azurerm_application_gateway', 'source': 'knowledge-base\\\\terraform_modules\\\\azurerm_application_gateway\\\\README.md'}, {'doc_type': 'azurerm_application_gateway', 'source': 'knowledge-base\\\\terraform_modules\\\\azurerm_application_gateway\\\\README.md'}, {'source': 'knowledge-base\\\\terraform_modules\\\\azurerm_application_gateway\\\\README.md', 'doc_type': 'azurerm_application_gateway'}, {'doc_type': 'azurerm_application_gateway', 'source': 'knowledge-base\\\\terraform_modules\\\\azurerm_application_gateway\\\\README.md'}, {'source': 'knowledge-base\\\\terraform_modules\\\\azurerm_application_gateway\\\\README.md', 'doc_type': 'azurerm_application_gateway'}, {'source': 'knowledge-base\\\\terraform_modules\\\\azurerm_application_gateway\\\\README.md', 'doc_type': 'azurerm_application_gateway'}, {'doc_type': 'azurerm_application_gateway', 'source': 'knowledge-base\\\\terraform_modules\\\\azurerm_application_gateway\\\\README.md'}, {'doc_type': 'azurerm_application_gateway', 'source': 'knowledge-base\\\\terraform_modules\\\\azurerm_application_gateway\\\\README.md'}, {'doc_type': 'azurerm_application_gateway', 'source': 'knowledge-base\\\\terraform_modules\\\\azurerm_application_gateway\\\\README.md'}, {'source': 'knowledge-base\\\\terraform_modules\\\\azurerm_application_gateway\\\\README.md', 'doc_type': 'azurerm_application_gateway'}, {'doc_type': 'azurerm_application_gateway', 'source': 'knowledge-base\\\\terraform_modules\\\\azurerm_application_gateway\\\\README.md'}, {'source': 'knowledge-base\\\\terraform_modules\\\\azurerm_application_gateway\\\\README.md', 'doc_type': 'azurerm_application_gateway'}, {'doc_type': 'azurerm_application_gateway', 'source': 'knowledge-base\\\\terraform_modules\\\\azurerm_application_gateway\\\\README.md'}, {'source': 'knowledge-base\\\\terraform_modules\\\\azurerm_application_gateway\\\\README.md', 'doc_type': 'azurerm_application_gateway'}, {'doc_type': 'azurerm_application_gateway', 'source': 'knowledge-base\\\\terraform_modules\\\\azurerm_application_gateway\\\\README.md'}, {'source': 'knowledge-base\\\\terraform_modules\\\\azurerm_application_gateway\\\\README.md', 'doc_type': 'azurerm_application_gateway'}, {'source': 'knowledge-base\\\\terraform_modules\\\\azurerm_application_gateway\\\\README.md', 'doc_type': 'azurerm_application_gateway'}, {'source': 'knowledge-base\\\\terraform_modules\\\\azurerm_application_gateway\\\\README.md', 'doc_type': 'azurerm_application_gateway'}, {'doc_type': 'azurerm_application_gateway', 'source': 'knowledge-base\\\\terraform_modules\\\\azurerm_application_gateway\\\\README.md'}, {'source': 'knowledge-base\\\\terraform_modules\\\\azurerm_application_gateway\\\\README.md', 'doc_type': 'azurerm_application_gateway'}, {'doc_type': 'azurerm_application_gateway', 'source': 'knowledge-base\\\\terraform_modules\\\\azurerm_application_gateway\\\\README.md'}, {'source': 'knowledge-base\\\\terraform_modules\\\\azurerm_application_gateway\\\\README.md', 'doc_type': 'azurerm_application_gateway'}, {'source': 'knowledge-base\\\\terraform_modules\\\\azurerm_application_gateway\\\\README.md', 'doc_type': 'azurerm_application_gateway'}, {'doc_type': 'azurerm_application_gateway', 'source': 'knowledge-base\\\\terraform_modules\\\\azurerm_application_gateway\\\\README.md'}, {'doc_type': 'azurerm_application_gateway', 'source': 'knowledge-base\\\\terraform_modules\\\\azurerm_application_gateway\\\\README.md'}, {'source': 'knowledge-base\\\\terraform_modules\\\\azurerm_application_gateway\\\\README.md', 'doc_type': 'azurerm_application_gateway'}, {'source': 'knowledge-base\\\\terraform_modules\\\\azurerm_application_gateway\\\\RELEASES.md', 'doc_type': 'azurerm_application_gateway'}, {'source': 'knowledge-base\\\\terraform_modules\\\\azurerm_application_gateway\\\\RELEASES.md', 'doc_type': 'azurerm_application_gateway'}, {'source': 'knowledge-base\\\\terraform_modules\\\\azurerm_application_gateway\\\\RELEASES.md', 'doc_type': 'azurerm_application_gateway'}, {'source': 'knowledge-base\\\\terraform_modules\\\\azurerm_application_gateway\\\\RELEASES.md', 'doc_type': 'azurerm_application_gateway'}, {'source': 'knowledge-base\\\\terraform_modules\\\\azurerm_application_gateway\\\\Tests\\\\README.md', 'doc_type': 'azurerm_application_gateway'}, {'doc_type': 'azurerm_application_gateway', 'source': 'knowledge-base\\\\terraform_modules\\\\azurerm_application_gateway\\\\Tests\\\\README.md'}, {'source': 'knowledge-base\\\\terraform_modules\\\\azurerm_application_gateway\\\\Tests\\\\README.md', 'doc_type': 'azurerm_application_gateway'}, {'doc_type': 'azurerm_application_gateway', 'source': 'knowledge-base\\\\terraform_modules\\\\azurerm_application_gateway\\\\Tests\\\\README.md'}, {'doc_type': 'azurerm_application_gateway', 'source': 'knowledge-base\\\\terraform_modules\\\\azurerm_application_gateway\\\\Tests\\\\README.md'}, {'doc_type': 'azurerm_application_gateway', 'source': 'knowledge-base\\\\terraform_modules\\\\azurerm_application_gateway\\\\Tests\\\\README.md'}, {'source': 'knowledge-base\\\\terraform_modules\\\\azurerm_application_gateway\\\\Tests\\\\README.md', 'doc_type': 'azurerm_application_gateway'}, {'doc_type': 'azurerm_application_insights', 'source': 'knowledge-base\\\\terraform_modules\\\\azurerm_application_insights\\\\README.md'}, {'doc_type': 'azurerm_application_insights', 'source': 'knowledge-base\\\\terraform_modules\\\\azurerm_application_insights\\\\README.md'}, {'source': 'knowledge-base\\\\terraform_modules\\\\azurerm_application_insights\\\\README.md', 'doc_type': 'azurerm_application_insights'}, {'source': 'knowledge-base\\\\terraform_modules\\\\azurerm_application_insights\\\\README.md', 'doc_type': 'azurerm_application_insights'}, {'source': 'knowledge-base\\\\terraform_modules\\\\azurerm_application_insights\\\\README.md', 'doc_type': 'azurerm_application_insights'}, {'source': 'knowledge-base\\\\terraform_modules\\\\azurerm_application_insights\\\\README.md', 'doc_type': 'azurerm_application_insights'}, {'doc_type': 'azurerm_application_insights', 'source': 'knowledge-base\\\\terraform_modules\\\\azurerm_application_insights\\\\README.md'}, {'source': 'knowledge-base\\\\terraform_modules\\\\azurerm_application_insights\\\\README.md', 'doc_type': 'azurerm_application_insights'}, {'doc_type': 'azurerm_application_insights', 'source': 'knowledge-base\\\\terraform_modules\\\\azurerm_application_insights\\\\README.md'}, {'doc_type': 'azurerm_application_insights', 'source': 'knowledge-base\\\\terraform_modules\\\\azurerm_application_insights\\\\README.md'}, {'doc_type': 'azurerm_application_insights', 'source': 'knowledge-base\\\\terraform_modules\\\\azurerm_application_insights\\\\README.md'}, {'doc_type': 'azurerm_application_insights', 'source': 'knowledge-base\\\\terraform_modules\\\\azurerm_application_insights\\\\README.md'}, {'doc_type': 'azurerm_application_insights', 'source': 'knowledge-base\\\\terraform_modules\\\\azurerm_application_insights\\\\README.md'}, {'source': 'knowledge-base\\\\terraform_modules\\\\azurerm_application_insights\\\\README.md', 'doc_type': 'azurerm_application_insights'}, {'source': 'knowledge-base\\\\terraform_modules\\\\azurerm_application_insights\\\\RELEASES.md', 'doc_type': 'azurerm_application_insights'}, {'source': 'knowledge-base\\\\terraform_modules\\\\azurerm_application_insights\\\\RELEASES.md', 'doc_type': 'azurerm_application_insights'}, {'doc_type': 'azurerm_application_insights', 'source': 'knowledge-base\\\\terraform_modules\\\\azurerm_application_insights\\\\RELEASES.md'}, {'doc_type': 'azurerm_application_insights', 'source': 'knowledge-base\\\\terraform_modules\\\\azurerm_application_insights\\\\RELEASES.md'}, {'doc_type': 'azurerm_application_insights', 'source': 'knowledge-base\\\\terraform_modules\\\\azurerm_application_insights\\\\Tests\\\\README.md'}, {'doc_type': 'azurerm_application_insights', 'source': 'knowledge-base\\\\terraform_modules\\\\azurerm_application_insights\\\\Tests\\\\README.md'}, {'source': 'knowledge-base\\\\terraform_modules\\\\azurerm_application_insights\\\\Tests\\\\README.md', 'doc_type': 'azurerm_application_insights'}, {'doc_type': 'azurerm_application_insights', 'source': 'knowledge-base\\\\terraform_modules\\\\azurerm_application_insights\\\\Tests\\\\README.md'}, {'source': 'knowledge-base\\\\terraform_modules\\\\azurerm_app_configuration\\\\README.md', 'doc_type': 'azurerm_app_configuration'}, {'source': 'knowledge-base\\\\terraform_modules\\\\azurerm_app_configuration\\\\README.md', 'doc_type': 'azurerm_app_configuration'}, {'doc_type': 'azurerm_app_configuration', 'source': 'knowledge-base\\\\terraform_modules\\\\azurerm_app_configuration\\\\README.md'}, {'source': 'knowledge-base\\\\terraform_modules\\\\azurerm_app_configuration\\\\README.md', 'doc_type': 'azurerm_app_configuration'}, {'doc_type': 'azurerm_app_configuration', 'source': 'knowledge-base\\\\terraform_modules\\\\azurerm_app_configuration\\\\README.md'}, {'source': 'knowledge-base\\\\terraform_modules\\\\azurerm_app_configuration\\\\README.md', 'doc_type': 'azurerm_app_configuration'}, {'source': 'knowledge-base\\\\terraform_modules\\\\azurerm_app_configuration\\\\README.md', 'doc_type': 'azurerm_app_configuration'}, {'source': 'knowledge-base\\\\terraform_modules\\\\azurerm_app_configuration\\\\README.md', 'doc_type': 'azurerm_app_configuration'}, {'doc_type': 'azurerm_app_configuration', 'source': 'knowledge-base\\\\terraform_modules\\\\azurerm_app_configuration\\\\README.md'}, {'source': 'knowledge-base\\\\terraform_modules\\\\azurerm_app_configuration\\\\README.md', 'doc_type': 'azurerm_app_configuration'}, {'doc_type': 'azurerm_app_configuration', 'source': 'knowledge-base\\\\terraform_modules\\\\azurerm_app_configuration\\\\README.md'}, {'doc_type': 'azurerm_app_configuration', 'source': 'knowledge-base\\\\terraform_modules\\\\azurerm_app_configuration\\\\README.md'}, {'doc_type': 'azurerm_app_configuration', 'source': 'knowledge-base\\\\terraform_modules\\\\azurerm_app_configuration\\\\README.md'}, {'source': 'knowledge-base\\\\terraform_modules\\\\azurerm_app_configuration\\\\README.md', 'doc_type': 'azurerm_app_configuration'}, {'source': 'knowledge-base\\\\terraform_modules\\\\azurerm_app_configuration\\\\README.md', 'doc_type': 'azurerm_app_configuration'}, {'doc_type': 'azurerm_app_configuration', 'source': 'knowledge-base\\\\terraform_modules\\\\azurerm_app_configuration\\\\README.md'}, {'doc_type': 'azurerm_app_configuration', 'source': 'knowledge-base\\\\terraform_modules\\\\azurerm_app_configuration\\\\README.md'}, {'doc_type': 'azurerm_app_configuration', 'source': 'knowledge-base\\\\terraform_modules\\\\azurerm_app_configuration\\\\README.md'}, {'source': 'knowledge-base\\\\terraform_modules\\\\azurerm_app_configuration\\\\README.md', 'doc_type': 'azurerm_app_configuration'}, {'source': 'knowledge-base\\\\terraform_modules\\\\azurerm_app_configuration\\\\README.md', 'doc_type': 'azurerm_app_configuration'}, {'source': 'knowledge-base\\\\terraform_modules\\\\azurerm_app_configuration\\\\README.md', 'doc_type': 'azurerm_app_configuration'}, {'source': 'knowledge-base\\\\terraform_modules\\\\azurerm_app_configuration\\\\README.md', 'doc_type': 'azurerm_app_configuration'}, {'doc_type': 'azurerm_app_configuration', 'source': 'knowledge-base\\\\terraform_modules\\\\azurerm_app_configuration\\\\README.md'}, {'doc_type': 'azurerm_app_configuration', 'source': 'knowledge-base\\\\terraform_modules\\\\azurerm_app_configuration\\\\README.md'}, {'doc_type': 'azurerm_app_configuration', 'source': 'knowledge-base\\\\terraform_modules\\\\azurerm_app_configuration\\\\README.md'}, {'source': 'knowledge-base\\\\terraform_modules\\\\azurerm_app_configuration\\\\README.md', 'doc_type': 'azurerm_app_configuration'}, {'doc_type': 'azurerm_app_configuration', 'source': 'knowledge-base\\\\terraform_modules\\\\azurerm_app_configuration\\\\README.md'}, {'doc_type': 'azurerm_app_configuration', 'source': 'knowledge-base\\\\terraform_modules\\\\azurerm_app_configuration\\\\README.md'}, {'source': 'knowledge-base\\\\terraform_modules\\\\azurerm_app_configuration\\\\README.md', 'doc_type': 'azurerm_app_configuration'}, {'source': 'knowledge-base\\\\terraform_modules\\\\azurerm_app_configuration\\\\README.md', 'doc_type': 'azurerm_app_configuration'}, {'doc_type': 'azurerm_app_configuration', 'source': 'knowledge-base\\\\terraform_modules\\\\azurerm_app_configuration\\\\RELEASES.md'}, {'source': 'knowledge-base\\\\terraform_modules\\\\azurerm_app_configuration\\\\RELEASES.md', 'doc_type': 'azurerm_app_configuration'}, {'source': 'knowledge-base\\\\terraform_modules\\\\azurerm_app_configuration\\\\RELEASES.md', 'doc_type': 'azurerm_app_configuration'}, {'source': 'knowledge-base\\\\terraform_modules\\\\azurerm_app_configuration\\\\RELEASES.md', 'doc_type': 'azurerm_app_configuration'}, {'source': 'knowledge-base\\\\terraform_modules\\\\azurerm_app_configuration\\\\RELEASES.md', 'doc_type': 'azurerm_app_configuration'}, {'source': 'knowledge-base\\\\terraform_modules\\\\azurerm_app_configuration\\\\Tests\\\\README.md', 'doc_type': 'azurerm_app_configuration'}, {'doc_type': 'azurerm_app_configuration', 'source': 'knowledge-base\\\\terraform_modules\\\\azurerm_app_configuration\\\\Tests\\\\README.md'}, {'source': 'knowledge-base\\\\terraform_modules\\\\azurerm_app_configuration\\\\Tests\\\\README.md', 'doc_type': 'azurerm_app_configuration'}, {'doc_type': 'azurerm_app_configuration', 'source': 'knowledge-base\\\\terraform_modules\\\\azurerm_app_configuration\\\\Tests\\\\README.md'}, {'source': 'knowledge-base\\\\terraform_modules\\\\azurerm_container_app\\\\README.md', 'doc_type': 'azurerm_container_app'}, {'doc_type': 'azurerm_container_app', 'source': 'knowledge-base\\\\terraform_modules\\\\azurerm_container_app\\\\README.md'}, {'doc_type': 'azurerm_container_app', 'source': 'knowledge-base\\\\terraform_modules\\\\azurerm_container_app\\\\README.md'}, {'doc_type': 'azurerm_container_app', 'source': 'knowledge-base\\\\terraform_modules\\\\azurerm_container_app\\\\README.md'}, {'doc_type': 'azurerm_container_app', 'source': 'knowledge-base\\\\terraform_modules\\\\azurerm_container_app\\\\README.md'}, {'doc_type': 'azurerm_container_app', 'source': 'knowledge-base\\\\terraform_modules\\\\azurerm_container_app\\\\README.md'}, {'source': 'knowledge-base\\\\terraform_modules\\\\azurerm_container_app\\\\README.md', 'doc_type': 'azurerm_container_app'}, {'doc_type': 'azurerm_container_app', 'source': 'knowledge-base\\\\terraform_modules\\\\azurerm_container_app\\\\README.md'}, {'source': 'knowledge-base\\\\terraform_modules\\\\azurerm_container_app\\\\README.md', 'doc_type': 'azurerm_container_app'}, {'doc_type': 'azurerm_container_app', 'source': 'knowledge-base\\\\terraform_modules\\\\azurerm_container_app\\\\README.md'}, {'source': 'knowledge-base\\\\terraform_modules\\\\azurerm_container_app\\\\README.md', 'doc_type': 'azurerm_container_app'}, {'source': 'knowledge-base\\\\terraform_modules\\\\azurerm_container_app\\\\README.md', 'doc_type': 'azurerm_container_app'}, {'source': 'knowledge-base\\\\terraform_modules\\\\azurerm_container_app\\\\README.md', 'doc_type': 'azurerm_container_app'}, {'source': 'knowledge-base\\\\terraform_modules\\\\azurerm_container_app\\\\README.md', 'doc_type': 'azurerm_container_app'}, {'source': 'knowledge-base\\\\terraform_modules\\\\azurerm_container_app\\\\README.md', 'doc_type': 'azurerm_container_app'}, {'source': 'knowledge-base\\\\terraform_modules\\\\azurerm_container_app\\\\README.md', 'doc_type': 'azurerm_container_app'}, {'source': 'knowledge-base\\\\terraform_modules\\\\azurerm_container_app\\\\README.md', 'doc_type': 'azurerm_container_app'}, {'doc_type': 'azurerm_container_app', 'source': 'knowledge-base\\\\terraform_modules\\\\azurerm_container_app\\\\README.md'}, {'doc_type': 'azurerm_container_app', 'source': 'knowledge-base\\\\terraform_modules\\\\azurerm_container_app\\\\README.md'}, {'source': 'knowledge-base\\\\terraform_modules\\\\azurerm_container_app\\\\README.md', 'doc_type': 'azurerm_container_app'}, {'doc_type': 'azurerm_container_app', 'source': 'knowledge-base\\\\terraform_modules\\\\azurerm_container_app\\\\README.md'}, {'doc_type': 'azurerm_container_app', 'source': 'knowledge-base\\\\terraform_modules\\\\azurerm_container_app\\\\README.md'}, {'source': 'knowledge-base\\\\terraform_modules\\\\azurerm_container_app\\\\README.md', 'doc_type': 'azurerm_container_app'}, {'source': 'knowledge-base\\\\terraform_modules\\\\azurerm_container_app\\\\README.md', 'doc_type': 'azurerm_container_app'}, {'doc_type': 'azurerm_container_app', 'source': 'knowledge-base\\\\terraform_modules\\\\azurerm_container_app\\\\README.md'}, {'source': 'knowledge-base\\\\terraform_modules\\\\azurerm_container_app\\\\README.md', 'doc_type': 'azurerm_container_app'}, {'doc_type': 'azurerm_container_app', 'source': 'knowledge-base\\\\terraform_modules\\\\azurerm_container_app\\\\README.md'}, {'source': 'knowledge-base\\\\terraform_modules\\\\azurerm_container_app\\\\README.md', 'doc_type': 'azurerm_container_app'}, {'doc_type': 'azurerm_container_app', 'source': 'knowledge-base\\\\terraform_modules\\\\azurerm_container_app\\\\README.md'}, {'source': 'knowledge-base\\\\terraform_modules\\\\azurerm_container_app\\\\README.md', 'doc_type': 'azurerm_container_app'}, {'doc_type': 'azurerm_container_app', 'source': 'knowledge-base\\\\terraform_modules\\\\azurerm_container_app\\\\README.md'}, {'doc_type': 'azurerm_container_app', 'source': 'knowledge-base\\\\terraform_modules\\\\azurerm_container_app\\\\README.md'}, {'doc_type': 'azurerm_container_app', 'source': 'knowledge-base\\\\terraform_modules\\\\azurerm_container_app\\\\README.md'}, {'source': 'knowledge-base\\\\terraform_modules\\\\azurerm_container_app\\\\README.md', 'doc_type': 'azurerm_container_app'}, {'doc_type': 'azurerm_container_app', 'source': 'knowledge-base\\\\terraform_modules\\\\azurerm_container_app\\\\README.md'}, {'doc_type': 'azurerm_container_app', 'source': 'knowledge-base\\\\terraform_modules\\\\azurerm_container_app\\\\README.md'}, {'doc_type': 'azurerm_container_app', 'source': 'knowledge-base\\\\terraform_modules\\\\azurerm_container_app\\\\README.md'}, {'source': 'knowledge-base\\\\terraform_modules\\\\azurerm_container_app\\\\README.md', 'doc_type': 'azurerm_container_app'}, {'doc_type': 'azurerm_container_app', 'source': 'knowledge-base\\\\terraform_modules\\\\azurerm_container_app\\\\README.md'}, {'doc_type': 'azurerm_container_app', 'source': 'knowledge-base\\\\terraform_modules\\\\azurerm_container_app\\\\README.md'}, {'source': 'knowledge-base\\\\terraform_modules\\\\azurerm_container_app\\\\README.md', 'doc_type': 'azurerm_container_app'}, {'doc_type': 'azurerm_container_app', 'source': 'knowledge-base\\\\terraform_modules\\\\azurerm_container_app\\\\README.md'}, {'source': 'knowledge-base\\\\terraform_modules\\\\azurerm_container_app\\\\README.md', 'doc_type': 'azurerm_container_app'}, {'source': 'knowledge-base\\\\terraform_modules\\\\azurerm_container_app\\\\README.md', 'doc_type': 'azurerm_container_app'}, {'doc_type': 'azurerm_container_app', 'source': 'knowledge-base\\\\terraform_modules\\\\azurerm_container_app\\\\README.md'}, {'doc_type': 'azurerm_container_app', 'source': 'knowledge-base\\\\terraform_modules\\\\azurerm_container_app\\\\README.md'}, {'doc_type': 'azurerm_container_app', 'source': 'knowledge-base\\\\terraform_modules\\\\azurerm_container_app\\\\README.md'}, {'doc_type': 'azurerm_container_app', 'source': 'knowledge-base\\\\terraform_modules\\\\azurerm_container_app\\\\README.md'}, {'doc_type': 'azurerm_container_app', 'source': 'knowledge-base\\\\terraform_modules\\\\azurerm_container_app\\\\README.md'}, {'doc_type': 'azurerm_container_app', 'source': 'knowledge-base\\\\terraform_modules\\\\azurerm_container_app\\\\README.md'}, {'source': 'knowledge-base\\\\terraform_modules\\\\azurerm_container_app\\\\README.md', 'doc_type': 'azurerm_container_app'}, {'doc_type': 'azurerm_container_app', 'source': 'knowledge-base\\\\terraform_modules\\\\azurerm_container_app\\\\README.md'}, {'source': 'knowledge-base\\\\terraform_modules\\\\azurerm_container_app\\\\README.md', 'doc_type': 'azurerm_container_app'}, {'source': 'knowledge-base\\\\terraform_modules\\\\azurerm_container_app\\\\README.md', 'doc_type': 'azurerm_container_app'}, {'source': 'knowledge-base\\\\terraform_modules\\\\azurerm_container_app\\\\README.md', 'doc_type': 'azurerm_container_app'}, {'source': 'knowledge-base\\\\terraform_modules\\\\azurerm_container_app\\\\README.md', 'doc_type': 'azurerm_container_app'}, {'doc_type': 'azurerm_container_app', 'source': 'knowledge-base\\\\terraform_modules\\\\azurerm_container_app\\\\README.md'}, {'doc_type': 'azurerm_container_app', 'source': 'knowledge-base\\\\terraform_modules\\\\azurerm_container_app\\\\README.md'}, {'doc_type': 'azurerm_container_app', 'source': 'knowledge-base\\\\terraform_modules\\\\azurerm_container_app\\\\README.md'}, {'doc_type': 'azurerm_container_app', 'source': 'knowledge-base\\\\terraform_modules\\\\azurerm_container_app\\\\README.md'}, {'source': 'knowledge-base\\\\terraform_modules\\\\azurerm_container_app\\\\README.md', 'doc_type': 'azurerm_container_app'}, {'source': 'knowledge-base\\\\terraform_modules\\\\azurerm_container_app\\\\README.md', 'doc_type': 'azurerm_container_app'}, {'source': 'knowledge-base\\\\terraform_modules\\\\azurerm_container_app\\\\README.md', 'doc_type': 'azurerm_container_app'}, {'source': 'knowledge-base\\\\terraform_modules\\\\azurerm_container_app\\\\README.md', 'doc_type': 'azurerm_container_app'}, {'source': 'knowledge-base\\\\terraform_modules\\\\azurerm_container_app\\\\README.md', 'doc_type': 'azurerm_container_app'}, {'source': 'knowledge-base\\\\terraform_modules\\\\azurerm_container_app\\\\README.md', 'doc_type': 'azurerm_container_app'}, {'doc_type': 'azurerm_container_app', 'source': 'knowledge-base\\\\terraform_modules\\\\azurerm_container_app\\\\README.md'}, {'source': 'knowledge-base\\\\terraform_modules\\\\azurerm_container_app\\\\README.md', 'doc_type': 'azurerm_container_app'}, {'source': 'knowledge-base\\\\terraform_modules\\\\azurerm_container_app\\\\README.md', 'doc_type': 'azurerm_container_app'}, {'doc_type': 'azurerm_container_app', 'source': 'knowledge-base\\\\terraform_modules\\\\azurerm_container_app\\\\README.md'}, {'source': 'knowledge-base\\\\terraform_modules\\\\azurerm_container_app\\\\README.md', 'doc_type': 'azurerm_container_app'}, {'doc_type': 'azurerm_container_app', 'source': 'knowledge-base\\\\terraform_modules\\\\azurerm_container_app\\\\README.md'}, {'source': 'knowledge-base\\\\terraform_modules\\\\azurerm_container_app\\\\README.md', 'doc_type': 'azurerm_container_app'}, {'doc_type': 'azurerm_container_app', 'source': 'knowledge-base\\\\terraform_modules\\\\azurerm_container_app\\\\README.md'}, {'doc_type': 'azurerm_container_app', 'source': 'knowledge-base\\\\terraform_modules\\\\azurerm_container_app\\\\README.md'}, {'doc_type': 'azurerm_container_app', 'source': 'knowledge-base\\\\terraform_modules\\\\azurerm_container_app\\\\README.md'}, {'doc_type': 'azurerm_container_app', 'source': 'knowledge-base\\\\terraform_modules\\\\azurerm_container_app\\\\README.md'}, {'doc_type': 'azurerm_container_app', 'source': 'knowledge-base\\\\terraform_modules\\\\azurerm_container_app\\\\README.md'}, {'doc_type': 'azurerm_container_app', 'source': 'knowledge-base\\\\terraform_modules\\\\azurerm_container_app\\\\README.md'}, {'doc_type': 'azurerm_container_app', 'source': 'knowledge-base\\\\terraform_modules\\\\azurerm_container_app\\\\README.md'}, {'doc_type': 'azurerm_container_app', 'source': 'knowledge-base\\\\terraform_modules\\\\azurerm_container_app\\\\README.md'}, {'source': 'knowledge-base\\\\terraform_modules\\\\azurerm_container_app\\\\README.md', 'doc_type': 'azurerm_container_app'}, {'source': 'knowledge-base\\\\terraform_modules\\\\azurerm_container_app\\\\README.md', 'doc_type': 'azurerm_container_app'}, {'source': 'knowledge-base\\\\terraform_modules\\\\azurerm_container_app\\\\README.md', 'doc_type': 'azurerm_container_app'}, {'source': 'knowledge-base\\\\terraform_modules\\\\azurerm_container_app\\\\README.md', 'doc_type': 'azurerm_container_app'}, {'source': 'knowledge-base\\\\terraform_modules\\\\azurerm_container_app\\\\README.md', 'doc_type': 'azurerm_container_app'}, {'doc_type': 'azurerm_container_app', 'source': 'knowledge-base\\\\terraform_modules\\\\azurerm_container_app\\\\README.md'}, {'source': 'knowledge-base\\\\terraform_modules\\\\azurerm_container_app\\\\README.md', 'doc_type': 'azurerm_container_app'}, {'source': 'knowledge-base\\\\terraform_modules\\\\azurerm_container_app\\\\README.md', 'doc_type': 'azurerm_container_app'}, {'doc_type': 'azurerm_container_app', 'source': 'knowledge-base\\\\terraform_modules\\\\azurerm_container_app\\\\README.md'}, {'source': 'knowledge-base\\\\terraform_modules\\\\azurerm_container_app\\\\README.md', 'doc_type': 'azurerm_container_app'}, {'doc_type': 'azurerm_container_app', 'source': 'knowledge-base\\\\terraform_modules\\\\azurerm_container_app\\\\README.md'}, {'doc_type': 'azurerm_container_app', 'source': 'knowledge-base\\\\terraform_modules\\\\azurerm_container_app\\\\README.md'}, {'doc_type': 'azurerm_container_app', 'source': 'knowledge-base\\\\terraform_modules\\\\azurerm_container_app\\\\README.md'}, {'doc_type': 'azurerm_container_app', 'source': 'knowledge-base\\\\terraform_modules\\\\azurerm_container_app\\\\RELEASES.md'}, {'source': 'knowledge-base\\\\terraform_modules\\\\azurerm_container_app\\\\RELEASES.md', 'doc_type': 'azurerm_container_app'}, {'source': 'knowledge-base\\\\terraform_modules\\\\azurerm_container_app\\\\RELEASES.md', 'doc_type': 'azurerm_container_app'}, {'doc_type': 'azurerm_container_app', 'source': 'knowledge-base\\\\terraform_modules\\\\azurerm_container_app\\\\RELEASES.md'}, {'source': 'knowledge-base\\\\terraform_modules\\\\azurerm_container_app\\\\RELEASES.md', 'doc_type': 'azurerm_container_app'}, {'source': 'knowledge-base\\\\terraform_modules\\\\azurerm_container_app\\\\RELEASES.md', 'doc_type': 'azurerm_container_app'}, {'doc_type': 'azurerm_container_app', 'source': 'knowledge-base\\\\terraform_modules\\\\azurerm_container_app\\\\RELEASES.md'}, {'source': 'knowledge-base\\\\terraform_modules\\\\azurerm_container_app\\\\RELEASES.md', 'doc_type': 'azurerm_container_app'}, {'source': 'knowledge-base\\\\terraform_modules\\\\azurerm_container_app\\\\RELEASES.md', 'doc_type': 'azurerm_container_app'}, {'source': 'knowledge-base\\\\terraform_modules\\\\azurerm_container_app\\\\Tests\\\\README.md', 'doc_type': 'azurerm_container_app'}, {'source': 'knowledge-base\\\\terraform_modules\\\\azurerm_container_app\\\\Tests\\\\README.md', 'doc_type': 'azurerm_container_app'}, {'doc_type': 'azurerm_container_app', 'source': 'knowledge-base\\\\terraform_modules\\\\azurerm_container_app\\\\Tests\\\\README.md'}, {'source': 'knowledge-base\\\\terraform_modules\\\\azurerm_container_app\\\\Tests\\\\README.md', 'doc_type': 'azurerm_container_app'}, {'source': 'knowledge-base\\\\terraform_modules\\\\azurerm_container_registry\\\\README.md', 'doc_type': 'azurerm_container_registry'}, {'source': 'knowledge-base\\\\terraform_modules\\\\azurerm_container_registry\\\\README.md', 'doc_type': 'azurerm_container_registry'}, {'doc_type': 'azurerm_container_registry', 'source': 'knowledge-base\\\\terraform_modules\\\\azurerm_container_registry\\\\README.md'}, {'doc_type': 'azurerm_container_registry', 'source': 'knowledge-base\\\\terraform_modules\\\\azurerm_container_registry\\\\README.md'}, {'source': 'knowledge-base\\\\terraform_modules\\\\azurerm_container_registry\\\\README.md', 'doc_type': 'azurerm_container_registry'}, {'source': 'knowledge-base\\\\terraform_modules\\\\azurerm_container_registry\\\\README.md', 'doc_type': 'azurerm_container_registry'}, {'source': 'knowledge-base\\\\terraform_modules\\\\azurerm_container_registry\\\\README.md', 'doc_type': 'azurerm_container_registry'}, {'source': 'knowledge-base\\\\terraform_modules\\\\azurerm_container_registry\\\\README.md', 'doc_type': 'azurerm_container_registry'}, {'source': 'knowledge-base\\\\terraform_modules\\\\azurerm_container_registry\\\\README.md', 'doc_type': 'azurerm_container_registry'}, {'doc_type': 'azurerm_container_registry', 'source': 'knowledge-base\\\\terraform_modules\\\\azurerm_container_registry\\\\README.md'}, {'doc_type': 'azurerm_container_registry', 'source': 'knowledge-base\\\\terraform_modules\\\\azurerm_container_registry\\\\README.md'}, {'source': 'knowledge-base\\\\terraform_modules\\\\azurerm_container_registry\\\\README.md', 'doc_type': 'azurerm_container_registry'}, {'doc_type': 'azurerm_container_registry', 'source': 'knowledge-base\\\\terraform_modules\\\\azurerm_container_registry\\\\README.md'}, {'source': 'knowledge-base\\\\terraform_modules\\\\azurerm_container_registry\\\\README.md', 'doc_type': 'azurerm_container_registry'}, {'source': 'knowledge-base\\\\terraform_modules\\\\azurerm_container_registry\\\\README.md', 'doc_type': 'azurerm_container_registry'}, {'doc_type': 'azurerm_container_registry', 'source': 'knowledge-base\\\\terraform_modules\\\\azurerm_container_registry\\\\README.md'}, {'source': 'knowledge-base\\\\terraform_modules\\\\azurerm_container_registry\\\\README.md', 'doc_type': 'azurerm_container_registry'}, {'doc_type': 'azurerm_container_registry', 'source': 'knowledge-base\\\\terraform_modules\\\\azurerm_container_registry\\\\README.md'}, {'source': 'knowledge-base\\\\terraform_modules\\\\azurerm_container_registry\\\\README.md', 'doc_type': 'azurerm_container_registry'}, {'doc_type': 'azurerm_container_registry', 'source': 'knowledge-base\\\\terraform_modules\\\\azurerm_container_registry\\\\README.md'}, {'doc_type': 'azurerm_container_registry', 'source': 'knowledge-base\\\\terraform_modules\\\\azurerm_container_registry\\\\README.md'}, {'doc_type': 'azurerm_container_registry', 'source': 'knowledge-base\\\\terraform_modules\\\\azurerm_container_registry\\\\README.md'}, {'source': 'knowledge-base\\\\terraform_modules\\\\azurerm_container_registry\\\\README.md', 'doc_type': 'azurerm_container_registry'}, {'source': 'knowledge-base\\\\terraform_modules\\\\azurerm_container_registry\\\\README.md', 'doc_type': 'azurerm_container_registry'}, {'doc_type': 'azurerm_container_registry', 'source': 'knowledge-base\\\\terraform_modules\\\\azurerm_container_registry\\\\README.md'}, {'doc_type': 'azurerm_container_registry', 'source': 'knowledge-base\\\\terraform_modules\\\\azurerm_container_registry\\\\README.md'}, {'source': 'knowledge-base\\\\terraform_modules\\\\azurerm_container_registry\\\\README.md', 'doc_type': 'azurerm_container_registry'}, {'source': 'knowledge-base\\\\terraform_modules\\\\azurerm_container_registry\\\\README.md', 'doc_type': 'azurerm_container_registry'}, {'doc_type': 'azurerm_container_registry', 'source': 'knowledge-base\\\\terraform_modules\\\\azurerm_container_registry\\\\README.md'}, {'source': 'knowledge-base\\\\terraform_modules\\\\azurerm_container_registry\\\\README.md', 'doc_type': 'azurerm_container_registry'}, {'doc_type': 'azurerm_container_registry', 'source': 'knowledge-base\\\\terraform_modules\\\\azurerm_container_registry\\\\RELEASES.md'}, {'source': 'knowledge-base\\\\terraform_modules\\\\azurerm_container_registry\\\\RELEASES.md', 'doc_type': 'azurerm_container_registry'}, {'source': 'knowledge-base\\\\terraform_modules\\\\azurerm_container_registry\\\\RELEASES.md', 'doc_type': 'azurerm_container_registry'}, {'source': 'knowledge-base\\\\terraform_modules\\\\azurerm_container_registry\\\\RELEASES.md', 'doc_type': 'azurerm_container_registry'}, {'doc_type': 'azurerm_container_registry', 'source': 'knowledge-base\\\\terraform_modules\\\\azurerm_container_registry\\\\Tests\\\\README.md'}, {'doc_type': 'azurerm_container_registry', 'source': 'knowledge-base\\\\terraform_modules\\\\azurerm_container_registry\\\\Tests\\\\README.md'}, {'doc_type': 'azurerm_container_registry', 'source': 'knowledge-base\\\\terraform_modules\\\\azurerm_container_registry\\\\Tests\\\\README.md'}, {'doc_type': 'azurerm_container_registry', 'source': 'knowledge-base\\\\terraform_modules\\\\azurerm_container_registry\\\\Tests\\\\README.md'}, {'doc_type': 'azurerm_cosmosdb', 'source': 'knowledge-base\\\\terraform_modules\\\\azurerm_cosmosdb\\\\README.md'}, {'doc_type': 'azurerm_cosmosdb', 'source': 'knowledge-base\\\\terraform_modules\\\\azurerm_cosmosdb\\\\README.md'}, {'doc_type': 'azurerm_cosmosdb', 'source': 'knowledge-base\\\\terraform_modules\\\\azurerm_cosmosdb\\\\README.md'}, {'doc_type': 'azurerm_cosmosdb', 'source': 'knowledge-base\\\\terraform_modules\\\\azurerm_cosmosdb\\\\README.md'}, {'source': 'knowledge-base\\\\terraform_modules\\\\azurerm_cosmosdb\\\\README.md', 'doc_type': 'azurerm_cosmosdb'}, {'doc_type': 'azurerm_cosmosdb', 'source': 'knowledge-base\\\\terraform_modules\\\\azurerm_cosmosdb\\\\README.md'}, {'doc_type': 'azurerm_cosmosdb', 'source': 'knowledge-base\\\\terraform_modules\\\\azurerm_cosmosdb\\\\README.md'}, {'doc_type': 'azurerm_cosmosdb', 'source': 'knowledge-base\\\\terraform_modules\\\\azurerm_cosmosdb\\\\README.md'}, {'doc_type': 'azurerm_cosmosdb', 'source': 'knowledge-base\\\\terraform_modules\\\\azurerm_cosmosdb\\\\README.md'}, {'source': 'knowledge-base\\\\terraform_modules\\\\azurerm_cosmosdb\\\\README.md', 'doc_type': 'azurerm_cosmosdb'}, {'source': 'knowledge-base\\\\terraform_modules\\\\azurerm_cosmosdb\\\\README.md', 'doc_type': 'azurerm_cosmosdb'}, {'doc_type': 'azurerm_cosmosdb', 'source': 'knowledge-base\\\\terraform_modules\\\\azurerm_cosmosdb\\\\README.md'}, {'doc_type': 'azurerm_cosmosdb', 'source': 'knowledge-base\\\\terraform_modules\\\\azurerm_cosmosdb\\\\README.md'}, {'source': 'knowledge-base\\\\terraform_modules\\\\azurerm_cosmosdb\\\\README.md', 'doc_type': 'azurerm_cosmosdb'}, {'source': 'knowledge-base\\\\terraform_modules\\\\azurerm_cosmosdb\\\\README.md', 'doc_type': 'azurerm_cosmosdb'}, {'source': 'knowledge-base\\\\terraform_modules\\\\azurerm_cosmosdb\\\\README.md', 'doc_type': 'azurerm_cosmosdb'}, {'source': 'knowledge-base\\\\terraform_modules\\\\azurerm_cosmosdb\\\\README.md', 'doc_type': 'azurerm_cosmosdb'}, {'doc_type': 'azurerm_cosmosdb', 'source': 'knowledge-base\\\\terraform_modules\\\\azurerm_cosmosdb\\\\README.md'}, {'doc_type': 'azurerm_cosmosdb', 'source': 'knowledge-base\\\\terraform_modules\\\\azurerm_cosmosdb\\\\README.md'}, {'doc_type': 'azurerm_cosmosdb', 'source': 'knowledge-base\\\\terraform_modules\\\\azurerm_cosmosdb\\\\README.md'}, {'source': 'knowledge-base\\\\terraform_modules\\\\azurerm_cosmosdb\\\\README.md', 'doc_type': 'azurerm_cosmosdb'}, {'source': 'knowledge-base\\\\terraform_modules\\\\azurerm_cosmosdb\\\\README.md', 'doc_type': 'azurerm_cosmosdb'}, {'doc_type': 'azurerm_cosmosdb', 'source': 'knowledge-base\\\\terraform_modules\\\\azurerm_cosmosdb\\\\README.md'}, {'doc_type': 'azurerm_cosmosdb', 'source': 'knowledge-base\\\\terraform_modules\\\\azurerm_cosmosdb\\\\README.md'}, {'source': 'knowledge-base\\\\terraform_modules\\\\azurerm_cosmosdb\\\\README.md', 'doc_type': 'azurerm_cosmosdb'}, {'doc_type': 'azurerm_cosmosdb', 'source': 'knowledge-base\\\\terraform_modules\\\\azurerm_cosmosdb\\\\README.md'}, {'source': 'knowledge-base\\\\terraform_modules\\\\azurerm_cosmosdb\\\\README.md', 'doc_type': 'azurerm_cosmosdb'}, {'doc_type': 'azurerm_cosmosdb', 'source': 'knowledge-base\\\\terraform_modules\\\\azurerm_cosmosdb\\\\README.md'}, {'doc_type': 'azurerm_cosmosdb', 'source': 'knowledge-base\\\\terraform_modules\\\\azurerm_cosmosdb\\\\README.md'}, {'source': 'knowledge-base\\\\terraform_modules\\\\azurerm_cosmosdb\\\\README.md', 'doc_type': 'azurerm_cosmosdb'}, {'source': 'knowledge-base\\\\terraform_modules\\\\azurerm_cosmosdb\\\\README.md', 'doc_type': 'azurerm_cosmosdb'}, {'doc_type': 'azurerm_cosmosdb', 'source': 'knowledge-base\\\\terraform_modules\\\\azurerm_cosmosdb\\\\README.md'}, {'doc_type': 'azurerm_cosmosdb', 'source': 'knowledge-base\\\\terraform_modules\\\\azurerm_cosmosdb\\\\README.md'}, {'doc_type': 'azurerm_cosmosdb', 'source': 'knowledge-base\\\\terraform_modules\\\\azurerm_cosmosdb\\\\README.md'}, {'doc_type': 'azurerm_cosmosdb', 'source': 'knowledge-base\\\\terraform_modules\\\\azurerm_cosmosdb\\\\README.md'}, {'doc_type': 'azurerm_cosmosdb', 'source': 'knowledge-base\\\\terraform_modules\\\\azurerm_cosmosdb\\\\README.md'}, {'doc_type': 'azurerm_cosmosdb', 'source': 'knowledge-base\\\\terraform_modules\\\\azurerm_cosmosdb\\\\README.md'}, {'source': 'knowledge-base\\\\terraform_modules\\\\azurerm_cosmosdb\\\\README.md', 'doc_type': 'azurerm_cosmosdb'}, {'doc_type': 'azurerm_cosmosdb', 'source': 'knowledge-base\\\\terraform_modules\\\\azurerm_cosmosdb\\\\README.md'}, {'doc_type': 'azurerm_cosmosdb', 'source': 'knowledge-base\\\\terraform_modules\\\\azurerm_cosmosdb\\\\README.md'}, {'source': 'knowledge-base\\\\terraform_modules\\\\azurerm_cosmosdb\\\\README.md', 'doc_type': 'azurerm_cosmosdb'}, {'doc_type': 'azurerm_cosmosdb', 'source': 'knowledge-base\\\\terraform_modules\\\\azurerm_cosmosdb\\\\README.md'}, {'doc_type': 'azurerm_cosmosdb', 'source': 'knowledge-base\\\\terraform_modules\\\\azurerm_cosmosdb\\\\README.md'}, {'source': 'knowledge-base\\\\terraform_modules\\\\azurerm_cosmosdb\\\\README.md', 'doc_type': 'azurerm_cosmosdb'}, {'doc_type': 'azurerm_cosmosdb', 'source': 'knowledge-base\\\\terraform_modules\\\\azurerm_cosmosdb\\\\README.md'}, {'source': 'knowledge-base\\\\terraform_modules\\\\azurerm_cosmosdb\\\\README.md', 'doc_type': 'azurerm_cosmosdb'}, {'doc_type': 'azurerm_cosmosdb', 'source': 'knowledge-base\\\\terraform_modules\\\\azurerm_cosmosdb\\\\README.md'}, {'source': 'knowledge-base\\\\terraform_modules\\\\azurerm_cosmosdb\\\\README.md', 'doc_type': 'azurerm_cosmosdb'}, {'source': 'knowledge-base\\\\terraform_modules\\\\azurerm_cosmosdb\\\\README.md', 'doc_type': 'azurerm_cosmosdb'}, {'doc_type': 'azurerm_cosmosdb', 'source': 'knowledge-base\\\\terraform_modules\\\\azurerm_cosmosdb\\\\README.md'}, {'doc_type': 'azurerm_cosmosdb', 'source': 'knowledge-base\\\\terraform_modules\\\\azurerm_cosmosdb\\\\README.md'}, {'doc_type': 'azurerm_cosmosdb', 'source': 'knowledge-base\\\\terraform_modules\\\\azurerm_cosmosdb\\\\README.md'}, {'source': 'knowledge-base\\\\terraform_modules\\\\azurerm_cosmosdb\\\\README.md', 'doc_type': 'azurerm_cosmosdb'}, {'source': 'knowledge-base\\\\terraform_modules\\\\azurerm_cosmosdb\\\\README.md', 'doc_type': 'azurerm_cosmosdb'}, {'doc_type': 'azurerm_cosmosdb', 'source': 'knowledge-base\\\\terraform_modules\\\\azurerm_cosmosdb\\\\RELEASES.md'}, {'doc_type': 'azurerm_cosmosdb', 'source': 'knowledge-base\\\\terraform_modules\\\\azurerm_cosmosdb\\\\Tests\\\\README.md'}, {'doc_type': 'azurerm_cosmosdb', 'source': 'knowledge-base\\\\terraform_modules\\\\azurerm_cosmosdb\\\\Tests\\\\README.md'}, {'source': 'knowledge-base\\\\terraform_modules\\\\azurerm_cosmosdb\\\\Tests\\\\README.md', 'doc_type': 'azurerm_cosmosdb'}, {'source': 'knowledge-base\\\\terraform_modules\\\\azurerm_cosmosdb\\\\Tests\\\\README.md', 'doc_type': 'azurerm_cosmosdb'}, {'source': 'knowledge-base\\\\terraform_modules\\\\azurerm_custom_role_definitions\\\\README.md', 'doc_type': 'azurerm_custom_role_definitions'}, {'doc_type': 'azurerm_custom_role_definitions', 'source': 'knowledge-base\\\\terraform_modules\\\\azurerm_custom_role_definitions\\\\README.md'}, {'source': 'knowledge-base\\\\terraform_modules\\\\azurerm_custom_role_definitions\\\\README.md', 'doc_type': 'azurerm_custom_role_definitions'}, {'source': 'knowledge-base\\\\terraform_modules\\\\azurerm_custom_role_definitions\\\\README.md', 'doc_type': 'azurerm_custom_role_definitions'}, {'doc_type': 'azurerm_custom_role_definitions', 'source': 'knowledge-base\\\\terraform_modules\\\\azurerm_custom_role_definitions\\\\README.md'}, {'doc_type': 'azurerm_custom_role_definitions', 'source': 'knowledge-base\\\\terraform_modules\\\\azurerm_custom_role_definitions\\\\README.md'}, {'doc_type': 'azurerm_custom_role_definitions', 'source': 'knowledge-base\\\\terraform_modules\\\\azurerm_custom_role_definitions\\\\README.md'}, {'source': 'knowledge-base\\\\terraform_modules\\\\azurerm_custom_role_definitions\\\\README.md', 'doc_type': 'azurerm_custom_role_definitions'}, {'doc_type': 'azurerm_custom_role_definitions', 'source': 'knowledge-base\\\\terraform_modules\\\\azurerm_custom_role_definitions\\\\README.md'}, {'source': 'knowledge-base\\\\terraform_modules\\\\azurerm_custom_role_definitions\\\\README.md', 'doc_type': 'azurerm_custom_role_definitions'}, {'source': 'knowledge-base\\\\terraform_modules\\\\azurerm_custom_role_definitions\\\\README.md', 'doc_type': 'azurerm_custom_role_definitions'}, {'doc_type': 'azurerm_custom_role_definitions', 'source': 'knowledge-base\\\\terraform_modules\\\\azurerm_custom_role_definitions\\\\README.md'}, {'source': 'knowledge-base\\\\terraform_modules\\\\azurerm_custom_role_definitions\\\\README.md', 'doc_type': 'azurerm_custom_role_definitions'}, {'source': 'knowledge-base\\\\terraform_modules\\\\azurerm_custom_role_definitions\\\\RELEASES.md', 'doc_type': 'azurerm_custom_role_definitions'}, {'source': 'knowledge-base\\\\terraform_modules\\\\azurerm_custom_role_definitions\\\\RELEASES.md', 'doc_type': 'azurerm_custom_role_definitions'}, {'doc_type': 'azurerm_custom_role_definitions', 'source': 'knowledge-base\\\\terraform_modules\\\\azurerm_custom_role_definitions\\\\RELEASES.md'}, {'doc_type': 'azurerm_custom_role_definitions', 'source': 'knowledge-base\\\\terraform_modules\\\\azurerm_custom_role_definitions\\\\Tests\\\\README.md'}, {'source': 'knowledge-base\\\\terraform_modules\\\\azurerm_custom_role_definitions\\\\Tests\\\\README.md', 'doc_type': 'azurerm_custom_role_definitions'}, {'source': 'knowledge-base\\\\terraform_modules\\\\azurerm_custom_role_definitions\\\\Tests\\\\README.md', 'doc_type': 'azurerm_custom_role_definitions'}, {'doc_type': 'azurerm_custom_role_definitions', 'source': 'knowledge-base\\\\terraform_modules\\\\azurerm_custom_role_definitions\\\\Tests\\\\README.md'}, {'source': 'knowledge-base\\\\terraform_modules\\\\azurerm_dashboard_grafana\\\\README.md', 'doc_type': 'azurerm_dashboard_grafana'}, {'doc_type': 'azurerm_dashboard_grafana', 'source': 'knowledge-base\\\\terraform_modules\\\\azurerm_dashboard_grafana\\\\README.md'}, {'doc_type': 'azurerm_dashboard_grafana', 'source': 'knowledge-base\\\\terraform_modules\\\\azurerm_dashboard_grafana\\\\README.md'}, {'source': 'knowledge-base\\\\terraform_modules\\\\azurerm_dashboard_grafana\\\\README.md', 'doc_type': 'azurerm_dashboard_grafana'}, {'doc_type': 'azurerm_dashboard_grafana', 'source': 'knowledge-base\\\\terraform_modules\\\\azurerm_dashboard_grafana\\\\README.md'}, {'doc_type': 'azurerm_dashboard_grafana', 'source': 'knowledge-base\\\\terraform_modules\\\\azurerm_dashboard_grafana\\\\README.md'}, {'source': 'knowledge-base\\\\terraform_modules\\\\azurerm_dashboard_grafana\\\\README.md', 'doc_type': 'azurerm_dashboard_grafana'}, {'source': 'knowledge-base\\\\terraform_modules\\\\azurerm_dashboard_grafana\\\\README.md', 'doc_type': 'azurerm_dashboard_grafana'}, {'source': 'knowledge-base\\\\terraform_modules\\\\azurerm_dashboard_grafana\\\\README.md', 'doc_type': 'azurerm_dashboard_grafana'}, {'doc_type': 'azurerm_dashboard_grafana', 'source': 'knowledge-base\\\\terraform_modules\\\\azurerm_dashboard_grafana\\\\README.md'}, {'source': 'knowledge-base\\\\terraform_modules\\\\azurerm_dashboard_grafana\\\\README.md', 'doc_type': 'azurerm_dashboard_grafana'}, {'doc_type': 'azurerm_dashboard_grafana', 'source': 'knowledge-base\\\\terraform_modules\\\\azurerm_dashboard_grafana\\\\README.md'}, {'source': 'knowledge-base\\\\terraform_modules\\\\azurerm_dashboard_grafana\\\\README.md', 'doc_type': 'azurerm_dashboard_grafana'}, {'doc_type': 'azurerm_dashboard_grafana', 'source': 'knowledge-base\\\\terraform_modules\\\\azurerm_dashboard_grafana\\\\README.md'}, {'doc_type': 'azurerm_dashboard_grafana', 'source': 'knowledge-base\\\\terraform_modules\\\\azurerm_dashboard_grafana\\\\README.md'}, {'source': 'knowledge-base\\\\terraform_modules\\\\azurerm_dashboard_grafana\\\\README.md', 'doc_type': 'azurerm_dashboard_grafana'}, {'doc_type': 'azurerm_dashboard_grafana', 'source': 'knowledge-base\\\\terraform_modules\\\\azurerm_dashboard_grafana\\\\README.md'}, {'source': 'knowledge-base\\\\terraform_modules\\\\azurerm_dashboard_grafana\\\\README.md', 'doc_type': 'azurerm_dashboard_grafana'}, {'source': 'knowledge-base\\\\terraform_modules\\\\azurerm_dashboard_grafana\\\\README.md', 'doc_type': 'azurerm_dashboard_grafana'}, {'source': 'knowledge-base\\\\terraform_modules\\\\azurerm_dashboard_grafana\\\\README.md', 'doc_type': 'azurerm_dashboard_grafana'}, {'doc_type': 'azurerm_dashboard_grafana', 'source': 'knowledge-base\\\\terraform_modules\\\\azurerm_dashboard_grafana\\\\README.md'}, {'doc_type': 'azurerm_dashboard_grafana', 'source': 'knowledge-base\\\\terraform_modules\\\\azurerm_dashboard_grafana\\\\README.md'}, {'doc_type': 'azurerm_dashboard_grafana', 'source': 'knowledge-base\\\\terraform_modules\\\\azurerm_dashboard_grafana\\\\README.md'}, {'doc_type': 'azurerm_dashboard_grafana', 'source': 'knowledge-base\\\\terraform_modules\\\\azurerm_dashboard_grafana\\\\README.md'}, {'doc_type': 'azurerm_dashboard_grafana', 'source': 'knowledge-base\\\\terraform_modules\\\\azurerm_dashboard_grafana\\\\README.md'}, {'source': 'knowledge-base\\\\terraform_modules\\\\azurerm_dashboard_grafana\\\\README.md', 'doc_type': 'azurerm_dashboard_grafana'}, {'doc_type': 'azurerm_dashboard_grafana', 'source': 'knowledge-base\\\\terraform_modules\\\\azurerm_dashboard_grafana\\\\README.md'}, {'doc_type': 'azurerm_dashboard_grafana', 'source': 'knowledge-base\\\\terraform_modules\\\\azurerm_dashboard_grafana\\\\RELEASES.md'}, {'doc_type': 'azurerm_dashboard_grafana', 'source': 'knowledge-base\\\\terraform_modules\\\\azurerm_dashboard_grafana\\\\RELEASES.md'}, {'source': 'knowledge-base\\\\terraform_modules\\\\azurerm_dashboard_grafana\\\\RELEASES.md', 'doc_type': 'azurerm_dashboard_grafana'}, {'source': 'knowledge-base\\\\terraform_modules\\\\azurerm_dashboard_grafana\\\\RELEASES.md', 'doc_type': 'azurerm_dashboard_grafana'}, {'doc_type': 'azurerm_dashboard_grafana', 'source': 'knowledge-base\\\\terraform_modules\\\\azurerm_dashboard_grafana\\\\Tests\\\\README.md'}, {'doc_type': 'azurerm_dashboard_grafana', 'source': 'knowledge-base\\\\terraform_modules\\\\azurerm_dashboard_grafana\\\\Tests\\\\README.md'}, {'source': 'knowledge-base\\\\terraform_modules\\\\azurerm_dashboard_grafana\\\\Tests\\\\README.md', 'doc_type': 'azurerm_dashboard_grafana'}, {'source': 'knowledge-base\\\\terraform_modules\\\\azurerm_dashboard_grafana\\\\Tests\\\\README.md', 'doc_type': 'azurerm_dashboard_grafana'}, {'source': 'knowledge-base\\\\terraform_modules\\\\azurerm_databricks (1)\\\\README.md', 'doc_type': 'azurerm_databricks (1)'}, {'doc_type': 'azurerm_databricks (1)', 'source': 'knowledge-base\\\\terraform_modules\\\\azurerm_databricks (1)\\\\README.md'}, {'doc_type': 'azurerm_databricks (1)', 'source': 'knowledge-base\\\\terraform_modules\\\\azurerm_databricks (1)\\\\README.md'}, {'source': 'knowledge-base\\\\terraform_modules\\\\azurerm_databricks (1)\\\\README.md', 'doc_type': 'azurerm_databricks (1)'}, {'source': 'knowledge-base\\\\terraform_modules\\\\azurerm_databricks (1)\\\\README.md', 'doc_type': 'azurerm_databricks (1)'}, {'doc_type': 'azurerm_databricks (1)', 'source': 'knowledge-base\\\\terraform_modules\\\\azurerm_databricks (1)\\\\README.md'}, {'source': 'knowledge-base\\\\terraform_modules\\\\azurerm_databricks (1)\\\\README.md', 'doc_type': 'azurerm_databricks (1)'}, {'doc_type': 'azurerm_databricks (1)', 'source': 'knowledge-base\\\\terraform_modules\\\\azurerm_databricks (1)\\\\README.md'}, {'source': 'knowledge-base\\\\terraform_modules\\\\azurerm_databricks (1)\\\\README.md', 'doc_type': 'azurerm_databricks (1)'}, {'source': 'knowledge-base\\\\terraform_modules\\\\azurerm_databricks (1)\\\\README.md', 'doc_type': 'azurerm_databricks (1)'}, {'source': 'knowledge-base\\\\terraform_modules\\\\azurerm_databricks (1)\\\\README.md', 'doc_type': 'azurerm_databricks (1)'}, {'doc_type': 'azurerm_databricks (1)', 'source': 'knowledge-base\\\\terraform_modules\\\\azurerm_databricks (1)\\\\README.md'}, {'doc_type': 'azurerm_databricks (1)', 'source': 'knowledge-base\\\\terraform_modules\\\\azurerm_databricks (1)\\\\README.md'}, {'source': 'knowledge-base\\\\terraform_modules\\\\azurerm_databricks (1)\\\\README.md', 'doc_type': 'azurerm_databricks (1)'}, {'source': 'knowledge-base\\\\terraform_modules\\\\azurerm_databricks (1)\\\\README.md', 'doc_type': 'azurerm_databricks (1)'}, {'source': 'knowledge-base\\\\terraform_modules\\\\azurerm_databricks (1)\\\\README.md', 'doc_type': 'azurerm_databricks (1)'}, {'source': 'knowledge-base\\\\terraform_modules\\\\azurerm_databricks (1)\\\\README.md', 'doc_type': 'azurerm_databricks (1)'}, {'doc_type': 'azurerm_databricks (1)', 'source': 'knowledge-base\\\\terraform_modules\\\\azurerm_databricks (1)\\\\README.md'}, {'doc_type': 'azurerm_databricks (1)', 'source': 'knowledge-base\\\\terraform_modules\\\\azurerm_databricks (1)\\\\README.md'}, {'doc_type': 'azurerm_databricks (1)', 'source': 'knowledge-base\\\\terraform_modules\\\\azurerm_databricks (1)\\\\README.md'}, {'source': 'knowledge-base\\\\terraform_modules\\\\azurerm_databricks (1)\\\\README.md', 'doc_type': 'azurerm_databricks (1)'}, {'doc_type': 'azurerm_databricks (1)', 'source': 'knowledge-base\\\\terraform_modules\\\\azurerm_databricks (1)\\\\README.md'}, {'source': 'knowledge-base\\\\terraform_modules\\\\azurerm_databricks (1)\\\\README.md', 'doc_type': 'azurerm_databricks (1)'}, {'source': 'knowledge-base\\\\terraform_modules\\\\azurerm_databricks (1)\\\\RELEASES.md', 'doc_type': 'azurerm_databricks (1)'}, {'source': 'knowledge-base\\\\terraform_modules\\\\azurerm_databricks (1)\\\\Tests\\\\README.md', 'doc_type': 'azurerm_databricks (1)'}, {'source': 'knowledge-base\\\\terraform_modules\\\\azurerm_databricks (1)\\\\Tests\\\\README.md', 'doc_type': 'azurerm_databricks (1)'}, {'source': 'knowledge-base\\\\terraform_modules\\\\azurerm_databricks (1)\\\\Tests\\\\README.md', 'doc_type': 'azurerm_databricks (1)'}, {'source': 'knowledge-base\\\\terraform_modules\\\\azurerm_databricks (1)\\\\Tests\\\\README.md', 'doc_type': 'azurerm_databricks (1)'}, {'source': 'knowledge-base\\\\terraform_modules\\\\azurerm_data_factory\\\\README.md', 'doc_type': 'azurerm_data_factory'}, {'doc_type': 'azurerm_data_factory', 'source': 'knowledge-base\\\\terraform_modules\\\\azurerm_data_factory\\\\README.md'}, {'doc_type': 'azurerm_data_factory', 'source': 'knowledge-base\\\\terraform_modules\\\\azurerm_data_factory\\\\README.md'}, {'source': 'knowledge-base\\\\terraform_modules\\\\azurerm_data_factory\\\\README.md', 'doc_type': 'azurerm_data_factory'}, {'source': 'knowledge-base\\\\terraform_modules\\\\azurerm_data_factory\\\\README.md', 'doc_type': 'azurerm_data_factory'}, {'doc_type': 'azurerm_data_factory', 'source': 'knowledge-base\\\\terraform_modules\\\\azurerm_data_factory\\\\README.md'}, {'doc_type': 'azurerm_data_factory', 'source': 'knowledge-base\\\\terraform_modules\\\\azurerm_data_factory\\\\README.md'}, {'doc_type': 'azurerm_data_factory', 'source': 'knowledge-base\\\\terraform_modules\\\\azurerm_data_factory\\\\README.md'}, {'source': 'knowledge-base\\\\terraform_modules\\\\azurerm_data_factory\\\\README.md', 'doc_type': 'azurerm_data_factory'}, {'source': 'knowledge-base\\\\terraform_modules\\\\azurerm_data_factory\\\\README.md', 'doc_type': 'azurerm_data_factory'}, {'source': 'knowledge-base\\\\terraform_modules\\\\azurerm_data_factory\\\\README.md', 'doc_type': 'azurerm_data_factory'}, {'source': 'knowledge-base\\\\terraform_modules\\\\azurerm_data_factory\\\\README.md', 'doc_type': 'azurerm_data_factory'}, {'source': 'knowledge-base\\\\terraform_modules\\\\azurerm_data_factory\\\\README.md', 'doc_type': 'azurerm_data_factory'}, {'source': 'knowledge-base\\\\terraform_modules\\\\azurerm_data_factory\\\\README.md', 'doc_type': 'azurerm_data_factory'}, {'doc_type': 'azurerm_data_factory', 'source': 'knowledge-base\\\\terraform_modules\\\\azurerm_data_factory\\\\README.md'}, {'source': 'knowledge-base\\\\terraform_modules\\\\azurerm_data_factory\\\\README.md', 'doc_type': 'azurerm_data_factory'}, {'doc_type': 'azurerm_data_factory', 'source': 'knowledge-base\\\\terraform_modules\\\\azurerm_data_factory\\\\README.md'}, {'doc_type': 'azurerm_data_factory', 'source': 'knowledge-base\\\\terraform_modules\\\\azurerm_data_factory\\\\README.md'}, {'source': 'knowledge-base\\\\terraform_modules\\\\azurerm_data_factory\\\\README.md', 'doc_type': 'azurerm_data_factory'}, {'source': 'knowledge-base\\\\terraform_modules\\\\azurerm_data_factory\\\\README.md', 'doc_type': 'azurerm_data_factory'}, {'source': 'knowledge-base\\\\terraform_modules\\\\azurerm_data_factory\\\\README.md', 'doc_type': 'azurerm_data_factory'}, {'doc_type': 'azurerm_data_factory', 'source': 'knowledge-base\\\\terraform_modules\\\\azurerm_data_factory\\\\README.md'}, {'source': 'knowledge-base\\\\terraform_modules\\\\azurerm_data_factory\\\\README.md', 'doc_type': 'azurerm_data_factory'}, {'source': 'knowledge-base\\\\terraform_modules\\\\azurerm_data_factory\\\\README.md', 'doc_type': 'azurerm_data_factory'}, {'doc_type': 'azurerm_data_factory', 'source': 'knowledge-base\\\\terraform_modules\\\\azurerm_data_factory\\\\README.md'}, {'doc_type': 'azurerm_data_factory', 'source': 'knowledge-base\\\\terraform_modules\\\\azurerm_data_factory\\\\README.md'}, {'doc_type': 'azurerm_data_factory', 'source': 'knowledge-base\\\\terraform_modules\\\\azurerm_data_factory\\\\README.md'}, {'doc_type': 'azurerm_data_factory', 'source': 'knowledge-base\\\\terraform_modules\\\\azurerm_data_factory\\\\README.md'}, {'doc_type': 'azurerm_data_factory', 'source': 'knowledge-base\\\\terraform_modules\\\\azurerm_data_factory\\\\RELEASES.md'}, {'doc_type': 'azurerm_data_factory', 'source': 'knowledge-base\\\\terraform_modules\\\\azurerm_data_factory\\\\RELEASES.md'}, {'doc_type': 'azurerm_data_factory', 'source': 'knowledge-base\\\\terraform_modules\\\\azurerm_data_factory\\\\Tests\\\\README.md'}, {'doc_type': 'azurerm_data_factory', 'source': 'knowledge-base\\\\terraform_modules\\\\azurerm_data_factory\\\\Tests\\\\README.md'}, {'doc_type': 'azurerm_data_factory', 'source': 'knowledge-base\\\\terraform_modules\\\\azurerm_data_factory\\\\Tests\\\\README.md'}, {'source': 'knowledge-base\\\\terraform_modules\\\\azurerm_data_factory\\\\Tests\\\\README.md', 'doc_type': 'azurerm_data_factory'}, {'source': 'knowledge-base\\\\terraform_modules\\\\azurerm_data_protection_backup\\\\README.md', 'doc_type': 'azurerm_data_protection_backup'}, {'source': 'knowledge-base\\\\terraform_modules\\\\azurerm_data_protection_backup\\\\README.md', 'doc_type': 'azurerm_data_protection_backup'}, {'doc_type': 'azurerm_data_protection_backup', 'source': 'knowledge-base\\\\terraform_modules\\\\azurerm_data_protection_backup\\\\README.md'}, {'source': 'knowledge-base\\\\terraform_modules\\\\azurerm_data_protection_backup\\\\README.md', 'doc_type': 'azurerm_data_protection_backup'}, {'doc_type': 'azurerm_data_protection_backup', 'source': 'knowledge-base\\\\terraform_modules\\\\azurerm_data_protection_backup\\\\README.md'}, {'doc_type': 'azurerm_data_protection_backup', 'source': 'knowledge-base\\\\terraform_modules\\\\azurerm_data_protection_backup\\\\README.md'}, {'doc_type': 'azurerm_data_protection_backup', 'source': 'knowledge-base\\\\terraform_modules\\\\azurerm_data_protection_backup\\\\README.md'}, {'source': 'knowledge-base\\\\terraform_modules\\\\azurerm_data_protection_backup\\\\README.md', 'doc_type': 'azurerm_data_protection_backup'}, {'source': 'knowledge-base\\\\terraform_modules\\\\azurerm_data_protection_backup\\\\README.md', 'doc_type': 'azurerm_data_protection_backup'}, {'doc_type': 'azurerm_data_protection_backup', 'source': 'knowledge-base\\\\terraform_modules\\\\azurerm_data_protection_backup\\\\README.md'}, {'doc_type': 'azurerm_data_protection_backup', 'source': 'knowledge-base\\\\terraform_modules\\\\azurerm_data_protection_backup\\\\README.md'}, {'source': 'knowledge-base\\\\terraform_modules\\\\azurerm_data_protection_backup\\\\README.md', 'doc_type': 'azurerm_data_protection_backup'}, {'source': 'knowledge-base\\\\terraform_modules\\\\azurerm_data_protection_backup\\\\README.md', 'doc_type': 'azurerm_data_protection_backup'}, {'source': 'knowledge-base\\\\terraform_modules\\\\azurerm_data_protection_backup\\\\README.md', 'doc_type': 'azurerm_data_protection_backup'}, {'source': 'knowledge-base\\\\terraform_modules\\\\azurerm_data_protection_backup\\\\README.md', 'doc_type': 'azurerm_data_protection_backup'}, {'source': 'knowledge-base\\\\terraform_modules\\\\azurerm_data_protection_backup\\\\README.md', 'doc_type': 'azurerm_data_protection_backup'}, {'doc_type': 'azurerm_data_protection_backup', 'source': 'knowledge-base\\\\terraform_modules\\\\azurerm_data_protection_backup\\\\README.md'}, {'source': 'knowledge-base\\\\terraform_modules\\\\azurerm_data_protection_backup\\\\README.md', 'doc_type': 'azurerm_data_protection_backup'}, {'doc_type': 'azurerm_data_protection_backup', 'source': 'knowledge-base\\\\terraform_modules\\\\azurerm_data_protection_backup\\\\README.md'}, {'doc_type': 'azurerm_data_protection_backup', 'source': 'knowledge-base\\\\terraform_modules\\\\azurerm_data_protection_backup\\\\README.md'}, {'source': 'knowledge-base\\\\terraform_modules\\\\azurerm_data_protection_backup\\\\README.md', 'doc_type': 'azurerm_data_protection_backup'}, {'source': 'knowledge-base\\\\terraform_modules\\\\azurerm_data_protection_backup\\\\README.md', 'doc_type': 'azurerm_data_protection_backup'}, {'source': 'knowledge-base\\\\terraform_modules\\\\azurerm_data_protection_backup\\\\README.md', 'doc_type': 'azurerm_data_protection_backup'}, {'doc_type': 'azurerm_data_protection_backup', 'source': 'knowledge-base\\\\terraform_modules\\\\azurerm_data_protection_backup\\\\README.md'}, {'doc_type': 'azurerm_data_protection_backup', 'source': 'knowledge-base\\\\terraform_modules\\\\azurerm_data_protection_backup\\\\README.md'}, {'source': 'knowledge-base\\\\terraform_modules\\\\azurerm_data_protection_backup\\\\README.md', 'doc_type': 'azurerm_data_protection_backup'}, {'doc_type': 'azurerm_data_protection_backup', 'source': 'knowledge-base\\\\terraform_modules\\\\azurerm_data_protection_backup\\\\README.md'}, {'source': 'knowledge-base\\\\terraform_modules\\\\azurerm_data_protection_backup\\\\README.md', 'doc_type': 'azurerm_data_protection_backup'}, {'doc_type': 'azurerm_data_protection_backup', 'source': 'knowledge-base\\\\terraform_modules\\\\azurerm_data_protection_backup\\\\README.md'}, {'doc_type': 'azurerm_data_protection_backup', 'source': 'knowledge-base\\\\terraform_modules\\\\azurerm_data_protection_backup\\\\README.md'}, {'source': 'knowledge-base\\\\terraform_modules\\\\azurerm_data_protection_backup\\\\README.md', 'doc_type': 'azurerm_data_protection_backup'}, {'source': 'knowledge-base\\\\terraform_modules\\\\azurerm_data_protection_backup\\\\README.md', 'doc_type': 'azurerm_data_protection_backup'}, {'doc_type': 'azurerm_data_protection_backup', 'source': 'knowledge-base\\\\terraform_modules\\\\azurerm_data_protection_backup\\\\README.md'}, {'source': 'knowledge-base\\\\terraform_modules\\\\azurerm_data_protection_backup\\\\README.md', 'doc_type': 'azurerm_data_protection_backup'}, {'doc_type': 'azurerm_data_protection_backup', 'source': 'knowledge-base\\\\terraform_modules\\\\azurerm_data_protection_backup\\\\README.md'}, {'doc_type': 'azurerm_data_protection_backup', 'source': 'knowledge-base\\\\terraform_modules\\\\azurerm_data_protection_backup\\\\README.md'}, {'source': 'knowledge-base\\\\terraform_modules\\\\azurerm_data_protection_backup\\\\README.md', 'doc_type': 'azurerm_data_protection_backup'}, {'source': 'knowledge-base\\\\terraform_modules\\\\azurerm_data_protection_backup\\\\README.md', 'doc_type': 'azurerm_data_protection_backup'}, {'doc_type': 'azurerm_data_protection_backup', 'source': 'knowledge-base\\\\terraform_modules\\\\azurerm_data_protection_backup\\\\README.md'}, {'source': 'knowledge-base\\\\terraform_modules\\\\azurerm_data_protection_backup\\\\README.md', 'doc_type': 'azurerm_data_protection_backup'}, {'source': 'knowledge-base\\\\terraform_modules\\\\azurerm_data_protection_backup\\\\README.md', 'doc_type': 'azurerm_data_protection_backup'}, {'source': 'knowledge-base\\\\terraform_modules\\\\azurerm_data_protection_backup\\\\README.md', 'doc_type': 'azurerm_data_protection_backup'}, {'doc_type': 'azurerm_data_protection_backup', 'source': 'knowledge-base\\\\terraform_modules\\\\azurerm_data_protection_backup\\\\README.md'}, {'source': 'knowledge-base\\\\terraform_modules\\\\azurerm_data_protection_backup\\\\README.md', 'doc_type': 'azurerm_data_protection_backup'}, {'source': 'knowledge-base\\\\terraform_modules\\\\azurerm_data_protection_backup\\\\README.md', 'doc_type': 'azurerm_data_protection_backup'}, {'doc_type': 'azurerm_data_protection_backup', 'source': 'knowledge-base\\\\terraform_modules\\\\azurerm_data_protection_backup\\\\README.md'}, {'doc_type': 'azurerm_data_protection_backup', 'source': 'knowledge-base\\\\terraform_modules\\\\azurerm_data_protection_backup\\\\README.md'}, {'doc_type': 'azurerm_data_protection_backup', 'source': 'knowledge-base\\\\terraform_modules\\\\azurerm_data_protection_backup\\\\README.md'}, {'doc_type': 'azurerm_data_protection_backup', 'source': 'knowledge-base\\\\terraform_modules\\\\azurerm_data_protection_backup\\\\README.md'}, {'doc_type': 'azurerm_data_protection_backup', 'source': 'knowledge-base\\\\terraform_modules\\\\azurerm_data_protection_backup\\\\README.md'}, {'source': 'knowledge-base\\\\terraform_modules\\\\azurerm_data_protection_backup\\\\README.md', 'doc_type': 'azurerm_data_protection_backup'}, {'doc_type': 'azurerm_data_protection_backup', 'source': 'knowledge-base\\\\terraform_modules\\\\azurerm_data_protection_backup\\\\README.md'}, {'doc_type': 'azurerm_data_protection_backup', 'source': 'knowledge-base\\\\terraform_modules\\\\azurerm_data_protection_backup\\\\README.md'}, {'doc_type': 'azurerm_data_protection_backup', 'source': 'knowledge-base\\\\terraform_modules\\\\azurerm_data_protection_backup\\\\README.md'}, {'doc_type': 'azurerm_data_protection_backup', 'source': 'knowledge-base\\\\terraform_modules\\\\azurerm_data_protection_backup\\\\README.md'}, {'source': 'knowledge-base\\\\terraform_modules\\\\azurerm_data_protection_backup\\\\README.md', 'doc_type': 'azurerm_data_protection_backup'}, {'doc_type': 'azurerm_data_protection_backup', 'source': 'knowledge-base\\\\terraform_modules\\\\azurerm_data_protection_backup\\\\README.md'}, {'doc_type': 'azurerm_data_protection_backup', 'source': 'knowledge-base\\\\terraform_modules\\\\azurerm_data_protection_backup\\\\README.md'}, {'source': 'knowledge-base\\\\terraform_modules\\\\azurerm_data_protection_backup\\\\README.md', 'doc_type': 'azurerm_data_protection_backup'}, {'doc_type': 'azurerm_data_protection_backup', 'source': 'knowledge-base\\\\terraform_modules\\\\azurerm_data_protection_backup\\\\README.md'}, {'doc_type': 'azurerm_data_protection_backup', 'source': 'knowledge-base\\\\terraform_modules\\\\azurerm_data_protection_backup\\\\README.md'}, {'doc_type': 'azurerm_data_protection_backup', 'source': 'knowledge-base\\\\terraform_modules\\\\azurerm_data_protection_backup\\\\RELEASES.md'}, {'source': 'knowledge-base\\\\terraform_modules\\\\azurerm_data_protection_backup\\\\RELEASES.md', 'doc_type': 'azurerm_data_protection_backup'}, {'doc_type': 'azurerm_data_protection_backup', 'source': 'knowledge-base\\\\terraform_modules\\\\azurerm_data_protection_backup\\\\Tests\\\\README.md'}, {'doc_type': 'azurerm_data_protection_backup', 'source': 'knowledge-base\\\\terraform_modules\\\\azurerm_data_protection_backup\\\\Tests\\\\README.md'}, {'doc_type': 'azurerm_data_protection_backup', 'source': 'knowledge-base\\\\terraform_modules\\\\azurerm_data_protection_backup\\\\Tests\\\\README.md'}, {'doc_type': 'azurerm_data_protection_backup', 'source': 'knowledge-base\\\\terraform_modules\\\\azurerm_data_protection_backup\\\\Tests\\\\README.md'}, {'source': 'knowledge-base\\\\terraform_modules\\\\azurerm_eventgrid\\\\README.md', 'doc_type': 'azurerm_eventgrid'}, {'source': 'knowledge-base\\\\terraform_modules\\\\azurerm_eventgrid\\\\README.md', 'doc_type': 'azurerm_eventgrid'}, {'doc_type': 'azurerm_eventgrid', 'source': 'knowledge-base\\\\terraform_modules\\\\azurerm_eventgrid\\\\README.md'}, {'source': 'knowledge-base\\\\terraform_modules\\\\azurerm_eventgrid\\\\README.md', 'doc_type': 'azurerm_eventgrid'}, {'doc_type': 'azurerm_eventgrid', 'source': 'knowledge-base\\\\terraform_modules\\\\azurerm_eventgrid\\\\README.md'}, {'source': 'knowledge-base\\\\terraform_modules\\\\azurerm_eventgrid\\\\README.md', 'doc_type': 'azurerm_eventgrid'}, {'source': 'knowledge-base\\\\terraform_modules\\\\azurerm_eventgrid\\\\README.md', 'doc_type': 'azurerm_eventgrid'}, {'source': 'knowledge-base\\\\terraform_modules\\\\azurerm_eventgrid\\\\README.md', 'doc_type': 'azurerm_eventgrid'}, {'source': 'knowledge-base\\\\terraform_modules\\\\azurerm_eventgrid\\\\README.md', 'doc_type': 'azurerm_eventgrid'}, {'source': 'knowledge-base\\\\terraform_modules\\\\azurerm_eventgrid\\\\README.md', 'doc_type': 'azurerm_eventgrid'}, {'source': 'knowledge-base\\\\terraform_modules\\\\azurerm_eventgrid\\\\README.md', 'doc_type': 'azurerm_eventgrid'}, {'source': 'knowledge-base\\\\terraform_modules\\\\azurerm_eventgrid\\\\README.md', 'doc_type': 'azurerm_eventgrid'}, {'source': 'knowledge-base\\\\terraform_modules\\\\azurerm_eventgrid\\\\README.md', 'doc_type': 'azurerm_eventgrid'}, {'doc_type': 'azurerm_eventgrid', 'source': 'knowledge-base\\\\terraform_modules\\\\azurerm_eventgrid\\\\README.md'}, {'doc_type': 'azurerm_eventgrid', 'source': 'knowledge-base\\\\terraform_modules\\\\azurerm_eventgrid\\\\README.md'}, {'doc_type': 'azurerm_eventgrid', 'source': 'knowledge-base\\\\terraform_modules\\\\azurerm_eventgrid\\\\README.md'}, {'doc_type': 'azurerm_eventgrid', 'source': 'knowledge-base\\\\terraform_modules\\\\azurerm_eventgrid\\\\README.md'}, {'source': 'knowledge-base\\\\terraform_modules\\\\azurerm_eventgrid\\\\README.md', 'doc_type': 'azurerm_eventgrid'}, {'source': 'knowledge-base\\\\terraform_modules\\\\azurerm_eventgrid\\\\README.md', 'doc_type': 'azurerm_eventgrid'}, {'doc_type': 'azurerm_eventgrid', 'source': 'knowledge-base\\\\terraform_modules\\\\azurerm_eventgrid\\\\README.md'}, {'source': 'knowledge-base\\\\terraform_modules\\\\azurerm_eventgrid\\\\RELEASES.md', 'doc_type': 'azurerm_eventgrid'}, {'doc_type': 'azurerm_eventgrid', 'source': 'knowledge-base\\\\terraform_modules\\\\azurerm_eventgrid\\\\Tests\\\\README.md'}, {'source': 'knowledge-base\\\\terraform_modules\\\\azurerm_eventgrid\\\\Tests\\\\README.md', 'doc_type': 'azurerm_eventgrid'}, {'doc_type': 'azurerm_eventgrid', 'source': 'knowledge-base\\\\terraform_modules\\\\azurerm_eventgrid\\\\Tests\\\\README.md'}, {'source': 'knowledge-base\\\\terraform_modules\\\\azurerm_eventgrid\\\\Tests\\\\README.md', 'doc_type': 'azurerm_eventgrid'}, {'doc_type': 'azurerm_eventhub', 'source': 'knowledge-base\\\\terraform_modules\\\\azurerm_eventhub\\\\README.md'}, {'source': 'knowledge-base\\\\terraform_modules\\\\azurerm_eventhub\\\\README.md', 'doc_type': 'azurerm_eventhub'}, {'source': 'knowledge-base\\\\terraform_modules\\\\azurerm_eventhub\\\\README.md', 'doc_type': 'azurerm_eventhub'}, {'source': 'knowledge-base\\\\terraform_modules\\\\azurerm_eventhub\\\\README.md', 'doc_type': 'azurerm_eventhub'}, {'source': 'knowledge-base\\\\terraform_modules\\\\azurerm_eventhub\\\\README.md', 'doc_type': 'azurerm_eventhub'}, {'doc_type': 'azurerm_eventhub', 'source': 'knowledge-base\\\\terraform_modules\\\\azurerm_eventhub\\\\README.md'}, {'source': 'knowledge-base\\\\terraform_modules\\\\azurerm_eventhub\\\\README.md', 'doc_type': 'azurerm_eventhub'}, {'source': 'knowledge-base\\\\terraform_modules\\\\azurerm_eventhub\\\\README.md', 'doc_type': 'azurerm_eventhub'}, {'doc_type': 'azurerm_eventhub', 'source': 'knowledge-base\\\\terraform_modules\\\\azurerm_eventhub\\\\README.md'}, {'source': 'knowledge-base\\\\terraform_modules\\\\azurerm_eventhub\\\\README.md', 'doc_type': 'azurerm_eventhub'}, {'doc_type': 'azurerm_eventhub', 'source': 'knowledge-base\\\\terraform_modules\\\\azurerm_eventhub\\\\README.md'}, {'doc_type': 'azurerm_eventhub', 'source': 'knowledge-base\\\\terraform_modules\\\\azurerm_eventhub\\\\README.md'}, {'doc_type': 'azurerm_eventhub', 'source': 'knowledge-base\\\\terraform_modules\\\\azurerm_eventhub\\\\README.md'}, {'doc_type': 'azurerm_eventhub', 'source': 'knowledge-base\\\\terraform_modules\\\\azurerm_eventhub\\\\README.md'}, {'source': 'knowledge-base\\\\terraform_modules\\\\azurerm_eventhub\\\\README.md', 'doc_type': 'azurerm_eventhub'}, {'source': 'knowledge-base\\\\terraform_modules\\\\azurerm_eventhub\\\\README.md', 'doc_type': 'azurerm_eventhub'}, {'doc_type': 'azurerm_eventhub', 'source': 'knowledge-base\\\\terraform_modules\\\\azurerm_eventhub\\\\README.md'}, {'doc_type': 'azurerm_eventhub', 'source': 'knowledge-base\\\\terraform_modules\\\\azurerm_eventhub\\\\README.md'}, {'source': 'knowledge-base\\\\terraform_modules\\\\azurerm_eventhub\\\\RELEASES.md', 'doc_type': 'azurerm_eventhub'}, {'source': 'knowledge-base\\\\terraform_modules\\\\azurerm_eventhub\\\\RELEASES.md', 'doc_type': 'azurerm_eventhub'}, {'source': 'knowledge-base\\\\terraform_modules\\\\azurerm_eventhub\\\\RELEASES.md', 'doc_type': 'azurerm_eventhub'}, {'doc_type': 'azurerm_eventhub', 'source': 'knowledge-base\\\\terraform_modules\\\\azurerm_eventhub\\\\Tests\\\\README.md'}, {'doc_type': 'azurerm_eventhub', 'source': 'knowledge-base\\\\terraform_modules\\\\azurerm_eventhub\\\\Tests\\\\README.md'}, {'doc_type': 'azurerm_eventhub', 'source': 'knowledge-base\\\\terraform_modules\\\\azurerm_eventhub\\\\Tests\\\\README.md'}, {'source': 'knowledge-base\\\\terraform_modules\\\\azurerm_eventhub\\\\Tests\\\\README.md', 'doc_type': 'azurerm_eventhub'}, {'doc_type': 'azurerm_key_vault (1)', 'source': 'knowledge-base\\\\terraform_modules\\\\azurerm_key_vault (1)\\\\README.md'}, {'source': 'knowledge-base\\\\terraform_modules\\\\azurerm_key_vault (1)\\\\README.md', 'doc_type': 'azurerm_key_vault (1)'}, {'source': 'knowledge-base\\\\terraform_modules\\\\azurerm_key_vault (1)\\\\README.md', 'doc_type': 'azurerm_key_vault (1)'}, {'source': 'knowledge-base\\\\terraform_modules\\\\azurerm_key_vault (1)\\\\README.md', 'doc_type': 'azurerm_key_vault (1)'}, {'doc_type': 'azurerm_key_vault (1)', 'source': 'knowledge-base\\\\terraform_modules\\\\azurerm_key_vault (1)\\\\README.md'}, {'source': 'knowledge-base\\\\terraform_modules\\\\azurerm_key_vault (1)\\\\README.md', 'doc_type': 'azurerm_key_vault (1)'}, {'source': 'knowledge-base\\\\terraform_modules\\\\azurerm_key_vault (1)\\\\README.md', 'doc_type': 'azurerm_key_vault (1)'}, {'source': 'knowledge-base\\\\terraform_modules\\\\azurerm_key_vault (1)\\\\README.md', 'doc_type': 'azurerm_key_vault (1)'}, {'doc_type': 'azurerm_key_vault (1)', 'source': 'knowledge-base\\\\terraform_modules\\\\azurerm_key_vault (1)\\\\README.md'}, {'source': 'knowledge-base\\\\terraform_modules\\\\azurerm_key_vault (1)\\\\README.md', 'doc_type': 'azurerm_key_vault (1)'}, {'source': 'knowledge-base\\\\terraform_modules\\\\azurerm_key_vault (1)\\\\README.md', 'doc_type': 'azurerm_key_vault (1)'}, {'source': 'knowledge-base\\\\terraform_modules\\\\azurerm_key_vault (1)\\\\README.md', 'doc_type': 'azurerm_key_vault (1)'}, {'doc_type': 'azurerm_key_vault (1)', 'source': 'knowledge-base\\\\terraform_modules\\\\azurerm_key_vault (1)\\\\README.md'}, {'doc_type': 'azurerm_key_vault (1)', 'source': 'knowledge-base\\\\terraform_modules\\\\azurerm_key_vault (1)\\\\README.md'}, {'source': 'knowledge-base\\\\terraform_modules\\\\azurerm_key_vault (1)\\\\README.md', 'doc_type': 'azurerm_key_vault (1)'}, {'doc_type': 'azurerm_key_vault (1)', 'source': 'knowledge-base\\\\terraform_modules\\\\azurerm_key_vault (1)\\\\README.md'}, {'doc_type': 'azurerm_key_vault (1)', 'source': 'knowledge-base\\\\terraform_modules\\\\azurerm_key_vault (1)\\\\README.md'}, {'source': 'knowledge-base\\\\terraform_modules\\\\azurerm_key_vault (1)\\\\README.md', 'doc_type': 'azurerm_key_vault (1)'}, {'doc_type': 'azurerm_key_vault (1)', 'source': 'knowledge-base\\\\terraform_modules\\\\azurerm_key_vault (1)\\\\README.md'}, {'source': 'knowledge-base\\\\terraform_modules\\\\azurerm_key_vault (1)\\\\README.md', 'doc_type': 'azurerm_key_vault (1)'}, {'doc_type': 'azurerm_key_vault (1)', 'source': 'knowledge-base\\\\terraform_modules\\\\azurerm_key_vault (1)\\\\README.md'}, {'doc_type': 'azurerm_key_vault (1)', 'source': 'knowledge-base\\\\terraform_modules\\\\azurerm_key_vault (1)\\\\README.md'}, {'source': 'knowledge-base\\\\terraform_modules\\\\azurerm_key_vault (1)\\\\README.md', 'doc_type': 'azurerm_key_vault (1)'}, {'source': 'knowledge-base\\\\terraform_modules\\\\azurerm_key_vault (1)\\\\README.md', 'doc_type': 'azurerm_key_vault (1)'}, {'doc_type': 'azurerm_key_vault (1)', 'source': 'knowledge-base\\\\terraform_modules\\\\azurerm_key_vault (1)\\\\README.md'}, {'doc_type': 'azurerm_key_vault (1)', 'source': 'knowledge-base\\\\terraform_modules\\\\azurerm_key_vault (1)\\\\README.md'}, {'doc_type': 'azurerm_key_vault (1)', 'source': 'knowledge-base\\\\terraform_modules\\\\azurerm_key_vault (1)\\\\README.md'}, {'source': 'knowledge-base\\\\terraform_modules\\\\azurerm_key_vault (1)\\\\README.md', 'doc_type': 'azurerm_key_vault (1)'}, {'source': 'knowledge-base\\\\terraform_modules\\\\azurerm_key_vault (1)\\\\README.md', 'doc_type': 'azurerm_key_vault (1)'}, {'source': 'knowledge-base\\\\terraform_modules\\\\azurerm_key_vault (1)\\\\README.md', 'doc_type': 'azurerm_key_vault (1)'}, {'doc_type': 'azurerm_key_vault (1)', 'source': 'knowledge-base\\\\terraform_modules\\\\azurerm_key_vault (1)\\\\RELEASES.md'}, {'source': 'knowledge-base\\\\terraform_modules\\\\azurerm_key_vault (1)\\\\RELEASES.md', 'doc_type': 'azurerm_key_vault (1)'}, {'source': 'knowledge-base\\\\terraform_modules\\\\azurerm_key_vault (1)\\\\RELEASES.md', 'doc_type': 'azurerm_key_vault (1)'}, {'doc_type': 'azurerm_key_vault (1)', 'source': 'knowledge-base\\\\terraform_modules\\\\azurerm_key_vault (1)\\\\RELEASES.md'}, {'doc_type': 'azurerm_key_vault (1)', 'source': 'knowledge-base\\\\terraform_modules\\\\azurerm_key_vault (1)\\\\RELEASES.md'}, {'doc_type': 'azurerm_key_vault (1)', 'source': 'knowledge-base\\\\terraform_modules\\\\azurerm_key_vault (1)\\\\RELEASES.md'}, {'source': 'knowledge-base\\\\terraform_modules\\\\azurerm_key_vault (1)\\\\Tests\\\\README.md', 'doc_type': 'azurerm_key_vault (1)'}, {'doc_type': 'azurerm_key_vault (1)', 'source': 'knowledge-base\\\\terraform_modules\\\\azurerm_key_vault (1)\\\\Tests\\\\README.md'}, {'doc_type': 'azurerm_key_vault (1)', 'source': 'knowledge-base\\\\terraform_modules\\\\azurerm_key_vault (1)\\\\Tests\\\\README.md'}, {'source': 'knowledge-base\\\\terraform_modules\\\\azurerm_key_vault (1)\\\\Tests\\\\README.md', 'doc_type': 'azurerm_key_vault (1)'}, {'doc_type': 'azurerm_kubernetes_cluster', 'source': 'knowledge-base\\\\terraform_modules\\\\azurerm_kubernetes_cluster\\\\README.md'}, {'doc_type': 'azurerm_kubernetes_cluster', 'source': 'knowledge-base\\\\terraform_modules\\\\azurerm_kubernetes_cluster\\\\README.md'}, {'source': 'knowledge-base\\\\terraform_modules\\\\azurerm_kubernetes_cluster\\\\README.md', 'doc_type': 'azurerm_kubernetes_cluster'}, {'source': 'knowledge-base\\\\terraform_modules\\\\azurerm_kubernetes_cluster\\\\README.md', 'doc_type': 'azurerm_kubernetes_cluster'}, {'source': 'knowledge-base\\\\terraform_modules\\\\azurerm_kubernetes_cluster\\\\README.md', 'doc_type': 'azurerm_kubernetes_cluster'}, {'source': 'knowledge-base\\\\terraform_modules\\\\azurerm_kubernetes_cluster\\\\README.md', 'doc_type': 'azurerm_kubernetes_cluster'}, {'source': 'knowledge-base\\\\terraform_modules\\\\azurerm_kubernetes_cluster\\\\README.md', 'doc_type': 'azurerm_kubernetes_cluster'}, {'doc_type': 'azurerm_kubernetes_cluster', 'source': 'knowledge-base\\\\terraform_modules\\\\azurerm_kubernetes_cluster\\\\README.md'}, {'doc_type': 'azurerm_kubernetes_cluster', 'source': 'knowledge-base\\\\terraform_modules\\\\azurerm_kubernetes_cluster\\\\README.md'}, {'source': 'knowledge-base\\\\terraform_modules\\\\azurerm_kubernetes_cluster\\\\README.md', 'doc_type': 'azurerm_kubernetes_cluster'}, {'source': 'knowledge-base\\\\terraform_modules\\\\azurerm_kubernetes_cluster\\\\README.md', 'doc_type': 'azurerm_kubernetes_cluster'}, {'source': 'knowledge-base\\\\terraform_modules\\\\azurerm_kubernetes_cluster\\\\README.md', 'doc_type': 'azurerm_kubernetes_cluster'}, {'source': 'knowledge-base\\\\terraform_modules\\\\azurerm_kubernetes_cluster\\\\README.md', 'doc_type': 'azurerm_kubernetes_cluster'}, {'doc_type': 'azurerm_kubernetes_cluster', 'source': 'knowledge-base\\\\terraform_modules\\\\azurerm_kubernetes_cluster\\\\README.md'}, {'doc_type': 'azurerm_kubernetes_cluster', 'source': 'knowledge-base\\\\terraform_modules\\\\azurerm_kubernetes_cluster\\\\README.md'}, {'source': 'knowledge-base\\\\terraform_modules\\\\azurerm_kubernetes_cluster\\\\README.md', 'doc_type': 'azurerm_kubernetes_cluster'}, {'source': 'knowledge-base\\\\terraform_modules\\\\azurerm_kubernetes_cluster\\\\README.md', 'doc_type': 'azurerm_kubernetes_cluster'}, {'doc_type': 'azurerm_kubernetes_cluster', 'source': 'knowledge-base\\\\terraform_modules\\\\azurerm_kubernetes_cluster\\\\README.md'}, {'source': 'knowledge-base\\\\terraform_modules\\\\azurerm_kubernetes_cluster\\\\README.md', 'doc_type': 'azurerm_kubernetes_cluster'}, {'doc_type': 'azurerm_kubernetes_cluster', 'source': 'knowledge-base\\\\terraform_modules\\\\azurerm_kubernetes_cluster\\\\README.md'}, {'doc_type': 'azurerm_kubernetes_cluster', 'source': 'knowledge-base\\\\terraform_modules\\\\azurerm_kubernetes_cluster\\\\README.md'}, {'doc_type': 'azurerm_kubernetes_cluster', 'source': 'knowledge-base\\\\terraform_modules\\\\azurerm_kubernetes_cluster\\\\README.md'}, {'source': 'knowledge-base\\\\terraform_modules\\\\azurerm_kubernetes_cluster\\\\README.md', 'doc_type': 'azurerm_kubernetes_cluster'}, {'source': 'knowledge-base\\\\terraform_modules\\\\azurerm_kubernetes_cluster\\\\README.md', 'doc_type': 'azurerm_kubernetes_cluster'}, {'doc_type': 'azurerm_kubernetes_cluster', 'source': 'knowledge-base\\\\terraform_modules\\\\azurerm_kubernetes_cluster\\\\README.md'}, {'doc_type': 'azurerm_kubernetes_cluster', 'source': 'knowledge-base\\\\terraform_modules\\\\azurerm_kubernetes_cluster\\\\README.md'}, {'source': 'knowledge-base\\\\terraform_modules\\\\azurerm_kubernetes_cluster\\\\README.md', 'doc_type': 'azurerm_kubernetes_cluster'}, {'source': 'knowledge-base\\\\terraform_modules\\\\azurerm_kubernetes_cluster\\\\README.md', 'doc_type': 'azurerm_kubernetes_cluster'}, {'doc_type': 'azurerm_kubernetes_cluster', 'source': 'knowledge-base\\\\terraform_modules\\\\azurerm_kubernetes_cluster\\\\README.md'}, {'source': 'knowledge-base\\\\terraform_modules\\\\azurerm_kubernetes_cluster\\\\README.md', 'doc_type': 'azurerm_kubernetes_cluster'}, {'doc_type': 'azurerm_kubernetes_cluster', 'source': 'knowledge-base\\\\terraform_modules\\\\azurerm_kubernetes_cluster\\\\README.md'}, {'source': 'knowledge-base\\\\terraform_modules\\\\azurerm_kubernetes_cluster\\\\README.md', 'doc_type': 'azurerm_kubernetes_cluster'}, {'source': 'knowledge-base\\\\terraform_modules\\\\azurerm_kubernetes_cluster\\\\README.md', 'doc_type': 'azurerm_kubernetes_cluster'}, {'doc_type': 'azurerm_kubernetes_cluster', 'source': 'knowledge-base\\\\terraform_modules\\\\azurerm_kubernetes_cluster\\\\README.md'}, {'doc_type': 'azurerm_kubernetes_cluster', 'source': 'knowledge-base\\\\terraform_modules\\\\azurerm_kubernetes_cluster\\\\README.md'}, {'doc_type': 'azurerm_kubernetes_cluster', 'source': 'knowledge-base\\\\terraform_modules\\\\azurerm_kubernetes_cluster\\\\README.md'}, {'source': 'knowledge-base\\\\terraform_modules\\\\azurerm_kubernetes_cluster\\\\README.md', 'doc_type': 'azurerm_kubernetes_cluster'}, {'doc_type': 'azurerm_kubernetes_cluster', 'source': 'knowledge-base\\\\terraform_modules\\\\azurerm_kubernetes_cluster\\\\README.md'}, {'doc_type': 'azurerm_kubernetes_cluster', 'source': 'knowledge-base\\\\terraform_modules\\\\azurerm_kubernetes_cluster\\\\README.md'}, {'source': 'knowledge-base\\\\terraform_modules\\\\azurerm_kubernetes_cluster\\\\README.md', 'doc_type': 'azurerm_kubernetes_cluster'}, {'doc_type': 'azurerm_kubernetes_cluster', 'source': 'knowledge-base\\\\terraform_modules\\\\azurerm_kubernetes_cluster\\\\README.md'}, {'doc_type': 'azurerm_kubernetes_cluster', 'source': 'knowledge-base\\\\terraform_modules\\\\azurerm_kubernetes_cluster\\\\README.md'}, {'doc_type': 'azurerm_kubernetes_cluster', 'source': 'knowledge-base\\\\terraform_modules\\\\azurerm_kubernetes_cluster\\\\README.md'}, {'doc_type': 'azurerm_kubernetes_cluster', 'source': 'knowledge-base\\\\terraform_modules\\\\azurerm_kubernetes_cluster\\\\README.md'}, {'doc_type': 'azurerm_kubernetes_cluster', 'source': 'knowledge-base\\\\terraform_modules\\\\azurerm_kubernetes_cluster\\\\README.md'}, {'doc_type': 'azurerm_kubernetes_cluster', 'source': 'knowledge-base\\\\terraform_modules\\\\azurerm_kubernetes_cluster\\\\README.md'}, {'source': 'knowledge-base\\\\terraform_modules\\\\azurerm_kubernetes_cluster\\\\README.md', 'doc_type': 'azurerm_kubernetes_cluster'}, {'doc_type': 'azurerm_kubernetes_cluster', 'source': 'knowledge-base\\\\terraform_modules\\\\azurerm_kubernetes_cluster\\\\README.md'}, {'source': 'knowledge-base\\\\terraform_modules\\\\azurerm_kubernetes_cluster\\\\README.md', 'doc_type': 'azurerm_kubernetes_cluster'}, {'doc_type': 'azurerm_kubernetes_cluster', 'source': 'knowledge-base\\\\terraform_modules\\\\azurerm_kubernetes_cluster\\\\README.md'}, {'doc_type': 'azurerm_kubernetes_cluster', 'source': 'knowledge-base\\\\terraform_modules\\\\azurerm_kubernetes_cluster\\\\README.md'}, {'doc_type': 'azurerm_kubernetes_cluster', 'source': 'knowledge-base\\\\terraform_modules\\\\azurerm_kubernetes_cluster\\\\README.md'}, {'source': 'knowledge-base\\\\terraform_modules\\\\azurerm_kubernetes_cluster\\\\README.md', 'doc_type': 'azurerm_kubernetes_cluster'}, {'doc_type': 'azurerm_kubernetes_cluster', 'source': 'knowledge-base\\\\terraform_modules\\\\azurerm_kubernetes_cluster\\\\README.md'}, {'source': 'knowledge-base\\\\terraform_modules\\\\azurerm_kubernetes_cluster\\\\README.md', 'doc_type': 'azurerm_kubernetes_cluster'}, {'source': 'knowledge-base\\\\terraform_modules\\\\azurerm_kubernetes_cluster\\\\README.md', 'doc_type': 'azurerm_kubernetes_cluster'}, {'doc_type': 'azurerm_kubernetes_cluster', 'source': 'knowledge-base\\\\terraform_modules\\\\azurerm_kubernetes_cluster\\\\README.md'}, {'source': 'knowledge-base\\\\terraform_modules\\\\azurerm_kubernetes_cluster\\\\README.md', 'doc_type': 'azurerm_kubernetes_cluster'}, {'doc_type': 'azurerm_kubernetes_cluster', 'source': 'knowledge-base\\\\terraform_modules\\\\azurerm_kubernetes_cluster\\\\README.md'}, {'doc_type': 'azurerm_kubernetes_cluster', 'source': 'knowledge-base\\\\terraform_modules\\\\azurerm_kubernetes_cluster\\\\README.md'}, {'source': 'knowledge-base\\\\terraform_modules\\\\azurerm_kubernetes_cluster\\\\README.md', 'doc_type': 'azurerm_kubernetes_cluster'}, {'doc_type': 'azurerm_kubernetes_cluster', 'source': 'knowledge-base\\\\terraform_modules\\\\azurerm_kubernetes_cluster\\\\README.md'}, {'doc_type': 'azurerm_kubernetes_cluster', 'source': 'knowledge-base\\\\terraform_modules\\\\azurerm_kubernetes_cluster\\\\README.md'}, {'doc_type': 'azurerm_kubernetes_cluster', 'source': 'knowledge-base\\\\terraform_modules\\\\azurerm_kubernetes_cluster\\\\README.md'}, {'source': 'knowledge-base\\\\terraform_modules\\\\azurerm_kubernetes_cluster\\\\README.md', 'doc_type': 'azurerm_kubernetes_cluster'}, {'doc_type': 'azurerm_kubernetes_cluster', 'source': 'knowledge-base\\\\terraform_modules\\\\azurerm_kubernetes_cluster\\\\README.md'}, {'doc_type': 'azurerm_kubernetes_cluster', 'source': 'knowledge-base\\\\terraform_modules\\\\azurerm_kubernetes_cluster\\\\README.md'}, {'source': 'knowledge-base\\\\terraform_modules\\\\azurerm_kubernetes_cluster\\\\README.md', 'doc_type': 'azurerm_kubernetes_cluster'}, {'source': 'knowledge-base\\\\terraform_modules\\\\azurerm_kubernetes_cluster\\\\README.md', 'doc_type': 'azurerm_kubernetes_cluster'}, {'doc_type': 'azurerm_kubernetes_cluster', 'source': 'knowledge-base\\\\terraform_modules\\\\azurerm_kubernetes_cluster\\\\README.md'}, {'doc_type': 'azurerm_kubernetes_cluster', 'source': 'knowledge-base\\\\terraform_modules\\\\azurerm_kubernetes_cluster\\\\README.md'}, {'doc_type': 'azurerm_kubernetes_cluster', 'source': 'knowledge-base\\\\terraform_modules\\\\azurerm_kubernetes_cluster\\\\README.md'}, {'doc_type': 'azurerm_kubernetes_cluster', 'source': 'knowledge-base\\\\terraform_modules\\\\azurerm_kubernetes_cluster\\\\README.md'}, {'doc_type': 'azurerm_kubernetes_cluster', 'source': 'knowledge-base\\\\terraform_modules\\\\azurerm_kubernetes_cluster\\\\README.md'}, {'source': 'knowledge-base\\\\terraform_modules\\\\azurerm_kubernetes_cluster\\\\README.md', 'doc_type': 'azurerm_kubernetes_cluster'}, {'doc_type': 'azurerm_kubernetes_cluster', 'source': 'knowledge-base\\\\terraform_modules\\\\azurerm_kubernetes_cluster\\\\README.md'}, {'source': 'knowledge-base\\\\terraform_modules\\\\azurerm_kubernetes_cluster\\\\README.md', 'doc_type': 'azurerm_kubernetes_cluster'}, {'doc_type': 'azurerm_kubernetes_cluster', 'source': 'knowledge-base\\\\terraform_modules\\\\azurerm_kubernetes_cluster\\\\README.md'}, {'source': 'knowledge-base\\\\terraform_modules\\\\azurerm_kubernetes_cluster\\\\README.md', 'doc_type': 'azurerm_kubernetes_cluster'}, {'source': 'knowledge-base\\\\terraform_modules\\\\azurerm_kubernetes_cluster\\\\README.md', 'doc_type': 'azurerm_kubernetes_cluster'}, {'source': 'knowledge-base\\\\terraform_modules\\\\azurerm_kubernetes_cluster\\\\README.md', 'doc_type': 'azurerm_kubernetes_cluster'}, {'doc_type': 'azurerm_kubernetes_cluster', 'source': 'knowledge-base\\\\terraform_modules\\\\azurerm_kubernetes_cluster\\\\README.md'}, {'doc_type': 'azurerm_kubernetes_cluster', 'source': 'knowledge-base\\\\terraform_modules\\\\azurerm_kubernetes_cluster\\\\README.md'}, {'source': 'knowledge-base\\\\terraform_modules\\\\azurerm_kubernetes_cluster\\\\README.md', 'doc_type': 'azurerm_kubernetes_cluster'}, {'source': 'knowledge-base\\\\terraform_modules\\\\azurerm_kubernetes_cluster\\\\README.md', 'doc_type': 'azurerm_kubernetes_cluster'}, {'source': 'knowledge-base\\\\terraform_modules\\\\azurerm_kubernetes_cluster\\\\README.md', 'doc_type': 'azurerm_kubernetes_cluster'}, {'source': 'knowledge-base\\\\terraform_modules\\\\azurerm_kubernetes_cluster\\\\README.md', 'doc_type': 'azurerm_kubernetes_cluster'}, {'source': 'knowledge-base\\\\terraform_modules\\\\azurerm_kubernetes_cluster\\\\README.md', 'doc_type': 'azurerm_kubernetes_cluster'}, {'doc_type': 'azurerm_kubernetes_cluster', 'source': 'knowledge-base\\\\terraform_modules\\\\azurerm_kubernetes_cluster\\\\README.md'}, {'doc_type': 'azurerm_kubernetes_cluster', 'source': 'knowledge-base\\\\terraform_modules\\\\azurerm_kubernetes_cluster\\\\README.md'}, {'doc_type': 'azurerm_kubernetes_cluster', 'source': 'knowledge-base\\\\terraform_modules\\\\azurerm_kubernetes_cluster\\\\RELEASES.md'}, {'doc_type': 'azurerm_kubernetes_cluster', 'source': 'knowledge-base\\\\terraform_modules\\\\azurerm_kubernetes_cluster\\\\RELEASES.md'}, {'doc_type': 'azurerm_kubernetes_cluster', 'source': 'knowledge-base\\\\terraform_modules\\\\azurerm_kubernetes_cluster\\\\RELEASES.md'}, {'doc_type': 'azurerm_kubernetes_cluster', 'source': 'knowledge-base\\\\terraform_modules\\\\azurerm_kubernetes_cluster\\\\RELEASES.md'}, {'source': 'knowledge-base\\\\terraform_modules\\\\azurerm_kubernetes_cluster\\\\RELEASES.md', 'doc_type': 'azurerm_kubernetes_cluster'}, {'doc_type': 'azurerm_kubernetes_cluster', 'source': 'knowledge-base\\\\terraform_modules\\\\azurerm_kubernetes_cluster\\\\RELEASES.md'}, {'doc_type': 'azurerm_kubernetes_cluster', 'source': 'knowledge-base\\\\terraform_modules\\\\azurerm_kubernetes_cluster\\\\RELEASES.md'}, {'doc_type': 'azurerm_kubernetes_cluster', 'source': 'knowledge-base\\\\terraform_modules\\\\azurerm_kubernetes_cluster\\\\RELEASES.md'}, {'source': 'knowledge-base\\\\terraform_modules\\\\azurerm_kubernetes_cluster\\\\RELEASES.md', 'doc_type': 'azurerm_kubernetes_cluster'}, {'source': 'knowledge-base\\\\terraform_modules\\\\azurerm_kubernetes_cluster\\\\Tests\\\\README.md', 'doc_type': 'azurerm_kubernetes_cluster'}, {'doc_type': 'azurerm_kubernetes_cluster', 'source': 'knowledge-base\\\\terraform_modules\\\\azurerm_kubernetes_cluster\\\\Tests\\\\README.md'}, {'doc_type': 'azurerm_kubernetes_cluster', 'source': 'knowledge-base\\\\terraform_modules\\\\azurerm_kubernetes_cluster\\\\Tests\\\\README.md'}, {'doc_type': 'azurerm_kubernetes_cluster', 'source': 'knowledge-base\\\\terraform_modules\\\\azurerm_kubernetes_cluster\\\\Tests\\\\README.md'}, {'source': 'knowledge-base\\\\terraform_modules\\\\azurerm_linux_function_app\\\\README.md', 'doc_type': 'azurerm_linux_function_app'}, {'source': 'knowledge-base\\\\terraform_modules\\\\azurerm_linux_function_app\\\\README.md', 'doc_type': 'azurerm_linux_function_app'}, {'source': 'knowledge-base\\\\terraform_modules\\\\azurerm_linux_function_app\\\\README.md', 'doc_type': 'azurerm_linux_function_app'}, {'doc_type': 'azurerm_linux_function_app', 'source': 'knowledge-base\\\\terraform_modules\\\\azurerm_linux_function_app\\\\README.md'}, {'doc_type': 'azurerm_linux_function_app', 'source': 'knowledge-base\\\\terraform_modules\\\\azurerm_linux_function_app\\\\README.md'}, {'source': 'knowledge-base\\\\terraform_modules\\\\azurerm_linux_function_app\\\\README.md', 'doc_type': 'azurerm_linux_function_app'}, {'source': 'knowledge-base\\\\terraform_modules\\\\azurerm_linux_function_app\\\\README.md', 'doc_type': 'azurerm_linux_function_app'}, {'source': 'knowledge-base\\\\terraform_modules\\\\azurerm_linux_function_app\\\\README.md', 'doc_type': 'azurerm_linux_function_app'}, {'source': 'knowledge-base\\\\terraform_modules\\\\azurerm_linux_function_app\\\\README.md', 'doc_type': 'azurerm_linux_function_app'}, {'doc_type': 'azurerm_linux_function_app', 'source': 'knowledge-base\\\\terraform_modules\\\\azurerm_linux_function_app\\\\README.md'}, {'source': 'knowledge-base\\\\terraform_modules\\\\azurerm_linux_function_app\\\\README.md', 'doc_type': 'azurerm_linux_function_app'}, {'source': 'knowledge-base\\\\terraform_modules\\\\azurerm_linux_function_app\\\\README.md', 'doc_type': 'azurerm_linux_function_app'}, {'doc_type': 'azurerm_linux_function_app', 'source': 'knowledge-base\\\\terraform_modules\\\\azurerm_linux_function_app\\\\README.md'}, {'source': 'knowledge-base\\\\terraform_modules\\\\azurerm_linux_function_app\\\\README.md', 'doc_type': 'azurerm_linux_function_app'}, {'source': 'knowledge-base\\\\terraform_modules\\\\azurerm_linux_function_app\\\\README.md', 'doc_type': 'azurerm_linux_function_app'}, {'source': 'knowledge-base\\\\terraform_modules\\\\azurerm_linux_function_app\\\\README.md', 'doc_type': 'azurerm_linux_function_app'}, {'doc_type': 'azurerm_linux_function_app', 'source': 'knowledge-base\\\\terraform_modules\\\\azurerm_linux_function_app\\\\README.md'}, {'source': 'knowledge-base\\\\terraform_modules\\\\azurerm_linux_function_app\\\\README.md', 'doc_type': 'azurerm_linux_function_app'}, {'source': 'knowledge-base\\\\terraform_modules\\\\azurerm_linux_function_app\\\\README.md', 'doc_type': 'azurerm_linux_function_app'}, {'doc_type': 'azurerm_linux_function_app', 'source': 'knowledge-base\\\\terraform_modules\\\\azurerm_linux_function_app\\\\README.md'}, {'doc_type': 'azurerm_linux_function_app', 'source': 'knowledge-base\\\\terraform_modules\\\\azurerm_linux_function_app\\\\README.md'}, {'doc_type': 'azurerm_linux_function_app', 'source': 'knowledge-base\\\\terraform_modules\\\\azurerm_linux_function_app\\\\README.md'}, {'source': 'knowledge-base\\\\terraform_modules\\\\azurerm_linux_function_app\\\\README.md', 'doc_type': 'azurerm_linux_function_app'}, {'doc_type': 'azurerm_linux_function_app', 'source': 'knowledge-base\\\\terraform_modules\\\\azurerm_linux_function_app\\\\README.md'}, {'doc_type': 'azurerm_linux_function_app', 'source': 'knowledge-base\\\\terraform_modules\\\\azurerm_linux_function_app\\\\README.md'}, {'source': 'knowledge-base\\\\terraform_modules\\\\azurerm_linux_function_app\\\\RELEASES.md', 'doc_type': 'azurerm_linux_function_app'}, {'doc_type': 'azurerm_linux_function_app', 'source': 'knowledge-base\\\\terraform_modules\\\\azurerm_linux_function_app\\\\Tests\\\\README.md'}, {'source': 'knowledge-base\\\\terraform_modules\\\\azurerm_linux_function_app\\\\Tests\\\\README.md', 'doc_type': 'azurerm_linux_function_app'}, {'source': 'knowledge-base\\\\terraform_modules\\\\azurerm_linux_function_app\\\\Tests\\\\README.md', 'doc_type': 'azurerm_linux_function_app'}, {'source': 'knowledge-base\\\\terraform_modules\\\\azurerm_linux_function_app\\\\Tests\\\\README.md', 'doc_type': 'azurerm_linux_function_app'}, {'source': 'knowledge-base\\\\terraform_modules\\\\azurerm_linux_virtual_machine\\\\README.md', 'doc_type': 'azurerm_linux_virtual_machine'}, {'doc_type': 'azurerm_linux_virtual_machine', 'source': 'knowledge-base\\\\terraform_modules\\\\azurerm_linux_virtual_machine\\\\README.md'}, {'source': 'knowledge-base\\\\terraform_modules\\\\azurerm_linux_virtual_machine\\\\README.md', 'doc_type': 'azurerm_linux_virtual_machine'}, {'source': 'knowledge-base\\\\terraform_modules\\\\azurerm_linux_virtual_machine\\\\README.md', 'doc_type': 'azurerm_linux_virtual_machine'}, {'source': 'knowledge-base\\\\terraform_modules\\\\azurerm_linux_virtual_machine\\\\README.md', 'doc_type': 'azurerm_linux_virtual_machine'}, {'source': 'knowledge-base\\\\terraform_modules\\\\azurerm_linux_virtual_machine\\\\README.md', 'doc_type': 'azurerm_linux_virtual_machine'}, {'doc_type': 'azurerm_linux_virtual_machine', 'source': 'knowledge-base\\\\terraform_modules\\\\azurerm_linux_virtual_machine\\\\README.md'}, {'doc_type': 'azurerm_linux_virtual_machine', 'source': 'knowledge-base\\\\terraform_modules\\\\azurerm_linux_virtual_machine\\\\README.md'}, {'doc_type': 'azurerm_linux_virtual_machine', 'source': 'knowledge-base\\\\terraform_modules\\\\azurerm_linux_virtual_machine\\\\README.md'}, {'source': 'knowledge-base\\\\terraform_modules\\\\azurerm_linux_virtual_machine\\\\README.md', 'doc_type': 'azurerm_linux_virtual_machine'}, {'source': 'knowledge-base\\\\terraform_modules\\\\azurerm_linux_virtual_machine\\\\README.md', 'doc_type': 'azurerm_linux_virtual_machine'}, {'source': 'knowledge-base\\\\terraform_modules\\\\azurerm_linux_virtual_machine\\\\README.md', 'doc_type': 'azurerm_linux_virtual_machine'}, {'doc_type': 'azurerm_linux_virtual_machine', 'source': 'knowledge-base\\\\terraform_modules\\\\azurerm_linux_virtual_machine\\\\README.md'}, {'source': 'knowledge-base\\\\terraform_modules\\\\azurerm_linux_virtual_machine\\\\README.md', 'doc_type': 'azurerm_linux_virtual_machine'}, {'doc_type': 'azurerm_linux_virtual_machine', 'source': 'knowledge-base\\\\terraform_modules\\\\azurerm_linux_virtual_machine\\\\README.md'}, {'doc_type': 'azurerm_linux_virtual_machine', 'source': 'knowledge-base\\\\terraform_modules\\\\azurerm_linux_virtual_machine\\\\README.md'}, {'doc_type': 'azurerm_linux_virtual_machine', 'source': 'knowledge-base\\\\terraform_modules\\\\azurerm_linux_virtual_machine\\\\README.md'}, {'source': 'knowledge-base\\\\terraform_modules\\\\azurerm_linux_virtual_machine\\\\README.md', 'doc_type': 'azurerm_linux_virtual_machine'}, {'doc_type': 'azurerm_linux_virtual_machine', 'source': 'knowledge-base\\\\terraform_modules\\\\azurerm_linux_virtual_machine\\\\README.md'}, {'source': 'knowledge-base\\\\terraform_modules\\\\azurerm_linux_virtual_machine\\\\README.md', 'doc_type': 'azurerm_linux_virtual_machine'}, {'doc_type': 'azurerm_linux_virtual_machine', 'source': 'knowledge-base\\\\terraform_modules\\\\azurerm_linux_virtual_machine\\\\README.md'}, {'doc_type': 'azurerm_linux_virtual_machine', 'source': 'knowledge-base\\\\terraform_modules\\\\azurerm_linux_virtual_machine\\\\README.md'}, {'source': 'knowledge-base\\\\terraform_modules\\\\azurerm_linux_virtual_machine\\\\README.md', 'doc_type': 'azurerm_linux_virtual_machine'}, {'source': 'knowledge-base\\\\terraform_modules\\\\azurerm_linux_virtual_machine\\\\RELEASES.md', 'doc_type': 'azurerm_linux_virtual_machine'}, {'doc_type': 'azurerm_linux_virtual_machine', 'source': 'knowledge-base\\\\terraform_modules\\\\azurerm_linux_virtual_machine\\\\RELEASES.md'}, {'source': 'knowledge-base\\\\terraform_modules\\\\azurerm_linux_virtual_machine\\\\RELEASES.md', 'doc_type': 'azurerm_linux_virtual_machine'}, {'doc_type': 'azurerm_linux_virtual_machine', 'source': 'knowledge-base\\\\terraform_modules\\\\azurerm_linux_virtual_machine\\\\RELEASES.md'}, {'source': 'knowledge-base\\\\terraform_modules\\\\azurerm_linux_virtual_machine\\\\RELEASES.md', 'doc_type': 'azurerm_linux_virtual_machine'}, {'doc_type': 'azurerm_linux_virtual_machine', 'source': 'knowledge-base\\\\terraform_modules\\\\azurerm_linux_virtual_machine\\\\Tests\\\\README.md'}, {'source': 'knowledge-base\\\\terraform_modules\\\\azurerm_linux_virtual_machine\\\\Tests\\\\README.md', 'doc_type': 'azurerm_linux_virtual_machine'}, {'doc_type': 'azurerm_linux_virtual_machine', 'source': 'knowledge-base\\\\terraform_modules\\\\azurerm_linux_virtual_machine\\\\Tests\\\\README.md'}, {'doc_type': 'azurerm_linux_virtual_machine', 'source': 'knowledge-base\\\\terraform_modules\\\\azurerm_linux_virtual_machine\\\\Tests\\\\README.md'}, {'doc_type': 'azurerm_linux_virtual_machine_scale_set', 'source': 'knowledge-base\\\\terraform_modules\\\\azurerm_linux_virtual_machine_scale_set\\\\README.md'}, {'doc_type': 'azurerm_linux_virtual_machine_scale_set', 'source': 'knowledge-base\\\\terraform_modules\\\\azurerm_linux_virtual_machine_scale_set\\\\README.md'}, {'source': 'knowledge-base\\\\terraform_modules\\\\azurerm_linux_virtual_machine_scale_set\\\\README.md', 'doc_type': 'azurerm_linux_virtual_machine_scale_set'}, {'source': 'knowledge-base\\\\terraform_modules\\\\azurerm_linux_virtual_machine_scale_set\\\\README.md', 'doc_type': 'azurerm_linux_virtual_machine_scale_set'}, {'doc_type': 'azurerm_linux_virtual_machine_scale_set', 'source': 'knowledge-base\\\\terraform_modules\\\\azurerm_linux_virtual_machine_scale_set\\\\README.md'}, {'source': 'knowledge-base\\\\terraform_modules\\\\azurerm_linux_virtual_machine_scale_set\\\\README.md', 'doc_type': 'azurerm_linux_virtual_machine_scale_set'}, {'doc_type': 'azurerm_linux_virtual_machine_scale_set', 'source': 'knowledge-base\\\\terraform_modules\\\\azurerm_linux_virtual_machine_scale_set\\\\README.md'}, {'source': 'knowledge-base\\\\terraform_modules\\\\azurerm_linux_virtual_machine_scale_set\\\\README.md', 'doc_type': 'azurerm_linux_virtual_machine_scale_set'}, {'source': 'knowledge-base\\\\terraform_modules\\\\azurerm_linux_virtual_machine_scale_set\\\\README.md', 'doc_type': 'azurerm_linux_virtual_machine_scale_set'}, {'source': 'knowledge-base\\\\terraform_modules\\\\azurerm_linux_virtual_machine_scale_set\\\\README.md', 'doc_type': 'azurerm_linux_virtual_machine_scale_set'}, {'source': 'knowledge-base\\\\terraform_modules\\\\azurerm_linux_virtual_machine_scale_set\\\\README.md', 'doc_type': 'azurerm_linux_virtual_machine_scale_set'}, {'doc_type': 'azurerm_linux_virtual_machine_scale_set', 'source': 'knowledge-base\\\\terraform_modules\\\\azurerm_linux_virtual_machine_scale_set\\\\README.md'}, {'source': 'knowledge-base\\\\terraform_modules\\\\azurerm_linux_virtual_machine_scale_set\\\\README.md', 'doc_type': 'azurerm_linux_virtual_machine_scale_set'}, {'doc_type': 'azurerm_linux_virtual_machine_scale_set', 'source': 'knowledge-base\\\\terraform_modules\\\\azurerm_linux_virtual_machine_scale_set\\\\README.md'}, {'source': 'knowledge-base\\\\terraform_modules\\\\azurerm_linux_virtual_machine_scale_set\\\\README.md', 'doc_type': 'azurerm_linux_virtual_machine_scale_set'}, {'source': 'knowledge-base\\\\terraform_modules\\\\azurerm_linux_virtual_machine_scale_set\\\\README.md', 'doc_type': 'azurerm_linux_virtual_machine_scale_set'}, {'doc_type': 'azurerm_linux_virtual_machine_scale_set', 'source': 'knowledge-base\\\\terraform_modules\\\\azurerm_linux_virtual_machine_scale_set\\\\README.md'}, {'doc_type': 'azurerm_linux_virtual_machine_scale_set', 'source': 'knowledge-base\\\\terraform_modules\\\\azurerm_linux_virtual_machine_scale_set\\\\README.md'}, {'source': 'knowledge-base\\\\terraform_modules\\\\azurerm_linux_virtual_machine_scale_set\\\\README.md', 'doc_type': 'azurerm_linux_virtual_machine_scale_set'}, {'doc_type': 'azurerm_linux_virtual_machine_scale_set', 'source': 'knowledge-base\\\\terraform_modules\\\\azurerm_linux_virtual_machine_scale_set\\\\README.md'}, {'doc_type': 'azurerm_linux_virtual_machine_scale_set', 'source': 'knowledge-base\\\\terraform_modules\\\\azurerm_linux_virtual_machine_scale_set\\\\README.md'}, {'doc_type': 'azurerm_linux_virtual_machine_scale_set', 'source': 'knowledge-base\\\\terraform_modules\\\\azurerm_linux_virtual_machine_scale_set\\\\README.md'}, {'source': 'knowledge-base\\\\terraform_modules\\\\azurerm_linux_virtual_machine_scale_set\\\\README.md', 'doc_type': 'azurerm_linux_virtual_machine_scale_set'}, {'source': 'knowledge-base\\\\terraform_modules\\\\azurerm_linux_virtual_machine_scale_set\\\\README.md', 'doc_type': 'azurerm_linux_virtual_machine_scale_set'}, {'source': 'knowledge-base\\\\terraform_modules\\\\azurerm_linux_virtual_machine_scale_set\\\\README.md', 'doc_type': 'azurerm_linux_virtual_machine_scale_set'}, {'source': 'knowledge-base\\\\terraform_modules\\\\azurerm_linux_virtual_machine_scale_set\\\\README.md', 'doc_type': 'azurerm_linux_virtual_machine_scale_set'}, {'doc_type': 'azurerm_linux_virtual_machine_scale_set', 'source': 'knowledge-base\\\\terraform_modules\\\\azurerm_linux_virtual_machine_scale_set\\\\README.md'}, {'doc_type': 'azurerm_linux_virtual_machine_scale_set', 'source': 'knowledge-base\\\\terraform_modules\\\\azurerm_linux_virtual_machine_scale_set\\\\README.md'}, {'source': 'knowledge-base\\\\terraform_modules\\\\azurerm_linux_virtual_machine_scale_set\\\\README.md', 'doc_type': 'azurerm_linux_virtual_machine_scale_set'}, {'doc_type': 'azurerm_linux_virtual_machine_scale_set', 'source': 'knowledge-base\\\\terraform_modules\\\\azurerm_linux_virtual_machine_scale_set\\\\README.md'}, {'source': 'knowledge-base\\\\terraform_modules\\\\azurerm_linux_virtual_machine_scale_set\\\\README.md', 'doc_type': 'azurerm_linux_virtual_machine_scale_set'}, {'doc_type': 'azurerm_linux_virtual_machine_scale_set', 'source': 'knowledge-base\\\\terraform_modules\\\\azurerm_linux_virtual_machine_scale_set\\\\README.md'}, {'source': 'knowledge-base\\\\terraform_modules\\\\azurerm_linux_virtual_machine_scale_set\\\\README.md', 'doc_type': 'azurerm_linux_virtual_machine_scale_set'}, {'doc_type': 'azurerm_linux_virtual_machine_scale_set', 'source': 'knowledge-base\\\\terraform_modules\\\\azurerm_linux_virtual_machine_scale_set\\\\README.md'}, {'doc_type': 'azurerm_linux_virtual_machine_scale_set', 'source': 'knowledge-base\\\\terraform_modules\\\\azurerm_linux_virtual_machine_scale_set\\\\README.md'}, {'doc_type': 'azurerm_linux_virtual_machine_scale_set', 'source': 'knowledge-base\\\\terraform_modules\\\\azurerm_linux_virtual_machine_scale_set\\\\README.md'}, {'source': 'knowledge-base\\\\terraform_modules\\\\azurerm_linux_virtual_machine_scale_set\\\\README.md', 'doc_type': 'azurerm_linux_virtual_machine_scale_set'}, {'doc_type': 'azurerm_linux_virtual_machine_scale_set', 'source': 'knowledge-base\\\\terraform_modules\\\\azurerm_linux_virtual_machine_scale_set\\\\README.md'}, {'source': 'knowledge-base\\\\terraform_modules\\\\azurerm_linux_virtual_machine_scale_set\\\\README.md', 'doc_type': 'azurerm_linux_virtual_machine_scale_set'}, {'doc_type': 'azurerm_linux_virtual_machine_scale_set', 'source': 'knowledge-base\\\\terraform_modules\\\\azurerm_linux_virtual_machine_scale_set\\\\RELEASES.md'}, {'source': 'knowledge-base\\\\terraform_modules\\\\azurerm_linux_virtual_machine_scale_set\\\\Tests\\\\README.md', 'doc_type': 'azurerm_linux_virtual_machine_scale_set'}, {'source': 'knowledge-base\\\\terraform_modules\\\\azurerm_linux_virtual_machine_scale_set\\\\Tests\\\\README.md', 'doc_type': 'azurerm_linux_virtual_machine_scale_set'}, {'source': 'knowledge-base\\\\terraform_modules\\\\azurerm_linux_virtual_machine_scale_set\\\\Tests\\\\README.md', 'doc_type': 'azurerm_linux_virtual_machine_scale_set'}, {'source': 'knowledge-base\\\\terraform_modules\\\\azurerm_linux_virtual_machine_scale_set\\\\Tests\\\\README.md', 'doc_type': 'azurerm_linux_virtual_machine_scale_set'}, {'source': 'knowledge-base\\\\terraform_modules\\\\azurerm_linux_web_app (1)\\\\README.md', 'doc_type': 'azurerm_linux_web_app (1)'}, {'doc_type': 'azurerm_linux_web_app (1)', 'source': 'knowledge-base\\\\terraform_modules\\\\azurerm_linux_web_app (1)\\\\README.md'}, {'doc_type': 'azurerm_linux_web_app (1)', 'source': 'knowledge-base\\\\terraform_modules\\\\azurerm_linux_web_app (1)\\\\README.md'}, {'source': 'knowledge-base\\\\terraform_modules\\\\azurerm_linux_web_app (1)\\\\README.md', 'doc_type': 'azurerm_linux_web_app (1)'}, {'doc_type': 'azurerm_linux_web_app (1)', 'source': 'knowledge-base\\\\terraform_modules\\\\azurerm_linux_web_app (1)\\\\README.md'}, {'doc_type': 'azurerm_linux_web_app (1)', 'source': 'knowledge-base\\\\terraform_modules\\\\azurerm_linux_web_app (1)\\\\README.md'}, {'doc_type': 'azurerm_linux_web_app (1)', 'source': 'knowledge-base\\\\terraform_modules\\\\azurerm_linux_web_app (1)\\\\README.md'}, {'doc_type': 'azurerm_linux_web_app (1)', 'source': 'knowledge-base\\\\terraform_modules\\\\azurerm_linux_web_app (1)\\\\README.md'}, {'source': 'knowledge-base\\\\terraform_modules\\\\azurerm_linux_web_app (1)\\\\README.md', 'doc_type': 'azurerm_linux_web_app (1)'}, {'doc_type': 'azurerm_linux_web_app (1)', 'source': 'knowledge-base\\\\terraform_modules\\\\azurerm_linux_web_app (1)\\\\README.md'}, {'doc_type': 'azurerm_linux_web_app (1)', 'source': 'knowledge-base\\\\terraform_modules\\\\azurerm_linux_web_app (1)\\\\README.md'}, {'source': 'knowledge-base\\\\terraform_modules\\\\azurerm_linux_web_app (1)\\\\README.md', 'doc_type': 'azurerm_linux_web_app (1)'}, {'source': 'knowledge-base\\\\terraform_modules\\\\azurerm_linux_web_app (1)\\\\README.md', 'doc_type': 'azurerm_linux_web_app (1)'}, {'source': 'knowledge-base\\\\terraform_modules\\\\azurerm_linux_web_app (1)\\\\README.md', 'doc_type': 'azurerm_linux_web_app (1)'}, {'doc_type': 'azurerm_linux_web_app (1)', 'source': 'knowledge-base\\\\terraform_modules\\\\azurerm_linux_web_app (1)\\\\README.md'}, {'doc_type': 'azurerm_linux_web_app (1)', 'source': 'knowledge-base\\\\terraform_modules\\\\azurerm_linux_web_app (1)\\\\README.md'}, {'source': 'knowledge-base\\\\terraform_modules\\\\azurerm_linux_web_app (1)\\\\README.md', 'doc_type': 'azurerm_linux_web_app (1)'}, {'doc_type': 'azurerm_linux_web_app (1)', 'source': 'knowledge-base\\\\terraform_modules\\\\azurerm_linux_web_app (1)\\\\README.md'}, {'doc_type': 'azurerm_linux_web_app (1)', 'source': 'knowledge-base\\\\terraform_modules\\\\azurerm_linux_web_app (1)\\\\README.md'}, {'doc_type': 'azurerm_linux_web_app (1)', 'source': 'knowledge-base\\\\terraform_modules\\\\azurerm_linux_web_app (1)\\\\README.md'}, {'doc_type': 'azurerm_linux_web_app (1)', 'source': 'knowledge-base\\\\terraform_modules\\\\azurerm_linux_web_app (1)\\\\README.md'}, {'doc_type': 'azurerm_linux_web_app (1)', 'source': 'knowledge-base\\\\terraform_modules\\\\azurerm_linux_web_app (1)\\\\README.md'}, {'source': 'knowledge-base\\\\terraform_modules\\\\azurerm_linux_web_app (1)\\\\README.md', 'doc_type': 'azurerm_linux_web_app (1)'}, {'doc_type': 'azurerm_linux_web_app (1)', 'source': 'knowledge-base\\\\terraform_modules\\\\azurerm_linux_web_app (1)\\\\README.md'}, {'source': 'knowledge-base\\\\terraform_modules\\\\azurerm_linux_web_app (1)\\\\README.md', 'doc_type': 'azurerm_linux_web_app (1)'}, {'source': 'knowledge-base\\\\terraform_modules\\\\azurerm_linux_web_app (1)\\\\README.md', 'doc_type': 'azurerm_linux_web_app (1)'}, {'doc_type': 'azurerm_linux_web_app (1)', 'source': 'knowledge-base\\\\terraform_modules\\\\azurerm_linux_web_app (1)\\\\README.md'}, {'source': 'knowledge-base\\\\terraform_modules\\\\azurerm_linux_web_app (1)\\\\README.md', 'doc_type': 'azurerm_linux_web_app (1)'}, {'source': 'knowledge-base\\\\terraform_modules\\\\azurerm_linux_web_app (1)\\\\README.md', 'doc_type': 'azurerm_linux_web_app (1)'}, {'source': 'knowledge-base\\\\terraform_modules\\\\azurerm_linux_web_app (1)\\\\README.md', 'doc_type': 'azurerm_linux_web_app (1)'}, {'source': 'knowledge-base\\\\terraform_modules\\\\azurerm_linux_web_app (1)\\\\README.md', 'doc_type': 'azurerm_linux_web_app (1)'}, {'doc_type': 'azurerm_linux_web_app (1)', 'source': 'knowledge-base\\\\terraform_modules\\\\azurerm_linux_web_app (1)\\\\README.md'}, {'doc_type': 'azurerm_linux_web_app (1)', 'source': 'knowledge-base\\\\terraform_modules\\\\azurerm_linux_web_app (1)\\\\README.md'}, {'doc_type': 'azurerm_linux_web_app (1)', 'source': 'knowledge-base\\\\terraform_modules\\\\azurerm_linux_web_app (1)\\\\README.md'}, {'source': 'knowledge-base\\\\terraform_modules\\\\azurerm_linux_web_app (1)\\\\README.md', 'doc_type': 'azurerm_linux_web_app (1)'}, {'doc_type': 'azurerm_linux_web_app (1)', 'source': 'knowledge-base\\\\terraform_modules\\\\azurerm_linux_web_app (1)\\\\README.md'}, {'doc_type': 'azurerm_linux_web_app (1)', 'source': 'knowledge-base\\\\terraform_modules\\\\azurerm_linux_web_app (1)\\\\README.md'}, {'doc_type': 'azurerm_linux_web_app (1)', 'source': 'knowledge-base\\\\terraform_modules\\\\azurerm_linux_web_app (1)\\\\README.md'}, {'source': 'knowledge-base\\\\terraform_modules\\\\azurerm_linux_web_app (1)\\\\README.md', 'doc_type': 'azurerm_linux_web_app (1)'}, {'doc_type': 'azurerm_linux_web_app (1)', 'source': 'knowledge-base\\\\terraform_modules\\\\azurerm_linux_web_app (1)\\\\README.md'}, {'doc_type': 'azurerm_linux_web_app (1)', 'source': 'knowledge-base\\\\terraform_modules\\\\azurerm_linux_web_app (1)\\\\README.md'}, {'source': 'knowledge-base\\\\terraform_modules\\\\azurerm_linux_web_app (1)\\\\README.md', 'doc_type': 'azurerm_linux_web_app (1)'}, {'doc_type': 'azurerm_linux_web_app (1)', 'source': 'knowledge-base\\\\terraform_modules\\\\azurerm_linux_web_app (1)\\\\README.md'}, {'source': 'knowledge-base\\\\terraform_modules\\\\azurerm_linux_web_app (1)\\\\README.md', 'doc_type': 'azurerm_linux_web_app (1)'}, {'source': 'knowledge-base\\\\terraform_modules\\\\azurerm_linux_web_app (1)\\\\README.md', 'doc_type': 'azurerm_linux_web_app (1)'}, {'doc_type': 'azurerm_linux_web_app (1)', 'source': 'knowledge-base\\\\terraform_modules\\\\azurerm_linux_web_app (1)\\\\README.md'}, {'source': 'knowledge-base\\\\terraform_modules\\\\azurerm_linux_web_app (1)\\\\README.md', 'doc_type': 'azurerm_linux_web_app (1)'}, {'source': 'knowledge-base\\\\terraform_modules\\\\azurerm_linux_web_app (1)\\\\README.md', 'doc_type': 'azurerm_linux_web_app (1)'}, {'source': 'knowledge-base\\\\terraform_modules\\\\azurerm_linux_web_app (1)\\\\README.md', 'doc_type': 'azurerm_linux_web_app (1)'}, {'doc_type': 'azurerm_linux_web_app (1)', 'source': 'knowledge-base\\\\terraform_modules\\\\azurerm_linux_web_app (1)\\\\README.md'}, {'doc_type': 'azurerm_linux_web_app (1)', 'source': 'knowledge-base\\\\terraform_modules\\\\azurerm_linux_web_app (1)\\\\README.md'}, {'doc_type': 'azurerm_linux_web_app (1)', 'source': 'knowledge-base\\\\terraform_modules\\\\azurerm_linux_web_app (1)\\\\RELEASES.md'}, {'doc_type': 'azurerm_linux_web_app (1)', 'source': 'knowledge-base\\\\terraform_modules\\\\azurerm_linux_web_app (1)\\\\RELEASES.md'}, {'source': 'knowledge-base\\\\terraform_modules\\\\azurerm_linux_web_app (1)\\\\RELEASES.md', 'doc_type': 'azurerm_linux_web_app (1)'}, {'doc_type': 'azurerm_linux_web_app (1)', 'source': 'knowledge-base\\\\terraform_modules\\\\azurerm_linux_web_app (1)\\\\RELEASES.md'}, {'doc_type': 'azurerm_linux_web_app (1)', 'source': 'knowledge-base\\\\terraform_modules\\\\azurerm_linux_web_app (1)\\\\RELEASES.md'}, {'source': 'knowledge-base\\\\terraform_modules\\\\azurerm_linux_web_app (1)\\\\RELEASES.md', 'doc_type': 'azurerm_linux_web_app (1)'}, {'source': 'knowledge-base\\\\terraform_modules\\\\azurerm_linux_web_app (1)\\\\Tests\\\\README.md', 'doc_type': 'azurerm_linux_web_app (1)'}, {'source': 'knowledge-base\\\\terraform_modules\\\\azurerm_linux_web_app (1)\\\\Tests\\\\README.md', 'doc_type': 'azurerm_linux_web_app (1)'}, {'doc_type': 'azurerm_linux_web_app (1)', 'source': 'knowledge-base\\\\terraform_modules\\\\azurerm_linux_web_app (1)\\\\Tests\\\\README.md'}, {'doc_type': 'azurerm_linux_web_app (1)', 'source': 'knowledge-base\\\\terraform_modules\\\\azurerm_linux_web_app (1)\\\\Tests\\\\README.md'}, {'source': 'knowledge-base\\\\terraform_modules\\\\azurerm_logic_app_standard\\\\README.md', 'doc_type': 'azurerm_logic_app_standard'}, {'source': 'knowledge-base\\\\terraform_modules\\\\azurerm_logic_app_standard\\\\README.md', 'doc_type': 'azurerm_logic_app_standard'}, {'doc_type': 'azurerm_logic_app_standard', 'source': 'knowledge-base\\\\terraform_modules\\\\azurerm_logic_app_standard\\\\README.md'}, {'doc_type': 'azurerm_logic_app_standard', 'source': 'knowledge-base\\\\terraform_modules\\\\azurerm_logic_app_standard\\\\RELEASES.md'}, {'doc_type': 'azurerm_logic_app_standard', 'source': 'knowledge-base\\\\terraform_modules\\\\azurerm_logic_app_standard\\\\Tests\\\\README.md'}, {'source': 'knowledge-base\\\\terraform_modules\\\\azurerm_logic_app_workflow\\\\README.md', 'doc_type': 'azurerm_logic_app_workflow'}, {'doc_type': 'azurerm_logic_app_workflow', 'source': 'knowledge-base\\\\terraform_modules\\\\azurerm_logic_app_workflow\\\\README.md'}, {'doc_type': 'azurerm_logic_app_workflow', 'source': 'knowledge-base\\\\terraform_modules\\\\azurerm_logic_app_workflow\\\\README.md'}, {'doc_type': 'azurerm_logic_app_workflow', 'source': 'knowledge-base\\\\terraform_modules\\\\azurerm_logic_app_workflow\\\\README.md'}, {'doc_type': 'azurerm_logic_app_workflow', 'source': 'knowledge-base\\\\terraform_modules\\\\azurerm_logic_app_workflow\\\\README.md'}, {'source': 'knowledge-base\\\\terraform_modules\\\\azurerm_logic_app_workflow\\\\README.md', 'doc_type': 'azurerm_logic_app_workflow'}, {'doc_type': 'azurerm_logic_app_workflow', 'source': 'knowledge-base\\\\terraform_modules\\\\azurerm_logic_app_workflow\\\\README.md'}, {'doc_type': 'azurerm_logic_app_workflow', 'source': 'knowledge-base\\\\terraform_modules\\\\azurerm_logic_app_workflow\\\\README.md'}, {'doc_type': 'azurerm_logic_app_workflow', 'source': 'knowledge-base\\\\terraform_modules\\\\azurerm_logic_app_workflow\\\\README.md'}, {'source': 'knowledge-base\\\\terraform_modules\\\\azurerm_logic_app_workflow\\\\README.md', 'doc_type': 'azurerm_logic_app_workflow'}, {'doc_type': 'azurerm_logic_app_workflow', 'source': 'knowledge-base\\\\terraform_modules\\\\azurerm_logic_app_workflow\\\\README.md'}, {'doc_type': 'azurerm_logic_app_workflow', 'source': 'knowledge-base\\\\terraform_modules\\\\azurerm_logic_app_workflow\\\\README.md'}, {'source': 'knowledge-base\\\\terraform_modules\\\\azurerm_logic_app_workflow\\\\README.md', 'doc_type': 'azurerm_logic_app_workflow'}, {'source': 'knowledge-base\\\\terraform_modules\\\\azurerm_logic_app_workflow\\\\README.md', 'doc_type': 'azurerm_logic_app_workflow'}, {'source': 'knowledge-base\\\\terraform_modules\\\\azurerm_logic_app_workflow\\\\README.md', 'doc_type': 'azurerm_logic_app_workflow'}, {'doc_type': 'azurerm_logic_app_workflow', 'source': 'knowledge-base\\\\terraform_modules\\\\azurerm_logic_app_workflow\\\\README.md'}, {'source': 'knowledge-base\\\\terraform_modules\\\\azurerm_logic_app_workflow\\\\RELEASES.md', 'doc_type': 'azurerm_logic_app_workflow'}, {'doc_type': 'azurerm_logic_app_workflow', 'source': 'knowledge-base\\\\terraform_modules\\\\azurerm_logic_app_workflow\\\\RELEASES.md'}, {'source': 'knowledge-base\\\\terraform_modules\\\\azurerm_logic_app_workflow\\\\RELEASES.md', 'doc_type': 'azurerm_logic_app_workflow'}, {'doc_type': 'azurerm_logic_app_workflow', 'source': 'knowledge-base\\\\terraform_modules\\\\azurerm_logic_app_workflow\\\\RELEASES.md'}, {'source': 'knowledge-base\\\\terraform_modules\\\\azurerm_logic_app_workflow\\\\Tests\\\\README.md', 'doc_type': 'azurerm_logic_app_workflow'}, {'source': 'knowledge-base\\\\terraform_modules\\\\azurerm_logic_app_workflow\\\\Tests\\\\README.md', 'doc_type': 'azurerm_logic_app_workflow'}, {'doc_type': 'azurerm_logic_app_workflow', 'source': 'knowledge-base\\\\terraform_modules\\\\azurerm_logic_app_workflow\\\\Tests\\\\README.md'}, {'source': 'knowledge-base\\\\terraform_modules\\\\azurerm_logic_app_workflow\\\\Tests\\\\README.md', 'doc_type': 'azurerm_logic_app_workflow'}, {'source': 'knowledge-base\\\\terraform_modules\\\\azurerm_log_analytics_workspace\\\\README.md', 'doc_type': 'azurerm_log_analytics_workspace'}, {'source': 'knowledge-base\\\\terraform_modules\\\\azurerm_log_analytics_workspace\\\\README.md', 'doc_type': 'azurerm_log_analytics_workspace'}, {'source': 'knowledge-base\\\\terraform_modules\\\\azurerm_log_analytics_workspace\\\\README.md', 'doc_type': 'azurerm_log_analytics_workspace'}, {'source': 'knowledge-base\\\\terraform_modules\\\\azurerm_log_analytics_workspace\\\\README.md', 'doc_type': 'azurerm_log_analytics_workspace'}, {'source': 'knowledge-base\\\\terraform_modules\\\\azurerm_log_analytics_workspace\\\\README.md', 'doc_type': 'azurerm_log_analytics_workspace'}, {'doc_type': 'azurerm_log_analytics_workspace', 'source': 'knowledge-base\\\\terraform_modules\\\\azurerm_log_analytics_workspace\\\\README.md'}, {'source': 'knowledge-base\\\\terraform_modules\\\\azurerm_log_analytics_workspace\\\\README.md', 'doc_type': 'azurerm_log_analytics_workspace'}, {'doc_type': 'azurerm_log_analytics_workspace', 'source': 'knowledge-base\\\\terraform_modules\\\\azurerm_log_analytics_workspace\\\\README.md'}, {'source': 'knowledge-base\\\\terraform_modules\\\\azurerm_log_analytics_workspace\\\\README.md', 'doc_type': 'azurerm_log_analytics_workspace'}, {'doc_type': 'azurerm_log_analytics_workspace', 'source': 'knowledge-base\\\\terraform_modules\\\\azurerm_log_analytics_workspace\\\\README.md'}, {'doc_type': 'azurerm_log_analytics_workspace', 'source': 'knowledge-base\\\\terraform_modules\\\\azurerm_log_analytics_workspace\\\\README.md'}, {'source': 'knowledge-base\\\\terraform_modules\\\\azurerm_log_analytics_workspace\\\\README.md', 'doc_type': 'azurerm_log_analytics_workspace'}, {'doc_type': 'azurerm_log_analytics_workspace', 'source': 'knowledge-base\\\\terraform_modules\\\\azurerm_log_analytics_workspace\\\\README.md'}, {'doc_type': 'azurerm_log_analytics_workspace', 'source': 'knowledge-base\\\\terraform_modules\\\\azurerm_log_analytics_workspace\\\\README.md'}, {'doc_type': 'azurerm_log_analytics_workspace', 'source': 'knowledge-base\\\\terraform_modules\\\\azurerm_log_analytics_workspace\\\\README.md'}, {'source': 'knowledge-base\\\\terraform_modules\\\\azurerm_log_analytics_workspace\\\\README.md', 'doc_type': 'azurerm_log_analytics_workspace'}, {'doc_type': 'azurerm_log_analytics_workspace', 'source': 'knowledge-base\\\\terraform_modules\\\\azurerm_log_analytics_workspace\\\\RELEASES.md'}, {'source': 'knowledge-base\\\\terraform_modules\\\\azurerm_log_analytics_workspace\\\\RELEASES.md', 'doc_type': 'azurerm_log_analytics_workspace'}, {'doc_type': 'azurerm_log_analytics_workspace', 'source': 'knowledge-base\\\\terraform_modules\\\\azurerm_log_analytics_workspace\\\\RELEASES.md'}, {'doc_type': 'azurerm_log_analytics_workspace', 'source': 'knowledge-base\\\\terraform_modules\\\\azurerm_log_analytics_workspace\\\\RELEASES.md'}, {'doc_type': 'azurerm_log_analytics_workspace', 'source': 'knowledge-base\\\\terraform_modules\\\\azurerm_log_analytics_workspace\\\\Tests\\\\README.md'}, {'source': 'knowledge-base\\\\terraform_modules\\\\azurerm_log_analytics_workspace\\\\Tests\\\\README.md', 'doc_type': 'azurerm_log_analytics_workspace'}, {'source': 'knowledge-base\\\\terraform_modules\\\\azurerm_log_analytics_workspace\\\\Tests\\\\README.md', 'doc_type': 'azurerm_log_analytics_workspace'}, {'source': 'knowledge-base\\\\terraform_modules\\\\azurerm_log_analytics_workspace\\\\Tests\\\\README.md', 'doc_type': 'azurerm_log_analytics_workspace'}, {'source': 'knowledge-base\\\\terraform_modules\\\\azurerm_monitor_diagnostic_setting\\\\README.md', 'doc_type': 'azurerm_monitor_diagnostic_setting'}, {'source': 'knowledge-base\\\\terraform_modules\\\\azurerm_monitor_diagnostic_setting\\\\README.md', 'doc_type': 'azurerm_monitor_diagnostic_setting'}, {'doc_type': 'azurerm_monitor_diagnostic_setting', 'source': 'knowledge-base\\\\terraform_modules\\\\azurerm_monitor_diagnostic_setting\\\\README.md'}, {'doc_type': 'azurerm_monitor_diagnostic_setting', 'source': 'knowledge-base\\\\terraform_modules\\\\azurerm_monitor_diagnostic_setting\\\\RELEASES.md'}, {'doc_type': 'azurerm_monitor_diagnostic_setting', 'source': 'knowledge-base\\\\terraform_modules\\\\azurerm_monitor_diagnostic_setting\\\\Tests\\\\README.md'}, {'doc_type': 'azurerm_monitor_workspace', 'source': 'knowledge-base\\\\terraform_modules\\\\azurerm_monitor_workspace\\\\README.md'}, {'doc_type': 'azurerm_monitor_workspace', 'source': 'knowledge-base\\\\terraform_modules\\\\azurerm_monitor_workspace\\\\README.md'}, {'source': 'knowledge-base\\\\terraform_modules\\\\azurerm_monitor_workspace\\\\README.md', 'doc_type': 'azurerm_monitor_workspace'}, {'source': 'knowledge-base\\\\terraform_modules\\\\azurerm_monitor_workspace\\\\README.md', 'doc_type': 'azurerm_monitor_workspace'}, {'doc_type': 'azurerm_monitor_workspace', 'source': 'knowledge-base\\\\terraform_modules\\\\azurerm_monitor_workspace\\\\README.md'}, {'source': 'knowledge-base\\\\terraform_modules\\\\azurerm_monitor_workspace\\\\README.md', 'doc_type': 'azurerm_monitor_workspace'}, {'doc_type': 'azurerm_monitor_workspace', 'source': 'knowledge-base\\\\terraform_modules\\\\azurerm_monitor_workspace\\\\README.md'}, {'doc_type': 'azurerm_monitor_workspace', 'source': 'knowledge-base\\\\terraform_modules\\\\azurerm_monitor_workspace\\\\README.md'}, {'doc_type': 'azurerm_monitor_workspace', 'source': 'knowledge-base\\\\terraform_modules\\\\azurerm_monitor_workspace\\\\README.md'}, {'doc_type': 'azurerm_monitor_workspace', 'source': 'knowledge-base\\\\terraform_modules\\\\azurerm_monitor_workspace\\\\README.md'}, {'source': 'knowledge-base\\\\terraform_modules\\\\azurerm_monitor_workspace\\\\README.md', 'doc_type': 'azurerm_monitor_workspace'}, {'doc_type': 'azurerm_monitor_workspace', 'source': 'knowledge-base\\\\terraform_modules\\\\azurerm_monitor_workspace\\\\README.md'}, {'doc_type': 'azurerm_monitor_workspace', 'source': 'knowledge-base\\\\terraform_modules\\\\azurerm_monitor_workspace\\\\README.md'}, {'source': 'knowledge-base\\\\terraform_modules\\\\azurerm_monitor_workspace\\\\README.md', 'doc_type': 'azurerm_monitor_workspace'}, {'doc_type': 'azurerm_monitor_workspace', 'source': 'knowledge-base\\\\terraform_modules\\\\azurerm_monitor_workspace\\\\RELEASES.md'}, {'doc_type': 'azurerm_monitor_workspace', 'source': 'knowledge-base\\\\terraform_modules\\\\azurerm_monitor_workspace\\\\RELEASES.md'}, {'doc_type': 'azurerm_monitor_workspace', 'source': 'knowledge-base\\\\terraform_modules\\\\azurerm_monitor_workspace\\\\RELEASES.md'}, {'source': 'knowledge-base\\\\terraform_modules\\\\azurerm_monitor_workspace\\\\Tests\\\\README.md', 'doc_type': 'azurerm_monitor_workspace'}, {'source': 'knowledge-base\\\\terraform_modules\\\\azurerm_monitor_workspace\\\\Tests\\\\README.md', 'doc_type': 'azurerm_monitor_workspace'}, {'source': 'knowledge-base\\\\terraform_modules\\\\azurerm_monitor_workspace\\\\Tests\\\\README.md', 'doc_type': 'azurerm_monitor_workspace'}, {'doc_type': 'azurerm_monitor_workspace', 'source': 'knowledge-base\\\\terraform_modules\\\\azurerm_monitor_workspace\\\\Tests\\\\README.md'}, {'source': 'knowledge-base\\\\terraform_modules\\\\azurerm_mssql_server\\\\README.md', 'doc_type': 'azurerm_mssql_server'}, {'doc_type': 'azurerm_mssql_server', 'source': 'knowledge-base\\\\terraform_modules\\\\azurerm_mssql_server\\\\README.md'}, {'source': 'knowledge-base\\\\terraform_modules\\\\azurerm_mssql_server\\\\README.md', 'doc_type': 'azurerm_mssql_server'}, {'doc_type': 'azurerm_mssql_server', 'source': 'knowledge-base\\\\terraform_modules\\\\azurerm_mssql_server\\\\README.md'}, {'doc_type': 'azurerm_mssql_server', 'source': 'knowledge-base\\\\terraform_modules\\\\azurerm_mssql_server\\\\README.md'}, {'doc_type': 'azurerm_mssql_server', 'source': 'knowledge-base\\\\terraform_modules\\\\azurerm_mssql_server\\\\README.md'}, {'source': 'knowledge-base\\\\terraform_modules\\\\azurerm_mssql_server\\\\README.md', 'doc_type': 'azurerm_mssql_server'}, {'doc_type': 'azurerm_mssql_server', 'source': 'knowledge-base\\\\terraform_modules\\\\azurerm_mssql_server\\\\README.md'}, {'doc_type': 'azurerm_mssql_server', 'source': 'knowledge-base\\\\terraform_modules\\\\azurerm_mssql_server\\\\README.md'}, {'doc_type': 'azurerm_mssql_server', 'source': 'knowledge-base\\\\terraform_modules\\\\azurerm_mssql_server\\\\README.md'}, {'source': 'knowledge-base\\\\terraform_modules\\\\azurerm_mssql_server\\\\README.md', 'doc_type': 'azurerm_mssql_server'}, {'source': 'knowledge-base\\\\terraform_modules\\\\azurerm_mssql_server\\\\README.md', 'doc_type': 'azurerm_mssql_server'}, {'doc_type': 'azurerm_mssql_server', 'source': 'knowledge-base\\\\terraform_modules\\\\azurerm_mssql_server\\\\README.md'}, {'doc_type': 'azurerm_mssql_server', 'source': 'knowledge-base\\\\terraform_modules\\\\azurerm_mssql_server\\\\README.md'}, {'source': 'knowledge-base\\\\terraform_modules\\\\azurerm_mssql_server\\\\README.md', 'doc_type': 'azurerm_mssql_server'}, {'doc_type': 'azurerm_mssql_server', 'source': 'knowledge-base\\\\terraform_modules\\\\azurerm_mssql_server\\\\README.md'}, {'source': 'knowledge-base\\\\terraform_modules\\\\azurerm_mssql_server\\\\README.md', 'doc_type': 'azurerm_mssql_server'}, {'source': 'knowledge-base\\\\terraform_modules\\\\azurerm_mssql_server\\\\README.md', 'doc_type': 'azurerm_mssql_server'}, {'doc_type': 'azurerm_mssql_server', 'source': 'knowledge-base\\\\terraform_modules\\\\azurerm_mssql_server\\\\README.md'}, {'doc_type': 'azurerm_mssql_server', 'source': 'knowledge-base\\\\terraform_modules\\\\azurerm_mssql_server\\\\README.md'}, {'doc_type': 'azurerm_mssql_server', 'source': 'knowledge-base\\\\terraform_modules\\\\azurerm_mssql_server\\\\README.md'}, {'doc_type': 'azurerm_mssql_server', 'source': 'knowledge-base\\\\terraform_modules\\\\azurerm_mssql_server\\\\README.md'}, {'doc_type': 'azurerm_mssql_server', 'source': 'knowledge-base\\\\terraform_modules\\\\azurerm_mssql_server\\\\README.md'}, {'source': 'knowledge-base\\\\terraform_modules\\\\azurerm_mssql_server\\\\README.md', 'doc_type': 'azurerm_mssql_server'}, {'source': 'knowledge-base\\\\terraform_modules\\\\azurerm_mssql_server\\\\README.md', 'doc_type': 'azurerm_mssql_server'}, {'doc_type': 'azurerm_mssql_server', 'source': 'knowledge-base\\\\terraform_modules\\\\azurerm_mssql_server\\\\README.md'}, {'source': 'knowledge-base\\\\terraform_modules\\\\azurerm_mssql_server\\\\README.md', 'doc_type': 'azurerm_mssql_server'}, {'doc_type': 'azurerm_mssql_server', 'source': 'knowledge-base\\\\terraform_modules\\\\azurerm_mssql_server\\\\README.md'}, {'source': 'knowledge-base\\\\terraform_modules\\\\azurerm_mssql_server\\\\README.md', 'doc_type': 'azurerm_mssql_server'}, {'source': 'knowledge-base\\\\terraform_modules\\\\azurerm_mssql_server\\\\README.md', 'doc_type': 'azurerm_mssql_server'}, {'source': 'knowledge-base\\\\terraform_modules\\\\azurerm_mssql_server\\\\README.md', 'doc_type': 'azurerm_mssql_server'}, {'source': 'knowledge-base\\\\terraform_modules\\\\azurerm_mssql_server\\\\README.md', 'doc_type': 'azurerm_mssql_server'}, {'source': 'knowledge-base\\\\terraform_modules\\\\azurerm_mssql_server\\\\README.md', 'doc_type': 'azurerm_mssql_server'}, {'source': 'knowledge-base\\\\terraform_modules\\\\azurerm_mssql_server\\\\README.md', 'doc_type': 'azurerm_mssql_server'}, {'source': 'knowledge-base\\\\terraform_modules\\\\azurerm_mssql_server\\\\README.md', 'doc_type': 'azurerm_mssql_server'}, {'source': 'knowledge-base\\\\terraform_modules\\\\azurerm_mssql_server\\\\README.md', 'doc_type': 'azurerm_mssql_server'}, {'doc_type': 'azurerm_mssql_server', 'source': 'knowledge-base\\\\terraform_modules\\\\azurerm_mssql_server\\\\README.md'}, {'source': 'knowledge-base\\\\terraform_modules\\\\azurerm_mssql_server\\\\README.md', 'doc_type': 'azurerm_mssql_server'}, {'source': 'knowledge-base\\\\terraform_modules\\\\azurerm_mssql_server\\\\README.md', 'doc_type': 'azurerm_mssql_server'}, {'doc_type': 'azurerm_mssql_server', 'source': 'knowledge-base\\\\terraform_modules\\\\azurerm_mssql_server\\\\README.md'}, {'doc_type': 'azurerm_mssql_server', 'source': 'knowledge-base\\\\terraform_modules\\\\azurerm_mssql_server\\\\README.md'}, {'doc_type': 'azurerm_mssql_server', 'source': 'knowledge-base\\\\terraform_modules\\\\azurerm_mssql_server\\\\README.md'}, {'doc_type': 'azurerm_mssql_server', 'source': 'knowledge-base\\\\terraform_modules\\\\azurerm_mssql_server\\\\README.md'}, {'doc_type': 'azurerm_mssql_server', 'source': 'knowledge-base\\\\terraform_modules\\\\azurerm_mssql_server\\\\README.md'}, {'source': 'knowledge-base\\\\terraform_modules\\\\azurerm_mssql_server\\\\README.md', 'doc_type': 'azurerm_mssql_server'}, {'doc_type': 'azurerm_mssql_server', 'source': 'knowledge-base\\\\terraform_modules\\\\azurerm_mssql_server\\\\README.md'}, {'source': 'knowledge-base\\\\terraform_modules\\\\azurerm_mssql_server\\\\README.md', 'doc_type': 'azurerm_mssql_server'}, {'doc_type': 'azurerm_mssql_server', 'source': 'knowledge-base\\\\terraform_modules\\\\azurerm_mssql_server\\\\README.md'}, {'source': 'knowledge-base\\\\terraform_modules\\\\azurerm_mssql_server\\\\README.md', 'doc_type': 'azurerm_mssql_server'}, {'doc_type': 'azurerm_mssql_server', 'source': 'knowledge-base\\\\terraform_modules\\\\azurerm_mssql_server\\\\README.md'}, {'source': 'knowledge-base\\\\terraform_modules\\\\azurerm_mssql_server\\\\README.md', 'doc_type': 'azurerm_mssql_server'}, {'source': 'knowledge-base\\\\terraform_modules\\\\azurerm_mssql_server\\\\README.md', 'doc_type': 'azurerm_mssql_server'}, {'source': 'knowledge-base\\\\terraform_modules\\\\azurerm_mssql_server\\\\README.md', 'doc_type': 'azurerm_mssql_server'}, {'doc_type': 'azurerm_mssql_server', 'source': 'knowledge-base\\\\terraform_modules\\\\azurerm_mssql_server\\\\README.md'}, {'doc_type': 'azurerm_mssql_server', 'source': 'knowledge-base\\\\terraform_modules\\\\azurerm_mssql_server\\\\README.md'}, {'source': 'knowledge-base\\\\terraform_modules\\\\azurerm_mssql_server\\\\README.md', 'doc_type': 'azurerm_mssql_server'}, {'source': 'knowledge-base\\\\terraform_modules\\\\azurerm_mssql_server\\\\README.md', 'doc_type': 'azurerm_mssql_server'}, {'source': 'knowledge-base\\\\terraform_modules\\\\azurerm_mssql_server\\\\README.md', 'doc_type': 'azurerm_mssql_server'}, {'doc_type': 'azurerm_mssql_server', 'source': 'knowledge-base\\\\terraform_modules\\\\azurerm_mssql_server\\\\README.md'}, {'doc_type': 'azurerm_mssql_server', 'source': 'knowledge-base\\\\terraform_modules\\\\azurerm_mssql_server\\\\README.md'}, {'doc_type': 'azurerm_mssql_server', 'source': 'knowledge-base\\\\terraform_modules\\\\azurerm_mssql_server\\\\README.md'}, {'doc_type': 'azurerm_mssql_server', 'source': 'knowledge-base\\\\terraform_modules\\\\azurerm_mssql_server\\\\README.md'}, {'source': 'knowledge-base\\\\terraform_modules\\\\azurerm_mssql_server\\\\README.md', 'doc_type': 'azurerm_mssql_server'}, {'doc_type': 'azurerm_mssql_server', 'source': 'knowledge-base\\\\terraform_modules\\\\azurerm_mssql_server\\\\README.md'}, {'source': 'knowledge-base\\\\terraform_modules\\\\azurerm_mssql_server\\\\README.md', 'doc_type': 'azurerm_mssql_server'}, {'source': 'knowledge-base\\\\terraform_modules\\\\azurerm_mssql_server\\\\README.md', 'doc_type': 'azurerm_mssql_server'}, {'source': 'knowledge-base\\\\terraform_modules\\\\azurerm_mssql_server\\\\README.md', 'doc_type': 'azurerm_mssql_server'}, {'doc_type': 'azurerm_mssql_server', 'source': 'knowledge-base\\\\terraform_modules\\\\azurerm_mssql_server\\\\README.md'}, {'source': 'knowledge-base\\\\terraform_modules\\\\azurerm_mssql_server\\\\README.md', 'doc_type': 'azurerm_mssql_server'}, {'doc_type': 'azurerm_mssql_server', 'source': 'knowledge-base\\\\terraform_modules\\\\azurerm_mssql_server\\\\README.md'}, {'doc_type': 'azurerm_mssql_server', 'source': 'knowledge-base\\\\terraform_modules\\\\azurerm_mssql_server\\\\README.md'}, {'source': 'knowledge-base\\\\terraform_modules\\\\azurerm_mssql_server\\\\README.md', 'doc_type': 'azurerm_mssql_server'}, {'source': 'knowledge-base\\\\terraform_modules\\\\azurerm_mssql_server\\\\README.md', 'doc_type': 'azurerm_mssql_server'}, {'doc_type': 'azurerm_mssql_server', 'source': 'knowledge-base\\\\terraform_modules\\\\azurerm_mssql_server\\\\README.md'}, {'doc_type': 'azurerm_mssql_server', 'source': 'knowledge-base\\\\terraform_modules\\\\azurerm_mssql_server\\\\README.md'}, {'doc_type': 'azurerm_mssql_server', 'source': 'knowledge-base\\\\terraform_modules\\\\azurerm_mssql_server\\\\README.md'}, {'doc_type': 'azurerm_mssql_server', 'source': 'knowledge-base\\\\terraform_modules\\\\azurerm_mssql_server\\\\README.md'}, {'doc_type': 'azurerm_mssql_server', 'source': 'knowledge-base\\\\terraform_modules\\\\azurerm_mssql_server\\\\README.md'}, {'doc_type': 'azurerm_mssql_server', 'source': 'knowledge-base\\\\terraform_modules\\\\azurerm_mssql_server\\\\RELEASES.md'}, {'doc_type': 'azurerm_mssql_server', 'source': 'knowledge-base\\\\terraform_modules\\\\azurerm_mssql_server\\\\RELEASES.md'}, {'doc_type': 'azurerm_mssql_server', 'source': 'knowledge-base\\\\terraform_modules\\\\azurerm_mssql_server\\\\RELEASES.md'}, {'source': 'knowledge-base\\\\terraform_modules\\\\azurerm_mssql_server\\\\RELEASES.md', 'doc_type': 'azurerm_mssql_server'}, {'doc_type': 'azurerm_mssql_server', 'source': 'knowledge-base\\\\terraform_modules\\\\azurerm_mssql_server\\\\RELEASES.md'}, {'doc_type': 'azurerm_mssql_server', 'source': 'knowledge-base\\\\terraform_modules\\\\azurerm_mssql_server\\\\Tests\\\\README.md'}, {'source': 'knowledge-base\\\\terraform_modules\\\\azurerm_mssql_server\\\\Tests\\\\README.md', 'doc_type': 'azurerm_mssql_server'}, {'source': 'knowledge-base\\\\terraform_modules\\\\azurerm_mssql_server\\\\Tests\\\\README.md', 'doc_type': 'azurerm_mssql_server'}, {'source': 'knowledge-base\\\\terraform_modules\\\\azurerm_mssql_server\\\\Tests\\\\README.md', 'doc_type': 'azurerm_mssql_server'}, {'doc_type': 'azurerm_mysql_flexible_server', 'source': 'knowledge-base\\\\terraform_modules\\\\azurerm_mysql_flexible_server\\\\README.md'}, {'doc_type': 'azurerm_mysql_flexible_server', 'source': 'knowledge-base\\\\terraform_modules\\\\azurerm_mysql_flexible_server\\\\README.md'}, {'doc_type': 'azurerm_mysql_flexible_server', 'source': 'knowledge-base\\\\terraform_modules\\\\azurerm_mysql_flexible_server\\\\README.md'}, {'source': 'knowledge-base\\\\terraform_modules\\\\azurerm_mysql_flexible_server\\\\README.md', 'doc_type': 'azurerm_mysql_flexible_server'}, {'doc_type': 'azurerm_mysql_flexible_server', 'source': 'knowledge-base\\\\terraform_modules\\\\azurerm_mysql_flexible_server\\\\README.md'}, {'doc_type': 'azurerm_mysql_flexible_server', 'source': 'knowledge-base\\\\terraform_modules\\\\azurerm_mysql_flexible_server\\\\README.md'}, {'source': 'knowledge-base\\\\terraform_modules\\\\azurerm_mysql_flexible_server\\\\README.md', 'doc_type': 'azurerm_mysql_flexible_server'}, {'source': 'knowledge-base\\\\terraform_modules\\\\azurerm_mysql_flexible_server\\\\README.md', 'doc_type': 'azurerm_mysql_flexible_server'}, {'doc_type': 'azurerm_mysql_flexible_server', 'source': 'knowledge-base\\\\terraform_modules\\\\azurerm_mysql_flexible_server\\\\README.md'}, {'doc_type': 'azurerm_mysql_flexible_server', 'source': 'knowledge-base\\\\terraform_modules\\\\azurerm_mysql_flexible_server\\\\README.md'}, {'source': 'knowledge-base\\\\terraform_modules\\\\azurerm_mysql_flexible_server\\\\README.md', 'doc_type': 'azurerm_mysql_flexible_server'}, {'doc_type': 'azurerm_mysql_flexible_server', 'source': 'knowledge-base\\\\terraform_modules\\\\azurerm_mysql_flexible_server\\\\README.md'}, {'source': 'knowledge-base\\\\terraform_modules\\\\azurerm_mysql_flexible_server\\\\README.md', 'doc_type': 'azurerm_mysql_flexible_server'}, {'doc_type': 'azurerm_mysql_flexible_server', 'source': 'knowledge-base\\\\terraform_modules\\\\azurerm_mysql_flexible_server\\\\README.md'}, {'source': 'knowledge-base\\\\terraform_modules\\\\azurerm_mysql_flexible_server\\\\README.md', 'doc_type': 'azurerm_mysql_flexible_server'}, {'doc_type': 'azurerm_mysql_flexible_server', 'source': 'knowledge-base\\\\terraform_modules\\\\azurerm_mysql_flexible_server\\\\README.md'}, {'source': 'knowledge-base\\\\terraform_modules\\\\azurerm_mysql_flexible_server\\\\README.md', 'doc_type': 'azurerm_mysql_flexible_server'}, {'doc_type': 'azurerm_mysql_flexible_server', 'source': 'knowledge-base\\\\terraform_modules\\\\azurerm_mysql_flexible_server\\\\README.md'}, {'doc_type': 'azurerm_mysql_flexible_server', 'source': 'knowledge-base\\\\terraform_modules\\\\azurerm_mysql_flexible_server\\\\README.md'}, {'source': 'knowledge-base\\\\terraform_modules\\\\azurerm_mysql_flexible_server\\\\README.md', 'doc_type': 'azurerm_mysql_flexible_server'}, {'source': 'knowledge-base\\\\terraform_modules\\\\azurerm_mysql_flexible_server\\\\README.md', 'doc_type': 'azurerm_mysql_flexible_server'}, {'source': 'knowledge-base\\\\terraform_modules\\\\azurerm_mysql_flexible_server\\\\README.md', 'doc_type': 'azurerm_mysql_flexible_server'}, {'doc_type': 'azurerm_mysql_flexible_server', 'source': 'knowledge-base\\\\terraform_modules\\\\azurerm_mysql_flexible_server\\\\README.md'}, {'doc_type': 'azurerm_mysql_flexible_server', 'source': 'knowledge-base\\\\terraform_modules\\\\azurerm_mysql_flexible_server\\\\README.md'}, {'source': 'knowledge-base\\\\terraform_modules\\\\azurerm_mysql_flexible_server\\\\README.md', 'doc_type': 'azurerm_mysql_flexible_server'}, {'doc_type': 'azurerm_mysql_flexible_server', 'source': 'knowledge-base\\\\terraform_modules\\\\azurerm_mysql_flexible_server\\\\README.md'}, {'source': 'knowledge-base\\\\terraform_modules\\\\azurerm_mysql_flexible_server\\\\README.md', 'doc_type': 'azurerm_mysql_flexible_server'}, {'doc_type': 'azurerm_mysql_flexible_server', 'source': 'knowledge-base\\\\terraform_modules\\\\azurerm_mysql_flexible_server\\\\README.md'}, {'source': 'knowledge-base\\\\terraform_modules\\\\azurerm_mysql_flexible_server\\\\README.md', 'doc_type': 'azurerm_mysql_flexible_server'}, {'doc_type': 'azurerm_mysql_flexible_server', 'source': 'knowledge-base\\\\terraform_modules\\\\azurerm_mysql_flexible_server\\\\RELEASES.md'}, {'doc_type': 'azurerm_mysql_flexible_server', 'source': 'knowledge-base\\\\terraform_modules\\\\azurerm_mysql_flexible_server\\\\RELEASES.md'}, {'source': 'knowledge-base\\\\terraform_modules\\\\azurerm_mysql_flexible_server\\\\RELEASES.md', 'doc_type': 'azurerm_mysql_flexible_server'}, {'source': 'knowledge-base\\\\terraform_modules\\\\azurerm_mysql_flexible_server\\\\RELEASES.md', 'doc_type': 'azurerm_mysql_flexible_server'}, {'source': 'knowledge-base\\\\terraform_modules\\\\azurerm_mysql_flexible_server\\\\Tests\\\\README.md', 'doc_type': 'azurerm_mysql_flexible_server'}, {'doc_type': 'azurerm_mysql_flexible_server', 'source': 'knowledge-base\\\\terraform_modules\\\\azurerm_mysql_flexible_server\\\\Tests\\\\README.md'}, {'doc_type': 'azurerm_mysql_flexible_server', 'source': 'knowledge-base\\\\terraform_modules\\\\azurerm_mysql_flexible_server\\\\Tests\\\\README.md'}, {'doc_type': 'azurerm_mysql_flexible_server', 'source': 'knowledge-base\\\\terraform_modules\\\\azurerm_mysql_flexible_server\\\\Tests\\\\README.md'}, {'source': 'knowledge-base\\\\terraform_modules\\\\azurerm_network_security_group\\\\README.md', 'doc_type': 'azurerm_network_security_group'}, {'doc_type': 'azurerm_network_security_group', 'source': 'knowledge-base\\\\terraform_modules\\\\azurerm_network_security_group\\\\README.md'}, {'doc_type': 'azurerm_network_security_group', 'source': 'knowledge-base\\\\terraform_modules\\\\azurerm_network_security_group\\\\README.md'}, {'source': 'knowledge-base\\\\terraform_modules\\\\azurerm_network_security_group\\\\README.md', 'doc_type': 'azurerm_network_security_group'}, {'doc_type': 'azurerm_network_security_group', 'source': 'knowledge-base\\\\terraform_modules\\\\azurerm_network_security_group\\\\README.md'}, {'doc_type': 'azurerm_network_security_group', 'source': 'knowledge-base\\\\terraform_modules\\\\azurerm_network_security_group\\\\README.md'}, {'doc_type': 'azurerm_network_security_group', 'source': 'knowledge-base\\\\terraform_modules\\\\azurerm_network_security_group\\\\README.md'}, {'source': 'knowledge-base\\\\terraform_modules\\\\azurerm_network_security_group\\\\README.md', 'doc_type': 'azurerm_network_security_group'}, {'doc_type': 'azurerm_network_security_group', 'source': 'knowledge-base\\\\terraform_modules\\\\azurerm_network_security_group\\\\README.md'}, {'source': 'knowledge-base\\\\terraform_modules\\\\azurerm_network_security_group\\\\README.md', 'doc_type': 'azurerm_network_security_group'}, {'doc_type': 'azurerm_network_security_group', 'source': 'knowledge-base\\\\terraform_modules\\\\azurerm_network_security_group\\\\README.md'}, {'doc_type': 'azurerm_network_security_group', 'source': 'knowledge-base\\\\terraform_modules\\\\azurerm_network_security_group\\\\README.md'}, {'doc_type': 'azurerm_network_security_group', 'source': 'knowledge-base\\\\terraform_modules\\\\azurerm_network_security_group\\\\README.md'}, {'source': 'knowledge-base\\\\terraform_modules\\\\azurerm_network_security_group\\\\README.md', 'doc_type': 'azurerm_network_security_group'}, {'source': 'knowledge-base\\\\terraform_modules\\\\azurerm_network_security_group\\\\README.md', 'doc_type': 'azurerm_network_security_group'}, {'source': 'knowledge-base\\\\terraform_modules\\\\azurerm_network_security_group\\\\README.md', 'doc_type': 'azurerm_network_security_group'}, {'doc_type': 'azurerm_network_security_group', 'source': 'knowledge-base\\\\terraform_modules\\\\azurerm_network_security_group\\\\README.md'}, {'source': 'knowledge-base\\\\terraform_modules\\\\azurerm_network_security_group\\\\README.md', 'doc_type': 'azurerm_network_security_group'}, {'source': 'knowledge-base\\\\terraform_modules\\\\azurerm_network_security_group\\\\RELEASES.md', 'doc_type': 'azurerm_network_security_group'}, {'doc_type': 'azurerm_network_security_group', 'source': 'knowledge-base\\\\terraform_modules\\\\azurerm_network_security_group\\\\RELEASES.md'}, {'doc_type': 'azurerm_network_security_group', 'source': 'knowledge-base\\\\terraform_modules\\\\azurerm_network_security_group\\\\RELEASES.md'}, {'doc_type': 'azurerm_network_security_group', 'source': 'knowledge-base\\\\terraform_modules\\\\azurerm_network_security_group\\\\RELEASES.md'}, {'source': 'knowledge-base\\\\terraform_modules\\\\azurerm_network_security_group\\\\RELEASES.md', 'doc_type': 'azurerm_network_security_group'}, {'doc_type': 'azurerm_network_security_group', 'source': 'knowledge-base\\\\terraform_modules\\\\azurerm_network_security_group\\\\Tests\\\\README.md'}, {'source': 'knowledge-base\\\\terraform_modules\\\\azurerm_network_security_group\\\\Tests\\\\README.md', 'doc_type': 'azurerm_network_security_group'}, {'doc_type': 'azurerm_network_security_group', 'source': 'knowledge-base\\\\terraform_modules\\\\azurerm_network_security_group\\\\Tests\\\\README.md'}, {'source': 'knowledge-base\\\\terraform_modules\\\\azurerm_network_security_group\\\\Tests\\\\README.md', 'doc_type': 'azurerm_network_security_group'}, {'source': 'knowledge-base\\\\terraform_modules\\\\azurerm_network_security_rule\\\\README.md', 'doc_type': 'azurerm_network_security_rule'}, {'doc_type': 'azurerm_network_security_rule', 'source': 'knowledge-base\\\\terraform_modules\\\\azurerm_network_security_rule\\\\README.md'}, {'source': 'knowledge-base\\\\terraform_modules\\\\azurerm_network_security_rule\\\\README.md', 'doc_type': 'azurerm_network_security_rule'}, {'doc_type': 'azurerm_network_security_rule', 'source': 'knowledge-base\\\\terraform_modules\\\\azurerm_network_security_rule\\\\README.md'}, {'doc_type': 'azurerm_network_security_rule', 'source': 'knowledge-base\\\\terraform_modules\\\\azurerm_network_security_rule\\\\README.md'}, {'doc_type': 'azurerm_network_security_rule', 'source': 'knowledge-base\\\\terraform_modules\\\\azurerm_network_security_rule\\\\README.md'}, {'doc_type': 'azurerm_network_security_rule', 'source': 'knowledge-base\\\\terraform_modules\\\\azurerm_network_security_rule\\\\README.md'}, {'source': 'knowledge-base\\\\terraform_modules\\\\azurerm_network_security_rule\\\\README.md', 'doc_type': 'azurerm_network_security_rule'}, {'source': 'knowledge-base\\\\terraform_modules\\\\azurerm_network_security_rule\\\\README.md', 'doc_type': 'azurerm_network_security_rule'}, {'source': 'knowledge-base\\\\terraform_modules\\\\azurerm_network_security_rule\\\\README.md', 'doc_type': 'azurerm_network_security_rule'}, {'doc_type': 'azurerm_network_security_rule', 'source': 'knowledge-base\\\\terraform_modules\\\\azurerm_network_security_rule\\\\README.md'}, {'source': 'knowledge-base\\\\terraform_modules\\\\azurerm_network_security_rule\\\\README.md', 'doc_type': 'azurerm_network_security_rule'}, {'source': 'knowledge-base\\\\terraform_modules\\\\azurerm_network_security_rule\\\\README.md', 'doc_type': 'azurerm_network_security_rule'}, {'source': 'knowledge-base\\\\terraform_modules\\\\azurerm_network_security_rule\\\\README.md', 'doc_type': 'azurerm_network_security_rule'}, {'source': 'knowledge-base\\\\terraform_modules\\\\azurerm_network_security_rule\\\\README.md', 'doc_type': 'azurerm_network_security_rule'}, {'source': 'knowledge-base\\\\terraform_modules\\\\azurerm_network_security_rule\\\\README.md', 'doc_type': 'azurerm_network_security_rule'}, {'source': 'knowledge-base\\\\terraform_modules\\\\azurerm_network_security_rule\\\\RELEASES.md', 'doc_type': 'azurerm_network_security_rule'}, {'source': 'knowledge-base\\\\terraform_modules\\\\azurerm_network_security_rule\\\\RELEASES.md', 'doc_type': 'azurerm_network_security_rule'}, {'doc_type': 'azurerm_network_security_rule', 'source': 'knowledge-base\\\\terraform_modules\\\\azurerm_network_security_rule\\\\RELEASES.md'}, {'source': 'knowledge-base\\\\terraform_modules\\\\azurerm_network_security_rule\\\\RELEASES.md', 'doc_type': 'azurerm_network_security_rule'}, {'doc_type': 'azurerm_network_security_rule', 'source': 'knowledge-base\\\\terraform_modules\\\\azurerm_network_security_rule\\\\Tests\\\\README.md'}, {'source': 'knowledge-base\\\\terraform_modules\\\\azurerm_network_security_rule\\\\Tests\\\\README.md', 'doc_type': 'azurerm_network_security_rule'}, {'doc_type': 'azurerm_network_security_rule', 'source': 'knowledge-base\\\\terraform_modules\\\\azurerm_network_security_rule\\\\Tests\\\\README.md'}, {'doc_type': 'azurerm_network_security_rule', 'source': 'knowledge-base\\\\terraform_modules\\\\azurerm_network_security_rule\\\\Tests\\\\README.md'}, {'doc_type': 'azurerm_postgresql_flexible_server', 'source': 'knowledge-base\\\\terraform_modules\\\\azurerm_postgresql_flexible_server\\\\README.md'}, {'source': 'knowledge-base\\\\terraform_modules\\\\azurerm_postgresql_flexible_server\\\\README.md', 'doc_type': 'azurerm_postgresql_flexible_server'}, {'source': 'knowledge-base\\\\terraform_modules\\\\azurerm_postgresql_flexible_server\\\\README.md', 'doc_type': 'azurerm_postgresql_flexible_server'}, {'source': 'knowledge-base\\\\terraform_modules\\\\azurerm_postgresql_flexible_server\\\\README.md', 'doc_type': 'azurerm_postgresql_flexible_server'}, {'doc_type': 'azurerm_postgresql_flexible_server', 'source': 'knowledge-base\\\\terraform_modules\\\\azurerm_postgresql_flexible_server\\\\README.md'}, {'doc_type': 'azurerm_postgresql_flexible_server', 'source': 'knowledge-base\\\\terraform_modules\\\\azurerm_postgresql_flexible_server\\\\README.md'}, {'source': 'knowledge-base\\\\terraform_modules\\\\azurerm_postgresql_flexible_server\\\\README.md', 'doc_type': 'azurerm_postgresql_flexible_server'}, {'doc_type': 'azurerm_postgresql_flexible_server', 'source': 'knowledge-base\\\\terraform_modules\\\\azurerm_postgresql_flexible_server\\\\README.md'}, {'source': 'knowledge-base\\\\terraform_modules\\\\azurerm_postgresql_flexible_server\\\\README.md', 'doc_type': 'azurerm_postgresql_flexible_server'}, {'source': 'knowledge-base\\\\terraform_modules\\\\azurerm_postgresql_flexible_server\\\\README.md', 'doc_type': 'azurerm_postgresql_flexible_server'}, {'doc_type': 'azurerm_postgresql_flexible_server', 'source': 'knowledge-base\\\\terraform_modules\\\\azurerm_postgresql_flexible_server\\\\README.md'}, {'source': 'knowledge-base\\\\terraform_modules\\\\azurerm_postgresql_flexible_server\\\\README.md', 'doc_type': 'azurerm_postgresql_flexible_server'}, {'source': 'knowledge-base\\\\terraform_modules\\\\azurerm_postgresql_flexible_server\\\\README.md', 'doc_type': 'azurerm_postgresql_flexible_server'}, {'source': 'knowledge-base\\\\terraform_modules\\\\azurerm_postgresql_flexible_server\\\\README.md', 'doc_type': 'azurerm_postgresql_flexible_server'}, {'doc_type': 'azurerm_postgresql_flexible_server', 'source': 'knowledge-base\\\\terraform_modules\\\\azurerm_postgresql_flexible_server\\\\README.md'}, {'doc_type': 'azurerm_postgresql_flexible_server', 'source': 'knowledge-base\\\\terraform_modules\\\\azurerm_postgresql_flexible_server\\\\README.md'}, {'source': 'knowledge-base\\\\terraform_modules\\\\azurerm_postgresql_flexible_server\\\\README.md', 'doc_type': 'azurerm_postgresql_flexible_server'}, {'source': 'knowledge-base\\\\terraform_modules\\\\azurerm_postgresql_flexible_server\\\\README.md', 'doc_type': 'azurerm_postgresql_flexible_server'}, {'source': 'knowledge-base\\\\terraform_modules\\\\azurerm_postgresql_flexible_server\\\\README.md', 'doc_type': 'azurerm_postgresql_flexible_server'}, {'source': 'knowledge-base\\\\terraform_modules\\\\azurerm_postgresql_flexible_server\\\\README.md', 'doc_type': 'azurerm_postgresql_flexible_server'}, {'doc_type': 'azurerm_postgresql_flexible_server', 'source': 'knowledge-base\\\\terraform_modules\\\\azurerm_postgresql_flexible_server\\\\README.md'}, {'doc_type': 'azurerm_postgresql_flexible_server', 'source': 'knowledge-base\\\\terraform_modules\\\\azurerm_postgresql_flexible_server\\\\README.md'}, {'doc_type': 'azurerm_postgresql_flexible_server', 'source': 'knowledge-base\\\\terraform_modules\\\\azurerm_postgresql_flexible_server\\\\README.md'}, {'doc_type': 'azurerm_postgresql_flexible_server', 'source': 'knowledge-base\\\\terraform_modules\\\\azurerm_postgresql_flexible_server\\\\README.md'}, {'doc_type': 'azurerm_postgresql_flexible_server', 'source': 'knowledge-base\\\\terraform_modules\\\\azurerm_postgresql_flexible_server\\\\README.md'}, {'doc_type': 'azurerm_postgresql_flexible_server', 'source': 'knowledge-base\\\\terraform_modules\\\\azurerm_postgresql_flexible_server\\\\README.md'}, {'source': 'knowledge-base\\\\terraform_modules\\\\azurerm_postgresql_flexible_server\\\\README.md', 'doc_type': 'azurerm_postgresql_flexible_server'}, {'source': 'knowledge-base\\\\terraform_modules\\\\azurerm_postgresql_flexible_server\\\\README.md', 'doc_type': 'azurerm_postgresql_flexible_server'}, {'source': 'knowledge-base\\\\terraform_modules\\\\azurerm_postgresql_flexible_server\\\\README.md', 'doc_type': 'azurerm_postgresql_flexible_server'}, {'doc_type': 'azurerm_postgresql_flexible_server', 'source': 'knowledge-base\\\\terraform_modules\\\\azurerm_postgresql_flexible_server\\\\README.md'}, {'source': 'knowledge-base\\\\terraform_modules\\\\azurerm_postgresql_flexible_server\\\\README.md', 'doc_type': 'azurerm_postgresql_flexible_server'}, {'doc_type': 'azurerm_postgresql_flexible_server', 'source': 'knowledge-base\\\\terraform_modules\\\\azurerm_postgresql_flexible_server\\\\README.md'}, {'source': 'knowledge-base\\\\terraform_modules\\\\azurerm_postgresql_flexible_server\\\\README.md', 'doc_type': 'azurerm_postgresql_flexible_server'}, {'source': 'knowledge-base\\\\terraform_modules\\\\azurerm_postgresql_flexible_server\\\\README.md', 'doc_type': 'azurerm_postgresql_flexible_server'}, {'source': 'knowledge-base\\\\terraform_modules\\\\azurerm_postgresql_flexible_server\\\\README.md', 'doc_type': 'azurerm_postgresql_flexible_server'}, {'doc_type': 'azurerm_postgresql_flexible_server', 'source': 'knowledge-base\\\\terraform_modules\\\\azurerm_postgresql_flexible_server\\\\README.md'}, {'source': 'knowledge-base\\\\terraform_modules\\\\azurerm_postgresql_flexible_server\\\\README.md', 'doc_type': 'azurerm_postgresql_flexible_server'}, {'source': 'knowledge-base\\\\terraform_modules\\\\azurerm_postgresql_flexible_server\\\\README.md', 'doc_type': 'azurerm_postgresql_flexible_server'}, {'doc_type': 'azurerm_postgresql_flexible_server', 'source': 'knowledge-base\\\\terraform_modules\\\\azurerm_postgresql_flexible_server\\\\README.md'}, {'doc_type': 'azurerm_postgresql_flexible_server', 'source': 'knowledge-base\\\\terraform_modules\\\\azurerm_postgresql_flexible_server\\\\README.md'}, {'doc_type': 'azurerm_postgresql_flexible_server', 'source': 'knowledge-base\\\\terraform_modules\\\\azurerm_postgresql_flexible_server\\\\README.md'}, {'source': 'knowledge-base\\\\terraform_modules\\\\azurerm_postgresql_flexible_server\\\\README.md', 'doc_type': 'azurerm_postgresql_flexible_server'}, {'doc_type': 'azurerm_postgresql_flexible_server', 'source': 'knowledge-base\\\\terraform_modules\\\\azurerm_postgresql_flexible_server\\\\README.md'}, {'source': 'knowledge-base\\\\terraform_modules\\\\azurerm_postgresql_flexible_server\\\\README.md', 'doc_type': 'azurerm_postgresql_flexible_server'}, {'source': 'knowledge-base\\\\terraform_modules\\\\azurerm_postgresql_flexible_server\\\\RELEASES.md', 'doc_type': 'azurerm_postgresql_flexible_server'}, {'doc_type': 'azurerm_postgresql_flexible_server', 'source': 'knowledge-base\\\\terraform_modules\\\\azurerm_postgresql_flexible_server\\\\RELEASES.md'}, {'source': 'knowledge-base\\\\terraform_modules\\\\azurerm_postgresql_flexible_server\\\\RELEASES.md', 'doc_type': 'azurerm_postgresql_flexible_server'}, {'doc_type': 'azurerm_postgresql_flexible_server', 'source': 'knowledge-base\\\\terraform_modules\\\\azurerm_postgresql_flexible_server\\\\RELEASES.md'}, {'source': 'knowledge-base\\\\terraform_modules\\\\azurerm_postgresql_flexible_server\\\\RELEASES.md', 'doc_type': 'azurerm_postgresql_flexible_server'}, {'source': 'knowledge-base\\\\terraform_modules\\\\azurerm_postgresql_flexible_server\\\\RELEASES.md', 'doc_type': 'azurerm_postgresql_flexible_server'}, {'source': 'knowledge-base\\\\terraform_modules\\\\azurerm_postgresql_flexible_server\\\\RELEASES.md', 'doc_type': 'azurerm_postgresql_flexible_server'}, {'source': 'knowledge-base\\\\terraform_modules\\\\azurerm_postgresql_flexible_server\\\\Tests\\\\README.md', 'doc_type': 'azurerm_postgresql_flexible_server'}, {'source': 'knowledge-base\\\\terraform_modules\\\\azurerm_postgresql_flexible_server\\\\Tests\\\\README.md', 'doc_type': 'azurerm_postgresql_flexible_server'}, {'doc_type': 'azurerm_postgresql_flexible_server', 'source': 'knowledge-base\\\\terraform_modules\\\\azurerm_postgresql_flexible_server\\\\Tests\\\\README.md'}, {'doc_type': 'azurerm_postgresql_flexible_server', 'source': 'knowledge-base\\\\terraform_modules\\\\azurerm_postgresql_flexible_server\\\\Tests\\\\README.md'}, {'source': 'knowledge-base\\\\terraform_modules\\\\azurerm_private_dns_records\\\\README.md', 'doc_type': 'azurerm_private_dns_records'}, {'doc_type': 'azurerm_private_dns_records', 'source': 'knowledge-base\\\\terraform_modules\\\\azurerm_private_dns_records\\\\README.md'}, {'doc_type': 'azurerm_private_dns_records', 'source': 'knowledge-base\\\\terraform_modules\\\\azurerm_private_dns_records\\\\README.md'}, {'source': 'knowledge-base\\\\terraform_modules\\\\azurerm_private_dns_records\\\\README.md', 'doc_type': 'azurerm_private_dns_records'}, {'doc_type': 'azurerm_private_dns_records', 'source': 'knowledge-base\\\\terraform_modules\\\\azurerm_private_dns_records\\\\README.md'}, {'source': 'knowledge-base\\\\terraform_modules\\\\azurerm_private_dns_records\\\\README.md', 'doc_type': 'azurerm_private_dns_records'}, {'source': 'knowledge-base\\\\terraform_modules\\\\azurerm_private_dns_records\\\\README.md', 'doc_type': 'azurerm_private_dns_records'}, {'doc_type': 'azurerm_private_dns_records', 'source': 'knowledge-base\\\\terraform_modules\\\\azurerm_private_dns_records\\\\README.md'}, {'doc_type': 'azurerm_private_dns_records', 'source': 'knowledge-base\\\\terraform_modules\\\\azurerm_private_dns_records\\\\README.md'}, {'doc_type': 'azurerm_private_dns_records', 'source': 'knowledge-base\\\\terraform_modules\\\\azurerm_private_dns_records\\\\README.md'}, {'doc_type': 'azurerm_private_dns_records', 'source': 'knowledge-base\\\\terraform_modules\\\\azurerm_private_dns_records\\\\README.md'}, {'source': 'knowledge-base\\\\terraform_modules\\\\azurerm_private_dns_records\\\\README.md', 'doc_type': 'azurerm_private_dns_records'}, {'doc_type': 'azurerm_private_dns_records', 'source': 'knowledge-base\\\\terraform_modules\\\\azurerm_private_dns_records\\\\README.md'}, {'source': 'knowledge-base\\\\terraform_modules\\\\azurerm_private_dns_records\\\\README.md', 'doc_type': 'azurerm_private_dns_records'}, {'source': 'knowledge-base\\\\terraform_modules\\\\azurerm_private_dns_records\\\\README.md', 'doc_type': 'azurerm_private_dns_records'}, {'source': 'knowledge-base\\\\terraform_modules\\\\azurerm_private_dns_records\\\\README.md', 'doc_type': 'azurerm_private_dns_records'}, {'source': 'knowledge-base\\\\terraform_modules\\\\azurerm_private_dns_records\\\\README.md', 'doc_type': 'azurerm_private_dns_records'}, {'doc_type': 'azurerm_private_dns_records', 'source': 'knowledge-base\\\\terraform_modules\\\\azurerm_private_dns_records\\\\README.md'}, {'source': 'knowledge-base\\\\terraform_modules\\\\azurerm_private_dns_records\\\\README.md', 'doc_type': 'azurerm_private_dns_records'}, {'source': 'knowledge-base\\\\terraform_modules\\\\azurerm_private_dns_records\\\\README.md', 'doc_type': 'azurerm_private_dns_records'}, {'source': 'knowledge-base\\\\terraform_modules\\\\azurerm_private_dns_records\\\\README.md', 'doc_type': 'azurerm_private_dns_records'}, {'source': 'knowledge-base\\\\terraform_modules\\\\azurerm_private_dns_records\\\\README.md', 'doc_type': 'azurerm_private_dns_records'}, {'doc_type': 'azurerm_private_dns_records', 'source': 'knowledge-base\\\\terraform_modules\\\\azurerm_private_dns_records\\\\README.md'}, {'source': 'knowledge-base\\\\terraform_modules\\\\azurerm_private_dns_records\\\\README.md', 'doc_type': 'azurerm_private_dns_records'}, {'source': 'knowledge-base\\\\terraform_modules\\\\azurerm_private_dns_records\\\\README.md', 'doc_type': 'azurerm_private_dns_records'}, {'source': 'knowledge-base\\\\terraform_modules\\\\azurerm_private_dns_records\\\\README.md', 'doc_type': 'azurerm_private_dns_records'}, {'source': 'knowledge-base\\\\terraform_modules\\\\azurerm_private_dns_records\\\\README.md', 'doc_type': 'azurerm_private_dns_records'}, {'source': 'knowledge-base\\\\terraform_modules\\\\azurerm_private_dns_records\\\\RELEASES.md', 'doc_type': 'azurerm_private_dns_records'}, {'doc_type': 'azurerm_private_dns_records', 'source': 'knowledge-base\\\\terraform_modules\\\\azurerm_private_dns_records\\\\Tests\\\\README.md'}, {'source': 'knowledge-base\\\\terraform_modules\\\\azurerm_private_dns_records\\\\Tests\\\\README.md', 'doc_type': 'azurerm_private_dns_records'}, {'doc_type': 'azurerm_private_dns_records', 'source': 'knowledge-base\\\\terraform_modules\\\\azurerm_private_dns_records\\\\Tests\\\\README.md'}, {'source': 'knowledge-base\\\\terraform_modules\\\\azurerm_private_dns_records\\\\Tests\\\\README.md', 'doc_type': 'azurerm_private_dns_records'}, {'source': 'knowledge-base\\\\terraform_modules\\\\azurerm_private_dns_records\\\\Tests\\\\README.md', 'doc_type': 'azurerm_private_dns_records'}, {'source': 'knowledge-base\\\\terraform_modules\\\\azurerm_private_dns_records\\\\Tests\\\\README.md', 'doc_type': 'azurerm_private_dns_records'}, {'source': 'knowledge-base\\\\terraform_modules\\\\azurerm_private_dns_records\\\\Tests\\\\README.md', 'doc_type': 'azurerm_private_dns_records'}, {'source': 'knowledge-base\\\\terraform_modules\\\\azurerm_private_endpoint\\\\README.md', 'doc_type': 'azurerm_private_endpoint'}, {'doc_type': 'azurerm_private_endpoint', 'source': 'knowledge-base\\\\terraform_modules\\\\azurerm_private_endpoint\\\\README.md'}, {'doc_type': 'azurerm_private_endpoint', 'source': 'knowledge-base\\\\terraform_modules\\\\azurerm_private_endpoint\\\\README.md'}, {'source': 'knowledge-base\\\\terraform_modules\\\\azurerm_private_endpoint\\\\README.md', 'doc_type': 'azurerm_private_endpoint'}, {'doc_type': 'azurerm_private_endpoint', 'source': 'knowledge-base\\\\terraform_modules\\\\azurerm_private_endpoint\\\\README.md'}, {'source': 'knowledge-base\\\\terraform_modules\\\\azurerm_private_endpoint\\\\README.md', 'doc_type': 'azurerm_private_endpoint'}, {'source': 'knowledge-base\\\\terraform_modules\\\\azurerm_private_endpoint\\\\README.md', 'doc_type': 'azurerm_private_endpoint'}, {'doc_type': 'azurerm_private_endpoint', 'source': 'knowledge-base\\\\terraform_modules\\\\azurerm_private_endpoint\\\\README.md'}, {'doc_type': 'azurerm_private_endpoint', 'source': 'knowledge-base\\\\terraform_modules\\\\azurerm_private_endpoint\\\\README.md'}, {'source': 'knowledge-base\\\\terraform_modules\\\\azurerm_private_endpoint\\\\README.md', 'doc_type': 'azurerm_private_endpoint'}, {'source': 'knowledge-base\\\\terraform_modules\\\\azurerm_private_endpoint\\\\README.md', 'doc_type': 'azurerm_private_endpoint'}, {'source': 'knowledge-base\\\\terraform_modules\\\\azurerm_private_endpoint\\\\README.md', 'doc_type': 'azurerm_private_endpoint'}, {'doc_type': 'azurerm_private_endpoint', 'source': 'knowledge-base\\\\terraform_modules\\\\azurerm_private_endpoint\\\\README.md'}, {'doc_type': 'azurerm_private_endpoint', 'source': 'knowledge-base\\\\terraform_modules\\\\azurerm_private_endpoint\\\\README.md'}, {'source': 'knowledge-base\\\\terraform_modules\\\\azurerm_private_endpoint\\\\README.md', 'doc_type': 'azurerm_private_endpoint'}, {'source': 'knowledge-base\\\\terraform_modules\\\\azurerm_private_endpoint\\\\README.md', 'doc_type': 'azurerm_private_endpoint'}, {'doc_type': 'azurerm_private_endpoint', 'source': 'knowledge-base\\\\terraform_modules\\\\azurerm_private_endpoint\\\\README.md'}, {'doc_type': 'azurerm_private_endpoint', 'source': 'knowledge-base\\\\terraform_modules\\\\azurerm_private_endpoint\\\\README.md'}, {'source': 'knowledge-base\\\\terraform_modules\\\\azurerm_private_endpoint\\\\README.md', 'doc_type': 'azurerm_private_endpoint'}, {'source': 'knowledge-base\\\\terraform_modules\\\\azurerm_private_endpoint\\\\README.md', 'doc_type': 'azurerm_private_endpoint'}, {'source': 'knowledge-base\\\\terraform_modules\\\\azurerm_private_endpoint\\\\RELEASES.md', 'doc_type': 'azurerm_private_endpoint'}, {'doc_type': 'azurerm_private_endpoint', 'source': 'knowledge-base\\\\terraform_modules\\\\azurerm_private_endpoint\\\\RELEASES.md'}, {'doc_type': 'azurerm_private_endpoint', 'source': 'knowledge-base\\\\terraform_modules\\\\azurerm_private_endpoint\\\\RELEASES.md'}, {'source': 'knowledge-base\\\\terraform_modules\\\\azurerm_private_endpoint\\\\RELEASES.md', 'doc_type': 'azurerm_private_endpoint'}, {'doc_type': 'azurerm_private_endpoint', 'source': 'knowledge-base\\\\terraform_modules\\\\azurerm_private_endpoint\\\\Tests\\\\README.md'}, {'doc_type': 'azurerm_private_endpoint', 'source': 'knowledge-base\\\\terraform_modules\\\\azurerm_private_endpoint\\\\Tests\\\\README.md'}, {'doc_type': 'azurerm_private_endpoint', 'source': 'knowledge-base\\\\terraform_modules\\\\azurerm_private_endpoint\\\\Tests\\\\README.md'}, {'source': 'knowledge-base\\\\terraform_modules\\\\azurerm_private_endpoint\\\\Tests\\\\README.md', 'doc_type': 'azurerm_private_endpoint'}, {'source': 'knowledge-base\\\\terraform_modules\\\\azurerm_rbac_administration\\\\README.md', 'doc_type': 'azurerm_rbac_administration'}, {'doc_type': 'azurerm_rbac_administration', 'source': 'knowledge-base\\\\terraform_modules\\\\azurerm_rbac_administration\\\\README.md'}, {'source': 'knowledge-base\\\\terraform_modules\\\\azurerm_rbac_administration\\\\README.md', 'doc_type': 'azurerm_rbac_administration'}, {'doc_type': 'azurerm_rbac_administration', 'source': 'knowledge-base\\\\terraform_modules\\\\azurerm_rbac_administration\\\\README.md'}, {'source': 'knowledge-base\\\\terraform_modules\\\\azurerm_rbac_administration\\\\README.md', 'doc_type': 'azurerm_rbac_administration'}, {'source': 'knowledge-base\\\\terraform_modules\\\\azurerm_rbac_administration\\\\README.md', 'doc_type': 'azurerm_rbac_administration'}, {'doc_type': 'azurerm_rbac_administration', 'source': 'knowledge-base\\\\terraform_modules\\\\azurerm_rbac_administration\\\\README.md'}, {'source': 'knowledge-base\\\\terraform_modules\\\\azurerm_rbac_administration\\\\README.md', 'doc_type': 'azurerm_rbac_administration'}, {'doc_type': 'azurerm_rbac_administration', 'source': 'knowledge-base\\\\terraform_modules\\\\azurerm_rbac_administration\\\\README.md'}, {'source': 'knowledge-base\\\\terraform_modules\\\\azurerm_rbac_administration\\\\README.md', 'doc_type': 'azurerm_rbac_administration'}, {'source': 'knowledge-base\\\\terraform_modules\\\\azurerm_rbac_administration\\\\README.md', 'doc_type': 'azurerm_rbac_administration'}, {'doc_type': 'azurerm_rbac_administration', 'source': 'knowledge-base\\\\terraform_modules\\\\azurerm_rbac_administration\\\\README.md'}, {'source': 'knowledge-base\\\\terraform_modules\\\\azurerm_rbac_administration\\\\RELEASES.md', 'doc_type': 'azurerm_rbac_administration'}, {'source': 'knowledge-base\\\\terraform_modules\\\\azurerm_rbac_administration\\\\RELEASES.md', 'doc_type': 'azurerm_rbac_administration'}, {'source': 'knowledge-base\\\\terraform_modules\\\\azurerm_rbac_administration\\\\RELEASES.md', 'doc_type': 'azurerm_rbac_administration'}, {'doc_type': 'azurerm_rbac_administration', 'source': 'knowledge-base\\\\terraform_modules\\\\azurerm_rbac_administration\\\\RELEASES.md'}, {'doc_type': 'azurerm_rbac_administration', 'source': 'knowledge-base\\\\terraform_modules\\\\azurerm_rbac_administration\\\\Tests\\\\README.md'}, {'doc_type': 'azurerm_rbac_administration', 'source': 'knowledge-base\\\\terraform_modules\\\\azurerm_rbac_administration\\\\Tests\\\\README.md'}, {'doc_type': 'azurerm_rbac_administration', 'source': 'knowledge-base\\\\terraform_modules\\\\azurerm_rbac_administration\\\\Tests\\\\README.md'}, {'source': 'knowledge-base\\\\terraform_modules\\\\azurerm_rbac_administration\\\\Tests\\\\README.md', 'doc_type': 'azurerm_rbac_administration'}, {'doc_type': 'azurerm_redis_cache', 'source': 'knowledge-base\\\\terraform_modules\\\\azurerm_redis_cache\\\\README.md'}, {'doc_type': 'azurerm_redis_cache', 'source': 'knowledge-base\\\\terraform_modules\\\\azurerm_redis_cache\\\\README.md'}, {'source': 'knowledge-base\\\\terraform_modules\\\\azurerm_redis_cache\\\\README.md', 'doc_type': 'azurerm_redis_cache'}, {'doc_type': 'azurerm_redis_cache', 'source': 'knowledge-base\\\\terraform_modules\\\\azurerm_redis_cache\\\\README.md'}, {'source': 'knowledge-base\\\\terraform_modules\\\\azurerm_redis_cache\\\\README.md', 'doc_type': 'azurerm_redis_cache'}, {'doc_type': 'azurerm_redis_cache', 'source': 'knowledge-base\\\\terraform_modules\\\\azurerm_redis_cache\\\\README.md'}, {'doc_type': 'azurerm_redis_cache', 'source': 'knowledge-base\\\\terraform_modules\\\\azurerm_redis_cache\\\\README.md'}, {'source': 'knowledge-base\\\\terraform_modules\\\\azurerm_redis_cache\\\\README.md', 'doc_type': 'azurerm_redis_cache'}, {'source': 'knowledge-base\\\\terraform_modules\\\\azurerm_redis_cache\\\\README.md', 'doc_type': 'azurerm_redis_cache'}, {'doc_type': 'azurerm_redis_cache', 'source': 'knowledge-base\\\\terraform_modules\\\\azurerm_redis_cache\\\\README.md'}, {'doc_type': 'azurerm_redis_cache', 'source': 'knowledge-base\\\\terraform_modules\\\\azurerm_redis_cache\\\\README.md'}, {'doc_type': 'azurerm_redis_cache', 'source': 'knowledge-base\\\\terraform_modules\\\\azurerm_redis_cache\\\\README.md'}, {'source': 'knowledge-base\\\\terraform_modules\\\\azurerm_redis_cache\\\\README.md', 'doc_type': 'azurerm_redis_cache'}, {'doc_type': 'azurerm_redis_cache', 'source': 'knowledge-base\\\\terraform_modules\\\\azurerm_redis_cache\\\\README.md'}, {'source': 'knowledge-base\\\\terraform_modules\\\\azurerm_redis_cache\\\\README.md', 'doc_type': 'azurerm_redis_cache'}, {'source': 'knowledge-base\\\\terraform_modules\\\\azurerm_redis_cache\\\\README.md', 'doc_type': 'azurerm_redis_cache'}, {'source': 'knowledge-base\\\\terraform_modules\\\\azurerm_redis_cache\\\\README.md', 'doc_type': 'azurerm_redis_cache'}, {'doc_type': 'azurerm_redis_cache', 'source': 'knowledge-base\\\\terraform_modules\\\\azurerm_redis_cache\\\\README.md'}, {'doc_type': 'azurerm_redis_cache', 'source': 'knowledge-base\\\\terraform_modules\\\\azurerm_redis_cache\\\\README.md'}, {'doc_type': 'azurerm_redis_cache', 'source': 'knowledge-base\\\\terraform_modules\\\\azurerm_redis_cache\\\\README.md'}, {'doc_type': 'azurerm_redis_cache', 'source': 'knowledge-base\\\\terraform_modules\\\\azurerm_redis_cache\\\\README.md'}, {'doc_type': 'azurerm_redis_cache', 'source': 'knowledge-base\\\\terraform_modules\\\\azurerm_redis_cache\\\\README.md'}, {'doc_type': 'azurerm_redis_cache', 'source': 'knowledge-base\\\\terraform_modules\\\\azurerm_redis_cache\\\\README.md'}, {'doc_type': 'azurerm_redis_cache', 'source': 'knowledge-base\\\\terraform_modules\\\\azurerm_redis_cache\\\\README.md'}, {'source': 'knowledge-base\\\\terraform_modules\\\\azurerm_redis_cache\\\\README.md', 'doc_type': 'azurerm_redis_cache'}, {'doc_type': 'azurerm_redis_cache', 'source': 'knowledge-base\\\\terraform_modules\\\\azurerm_redis_cache\\\\README.md'}, {'source': 'knowledge-base\\\\terraform_modules\\\\azurerm_redis_cache\\\\README.md', 'doc_type': 'azurerm_redis_cache'}, {'doc_type': 'azurerm_redis_cache', 'source': 'knowledge-base\\\\terraform_modules\\\\azurerm_redis_cache\\\\README.md'}, {'doc_type': 'azurerm_redis_cache', 'source': 'knowledge-base\\\\terraform_modules\\\\azurerm_redis_cache\\\\README.md'}, {'source': 'knowledge-base\\\\terraform_modules\\\\azurerm_redis_cache\\\\README.md', 'doc_type': 'azurerm_redis_cache'}, {'source': 'knowledge-base\\\\terraform_modules\\\\azurerm_redis_cache\\\\README.md', 'doc_type': 'azurerm_redis_cache'}, {'doc_type': 'azurerm_redis_cache', 'source': 'knowledge-base\\\\terraform_modules\\\\azurerm_redis_cache\\\\RELEASES.md'}, {'doc_type': 'azurerm_redis_cache', 'source': 'knowledge-base\\\\terraform_modules\\\\azurerm_redis_cache\\\\Tests\\\\README.md'}, {'doc_type': 'azurerm_redis_cache', 'source': 'knowledge-base\\\\terraform_modules\\\\azurerm_redis_cache\\\\Tests\\\\README.md'}, {'doc_type': 'azurerm_redis_cache', 'source': 'knowledge-base\\\\terraform_modules\\\\azurerm_redis_cache\\\\Tests\\\\README.md'}, {'doc_type': 'azurerm_redis_cache', 'source': 'knowledge-base\\\\terraform_modules\\\\azurerm_redis_cache\\\\Tests\\\\README.md'}, {'source': 'knowledge-base\\\\terraform_modules\\\\azurerm_resource_group\\\\README.md', 'doc_type': 'azurerm_resource_group'}, {'source': 'knowledge-base\\\\terraform_modules\\\\azurerm_resource_group\\\\README.md', 'doc_type': 'azurerm_resource_group'}, {'doc_type': 'azurerm_resource_group', 'source': 'knowledge-base\\\\terraform_modules\\\\azurerm_resource_group\\\\README.md'}, {'doc_type': 'azurerm_resource_group', 'source': 'knowledge-base\\\\terraform_modules\\\\azurerm_resource_group\\\\README.md'}, {'source': 'knowledge-base\\\\terraform_modules\\\\azurerm_resource_group\\\\README.md', 'doc_type': 'azurerm_resource_group'}, {'doc_type': 'azurerm_resource_group', 'source': 'knowledge-base\\\\terraform_modules\\\\azurerm_resource_group\\\\README.md'}, {'source': 'knowledge-base\\\\terraform_modules\\\\azurerm_resource_group\\\\README.md', 'doc_type': 'azurerm_resource_group'}, {'source': 'knowledge-base\\\\terraform_modules\\\\azurerm_resource_group\\\\README.md', 'doc_type': 'azurerm_resource_group'}, {'doc_type': 'azurerm_resource_group', 'source': 'knowledge-base\\\\terraform_modules\\\\azurerm_resource_group\\\\README.md'}, {'source': 'knowledge-base\\\\terraform_modules\\\\azurerm_resource_group\\\\README.md', 'doc_type': 'azurerm_resource_group'}, {'source': 'knowledge-base\\\\terraform_modules\\\\azurerm_resource_group\\\\README.md', 'doc_type': 'azurerm_resource_group'}, {'doc_type': 'azurerm_resource_group', 'source': 'knowledge-base\\\\terraform_modules\\\\azurerm_resource_group\\\\README.md'}, {'doc_type': 'azurerm_resource_group', 'source': 'knowledge-base\\\\terraform_modules\\\\azurerm_resource_group\\\\README.md'}, {'source': 'knowledge-base\\\\terraform_modules\\\\azurerm_resource_group\\\\README.md', 'doc_type': 'azurerm_resource_group'}, {'doc_type': 'azurerm_resource_group', 'source': 'knowledge-base\\\\terraform_modules\\\\azurerm_resource_group\\\\RELEASES.md'}, {'doc_type': 'azurerm_resource_group', 'source': 'knowledge-base\\\\terraform_modules\\\\azurerm_resource_group\\\\RELEASES.md'}, {'doc_type': 'azurerm_resource_group', 'source': 'knowledge-base\\\\terraform_modules\\\\azurerm_resource_group\\\\RELEASES.md'}, {'source': 'knowledge-base\\\\terraform_modules\\\\azurerm_resource_group\\\\RELEASES.md', 'doc_type': 'azurerm_resource_group'}, {'source': 'knowledge-base\\\\terraform_modules\\\\azurerm_resource_group\\\\RELEASES.md', 'doc_type': 'azurerm_resource_group'}, {'source': 'knowledge-base\\\\terraform_modules\\\\azurerm_resource_group\\\\Tests\\\\README.md', 'doc_type': 'azurerm_resource_group'}, {'source': 'knowledge-base\\\\terraform_modules\\\\azurerm_resource_group\\\\Tests\\\\README.md', 'doc_type': 'azurerm_resource_group'}, {'source': 'knowledge-base\\\\terraform_modules\\\\azurerm_resource_group\\\\Tests\\\\README.md', 'doc_type': 'azurerm_resource_group'}, {'source': 'knowledge-base\\\\terraform_modules\\\\azurerm_resource_group\\\\Tests\\\\README.md', 'doc_type': 'azurerm_resource_group'}, {'doc_type': 'azurerm_route_table', 'source': 'knowledge-base\\\\terraform_modules\\\\azurerm_route_table\\\\README.md'}, {'doc_type': 'azurerm_route_table', 'source': 'knowledge-base\\\\terraform_modules\\\\azurerm_route_table\\\\README.md'}, {'doc_type': 'azurerm_route_table', 'source': 'knowledge-base\\\\terraform_modules\\\\azurerm_route_table\\\\README.md'}, {'source': 'knowledge-base\\\\terraform_modules\\\\azurerm_route_table\\\\README.md', 'doc_type': 'azurerm_route_table'}, {'source': 'knowledge-base\\\\terraform_modules\\\\azurerm_route_table\\\\README.md', 'doc_type': 'azurerm_route_table'}, {'source': 'knowledge-base\\\\terraform_modules\\\\azurerm_route_table\\\\README.md', 'doc_type': 'azurerm_route_table'}, {'doc_type': 'azurerm_route_table', 'source': 'knowledge-base\\\\terraform_modules\\\\azurerm_route_table\\\\README.md'}, {'source': 'knowledge-base\\\\terraform_modules\\\\azurerm_route_table\\\\README.md', 'doc_type': 'azurerm_route_table'}, {'source': 'knowledge-base\\\\terraform_modules\\\\azurerm_route_table\\\\README.md', 'doc_type': 'azurerm_route_table'}, {'source': 'knowledge-base\\\\terraform_modules\\\\azurerm_route_table\\\\README.md', 'doc_type': 'azurerm_route_table'}, {'doc_type': 'azurerm_route_table', 'source': 'knowledge-base\\\\terraform_modules\\\\azurerm_route_table\\\\README.md'}, {'doc_type': 'azurerm_route_table', 'source': 'knowledge-base\\\\terraform_modules\\\\azurerm_route_table\\\\README.md'}, {'source': 'knowledge-base\\\\terraform_modules\\\\azurerm_route_table\\\\README.md', 'doc_type': 'azurerm_route_table'}, {'source': 'knowledge-base\\\\terraform_modules\\\\azurerm_route_table\\\\README.md', 'doc_type': 'azurerm_route_table'}, {'source': 'knowledge-base\\\\terraform_modules\\\\azurerm_route_table\\\\README.md', 'doc_type': 'azurerm_route_table'}, {'source': 'knowledge-base\\\\terraform_modules\\\\azurerm_route_table\\\\README.md', 'doc_type': 'azurerm_route_table'}, {'doc_type': 'azurerm_route_table', 'source': 'knowledge-base\\\\terraform_modules\\\\azurerm_route_table\\\\README.md'}, {'doc_type': 'azurerm_route_table', 'source': 'knowledge-base\\\\terraform_modules\\\\azurerm_route_table\\\\README.md'}, {'doc_type': 'azurerm_route_table', 'source': 'knowledge-base\\\\terraform_modules\\\\azurerm_route_table\\\\RELEASES.md'}, {'source': 'knowledge-base\\\\terraform_modules\\\\azurerm_route_table\\\\RELEASES.md', 'doc_type': 'azurerm_route_table'}, {'source': 'knowledge-base\\\\terraform_modules\\\\azurerm_route_table\\\\RELEASES.md', 'doc_type': 'azurerm_route_table'}, {'doc_type': 'azurerm_route_table', 'source': 'knowledge-base\\\\terraform_modules\\\\azurerm_route_table\\\\RELEASES.md'}, {'doc_type': 'azurerm_route_table', 'source': 'knowledge-base\\\\terraform_modules\\\\azurerm_route_table\\\\RELEASES.md'}, {'source': 'knowledge-base\\\\terraform_modules\\\\azurerm_route_table\\\\Tests\\\\README.md', 'doc_type': 'azurerm_route_table'}, {'doc_type': 'azurerm_route_table', 'source': 'knowledge-base\\\\terraform_modules\\\\azurerm_route_table\\\\Tests\\\\README.md'}, {'source': 'knowledge-base\\\\terraform_modules\\\\azurerm_route_table\\\\Tests\\\\README.md', 'doc_type': 'azurerm_route_table'}, {'source': 'knowledge-base\\\\terraform_modules\\\\azurerm_route_table\\\\Tests\\\\README.md', 'doc_type': 'azurerm_route_table'}, {'doc_type': 'azurerm_route_table_administration', 'source': 'knowledge-base\\\\terraform_modules\\\\azurerm_route_table_administration\\\\README.md'}, {'doc_type': 'azurerm_route_table_administration', 'source': 'knowledge-base\\\\terraform_modules\\\\azurerm_route_table_administration\\\\README.md'}, {'source': 'knowledge-base\\\\terraform_modules\\\\azurerm_route_table_administration\\\\README.md', 'doc_type': 'azurerm_route_table_administration'}, {'doc_type': 'azurerm_route_table_administration', 'source': 'knowledge-base\\\\terraform_modules\\\\azurerm_route_table_administration\\\\README.md'}, {'source': 'knowledge-base\\\\terraform_modules\\\\azurerm_route_table_administration\\\\README.md', 'doc_type': 'azurerm_route_table_administration'}, {'doc_type': 'azurerm_route_table_administration', 'source': 'knowledge-base\\\\terraform_modules\\\\azurerm_route_table_administration\\\\README.md'}, {'source': 'knowledge-base\\\\terraform_modules\\\\azurerm_route_table_administration\\\\README.md', 'doc_type': 'azurerm_route_table_administration'}, {'source': 'knowledge-base\\\\terraform_modules\\\\azurerm_route_table_administration\\\\README.md', 'doc_type': 'azurerm_route_table_administration'}, {'doc_type': 'azurerm_route_table_administration', 'source': 'knowledge-base\\\\terraform_modules\\\\azurerm_route_table_administration\\\\README.md'}, {'source': 'knowledge-base\\\\terraform_modules\\\\azurerm_route_table_administration\\\\README.md', 'doc_type': 'azurerm_route_table_administration'}, {'doc_type': 'azurerm_route_table_administration', 'source': 'knowledge-base\\\\terraform_modules\\\\azurerm_route_table_administration\\\\README.md'}, {'doc_type': 'azurerm_route_table_administration', 'source': 'knowledge-base\\\\terraform_modules\\\\azurerm_route_table_administration\\\\README.md'}, {'doc_type': 'azurerm_route_table_administration', 'source': 'knowledge-base\\\\terraform_modules\\\\azurerm_route_table_administration\\\\README.md'}, {'doc_type': 'azurerm_route_table_administration', 'source': 'knowledge-base\\\\terraform_modules\\\\azurerm_route_table_administration\\\\README.md'}, {'doc_type': 'azurerm_route_table_administration', 'source': 'knowledge-base\\\\terraform_modules\\\\azurerm_route_table_administration\\\\README.md'}, {'source': 'knowledge-base\\\\terraform_modules\\\\azurerm_route_table_administration\\\\RELEASES.md', 'doc_type': 'azurerm_route_table_administration'}, {'source': 'knowledge-base\\\\terraform_modules\\\\azurerm_route_table_administration\\\\RELEASES.md', 'doc_type': 'azurerm_route_table_administration'}, {'doc_type': 'azurerm_route_table_administration', 'source': 'knowledge-base\\\\terraform_modules\\\\azurerm_route_table_administration\\\\RELEASES.md'}, {'source': 'knowledge-base\\\\terraform_modules\\\\azurerm_route_table_administration\\\\RELEASES.md', 'doc_type': 'azurerm_route_table_administration'}, {'doc_type': 'azurerm_route_table_administration', 'source': 'knowledge-base\\\\terraform_modules\\\\azurerm_route_table_administration\\\\Tests\\\\README.md'}, {'doc_type': 'azurerm_route_table_administration', 'source': 'knowledge-base\\\\terraform_modules\\\\azurerm_route_table_administration\\\\Tests\\\\README.md'}, {'source': 'knowledge-base\\\\terraform_modules\\\\azurerm_route_table_administration\\\\Tests\\\\README.md', 'doc_type': 'azurerm_route_table_administration'}, {'doc_type': 'azurerm_route_table_administration', 'source': 'knowledge-base\\\\terraform_modules\\\\azurerm_route_table_administration\\\\Tests\\\\README.md'}, {'doc_type': 'azurerm_storage_account (1)', 'source': 'knowledge-base\\\\terraform_modules\\\\azurerm_storage_account (1)\\\\README.md'}, {'doc_type': 'azurerm_storage_account (1)', 'source': 'knowledge-base\\\\terraform_modules\\\\azurerm_storage_account (1)\\\\README.md'}, {'doc_type': 'azurerm_storage_account (1)', 'source': 'knowledge-base\\\\terraform_modules\\\\azurerm_storage_account (1)\\\\README.md'}, {'source': 'knowledge-base\\\\terraform_modules\\\\azurerm_storage_account (1)\\\\README.md', 'doc_type': 'azurerm_storage_account (1)'}, {'source': 'knowledge-base\\\\terraform_modules\\\\azurerm_storage_account (1)\\\\README.md', 'doc_type': 'azurerm_storage_account (1)'}, {'source': 'knowledge-base\\\\terraform_modules\\\\azurerm_storage_account (1)\\\\README.md', 'doc_type': 'azurerm_storage_account (1)'}, {'doc_type': 'azurerm_storage_account (1)', 'source': 'knowledge-base\\\\terraform_modules\\\\azurerm_storage_account (1)\\\\README.md'}, {'source': 'knowledge-base\\\\terraform_modules\\\\azurerm_storage_account (1)\\\\README.md', 'doc_type': 'azurerm_storage_account (1)'}, {'source': 'knowledge-base\\\\terraform_modules\\\\azurerm_storage_account (1)\\\\README.md', 'doc_type': 'azurerm_storage_account (1)'}, {'source': 'knowledge-base\\\\terraform_modules\\\\azurerm_storage_account (1)\\\\README.md', 'doc_type': 'azurerm_storage_account (1)'}, {'source': 'knowledge-base\\\\terraform_modules\\\\azurerm_storage_account (1)\\\\README.md', 'doc_type': 'azurerm_storage_account (1)'}, {'doc_type': 'azurerm_storage_account (1)', 'source': 'knowledge-base\\\\terraform_modules\\\\azurerm_storage_account (1)\\\\README.md'}, {'source': 'knowledge-base\\\\terraform_modules\\\\azurerm_storage_account (1)\\\\README.md', 'doc_type': 'azurerm_storage_account (1)'}, {'doc_type': 'azurerm_storage_account (1)', 'source': 'knowledge-base\\\\terraform_modules\\\\azurerm_storage_account (1)\\\\README.md'}, {'doc_type': 'azurerm_storage_account (1)', 'source': 'knowledge-base\\\\terraform_modules\\\\azurerm_storage_account (1)\\\\README.md'}, {'source': 'knowledge-base\\\\terraform_modules\\\\azurerm_storage_account (1)\\\\README.md', 'doc_type': 'azurerm_storage_account (1)'}, {'doc_type': 'azurerm_storage_account (1)', 'source': 'knowledge-base\\\\terraform_modules\\\\azurerm_storage_account (1)\\\\README.md'}, {'source': 'knowledge-base\\\\terraform_modules\\\\azurerm_storage_account (1)\\\\README.md', 'doc_type': 'azurerm_storage_account (1)'}, {'doc_type': 'azurerm_storage_account (1)', 'source': 'knowledge-base\\\\terraform_modules\\\\azurerm_storage_account (1)\\\\README.md'}, {'source': 'knowledge-base\\\\terraform_modules\\\\azurerm_storage_account (1)\\\\README.md', 'doc_type': 'azurerm_storage_account (1)'}, {'source': 'knowledge-base\\\\terraform_modules\\\\azurerm_storage_account (1)\\\\README.md', 'doc_type': 'azurerm_storage_account (1)'}, {'source': 'knowledge-base\\\\terraform_modules\\\\azurerm_storage_account (1)\\\\RELEASES.md', 'doc_type': 'azurerm_storage_account (1)'}, {'doc_type': 'azurerm_storage_account (1)', 'source': 'knowledge-base\\\\terraform_modules\\\\azurerm_storage_account (1)\\\\RELEASES.md'}, {'doc_type': 'azurerm_storage_account (1)', 'source': 'knowledge-base\\\\terraform_modules\\\\azurerm_storage_account (1)\\\\RELEASES.md'}, {'source': 'knowledge-base\\\\terraform_modules\\\\azurerm_storage_account (1)\\\\RELEASES.md', 'doc_type': 'azurerm_storage_account (1)'}, {'doc_type': 'azurerm_storage_account (1)', 'source': 'knowledge-base\\\\terraform_modules\\\\azurerm_storage_account (1)\\\\RELEASES.md'}, {'doc_type': 'azurerm_storage_account (1)', 'source': 'knowledge-base\\\\terraform_modules\\\\azurerm_storage_account (1)\\\\RELEASES.md'}, {'source': 'knowledge-base\\\\terraform_modules\\\\azurerm_storage_account (1)\\\\Tests\\\\README.md', 'doc_type': 'azurerm_storage_account (1)'}, {'doc_type': 'azurerm_storage_account (1)', 'source': 'knowledge-base\\\\terraform_modules\\\\azurerm_storage_account (1)\\\\Tests\\\\README.md'}, {'source': 'knowledge-base\\\\terraform_modules\\\\azurerm_storage_account (1)\\\\Tests\\\\README.md', 'doc_type': 'azurerm_storage_account (1)'}, {'doc_type': 'azurerm_storage_account (1)', 'source': 'knowledge-base\\\\terraform_modules\\\\azurerm_storage_account (1)\\\\Tests\\\\README.md'}, {'doc_type': 'azurerm_subnet', 'source': 'knowledge-base\\\\terraform_modules\\\\azurerm_subnet\\\\README.md'}, {'source': 'knowledge-base\\\\terraform_modules\\\\azurerm_subnet\\\\README.md', 'doc_type': 'azurerm_subnet'}, {'source': 'knowledge-base\\\\terraform_modules\\\\azurerm_subnet\\\\README.md', 'doc_type': 'azurerm_subnet'}, {'doc_type': 'azurerm_subnet', 'source': 'knowledge-base\\\\terraform_modules\\\\azurerm_subnet\\\\README.md'}, {'source': 'knowledge-base\\\\terraform_modules\\\\azurerm_subnet\\\\README.md', 'doc_type': 'azurerm_subnet'}, {'source': 'knowledge-base\\\\terraform_modules\\\\azurerm_subnet\\\\README.md', 'doc_type': 'azurerm_subnet'}, {'doc_type': 'azurerm_subnet', 'source': 'knowledge-base\\\\terraform_modules\\\\azurerm_subnet\\\\README.md'}, {'doc_type': 'azurerm_subnet', 'source': 'knowledge-base\\\\terraform_modules\\\\azurerm_subnet\\\\README.md'}, {'doc_type': 'azurerm_subnet', 'source': 'knowledge-base\\\\terraform_modules\\\\azurerm_subnet\\\\README.md'}, {'doc_type': 'azurerm_subnet', 'source': 'knowledge-base\\\\terraform_modules\\\\azurerm_subnet\\\\README.md'}, {'doc_type': 'azurerm_subnet', 'source': 'knowledge-base\\\\terraform_modules\\\\azurerm_subnet\\\\README.md'}, {'doc_type': 'azurerm_subnet', 'source': 'knowledge-base\\\\terraform_modules\\\\azurerm_subnet\\\\README.md'}, {'source': 'knowledge-base\\\\terraform_modules\\\\azurerm_subnet\\\\README.md', 'doc_type': 'azurerm_subnet'}, {'doc_type': 'azurerm_subnet', 'source': 'knowledge-base\\\\terraform_modules\\\\azurerm_subnet\\\\README.md'}, {'source': 'knowledge-base\\\\terraform_modules\\\\azurerm_subnet\\\\README.md', 'doc_type': 'azurerm_subnet'}, {'source': 'knowledge-base\\\\terraform_modules\\\\azurerm_subnet\\\\README.md', 'doc_type': 'azurerm_subnet'}, {'doc_type': 'azurerm_subnet', 'source': 'knowledge-base\\\\terraform_modules\\\\azurerm_subnet\\\\README.md'}, {'doc_type': 'azurerm_subnet', 'source': 'knowledge-base\\\\terraform_modules\\\\azurerm_subnet\\\\README.md'}, {'source': 'knowledge-base\\\\terraform_modules\\\\azurerm_subnet\\\\README.md', 'doc_type': 'azurerm_subnet'}, {'source': 'knowledge-base\\\\terraform_modules\\\\azurerm_subnet\\\\README.md', 'doc_type': 'azurerm_subnet'}, {'doc_type': 'azurerm_subnet', 'source': 'knowledge-base\\\\terraform_modules\\\\azurerm_subnet\\\\RELEASES.md'}, {'doc_type': 'azurerm_subnet', 'source': 'knowledge-base\\\\terraform_modules\\\\azurerm_subnet\\\\RELEASES.md'}, {'doc_type': 'azurerm_subnet', 'source': 'knowledge-base\\\\terraform_modules\\\\azurerm_subnet\\\\RELEASES.md'}, {'doc_type': 'azurerm_subnet', 'source': 'knowledge-base\\\\terraform_modules\\\\azurerm_subnet\\\\RELEASES.md'}, {'doc_type': 'azurerm_subnet', 'source': 'knowledge-base\\\\terraform_modules\\\\azurerm_subnet\\\\Tests\\\\README.md'}, {'source': 'knowledge-base\\\\terraform_modules\\\\azurerm_subnet\\\\Tests\\\\README.md', 'doc_type': 'azurerm_subnet'}, {'doc_type': 'azurerm_subnet', 'source': 'knowledge-base\\\\terraform_modules\\\\azurerm_subnet\\\\Tests\\\\README.md'}, {'source': 'knowledge-base\\\\terraform_modules\\\\azurerm_subnet\\\\Tests\\\\README.md', 'doc_type': 'azurerm_subnet'}, {'source': 'knowledge-base\\\\terraform_modules\\\\azurerm_user_assigned_managed_identity\\\\README.md', 'doc_type': 'azurerm_user_assigned_managed_identity'}, {'doc_type': 'azurerm_user_assigned_managed_identity', 'source': 'knowledge-base\\\\terraform_modules\\\\azurerm_user_assigned_managed_identity\\\\README.md'}, {'doc_type': 'azurerm_user_assigned_managed_identity', 'source': 'knowledge-base\\\\terraform_modules\\\\azurerm_user_assigned_managed_identity\\\\README.md'}, {'doc_type': 'azurerm_user_assigned_managed_identity', 'source': 'knowledge-base\\\\terraform_modules\\\\azurerm_user_assigned_managed_identity\\\\README.md'}, {'doc_type': 'azurerm_user_assigned_managed_identity', 'source': 'knowledge-base\\\\terraform_modules\\\\azurerm_user_assigned_managed_identity\\\\README.md'}, {'doc_type': 'azurerm_user_assigned_managed_identity', 'source': 'knowledge-base\\\\terraform_modules\\\\azurerm_user_assigned_managed_identity\\\\README.md'}, {'doc_type': 'azurerm_user_assigned_managed_identity', 'source': 'knowledge-base\\\\terraform_modules\\\\azurerm_user_assigned_managed_identity\\\\README.md'}, {'doc_type': 'azurerm_user_assigned_managed_identity', 'source': 'knowledge-base\\\\terraform_modules\\\\azurerm_user_assigned_managed_identity\\\\README.md'}, {'doc_type': 'azurerm_user_assigned_managed_identity', 'source': 'knowledge-base\\\\terraform_modules\\\\azurerm_user_assigned_managed_identity\\\\README.md'}, {'source': 'knowledge-base\\\\terraform_modules\\\\azurerm_user_assigned_managed_identity\\\\README.md', 'doc_type': 'azurerm_user_assigned_managed_identity'}, {'doc_type': 'azurerm_user_assigned_managed_identity', 'source': 'knowledge-base\\\\terraform_modules\\\\azurerm_user_assigned_managed_identity\\\\README.md'}, {'source': 'knowledge-base\\\\terraform_modules\\\\azurerm_user_assigned_managed_identity\\\\README.md', 'doc_type': 'azurerm_user_assigned_managed_identity'}, {'source': 'knowledge-base\\\\terraform_modules\\\\azurerm_user_assigned_managed_identity\\\\README.md', 'doc_type': 'azurerm_user_assigned_managed_identity'}, {'source': 'knowledge-base\\\\terraform_modules\\\\azurerm_user_assigned_managed_identity\\\\README.md', 'doc_type': 'azurerm_user_assigned_managed_identity'}, {'source': 'knowledge-base\\\\terraform_modules\\\\azurerm_user_assigned_managed_identity\\\\README.md', 'doc_type': 'azurerm_user_assigned_managed_identity'}, {'source': 'knowledge-base\\\\terraform_modules\\\\azurerm_user_assigned_managed_identity\\\\RELEASES.md', 'doc_type': 'azurerm_user_assigned_managed_identity'}, {'doc_type': 'azurerm_user_assigned_managed_identity', 'source': 'knowledge-base\\\\terraform_modules\\\\azurerm_user_assigned_managed_identity\\\\RELEASES.md'}, {'doc_type': 'azurerm_user_assigned_managed_identity', 'source': 'knowledge-base\\\\terraform_modules\\\\azurerm_user_assigned_managed_identity\\\\RELEASES.md'}, {'doc_type': 'azurerm_user_assigned_managed_identity', 'source': 'knowledge-base\\\\terraform_modules\\\\azurerm_user_assigned_managed_identity\\\\RELEASES.md'}, {'source': 'knowledge-base\\\\terraform_modules\\\\azurerm_user_assigned_managed_identity\\\\RELEASES.md', 'doc_type': 'azurerm_user_assigned_managed_identity'}, {'source': 'knowledge-base\\\\terraform_modules\\\\azurerm_user_assigned_managed_identity\\\\Tests\\\\README.md', 'doc_type': 'azurerm_user_assigned_managed_identity'}, {'source': 'knowledge-base\\\\terraform_modules\\\\azurerm_user_assigned_managed_identity\\\\Tests\\\\README.md', 'doc_type': 'azurerm_user_assigned_managed_identity'}, {'doc_type': 'azurerm_user_assigned_managed_identity', 'source': 'knowledge-base\\\\terraform_modules\\\\azurerm_user_assigned_managed_identity\\\\Tests\\\\README.md'}, {'doc_type': 'azurerm_user_assigned_managed_identity', 'source': 'knowledge-base\\\\terraform_modules\\\\azurerm_user_assigned_managed_identity\\\\Tests\\\\README.md'}, {'source': 'knowledge-base\\\\terraform_modules\\\\azurerm_windows_function_app\\\\README.md', 'doc_type': 'azurerm_windows_function_app'}, {'source': 'knowledge-base\\\\terraform_modules\\\\azurerm_windows_function_app\\\\README.md', 'doc_type': 'azurerm_windows_function_app'}, {'source': 'knowledge-base\\\\terraform_modules\\\\azurerm_windows_function_app\\\\README.md', 'doc_type': 'azurerm_windows_function_app'}, {'doc_type': 'azurerm_windows_function_app', 'source': 'knowledge-base\\\\terraform_modules\\\\azurerm_windows_function_app\\\\README.md'}, {'source': 'knowledge-base\\\\terraform_modules\\\\azurerm_windows_function_app\\\\README.md', 'doc_type': 'azurerm_windows_function_app'}, {'source': 'knowledge-base\\\\terraform_modules\\\\azurerm_windows_function_app\\\\README.md', 'doc_type': 'azurerm_windows_function_app'}, {'doc_type': 'azurerm_windows_function_app', 'source': 'knowledge-base\\\\terraform_modules\\\\azurerm_windows_function_app\\\\README.md'}, {'source': 'knowledge-base\\\\terraform_modules\\\\azurerm_windows_function_app\\\\README.md', 'doc_type': 'azurerm_windows_function_app'}, {'source': 'knowledge-base\\\\terraform_modules\\\\azurerm_windows_function_app\\\\README.md', 'doc_type': 'azurerm_windows_function_app'}, {'doc_type': 'azurerm_windows_function_app', 'source': 'knowledge-base\\\\terraform_modules\\\\azurerm_windows_function_app\\\\README.md'}, {'doc_type': 'azurerm_windows_function_app', 'source': 'knowledge-base\\\\terraform_modules\\\\azurerm_windows_function_app\\\\README.md'}, {'doc_type': 'azurerm_windows_function_app', 'source': 'knowledge-base\\\\terraform_modules\\\\azurerm_windows_function_app\\\\README.md'}, {'doc_type': 'azurerm_windows_function_app', 'source': 'knowledge-base\\\\terraform_modules\\\\azurerm_windows_function_app\\\\README.md'}, {'source': 'knowledge-base\\\\terraform_modules\\\\azurerm_windows_function_app\\\\README.md', 'doc_type': 'azurerm_windows_function_app'}, {'doc_type': 'azurerm_windows_function_app', 'source': 'knowledge-base\\\\terraform_modules\\\\azurerm_windows_function_app\\\\README.md'}, {'doc_type': 'azurerm_windows_function_app', 'source': 'knowledge-base\\\\terraform_modules\\\\azurerm_windows_function_app\\\\README.md'}, {'source': 'knowledge-base\\\\terraform_modules\\\\azurerm_windows_function_app\\\\README.md', 'doc_type': 'azurerm_windows_function_app'}, {'doc_type': 'azurerm_windows_function_app', 'source': 'knowledge-base\\\\terraform_modules\\\\azurerm_windows_function_app\\\\README.md'}, {'source': 'knowledge-base\\\\terraform_modules\\\\azurerm_windows_function_app\\\\README.md', 'doc_type': 'azurerm_windows_function_app'}, {'source': 'knowledge-base\\\\terraform_modules\\\\azurerm_windows_function_app\\\\README.md', 'doc_type': 'azurerm_windows_function_app'}, {'doc_type': 'azurerm_windows_function_app', 'source': 'knowledge-base\\\\terraform_modules\\\\azurerm_windows_function_app\\\\README.md'}, {'source': 'knowledge-base\\\\terraform_modules\\\\azurerm_windows_function_app\\\\README.md', 'doc_type': 'azurerm_windows_function_app'}, {'source': 'knowledge-base\\\\terraform_modules\\\\azurerm_windows_function_app\\\\README.md', 'doc_type': 'azurerm_windows_function_app'}, {'source': 'knowledge-base\\\\terraform_modules\\\\azurerm_windows_function_app\\\\README.md', 'doc_type': 'azurerm_windows_function_app'}, {'doc_type': 'azurerm_windows_function_app', 'source': 'knowledge-base\\\\terraform_modules\\\\azurerm_windows_function_app\\\\README.md'}, {'source': 'knowledge-base\\\\terraform_modules\\\\azurerm_windows_function_app\\\\RELEASES.md', 'doc_type': 'azurerm_windows_function_app'}, {'doc_type': 'azurerm_windows_function_app', 'source': 'knowledge-base\\\\terraform_modules\\\\azurerm_windows_function_app\\\\Tests\\\\README.md'}, {'doc_type': 'azurerm_windows_function_app', 'source': 'knowledge-base\\\\terraform_modules\\\\azurerm_windows_function_app\\\\Tests\\\\README.md'}, {'source': 'knowledge-base\\\\terraform_modules\\\\azurerm_windows_function_app\\\\Tests\\\\README.md', 'doc_type': 'azurerm_windows_function_app'}, {'doc_type': 'azurerm_windows_function_app', 'source': 'knowledge-base\\\\terraform_modules\\\\azurerm_windows_function_app\\\\Tests\\\\README.md'}, {'doc_type': 'azurerm_windows_virtual_machine', 'source': 'knowledge-base\\\\terraform_modules\\\\azurerm_windows_virtual_machine\\\\README.md'}, {'source': 'knowledge-base\\\\terraform_modules\\\\azurerm_windows_virtual_machine\\\\README.md', 'doc_type': 'azurerm_windows_virtual_machine'}, {'doc_type': 'azurerm_windows_virtual_machine', 'source': 'knowledge-base\\\\terraform_modules\\\\azurerm_windows_virtual_machine\\\\README.md'}, {'source': 'knowledge-base\\\\terraform_modules\\\\azurerm_windows_virtual_machine\\\\README.md', 'doc_type': 'azurerm_windows_virtual_machine'}, {'source': 'knowledge-base\\\\terraform_modules\\\\azurerm_windows_virtual_machine\\\\README.md', 'doc_type': 'azurerm_windows_virtual_machine'}, {'source': 'knowledge-base\\\\terraform_modules\\\\azurerm_windows_virtual_machine\\\\README.md', 'doc_type': 'azurerm_windows_virtual_machine'}, {'source': 'knowledge-base\\\\terraform_modules\\\\azurerm_windows_virtual_machine\\\\README.md', 'doc_type': 'azurerm_windows_virtual_machine'}, {'doc_type': 'azurerm_windows_virtual_machine', 'source': 'knowledge-base\\\\terraform_modules\\\\azurerm_windows_virtual_machine\\\\README.md'}, {'doc_type': 'azurerm_windows_virtual_machine', 'source': 'knowledge-base\\\\terraform_modules\\\\azurerm_windows_virtual_machine\\\\README.md'}, {'source': 'knowledge-base\\\\terraform_modules\\\\azurerm_windows_virtual_machine\\\\README.md', 'doc_type': 'azurerm_windows_virtual_machine'}, {'doc_type': 'azurerm_windows_virtual_machine', 'source': 'knowledge-base\\\\terraform_modules\\\\azurerm_windows_virtual_machine\\\\README.md'}, {'source': 'knowledge-base\\\\terraform_modules\\\\azurerm_windows_virtual_machine\\\\README.md', 'doc_type': 'azurerm_windows_virtual_machine'}, {'doc_type': 'azurerm_windows_virtual_machine', 'source': 'knowledge-base\\\\terraform_modules\\\\azurerm_windows_virtual_machine\\\\README.md'}, {'source': 'knowledge-base\\\\terraform_modules\\\\azurerm_windows_virtual_machine\\\\README.md', 'doc_type': 'azurerm_windows_virtual_machine'}, {'source': 'knowledge-base\\\\terraform_modules\\\\azurerm_windows_virtual_machine\\\\README.md', 'doc_type': 'azurerm_windows_virtual_machine'}, {'doc_type': 'azurerm_windows_virtual_machine', 'source': 'knowledge-base\\\\terraform_modules\\\\azurerm_windows_virtual_machine\\\\README.md'}, {'source': 'knowledge-base\\\\terraform_modules\\\\azurerm_windows_virtual_machine\\\\README.md', 'doc_type': 'azurerm_windows_virtual_machine'}, {'doc_type': 'azurerm_windows_virtual_machine', 'source': 'knowledge-base\\\\terraform_modules\\\\azurerm_windows_virtual_machine\\\\README.md'}, {'doc_type': 'azurerm_windows_virtual_machine', 'source': 'knowledge-base\\\\terraform_modules\\\\azurerm_windows_virtual_machine\\\\README.md'}, {'doc_type': 'azurerm_windows_virtual_machine', 'source': 'knowledge-base\\\\terraform_modules\\\\azurerm_windows_virtual_machine\\\\README.md'}, {'source': 'knowledge-base\\\\terraform_modules\\\\azurerm_windows_virtual_machine\\\\README.md', 'doc_type': 'azurerm_windows_virtual_machine'}, {'doc_type': 'azurerm_windows_virtual_machine', 'source': 'knowledge-base\\\\terraform_modules\\\\azurerm_windows_virtual_machine\\\\README.md'}, {'doc_type': 'azurerm_windows_virtual_machine', 'source': 'knowledge-base\\\\terraform_modules\\\\azurerm_windows_virtual_machine\\\\README.md'}, {'doc_type': 'azurerm_windows_virtual_machine', 'source': 'knowledge-base\\\\terraform_modules\\\\azurerm_windows_virtual_machine\\\\RELEASES.md'}, {'source': 'knowledge-base\\\\terraform_modules\\\\azurerm_windows_virtual_machine\\\\RELEASES.md', 'doc_type': 'azurerm_windows_virtual_machine'}, {'source': 'knowledge-base\\\\terraform_modules\\\\azurerm_windows_virtual_machine\\\\RELEASES.md', 'doc_type': 'azurerm_windows_virtual_machine'}, {'doc_type': 'azurerm_windows_virtual_machine', 'source': 'knowledge-base\\\\terraform_modules\\\\azurerm_windows_virtual_machine\\\\RELEASES.md'}, {'source': 'knowledge-base\\\\terraform_modules\\\\azurerm_windows_virtual_machine\\\\RELEASES.md', 'doc_type': 'azurerm_windows_virtual_machine'}, {'doc_type': 'azurerm_windows_virtual_machine', 'source': 'knowledge-base\\\\terraform_modules\\\\azurerm_windows_virtual_machine\\\\Tests\\\\README.md'}, {'source': 'knowledge-base\\\\terraform_modules\\\\azurerm_windows_virtual_machine\\\\Tests\\\\README.md', 'doc_type': 'azurerm_windows_virtual_machine'}, {'source': 'knowledge-base\\\\terraform_modules\\\\azurerm_windows_virtual_machine\\\\Tests\\\\README.md', 'doc_type': 'azurerm_windows_virtual_machine'}, {'source': 'knowledge-base\\\\terraform_modules\\\\azurerm_windows_virtual_machine\\\\Tests\\\\README.md', 'doc_type': 'azurerm_windows_virtual_machine'}, {'doc_type': 'azurerm_windows_virtual_machine_scale_set', 'source': 'knowledge-base\\\\terraform_modules\\\\azurerm_windows_virtual_machine_scale_set\\\\README.md'}, {'doc_type': 'azurerm_windows_virtual_machine_scale_set', 'source': 'knowledge-base\\\\terraform_modules\\\\azurerm_windows_virtual_machine_scale_set\\\\README.md'}, {'source': 'knowledge-base\\\\terraform_modules\\\\azurerm_windows_virtual_machine_scale_set\\\\README.md', 'doc_type': 'azurerm_windows_virtual_machine_scale_set'}, {'source': 'knowledge-base\\\\terraform_modules\\\\azurerm_windows_virtual_machine_scale_set\\\\README.md', 'doc_type': 'azurerm_windows_virtual_machine_scale_set'}, {'source': 'knowledge-base\\\\terraform_modules\\\\azurerm_windows_virtual_machine_scale_set\\\\README.md', 'doc_type': 'azurerm_windows_virtual_machine_scale_set'}, {'doc_type': 'azurerm_windows_virtual_machine_scale_set', 'source': 'knowledge-base\\\\terraform_modules\\\\azurerm_windows_virtual_machine_scale_set\\\\README.md'}, {'source': 'knowledge-base\\\\terraform_modules\\\\azurerm_windows_virtual_machine_scale_set\\\\RELEASES.md', 'doc_type': 'azurerm_windows_virtual_machine_scale_set'}, {'doc_type': 'azurerm_windows_virtual_machine_scale_set', 'source': 'knowledge-base\\\\terraform_modules\\\\azurerm_windows_virtual_machine_scale_set\\\\Tests\\\\README.md'}, {'doc_type': 'azurerm_windows_web_app', 'source': 'knowledge-base\\\\terraform_modules\\\\azurerm_windows_web_app\\\\README.md'}, {'source': 'knowledge-base\\\\terraform_modules\\\\azurerm_windows_web_app\\\\README.md', 'doc_type': 'azurerm_windows_web_app'}, {'doc_type': 'azurerm_windows_web_app', 'source': 'knowledge-base\\\\terraform_modules\\\\azurerm_windows_web_app\\\\README.md'}, {'source': 'knowledge-base\\\\terraform_modules\\\\azurerm_windows_web_app\\\\README.md', 'doc_type': 'azurerm_windows_web_app'}, {'doc_type': 'azurerm_windows_web_app', 'source': 'knowledge-base\\\\terraform_modules\\\\azurerm_windows_web_app\\\\README.md'}, {'doc_type': 'azurerm_windows_web_app', 'source': 'knowledge-base\\\\terraform_modules\\\\azurerm_windows_web_app\\\\README.md'}, {'source': 'knowledge-base\\\\terraform_modules\\\\azurerm_windows_web_app\\\\README.md', 'doc_type': 'azurerm_windows_web_app'}, {'source': 'knowledge-base\\\\terraform_modules\\\\azurerm_windows_web_app\\\\README.md', 'doc_type': 'azurerm_windows_web_app'}, {'source': 'knowledge-base\\\\terraform_modules\\\\azurerm_windows_web_app\\\\README.md', 'doc_type': 'azurerm_windows_web_app'}, {'doc_type': 'azurerm_windows_web_app', 'source': 'knowledge-base\\\\terraform_modules\\\\azurerm_windows_web_app\\\\README.md'}, {'source': 'knowledge-base\\\\terraform_modules\\\\azurerm_windows_web_app\\\\README.md', 'doc_type': 'azurerm_windows_web_app'}, {'source': 'knowledge-base\\\\terraform_modules\\\\azurerm_windows_web_app\\\\README.md', 'doc_type': 'azurerm_windows_web_app'}, {'source': 'knowledge-base\\\\terraform_modules\\\\azurerm_windows_web_app\\\\README.md', 'doc_type': 'azurerm_windows_web_app'}, {'doc_type': 'azurerm_windows_web_app', 'source': 'knowledge-base\\\\terraform_modules\\\\azurerm_windows_web_app\\\\README.md'}, {'doc_type': 'azurerm_windows_web_app', 'source': 'knowledge-base\\\\terraform_modules\\\\azurerm_windows_web_app\\\\README.md'}, {'doc_type': 'azurerm_windows_web_app', 'source': 'knowledge-base\\\\terraform_modules\\\\azurerm_windows_web_app\\\\README.md'}, {'doc_type': 'azurerm_windows_web_app', 'source': 'knowledge-base\\\\terraform_modules\\\\azurerm_windows_web_app\\\\README.md'}, {'source': 'knowledge-base\\\\terraform_modules\\\\azurerm_windows_web_app\\\\README.md', 'doc_type': 'azurerm_windows_web_app'}, {'source': 'knowledge-base\\\\terraform_modules\\\\azurerm_windows_web_app\\\\README.md', 'doc_type': 'azurerm_windows_web_app'}, {'doc_type': 'azurerm_windows_web_app', 'source': 'knowledge-base\\\\terraform_modules\\\\azurerm_windows_web_app\\\\README.md'}, {'source': 'knowledge-base\\\\terraform_modules\\\\azurerm_windows_web_app\\\\README.md', 'doc_type': 'azurerm_windows_web_app'}, {'source': 'knowledge-base\\\\terraform_modules\\\\azurerm_windows_web_app\\\\README.md', 'doc_type': 'azurerm_windows_web_app'}, {'doc_type': 'azurerm_windows_web_app', 'source': 'knowledge-base\\\\terraform_modules\\\\azurerm_windows_web_app\\\\README.md'}, {'doc_type': 'azurerm_windows_web_app', 'source': 'knowledge-base\\\\terraform_modules\\\\azurerm_windows_web_app\\\\README.md'}, {'source': 'knowledge-base\\\\terraform_modules\\\\azurerm_windows_web_app\\\\README.md', 'doc_type': 'azurerm_windows_web_app'}, {'source': 'knowledge-base\\\\terraform_modules\\\\azurerm_windows_web_app\\\\README.md', 'doc_type': 'azurerm_windows_web_app'}, {'source': 'knowledge-base\\\\terraform_modules\\\\azurerm_windows_web_app\\\\README.md', 'doc_type': 'azurerm_windows_web_app'}, {'doc_type': 'azurerm_windows_web_app', 'source': 'knowledge-base\\\\terraform_modules\\\\azurerm_windows_web_app\\\\README.md'}, {'source': 'knowledge-base\\\\terraform_modules\\\\azurerm_windows_web_app\\\\README.md', 'doc_type': 'azurerm_windows_web_app'}, {'doc_type': 'azurerm_windows_web_app', 'source': 'knowledge-base\\\\terraform_modules\\\\azurerm_windows_web_app\\\\README.md'}, {'doc_type': 'azurerm_windows_web_app', 'source': 'knowledge-base\\\\terraform_modules\\\\azurerm_windows_web_app\\\\README.md'}, {'source': 'knowledge-base\\\\terraform_modules\\\\azurerm_windows_web_app\\\\README.md', 'doc_type': 'azurerm_windows_web_app'}, {'source': 'knowledge-base\\\\terraform_modules\\\\azurerm_windows_web_app\\\\README.md', 'doc_type': 'azurerm_windows_web_app'}, {'doc_type': 'azurerm_windows_web_app', 'source': 'knowledge-base\\\\terraform_modules\\\\azurerm_windows_web_app\\\\README.md'}, {'doc_type': 'azurerm_windows_web_app', 'source': 'knowledge-base\\\\terraform_modules\\\\azurerm_windows_web_app\\\\README.md'}, {'source': 'knowledge-base\\\\terraform_modules\\\\azurerm_windows_web_app\\\\README.md', 'doc_type': 'azurerm_windows_web_app'}, {'source': 'knowledge-base\\\\terraform_modules\\\\azurerm_windows_web_app\\\\README.md', 'doc_type': 'azurerm_windows_web_app'}, {'doc_type': 'azurerm_windows_web_app', 'source': 'knowledge-base\\\\terraform_modules\\\\azurerm_windows_web_app\\\\README.md'}, {'source': 'knowledge-base\\\\terraform_modules\\\\azurerm_windows_web_app\\\\README.md', 'doc_type': 'azurerm_windows_web_app'}, {'source': 'knowledge-base\\\\terraform_modules\\\\azurerm_windows_web_app\\\\README.md', 'doc_type': 'azurerm_windows_web_app'}, {'doc_type': 'azurerm_windows_web_app', 'source': 'knowledge-base\\\\terraform_modules\\\\azurerm_windows_web_app\\\\README.md'}, {'doc_type': 'azurerm_windows_web_app', 'source': 'knowledge-base\\\\terraform_modules\\\\azurerm_windows_web_app\\\\README.md'}, {'doc_type': 'azurerm_windows_web_app', 'source': 'knowledge-base\\\\terraform_modules\\\\azurerm_windows_web_app\\\\README.md'}, {'source': 'knowledge-base\\\\terraform_modules\\\\azurerm_windows_web_app\\\\README.md', 'doc_type': 'azurerm_windows_web_app'}, {'doc_type': 'azurerm_windows_web_app', 'source': 'knowledge-base\\\\terraform_modules\\\\azurerm_windows_web_app\\\\README.md'}, {'doc_type': 'azurerm_windows_web_app', 'source': 'knowledge-base\\\\terraform_modules\\\\azurerm_windows_web_app\\\\README.md'}, {'source': 'knowledge-base\\\\terraform_modules\\\\azurerm_windows_web_app\\\\README.md', 'doc_type': 'azurerm_windows_web_app'}, {'doc_type': 'azurerm_windows_web_app', 'source': 'knowledge-base\\\\terraform_modules\\\\azurerm_windows_web_app\\\\README.md'}, {'source': 'knowledge-base\\\\terraform_modules\\\\azurerm_windows_web_app\\\\RELEASES.md', 'doc_type': 'azurerm_windows_web_app'}, {'doc_type': 'azurerm_windows_web_app', 'source': 'knowledge-base\\\\terraform_modules\\\\azurerm_windows_web_app\\\\RELEASES.md'}, {'doc_type': 'azurerm_windows_web_app', 'source': 'knowledge-base\\\\terraform_modules\\\\azurerm_windows_web_app\\\\RELEASES.md'}, {'doc_type': 'azurerm_windows_web_app', 'source': 'knowledge-base\\\\terraform_modules\\\\azurerm_windows_web_app\\\\RELEASES.md'}, {'source': 'knowledge-base\\\\terraform_modules\\\\azurerm_windows_web_app\\\\RELEASES.md', 'doc_type': 'azurerm_windows_web_app'}, {'source': 'knowledge-base\\\\terraform_modules\\\\azurerm_windows_web_app\\\\RELEASES.md', 'doc_type': 'azurerm_windows_web_app'}, {'doc_type': 'azurerm_windows_web_app', 'source': 'knowledge-base\\\\terraform_modules\\\\azurerm_windows_web_app\\\\Tests\\\\README.md'}, {'source': 'knowledge-base\\\\terraform_modules\\\\azurerm_windows_web_app\\\\Tests\\\\README.md', 'doc_type': 'azurerm_windows_web_app'}, {'doc_type': 'azurerm_windows_web_app', 'source': 'knowledge-base\\\\terraform_modules\\\\azurerm_windows_web_app\\\\Tests\\\\README.md'}, {'source': 'knowledge-base\\\\terraform_modules\\\\azurerm_windows_web_app\\\\Tests\\\\README.md', 'doc_type': 'azurerm_windows_web_app'}, {'doc_type': 'terraform_yaml_pipeline_templates', 'source': 'knowledge-base\\\\terraform_modules\\\\terraform_yaml_pipeline_templates\\\\README.md'}, {'doc_type': 'terraform_yaml_pipeline_templates', 'source': 'knowledge-base\\\\terraform_modules\\\\terraform_yaml_pipeline_templates\\\\README.md'}, {'source': 'knowledge-base\\\\terraform_modules\\\\terraform_yaml_pipeline_templates\\\\README.md', 'doc_type': 'terraform_yaml_pipeline_templates'}, {'doc_type': 'terraform_yaml_pipeline_templates', 'source': 'knowledge-base\\\\terraform_modules\\\\terraform_yaml_pipeline_templates\\\\README.md'}, {'doc_type': 'terraform_yaml_pipeline_templates', 'source': 'knowledge-base\\\\terraform_modules\\\\terraform_yaml_pipeline_templates\\\\README.md'}, {'doc_type': 'terraform_yaml_pipeline_templates', 'source': 'knowledge-base\\\\terraform_modules\\\\terraform_yaml_pipeline_templates\\\\README.md'}, {'source': 'knowledge-base\\\\terraform_modules\\\\terraform_yaml_pipeline_templates\\\\README.md', 'doc_type': 'terraform_yaml_pipeline_templates'}, {'doc_type': 'terraform_yaml_pipeline_templates', 'source': 'knowledge-base\\\\terraform_modules\\\\terraform_yaml_pipeline_templates\\\\README.md'}, {'doc_type': 'terraform_yaml_pipeline_templates', 'source': 'knowledge-base\\\\terraform_modules\\\\terraform_yaml_pipeline_templates\\\\README.md'}, {'doc_type': 'terraform_yaml_pipeline_templates', 'source': 'knowledge-base\\\\terraform_modules\\\\terraform_yaml_pipeline_templates\\\\README.md'}, {'source': 'knowledge-base\\\\terraform_modules\\\\terraform_yaml_pipeline_templates\\\\README.md', 'doc_type': 'terraform_yaml_pipeline_templates'}, {'doc_type': 'terraform_yaml_pipeline_templates', 'source': 'knowledge-base\\\\terraform_modules\\\\terraform_yaml_pipeline_templates\\\\README.md'}, {'source': 'knowledge-base\\\\terraform_modules\\\\terraform_yaml_pipeline_templates\\\\README.md', 'doc_type': 'terraform_yaml_pipeline_templates'}, {'doc_type': 'terraform_yaml_pipeline_templates', 'source': 'knowledge-base\\\\terraform_modules\\\\terraform_yaml_pipeline_templates\\\\README.md'}, {'source': 'knowledge-base\\\\terraform_modules\\\\terraform_yaml_pipeline_templates\\\\README.md', 'doc_type': 'terraform_yaml_pipeline_templates'}, {'source': 'knowledge-base\\\\terraform_modules\\\\terraform_yaml_pipeline_templates\\\\README.md', 'doc_type': 'terraform_yaml_pipeline_templates'}, {'source': 'knowledge-base\\\\terraform_modules\\\\terraform_yaml_pipeline_templates\\\\README.md', 'doc_type': 'terraform_yaml_pipeline_templates'}, {'doc_type': 'terraform_yaml_pipeline_templates', 'source': 'knowledge-base\\\\terraform_modules\\\\terraform_yaml_pipeline_templates\\\\README.md'}, {'doc_type': 'terraform_yaml_pipeline_templates', 'source': 'knowledge-base\\\\terraform_modules\\\\terraform_yaml_pipeline_templates\\\\README.md'}, {'source': 'knowledge-base\\\\terraform_modules\\\\terraform_yaml_pipeline_templates\\\\README.md', 'doc_type': 'terraform_yaml_pipeline_templates'}, {'source': 'knowledge-base\\\\terraform_modules\\\\terraform_yaml_pipeline_templates\\\\README.md', 'doc_type': 'terraform_yaml_pipeline_templates'}, {'source': 'knowledge-base\\\\terraform_modules\\\\terraform_yaml_pipeline_templates\\\\README.md', 'doc_type': 'terraform_yaml_pipeline_templates'}, {'doc_type': 'terraform_yaml_pipeline_templates', 'source': 'knowledge-base\\\\terraform_modules\\\\terraform_yaml_pipeline_templates\\\\README.md'}, {'source': 'knowledge-base\\\\terraform_modules\\\\terraform_yaml_pipeline_templates\\\\README.md', 'doc_type': 'terraform_yaml_pipeline_templates'}, {'doc_type': 'terraform_yaml_pipeline_templates', 'source': 'knowledge-base\\\\terraform_modules\\\\terraform_yaml_pipeline_templates\\\\README.md'}, {'doc_type': 'terraform_yaml_pipeline_templates', 'source': 'knowledge-base\\\\terraform_modules\\\\terraform_yaml_pipeline_templates\\\\README.md'}, {'source': 'knowledge-base\\\\terraform_modules\\\\terraform_yaml_pipeline_templates\\\\README.md', 'doc_type': 'terraform_yaml_pipeline_templates'}, {'source': 'knowledge-base\\\\terraform_modules\\\\terraform_yaml_pipeline_templates\\\\README.md', 'doc_type': 'terraform_yaml_pipeline_templates'}, {'source': 'knowledge-base\\\\terraform_modules\\\\terraform_yaml_pipeline_templates\\\\README.md', 'doc_type': 'terraform_yaml_pipeline_templates'}, {'source': 'knowledge-base\\\\terraform_modules\\\\terraform_yaml_pipeline_templates\\\\README.md', 'doc_type': 'terraform_yaml_pipeline_templates'}, {'doc_type': 'terraform_yaml_pipeline_templates', 'source': 'knowledge-base\\\\terraform_modules\\\\terraform_yaml_pipeline_templates\\\\README.md'}, {'source': 'knowledge-base\\\\terraform_modules\\\\terraform_yaml_pipeline_templates\\\\README.md', 'doc_type': 'terraform_yaml_pipeline_templates'}, {'doc_type': 'TIM-INFRA-MODULES-WIKI.wiki', 'source': 'knowledge-base\\\\terraform_modules\\\\TIM-INFRA-MODULES-WIKI.wiki\\\\TIM-INFRA-MODULES.md'}, {'source': 'knowledge-base\\\\terraform_modules\\\\TIM-INFRA-MODULES-WIKI.wiki\\\\TIM-INFRA-MODULES.md', 'doc_type': 'TIM-INFRA-MODULES-WIKI.wiki'}, {'doc_type': 'TIM-INFRA-MODULES-WIKI.wiki', 'source': 'knowledge-base\\\\terraform_modules\\\\TIM-INFRA-MODULES-WIKI.wiki\\\\TIM-INFRA-MODULES.md'}, {'doc_type': 'TIM-INFRA-MODULES-WIKI.wiki', 'source': 'knowledge-base\\\\terraform_modules\\\\TIM-INFRA-MODULES-WIKI.wiki\\\\TIM-INFRA-MODULES.md'}, {'source': 'knowledge-base\\\\terraform_modules\\\\TIM-INFRA-MODULES-WIKI.wiki\\\\TIM-INFRA-MODULES.md', 'doc_type': 'TIM-INFRA-MODULES-WIKI.wiki'}, {'source': 'knowledge-base\\\\terraform_modules\\\\TIM-INFRA-MODULES-WIKI.wiki\\\\TIM-INFRA-MODULES.md', 'doc_type': 'TIM-INFRA-MODULES-WIKI.wiki'}, {'doc_type': 'TIM-INFRA-MODULES-WIKI.wiki', 'source': 'knowledge-base\\\\terraform_modules\\\\TIM-INFRA-MODULES-WIKI.wiki\\\\Axso-Terraform-Modules\\\\AXSO.CONCEPTS.md'}, {'source': 'knowledge-base\\\\terraform_modules\\\\TIM-INFRA-MODULES-WIKI.wiki\\\\Axso-Terraform-Modules\\\\GETTING.STARTED.md', 'doc_type': 'TIM-INFRA-MODULES-WIKI.wiki'}, {'doc_type': 'TIM-INFRA-MODULES-WIKI.wiki', 'source': 'knowledge-base\\\\terraform_modules\\\\TIM-INFRA-MODULES-WIKI.wiki\\\\Axso-Terraform-Modules\\\\GETTING.STARTED.md'}, {'source': 'knowledge-base\\\\terraform_modules\\\\TIM-INFRA-MODULES-WIKI.wiki\\\\Axso-Terraform-Modules\\\\GETTING.STARTED.md', 'doc_type': 'TIM-INFRA-MODULES-WIKI.wiki'}, {'doc_type': 'TIM-INFRA-MODULES-WIKI.wiki', 'source': 'knowledge-base\\\\terraform_modules\\\\TIM-INFRA-MODULES-WIKI.wiki\\\\Axso-Terraform-Modules\\\\GETTING.STARTED.md'}, {'source': 'knowledge-base\\\\terraform_modules\\\\TIM-INFRA-MODULES-WIKI.wiki\\\\Axso-Terraform-Modules\\\\HOW.TO.md', 'doc_type': 'TIM-INFRA-MODULES-WIKI.wiki'}, {'source': 'knowledge-base\\\\terraform_modules\\\\TIM-INFRA-MODULES-WIKI.wiki\\\\Axso-Terraform-Modules\\\\HOW.TO.md', 'doc_type': 'TIM-INFRA-MODULES-WIKI.wiki'}, {'doc_type': 'TIM-INFRA-MODULES-WIKI.wiki', 'source': 'knowledge-base\\\\terraform_modules\\\\TIM-INFRA-MODULES-WIKI.wiki\\\\Axso-Terraform-Modules\\\\HOW.TO.md'}, {'source': 'knowledge-base\\\\terraform_modules\\\\TIM-INFRA-MODULES-WIKI.wiki\\\\Axso-Terraform-Modules\\\\PRODUCTION.BLUEPRINTS.md', 'doc_type': 'TIM-INFRA-MODULES-WIKI.wiki'}, {'doc_type': 'TIM-INFRA-MODULES-WIKI.wiki', 'source': 'knowledge-base\\\\terraform_modules\\\\TIM-INFRA-MODULES-WIKI.wiki\\\\Axso-Terraform-Modules\\\\PRODUCTION.BLUEPRINTS.md'}, {'doc_type': 'TIM-INFRA-MODULES-WIKI.wiki', 'source': 'knowledge-base\\\\terraform_modules\\\\TIM-INFRA-MODULES-WIKI.wiki\\\\Axso-Terraform-Modules\\\\PRODUCTION.SERVICES.md'}, {'doc_type': 'TIM-INFRA-MODULES-WIKI.wiki', 'source': 'knowledge-base\\\\terraform_modules\\\\TIM-INFRA-MODULES-WIKI.wiki\\\\Axso-Terraform-Modules\\\\PRODUCTION.SERVICES.md'}, {'doc_type': 'TIM-INFRA-MODULES-WIKI.wiki', 'source': 'knowledge-base\\\\terraform_modules\\\\TIM-INFRA-MODULES-WIKI.wiki\\\\Axso-Terraform-Modules\\\\PRODUCTION.SERVICES.md'}, {'source': 'knowledge-base\\\\terraform_modules\\\\TIM-INFRA-MODULES-WIKI.wiki\\\\Axso-Terraform-Modules\\\\PRODUCTION.SERVICES.md', 'doc_type': 'TIM-INFRA-MODULES-WIKI.wiki'}, {'doc_type': 'TIM-INFRA-MODULES-WIKI.wiki', 'source': 'knowledge-base\\\\terraform_modules\\\\TIM-INFRA-MODULES-WIKI.wiki\\\\Axso-Terraform-Modules\\\\PRODUCTION.SERVICES.md'}, {'doc_type': 'TIM-INFRA-MODULES-WIKI.wiki', 'source': 'knowledge-base\\\\terraform_modules\\\\TIM-INFRA-MODULES-WIKI.wiki\\\\Axso-Terraform-Modules\\\\PRODUCTION.SERVICES.md'}, {'source': 'knowledge-base\\\\terraform_modules\\\\TIM-INFRA-MODULES-WIKI.wiki\\\\Axso-Terraform-Modules\\\\PRODUCTION.SERVICES.md', 'doc_type': 'TIM-INFRA-MODULES-WIKI.wiki'}, {'source': 'knowledge-base\\\\terraform_modules\\\\TIM-INFRA-MODULES-WIKI.wiki\\\\Axso-Terraform-Modules\\\\PRODUCTION.SERVICES.md', 'doc_type': 'TIM-INFRA-MODULES-WIKI.wiki'}, {'doc_type': 'TIM-INFRA-MODULES-WIKI.wiki', 'source': 'knowledge-base\\\\terraform_modules\\\\TIM-INFRA-MODULES-WIKI.wiki\\\\Axso-Terraform-Modules\\\\PRODUCTION.SERVICES.md'}, {'doc_type': 'TIM-INFRA-MODULES-WIKI.wiki', 'source': 'knowledge-base\\\\terraform_modules\\\\TIM-INFRA-MODULES-WIKI.wiki\\\\Axso-Terraform-Modules\\\\PRODUCTION.SERVICES.md'}, {'doc_type': 'TIM-INFRA-MODULES-WIKI.wiki', 'source': 'knowledge-base\\\\terraform_modules\\\\TIM-INFRA-MODULES-WIKI.wiki\\\\Axso-Terraform-Modules\\\\PRODUCTION.SERVICES.md'}, {'doc_type': 'TIM-INFRA-MODULES-WIKI.wiki', 'source': 'knowledge-base\\\\terraform_modules\\\\TIM-INFRA-MODULES-WIKI.wiki\\\\Axso-Terraform-Modules\\\\PRODUCTION.SERVICES.md'}, {'source': 'knowledge-base\\\\terraform_modules\\\\TIM-INFRA-MODULES-WIKI.wiki\\\\Axso-Terraform-Modules\\\\PRODUCTION.SERVICES.md', 'doc_type': 'TIM-INFRA-MODULES-WIKI.wiki'}, {'source': 'knowledge-base\\\\terraform_modules\\\\TIM-INFRA-MODULES-WIKI.wiki\\\\Axso-Terraform-Modules\\\\PRODUCTION.SERVICES.md', 'doc_type': 'TIM-INFRA-MODULES-WIKI.wiki'}, {'doc_type': 'TIM-INFRA-MODULES-WIKI.wiki', 'source': 'knowledge-base\\\\terraform_modules\\\\TIM-INFRA-MODULES-WIKI.wiki\\\\Axso-Terraform-Modules\\\\PRODUCTION.SERVICES.md'}, {'source': 'knowledge-base\\\\terraform_modules\\\\TIM-INFRA-MODULES-WIKI.wiki\\\\Axso-Terraform-Modules\\\\AXSO-CONCEPTS\\\\app.registration.md', 'doc_type': 'TIM-INFRA-MODULES-WIKI.wiki'}, {'source': 'knowledge-base\\\\terraform_modules\\\\TIM-INFRA-MODULES-WIKI.wiki\\\\Axso-Terraform-Modules\\\\AXSO-CONCEPTS\\\\app.registration.md', 'doc_type': 'TIM-INFRA-MODULES-WIKI.wiki'}, {'doc_type': 'TIM-INFRA-MODULES-WIKI.wiki', 'source': 'knowledge-base\\\\terraform_modules\\\\TIM-INFRA-MODULES-WIKI.wiki\\\\Axso-Terraform-Modules\\\\AXSO-CONCEPTS\\\\resource.tagging.md'}, {'source': 'knowledge-base\\\\terraform_modules\\\\TIM-INFRA-MODULES-WIKI.wiki\\\\Axso-Terraform-Modules\\\\AXSO-CONCEPTS\\\\resource.tagging.md', 'doc_type': 'TIM-INFRA-MODULES-WIKI.wiki'}, {'doc_type': 'TIM-INFRA-MODULES-WIKI.wiki', 'source': 'knowledge-base\\\\terraform_modules\\\\TIM-INFRA-MODULES-WIKI.wiki\\\\Axso-Terraform-Modules\\\\HOW-TO\\\\How-to-setup-your-terraform-pipeline.md'}, {'doc_type': 'TIM-INFRA-MODULES-WIKI.wiki', 'source': 'knowledge-base\\\\terraform_modules\\\\TIM-INFRA-MODULES-WIKI.wiki\\\\Axso-Terraform-Modules\\\\HOW-TO\\\\In-Place-Testing-Infrastructure-Data-Sources.md'}, {'doc_type': 'TIM-INFRA-MODULES-WIKI.wiki', 'source': 'knowledge-base\\\\terraform_modules\\\\TIM-INFRA-MODULES-WIKI.wiki\\\\Axso-Terraform-Modules\\\\HOW-TO\\\\In-Place-Testing-Infrastructure-Data-Sources.md'}, {'doc_type': 'TIM-INFRA-MODULES-WIKI.wiki', 'source': 'knowledge-base\\\\terraform_modules\\\\TIM-INFRA-MODULES-WIKI.wiki\\\\Axso-Terraform-Modules\\\\HOW-TO\\\\In-Place-Testing-Infrastructure-Data-Sources.md'}, {'doc_type': 'TIM-INFRA-MODULES-WIKI.wiki', 'source': 'knowledge-base\\\\terraform_modules\\\\TIM-INFRA-MODULES-WIKI.wiki\\\\Axso-Terraform-Modules\\\\HOW-TO\\\\In-Place-Testing-Infrastructure-Data-Sources.md'}, {'source': 'knowledge-base\\\\terraform_modules\\\\TIM-INFRA-MODULES-WIKI.wiki\\\\Axso-Terraform-Modules\\\\HOW-TO\\\\In-Place-Testing-Infrastructure-Data-Sources.md', 'doc_type': 'TIM-INFRA-MODULES-WIKI.wiki'}, {'source': 'knowledge-base\\\\terraform_modules\\\\TIM-INFRA-MODULES-WIKI.wiki\\\\Axso-Terraform-Modules\\\\HOW-TO\\\\In-Place-Testing-Infrastructure-Data-Sources.md', 'doc_type': 'TIM-INFRA-MODULES-WIKI.wiki'}, {'doc_type': 'TIM-INFRA-MODULES-WIKI.wiki', 'source': 'knowledge-base\\\\terraform_modules\\\\TIM-INFRA-MODULES-WIKI.wiki\\\\Axso-Terraform-Modules\\\\HOW-TO\\\\In-Place-Testing-Infrastructure-Data-Sources.md'}, {'source': 'knowledge-base\\\\terraform_modules\\\\TIM-INFRA-MODULES-WIKI.wiki\\\\Axso-Terraform-Modules\\\\HOW-TO\\\\In-Place-Testing-Infrastructure-Data-Sources.md', 'doc_type': 'TIM-INFRA-MODULES-WIKI.wiki'}, {'source': 'knowledge-base\\\\terraform_modules\\\\TIM-INFRA-MODULES-WIKI.wiki\\\\Axso-Terraform-Modules\\\\HOW-TO\\\\In-Place-Testing-Infrastructure-Data-Sources.md', 'doc_type': 'TIM-INFRA-MODULES-WIKI.wiki'}, {'doc_type': 'TIM-INFRA-MODULES-WIKI.wiki', 'source': 'knowledge-base\\\\terraform_modules\\\\TIM-INFRA-MODULES-WIKI.wiki\\\\Axso-Terraform-Modules\\\\HOW-TO\\\\In-Place-Testing-Infrastructure-Data-Sources.md'}, {'source': 'knowledge-base\\\\terraform_modules\\\\TIM-INFRA-MODULES-WIKI.wiki\\\\Axso-Terraform-Modules\\\\HOW-TO\\\\In-Place-Testing-Infrastructure-Data-Sources.md', 'doc_type': 'TIM-INFRA-MODULES-WIKI.wiki'}, {'doc_type': 'TIM-INFRA-MODULES-WIKI.wiki', 'source': 'knowledge-base\\\\terraform_modules\\\\TIM-INFRA-MODULES-WIKI.wiki\\\\Axso-Terraform-Modules\\\\HOW-TO\\\\In-Place-Testing-Infrastructure-Data-Sources.md'}, {'source': 'knowledge-base\\\\terraform_modules\\\\TIM-INFRA-MODULES-WIKI.wiki\\\\Axso-Terraform-Modules\\\\HOW-TO\\\\In-Place-Testing-Infrastructure-Data-Sources.md', 'doc_type': 'TIM-INFRA-MODULES-WIKI.wiki'}, {'doc_type': 'TIM-INFRA-MODULES-WIKI.wiki', 'source': 'knowledge-base\\\\terraform_modules\\\\TIM-INFRA-MODULES-WIKI.wiki\\\\Axso-Terraform-Modules\\\\HOW-TO\\\\Module-Versioning-Lifecycle.md'}, {'doc_type': 'TIM-INFRA-MODULES-WIKI.wiki', 'source': 'knowledge-base\\\\terraform_modules\\\\TIM-INFRA-MODULES-WIKI.wiki\\\\Axso-Terraform-Modules\\\\HOW-TO\\\\Module-Versioning-Lifecycle.md'}, {'doc_type': 'TIM-INFRA-MODULES-WIKI.wiki', 'source': 'knowledge-base\\\\terraform_modules\\\\TIM-INFRA-MODULES-WIKI.wiki\\\\Axso-Terraform-Modules\\\\HOW-TO\\\\Module-Versioning-Lifecycle.md'}, {'source': 'knowledge-base\\\\terraform_modules\\\\TIM-INFRA-MODULES-WIKI.wiki\\\\Axso-Terraform-Modules\\\\HOW-TO\\\\Module-Versioning-Lifecycle.md', 'doc_type': 'TIM-INFRA-MODULES-WIKI.wiki'}, {'doc_type': 'TIM-INFRA-MODULES-WIKI.wiki', 'source': 'knowledge-base\\\\terraform_modules\\\\TIM-INFRA-MODULES-WIKI.wiki\\\\Axso-Terraform-Modules\\\\HOW-TO\\\\Module-Versioning-Lifecycle.md'}, {'source': 'knowledge-base\\\\terraform_modules\\\\TIM-INFRA-MODULES-WIKI.wiki\\\\Axso-Terraform-Modules\\\\HOW-TO\\\\Module-Versioning-Lifecycle.md', 'doc_type': 'TIM-INFRA-MODULES-WIKI.wiki'}, {'doc_type': 'TIM-INFRA-MODULES-WIKI.wiki', 'source': 'knowledge-base\\\\terraform_modules\\\\TIM-INFRA-MODULES-WIKI.wiki\\\\Axso-Terraform-Modules\\\\HOW-TO\\\\Module-Versioning-Lifecycle.md'}, {'doc_type': 'TIM-INFRA-MODULES-WIKI.wiki', 'source': 'knowledge-base\\\\terraform_modules\\\\TIM-INFRA-MODULES-WIKI.wiki\\\\Axso-Terraform-Modules\\\\HOW-TO\\\\Module-Versioning-Lifecycle.md'}, {'source': 'knowledge-base\\\\terraform_modules\\\\TIM-INFRA-MODULES-WIKI.wiki\\\\Axso-Terraform-Modules\\\\HOW-TO\\\\Module-Versioning-Lifecycle.md', 'doc_type': 'TIM-INFRA-MODULES-WIKI.wiki'}, {'source': 'knowledge-base\\\\terraform_modules\\\\TIM-INFRA-MODULES-WIKI.wiki\\\\Axso-Terraform-Modules\\\\HOW-TO\\\\New-Service-Onboarding.md', 'doc_type': 'TIM-INFRA-MODULES-WIKI.wiki'}, {'doc_type': 'TIM-INFRA-MODULES-WIKI.wiki', 'source': 'knowledge-base\\\\terraform_modules\\\\TIM-INFRA-MODULES-WIKI.wiki\\\\Axso-Terraform-Modules\\\\HOW-TO\\\\New-Service-Onboarding.md'}, {'source': 'knowledge-base\\\\terraform_modules\\\\TIM-INFRA-MODULES-WIKI.wiki\\\\Axso-Terraform-Modules\\\\HOW-TO\\\\New-Service-Onboarding.md', 'doc_type': 'TIM-INFRA-MODULES-WIKI.wiki'}, {'source': 'knowledge-base\\\\terraform_modules\\\\TIM-INFRA-MODULES-WIKI.wiki\\\\Axso-Terraform-Modules\\\\HOW-TO\\\\Tflint-use-and-exclusions.md', 'doc_type': 'TIM-INFRA-MODULES-WIKI.wiki'}, {'source': 'knowledge-base\\\\terraform_modules\\\\TIM-INFRA-MODULES-WIKI.wiki\\\\Axso-Terraform-Modules\\\\HOW-TO\\\\Tflint-use-and-exclusions.md', 'doc_type': 'TIM-INFRA-MODULES-WIKI.wiki'}, {'source': 'knowledge-base\\\\terraform_modules\\\\TIM-INFRA-MODULES-WIKI.wiki\\\\Axso-Terraform-Modules\\\\HOW-TO\\\\Tflint-use-and-exclusions.md', 'doc_type': 'TIM-INFRA-MODULES-WIKI.wiki'}, {'source': 'knowledge-base\\\\terraform_modules\\\\TIM-INFRA-MODULES-WIKI.wiki\\\\Axso-Terraform-Modules\\\\HOW-TO\\\\Tflint-use-and-exclusions.md', 'doc_type': 'TIM-INFRA-MODULES-WIKI.wiki'}, {'doc_type': 'TIM-INFRA-MODULES-WIKI.wiki', 'source': 'knowledge-base\\\\terraform_modules\\\\TIM-INFRA-MODULES-WIKI.wiki\\\\Axso-Terraform-Modules\\\\HOW-TO\\\\Tflint-use-and-exclusions.md'}, {'doc_type': 'TIM-INFRA-MODULES-WIKI.wiki', 'source': 'knowledge-base\\\\terraform_modules\\\\TIM-INFRA-MODULES-WIKI.wiki\\\\Axso-Terraform-Modules\\\\HOW-TO\\\\Understanding-Count-and-ForEach-Loops-in-Terraform.md'}, {'source': 'knowledge-base\\\\terraform_modules\\\\TIM-INFRA-MODULES-WIKI.wiki\\\\Axso-Terraform-Modules\\\\HOW-TO\\\\Understanding-Count-and-ForEach-Loops-in-Terraform.md', 'doc_type': 'TIM-INFRA-MODULES-WIKI.wiki'}, {'source': 'knowledge-base\\\\terraform_modules\\\\TIM-INFRA-MODULES-WIKI.wiki\\\\Axso-Terraform-Modules\\\\HOW-TO\\\\Understanding-Count-and-ForEach-Loops-in-Terraform.md', 'doc_type': 'TIM-INFRA-MODULES-WIKI.wiki'}, {'doc_type': 'TIM-INFRA-MODULES-WIKI.wiki', 'source': 'knowledge-base\\\\terraform_modules\\\\TIM-INFRA-MODULES-WIKI.wiki\\\\Axso-Terraform-Modules\\\\HOW-TO\\\\Understanding-Count-and-ForEach-Loops-in-Terraform.md'}, {'doc_type': 'TIM-INFRA-MODULES-WIKI.wiki', 'source': 'knowledge-base\\\\terraform_modules\\\\TIM-INFRA-MODULES-WIKI.wiki\\\\Axso-Terraform-Modules\\\\HOW-TO\\\\Understanding-Count-and-ForEach-Loops-in-Terraform.md'}, {'doc_type': 'TIM-INFRA-MODULES-WIKI.wiki', 'source': 'knowledge-base\\\\terraform_modules\\\\TIM-INFRA-MODULES-WIKI.wiki\\\\Axso-Terraform-Modules\\\\HOW-TO\\\\Understanding-Count-and-ForEach-Loops-in-Terraform.md'}, {'doc_type': 'TIM-INFRA-MODULES-WIKI.wiki', 'source': 'knowledge-base\\\\terraform_modules\\\\TIM-INFRA-MODULES-WIKI.wiki\\\\Axso-Terraform-Modules\\\\HOW-TO\\\\Understanding-Count-and-ForEach-Loops-in-Terraform.md'}, {'source': 'knowledge-base\\\\terraform_modules\\\\TIM-INFRA-MODULES-WIKI.wiki\\\\Axso-Terraform-Modules\\\\HOW-TO\\\\Understanding-Count-and-ForEach-Loops-in-Terraform.md', 'doc_type': 'TIM-INFRA-MODULES-WIKI.wiki'}, {'doc_type': 'TIM-INFRA-MODULES-WIKI.wiki', 'source': 'knowledge-base\\\\terraform_modules\\\\TIM-INFRA-MODULES-WIKI.wiki\\\\Axso-Terraform-Modules\\\\HOW-TO\\\\Understanding-Count-and-ForEach-Loops-in-Terraform.md'}, {'doc_type': 'TIM-INFRA-MODULES-WIKI.wiki', 'source': 'knowledge-base\\\\terraform_modules\\\\TIM-INFRA-MODULES-WIKI.wiki\\\\Axso-Terraform-Modules\\\\HOW-TO\\\\Understanding-Count-and-ForEach-Loops-in-Terraform.md'}, {'source': 'knowledge-base\\\\terraform_modules\\\\TIM-INFRA-MODULES-WIKI.wiki\\\\Axso-Terraform-Modules\\\\HOW-TO\\\\Understanding-Count-and-ForEach-Loops-in-Terraform.md', 'doc_type': 'TIM-INFRA-MODULES-WIKI.wiki'}, {'doc_type': 'TIM-INFRA-MODULES-WIKI.wiki', 'source': 'knowledge-base\\\\terraform_modules\\\\TIM-INFRA-MODULES-WIKI.wiki\\\\Axso-Terraform-Modules\\\\HOW-TO\\\\Understanding-Count-and-ForEach-Loops-in-Terraform.md'}, {'source': 'knowledge-base\\\\terraform_modules\\\\TIM-INFRA-MODULES-WIKI.wiki\\\\Axso-Terraform-Modules\\\\HOW-TO\\\\Understanding-Count-and-ForEach-Loops-in-Terraform.md', 'doc_type': 'TIM-INFRA-MODULES-WIKI.wiki'}, {'source': 'knowledge-base\\\\terraform_modules\\\\TIM-INFRA-MODULES-WIKI.wiki\\\\Axso-Terraform-Modules\\\\HOW-TO\\\\Understanding-Count-and-ForEach-Loops-in-Terraform.md', 'doc_type': 'TIM-INFRA-MODULES-WIKI.wiki'}, {'doc_type': 'TIM-INFRA-MODULES-WIKI.wiki', 'source': 'knowledge-base\\\\terraform_modules\\\\TIM-INFRA-MODULES-WIKI.wiki\\\\Axso-Terraform-Modules\\\\HOW-TO\\\\Understanding-Count-and-ForEach-Loops-in-Terraform.md'}, {'doc_type': 'TIM-INFRA-MODULES-WIKI.wiki', 'source': 'knowledge-base\\\\terraform_modules\\\\TIM-INFRA-MODULES-WIKI.wiki\\\\Axso-Terraform-Modules\\\\HOW-TO\\\\Understanding-Count-and-ForEach-Loops-in-Terraform.md'}, {'doc_type': 'TIM-INFRA-MODULES-WIKI.wiki', 'source': 'knowledge-base\\\\terraform_modules\\\\TIM-INFRA-MODULES-WIKI.wiki\\\\Axso-Terraform-Modules\\\\HOW-TO\\\\Understanding-Count-and-ForEach-Loops-in-Terraform.md'}, {'source': 'knowledge-base\\\\terraform_modules\\\\TIM-INFRA-MODULES-WIKI.wiki\\\\Axso-Terraform-Modules\\\\HOW-TO\\\\Understanding-Implicit-and-Explicit-Dependencies-in-Terraform.md', 'doc_type': 'TIM-INFRA-MODULES-WIKI.wiki'}, {'source': 'knowledge-base\\\\terraform_modules\\\\TIM-INFRA-MODULES-WIKI.wiki\\\\Axso-Terraform-Modules\\\\HOW-TO\\\\Understanding-Implicit-and-Explicit-Dependencies-in-Terraform.md', 'doc_type': 'TIM-INFRA-MODULES-WIKI.wiki'}, {'source': 'knowledge-base\\\\terraform_modules\\\\TIM-INFRA-MODULES-WIKI.wiki\\\\Axso-Terraform-Modules\\\\HOW-TO\\\\Understanding-Implicit-and-Explicit-Dependencies-in-Terraform.md', 'doc_type': 'TIM-INFRA-MODULES-WIKI.wiki'}, {'doc_type': 'TIM-INFRA-MODULES-WIKI.wiki', 'source': 'knowledge-base\\\\terraform_modules\\\\TIM-INFRA-MODULES-WIKI.wiki\\\\Axso-Terraform-Modules\\\\HOW-TO\\\\Understanding-Implicit-and-Explicit-Dependencies-in-Terraform.md'}, {'source': 'knowledge-base\\\\terraform_modules\\\\TIM-INFRA-MODULES-WIKI.wiki\\\\Axso-Terraform-Modules\\\\HOW-TO\\\\Understanding-Implicit-and-Explicit-Dependencies-in-Terraform.md', 'doc_type': 'TIM-INFRA-MODULES-WIKI.wiki'}, {'doc_type': 'TIM-INFRA-MODULES-WIKI.wiki', 'source': 'knowledge-base\\\\terraform_modules\\\\TIM-INFRA-MODULES-WIKI.wiki\\\\Axso-Terraform-Modules\\\\HOW-TO\\\\Understanding-Implicit-and-Explicit-Dependencies-in-Terraform.md'}, {'source': 'knowledge-base\\\\terraform_modules\\\\TIM-INFRA-MODULES-WIKI.wiki\\\\Axso-Terraform-Modules\\\\HOW-TO\\\\Understanding-Implicit-and-Explicit-Dependencies-in-Terraform.md', 'doc_type': 'TIM-INFRA-MODULES-WIKI.wiki'}, {'doc_type': 'TIM-INFRA-MODULES-WIKI.wiki', 'source': 'knowledge-base\\\\terraform_modules\\\\TIM-INFRA-MODULES-WIKI.wiki\\\\Axso-Terraform-Modules\\\\HOW-TO\\\\Understanding-Implicit-and-Explicit-Dependencies-in-Terraform.md'}, {'source': 'knowledge-base\\\\terraform_modules\\\\TIM-INFRA-MODULES-WIKI.wiki\\\\Axso-Terraform-Modules\\\\HOW-TO\\\\Understanding-Implicit-and-Explicit-Dependencies-in-Terraform.md', 'doc_type': 'TIM-INFRA-MODULES-WIKI.wiki'}, {'source': 'knowledge-base\\\\terraform_modules\\\\TIM-INFRA-MODULES-WIKI.wiki\\\\Axso-Terraform-Modules\\\\HOW-TO\\\\Understanding-Implicit-and-Explicit-Dependencies-in-Terraform.md', 'doc_type': 'TIM-INFRA-MODULES-WIKI.wiki'}, {'doc_type': 'TIM-INFRA-MODULES-WIKI.wiki', 'source': 'knowledge-base\\\\terraform_modules\\\\TIM-INFRA-MODULES-WIKI.wiki\\\\Axso-Terraform-Modules\\\\HOW-TO\\\\Understanding-Implicit-and-Explicit-Dependencies-in-Terraform.md'}, {'doc_type': 'TIM-INFRA-MODULES-WIKI.wiki', 'source': 'knowledge-base\\\\terraform_modules\\\\TIM-INFRA-MODULES-WIKI.wiki\\\\Axso-Terraform-Modules\\\\HOW-TO\\\\Understanding-Implicit-and-Explicit-Dependencies-in-Terraform.md'}, {'doc_type': 'TIM-INFRA-MODULES-WIKI.wiki', 'source': 'knowledge-base\\\\terraform_modules\\\\TIM-INFRA-MODULES-WIKI.wiki\\\\Axso-Terraform-Modules\\\\HOW-TO\\\\Understanding-Implicit-and-Explicit-Dependencies-in-Terraform.md'}, {'doc_type': 'TIM-INFRA-MODULES-WIKI.wiki', 'source': 'knowledge-base\\\\terraform_modules\\\\TIM-INFRA-MODULES-WIKI.wiki\\\\Axso-Terraform-Modules\\\\HOW-TO\\\\Understanding-Implicit-and-Explicit-Dependencies-in-Terraform.md'}, {'doc_type': 'TIM-INFRA-MODULES-WIKI.wiki', 'source': 'knowledge-base\\\\terraform_modules\\\\TIM-INFRA-MODULES-WIKI.wiki\\\\Axso-Terraform-Modules\\\\HOW-TO\\\\Understanding-Implicit-and-Explicit-Dependencies-in-Terraform.md'}, {'source': 'knowledge-base\\\\terraform_modules\\\\TIM-INFRA-MODULES-WIKI.wiki\\\\Axso-Terraform-Modules\\\\HOW-TO\\\\Understanding-Implicit-and-Explicit-Dependencies-in-Terraform.md', 'doc_type': 'TIM-INFRA-MODULES-WIKI.wiki'}, {'doc_type': 'TIM-INFRA-MODULES-WIKI.wiki', 'source': 'knowledge-base\\\\terraform_modules\\\\TIM-INFRA-MODULES-WIKI.wiki\\\\Axso-Terraform-Modules\\\\HOW-TO\\\\Understanding-Implicit-and-Explicit-Dependencies-in-Terraform.md'}, {'source': 'knowledge-base\\\\terraform_modules\\\\TIM-INFRA-MODULES-WIKI.wiki\\\\Axso-Terraform-Modules\\\\OVERVIEW\\\\Devops-Organisation-Team-Structure.md', 'doc_type': 'TIM-INFRA-MODULES-WIKI.wiki'}, {'doc_type': 'TIM-INFRA-MODULES-WIKI.wiki', 'source': 'knowledge-base\\\\terraform_modules\\\\TIM-INFRA-MODULES-WIKI.wiki\\\\Axso-Terraform-Modules\\\\OVERVIEW\\\\low-code-no-code.md'}, {'source': 'knowledge-base\\\\terraform_modules\\\\TIM-INFRA-MODULES-WIKI.wiki\\\\Axso-Terraform-Modules\\\\OVERVIEW\\\\Mission-Statement.md', 'doc_type': 'TIM-INFRA-MODULES-WIKI.wiki'}, {'doc_type': 'TIM-INFRA-MODULES-WIKI.wiki', 'source': 'knowledge-base\\\\terraform_modules\\\\TIM-INFRA-MODULES-WIKI.wiki\\\\Axso-Terraform-Modules\\\\OVERVIEW\\\\Problem-Statement.md'}, {'source': 'knowledge-base\\\\terraform_modules\\\\TIM-INFRA-MODULES-WIKI.wiki\\\\Axso-Terraform-Modules\\\\OVERVIEW\\\\Problem-Statement.md', 'doc_type': 'TIM-INFRA-MODULES-WIKI.wiki'}, {'doc_type': 'TIM-INFRA-MODULES-WIKI.wiki', 'source': 'knowledge-base\\\\terraform_modules\\\\TIM-INFRA-MODULES-WIKI.wiki\\\\Axso-Terraform-Modules\\\\OVERVIEW\\\\Problem-Statement.md'}, {'doc_type': 'TIM-INFRA-MODULES-WIKI.wiki', 'source': 'knowledge-base\\\\terraform_modules\\\\TIM-INFRA-MODULES-WIKI.wiki\\\\Axso-Terraform-Modules\\\\OVERVIEW\\\\Problem-Statement.md'}, {'source': 'knowledge-base\\\\terraform_modules\\\\TIM-INFRA-MODULES-WIKI.wiki\\\\Axso-Terraform-Modules\\\\OVERVIEW\\\\Problem-Statement.md', 'doc_type': 'TIM-INFRA-MODULES-WIKI.wiki'}, {'source': 'knowledge-base\\\\terraform_modules\\\\TIM-INFRA-MODULES-WIKI.wiki\\\\Axso-Terraform-Modules\\\\OVERVIEW\\\\Problem-Statement.md', 'doc_type': 'TIM-INFRA-MODULES-WIKI.wiki'}, {'source': 'knowledge-base\\\\terraform_modules\\\\TIM-INFRA-MODULES-WIKI.wiki\\\\Axso-Terraform-Modules\\\\OVERVIEW\\\\Problem-Statement.md', 'doc_type': 'TIM-INFRA-MODULES-WIKI.wiki'}, {'doc_type': 'TIM-INFRA-MODULES-WIKI.wiki', 'source': 'knowledge-base\\\\terraform_modules\\\\TIM-INFRA-MODULES-WIKI.wiki\\\\Axso-Terraform-Modules\\\\OVERVIEW\\\\Problem-Statement.md'}, {'source': 'knowledge-base\\\\terraform_modules\\\\TIM-INFRA-MODULES-WIKI.wiki\\\\Axso-Terraform-Modules\\\\OVERVIEW\\\\Problem-Statement.md', 'doc_type': 'TIM-INFRA-MODULES-WIKI.wiki'}, {'source': 'knowledge-base\\\\terraform_modules\\\\TIM-INFRA-MODULES-WIKI.wiki\\\\Axso-Terraform-Modules\\\\OVERVIEW\\\\Problem-Statement.md', 'doc_type': 'TIM-INFRA-MODULES-WIKI.wiki'}, {'doc_type': 'TIM-INFRA-MODULES-WIKI.wiki', 'source': 'knowledge-base\\\\terraform_modules\\\\TIM-INFRA-MODULES-WIKI.wiki\\\\Axso-Terraform-Modules\\\\OVERVIEW\\\\Problem-Statement.md'}, {'doc_type': 'TIM-INFRA-MODULES-WIKI.wiki', 'source': 'knowledge-base\\\\terraform_modules\\\\TIM-INFRA-MODULES-WIKI.wiki\\\\Axso-Terraform-Modules\\\\OVERVIEW\\\\Problem-Statement.md'}, {'source': 'knowledge-base\\\\terraform_modules\\\\TIM-INFRA-MODULES-WIKI.wiki\\\\Axso-Terraform-Modules\\\\OVERVIEW\\\\Problem-Statement.md', 'doc_type': 'TIM-INFRA-MODULES-WIKI.wiki'}, {'source': 'knowledge-base\\\\terraform_modules\\\\TIM-INFRA-MODULES-WIKI.wiki\\\\Axso-Terraform-Modules\\\\OVERVIEW\\\\Problem-Statement.md', 'doc_type': 'TIM-INFRA-MODULES-WIKI.wiki'}, {'source': 'knowledge-base\\\\terraform_modules\\\\TIM-INFRA-MODULES-WIKI.wiki\\\\Axso-Terraform-Modules\\\\OVERVIEW\\\\Problem-Statement.md', 'doc_type': 'TIM-INFRA-MODULES-WIKI.wiki'}, {'source': 'knowledge-base\\\\terraform_modules\\\\TIM-INFRA-MODULES-WIKI.wiki\\\\Axso-Terraform-Modules\\\\OVERVIEW\\\\Problem-Statement.md', 'doc_type': 'TIM-INFRA-MODULES-WIKI.wiki'}, {'doc_type': 'TIM-INFRA-MODULES-WIKI.wiki', 'source': 'knowledge-base\\\\terraform_modules\\\\TIM-INFRA-MODULES-WIKI.wiki\\\\Axso-Terraform-Modules\\\\OVERVIEW\\\\Product-Roadmap.md'}, {'source': 'knowledge-base\\\\terraform_modules\\\\TIM-INFRA-MODULES-WIKI.wiki\\\\Axso-Terraform-Modules\\\\OVERVIEW\\\\Product-Roadmap.md', 'doc_type': 'TIM-INFRA-MODULES-WIKI.wiki'}, {'doc_type': 'TIM-INFRA-MODULES-WIKI.wiki', 'source': 'knowledge-base\\\\terraform_modules\\\\TIM-INFRA-MODULES-WIKI.wiki\\\\Axso-Terraform-Modules\\\\OVERVIEW\\\\Product-Roadmap.md'}, {'source': 'knowledge-base\\\\terraform_modules\\\\TIM-INFRA-MODULES-WIKI.wiki\\\\Axso-Terraform-Modules\\\\OVERVIEW\\\\Product-Roadmap.md', 'doc_type': 'TIM-INFRA-MODULES-WIKI.wiki'}, {'source': 'knowledge-base\\\\terraform_modules\\\\TIM-INFRA-MODULES-WIKI.wiki\\\\Axso-Terraform-Modules\\\\OVERVIEW\\\\Why-Dyos.md', 'doc_type': 'TIM-INFRA-MODULES-WIKI.wiki'}]\n"
     ]
    },
    {
     "ename": "ValueError",
     "evalue": "'azurerm_application_gateway' is not in list",
     "output_type": "error",
     "traceback": [
      "\u001b[31m---------------------------------------------------------------------------\u001b[39m",
      "\u001b[31mValueError\u001b[39m                                Traceback (most recent call last)",
      "\u001b[36mCell\u001b[39m\u001b[36m \u001b[39m\u001b[32mIn[14]\u001b[39m\u001b[32m, line 9\u001b[39m\n\u001b[32m      7\u001b[39m \u001b[38;5;28mprint\u001b[39m(metadatas)\n\u001b[32m      8\u001b[39m doc_types = [metadata.get(\u001b[33m'\u001b[39m\u001b[33mdoc_type\u001b[39m\u001b[33m'\u001b[39m, \u001b[33m'\u001b[39m\u001b[33munknown\u001b[39m\u001b[33m'\u001b[39m) \u001b[38;5;28;01mfor\u001b[39;00m metadata \u001b[38;5;129;01min\u001b[39;00m metadatas]\n\u001b[32m----> \u001b[39m\u001b[32m9\u001b[39m colors = [[\u001b[33m'\u001b[39m\u001b[33mblue\u001b[39m\u001b[33m'\u001b[39m, \u001b[33m'\u001b[39m\u001b[33mgreen\u001b[39m\u001b[33m'\u001b[39m, \u001b[33m'\u001b[39m\u001b[33mred\u001b[39m\u001b[33m'\u001b[39m, \u001b[33m'\u001b[39m\u001b[33morange\u001b[39m\u001b[33m'\u001b[39m][\u001b[43m[\u001b[49m\u001b[33;43m'\u001b[39;49m\u001b[33;43mazurerm_api_management\u001b[39;49m\u001b[33;43m'\u001b[39;49m\u001b[43m,\u001b[49m\u001b[43m \u001b[49m\u001b[33;43m'\u001b[39;49m\u001b[33;43mazurerm_data_factory\u001b[39;49m\u001b[33;43m'\u001b[39;49m\u001b[43m,\u001b[49m\u001b[43m \u001b[49m\u001b[33;43m'\u001b[39;49m\u001b[33;43mazurerm_databricks\u001b[39;49m\u001b[33;43m'\u001b[39;49m\u001b[43m,\u001b[49m\u001b[43m \u001b[49m\u001b[33;43m'\u001b[39;49m\u001b[33;43mazurerm_eventhub\u001b[39;49m\u001b[33;43m'\u001b[39;49m\u001b[43m]\u001b[49m\u001b[43m.\u001b[49m\u001b[43mindex\u001b[49m\u001b[43m(\u001b[49m\u001b[43mt\u001b[49m\u001b[43m)\u001b[49m] \u001b[38;5;28;01mfor\u001b[39;00m t \u001b[38;5;129;01min\u001b[39;00m doc_types]\n",
      "\u001b[31mValueError\u001b[39m: 'azurerm_application_gateway' is not in list"
     ]
    }
   ],
   "source": [
    "# Prework\n",
    "\n",
    "result = collection.get(include=['embeddings', 'documents', 'metadatas'])\n",
    "vectors = np.array(result['embeddings'])\n",
    "documents = result['documents']\n",
    "metadatas = result['metadatas']\n",
    "print(metadatas)\n",
    "doc_types = [metadata.get('doc_type', 'unknown') for metadata in metadatas]\n",
    "colors = [['blue', 'green', 'red', 'orange'][['azurerm_api_management', 'azurerm_data_factory', 'azurerm_databricks', 'azurerm_eventhub'].index(t)] for t in doc_types]\n",
    "\n"
   ]
  },
  {
   "cell_type": "code",
   "execution_count": 18,
   "metadata": {},
   "outputs": [
    {
     "data": {
      "application/vnd.plotly.v1+json": {
       "config": {
        "plotlyServerURL": "https://plot.ly"
       },
       "data": [
        {
         "hoverinfo": "text",
         "hovertext": [
          "azurerm_api_management: | **Build Status** | **Latest Version** | **Date** | |:-----------------|:-------------------|:-----…",
          "azurerm_api_management: To see more available Axso services please see **[Production Ready Services](https://dev.azure.com/A…",
          "azurerm_api_management: # INDEX  ----------------------------  1. [API Management Configuration](#api-management-configurati…",
          "azurerm_api_management: Azure API Management (APIm) is a fully managed service that enables organizations to create, publish…",
          "azurerm_api_management: Records for the publisher portal, management, gateway, developer portal and scm urls will be created…",
          "azurerm_api_management: > **Note:** > >Due to pipeline time execution limit of 60 minutes, in case you need custom hostnames…",
          "azurerm_api_management: ## Deployed Resources  ---------------------------  These all resources will be deployed when using …",
          "azurerm_api_management: ## Pre-requisites  ----------------------------  - Resource Group - Virtual Network - Dedicated subn…",
          "azurerm_api_management: ## Axso Naming convention example  ----------------------------  The naming convention is derived fr…",
          "azurerm_api_management: ```hcl module \"apim\" {   source                                             = \"git::ssh://git@ssh.de…",
          "azurerm_api_management: ## module.tf.tfvars    ```hcl environment                         = \"dev\" project_name              …",
          "azurerm_api_management: sku_name        = \"Premium_1\" publisher_name  = \"Contoso ApiManager\" publisher_email = \"api_manager@…",
          "azurerm_api_management: keyvault_named_values = [   {     display_name = \"apim-test-keyvault\"     name         = \"apim-test-…",
          "azurerm_api_management: requires_custom_host_name_configuration = false #If custom names are needed. First set to false in f…",
          "azurerm_api_management: ```  ## variables.tfvars  ```hcl  variable \"location\" {   type        = string   description = \"The …",
          "azurerm_api_management: variable \"resource_group_name\" {   description = \"Resource group name\"   type        = string }  var…",
          "azurerm_api_management: variable \"virtual_network_name\" {   type        = string   description = \"The name of the virtual ne…",
          "azurerm_api_management: variable \"key_vault_name\" {   description = \"Name of the Key Vault where the secrets are read\"   typ…",
          "azurerm_api_management: variable \"keyvault_named_values\" {   description = \"(Optional)Map containing the name of the named v…",
          "azurerm_api_management: variable \"publisher_name\" {   type        = string   description = \"The name of publisher/company.\" …",
          "azurerm_api_management: variable \"publisher_email\" {   type        = string   description = \"The email of publisher/company.…",
          "azurerm_api_management: variable \"backend_services\" {   type        = list(string)   description = \"(Optional)Include backen…",
          "azurerm_api_management: variable \"wildcard_certificate_name\" {   type        = string   description = \"(Optional)Name of the…",
          "azurerm_api_management: variable \"management_host_name\" {   type        = string   description = \"(Optional)Name for the man…",
          "azurerm_api_management: provider \"azurerm\" {   features {}   resource_provider_registrations = \"none\" }  provider \"azurerm\" …",
          "azurerm_api_management: ## Providers  | Name | Version | |------|---------| | <a name=\"provider_azurerm\"></a> [azurerm](#pro…",
          "azurerm_api_management: | Name | Type | |------|------| | [azurerm_api_management.apim](https://registry.terraform.io/provid…",
          "azurerm_api_management: ## Inputs…",
          "azurerm_api_management: | Name | Description | Type | Default | Required | |------|-------------|------|---------|:--------:…",
          "azurerm_api_management: ## Outputs  No outputs. <!-- END_TF_DOCS -->…",
          "azurerm_api_management: # Releases  ## v1.0.0 - 05/06/2024  * Initial release  ## v1.0.1 - 06/06/2024  * Dependencies update…",
          "azurerm_api_management: * Dependencies updated - Provider versions updated  ## v1.3.2 - 25/09/2024  * Dependencies updated -…",
          "azurerm_api_management: ## v1.4.2 - 25/02/2025  * Dependencies updated - Provider versions updated  ## v1.4.3 - 25/03/2025  …",
          "azurerm_api_management: # Infra Team Test  This is a test for the Infra team to check the quality of the code and the docume…",
          "azurerm_api_management: ## Modules  | Name | Source | Version | |------|--------|---------| | <a name=\"module_apim\"></a> [ap…",
          "azurerm_api_management: | Name | Type | |------|------| | [azurerm_network_security_group.network_nsg](https://registry.terr…",
          "azurerm_api_management: ## Inputs…",
          "azurerm_api_management: | Name | Description | Type | Default | Required | |------|-------------|------|---------|:--------:…",
          "azurerm_api_management: ## Outputs  No outputs. <!-- END_TF_DOCS -->…"
         ],
         "marker": {
          "color": "hsl(0,60%,50%)",
          "size": 8
         },
         "mode": "markers",
         "name": "azurerm_api_management",
         "type": "scatter",
         "x": {
          "bdata": "32lhQsYU+UG5dD1C2k4MQnSCpUHOKpdBEj+dQfYphEFaP9dA3G/nP70M58DzVi3C+fUtwjWLKMKSQyXBJ1KOwQe+isFTcdHBXPzSwTc8uMGSDrbBh1vUwYMP0sHFWUPBQ3S4QAPkg0Gl2xO9vWFVQbVc9cHBWd3AzjN7QSg/20E3A9dBXESvQS80oEEiQ2c8vWFVQU749MFkNQjB",
          "dtype": "f4"
         },
         "y": {
          "bdata": "8Y1VQQ4wlcHww4/AB2pdPZF1ocGHhqlAVjidQPROnMFTHZ/BxxnewCHvL8EyKWHB1JNhwXQHkcFyEffAXO3wP3NkuD/4yXHAlNiOwMgZKcEcAyjBIw6Yvllgrb3n2BNACGaKQWms90FTbwFCaGBaQrO43UFvED9CrgxAwgNjL8IfVjXCPIiQQavs9UFDHgxCaGBaQpXa3UHc+zlC",
          "dtype": "f4"
         }
        },
        {
         "hoverinfo": "text",
         "hovertext": [
          "azurerm_application_gateway: | **Build Status** | **Latest Version** | **Date** | |:-----------------|:-------------------|:-----…",
          "azurerm_application_gateway: To see more available Axso services please see **[Production Ready Services](https://dev.azure.com/A…",
          "azurerm_application_gateway: # INDEX  ----------------------------  1. [Resource Configuration](#application-gateway-configuratio…",
          "azurerm_application_gateway: This module is designed to deploy an Azure Application Gateway, which is a web traffic load balancer…",
          "azurerm_application_gateway: ## Service Description…",
          "azurerm_application_gateway: ---------------------------- **Azure Application Gateway:** Is a web traffic load balancer that enab…",
          "azurerm_application_gateway: ## Deployed Resources  ----------------------------  - azurerm_user_assigned_identity - azurerm_key_…",
          "azurerm_application_gateway: ----------------------------  It is assumed that the following resources already exists:  - Resource…",
          "azurerm_application_gateway: **Construct:** `\"axso-${var.subscription}-appl-${var.project_name}-${var.environment}-appgw\"`   **No…",
          "azurerm_application_gateway: ## Terraform Files  ----------------------------  ## module.tf  ```hcl module \"appgwV2\" {   source  …",
          "azurerm_application_gateway: key_vault_name = var.key_vault_name   key_vault_rbac = var.key_vault_rbac    subnet_name   = var.vin…",
          "azurerm_application_gateway: ssl_certificates_keyvault = [     {       name                               = var.name       key_va…",
          "azurerm_application_gateway: http_listeners        = var.http_listeners   probes                = var.probes   request_routing_ru…",
          "azurerm_application_gateway: ```hcl subscription                        = \"np\" project_name                        = \"prj\" enviro…",
          "azurerm_application_gateway: frontend_ip_private = \"10.0.3.10\" frontend_port       = [\"443\"]  key_vault_rbac = true appgw_public …",
          "azurerm_application_gateway: backend_address_pools = [   {     name  = \"test-beap\"     ip    = [\"10.0.4.4\"]     fqdns = []   } ] …",
          "azurerm_application_gateway: http_listeners = [   {     name                 = \"test-httplstn\"     frontend_port_number = \"443\"  …",
          "azurerm_application_gateway: probes = [   {     name                  = \"test-probe\"     interval              = \"2\"     timeout …",
          "azurerm_application_gateway: request_routing_rules = [   {     name                        = \"test-rqrt\"     priority            …",
          "azurerm_application_gateway: waf_enabled  = true waf_mode     = \"Prevention\" sku_name     = \"WAF_v2\" sku_tier     = \"WAF_v2\" capa…",
          "azurerm_application_gateway: variable \"subscription\" {   type        = string   description = \"The subscription type e.g. 'p' for…",
          "azurerm_application_gateway: variable \"resource_group_name\" {   type        = string   description = \"(Required) The name of the …",
          "azurerm_application_gateway: variable \"virtual_network_name\" {   type        = string   description = \"(Required) The name of the…",
          "azurerm_application_gateway: }  variable \"key_vault_secret_or_certificate_id\" {   type        = string   description = \"(Required…",
          "azurerm_application_gateway: variable \"key_vault_rbac\" {   type        = bool   description = \"Whether to enable RBAC for the Key…",
          "azurerm_application_gateway: variable \"backend_http_settings\" {   type = list(object({     cookie_based_affinity           = stri…",
          "azurerm_application_gateway: variable \"http_listeners\" {   type = list(object({     name                 = string     frontend_po…",
          "azurerm_application_gateway: variable \"probes\" {   type = list(object({     name                  = string     interval          …",
          "azurerm_application_gateway: variable \"request_routing_rules\" {   type = list(object({     name                        = string  …",
          "azurerm_application_gateway: variable \"waf_enabled\" {   type        = bool   description = \"(Required) Whether to enable the Web …",
          "azurerm_application_gateway: variable \"sku_tier\" {   type        = string   description = \"(Required) The tier of the SKU to use …",
          "azurerm_application_gateway: ```hcl terraform {   backend \"azurerm\" {}    required_providers {     pkcs12 = {       source  = \"ch…",
          "azurerm_application_gateway: provider \"tls\" {} ```  ----------------------------  # Input Description  ## Requirements  | Name | …",
          "azurerm_application_gateway: ## Modules  No modules.    ## Resources…",
          "azurerm_application_gateway: | Name | Type | |------|------| | [azurerm_application_gateway.agw](https://registry.terraform.io/pr…",
          "azurerm_application_gateway: ## Inputs…",
          "azurerm_application_gateway: | Name | Description | Type | Default | Required | |------|-------------|------|---------|:--------:…",
          "azurerm_application_gateway: ## Outputs  | Name | Description | |------|-------------| | <a name=\"output_application_gateway_id\">…",
          "azurerm_application_gateway: # Releases  ## v1.0.0 - 09/11/2023  * Initial release  ## v1.1.0 - 09/02/2024  * Fix GIT azure polic…",
          "azurerm_application_gateway: ## v1.2.2 - 25/04/2024  * Dependencies updated - Provider versions updated  ## v1.2.3 - 24/05/2024  …",
          "azurerm_application_gateway: ## v1.2.6 - 05/08/2024  * Dependencies updated - Provider versions updated  ## v1.3.0 - 23/08/2024  …",
          "azurerm_application_gateway: ## v1.3.3 - 27/01/2025  * Dependencies updated - Provider versions updated  ## v1.3.4 - 24/02/2025  …",
          "azurerm_application_gateway: # Infra Team Test  This template deploys a application SPI and is linked with ADO pipelines in `TIM-…",
          "azurerm_application_gateway: ## Providers  | Name | Version | |------|---------| | <a name=\"provider_azurerm\"></a> [azurerm](#pro…",
          "azurerm_application_gateway: ## Resources…",
          "azurerm_application_gateway: | Name | Type | |------|------| | [azurerm_key_vault_certificate.test](https://registry.terraform.io…",
          "azurerm_application_gateway: ## Inputs…",
          "azurerm_application_gateway: | Name | Description | Type | Default | Required | |------|-------------|------|---------|:--------:…",
          "azurerm_application_gateway: ## Outputs  No outputs. <!-- END_TF_DOCS -->…"
         ],
         "marker": {
          "color": "hsl(8,60%,50%)",
          "size": 8
         },
         "mode": "markers",
         "name": "azurerm_application_gateway",
         "type": "scatter",
         "x": {
          "bdata": "nxBlQqa8AULFkkNCe+cMQo3KYkGzAA1CGNmnQcvFaUEzTKFAPz0RQBck0sGvqPHBmdIewZ4Bk8CtsiTCeBAowu5zIcKpS2fCCKIkwqzFbcGIzJTBpCCJwY1KmcGcSM7BBy/PwZAgH8JhVB/CH2hnwom/IsIUBXjBWrcrwVg6eLzKQBNBhhN9QUmmQr5egV5B+lX2wYe1i8EJqXZBsh7OQXD6rUHTftVBWRS8QVDBj0HGh2xBqzlNv16BXkE9EfbBuKMDwQ==",
          "dtype": "f4"
         },
         "y": {
          "bdata": "g6lWQRU5jMGukJ3AIAYQQKujTUJW1A5AyhR2QIUKmsEcLavBMwU0weHjx8G4O8LBkSqIwaR+y8B/0ofBGotSwKMaM8C4lJHAIVMDwOZE18AUTAfBbkocQCGolD8a7cK/vPLfvz/T/b+ZahLA7lOMwJ3d5b+avdvAXdl5PzPtVEFAXptBa08XQjjvB0K1TFVCtAnVQR+OLELEhVHCKflIwi4yQ8JZmDjCG1hgQVup70Ejxz9Clof9QbVMVUKCzNRB6M9DQg==",
          "dtype": "f4"
         }
        },
        {
         "hoverinfo": "text",
         "hovertext": [
          "azurerm_application_insights: | **Build Status** | **Latest Version** | **Date** | |:-----------------|:-------------------|:-----…",
          "azurerm_application_insights: To see more available Axso services please see **[Production Ready Services](https://dev.azure.com/A…",
          "azurerm_application_insights: # INDEX  ----------------------------  1. [Azure Application Insights Configuration](#azure-applicat…",
          "azurerm_application_insights: ## Service Description  ----------------------------  Azure Monitor Application Insights, a feature …",
          "azurerm_application_insights: - Resource Group  ## Axso Naming convention example  ----------------------------  The naming conven…",
          "azurerm_application_insights: ```hcl module \"appinsights\" {   source              = \"git::ssh://git@ssh.dev.azure.com/v3/Axpo-AXSO…",
          "azurerm_application_insights: ## module.tf.tfvars  ```hcl  location                     = \"West Europe\" environment               …",
          "azurerm_application_insights: ```  ## variables.tf  ```hcl  variable \"location\" {   type        = string   description = \"Specifie…",
          "azurerm_application_insights: variable \"subscription\" {   type        = string   description = \"The short name of the subscription…",
          "azurerm_application_insights: variable \"log_analytics_workspace_name\" {   type        = string   default     = null   description …",
          "azurerm_application_insights: } } provider \"azurerm\" {   features {}   resource_provider_registrations = \"none\" }  ```  ----------…",
          "azurerm_application_insights: ## Modules  No modules.    ## Resources  | Name | Type | |------|------| | [azurerm_application_insi…",
          "azurerm_application_insights: | Name | Description | Type | Default | Required | |------|-------------|------|---------|:--------:…",
          "azurerm_application_insights: ## Outputs  | Name | Description | |------|-------------| | <a name=\"output_app_insights_id\"></a> [a…",
          "azurerm_application_insights: # Releases  ## v1.0.0 - 17/10/2023  * Initial release  ## v1.1.0 - 27/11/2023  * README File modifie…",
          "azurerm_application_insights: * Removed tagging from code  ## v1.3.0 - 25/03/2024  * Tags added to lifecycle block in module   ## …",
          "azurerm_application_insights: ## v1.3.5 - 31/05/2024  * Dependencies updated - Provider versions updated  ## v1.3.6 - 25/06/2024  …",
          "azurerm_application_insights: ## v1.3.10 - 11/11/2024  * Dependencies updated - Provider versions updated  ## v1.4.0 - 11/11/2024 …",
          "azurerm_application_insights: # Infra Team Test  This template deploys an Applicattion insights  <!-- BEGIN_TF_DOCS --> ## Require…",
          "azurerm_application_insights: ## Providers  No providers.  ## Modules  | Name | Source | Version | |------|--------|---------| | <…",
          "azurerm_application_insights: | Name | Description | Type | Default | Required | |------|-------------|------|---------|:--------:…",
          "azurerm_application_insights: ## Outputs  No outputs. <!-- END_TF_DOCS -->…"
         ],
         "marker": {
          "color": "hsl(16,60%,50%)",
          "size": 8
         },
         "mode": "markers",
         "name": "azurerm_application_insights",
         "type": "scatter",
         "x": {
          "bdata": "EeNhQo5nBUIWVUBC/8PIQfUH50D17ghAUG4FwcmVF8GZIp/BdO8OwX/e10Bg4Z5BhiLgwQwVlcHuPV1BDezRQTBL1EEIn+dBTpXBQRh2tEGGIuDBZBjhwA==",
          "dtype": "f4"
         },
         "y": {
          "bdata": "E2hQQZgdjsF5KmTAYPW5QGo8ksGrK+zAqd4RwQEZ0sCeHB/BPWwkQEDih0GpkQxC1+nyQWYbLkLDuljCcLdlwlhyRcJryEbC8FtpQciIAELX6fJBJZVBQg==",
          "dtype": "f4"
         }
        },
        {
         "hoverinfo": "text",
         "hovertext": [
          "azurerm_app_configuration: | **Build Status** | **Latest Version** | **Date** | |:-----------------|:-------------------|:-----…",
          "azurerm_app_configuration: To see more available Axso services please see **[Production Ready Services](https://dev.azure.com/A…",
          "azurerm_app_configuration: # INDEX  ----------------------------  1. [Azure App Configuration](#azure-app-configuration) 2. [Te…",
          "azurerm_app_configuration: ----------------------------  Azure App Configuration provides a service to centrally manage applica…",
          "azurerm_app_configuration: ## Deployed Resources  ---------------------------- This module will deploy the following azurerm re…",
          "azurerm_app_configuration: ## Axso Naming convention example  ----------------------------  The naming convention is derived fr…",
          "azurerm_app_configuration: # Terraform Files  ----------------------------  ## Module  ```hcl module \"axso_app_config\" {   sour…",
          "azurerm_app_configuration: resource_group_name        = var.resource_group_name   location                   = var.location   k…",
          "azurerm_app_configuration: # App config key   app_conf_key                 = each.value.app_conf_key   app_conf_label          …",
          "azurerm_app_configuration: ```hcl #--------------------------------------------------------------------------------------------…",
          "azurerm_app_configuration: #---------------------------------------------------------------------------------------------------…",
          "azurerm_app_configuration: # Standard settings     sku                        = \"standard\"     local_auth_enabled         = fal…",
          "azurerm_app_configuration: # App config keys     app_conf_key   = \"app-key-1\"     app_conf_label = \"app-key-1\"     app_conf_val…",
          "azurerm_app_configuration: app_conf_client_access_umids = [\"bf28a8c4-21ac-41cf-9eeb-1d34d07c8bad\"] # It is the same that above …",
          "azurerm_app_configuration: ```  ## Variables  ```hcl #-------------------------------------------------------------------------…",
          "azurerm_app_configuration: variable \"resource_group_name\" {   type        = string   description = \"(Required) The name of the …",
          "azurerm_app_configuration: variable \"key_vault_name\" {   type        = string   description = \"(Required) The name of the Key V…",
          "azurerm_app_configuration: #---------------------------------------------------------------------------------------------------…",
          "azurerm_app_configuration: variable \"app_conf\" {   type = list(object({     project_name               = string,     subscripti…",
          "azurerm_app_configuration: pe_subnet = object({       subnet_name  = string       vnet_name    = string       vnet_rg_name = st…",
          "azurerm_app_configuration: variable \"app_conf_umids_names\" {   type        = list(string)   description = \"(Required) List of U…",
          "azurerm_app_configuration: }  #RBAC for clients managed identities  variable \"app_conf_client_access_umids\" {   type        = l…",
          "azurerm_app_configuration: } ``` <!-- BEGIN_TF_DOCS --> ### main.tf  ```hcl terraform {   backend \"azurerm\" {}    required_prov…",
          "azurerm_app_configuration: provider \"azurerm\" {   features {     app_configuration {       purge_soft_delete_on_destroy = true …",
          "azurerm_app_configuration: provider \"time\" {}  ```  ----------------------------  # Input Description  ## Requirements  | Name …",
          "azurerm_app_configuration: ## Providers  | Name | Version | |------|---------| | <a name=\"provider_azurerm\"></a> [azurerm](#pro…",
          "azurerm_app_configuration: | Name | Type | |------|------| | [azurerm_app_configuration.appconf](https://registry.terraform.io/…",
          "azurerm_app_configuration: ## Inputs…",
          "azurerm_app_configuration: | Name | Description | Type | Default | Required | |------|-------------|------|---------|:--------:…",
          "azurerm_app_configuration: ## Outputs  | Name | Description | |------|-------------| | <a name=\"output_app_config_endpoint\"></a…",
          "azurerm_app_configuration: # Releases  ## v1.0.0 - 26/02/2024  * Initial release  ## v1.1.0 - 04/04/2024  * Creation and Storag…",
          "azurerm_app_configuration: ## v1.1.1 - 25/04/2024  * Dependencies updated - Provider versions updated  ## v1.2.0 - 28/05/2024  …",
          "azurerm_app_configuration: ## v1.2.2 - 31/05/2024  * Dependencies updated - Provider versions updated  ## v2.0.0 - 17/06/2024  …",
          "azurerm_app_configuration: ## v2.0.3 - 25/08/2024  * Dependencies updated - Provider versions updated  ## v2.0.4 - 27/09/2024  …",
          "azurerm_app_configuration: ## v2.1.2 - 24/12/2024  * Dependencies updated - Provider versions updated  ## v2.1.3 - 27/01/2025  …",
          "azurerm_app_configuration: # Infra Team Test  This module is used to create an Azure app configuration and is for testing purpo…",
          "azurerm_app_configuration: ## Providers  No providers.  ## Modules  | Name | Source | Version | |------|--------|---------| | <…",
          "azurerm_app_configuration: | Name | Description | Type | Default | Required | |------|-------------|------|---------|:--------:…",
          "azurerm_app_configuration: ## Outputs  No outputs. <!-- END_TF_DOCS -->…"
         ],
         "marker": {
          "color": "hsl(23,60%,50%)",
          "size": 8
         },
         "mode": "markers",
         "name": "azurerm_app_configuration",
         "type": "scatter",
         "x": {
          "bdata": "tzhaQhajAULoNTtCbD4QQg/Ct0G1Y9FAnVw1QL43ysHRFZ3BHmOdwBXLNMKc0xfC5B41wrMGucHL87HARBV+wTkn1sFwlDTCcRQQwpACD8LaorjB3p+4wUhN1L9jiYRAViI4QZ2XeEH3+UY+vWFVQaof8cGpXJXB/BxWQT0wt0G9udRBZurtQbFz50Htz8FBrxS9Qejz8MHiquzA",
          "dtype": "f4"
         },
         "y": {
          "bdata": "PSJTQaKOmMFnpo/APVJCv3RrfkAJxaDBQS4qwczlw8GO+LPBOPC2wGyqeMF4OEbBbEVzwdy5LEGthmDBFAJqQC3fLsAgAX3BwR4WwPixC78XkRpBum8bQfibVkEoXJdBWx6yQUlO80GIfP5BaGBaQgQkskG9wy5C9gFFwsBdM8K7I03CeClBwsbyOsJeSYdBBCX/QYDvsUFZiDxC",
          "dtype": "f4"
         }
        },
        {
         "hoverinfo": "text",
         "hovertext": [
          "azurerm_container_app: | **Build Status** | **Latest Version** | **Date** | |:-----------------|:-------------------|------…",
          "azurerm_container_app: To see more available Axso services please see **[Production Ready Services](https://dev.azure.com/A…",
          "azurerm_container_app: # INDEX  ----------------------------  1. [Container App Configuration](#container-app-configuration…",
          "azurerm_container_app: ## Service Description  ----------------------------  A Container Apps environment is a secure bound…",
          "azurerm_container_app: - azurerm_container_app_environment: Manages a Container App Environment - azurerm_container_app_env…",
          "azurerm_container_app: :information_source: **Azure Container Apps DNS**  In Azure Container Apps, there are three differen…",
          "azurerm_container_app: - External Communication: Use the application URL provided in the overview tab for external services…",
          "azurerm_container_app: ## Pre-requisites  ----------------  - Resource Group - Private DNS zone for your project in case yo…",
          "azurerm_container_app: ## Axso Naming convention example  ---------------------------------  The naming convention is deriv…",
          "azurerm_container_app: - **Construct - Container app environment:** `\"axso-${var.subscription}-appl-${var.project_name}-${v…",
          "azurerm_container_app: ## Container app (32 Characters long)  - **NonProd:** `axso-np-appl-cloud-dev-webap-ca` - **Prod:** …",
          "azurerm_container_app: # General   resource_group_name = var.resource_group_name   location            = var.location   key…",
          "azurerm_container_app: # Container App Environment   usecase                      = each.value.usecase   cae_workload_profi…",
          "azurerm_container_app: # Container App Environment - Storage Configurations   cae_storage_configs = each.value.cae_storage_…",
          "azurerm_container_app: ```hcl resource_group_name = \"axso-np-appl-ssp-test-rg\" location            = \"westeurope\" project_n…",
          "azurerm_container_app: #---------------------------------------------------------------------------------------------------…",
          "azurerm_container_app: dns_zone_name = \"nonprod.cloudinfra.axpo.cloud\" key_vault_name = \"kv-ssp-0-nonprod-axso\"   container…",
          "azurerm_container_app: cae_workload_profiles = {       \"ca-wp-1\" = {         name                  = \"ca-wp\"         worklo…",
          "azurerm_container_app: cae_custom_certificates = {       \"cae-c-1\" = {         key_vault_name                = \"kv-ssp-0-no…",
          "azurerm_container_app: ca_custom_domains = {       \"webapp1-domain1\" = {         ca_name                       = \"webapp1\" …",
          "azurerm_container_app: log_analytics_workspace_name = null      # Container app environment - Storage…",
          "azurerm_container_app: cae_storage_configs = {       \"config-1\" = {         storage_config_name     = \"agent-storage\"      …",
          "azurerm_container_app: } # Container app environment - Storage configuration ends here.      # Container Apps      containe…",
          "azurerm_container_app: secrets = [           {             name                = \"secret1\"             identity_type       …",
          "azurerm_container_app: template = {           containers = [             {               name   = \"app1-container\"         …",
          "azurerm_container_app: startup_probe = {                 port      = 80                 transport = \"HTTP\"               } …",
          "azurerm_container_app: env = [                 {                   name  = \"MY_NON_PASSWORD_ENV_VARIABLE\"                  …",
          "azurerm_container_app: min_replicas    = 1           max_replicas    = 5           revision_suffix = \"v1\"            azure_…",
          "azurerm_container_app: volume = null           # {           #   name         = \"data-volume\"           #   storage_name = …",
          "azurerm_container_app: ip_security_restriction = [ # If you leave this empty, the container will accept all the private tra…",
          "azurerm_container_app: traffic_weight = [             {               label           = \"version-v1\"               latest_r…",
          "azurerm_container_app: }        }, # Container app - App1 configuration ends here.        \"app2\" = {         name          …",
          "azurerm_container_app: template = {           containers = [             {               name   = \"app1-container\"         …",
          "azurerm_container_app: volume_mounts = [                 # {                 #   name       = \"data-volume\"                …",
          "azurerm_container_app: env = [                 # {                 #   name        = \"ENV_VARIABLE_1\"                 #   s…",
          "azurerm_container_app: azure_queue_scale_rules = [             {               name         = \"test\"               queue_na…",
          "azurerm_container_app: volume = null           # {           #   name         = \"data-volume\"           #   storage_name = …",
          "azurerm_container_app: ip_security_restriction = [             {               name             = \"Rule-1\"               ac…",
          "azurerm_container_app: traffic_weight = [             {               label           = \"version-v1\"               latest_r…",
          "azurerm_container_app: secrets = [         ] # Container app - Secrets configuration ends here.          template = {      …",
          "azurerm_container_app: volume_mounts = [                 # {                 #   name       = \"data-volume\"                …",
          "azurerm_container_app: env = [                 # {                 #   name        = \"ENV_VARIABLE_1\"                 #   s…",
          "azurerm_container_app: min_replicas    = 1           max_replicas    = 5           revision_suffix = null            tcp_sc…",
          "azurerm_container_app: ingress = {           allow_insecure_connections = false           external_enabled           = true…",
          "azurerm_container_app: ip_security_restriction = [ # If you leave this empty, the container will accept all the private tra…",
          "azurerm_container_app: traffic_weight = [             {               latest_revision = true               percentage      …",
          "azurerm_container_app: container_apps_jobs = {       \"app-job1\" = {         name                       = \"wejb1\"         wo…",
          "azurerm_container_app: secrets = [           {             name                = \"secret1\"             identity_type       …",
          "azurerm_container_app: template = {           containers = [             {               name   = \"app1-container\"         …",
          "azurerm_container_app: startup_probe = {                 port      = 80                 transport = \"HTTP\"               } …",
          "azurerm_container_app: env = [                 {                   name  = \"MY_NON_PASSWORD_ENV_VARIABLE\"                  …",
          "azurerm_container_app: volume = null           # {           #   name         = \"data-volume\"           #   storage_name = …",
          "azurerm_container_app: },       \"app-job2\" = {         name                       = \"wejb2\"         workload_profile_name  …",
          "azurerm_container_app: secrets = [           {             name                = \"secret1\"             identity_type       …",
          "azurerm_container_app: template = {           containers = [             {               name   = \"app1-container\"         …",
          "azurerm_container_app: startup_probe = {                 port      = 80                 transport = \"HTTP\"               } …",
          "azurerm_container_app: env = [                 {                   name  = \"MY_NON_PASSWORD_ENV_VARIABLE\"                  …",
          "azurerm_container_app: volume = null           # {           #   name         = \"data-volume\"           #   storage_name = …",
          "azurerm_container_app: },       \"app-job3\" = {         name                       = \"wejb3\"         workload_profile_name  …",
          "azurerm_container_app: template = {           containers = [             {               name   = \"app1-container\"         …",
          "azurerm_container_app: startup_probe = {                 port      = 80                 transport = \"HTTP\"               } …",
          "azurerm_container_app: env = [                 {                   name  = \"MY_NON_PASSWORD_ENV_VARIABLE\"                  …",
          "azurerm_container_app: volume = null           # {           #   name         = \"data-volume\"           #   storage_name = …",
          "azurerm_container_app: ```  ## variables.tf  ```hcl # General variable \"resource_group_name\" {   type        = string   des…",
          "azurerm_container_app: variable \"project_name\" {   type        = string   description = \"The name of the project. e.g. MDS\"…",
          "azurerm_container_app: variable \"key_vault_name\" {   type        = string   description = \"The name of the key vault to use…",
          "azurerm_container_app: variable \"acr_umid_name\" {   type        = string   description = \"The name of the user managed iden…",
          "azurerm_container_app: # Infrastructure Subnet Configurations     infra_subnet_configs = object({       infra_subnet_name  …",
          "azurerm_container_app: cae_custom_certificates = map(object({       key_vault_name                = string       keyvault_c…",
          "azurerm_container_app: log_analytics_workspace_name = string      # Container App Environment - Storage Configurations     …",
          "azurerm_container_app: # Container Apps     container_apps = map(object({       name                  = string       revisi…",
          "azurerm_container_app: template = object({         containers = list(object({           name   = string           image  = …",
          "azurerm_container_app: startup_probe = optional(object({             failure_count_threshold = optional(number, 3)         …",
          "azurerm_container_app: readiness_probe = optional(object({             failure_count_threshold = optional(number, 3)       …",
          "azurerm_container_app: }))         min_replicas    = number         max_replicas    = number         revision_suffix = opti…",
          "azurerm_container_app: tcp_scale_rules = optional(list(object({           name                = string           concurrent…",
          "azurerm_container_app: http_scale_rules = optional(list(object({           name                = string           concurren…",
          "azurerm_container_app: secrets = optional(list(object({         name                = string         identity_type       = …",
          "azurerm_container_app: })))              ingress = object({         allow_insecure_connections = bool         external_enab…",
          "azurerm_container_app: traffic_weight = optional(list(object({           label           = optional(string)           lates…",
          "azurerm_container_app: manual_trigger_config = optional(object({         parallelism              = number         replica_…",
          "azurerm_container_app: event_trigger_config = optional(object({         parallelism              = number         replica_c…",
          "azurerm_container_app: template = object({         containers = list(object({           name   = string           image  = …",
          "azurerm_container_app: readiness_probe = optional(object({             failure_count_threshold = optional(number, 3)       …",
          "azurerm_container_app: }))          volume = object({           name         = string           storage_name = string      …",
          "azurerm_container_app: })), [])     }))    }))   description = \"Container App configurations\" }  variable \"dns_zone_name\" {…",
          "azurerm_container_app: } ```  <!-- BEGIN_TF_DOCS --> ### main.tf  ```hcl terraform {   backend \"azurerm\" {}    required_pro…",
          "azurerm_container_app: ```  ----------------------------  # Input Description  ## Requirements  | Name | Version | |------|…",
          "azurerm_container_app: ## Providers  | Name | Version | |------|---------| | <a name=\"provider_azapi\"></a> [azapi](#provide…",
          "azurerm_container_app: | Name | Type | |------|------| | [azapi_resource_action.azurerm_container_app_environment_identitie…",
          "azurerm_container_app: ## Inputs…",
          "azurerm_container_app: | Name | Description | Type | Default | Required | |------|-------------|------|---------|:--------:…",
          "azurerm_container_app: ## Outputs…",
          "azurerm_container_app: | Name | Description | |------|-------------| | <a name=\"output_container_app_custom_domains\"></a> […",
          "azurerm_container_app: # Releases  ## v1.0.0 - 12/12/2023  * Initial release  ## v1.1.0 - 26/01/2024  * Added ability to se…",
          "azurerm_container_app: ## v1.2.1 - 23/02/2024  * This adjustment addresses a bug within the ContainerApps - UMIDs configura…",
          "azurerm_container_app: Terraform version bumped from **3.90.0** -> **3.94.0**  ## v1.3.0 - 12/03/2024  * Fix for workload_p…",
          "azurerm_container_app: ## v1.5.0 - 12/04/2024  * Fixed issues with scaling rules * Simplified the module by separating the …",
          "azurerm_container_app: ## v1.6.2 - 25/04/2024  * Dependencies updated - Provider versions updated  ## v1.6.3 - 24/05/2024  …",
          "azurerm_container_app: ## v1.6.6 - 29/07/2024  * Dependencies updated - Provider versions updated  ## v1.7.0 - 05/08/2024  …",
          "azurerm_container_app: ## v1.8.0 - 05/09/2024  * Dependencies updated - Provider versions updated * Added support for start…",
          "azurerm_container_app: ## v1.10.0 - 16/09/2024  * Fixed issues with Container App resource group  ## v1.10.1 - 24/09/2024  …",
          "azurerm_container_app: ## v1.11.2 - 09/01/2025  * Dependencies updated - Provider versions updated  ## v1.11.3 - 24/01/2025…",
          "azurerm_container_app: # Infra Team Test  This module test is used to create an Azure Container App service and is for test…",
          "azurerm_container_app: ## Providers  No providers.  ## Modules  | Name | Source | Version | |------|--------|---------| | <…",
          "azurerm_container_app: | Name | Description | Type | Default | Required | |------|-------------|------|---------|:--------:…",
          "azurerm_container_app: ## Outputs  No outputs. <!-- END_TF_DOCS -->…"
         ],
         "marker": {
          "color": "hsl(31,60%,50%)",
          "size": 8
         },
         "mode": "markers",
         "name": "azurerm_container_app",
         "type": "scatter",
         "x": {
          "bdata": "UwRZQketA0JjSTpC4SnvQZPt9j8yAJhBH+OSQSJFhEELUy5B3KsLQff7K0Af+MXB1LiiwRBGn8Hq/x3CRH0uwhCDLsJopUHCahY4wtLzNcIzS0TCZ5czwiHyQsJkwjvCP7tXwhkDaMK69VHCRElLwvHyTMKo2j7CMxRJwpFeQcJmCljCq2VBwqVfUcIBo0rCa/hMwoydPsLgd0jCtwtMwqtlQcJDX1HCO+5LwpBnTMKo2j7CakdJwp4hQMKNwTvCtLhXwhkDaMK69VHCy2dPwu9bP8JkwjvCP7tXwhkDaMK69VHCIWlPwr8rP8LMu1fCGQNowgH2UcIRM1HC4isUwSXJqMGhls3BzZm8wT1rRMInH0HCAQJDwsDdRcKDp1vCTshiwoEUYcIpCE3CzOpUwlm+VMItIVbC4rlMwk5MSMKeSFfCow1Xwj8OXMK/FGHC8wBWwo7VTcESL5S/IZIpQTZ6gEFMDY0/tN9zQVQZ88HsLwRBFtSiwUstbUHkpMlBwSB+QTarzUEFNtlBkpTaQVLMoEF+h6FBcgrRQdW3wEHsOb1BSv7ywR3SOsE=",
          "dtype": "f4"
         },
         "y": {
          "bdata": "yHRGQbwTmMGEXKXA8BoUQEFQ8kFwr6XBB72jwQ8UnMEKXrPByMXRwXNIkcGpbsrBPti1wavAtMEqcWvB7kOIwS9CiMHTMi/BP12TwdcancF0rYbBLP3bwExaS8HVxVbBHPMnwSo6ycDN5GTBm2VjwFwsB8GT2IjA8TwvwWEDRsHAvCrBBvLWwALKUcEgilnA8HAHwX09hMCLZS/BOwFbwQby1sCaq1HBR6MUwf0a0MCT2IjA6JUwwfeJNcHPxVbBZ+knwSo6ycDN5GTBTLITwRAaNcHVxVbBHPMnwSo6ycDN5GTBLLATwfFIOMHX8CfBKjrJwPznZMEWQRHBRZmjwPnZCME78D7AiQbEQKHKbMG0uYnBjdmGwU4jUcHHyxHBVIW1wPqjqsDX32bArf6AwMMpiMAWOrPAVtTLwCunQcE/zUjAvXBNwAMbD8E7n6rAL0WxwJ3Qu0C2w1BBXdWcQTV57kEeffhBsSVVQtQgv0E4gGZCW/ctQvjYW8IVZlrCZfFewkgMWMK0LlLCN0tXwrc2RsJADEbCDfU6wqAwiEFpJfxBBIW+QVlvUEI=",
          "dtype": "f4"
         }
        },
        {
         "hoverinfo": "text",
         "hovertext": [
          "azurerm_container_registry: | **Build Status** | **Latest Version** | **Date** | |:-----------------|:-------------------|:-----…",
          "azurerm_container_registry: # INDEX  ----------------------------  1. [Azure Container Registry Configuration](#azure-container-…",
          "azurerm_container_registry: ## Service Description  ----------------------------  Azure Container Registry is a managed registry…",
          "azurerm_container_registry: Use container registries with your existing container development and deployment pipelines, or use A…",
          "azurerm_container_registry: ## Pre-requisites ----------------------------  It is assumed that the following resources already e…",
          "azurerm_container_registry: **Construct:** `\"axso4${var.subscription}4${var.project_name}4${var.environment}4acr\"`   **NonProd:*…",
          "azurerm_container_registry: resource_group_name = var.resource_group_name   location            = var.location    project_name  …",
          "azurerm_container_registry: # Networking   pe_subnet                     = var.pe_subnet   allowed_ip_ranges             = var.a…",
          "azurerm_container_registry: } ```  ## module.tf.tfvars  ```hcl  #===============================================================…",
          "azurerm_container_registry: project_name = \"cloudinfra\"  subscription = \"np\"  environment = \"test\"  resource_group_name = \"axso-…",
          "azurerm_container_registry: location = \"westeurope\"  #==========================================================================…",
          "azurerm_container_registry: retention_policy_in_days = 7  data_endpoint_enabled = true  identity_type = \"SystemAssigned, UserAss…",
          "azurerm_container_registry: acr_allowed_subnets = {   \"subnet-1\" = {     subnet_name  = \"compute\"     vnet_name    = \"vnet-cloud…",
          "azurerm_container_registry: georeplications_configuration = [   {     location                = \"North Europe\" # The georeplicat…",
          "azurerm_container_registry: ```  ## variables.tf  ```hcl #======================================================================…",
          "azurerm_container_registry: variable \"project_name\" {   type        = string   default     = \"etools\"   description = \"The name …",
          "azurerm_container_registry: variable \"resource_group_name\" {   type        = string   description = \"(Required) The name of the …",
          "azurerm_container_registry: #===================================================================================================…",
          "azurerm_container_registry: variable \"retention_policy_in_days\" {   type        = number   default     = 7   description = \"(Opt…",
          "azurerm_container_registry: }  variable \"data_endpoint_enabled\" {   type        = bool   default     = false   description = \"(O…",
          "azurerm_container_registry: }  variable \"identity_type\" {   type        = string   default     = \"UserAssigned\"   description = …",
          "azurerm_container_registry: variable \"public_network_access_enabled\" {   type        = bool   default     = false   description …",
          "azurerm_container_registry: variable \"acr_allowed_subnets\" {   type = map(object({     subnet_name  = string     vnet_name    = …",
          "azurerm_container_registry: variable \"georeplications_configuration\" {   type = list(object({     location                = stri…",
          "azurerm_container_registry: <!-- BEGIN_TF_DOCS --> ### main.tf  ```hcl terraform {   backend \"azurerm\" {}   required_providers {…",
          "azurerm_container_registry: provider \"azuread\" {} ```  ----------------------------  # Input Description  ## Requirements  | Nam…",
          "azurerm_container_registry: | Name | Type | |------|------| | [azurerm_container_registry.acr](https://registry.terraform.io/pro…",
          "azurerm_container_registry: ## Inputs…",
          "azurerm_container_registry: | Name | Description | Type | Default | Required | |------|-------------|------|---------|:--------:…",
          "azurerm_container_registry: ## Outputs  | Name | Description | |------|-------------| | <a name=\"output_acr_id\"></a> [acr\\_id](#…",
          "azurerm_container_registry: # Releases  ## v1.0.0 - 23/10/2023  * Initial release  ## v1.1.0 - 04/03/2024  * Refactored identity…",
          "azurerm_container_registry: ## v1.1.3 - 31/05/2024  * Dependencies updated - Provider versions updated  ## v1.1.4 - 25/06/2024  …",
          "azurerm_container_registry: ## v1.2.3 - 25/09/2024  * Dependencies updated - Provider versions updated  ## v1.2.4 - 25/10/2024  …",
          "azurerm_container_registry: * Dependencies updated - Provider versions updated  ## v1.4.2 - 25/01/2025  * Dependencies updated -…",
          "azurerm_container_registry: # Infra Team Test  This is a test for the Infra team to check the quality of the code and the docume…",
          "azurerm_container_registry: ## Providers  No providers.  ## Modules  | Name | Source | Version | |------|--------|---------| | <…",
          "azurerm_container_registry: | Name | Description | Type | Default | Required | |------|-------------|------|---------|:--------:…",
          "azurerm_container_registry: ## Outputs  No outputs. <!-- END_TF_DOCS -->…"
         ],
         "marker": {
          "color": "hsl(39,60%,50%)",
          "size": 8
         },
         "mode": "markers",
         "name": "azurerm_container_registry",
         "type": "scatter",
         "x": {
          "bdata": "GShXQiBNNkL/LjJCH+TAQbWib0EK4XdA2XrKwUg1MMFhguHAAmwYwoAbIcIG8hjCVXQfwvmtV8IPZrXARFOswe8wgsHvPyHCHdMLwpr/ocGlucHBqobBwUuCt8GGrljCovF6Pm2PB0FzEBk/vWFVQSgy/sEgrIzBC6tpQSOs00FGauNBL7faQfK3r0HnpsBB7TH+wXAG/sA=",
          "dtype": "f4"
         },
         "y": {
          "bdata": "S4ouQY5bEcBLlZ2/gKWGQE4kk8Ee/KDB5DjGwf9ygcHA61rB+g59wUkDssHgYUfB1wTgwIyJYUBTuGDBdYgHwWdsgUAUXLLBSUMFQasz/L+TjuRAEzMDQEPAcECgF3FAHjmEQY1MpEHBsARCaGBaQrhyv0H/eB9CDm4+wgqJS8Kwa0zCM6Ezwk0LkEFySf1BhW2/QR46O0I=",
          "dtype": "f4"
         }
        },
        {
         "hoverinfo": "text",
         "hovertext": [
          "azurerm_cosmosdb: | **Build Status** | **Latest Version** | **Date** | |:-----------------|:-------------------|------…",
          "azurerm_cosmosdb: To see more available Axso services please see **[Production Ready Services](https://dev.azure.com/A…",
          "azurerm_cosmosdb: # INDEX  ----------------------------  1. [CosmosDB Configuration](#cosmosdb-configuration) 2. [Terr…",
          "azurerm_cosmosdb: ## Service Description  ---------------------------- >**:warning:** > **Azure CosmosDB could be a ve…",
          "azurerm_cosmosdb: <br />  Azure Cosmos DB simplifies and accelerates application development by serving as a single da…",
          "azurerm_cosmosdb: This module deploys an Azure CosmosDB account of the specified type. To select the appropriate API f…",
          "azurerm_cosmosdb: - **Consistency_policy**: Configure the default consistency level for your Cosmos DB account. It app…",
          "azurerm_cosmosdb: ## Deployed Resources  ----------------------------  The following resources are deployed when using…",
          "azurerm_cosmosdb: ## Axso Naming convention example  ---------------------------------  The naming convention is deriv…",
          "azurerm_cosmosdb: - **Construct - Cosmosdb:** `\"axso-${var.subscription}-appl-${var.project_name}-${var.environment}-c…",
          "azurerm_cosmosdb: cosmosdb_accounts                   = var.cosmosdb_accounts   location                            = …",
          "azurerm_cosmosdb: }  ```  ## module.tf.tfvars  ```hcl…",
          "azurerm_cosmosdb: location                            = \"West Europe\" environment                         = \"dev\" proj…",
          "azurerm_cosmosdb: cosmosdb_accounts = [   # Please, review README to understand all the values   #COSMODB for MongoDB …",
          "azurerm_cosmosdb: consistency_policy = [       {         name                    = \"1regionwrite-multiple-reads\"      …",
          "azurerm_cosmosdb: geo_location = [       {         location          = \"West Europe\"         failover_priority = 0 #Wr…",
          "azurerm_cosmosdb: capabilities = [       { name = \"EnableMongo\" },       { name = \"MongoDBv3.4\" }     ]      analytica…",
          "azurerm_cosmosdb: cors_rule = [       {         name               = \"my-cors-rule\"         allowed_headers    = [\"*\"]…",
          "azurerm_cosmosdb: consistency_policy = [       {         name                    = \"1regionwrite-multiple-reads\"      …",
          "azurerm_cosmosdb: geo_location = [       {         location          = \"West Europe\"         failover_priority = 0 #Wr…",
          "azurerm_cosmosdb: capabilities = []      analytical_storage = []      capacity = [       { total_throughput_limit = 10…",
          "azurerm_cosmosdb: cors_rule = [       {         name               = \"my-cors-rule\"         allowed_headers    = [\"*\"]…",
          "azurerm_cosmosdb: consistency_policy = [       {         name                    = \"1regionwrite-multiple-reads\"      …",
          "azurerm_cosmosdb: geo_location = [       {         location          = \"West Europe\"         failover_priority = 0 #Wr…",
          "azurerm_cosmosdb: capabilities = [        { name = \"EnableCassandra\" }     ]      analytical_storage = []      capacit…",
          "azurerm_cosmosdb: cors_rule = [       {         name               = \"my-cors-rule\"         allowed_headers    = [\"*\"]…",
          "azurerm_cosmosdb: consistency_policy = [       {         name                    = \"1regionwrite-multiple-reads\"      …",
          "azurerm_cosmosdb: geo_location = [       {         location          = \"West Europe\"         failover_priority = 0 #Wr…",
          "azurerm_cosmosdb: capabilities = [        { name = \"EnableGremlin\" }     ]      analytical_storage = []      capacity …",
          "azurerm_cosmosdb: cors_rule = [       {         name               = \"my-cors-rule\"         allowed_headers    = [\"*\"]…",
          "azurerm_cosmosdb: consistency_policy = [       {         name                    = \"1regionwrite-multiple-reads\"      …",
          "azurerm_cosmosdb: geo_location = [       {         location          = \"West Europe\"         failover_priority = 0 #Wr…",
          "azurerm_cosmosdb: capabilities = [        { name = \"EnableTable\" }     ]      analytical_storage = []      capacity = …",
          "azurerm_cosmosdb: cors_rule = [       {         name               = \"my-cors-rule\"         allowed_headers    = [\"*\"]…",
          "azurerm_cosmosdb: cosmosdb_postgres = [   {     name                            = \"psql1\"     sql_version             …",
          "azurerm_cosmosdb: ```  ## variables.tf  ```hcl  variable \"location\" {   type        = string   description = \"The defa…",
          "azurerm_cosmosdb: variable \"subscription\" {   type        = string   description = \"The short name of the subscription…",
          "azurerm_cosmosdb: variable \"identity_type\" {   type        = string   default     = \"UserAssigned\"   description = \"(R…",
          "azurerm_cosmosdb: variable \"umids_names\" {   type        = list(string)   description = \"(Optional) The list of User A…",
          "azurerm_cosmosdb: variable \"virtual_network_name\" {   type        = string   description = \"The name of the vnet where…",
          "azurerm_cosmosdb: }  variable \"default_identity_type\" {   type        = string   description = \"The default identity f…",
          "azurerm_cosmosdb: variable \"cosmosdb_accounts\" {   type = list(object({     name                       = string     co…",
          "azurerm_cosmosdb: validation {     condition     = alltrue([for cosmodb in var.cosmosdb_accounts : contains([\"nosql\", …",
          "azurerm_cosmosdb: - **name**: The name of the Cosmos DB account, used to uniquely identify the account.     - **cosmos…",
          "azurerm_cosmosdb: DESCRIPTION   }…",
          "azurerm_cosmosdb: variable \"cosmosdb_postgres\" {   type = list(object({     name                            = string  …",
          "azurerm_cosmosdb: - **name**: The name of the PostgreSQL cluster. This is a unique identifier for the cluster within t…",
          "azurerm_cosmosdb: }   ```  <!-- BEGIN_TF_DOCS --> ### main.tf  ```hcl terraform {   backend \"azurerm\" {}    required_p…",
          "azurerm_cosmosdb: ----------------------------  # Input Description  ## Requirements  | Name | Version | |------|-----…",
          "azurerm_cosmosdb: ## Providers  | Name | Version | |------|---------| | <a name=\"provider_azuread\"></a> [azuread](#pro…",
          "azurerm_cosmosdb: | Name | Type | |------|------| | [azurerm_cosmosdb_account.cosmosdb_account](https://registry.terra…",
          "azurerm_cosmosdb: ## Inputs…",
          "azurerm_cosmosdb: | Name | Description | Type | Default | Required | |------|-------------|------|---------|:--------:…",
          "azurerm_cosmosdb: ## Outputs  No outputs. <!-- END_TF_DOCS -->…",
          "azurerm_cosmosdb: # Releases  ## v1.0.0  * Initial release  ## v1.0.1 - 22/11/2024  * Dependencies updated - Provider …",
          "azurerm_cosmosdb: # Infra Team Test  This template is used for testing only  <!-- BEGIN_TF_DOCS --> ## Requirements  |…",
          "azurerm_cosmosdb: ## Resources  No resources.  ## Inputs…",
          "azurerm_cosmosdb: | Name | Description | Type | Default | Required | |------|-------------|------|---------|:--------:…",
          "azurerm_cosmosdb: ## Outputs  No outputs. <!-- END_TF_DOCS -->…"
         ],
         "marker": {
          "color": "hsl(47,60%,50%)",
          "size": 8
         },
         "mode": "markers",
         "name": "azurerm_cosmosdb",
         "type": "scatter",
         "x": {
          "bdata": "oeJWQg1fAkL3ljVC1McnQhkcH0IvByVCosUiQmP2uEGA1y5BQDdjQE5fysH9cvfAp6QXwmy4NMKmj0TCD7pTwhafRsJSwDnCpo9EwroqUsK4HUfCV7o5wlaPRMJVDlLCHbdGwgDpOcLRj0TCMApSwucgR8KXrDnC0Y9Ewu4WUsI0y0bCmrg5wiQRMMIYZxXBNrGcwa7D2MFvGLnBeVGUwd/32cFT/DHC+aA2wnJMCcL5se5A1fsvwu7+CcJ1Xfc/+ZU2QVpfa0F6nHq/XoFeQaEBBcJnkePAOAF5QTv3qkEZIoJBoQEFwouaE8E=",
          "dtype": "f4"
         },
         "y": {
          "bdata": "TlVoQcL5j8Fs9lnAO/Xkv01V/798a7+/DKfOv9slmUDP4LLB29WnwTr0vsFe9W7BmoVxwaur+z9DflG/IpspQMLlG0AN3QK/Q35RvwZAHkDToiZAnm37vsikUb+eExlAL0saQHK1+r4v1lG/8KYYQGsrG0BT9um+L9ZRv3zcGUAZnBtAPOcTvtmn6T8s8rnAQRQUwX9b5kDqjvdAtJW1vs591kDy9xNAeNYSQH/Vo0G3Z1RC2LQAQIAKokF1n4tBtHGfQTU680H3dgRCtUxVQr+lrkEwn0ZC4Yg6wlwYgkEkxihCv6WuQYhMPkI=",
          "dtype": "f4"
         }
        },
        {
         "hoverinfo": "text",
         "hovertext": [
          "azurerm_custom_role_definitions: | **Build Status** | **Latest Version** | **date** | |:-----------------|:-------------------|:-----…",
          "azurerm_custom_role_definitions: To see more available Axso services please see **[Production Ready Services](https://dev.azure.com/A…",
          "azurerm_custom_role_definitions: # INDEX  ----------------------------  1. [Custom Role Definitions Configuration](#custom-role-defin…",
          "azurerm_custom_role_definitions: ## Service Description  ----------------------------  A role definition is a collection of permissio…",
          "azurerm_custom_role_definitions: This module allows the following private DNS records to be deployed:  - azurerm_role_definition   ##…",
          "azurerm_custom_role_definitions: - Does not apply for Custom Roles   ## Terraform Files  ----------------------------  ## module.tf  …",
          "azurerm_custom_role_definitions: ## module.tf.tfvars  > :information_source: If no scope or assignable_scopes are defined then the cu…",
          "azurerm_custom_role_definitions: custom_role_definitions = [   {     role_definition_name = \"CUSTOM - App Settings Reader - tf-testin…",
          "azurerm_custom_role_definitions: ## variables.tf  ``` variable \"deploy_custom_roles\" {   type        = bool   default     = false   d…",
          "azurerm_custom_role_definitions: provider \"azurerm\" {   features {}   resource_provider_registrations = \"none\" } ```  ---------------…",
          "azurerm_custom_role_definitions: ## Modules  No modules.    ## Resources  | Name | Type | |------|------| | [azurerm_role_definition.…",
          "azurerm_custom_role_definitions: ## Inputs  | Name | Description | Type | Default | Required | |------|-------------|------|---------…",
          "azurerm_custom_role_definitions: ## Outputs  | Name | Description | |------|-------------| | <a name=\"output_role_definition_ids\"></a…",
          "azurerm_custom_role_definitions: # Releases  ## v1.0.0 - 16/10/2023  * Initial release  ## v1.0.1 - 02/02/2024  * Bump azurerm provid…",
          "azurerm_custom_role_definitions: ## v1.0.5 - 31/05/2024  * Dependencies updated - Provider versions updated  ## v1.0.6 - 25/06/2024  …",
          "azurerm_custom_role_definitions: ## v1.0.10 - 25/10/2024  * Dependencies updated - Provider versions updated  ## v1.0.11 - 25/11/2024…",
          "azurerm_custom_role_definitions: # Infra Team Test  This example creates two custom role definitions, `CUSTOM - App Settings Reader` …",
          "azurerm_custom_role_definitions: ## Providers  No providers.  ## Modules  | Name | Source | Version | |------|--------|---------| | <…",
          "azurerm_custom_role_definitions: ## Resources  No resources.  ## Inputs  | Name | Description | Type | Default | Required | |------|-…",
          "azurerm_custom_role_definitions: ## Outputs  No outputs. <!-- END_TF_DOCS -->…"
         ],
         "marker": {
          "color": "hsl(55,60%,50%)",
          "size": 8
         },
         "mode": "markers",
         "name": "azurerm_custom_role_definitions",
         "type": "scatter",
         "x": {
          "bdata": "ZQZcQof5A0JRDkBCYEVOQcYOS0F+g19AANWJwPcfZMFdxBHBwRXPQL5xl0FyHWvB7HmPwUSqZUHoKs9B3a/JQW7kqUH02bZB/UprwatLJcE=",
          "dtype": "f4"
         },
         "y": {
          "bdata": "4oRrQYWXi8EMfKXAqg7pP4x20D9//0nBIVAxwWU+u0G4X45AKziLQTDqEEK/oNNB6jM0QjumT8K+n0HCtZU/wn3PXkEA/ARCP4rTQcwAPEI=",
          "dtype": "f4"
         }
        },
        {
         "hoverinfo": "text",
         "hovertext": [
          "azurerm_dashboard_grafana: | **Build Status** | **Latest Version** | **Date** | |:-----------------|:-------------------|:-----…",
          "azurerm_dashboard_grafana: To see more available Axso services please see **[Production Ready Services](https://dev.azure.com/A…",
          "azurerm_dashboard_grafana: # INDEX  ----------------------------  1. [Azure Managed Grafana Configuration](#azure-managed-grafa…",
          "azurerm_dashboard_grafana: ## Service Description  ----------------------------  Azure Managed Grafana is a data visualization …",
          "azurerm_dashboard_grafana: ---------------------------- This module will deploy the following azurerm resources:  - azurerm_mon…",
          "azurerm_dashboard_grafana: If you already have an Azure Monitor workspace, you can link it to Grafana. If not, an Azure Monitor…",
          "azurerm_dashboard_grafana: # Terraform Files  ----------------------------   ## module.tf  ```hcl  module \"axso_dashboard_grafa…",
          "azurerm_dashboard_grafana: resource_group_name                             = var.resource_group_name   location                …",
          "azurerm_dashboard_grafana: }  ```  ## module.tf.tfvars  ```hcl…",
          "azurerm_dashboard_grafana: resource_group_name                             = \"axso-np-appl-ssp-test-rg\" location               …",
          "azurerm_dashboard_grafana: ```  ## variables.tf  ```hcl  variable \"project_name\" {   type        = string   default     = \"etoo…",
          "azurerm_dashboard_grafana: variable \"resource_group_name\" {   type        = string   default     = \"axso-np-appl-<project-name>…",
          "azurerm_dashboard_grafana: variable \"location\" {   type        = string   default     = \"west europe\"   description = \"(Require…",
          "azurerm_dashboard_grafana: variable \"pe_subnet_name\" {   type        = string   description = \"The subnet name, used in data so…",
          "azurerm_dashboard_grafana: }  variable \"network_resource_group_name\" {   type        = string   description = \"The existing cor…",
          "azurerm_dashboard_grafana: variable \"grafana_major_version\" {   type        = string   default     = \"10\"   description = \"The …",
          "azurerm_dashboard_grafana: }  variable \"zone_redundancy_enabled\" {   type        = bool   default     = true   description = \"I…",
          "azurerm_dashboard_grafana: }  variable \"identity_type\" {   type        = string   default     = \"SystemAssigned\"   description …",
          "azurerm_dashboard_grafana: }  variable \"smtp_enable\" {   type        = bool   default     = false   description = \"Indicates wh…",
          "azurerm_dashboard_grafana: }  variable \"viewer_groups\" {   type        = list(string)   default     = []   description = \"The l…",
          "azurerm_dashboard_grafana: provider \"azurerm\" {   features {}   resource_provider_registrations = \"none\" } ```  ---------------…",
          "azurerm_dashboard_grafana: ## Providers  | Name | Version | |------|---------| | <a name=\"provider_azuread\"></a> [azuread](#pro…",
          "azurerm_dashboard_grafana: | Name | Type | |------|------| | [azurerm_dashboard_grafana.dashboard_grafana](https://registry.ter…",
          "azurerm_dashboard_grafana: ## Inputs…",
          "azurerm_dashboard_grafana: | Name | Description | Type | Default | Required | |------|-------------|------|---------|:--------:…",
          "azurerm_dashboard_grafana: ## Outputs…",
          "azurerm_dashboard_grafana: | Name | Description | |------|-------------| | <a name=\"output_azurerm_dashboard_grafana_id\"></a> […",
          "azurerm_dashboard_grafana: # Releases  ## v1.0.0 - 14/03/2024  * Initial release  ## v1.0.1 - 23/04/2024  * Dependencies update…",
          "azurerm_dashboard_grafana: ## v1.0.5 - 24/06/2024  * Dependencies updated - Provider versions updated  ## v1.0.6 - 02/07/2024  …",
          "azurerm_dashboard_grafana: * Dependencies updated - Provider versions updated  ## v1.1.0 - 08/11/2024  * ReadmeV2  ## v1.1.1 - …",
          "azurerm_dashboard_grafana: ## v1.2.1 - 26/02/2025  * Dependencies updated - Provider versions updated  ## v1.3.0 - 13/03/2025  …",
          "azurerm_dashboard_grafana: # Infra Team Test  <!-- BEGIN_TF_DOCS --> ## Requirements  | Name | Version | |------|---------| | <…",
          "azurerm_dashboard_grafana: ## Providers  No providers.  ## Modules  | Name | Source | Version | |------|--------|---------| | <…",
          "azurerm_dashboard_grafana: | Name | Description | Type | Default | Required | |------|-------------|------|---------|:--------:…",
          "azurerm_dashboard_grafana: ## Outputs  No outputs. <!-- END_TF_DOCS -->…"
         ],
         "marker": {
          "color": "hsl(63,60%,50%)",
          "size": 8
         },
         "mode": "markers",
         "name": "azurerm_dashboard_grafana",
         "type": "scatter",
         "x": {
          "bdata": "1bdnQiFYA0IHJDlCeYTWQTNOrkExoAZBRVtdQBmEzMEFbvfANLcUwnygQsHFT4rBfZ2Qwd/ijMGi583BsXrUwU+U0MHrNd/BPHPawWwxI8ETHtVAA4V2QZAzpb9egV5Bt7ACwl89B0HtMJjBdil6Qa+g3kGKWPJBHYnMQXSXtkG/m8dBj68Cwo/C9cA=",
          "dtype": "f4"
         },
         "y": {
          "bdata": "K2BQQZD7m8Fks0XAPamtQO1U5T9vjJTB1VAzwSa6wsFv9W7BLVFjwTUvGcHoeo1AKm2XwLFfx7+0EUbBuMBBwVgcWsFQLV3BU9tawTNwnUDiKZBBQcX8Qdd8B0K1TFVC5lTUQUMRY0KXjR1CNzY8wvRaQsLlTkXCpw0vwkk1iUGBG/xBh1DUQbcqP0I=",
          "dtype": "f4"
         }
        },
        {
         "hoverinfo": "text",
         "hovertext": [
          "azurerm_databricks (1): | **Build Status**      | **Latest Version** | **Date** | |:----------------------|:----------------…",
          "azurerm_databricks (1): To see more available Axso services please see **[Production Ready Services](https://dev.azure.com/A…",
          "azurerm_databricks (1): # INDEX  ----------------------------  1. [Azure Databricks Configuration](#azure-databricks-configu…",
          "azurerm_databricks (1): ## Service Description  ----------------------------  Azure Databricks is a unified, open analytics …",
          "azurerm_databricks (1): ---------------------------- This module will deploy the following azurerm resources:  - azurerm_dat…",
          "azurerm_databricks (1): ----------------------------  It is assumed that the following resources already exists:  - Resource…",
          "azurerm_databricks (1): ## Axso Naming convention example  ----------------------------  The naming convention is derived fr…",
          "azurerm_databricks (1): module \"adb\" {   source                              = \"git::ssh://git@ssh.dev.azure.com/v3/Axpo-AXS…",
          "azurerm_databricks (1): ```  ## module.tf.tfvars  ```hcl…",
          "azurerm_databricks (1): location                            = \"West Europe\" environment                         = \"dev\" proj…",
          "azurerm_databricks (1): ```  ## variables.tf  ```hcl  variable \"location\" {   type        = string   description = \"The defa…",
          "azurerm_databricks (1): variable \"subscription\" {   type        = string   description = \"The short name of the subscription…",
          "azurerm_databricks (1): variable \"identity_type\" {   type        = string   default     = \"UserAssigned\"   description = \"(R…",
          "azurerm_databricks (1): variable \"umids_names\" {   type        = list(string)   description = \"(Optional) The list of User A…",
          "azurerm_databricks (1): variable \"virtual_network_name\" {   type        = string   description = \"The name of the vnet where…",
          "azurerm_databricks (1): variable \"key_vault_name\" {   type        = string   description = \"The name of the key vault where …",
          "azurerm_databricks (1): }  variable \"storage_account_sku_name\" {   type        = string   description = \"Storage account SKU…",
          "azurerm_databricks (1): ```  ----------------------------  # Input Description  <!-- BEGIN_TF_DOCS --> ## Requirements  | Na…",
          "azurerm_databricks (1): ## Providers  | Name | Version | |------|---------| | <a name=\"provider_azuread\"></a> [azuread](#pro…",
          "azurerm_databricks (1): | Name | Type | |------|------| | [azurerm_databricks_access_connector.databricks_access_connector](…",
          "azurerm_databricks (1): ## Inputs…",
          "azurerm_databricks (1): | Name | Description | Type | Default | Required | |------|-------------|------|---------|:--------:…",
          "azurerm_databricks (1): ## Outputs  No outputs. <!-- END_TF_DOCS -->…",
          "azurerm_databricks (1): # Releases  ## v1.0.0 - dd/mm/yyyy  * Initial release…",
          "azurerm_databricks (1): # Infra Team Test  This is a test for the Infra team to check the quality of the code and the docume…",
          "azurerm_databricks (1): <!-- BEGIN_TF_DOCS --> ## Requirements  No requirements.  ## Providers  No providers.  ## Modules  |…",
          "azurerm_databricks (1): | Name | Description | Type | Default | Required | |------|-------------|------|---------|:--------:…",
          "azurerm_databricks (1): ## Outputs  No outputs. <!-- END_TF_DOCS -->…"
         ],
         "marker": {
          "color": "hsl(70,60%,50%)",
          "size": 8
         },
         "mode": "markers",
         "name": "azurerm_databricks (1)",
         "type": "scatter",
         "x": {
          "bdata": "XH5bQtJeAEIpBzhCmhTYQYvwqkGs7XZBX0DxQA21V0AnNPTA2yUXwodmFcE2sZzBrsPYwUkYucF2o5PBUY7PwRNKH8GWHitBEXVnQfUsJL+9YVVBQV7owSqk2MDkhFlBHua1QeszvkFCXujBiscvwQ==",
          "dtype": "f4"
         },
         "y": {
          "bdata": "z1tdQSi9ksF5T2/AHCeUQO2yH0COR53B7JifwX2tqcCJT2zBLghwwYDwucBBFBTBf1vmQOmR90DI36m+MQOVwLOwCz9Y6ppBUBbzQY8BBEJoYFpCWXzbQfvNQ0LN7zHCa8OiQb5R7UF/fNtB1kxDQg==",
          "dtype": "f4"
         }
        },
        {
         "hoverinfo": "text",
         "hovertext": [
          "azurerm_data_factory: | **Build Status**      | **Latest Version** | **Date** | |:----------------------|:----------------…",
          "azurerm_data_factory: To see more available Axso services please see **[Production Ready Services](https://dev.azure.com/A…",
          "azurerm_data_factory: # INDEX  ----------------------------  1. [Data Factory Configuration](#data-factory-configuration) …",
          "azurerm_data_factory: ## Service Description  ----------------------------  Azure Data Factory is the cloud-based ETL and …",
          "azurerm_data_factory: ---------------------------- This module will deploy the following azurerm resources:  - azurerm_dat…",
          "azurerm_data_factory: - Resource Group - Virtual Network  ## Axso Naming convention example  ---------------------------- …",
          "azurerm_data_factory: ## Azure data factory  - **NonProd:** `axso-np-appl-cloudinfra-dev-adf` - **Prod:** `axso-p-appl-clo…",
          "azurerm_data_factory: # Terraform Files  ----------------------------  ## module.tf  ```hcl  module \"axso_data_factory\" { …",
          "azurerm_data_factory: identity_type = var.identity_type   umids_names   = var.umids_names    managed_virtual_network_enabl…",
          "azurerm_data_factory: purview_id = var.purview_id    azure_integration_runtimes       = var.azure_integration_runtimes   s…",
          "azurerm_data_factory: resource_group_name                 = \"axso-np-appl-ssp-test-rg\" location                           …",
          "azurerm_data_factory: global_parameters = [   {     name  = \"param6\"     type  = \"String\"     value = \"some string\"   },  …",
          "azurerm_data_factory: vsts_configuration = null  purview_id = null  azure_integration_runtimes = [   {     name           …",
          "azurerm_data_factory: self_hosted_integration_runtimes = [   {     name        = \"SelfHostedIntegrationRuntime1\"     descr…",
          "azurerm_data_factory: variable \"environment\" {   type        = string   description = \"The environment. e.g. dev, qa, uat,…",
          "azurerm_data_factory: variable \"key_vault_name\" {   description = \"Name of the keyVault\"   default     = null }  variable …",
          "azurerm_data_factory: variable \"umids_names\" {   type        = list(string)   description = \"(Optional) The list of User A…",
          "azurerm_data_factory: }   variable \"virtual_network_resource_group_name\" {   type        = string   description = \"The nam…",
          "azurerm_data_factory: variable \"global_parameters\" {   description = \"A list of global parameters to be created.\"   type =…",
          "azurerm_data_factory: variable \"vsts_configuration\" {   description = \"VSTS configuration\"   type = object({     account_n…",
          "azurerm_data_factory: variable \"azure_integration_runtimes\" {   description = \"A list of Azure Integration Runtimes for Da…",
          "azurerm_data_factory: variable \"self_hosted_integration_runtimes\" {   description = \"A list of Azure Integration Runtimes …",
          "azurerm_data_factory: ```  <!-- BEGIN_TF_DOCS --> ### main.tf  ```hcl terraform {   backend \"azurerm\" {}    required_provi…",
          "azurerm_data_factory: ----------------------------  # Input Description  ## Requirements  | Name | Version | |------|-----…",
          "azurerm_data_factory: | Name | Type | |------|------| | [azurerm_data_factory.data_factory](https://registry.terraform.io/…",
          "azurerm_data_factory: ## Inputs…",
          "azurerm_data_factory: | Name | Description | Type | Default | Required | |------|-------------|------|---------|:--------:…",
          "azurerm_data_factory: ## Outputs  | Name | Description | |------|-------------| | <a name=\"output_data_factory_id\"></a> [d…",
          "azurerm_data_factory: # Releases  ## v1.0.0 - 20/09/2024  * Initial release  ## v1.0.1 - 25/09/2024  * Dependencies update…",
          "azurerm_data_factory: ## v1.0.5 - 25/01/2025  * Dependencies updated - Provider versions updated  ## v1.0.6 - 25/02/2025  …",
          "azurerm_data_factory: # Infra Team Test  This is a test for the Infra team to check the quality of the code and the docume…",
          "azurerm_data_factory: ## Providers  No providers.  ## Modules  | Name | Source | Version | |------|--------|---------| | <…",
          "azurerm_data_factory: | Name | Description | Type | Default | Required | |------|-------------|------|---------|:--------:…",
          "azurerm_data_factory: ## Outputs  No outputs. <!-- END_TF_DOCS -->…"
         ],
         "marker": {
          "color": "hsl(78,60%,50%)",
          "size": 8
         },
         "mode": "markers",
         "name": "azurerm_data_factory",
         "type": "scatter",
         "x": {
          "bdata": "iRdcQkv2/0F95ThC6nzZQdsguEHVl0hBfTWPQJ7SI0AkPdDBpBQYwWcmF8JwGh7CzUcewuSTVcHrNLTBip7KwTgTt8GEPJDBCMzxweldwcFXdFLBbqhRwdXerz/xTzdB54KZPrTfc0HOdPPB1DWMwT/0fkHm7sdBDLivQfXZwEHOdPPB9RcEwQ==",
          "dtype": "f4"
         },
         "y": {
          "bdata": "y2JeQeBcjcGdyYXAwOGRQFlGM0AwfqfBx0OLwUotOcF2hc7BPXWEwT3RZ8HtHRzB5OsbwZ+lIcEqEZzAaHdbwD6j8kAPxC69iv7DPyHifMBEQSpBEd0pQTsqh0EmhZFBLpoDQrElVULnI+tBNYknQsm6O8I5zDrCRguQQWlEAELnI+tBcC4+Qg==",
          "dtype": "f4"
         }
        },
        {
         "hoverinfo": "text",
         "hovertext": [
          "azurerm_data_protection_backup: | **Build Status**      | **Latest Version** | **Date** | |:----------------------|:----------------…",
          "azurerm_data_protection_backup: To see more available Axso services please see **[Production Ready Services](https://dev.azure.com/A…",
          "azurerm_data_protection_backup: # INDEX  ----------------------------  1. [Azure Backup vault Configuration](#azure-backup-vault-con…",
          "azurerm_data_protection_backup: ## Service Description  ---------------------------- A Backup vault is a storage entity in Azure tha…",
          "azurerm_data_protection_backup: This module allow you to create backup for:  - Azure Disk(VMs) - Storage acocunts blob containers - …",
          "azurerm_data_protection_backup: - azurerm_data_protection_backup_vault - azurerm_data_protection_backup_policy_kubernetes_cluster - …",
          "azurerm_data_protection_backup: ## Pre-requisites  ---------------------------- >**Note:**   > Your resources must exist before you …",
          "azurerm_data_protection_backup: ## Axso Naming convention example  ----------------------------  The naming convention is derived fr…",
          "azurerm_data_protection_backup: module \"data_protection_backup_vault\" {   source                                    = \"git::ssh://gi…",
          "azurerm_data_protection_backup: ```  ## module.tf.tfvars  ```hcl subscription        = \"np\" project_name        = \"infra\" environmen…",
          "azurerm_data_protection_backup: snapshot_resource_group_id = \"/subscriptions/77116f35-6e77-4f5f-b82f-49e50812cc75/resourceGroups/axs…",
          "azurerm_data_protection_backup: blob_storage_backup_policy = [{   blob_storage_backup_policy_name        = \"blob-storage-backup\"   o…",
          "azurerm_data_protection_backup: #Disk  managed_disk_backup_config = [{   managed_disk_backup_policy_name = \"managed-disk-backup\"   d…",
          "azurerm_data_protection_backup: managed_disk_backup_policy = [{   managed_disk_backup_policy_name = \"managed-disk-backup\"   backup_r…",
          "azurerm_data_protection_backup: }    }] }]  #AKS  kubernetes_cluster_backup_policy = [   {     kubernetes_cluster_backup_policy_name…",
          "azurerm_data_protection_backup: retention_rule = [       {         name     = \"retention-FirstOfWeek\"         priority = 1         c…",
          "azurerm_data_protection_backup: kubernetes_cluster_backup_config = [   // {   //   kubernetes_cluster_backup_policy_name = \"k8s-clus…",
          "azurerm_data_protection_backup: kubernetes_cluster_storage_account_config = {   kubernetes_cluster_backup_storage_account_name      …",
          "azurerm_data_protection_backup: }  #PSQL Flexible Server psql_flexible_server_backup_config = [   # {   #   psql_flexible_server_bac…",
          "azurerm_data_protection_backup: time_zone = \"Romance Standard Time\"     default_retention_rule = {       lifecycle = {         durat…",
          "azurerm_data_protection_backup: ```  ## variables.tf  ```hcl # Purpose: Define the variables that will be used in the terraform conf…",
          "azurerm_data_protection_backup: variable \"environment\" {   type        = string   description = \"The environment. e.g. dev, qa, uat,…",
          "azurerm_data_protection_backup: variable \"datastore_type\" {   type        = string   default     = \"VaultStore\"   description = <<EO…",
          "azurerm_data_protection_backup: variable \"redundancy\" {   type        = string   default     = \"GeoRedundant\"   description = \"(Requ…",
          "azurerm_data_protection_backup: }  variable \"retention_duration_in_days\" {   type        = number   default     = 14   description =…",
          "azurerm_data_protection_backup: }  variable \"snapshot_resource_group_id\" {   type        = string   description = \"The id of the res…",
          "azurerm_data_protection_backup: variable \"blob_storage_backup_policy\" {   type = list(object({     blob_storage_backup_policy_name  …",
          "azurerm_data_protection_backup: Attributes: - **blob_storage_backup_policy_name** (Required): The name of the backup policy. Changin…",
          "azurerm_data_protection_backup: Note: Changing any of these attributes forces a new Backup Policy to be created for the specified bl…",
          "azurerm_data_protection_backup: description = <<EOF Specifies the configuration for blob storage backups. This variable defines a li…",
          "azurerm_data_protection_backup: Attributes: - **storage_account_name** (Required): The name of the blob storage account. This must b…",
          "azurerm_data_protection_backup: Default: An empty list, meaning no backup configurations are defined unless explicitly specified.  N…",
          "azurerm_data_protection_backup: variable \"managed_disk_backup_policy\" {   type = list(object({     managed_disk_backup_policy_name =…",
          "azurerm_data_protection_backup: Attributes: - **managed_disk_backup_policy_name** (Required): The name of the backup policy. Changin…",
          "azurerm_data_protection_backup: Note: Changing any of these attributes forces a new Backup Policy to be created for the specified ma…",
          "azurerm_data_protection_backup: description = <<EOF Specifies the configuration for managed disk backups. This variable defines a li…",
          "azurerm_data_protection_backup: Attributes: - **disk_name** (Required): The name of the managed disk. This must be unique within the…",
          "azurerm_data_protection_backup: Default: An empty list, meaning no backup configurations are defined unless explicitly specified.  N…",
          "azurerm_data_protection_backup: variable \"kubernetes_cluster_backup_policy\" {   type = list(object({     kubernetes_cluster_backup_p…",
          "azurerm_data_protection_backup: Attributes: - **kubernetes_cluster_backup_policy_name** (Required): The name of the backup policy. C…",
          "azurerm_data_protection_backup: Note: Changing any of these attributes forces a new Backup Policy to be created for the specified Ku…",
          "azurerm_data_protection_backup: variable \"kubernetes_cluster_backup_config\" {   type = list(object({     resource_group_name        …",
          "azurerm_data_protection_backup: ### Attributes: - **resource_group_name** (Required): The name of the Azure Resource Group where the…",
          "azurerm_data_protection_backup: ### Backup Data Source Parameters: - **excluded_namespaces** (Required): A list of namespaces to exc…",
          "azurerm_data_protection_backup: ### Default: The default value is an empty list (`[]`), meaning no backup configurations are defined…",
          "azurerm_data_protection_backup: variable \"kubernetes_cluster_storage_account_config\" {   type = object({     kubernetes_cluster_back…",
          "azurerm_data_protection_backup: description = <<EOF Specifies the configuration for Kubernetes cluster storage accounts used for bac…",
          "azurerm_data_protection_backup: Attributes: - **kubernetes_cluster_backup_storage_account_name** (Required): The name of the Azure S…",
          "azurerm_data_protection_backup: Default: An empty object, indicating no storage account configurations are defined unless explicitly…",
          "azurerm_data_protection_backup: description = <<EOF Specifies the configuration for PSQL Flexible Server backups. This variable defi…",
          "azurerm_data_protection_backup: Attributes: - **resource_group_name** (Required): The name of the Azure Resource Group where the PSQ…",
          "azurerm_data_protection_backup: Default: An empty list, meaning no backup configurations are defined unless explicitly specified.  N…",
          "azurerm_data_protection_backup: variable \"psql_flexible_server_backup_policy\" {   type = list(object({     psql_flexible_server_back…",
          "azurerm_data_protection_backup: Attributes: - **psql_flexible_server_backup_policy_name** (Required): The name of the backup policy.…",
          "azurerm_data_protection_backup: Note: Changing any of these attributes forces a new Backup Policy to be created for the specified PS…",
          "azurerm_data_protection_backup: provider \"azurerm\" {   features {}   resource_provider_registrations = \"none\" }  ```  --------------…",
          "azurerm_data_protection_backup: ## Providers  | Name | Version | |------|---------| | <a name=\"provider_azuread\"></a> [azuread](#pro…",
          "azurerm_data_protection_backup: | Name | Type | |------|------| | [azurerm_data_protection_backup_instance_blob_storage.data_protect…",
          "azurerm_data_protection_backup: ## Inputs…",
          "azurerm_data_protection_backup: | Name | Description | Type | Default | Required | |------|-------------|------|---------|:--------:…",
          "azurerm_data_protection_backup: ## Outputs  No outputs. <!-- END_TF_DOCS -->…",
          "azurerm_data_protection_backup: # Releases  ## v1.0.0 - 19/12/2024  * Initial release  ## v1.0.1 - 23/12/2024  * Dependencies update…",
          "azurerm_data_protection_backup: * Allow the creation of a blob container to store backup details if required  ## v2.0.0 - 27/03/2025…",
          "azurerm_data_protection_backup: # Infra Team Test  This is a test for the Infra team to check the quality of the code and the docume…",
          "azurerm_data_protection_backup: ## Providers  No providers.  ## Modules  | Name | Source | Version | |------|--------|---------| | <…",
          "azurerm_data_protection_backup: | Name | Description | Type | Default | Required | |------|-------------|------|---------|:--------:…",
          "azurerm_data_protection_backup: ## Outputs  No outputs. <!-- END_TF_DOCS -->…"
         ],
         "marker": {
          "color": "hsl(86,60%,50%)",
          "size": 8
         },
         "mode": "markers",
         "name": "azurerm_data_protection_backup",
         "type": "scatter",
         "x": {
          "bdata": "DB9YQgKcA0LkrDxCIOLaQerp00GIKGbADSB1QRGP6EDayHhAbsIIwX2nK8ImfC/CCWEtwiKzL8Lu3izCe6FAwgzxJ8K5biXCinswwn5YQMINX0bB3+uywVNq7MFvXwfCQ2sJwlsIi8G+LirCxGMfwrrhJ8K7ZDjCT3MhwovSOsLC+inCI78fwm9GKMLCpzjCphcjwqdjOcKskyjCQkEfwgnEMMLeCyTCB3chwqKPG8LXPTnC7PIfwsyYNcLBtx3CWaMiwnNOOcIMNiTCp2M5wl/fK8LnLSDCdNYmwFkX3UD4ZWtBS6E4wJO9TUFWlwvCSygMwQ2JhUE/F5xBZZe5QQ1hu0GzjwvCssEiwQ==",
          "dtype": "f4"
         },
         "y": {
          "bdata": "1w1yQT0Ek8GhdkHAmJ/yP8+KOkAtQQBCb/ilwbq8ocE50K3AAC4mwbjPpUAYAfJAbWSyQIf0zUAykeVA5MWtQGW82EApxMlAQNMQQd1BvUDgLBzBXD+ewM4niEAFWq5Av0QAQfbUsEDN9xZBSv6JQSEvL0FuEXBBndZrQVSwPEHOeR5BoYSJQQTzLkF9OG9BjFNrQfnkN0FBIA9B3sqGQbllREFLQARBSGVgQRhsUkHr0TZBZybqQF25dkF6qGlBJ3AnQTsCbkEr3XVB+eQ3QWZdF0ED04lBfjhhQfRjj0Hla+1BHIEAQjqAVkIos7hBekM9Qn5aP8KvO3TCk66YQeTHBUKotrhBswBHQg==",
          "dtype": "f4"
         }
        },
        {
         "hoverinfo": "text",
         "hovertext": [
          "azurerm_eventgrid: | **Build Status** | **Latest Version** | **Date** | |:-----------------|:-------------------|:-----…",
          "azurerm_eventgrid: To see more available Axso services please see **[Production Ready Services](https://dev.azure.com/A…",
          "azurerm_eventgrid: # INDEX ----------------------------  1. [Event Grid Domain Configuration](#event-grid-domain-config…",
          "azurerm_eventgrid: Azure Event Grid is a highly scalable, event-based service that enables real-time event processing a…",
          "azurerm_eventgrid: In Azure Event Grid, a domain is a logical container that represents a specific namespace or scope f…",
          "azurerm_eventgrid: These all resources will be deployed when using Eventgrid Domains module.   - azurerm_eventgrid_doma…",
          "azurerm_eventgrid: ## Axso Naming convention example ----------------------------  The naming convention is derived fro…",
          "azurerm_eventgrid: module \"azurerm_eventgrid_domains\" {   source                              = \"git::ssh://git@ssh.dev…",
          "azurerm_eventgrid: ```  ## module.tf.tfvars    ```hcl project_name        = \"cloudinfra\" subscription        = \"np\" env…",
          "azurerm_eventgrid: eventgrid_domain_config = [   {     eventgrid_domain_purpose = \"testdomain1\"     event_schema       …",
          "azurerm_eventgrid: ```  ## variables.tfvars  ```hcl   variable \"subscription\" {   type        = string   description = …",
          "azurerm_eventgrid: variable \"location\" {   type        = string   description = \"The Azure region where the resource gr…",
          "azurerm_eventgrid: variable \"virtual_network_resource_group_name\" {   type        = string   description = \"Vnet resour…",
          "azurerm_eventgrid: variable \"eventgrid_domain_config\" {   type = list(object({     eventgrid_domain_purpose = string   …",
          "azurerm_eventgrid: ```  <!-- BEGIN_TF_DOCS --> ### main.tf  ```hcl terraform {   backend \"azurerm\" {}    required_provi…",
          "azurerm_eventgrid: ----------------------------  # Input Description  ## Requirements  | Name | Version | |------|-----…",
          "azurerm_eventgrid: | Name | Type | |------|------| | [azurerm_eventgrid_domain.eventgrid_domains](https://registry.terr…",
          "azurerm_eventgrid: ## Inputs…",
          "azurerm_eventgrid: | Name | Description | Type | Default | Required | |------|-------------|------|---------|:--------:…",
          "azurerm_eventgrid: ## Outputs  No outputs. <!-- END_TF_DOCS -->…",
          "azurerm_eventgrid: # Releases ## v1.0.1 - 23/12/2024  * Dependencies updated - Provider versions updated…",
          "azurerm_eventgrid: # Infra Team Test  This is a test for the Infra team to check the quality of the code and the docume…",
          "azurerm_eventgrid: ## Providers  No providers.  ## Modules  | Name | Source | Version | |------|--------|---------| | <…",
          "azurerm_eventgrid: | Name | Description | Type | Default | Required | |------|-------------|------|---------|:--------:…",
          "azurerm_eventgrid: ## Outputs  No outputs. <!-- END_TF_DOCS -->…"
         ],
         "marker": {
          "color": "hsl(94,60%,50%)",
          "size": 8
         },
         "mode": "markers",
         "name": "azurerm_eventgrid",
         "type": "scatter",
         "x": {
          "bdata": "rN9cQpt46UHQADNCu5YWQlLYwUGyVb1Bi1vmQDGaS0DPNgLBSiwjwj5tNcHnNZjBALWOwf3dIsKYZOE/KvM/QRBhqT9ZcGFBrj/OwSud8cBYZXxBD5eyQb49s0G4Ps7BE0gbwQ==",
          "dtype": "f4"
         },
         "y": {
          "bdata": "nUtQQebdncHUKaTAXPr4viy1tz508Hg/l+qjwdc+x8ADszHBvmvXP05YHMH7B47AF++FPsjI3D9RbodBXBWUQSBECEJHiV5CsQ3SQWyfREKsJDfCXZ2bQbNBBELMDdJBK6g6Qg==",
          "dtype": "f4"
         }
        },
        {
         "hoverinfo": "text",
         "hovertext": [
          "azurerm_eventhub: | **Build Status** | **Latest Version** | **Date** | |:-----------------|:-------------------|:-----…",
          "azurerm_eventhub: To see more available Axso services please see **[Production Ready Services](https://dev.azure.com/A…",
          "azurerm_eventhub: # INDEX  ----------------------------  1. [Azure Event Hub Configuration](#azure-event-hub-configura…",
          "azurerm_eventhub: ## Service Description  ----------------------------  Azure Event Hubs is a cloud native data stream…",
          "azurerm_eventhub: ---------------------------- This module will deploy the following azurerm resources:  - azurerm_eve…",
          "azurerm_eventhub: **Construct EventHub Namespace:** `axso-${var.subscription}-appl-${var.project_name}-${var.environme…",
          "azurerm_eventhub: ```hcl module \"azurerm_eventhub\" {   source                      = \"git::ssh://git@ssh.dev.azure.com…",
          "azurerm_eventhub: ## module.tf.tfvars  ```hcl  location                    = \"West Europe\" environment                …",
          "azurerm_eventhub: ```  ## variables.tf  ```hcl  ## Common  variable \"location\" {   type        = string   default     …",
          "azurerm_eventhub: variable \"environment\" {   type        = string   description = \"The short name for the environment.…",
          "azurerm_eventhub: ## EventHub Variables  variable \"partition_count\" {   type        = number   description = \"The name…",
          "azurerm_eventhub: variable \"virtual_network_name\" {   type        = string   description = \"The name of the Virtual Ne…",
          "azurerm_eventhub: provider \"azurerm\" {   features {}   resource_provider_registrations = \"none\" } ```  ---------------…",
          "azurerm_eventhub: ## Modules  No modules.    ## Resources…",
          "azurerm_eventhub: | Name | Type | |------|------| | [azurerm_eventhub.eventhub](https://registry.terraform.io/provider…",
          "azurerm_eventhub: ## Inputs…",
          "azurerm_eventhub: | Name | Description | Type | Default | Required | |------|-------------|------|---------|:--------:…",
          "azurerm_eventhub: ## Outputs  No outputs. <!-- END_TF_DOCS -->…",
          "azurerm_eventhub: # Releases  ## v1.0.0 - 25/03/2024  * Initial release  ## v1.0.1 - 23/04/2024  * Dependencies update…",
          "azurerm_eventhub: ## v1.0.5 - 25/06/2024  * Dependencies updated - Provider versions updated  ## v1.0.6 - 25/07/2024  …",
          "azurerm_eventhub: ## v1.1.1 - 25/11/2024  * Dependencies updated - Provider versions updated  ## v1.1.2 - 25/12/2024  …",
          "azurerm_eventhub: # Infra Team Test  <!-- BEGIN_TF_DOCS --> ## Requirements  | Name | Version | |------|---------| | <…",
          "azurerm_eventhub: ## Resources  No resources.  ## Inputs…",
          "azurerm_eventhub: | Name | Description | Type | Default | Required | |------|-------------|------|---------|:--------:…",
          "azurerm_eventhub: ## Outputs  No outputs. <!-- END_TF_DOCS -->…"
         ],
         "marker": {
          "color": "hsl(102,60%,50%)",
          "size": 8
         },
         "mode": "markers",
         "name": "azurerm_eventhub",
         "type": "scatter",
         "x": {
          "bdata": "L2xdQrel+kEaqjRCTFrbQcXOuEGhf4dAqAYYQIrJBMH+6h3BaM+qwYM9isFxt1DBoVXOQPERfUFAycQ/WXBhQVJW3sEkEhHBWBZ7Qbis3kEquNpB6iukQdWfgUFSVt7BJBIRwQ==",
          "dtype": "f4"
         },
         "y": {
          "bdata": "xTZMQZHAkcFKaZHAOFOVQJ347z8yfrHB/BvlwNw2FcFw6evA6f7LwIcNE8ADIsM/1h2LQYFPF0J0BAhCR4leQjiR4UHkxEZCa/w7wrKQQsIQTT3CThqKQe/+KkI4keFB5MRGQg==",
          "dtype": "f4"
         }
        },
        {
         "hoverinfo": "text",
         "hovertext": [
          "azurerm_key_vault (1): | **Build Status** | **Latest Version** | **Date** | |:---------------- |:-------------------|:-----…",
          "azurerm_key_vault (1): To see more available Axso services please see **[Production Ready Services](https://dev.azure.com/A…",
          "azurerm_key_vault (1): # INDEX  ----------------------------  1. [Key Vault Configuration](#key-vault-configuration) 2. [Te…",
          "azurerm_key_vault (1): ## Service Description  ---------------------------- This module deploys a Key Vault in Azure with a…",
          "azurerm_key_vault (1): - Secrets Management - Azure Key Vault can be used to Securely store and tightly control access to t…",
          "azurerm_key_vault (1): It give you the option to add groups as admins (Key Vault Administrator) and readers(Key Vault Secre…",
          "azurerm_key_vault (1): ----------------------------  These all resources will be deployed when using Key Vault module.  - a…",
          "azurerm_key_vault (1): ## Pre-requisites  ----------------  - Resource Group - Virtual Network - Long Analytics Workspace (…",
          "azurerm_key_vault (1): **CL-AXSO-AZ-APPL-TEST-admin** group will be assigned to the Key vault as Key Vault Administrator an…",
          "azurerm_key_vault (1): The keyvault created in the example, will have only private access  # Terraform Files  -------------…",
          "azurerm_key_vault (1): module \"axso_key_vault\" {   source                        = \"git::ssh://git@ssh.dev.azure.com/v3/Axp…",
          "azurerm_key_vault (1): ```  ## module.tfvars  ```hcl  environment         = \"dev\" project_name        = \"prj\" location     …",
          "azurerm_key_vault (1): virtual_network_name          = \"vnet-cloudinfra-nonprod-axso-e3og\" pe_subnet_name                = …",
          "azurerm_key_vault (1): # Specify Network ACLs network_acls = {   bypass         = \"AzureServices\"   default_action = \"Deny\"…",
          "azurerm_key_vault (1): variable \"environment\" {   type        = string   description = \"The environment. e.g. dev, qa, uat,…",
          "azurerm_key_vault (1): variable \"sku_name\" {   description = \"The Name of the SKU used for this Key Vault. Possible values …",
          "azurerm_key_vault (1): variable \"enabled_for_disk_encryption\" {   description = \"Whether Azure Disk Encryption is permitted…",
          "azurerm_key_vault (1): variable \"admin_groups\" {   description = \"Name of the groups that can do all operations on all keys…",
          "azurerm_key_vault (1): variable \"public_network_access_enabled\" {   description = \"Whether the Key Vault is available from …",
          "azurerm_key_vault (1): variable \"network_acls\" {   description = \"Object with attributes: `bypass`, `default_action`, `ip_r…",
          "azurerm_key_vault (1): variable \"pe_subnet_name\" {   type        = string   description = \"The subnet name, used in data so…",
          "azurerm_key_vault (1): variable \"soft_delete_retention_days\" {   description = \"The number of days that items should be ret…",
          "azurerm_key_vault (1): }  variable \"log_analytics_workspace_name\" {   description = \"The name of the Log Analytics workspac…",
          "azurerm_key_vault (1): ```  <!-- BEGIN_TF_DOCS --> ### main.tf  ```hcl terraform {   backend \"azurerm\" {}    required_provi…",
          "azurerm_key_vault (1): provider \"azuread\" {} ```  ----------------------------  # Input Description  ## Requirements  | Nam…",
          "azurerm_key_vault (1): ## Providers  | Name | Version | |------|---------| | <a name=\"provider_azuread\"></a> [azuread](#pro…",
          "azurerm_key_vault (1): | Name | Type | |------|------| | [azurerm_key_vault.keyvault](https://registry.terraform.io/provide…",
          "azurerm_key_vault (1): ## Inputs…",
          "azurerm_key_vault (1): | Name | Description | Type | Default | Required | |------|-------------|------|---------|:--------:…",
          "azurerm_key_vault (1): ## Outputs  | Name | Description | |------|-------------| | <a name=\"output_key_vault_id\"></a> [key\\…",
          "azurerm_key_vault (1): # Releases  ## v1.0.0 - 24/10/2023  * Initial release  ## v1.1.0 - 05/12/2023  * Fix Azure policies …",
          "azurerm_key_vault (1): * Initial release  ## v1.1.0 - 05/12/2023  * Fix Azure policies requirements  ## v2.0.0 - 16/02/2024…",
          "azurerm_key_vault (1): ## v2.1.0 - 04/03/2024  * Naming convention changes  ## v2.2.0 - 18/04/2024  * Naming convention cha…",
          "azurerm_key_vault (1): ## v2.2.4 - 31/05/2024  * Dependencies updated - Provider versions updated  ## v2.2.5 - 24/06/2024  …",
          "azurerm_key_vault (1): ## v2.3.2 - 24/09/2024  * Dependencies updated - Provider versions updated  ## v3.0.0 - 28/10/2024  …",
          "azurerm_key_vault (1): ## v3.1.0 - 05/02/2025  * Remove testing random string * Update AD group naming convention  ## v3.1.…",
          "azurerm_key_vault (1): # Infra Team Test  This template deploys a key vault and is linked with ADO pipelines in `TIM-INFRA-…",
          "azurerm_key_vault (1): ## Providers  No providers.  ## Modules  | Name | Source | Version | |------|--------|---------| | <…",
          "azurerm_key_vault (1): | Name | Description | Type | Default | Required | |------|-------------|------|---------|:--------:…",
          "azurerm_key_vault (1): ## Outputs  No outputs. <!-- END_TF_DOCS -->…"
         ],
         "marker": {
          "color": "hsl(110,60%,50%)",
          "size": 8
         },
         "mode": "markers",
         "name": "azurerm_key_vault (1)",
         "type": "scatter",
         "x": {
          "bdata": "rOFdQrWXBEKl0zxCVoPlQdRj70HIsKxBVgquQVljgkEXwru/YFHFv0sYc0C01t/AUHkVwmLHW8HFH7rBEn3SwRY41sEBjvvB3fLBwZcPgMEn243BO4AIwm5WDcGxlIu/G88NQfgybUFwaVa/rwVsQdfHA8LVC5PBL4lqQVjSg0HfdLBB5ib5QViw/UGA3/1BYj64QUk4vkG+zAPCtiISwQ==",
          "dtype": "f4"
         },
         "y": {
          "bdata": "/lxAQc/0n8GM9UnAp1ojP+0znL470chAwpqsQOOqosE+PG3BEVtnwYALrcAP5BXBTzZcwYN/vMD2carAiIu2wCKWtsBen2DBhA4AQCN0ScClxH2/VwgFQSibJEAdlFZBAs6oQXG97UEfnQFC501aQsiX3EHZNyRCCw1Hwkj3U8Kl7VLCsgJCwonGUMJ71FDCxtxlQWzRA0KsqdxBKWI6Qg==",
          "dtype": "f4"
         }
        },
        {
         "hoverinfo": "text",
         "hovertext": [
          "azurerm_kubernetes_cluster: | **Build Status**                                                                                  …",
          "azurerm_kubernetes_cluster: To see more available Axso services please see **[Production Ready Services](https://dev.azure.com/A…",
          "azurerm_kubernetes_cluster: # INDEX  ----------------------------  1. [Azure Kubernetes Service Configuration](#azure-kubernetes…",
          "azurerm_kubernetes_cluster: ## Service Description  ----------------------------  Azure Kubernetes Service (AKS) is a managed Ku…",
          "azurerm_kubernetes_cluster: ---------------------------- This module will deploy the following azurerm resources:  - azurerm_use…",
          "azurerm_kubernetes_cluster: ----------------------------  It is assumed that the following resources already exists:  - Resource…",
          "azurerm_kubernetes_cluster: - **Construct:** `\"axso-${var.subscription}-appl-${var.project_name}-${var.environment}-aks\"` - **No…",
          "azurerm_kubernetes_cluster: # AKS Cluster   resource_group_name = var.resource_group_name   location            = var.location  …",
          "azurerm_kubernetes_cluster: # AKS Standard settings   kubernetes_version                  = var.kubernetes_version   support_pla…",
          "azurerm_kubernetes_cluster: # Workload Identity   oidc_issuer_enabled          = var.oidc_issuer_enabled   workload_identity_ena…",
          "azurerm_kubernetes_cluster: # Default node pool      system_node_pool_name       = var.system_node_pool_name   temporary_name_fo…",
          "azurerm_kubernetes_cluster: pool_names = var.pool_names    # AKS authentication and authorization   azuread_group_readers_names …",
          "azurerm_kubernetes_cluster: # Monitoring   aks_loga_name = var.aks_loga_name    # ACR - AKS Identity will have AcrPull RBAC on A…",
          "azurerm_kubernetes_cluster: #Container Insights   container_Insights_data_collection_interval                     = var.containe…",
          "azurerm_kubernetes_cluster: # Grafana   grafana_enabled                   = var.grafana_enabled   pe_subnet_name                …",
          "azurerm_kubernetes_cluster: #Prometheus   enable_prometheus                                     = var.enable_prometheus   defaul…",
          "azurerm_kubernetes_cluster: #Backup   enable_azure_backup                       = var.enable_azure_backup   datastore_type      …",
          "azurerm_kubernetes_cluster: }  ```  ## module.tf.tfvars  ```hcl  resource_group_name = \"axso-np-appl-ssp-test-rg\"  location = \"w…",
          "azurerm_kubernetes_cluster: # Kubernetes clustrer standard settings kubernetes_version           = \"1.30.5\" support_plan        …",
          "azurerm_kubernetes_cluster: service_accounts = [{   name                            = \"test\"   namespace                       =…",
          "azurerm_kubernetes_cluster: workload_assigned_identities = [   {     workload_assigned_identity_name   = \"axso-np-appl-etools-de…",
          "azurerm_kubernetes_cluster: # Default system node pool configuration system_node_pool_name     = \"systempool\" node_count        …",
          "azurerm_kubernetes_cluster: pool_names = [{   name                      = \"userpool\"   subnet_name               = \"default-subn…",
          "azurerm_kubernetes_cluster: # AKS Authentication and Authorization  azuread_group_readers_names = [\"CL-AZ-SUBS-cloudinfra-nonpro…",
          "azurerm_kubernetes_cluster: # Data sources network_resource_group_name = \"rg-cloudinfra-nonprod-axso-ymiw\" virtual_network_name …",
          "azurerm_kubernetes_cluster: # Monitoring  #Container Insights container_Insights_data_collection_interval                     = …",
          "azurerm_kubernetes_cluster: grafana_enabled                   = true api_key_enabled                   = false grafana_major_ver…",
          "azurerm_kubernetes_cluster: #Prometheus  enable_prometheus                                     = true default_node_recording_rul…",
          "azurerm_kubernetes_cluster: role_assignments_writer = [   {     group_names = [\"CL-AZ-SUBS-cloudinfra-nonprod-Owner\", \"CL-AZ-SUB…",
          "azurerm_kubernetes_cluster: #AKS BACKUP  enable_azure_backup          = true datastore_type               = \"VaultStore\" redunda…",
          "azurerm_kubernetes_cluster: kubernetes_cluster_backup_policy = [   {     kubernetes_cluster_backup_policy_name = \"k8s-cluster-ba…",
          "azurerm_kubernetes_cluster: retention_rule = [       {         name     = \"retention-FirstOfWeek\"         priority = 1         c…",
          "azurerm_kubernetes_cluster: kubernetes_cluster_backup_config = [   {     kubernetes_cluster_backup_policy_name = \"k8s-cluster-ba…",
          "azurerm_kubernetes_cluster: kubernetes_cluster_storage_account_config = {   kubernetes_cluster_backup_storage_account_name      …",
          "azurerm_kubernetes_cluster: variable \"location\" {   type        = string   default     = \"westeurope\"   description = \"Specifies…",
          "azurerm_kubernetes_cluster: variable \"environment\" {   type        = string   default     = \"prod \"   description = \"The environ…",
          "azurerm_kubernetes_cluster: variable \"sku_tier\" {   type        = string   default     = \"Standard\"   description = \"The SKU Tie…",
          "azurerm_kubernetes_cluster: variable \"private_cluster_public_fqdn_enabled\" {   type        = bool   default     = false   descri…",
          "azurerm_kubernetes_cluster: }  variable \"oidc_issuer_enabled\" {   type        = bool   default     = false   description = \"OIDC…",
          "azurerm_kubernetes_cluster: variable \"service_accounts\" {   type = list(object({     name                              = string …",
          "azurerm_kubernetes_cluster: variable \"key_vault_name\" {   type        = string   default     = \"etools-kv\"   description = \"The …",
          "azurerm_kubernetes_cluster: # Default system node pool configuration  variable \"system_node_pool_name\" {   type        = string …",
          "azurerm_kubernetes_cluster: variable \"os_disk_size_gb\" {   type        = string   default     = \"128\"   description = \"value of …",
          "azurerm_kubernetes_cluster: variable \"min_count\" {   type        = number   default     = 3   description = \"value of the minimu…",
          "azurerm_kubernetes_cluster: variable \"agents_type\" {   type        = string   default     = \"VirtualMachineScaleSets\"   descript…",
          "azurerm_kubernetes_cluster: # AKS Authentication and Authorization  variable \"azuread_group_readers_names\" {   type        = lis…",
          "azurerm_kubernetes_cluster: # Networking # Data sources  variable \"network_resource_group_name\" {   type        = string   defau…",
          "azurerm_kubernetes_cluster: variable \"aks_subnet_name\" {   type        = string   description = \"(Optional) The name of a Subnet…",
          "azurerm_kubernetes_cluster: variable \"acr_resource_group_name\" {   type        = string   default     = null   description = \"Na…",
          "azurerm_kubernetes_cluster: variable \"sysctl_config_system_pool\" {   type = object({     fs_aio_max_nr                     = opt…",
          "azurerm_kubernetes_cluster: variable \"acr_subscription_id\" {   type        = string   default     = null   description = \"Id of …",
          "azurerm_kubernetes_cluster: variable \"pool_names\" {   type = list(object({     name                      = string     subnet_nam…",
          "azurerm_kubernetes_cluster: default = [     {       name                      = \"userpool\"       subnet_name               = \"de…",
          "azurerm_kubernetes_cluster: description = <<EOF   Available sysctl parameters and their value ranges:…",
          "azurerm_kubernetes_cluster: - fs_aio_max_nr: Minimum 65536, Maximum 6553500     - fs_file_max: Minimum 8192, Maximum 12000500   …",
          "azurerm_kubernetes_cluster: Set these values as needed for system performance and tuning. Values left as \"null\" will not be appl…",
          "azurerm_kubernetes_cluster: variable \"api_key_enabled\" {   type        = bool   default     = false   description = \"Indicates w…",
          "azurerm_kubernetes_cluster: }  variable \"zone_redundancy_enabled\" {   type        = bool   default     = true   description = \"I…",
          "azurerm_kubernetes_cluster: }  variable \"smtp_enable\" {   type        = bool   default     = false   description = \"Indicates wh…",
          "azurerm_kubernetes_cluster: }  variable \"azure_monitor_workspace_enabled\" {   type        = bool   default     = false   descrip…",
          "azurerm_kubernetes_cluster: }  variable \"container_Insights_data_collection_interval\" {   default = \"5m\"   type    = string }  v…",
          "azurerm_kubernetes_cluster: variable \"container_Insights_streams\" {   default     = [\"Microsoft-ContainerInsights-Group-Default\"…",
          "azurerm_kubernetes_cluster: variable \"container_Insights_enableContainerLogV2\" {   default     = true   description = \"Enable Co…",
          "azurerm_kubernetes_cluster: }  variable \"default_node_recording_rules_rule_group_enabled\" {   type        = bool   default     =…",
          "azurerm_kubernetes_cluster: }  variable \"role_assignments_writer\" {   type = list(object({     group_names = list(string)     na…",
          "azurerm_kubernetes_cluster: #AKS BACKUP  # Purpose: Define the variables that will be used in the terraform configuration  varia…",
          "azurerm_kubernetes_cluster: variable \"datastore_type\" {   type        = string   default     = \"VaultStore\"   description = <<EO…",
          "azurerm_kubernetes_cluster: variable \"redundancy\" {   type        = string   default     = \"GeoRedundant\"   description = \"(Requ…",
          "azurerm_kubernetes_cluster: }  variable \"retention_duration_in_days\" {   type        = number   default     = 14   description =…",
          "azurerm_kubernetes_cluster: variable \"kubernetes_cluster_backup_policy\" {   type = list(object({     kubernetes_cluster_backup_p…",
          "azurerm_kubernetes_cluster: Attributes: - **kubernetes_cluster_backup_policy_name** (Required): The name of the backup policy. C…",
          "azurerm_kubernetes_cluster: Note: Changing any of these attributes forces a new Backup Policy to be created for the specified Ku…",
          "azurerm_kubernetes_cluster: variable \"kubernetes_cluster_backup_config\" {   type = list(object({     resource_group_name        …",
          "azurerm_kubernetes_cluster: description = <<EOF Specifies the configuration for Kubernetes cluster backups. This variable define…",
          "azurerm_kubernetes_cluster: Attributes: - **kubernetes_cluster_name** (Required): The name of the Kubernetes cluster. This must …",
          "azurerm_kubernetes_cluster: Default: An empty list, meaning no backup configurations are defined unless explicitly specified.  N…",
          "azurerm_kubernetes_cluster: variable \"kubernetes_cluster_storage_account_config\" {   type = object({     kubernetes_cluster_back…",
          "azurerm_kubernetes_cluster: description = <<EOF Specifies the configuration for Kubernetes cluster storage accounts used for bac…",
          "azurerm_kubernetes_cluster: Attributes: - **kubernetes_cluster_backup_storage_account_name** (Required): The name of the Azure S…",
          "azurerm_kubernetes_cluster: Default: An empty object, indicating no storage account configurations are defined unless explicitly…",
          "azurerm_kubernetes_cluster: ```  <!-- BEGIN_TF_DOCS --> ### main.tf  ```hcl terraform {   backend \"azurerm\" {}    required_provi…",
          "azurerm_kubernetes_cluster: provider \"azuread\" {} ```  ----------------------------  # Input Description  ## Requirements  | Nam…",
          "azurerm_kubernetes_cluster: ## Providers  | Name | Version | |------|---------| | <a name=\"provider_azuread\"></a> [azuread](#pro…",
          "azurerm_kubernetes_cluster: | Name | Source | Version | |------|--------|---------| | <a name=\"module_axso_dashboard_grafana\"></…",
          "azurerm_kubernetes_cluster: ## Resources…",
          "azurerm_kubernetes_cluster: | Name | Type | |------|------| | [azurerm_disk_encryption_set.disk_encryption_set](https://registry…",
          "azurerm_kubernetes_cluster: ## Inputs…",
          "azurerm_kubernetes_cluster: | Name | Description | Type | Default | Required | |------|-------------|------|---------|:--------:…",
          "azurerm_kubernetes_cluster: ## Outputs…",
          "azurerm_kubernetes_cluster: | Name | Description | |------|-------------| | <a name=\"output_aks_id\"></a> [aks\\_id](#output\\_aks\\…",
          "azurerm_kubernetes_cluster: # Releases  ## v1.0.0 * 31/10/2023  * Initial release  ## v2.0.0 * 04/03/2024  ### Features and Fixe…",
          "azurerm_kubernetes_cluster: * **GIT Policies Fixes:** Resolved issues related to GIT Policies. * **AKS Fully Private:** AKS (Azu…",
          "azurerm_kubernetes_cluster: ## v2.1.0 * 20/03/2024  ### Features:  * **Add support for azure workload identity:** Allow the pod …",
          "azurerm_kubernetes_cluster: ## v2.2.0 * 23/04/2024  ### Features:  * **Add RBAC for namespaces:** Allow the assignment of writer…",
          "azurerm_kubernetes_cluster: ## v2.5.0 * 09/05/2024  ### Features:  * Added the option to include groups as members of the AKS ad…",
          "azurerm_kubernetes_cluster: * Dependencies updated - Provider versions updated * This introduces logic to either create a new re…",
          "azurerm_kubernetes_cluster: ## v2.7.0 * 05/07/2024  ### Features:  * Add Support plan  ## v2.8.0 * 16/07/2024  ### Features:  * …",
          "azurerm_kubernetes_cluster: * Remove creation of AD groups (var.create_aks_groups, var.owners) * Remove unused variables (var.ak…",
          "azurerm_kubernetes_cluster: ## v3.1.0 * 07/11/2024  * Removed unnecessary variables (var.aad_group_owners, var.mail_enabled, var…",
          "azurerm_kubernetes_cluster: # Infra Team Test  This template is used for testing the `infra` team's Terraform modules only an di…",
          "azurerm_kubernetes_cluster: ## Providers  No providers.  ## Modules  | Name | Source | Version | |------|--------|---------| | <…",
          "azurerm_kubernetes_cluster: | Name | Description | Type | Default | Required | |------|-------------|------|---------|:--------:…",
          "azurerm_kubernetes_cluster: ## Outputs  No outputs. <!-- END_TF_DOCS -->…"
         ],
         "marker": {
          "color": "hsl(117,60%,50%)",
          "size": 8
         },
         "mode": "markers",
         "name": "azurerm_kubernetes_cluster",
         "type": "scatter",
         "x": {
          "bdata": "ZLNbQk33+kHPIjpClHLUQRQjrEGwkWtBfzp2QIm2wMF5wc7BbcncwdEhxsGi7sLBiQm+we0k2cFjA9PBJvjTwdR8z8FIiu/AqbAIwhmrKsIaCyvCHKMmwnZDKcICvgPCcSoSwqt42sENMA3CKLDVwWq4/sFl7DHC/wQswnuhQMIjbijCGK0bwS/9lsHTar/BvDbOwbZBv8Ew8OTBDxkpwjzv78FcYPHBkMvswQmt8sFDHdvBptkAwsT7lMFcJ6DBj225wRPuFsJm0LfBNMcUwj2HKcINQTzCICIZwnLlkMF7gtPB4ZPQwRg128G14NvB6U3awc/b2sEpG9rBisTPwWps/sHle8bBU2rswW9fB8JDawnC+ZoowkJBH8IJxDDCysojwqe2N8IrXSHCp2M5wmryH8LMmDXC7/8dwoeKIMJXKo0/oM4NQffpWUE3LNNBxodsQcgw4r9egV5BOD4CwqEhDkHmk5nB+NRlQUYakEFBKKxBa8KqQfqMqkFO/I9BopqmQRkXoUHz+6BBecezQTUnx0GOOQLC96EkwQ==",
          "dtype": "f4"
         },
         "y": {
          "bdata": "x6A5Qe4zsMHCv3LAtHOPQMQyQkBELpnB716kwQIex8HcxrHBd/+3wXG+t8FYMMHBmF/BwehnksHG67PBsXuqwZSHt8HTRhfBOTV5wbyGEsEhmhXBVKeZwGNHksDe3GzBdQRswR7ijcE6FmPB9gKjwXPCfcGjB8dAKRzpQOTFrUAl5dZA4JQUwC6oqcDSM8rATX/WwMfJxb5t2FHBOLgOwSRM6cCsWvzAmSANwTAj/8CIghnB37JqwfqPCEBCCDJAMk2GQB6LkD9Ws41AAFarP+2BlcCAAHxBnEY+P/cD5r/PZkXBah1awWfOWcH8wWjBGZOHwWaHh8ENJ4TBPldwwWh/e8Ed0srAzieIQAVarkC/RABBsEcPQd7KhkG5ZURBCwcCQTuscUEMzWFB+eQ3QWyQ6kBduXZBEQRpQe4eKEHY239BTs6oQbPl90Gks+tBI8c/QiQc+EG1TFVCNX3LQXaRZ0Kunh5Cih43whUGaMIk3WLCqLNkwvaAZsJlnWnC/o5jwsMab8J4TW/CoL+GQUdNAELM0ctBepFCQg==",
          "dtype": "f4"
         }
        },
        {
         "hoverinfo": "text",
         "hovertext": [
          "azurerm_linux_function_app: | **Build Status** | **Latest Version** | **Date** | |:-----------------|:-------------------|:-----…",
          "azurerm_linux_function_app: To see more available Axso services please see **[Production Ready Services](https://dev.azure.com/A…",
          "azurerm_linux_function_app: # INDEX  ----------------------------  1. [Linux Function App Configuration](#linux-function-app-con…",
          "azurerm_linux_function_app: Azure Function Apps is a serverless compute service provided by Microsoft Azure that allows you to r…",
          "azurerm_linux_function_app: ## Deployed Resources  ---------------------------- This module will deploy the following azurerm re…",
          "azurerm_linux_function_app: ## Axso Naming convention example  ---------------------------------  The naming convention is deriv…",
          "azurerm_linux_function_app: ## App Service Plan  - **NonProd:** `axso-np-appl-cloud-dev-asp` - **Prod:** `axso-p-appl-cloud-prod…",
          "azurerm_linux_function_app: # General    resource_group_name = var.resource_group_name   location            = var.location    #…",
          "azurerm_linux_function_app: # Function Apps    function_app                        = var.function_app   storage_account_name    …",
          "azurerm_linux_function_app: # Private Endpoint    pe_subnet_name              = var.pe_subnet_name   network_name               …",
          "azurerm_linux_function_app: # App Service Plan  sku_name               = \"P1v2\" zone_balancing_enabled = false worker_count     …",
          "azurerm_linux_function_app: function_app = [   {     usecase = \"java\"   },   {     usecase = \"script\"   } ]  # Private Endpoint …",
          "azurerm_linux_function_app: variable \"location\" {   description = \"The Azure location where the resources will be deployed.\"   t…",
          "azurerm_linux_function_app: variable \"environment\" {   type        = string   default     = \"prod \"   description = \"The environ…",
          "azurerm_linux_function_app: variable \"pe_subnet_name\" {   description = \"The name of the subnet within the virtual network where…",
          "azurerm_linux_function_app: # App Service Plan Variables  variable \"sku_name\" {   description = \"The SKU (pricing tier) of the A…",
          "azurerm_linux_function_app: variable \"worker_count\" {   description = \"The number of Workers (instances) to be allocated.\"   typ…",
          "azurerm_linux_function_app: variable \"https_only\" {   description = \"The name of the virtual network to which the subnet belongs…",
          "azurerm_linux_function_app: <!-- BEGIN_TF_DOCS --> ### main.tf  ```hcl terraform {   backend \"azurerm\" {}    required_providers …",
          "azurerm_linux_function_app: ## Providers  | Name | Version | |------|---------| | <a name=\"provider_azurerm\"></a> [azurerm](#pro…",
          "azurerm_linux_function_app: | Name | Type | |------|------| | [azurerm_linux_function_app.function_app](https://registry.terrafo…",
          "azurerm_linux_function_app: ## Inputs…",
          "azurerm_linux_function_app: | Name | Description | Type | Default | Required | |------|-------------|------|---------|:--------:…",
          "azurerm_linux_function_app: ## Outputs…",
          "azurerm_linux_function_app: | Name | Description | |------|-------------| | <a name=\"output_function_app_default_hostnames\"></a>…",
          "azurerm_linux_function_app: # Releases  ## v1.0.0  * Initial release  ## v1.0.1  * Dependencies updated - Provider versions upda…",
          "azurerm_linux_function_app: # Infra Team Test  This is a test for the Infra team to check the quality of the code and the docume…",
          "azurerm_linux_function_app: <!-- BEGIN_TF_DOCS --> ## Requirements  No requirements.  ## Providers  No providers.  ## Modules  |…",
          "azurerm_linux_function_app: | Name | Description | Type | Default | Required | |------|-------------|------|---------|:--------:…",
          "azurerm_linux_function_app: ## Outputs  No outputs. <!-- END_TF_DOCS -->…"
         ],
         "marker": {
          "color": "hsl(125,60%,50%)",
          "size": 8
         },
         "mode": "markers",
         "name": "azurerm_linux_function_app",
         "type": "scatter",
         "x": {
          "bdata": "Fu1TQhzJ9kFi+TdCOJMUQvc0ukFYoSJB96wIQHMOvMH1VqvBITI7waNMHMKrAV/BkvGYwYkztsGKRYDBggbGwaMcm8HzGmXB6PsIQJ3JhEH8JeM/rwVsQQjh5MGbnBNBlY6nwQhrW0Ee5rVBf/GxQbbO5MELJvLA",
          "dtype": "f4"
         },
         "y": {
          "bdata": "noJJQf0+rsEXF87ANISGPdIlbUBHhb3B1FKQweSN0cGqiNTBUEB1wduDl8Fb2SzArgSvwCI1u8AR8Y+/dtAXwXGWUcGHUjS+vcd6Qas4+kEvOABC501aQuHM0UFIMmdC7GEyQr3TO8Jrw6JB70nwQfAU0kEZ8khC",
          "dtype": "f4"
         }
        },
        {
         "hoverinfo": "text",
         "hovertext": [
          "azurerm_linux_virtual_machine: | **Build Status** | **Latest Version** | **Date** | |:-----------------|:-------------------|:-----…",
          "azurerm_linux_virtual_machine: To see more available Axso services please see **[Production Ready Services](https://dev.azure.com/A…",
          "azurerm_linux_virtual_machine: # INDEX  ----------------------------  1. [Linux Virtual Machine Configuration](#linux-virtual-machi…",
          "azurerm_linux_virtual_machine: ## Service Description  ----------------------------  Azure virtual machines (VMs) are one of severa…",
          "azurerm_linux_virtual_machine: These all resources will be deployed when using Linux Virtual Machine module.  - azurerm_managed_dis…",
          "azurerm_linux_virtual_machine: > **Note:** > >Your SPI needs to have access to the Key Vault to store the admin user and password f…",
          "azurerm_linux_virtual_machine: module \"vm\" {   for_each                    = { for each in var.vm_config : each.vm_number => each }…",
          "azurerm_linux_virtual_machine: ```  ## module.tf.tfvars    ```hcl  subscription = \"np\" project_name = \"prj\" environment  = \"dev\" lo…",
          "azurerm_linux_virtual_machine: vm_config = [   {     vm_size        = \"Standard_B2s_v2\"     admin_username = \"tester\"     vm_number…",
          "azurerm_linux_virtual_machine: network_resource_group_name = \"rg-cloudinfra-nonprod-axso-ymiw\" resource_group_name         = \"axso-…",
          "azurerm_linux_virtual_machine: variable \"project_name\" {   type        = string   description = \"The name of the project. e.g. MDS\"…",
          "azurerm_linux_virtual_machine: variable \"vm_image\" {   description = \"Virtual Machine source image information. See https://www.ter…",
          "azurerm_linux_virtual_machine: variable \"vm_config\" {   description = \"List of subnet configurations.\"   type = list(object({     v…",
          "azurerm_linux_virtual_machine: variable \"resource_group_name\" {   type        = string   description = \"The name of the resource gr…",
          "azurerm_linux_virtual_machine: variable \"network_resource_group_name\" {   type        = string   description = \"(Required) The name…",
          "azurerm_linux_virtual_machine: }  ```  <!-- BEGIN_TF_DOCS --> ### main.tf  ```hcl terraform {   backend \"azurerm\" {}    required_pr…",
          "azurerm_linux_virtual_machine: ----------------------------  # Input Description  ## Requirements  | Name | Version | |------|-----…",
          "azurerm_linux_virtual_machine: ## Modules  No modules.    ## Resources…",
          "azurerm_linux_virtual_machine: | Name | Type | |------|------| | [azurerm_disk_encryption_set.disk_encryption_set](https://registry…",
          "azurerm_linux_virtual_machine: ## Inputs…",
          "azurerm_linux_virtual_machine: | Name | Description | Type | Default | Required | |------|-------------|------|---------|:--------:…",
          "azurerm_linux_virtual_machine: ## Outputs…",
          "azurerm_linux_virtual_machine: | Name | Description | |------|-------------| | <a name=\"output_vm_id\"></a> [vm\\_id](#output\\_vm\\_id…",
          "azurerm_linux_virtual_machine: # Releases  ## v1.0.0 - 17/10/2023  * Initial release  ## v1.1.0 - 21/12/2023  * Added support for c…",
          "azurerm_linux_virtual_machine: ## v1.2.0 - 17/01/2024  * Removed support for creation of placement group and aviability set. Creati…",
          "azurerm_linux_virtual_machine: ## v1.3.0 - 06/03/2024  * Removed tagging from code  ## v1.4.0 - 25/03/2024  * Tags added to lifecyc…",
          "azurerm_linux_virtual_machine: ## v1.4.5 - 25/06/2024  * Dependencies updated - Provider versions updated  ## v1.5.0 - 16/07/2024  …",
          "azurerm_linux_virtual_machine: ## v1.6.2 - 24/10/2024  * Dependencies updated - Provider versions updated  ## v1.6.3 - 24/11/2024  …",
          "azurerm_linux_virtual_machine: # Infra Team Test  This template deploys a Resource Group, a vnet, a subnet, a keyvault and a virtua…",
          "azurerm_linux_virtual_machine: ## Providers  No providers.  ## Modules  | Name | Source | Version | |------|--------|---------| | <…",
          "azurerm_linux_virtual_machine: | Name | Description | Type | Default | Required | |------|-------------|------|---------|:--------:…",
          "azurerm_linux_virtual_machine: ## Outputs  No outputs. <!-- END_TF_DOCS -->…"
         ],
         "marker": {
          "color": "hsl(133,60%,50%)",
          "size": 8
         },
         "mode": "markers",
         "name": "azurerm_linux_virtual_machine",
         "type": "scatter",
         "x": {
          "bdata": "O4NRQkzP/EEWkzxC+TXvQe3zpkF7QW+/+rIhQLGcFMGpvTPCdCZPwdfIqMFAWJfBFQMOwkVvjsGNdzbB7ge6PzldUEEQFH1B1hDfv68FbEEHFwLCDjMMQaA6oMEnv0VBY5yQQYzl2UH96a9BgUDeQerjukE+b7ZBWg3awf9EB8E=",
          "dtype": "f4"
         },
         "y": {
          "bdata": "P79ZQeBJnsHlNNfA7GdIQMlUpUDmLmPBPtiPwFzKLsFXiJLAWAezwJTECMH+KtFA1JClP6Ga7z+qW+8/R6yNQUaRnEGATxdC1Uz4QedNWkIrSOdBCXliQucgI0LtUUXCrddjwjxBZcIvKEjCa6ZRwrr0dEHhRwJCBs3PQaugSkI=",
          "dtype": "f4"
         }
        },
        {
         "hoverinfo": "text",
         "hovertext": [
          "azurerm_linux_virtual_machine_scale_set: | **Build Status** | **Latest Version** | **Date** | |:-----------------|:-------------------|:-----…",
          "azurerm_linux_virtual_machine_scale_set: # INDEX -------  1. [Linux Virtual Machine Scale Sets configuration](#linux-virtual-machine-scale-se…",
          "azurerm_linux_virtual_machine_scale_set: ## Service Description ----------------------  Azure Virtual Machine Scale Sets let you create and m…",
          "azurerm_linux_virtual_machine_scale_set: >- Easy to create and manage multiple VMs >- Provides high availability and application resiliency b…",
          "azurerm_linux_virtual_machine_scale_set: With Flexible orchestration, Azure provides a unified experience across the Azure VM ecosystem. Flex…",
          "azurerm_linux_virtual_machine_scale_set: >- Quorum-based workloads >- Open-source databases >- Stateful applications >- Services that require…",
          "azurerm_linux_virtual_machine_scale_set: This module will deploy the following azurerm resources:  - azurerm_disk_encryption_set (DES + Key) …",
          "azurerm_linux_virtual_machine_scale_set: ## Axso Naming convention example ---------------------------------  The naming convention is derive…",
          "azurerm_linux_virtual_machine_scale_set: # Terraform Files -----------------  ## module.tf  ```hcl module \"axso_linux_vmss\" {   source = \"git…",
          "azurerm_linux_virtual_machine_scale_set: # Naming convention   project_name = var.project_name   subscription = var.subscription   environmen…",
          "azurerm_linux_virtual_machine_scale_set: # VMSS Network   dns_servers = var.dns_servers   vmss_subnet = var.vmss_subnet    # VMSS Authenticat…",
          "azurerm_linux_virtual_machine_scale_set: # VMSS Image   source_image = var.source_image   # VMSS Disk   os_disk_config               = var.os…",
          "azurerm_linux_virtual_machine_scale_set: ## module.tf.tfvars  ```hcl # Naming convention  project_name = \"ci\" subscription = \"np\" environment…",
          "azurerm_linux_virtual_machine_scale_set: # VMSS Network  vmss_subnet = {   subnet_name  = \"vmss\"   vnet_name    = \"vnet-cloudinfra-nonprod-ax…",
          "azurerm_linux_virtual_machine_scale_set: # VMSS Image  source_image = {   offer     = \"UbuntuServer\"   publisher = \"Canonical\"   sku       = …",
          "azurerm_linux_virtual_machine_scale_set: enable_data_disk = true  data_disks = [   {     #name                 = \"datadisk1\"     lun         …",
          "azurerm_linux_virtual_machine_scale_set: # Extension  extension_config = {     enable                    = false     name                    …",
          "azurerm_linux_virtual_machine_scale_set: ## variables.tf  ```hcl # Naming conventions -   variable \"project_name\" {   type        = string   …",
          "azurerm_linux_virtual_machine_scale_set: variable \"usecase\" {   type        = string   default     = \"buildagent\"   description = \"The usecas…",
          "azurerm_linux_virtual_machine_scale_set: variable \"linux_vmss_sku\" {   type        = string   description = \"(Required) Specifies the SKU of …",
          "azurerm_linux_virtual_machine_scale_set: variable \"overprovision\" {   type        = bool   description = \"(Optional) Should Azure over-provis…",
          "azurerm_linux_virtual_machine_scale_set: variable \"os_upgrade_mode\" {   type        = string   description = \"(Optional) Specifies how Upgrad…",
          "azurerm_linux_virtual_machine_scale_set: variable \"availability_zones\" {   type        = list(number)   description = \"(Optional) Specifies a…",
          "azurerm_linux_virtual_machine_scale_set: variable \"source_image_id\" {   type        = string   description = \"(Optional) The ID of an Image w…",
          "azurerm_linux_virtual_machine_scale_set: # VMSS Network  variable \"dns_servers\" {   type        = list(string)   default     = []   descripti…",
          "azurerm_linux_virtual_machine_scale_set: # VMSS Authentication  variable \"admin_username\" {   type        = string   default     = \"adminuser…",
          "azurerm_linux_virtual_machine_scale_set: variable \"admin_ssh_key_data\" {   type        = string   description = \"specify the path to the exis…",
          "azurerm_linux_virtual_machine_scale_set: variable \"managed_identities\" {   description = \"List of maps containing user-assigned managed ident…",
          "azurerm_linux_virtual_machine_scale_set: # VMSS Disk  variable \"os_disk_config\" {   description = \"The configuration of the OS Disk for the V…",
          "azurerm_linux_virtual_machine_scale_set: variable \"data_disks\" {   description = \"List of maps containing data disk details\"   type = list(ob…",
          "azurerm_linux_virtual_machine_scale_set: # Extension  variable \"extension_config\" {   type = object({     enable                    = bool   …",
          "azurerm_linux_virtual_machine_scale_set: default = {     enable                    = false     name                      = \"\"     publisher  …",
          "azurerm_linux_virtual_machine_scale_set: provider \"azurerm\" {   features {} } ```  ----------------------------  # Input Description  <!-- BE…",
          "azurerm_linux_virtual_machine_scale_set: ----------------------------  # Input Description  ## Requirements  | Name | Version | |------|-----…",
          "azurerm_linux_virtual_machine_scale_set: ## Providers  | Name | Version | |------|---------| | <a name=\"provider_azurerm\"></a> [azurerm](#pro…",
          "azurerm_linux_virtual_machine_scale_set: | Name | Type | |------|------| | [azurerm_disk_encryption_set.disk_encryption_set](https://registry…",
          "azurerm_linux_virtual_machine_scale_set: ## Inputs…",
          "azurerm_linux_virtual_machine_scale_set: | Name | Description | Type | Default | Required | |------|-------------|------|---------|:--------:…",
          "azurerm_linux_virtual_machine_scale_set: ## Outputs  | Name | Description | |------|-------------| | <a name=\"output_id\"></a> [id](#output\\_i…",
          "azurerm_linux_virtual_machine_scale_set: # Releases  ## v1.0.0 - 16/12/2024  * Initial release…",
          "azurerm_linux_virtual_machine_scale_set: # Infra Team Test  This is a test for the Infra team to check the quality of the code and the docume…",
          "azurerm_linux_virtual_machine_scale_set: ## Providers  No providers.  ## Modules  | Name | Source | Version | |------|--------|---------| | <…",
          "azurerm_linux_virtual_machine_scale_set: | Name | Description | Type | Default | Required | |------|-------------|------|---------|:--------:…",
          "azurerm_linux_virtual_machine_scale_set: ## Outputs  No outputs. <!-- END_TF_DOCS -->…"
         ],
         "marker": {
          "color": "hsl(141,60%,50%)",
          "size": 8
         },
         "mode": "markers",
         "name": "azurerm_linux_virtual_machine_scale_set",
         "type": "scatter",
         "x": {
          "bdata": "AOpRQsGQPELo7g5CpkkRQrW+EULAuMxBGFayQf+D1EB/xVpA02nFwXhz0sE7BkTBEgrqwIJUD8Kr5gzCDfEBwnWXgcGM+UjB6hapwaRa2cFoeNzBduXlwW8K2sEU+ZvB1sLmwWt86MGGVejBDMKbwchK7sFHQQDC+zaCweS65r8HADhATZU2QTOie0Hx1Nu/rwVsQbLlBMJkPIXBMexnQYgGs0H6KsdB3egEwjrmAcE=",
          "dtype": "f4"
         },
         "y": {
          "bdata": "DrFPQSi348B9pDPAhIs0wDZNMcCJXUFAhHeEQKj3nsEV0jTBcofPwRGcy8EAzYjBZtUqwTJHR8Ervz3B70gmwcleg8E0fhbB3PuPwHkx98ArbgPBfAwNwTNaGcHo1+pAcA+Uv5ibBsD+mAzAmFbfQPLSEsHTMSPB5FODwegBREEcXYRBAnGfQb1R+EGzpvdB501aQvKh7UFbyyhCO2I0wvdKmkHcyQRCqavtQcExSEI=",
          "dtype": "f4"
         }
        },
        {
         "hoverinfo": "text",
         "hovertext": [
          "azurerm_linux_web_app (1): | **Build Status** | **Latest Version** | **Date** | |:-----------------|:-------------------|:-----…",
          "azurerm_linux_web_app (1): To see more available Axso services please see **[Production Ready Services](https://dev.azure.com/A…",
          "azurerm_linux_web_app (1): # INDEX  ----------------------------  1. [Linux App Service Configuration](#linux-app-service-confi…",
          "azurerm_linux_web_app (1): This module allows deploying Azure App Service Plans with the necessary App Services, and also allow…",
          "azurerm_linux_web_app (1): >**Note:**   > >- If you need to use an Azure container registry use_acr should be true in module.tf…",
          "azurerm_linux_web_app (1): ## Service Description  ----------------------------  **Linux App Service Plan:**   Is a resource th…",
          "azurerm_linux_web_app (1): **App Services:** Is a fully managed platform for building, deploying, and scaling web applications …",
          "azurerm_linux_web_app (1): **Deployment Slots:**   Are live instances of an Azure Web App that allow you to deploy and test cha…",
          "azurerm_linux_web_app (1): ## Deployed Resources  ---------------------------- This module will deploy the following azurerm re…",
          "azurerm_linux_web_app (1): If certificate/custom domain is configured:  - azurerm_role_assignment - azurerm_app_service_certifi…",
          "azurerm_linux_web_app (1): ----------------------------  It is assumed that the following resources already exists:  - Resource…",
          "azurerm_linux_web_app (1): ## Axso Naming convention example  ----------------------------  **App Service Plan** The naming con…",
          "azurerm_linux_web_app (1): **Construct:** `\"axso-${var.subscription}-appl-${var.project_name}-${var.environment}-${var.service_…",
          "azurerm_linux_web_app (1): **Construct:** `\"axso-${var.subscription}-appl-${var.project_name}-${var.environment}-${var.service_…",
          "azurerm_linux_web_app (1): **Construct:** `\"axso-${var.subscription}-appl-${var.project_name}-${var.environment}-${var.service_…",
          "azurerm_linux_web_app (1): **Construct:** `\"axso-${var.subscription}-appl-${var.project_name}-${var.environment}-${var.service_…",
          "azurerm_linux_web_app (1): **Construct:** `\"axso-${var.subscription}-appl-${var.project_name}-${var.environment}-${var.service_…",
          "azurerm_linux_web_app (1): source   = \"git::ssh://git@ssh.dev.azure.com/v3/Axpo-AXSO/TIM-INFRA-MODULES/azurerm_linux_web_app?re…",
          "azurerm_linux_web_app (1): ```  ## module.tf.tfvars  ```hcl…",
          "azurerm_linux_web_app (1): location                    = \"West Europe\" environment                 = \"dev\" project_name        …",
          "azurerm_linux_web_app (1): service_plan_sku_name = \"P1v3\" service_plan_usage    = \"billing\" service_plan_os_type  = \"Linux\"  um…",
          "azurerm_linux_web_app (1): app_services = [   {     appservice_short_description         = \"builders\",     app_settings_name   …",
          "azurerm_linux_web_app (1): },…",
          "azurerm_linux_web_app (1): {     appservice_short_description         = \"producers\",     app_settings_name                    =…",
          "azurerm_linux_web_app (1): },…",
          "azurerm_linux_web_app (1): {     appservice_short_description         = \"checkers\",     app_settings_name                    = …",
          "azurerm_linux_web_app (1): } ]…",
          "azurerm_linux_web_app (1): deployment_slots = [   {     deployment_slot_name                 = \"stage\",     appservice_short_de…",
          "azurerm_linux_web_app (1): private_dns_zone_name = \"nonprod.cloudinfra.axpo.cloud\" public_dns_zone_name  = \"cloudinfra.axpo.clo…",
          "azurerm_linux_web_app (1): webapp_custom_certificates = {   \"webapp-c-1\" = {     keyvault_certificate_name        = \"nonprod-cl…",
          "azurerm_linux_web_app (1): webapp_custom_domains = {   \"builders\" = {     webapp_description               = \"builders\" #The de…",
          "azurerm_linux_web_app (1): ```  ## variables.tf  ```hcl  variable \"location\" {   type        = string   default     = \"westeuro…",
          "azurerm_linux_web_app (1): variable \"project_name\" {   type        = string   description = \"The short name of the project e.g.…",
          "azurerm_linux_web_app (1): variable \"service_plan_os_type\" {   type        = string   default     = \"Linux\"   description = \"Ty…",
          "azurerm_linux_web_app (1): variable \"umid_names\" {   description = \"(Optional)List of User Assigned Managed Identity Names\"   t…",
          "azurerm_linux_web_app (1): variable \"app_services\" {   description = \"Add details for your App services\"   type = list(object({…",
          "azurerm_linux_web_app (1): })) }  variable \"app_settings\" {   type        = map(any)   description = \"values for the app settin…",
          "azurerm_linux_web_app (1): variable \"pe_subnet_name\" {   type    = string   default = \"Subnet name for the private endpoint\" } …",
          "azurerm_linux_web_app (1): }  variable \"default_documents\" {   type        = list(string)   default     = [\"Default.htm\", \"Defa…",
          "azurerm_linux_web_app (1): variable \"deployment_slots\" {   description = \"Add details for your App services Slots\"   type = lis…",
          "azurerm_linux_web_app (1): variable \"private_dns_zone_name\" {   type        = string   description = \"(Optional) The domain nam…",
          "azurerm_linux_web_app (1): variable \"webapp_custom_certificates_key_vault\" {   type        = string   description = \"(Optional)…",
          "azurerm_linux_web_app (1): variable \"webapp_custom_certificates\" {   type = map(object({     keyvault_certificate_name        =…",
          "azurerm_linux_web_app (1): variable \"webapp_custom_domains\" {   type = map(object({     webapp_description               = stri…",
          "azurerm_linux_web_app (1): provider \"azurerm\" {   features {} }  provider \"azurerm\" {   alias           = \"dns\"   subscription_…",
          "azurerm_linux_web_app (1): ----------------------------  # Input Description  ## Requirements  | Name | Version | |------|-----…",
          "azurerm_linux_web_app (1): ## Providers  | Name | Version | |------|---------| | <a name=\"provider_azuread\"></a> [azuread](#pro…",
          "azurerm_linux_web_app (1): | Name | Type | |------|------| | [azurerm_app_service_certificate.app_certificate](https://registry…",
          "azurerm_linux_web_app (1): ## Inputs…",
          "azurerm_linux_web_app (1): | Name | Description | Type | Default | Required | |------|-------------|------|---------|:--------:…",
          "azurerm_linux_web_app (1): ## Outputs  | Name | Description | |------|-------------| | <a name=\"output_app_service_ids\"></a> [a…",
          "azurerm_linux_web_app (1): # Releases  ## v1.0.0 - 18/10/2023  * Initial release  ## v1.1.0 - 27/11/2023  * README File modifie…",
          "azurerm_linux_web_app (1): ## v2.1.0 - 25/03/2024  * Tags added to lifecycle block in module  ## v2.1.1 - 23/04/2024  * Depende…",
          "azurerm_linux_web_app (1): ## v2.1.5 - 25/06/2024  * Dependencies updated - Provider versions updated   ## v2.2.0 - 27/07/2024 …",
          "azurerm_linux_web_app (1): ## v4.0.0 - 24/09/2024  * Various bug fixes and support for AzureRm provider 4.x.x * Version pinning…",
          "azurerm_linux_web_app (1): ## v4.0.2 - 25/10/2024  * Dependencies updated - Provider versions updated  ## v5.0.0 - 06/11/2024  …",
          "azurerm_linux_web_app (1): * Dependencies updated - Provider versions updated  ## v5.1.2 - 07/01/2025  * Dependencies updated -…",
          "azurerm_linux_web_app (1): # Infra Team Test  This template deploys a Resource Group a App Service Plan and then a linux app se…",
          "azurerm_linux_web_app (1): ## Providers  No providers.  ## Modules  | Name | Source | Version | |------|--------|---------| | <…",
          "azurerm_linux_web_app (1): | Name | Description | Type | Default | Required | |------|-------------|------|---------|:--------:…",
          "azurerm_linux_web_app (1): ## Outputs  No outputs. <!-- END_TF_DOCS -->…"
         ],
         "marker": {
          "color": "hsl(149,60%,50%)",
          "size": 8
         },
         "mode": "markers",
         "name": "azurerm_linux_web_app (1)",
         "type": "scatter",
         "x": {
          "bdata": "ODdWQuor+kGaqTlCQ18EQqkvxcEspghC6+MMQmtfAkIPBsRBV4WMQZmcdEHe2S5BiSsJQSSL90B7RvRAxHPtQAwasUDmG58/czL0wPCTFsKTUCbCRiYzwrSdBEHYNTLCtJ0EQckpMsJUI/xA6CI2wvZKK8IyGDbCHqQ0wq1fHsHMZ7bBQhrEwbyguMGmUBHC8qSbwekBjsEmgK/BW4oVwo6jx8GJoNvBa9fdweohS8Hm3YpAmiAwQQozdEH91dg+g7ZjQJzP9sFRaZnBZj5VQalI5EE1CLZBFPKYQaThpkFiD+JB32/EQTv1skF27PbBHdI6wQ==",
          "dtype": "f4"
         },
         "y": {
          "bdata": "6I5TQfjnm8Ezjc3A2Lpavj9fn0Aa19m/M7Mtv3g1A0C6PC9A/903QK/hnMEEG7rB2MXHwShuyMEeLcvB2C3Nwd5zuMH786DABlJswdtJdsFBZ0zBhhwnwayoVELeuDDBrKhUQnqIMcGWnVVCFTwPweQfjsH0gJPBluqewXoc7cCV+gvBvCkLweU11EA17DzATEtCPzEuFb9OZ2LBRnd8wMlArT7knog/2oe2PxOq4UBI5otBqJ+lQYqZ7UGoa/pBRfpcQqhpxkGLOi1C9RNbwg+rYsLsil3Cg79PwsXyWMJ6JzTCaaFxQcZT+0Fl4sVBWW9QQg==",
          "dtype": "f4"
         }
        },
        {
         "hoverinfo": "text",
         "hovertext": [
          "azurerm_logic_app_standard: | **Build Status**      | **Latest Version** | **Date** | |:----------------------|:----------------…",
          "azurerm_logic_app_standard: To see more available Axso services please see **[Production Ready Services](https://dev.azure.com/A…",
          "azurerm_logic_app_standard: ## Axso Naming convention example  ## Usage  ---  <!-- BEGIN_TF_DOCS -->  <!-- END_TF_DOCS -->…",
          "azurerm_logic_app_standard: # Releases  ## v1.0.0 - dd/mm/yyyy  * Initial release…",
          "azurerm_logic_app_standard: # Infra Team Test…"
         ],
         "marker": {
          "color": "hsl(157,60%,50%)",
          "size": 8
         },
         "mode": "markers",
         "name": "azurerm_logic_app_standard",
         "type": "scatter",
         "x": {
          "bdata": "D0NlQqpa4kHyRh1BG4ZZQZmmwUE=",
          "dtype": "f4"
         },
         "y": {
          "bdata": "mU8PQftkjsFkwajB++8xwqp3oUE=",
          "dtype": "f4"
         }
        },
        {
         "hoverinfo": "text",
         "hovertext": [
          "azurerm_logic_app_workflow: | **Build Status** | **Latest Version** | **Date** | |:-----------------|:-------------------|:-----…",
          "azurerm_logic_app_workflow: To see more available Axso services please see **[Production Ready Services](https://dev.azure.com/A…",
          "azurerm_logic_app_workflow: # INDEX  ----------------------------  1. [Azure Logic App Configuration](#azure-logic-app-configura…",
          "azurerm_logic_app_workflow: ## Service Description  ----------------------------  Azure Logic App is a serverless, visual workfl…",
          "azurerm_logic_app_workflow: Currently the module does not support pulling configuration for workflow_parameters, workflow_schema…",
          "azurerm_logic_app_workflow: - azurerm_logic_app_workflow  ## Pre-requisites ----------------------------  It is assumed that the…",
          "azurerm_logic_app_workflow: **Construct:** `\"axso-${var.subscription}-appl-${var.project_name}-${var.environment}-logicapp-${var…",
          "azurerm_logic_app_workflow: module \"logicapp\" {   source                  = \"git::ssh://git@ssh.dev.azure.com/v3/Axpo-AXSO/TIM-I…",
          "azurerm_logic_app_workflow: }  ```  ## module.tf.tfvars  ```hcl location                    = \"West Europe\" environment         …",
          "azurerm_logic_app_workflow: },   {     logic_app_description = \"cache-clean\"     requires_identity     = true    } ]  ```  ## va…",
          "azurerm_logic_app_workflow: variable \"environment\" {   type        = string   description = \"The short name for the environment.…",
          "azurerm_logic_app_workflow: variable \"resource_group_name\" {   type        = string   description = \"The name of your RG\" }  var…",
          "azurerm_logic_app_workflow: provider \"azurerm\" {   features {}   resource_provider_registrations = \"none\" } ```  ---------------…",
          "azurerm_logic_app_workflow: ## Modules  No modules.    ## Resources  | Name | Type | |------|------| | [azurerm_logic_app_workfl…",
          "azurerm_logic_app_workflow: | Name | Description | Type | Default | Required | |------|-------------|------|---------|:--------:…",
          "azurerm_logic_app_workflow: ## Outputs  | Name | Description | |------|-------------| | <a name=\"output_id\"></a> [id](#output\\_i…",
          "azurerm_logic_app_workflow: # Releases  ## v1.0.0 - 12/10/2023  * Initial release  ## v1.0.1 - 20/02/2024  * The version of the …",
          "azurerm_logic_app_workflow: ## v1.2.1 - 23/04/2024  * Dependencies updated - Provider versions updated  ## v1.2.2 - 25/04/2024  …",
          "azurerm_logic_app_workflow: ## v1.2.6 - 25/07/2024  * Dependencies updated - Provider versions updated  ## v1.2.7 - 25/08/2024  …",
          "azurerm_logic_app_workflow: ## v1.3.2 - 24/12/2024  * Dependencies updated - Provider versions updated  ## v1.3.3 - 27/01/2025  …",
          "azurerm_logic_app_workflow: # Infra Team Test  This template deploys a logic app workflow and is linked with ADO pipelines in `T…",
          "azurerm_logic_app_workflow: ## Providers  No providers.  ## Modules  | Name | Source | Version | |------|--------|---------| | <…",
          "azurerm_logic_app_workflow: | Name | Description | Type | Default | Required | |------|-------------|------|---------|:--------:…",
          "azurerm_logic_app_workflow: ## Outputs  No outputs. <!-- END_TF_DOCS -->…"
         ],
         "marker": {
          "color": "hsl(164,60%,50%)",
          "size": 8
         },
         "mode": "markers",
         "name": "azurerm_logic_app_workflow",
         "type": "scatter",
         "x": {
          "bdata": "RJRkQtAK/UE3wDlCKkIVQg52o0GrtaVByb+yQBSyW0Bn0u3AXo3wwCJBr8FraivBvDjPQKyEnUHxqdDBhh6EwcHWcEFNZM1BJgXeQZvY2EFeILhBIM6rQeuK0cEd0jrB",
          "dtype": "f4"
         },
         "y": {
          "bdata": "C8RSQbb9g8HTrJXAOq5uP63FJUFA9gq/1eeswdFkaMBHIfbANFTkwIJOzMAkYSVAHzmLQSVgDELsf+VBcAYrQhidU8LsR0nCCmNIwiSyOsLeYF5BEFIAQjyk40FZb1BC",
          "dtype": "f4"
         }
        },
        {
         "hoverinfo": "text",
         "hovertext": [
          "azurerm_log_analytics_workspace: | **Build Status** | **Latest Version** | **Date** | |:-----------------|:-------------------|:-----…",
          "azurerm_log_analytics_workspace: To see more available Axso services please see **[Production Ready Services](https://dev.azure.com/A…",
          "azurerm_log_analytics_workspace: # INDEX  ----------------------------  1. [Azure Log Analytics Workspace Configuration](#azure-log-a…",
          "azurerm_log_analytics_workspace: # Azure Log Analytics Workspace Configuration  ----------------------------  [Learn more about Azure…",
          "azurerm_log_analytics_workspace: ## Service Description  ----------------------------  A Log Analytics workspace is a data store into…",
          "azurerm_log_analytics_workspace: ---------------------------- This module will deploy the following azurerm resources:  - azurerm_log…",
          "azurerm_log_analytics_workspace: **Construct:** `\"axso-${var.subscription}-appl-${var.project_name}-${var.environment}-loga\"`   **Non…",
          "azurerm_log_analytics_workspace: ----------------------------  ## module.tf  ```hcl module \"log_analytics_workspace\" {   source      …",
          "azurerm_log_analytics_workspace: ```  ## module.tf.tfvars  ```hcl  location              = \"West Europe\" environment           = \"dev…",
          "azurerm_log_analytics_workspace: variable \"subscription\" {   type        = string   description = \"The short name of the subscription…",
          "azurerm_log_analytics_workspace: variable \"resource_group_name\" {   type        = string   description = \"The name of the resource gr…",
          "azurerm_log_analytics_workspace: }  ```  <!-- BEGIN_TF_DOCS --> ### main.tf  ```hcl terraform {   backend \"azurerm\" {}    required_pr…",
          "azurerm_log_analytics_workspace: provider \"azuread\" {}  provider \"random\" {} ```  ----------------------------  # Input Description  …",
          "azurerm_log_analytics_workspace: ## Providers  | Name | Version | |------|---------| | <a name=\"provider_azurerm\"></a> [azurerm](#pro…",
          "azurerm_log_analytics_workspace: | Name | Description | Type | Default | Required | |------|-------------|------|---------|:--------:…",
          "azurerm_log_analytics_workspace: ## Outputs  | Name | Description | |------|-------------| | <a name=\"output_laws_id\"></a> [laws\\_id]…",
          "azurerm_log_analytics_workspace: # Releases  ## v1.0.0 - 13/10/2023  * Initial release  ## v1.1.0 - 27/11/2023  * README File modifie…",
          "azurerm_log_analytics_workspace: ## v1.3.1 - 19/04/2024  * Bump provider version to v3.98.0  ## v1.3.2 - 23/04/2024  * Dependencies u…",
          "azurerm_log_analytics_workspace: ## v1.3.6 - 25/06/2024  * Dependencies updated - Provider versions updated  ## v1.3.7 - 25/07/2024  …",
          "azurerm_log_analytics_workspace: * ReadmeV2 ## v1.4.1 - 24/11/2024  * Dependencies updated - Provider versions updated  ## v1.4.2 - 2…",
          "azurerm_log_analytics_workspace: # Infra Team Test  This template deploys a Resource Group and and then a storage account  <!-- BEGIN…",
          "azurerm_log_analytics_workspace: ## Providers  No providers.  ## Modules  | Name | Source | Version | |------|--------|---------| | <…",
          "azurerm_log_analytics_workspace: | Name | Description | Type | Default | Required | |------|-------------|------|---------|:--------:…",
          "azurerm_log_analytics_workspace: ## Outputs  No outputs. <!-- END_TF_DOCS -->…"
         ],
         "marker": {
          "color": "hsl(172,60%,50%)",
          "size": 8
         },
         "mode": "markers",
         "name": "azurerm_log_analytics_workspace",
         "type": "scatter",
         "x": {
          "bdata": "evtjQmBQAEKXmD5CX4M9QmuY30F9DatByQquQDfSH0C2nxDBMwaewSpRIcH7Jp+/3U4PQa0MoEFfFNjBEcSDwXrXXkEBFcVButrgQTx460H8HLtBu5yqQbmS2MGBFQPB",
          "dtype": "f4"
         },
         "y": {
          "bdata": "GqlEQYEcg8EhvMO/8W8fv5Do4EAWjPc+jWWswf7zCsGd9wnBKC8MwR9OI0CWmVVBC0OwQScYBUJIw+lB6VsuQszMV8LV/kbCaBRHwjcpR8I0o3ZBmNgCQmr35kFIAkFC",
          "dtype": "f4"
         }
        },
        {
         "hoverinfo": "text",
         "hovertext": [
          "azurerm_monitor_diagnostic_setting: # Introduction  TODO: Give a short introduction of your project. Let this section explain the object…",
          "azurerm_monitor_diagnostic_setting: # Build and Test TODO: Describe and show how to build your code and run the tests.   # Contribute TO…",
          "azurerm_monitor_diagnostic_setting: If you want to learn more about creating good readme files then refer the following [guidelines](htt…",
          "azurerm_monitor_diagnostic_setting: # Releases  ## v1.0.0  * Initial release…",
          "azurerm_monitor_diagnostic_setting: # Infra Team Test  This template deploys a monitor diagnostic settings and is linked with ADO pipeli…"
         ],
         "marker": {
          "color": "hsl(180,60%,50%)",
          "size": 8
         },
         "mode": "markers",
         "name": "azurerm_monitor_diagnostic_setting",
         "type": "scatter",
         "x": {
          "bdata": "r28IQvZkCEKoH8BB0VVkQWOLuUE=",
          "dtype": "f4"
         },
         "y": {
          "bdata": "O+SiQW8Go0H5VVjBTC40wnT6TkE=",
          "dtype": "f4"
         }
        },
        {
         "hoverinfo": "text",
         "hovertext": [
          "azurerm_monitor_workspace: | **Build Status** | **Latest Version** | **Date** | |:-----------------|:-------------------|:-----…",
          "azurerm_monitor_workspace: To see more available Axso services please see **[Production Ready Services](https://dev.azure.com/A…",
          "azurerm_monitor_workspace: # INDEX  ----------------------------  1. [Azure Monitor Workspace Configuration](#azure-monitor-wor…",
          "azurerm_monitor_workspace: ## Service Description  ----------------------------  An Azure Monitor workspace is a unique environ…",
          "azurerm_monitor_workspace: ---------------------------- This module will deploy the following azurerm resources:  - azurerm_mon…",
          "azurerm_monitor_workspace: **Construct:** `\"axso-${var.subscription}-${var.project_name}-${var.environment}-mws\"`  **Example**:…",
          "azurerm_monitor_workspace: # Terraform Files  ----------------------------  ## module.tf  ```hcl  module \"azurerm_monitor_works…",
          "azurerm_monitor_workspace: ```  ## module.tf.tfvars  ```hcl  location     = \"West Europe\" environment  = \"dev\" project_name = \"…",
          "azurerm_monitor_workspace: variable \"subscription\" {   type        = string   description = \"The short name of the subscription…",
          "azurerm_monitor_workspace: variable \"resource_group_name\" {   type        = string   description = \"The name of the Resource Gr…",
          "azurerm_monitor_workspace: ----------------------------  # Input Description  ## Requirements  | Name | Version | |------|-----…",
          "azurerm_monitor_workspace: ## Modules  No modules.    ## Resources  | Name | Type | |------|------| | [azurerm_monitor_workspac…",
          "azurerm_monitor_workspace: | Name | Description | Type | Default | Required | |------|-------------|------|---------|:--------:…",
          "azurerm_monitor_workspace: ## Outputs  | Name | Description | |------|-------------| | <a name=\"output_monitor_workspace_id\"></…",
          "azurerm_monitor_workspace: # Releases  ## v1.0.0 - 26/02/2024  * Initial release  ## v1.0.1 - 23/04/2024  * Dependencies update…",
          "azurerm_monitor_workspace: ## v1.0.5 - 31/05/2024  * Dependencies updated - Provider versions updated  ## v1.0.6 - 24/06/2024  …",
          "azurerm_monitor_workspace: ## v1.0.10 - 24/10/2024  * Dependencies updated - Provider versions updated  ## v1.1.0 - 08/11/2024 …",
          "azurerm_monitor_workspace: # Infra Team Test  <!-- BEGIN_TF_DOCS --> ## Requirements  | Name | Version | |------|---------| | <…",
          "azurerm_monitor_workspace: ## Resources  No resources.  ## Inputs…",
          "azurerm_monitor_workspace: | Name | Description | Type | Default | Required | |------|-------------|------|---------|:--------:…",
          "azurerm_monitor_workspace: ## Outputs  No outputs. <!-- END_TF_DOCS -->…"
         ],
         "marker": {
          "color": "hsl(188,60%,50%)",
          "size": 8
         },
         "mode": "markers",
         "name": "azurerm_monitor_workspace",
         "type": "scatter",
         "x": {
          "bdata": "LCZhQmc39kFQkD1CfTLfQXNQrEGL26VAwx7oP5YIDsFC6ZzBcpNnv7b0PEHaa6FB5mLZwT0wgsGVEHtBdA/QQav740H4HaBBE/KDQUVk2cEd0jrB",
          "dtype": "f4"
         },
         "y": {
          "bdata": "SF5HQRt1i8FS3c2/awjgQE17VT/IpaPBUGg7wcdIC8HkjAnByHGSQajPk0FwgQ9CmXvgQe5SIUIIFDzClN5Bwv8+QcL+6YhBk9IoQgN+4EFZb1BC",
          "dtype": "f4"
         }
        },
        {
         "hoverinfo": "text",
         "hovertext": [
          "azurerm_mssql_server: | **Build Status** | **Latest Version** | **Date** | |:-----------------|:-------------------|:-----…",
          "azurerm_mssql_server: To see more available Axso services please see **[Production Ready Services](https://dev.azure.com/A…",
          "azurerm_mssql_server: # INDEX  ----------------------------  1. [Resource Configuration](#microsoft-sql-server-configurati…",
          "azurerm_mssql_server: ----------------------------  This module is used to deploy a private endpointed MSSQL Server in Azu…",
          "azurerm_mssql_server: Ability to create and configure an elastic pool on the MsSql Server (Optional)    Ability to create …",
          "azurerm_mssql_server: **Microsoft SQL Server:** Microsoft SQL Server is a relational database management system (RDBMS) th…",
          "azurerm_mssql_server: **MSSQL Elastic Pool:** MSSQL Elastic Pool is a resource management solution within Azure SQL Databa…",
          "azurerm_mssql_server: **MS Database:** MS Database (Microsoft Database) generally refers to any database service offered b…",
          "azurerm_mssql_server: ## Deployed Resources  ----------------------------  - azurerm_mssql_server - azurerm_role_assignmen…",
          "azurerm_mssql_server: ----------------------------  It is assumed that the following resources already exists:  - Azure **…",
          "azurerm_mssql_server: **Construct:** `\"axso-${var.subscription}-appl-${var.project_name}-${var.environment}-sqlserver\"`   …",
          "azurerm_mssql_server: ## Terraform Files  ----------------------------  ## module.tf  ```hcl module \"axso_mssql_server\" { …",
          "azurerm_mssql_server: # Server params   location                                              = var.location   server_vers…",
          "azurerm_mssql_server: # EntraID Administrator     resource_group_name         = var.resource_group_name   login_username  …",
          "azurerm_mssql_server: # Private endpoint   network_resource_group_name = var.network_resource_group_name   network_name   …",
          "azurerm_mssql_server: # MSSQL Databases   mssql_databases = var.mssql_databases } ```  ## module.tf.tfvars  ```hcl resourc…",
          "azurerm_mssql_server: location                                              = \"West Europe\" environment                   …",
          "azurerm_mssql_server: create_elastic_pool = true elastic_pool_config = {   name                = \"test-elasticpool\"   max_…",
          "azurerm_mssql_server: mssql_databases = [   {     create_db                   = true     db_name                     = \"te…",
          "azurerm_mssql_server: ## variables.tf  ```hcl # Common Vars variable \"resource_group_name\" {   type        = string   desc…",
          "azurerm_mssql_server: variable \"project_name\" {   type        = string   description = \"The name of the project. e.g. MDS\"…",
          "azurerm_mssql_server: variable \"key_vault_name\" {   type        = string   description = \"The name of the key vault to sto…",
          "azurerm_mssql_server: variable \"mssql_administrator_group\" {   type        = string   description = \"The Azure AD group th…",
          "azurerm_mssql_server: }  variable \"login_username\" {   description = \"The Azure login username details for the server.\"   …",
          "azurerm_mssql_server: }  # Private endpoint (used in data block to get subnet ID) variable \"virtual_network_name\" {   type…",
          "azurerm_mssql_server: variable \"network_resource_group_name\" {   type        = string   description = \"The existing core n…",
          "azurerm_mssql_server: variable \"email_accounts\" {   type        = list(string)   description = \"Email accounts to send vul…",
          "azurerm_mssql_server: variable \"elastic_pool_config\" {   type = object({     name                = string     max_size_gb …",
          "azurerm_mssql_server: # MS SQL Databases variable \"mssql_databases\" {   type = list(object({     create_db                …",
          "azurerm_mssql_server: }))   default = [     {       create_db                   = true       db_name                     =…",
          "azurerm_mssql_server: ## main.tf  ```hcl terraform {   backend \"azurerm\" {}   required_providers {     azurerm = {       s…",
          "azurerm_mssql_server: provider \"azuread\" { } ```  # Input Description  <!-- BEGIN_TF_DOCS --> ### main.tf  ```hcl terrafor…",
          "azurerm_mssql_server: provider \"azurerm\" {   features {     key_vault {       purge_soft_delete_on_destroy = true     }   …",
          "azurerm_mssql_server: provider \"azuread\" { } ```  ----------------------------  # Input Description  ## Requirements  | Na…",
          "azurerm_mssql_server: ## Providers  | Name | Version | |------|---------| | <a name=\"provider_azuread\"></a> [azuread](#pro…",
          "azurerm_mssql_server: | Name | Type | |------|------| | [azurerm_key_vault_secret.mysql_password](https://registry.terrafo…",
          "azurerm_mssql_server: ## Inputs…",
          "azurerm_mssql_server: | Name | Description | Type | Default | Required | |------|-------------|------|---------|:--------:…",
          "azurerm_mssql_server: ## Outputs…",
          "azurerm_mssql_server: | Name | Description | |------|-------------| | <a name=\"output_fully_qualified_domain_name\"></a> [f…",
          "azurerm_mssql_server: | **Build Status** | **Latest Version** | **Date** | |:-----------------|:-------------------|:-----…",
          "azurerm_mssql_server: To see more available Axso services please see **[Production Ready Services](https://dev.azure.com/A…",
          "azurerm_mssql_server: # INDEX  ----------------------------  1. [Microsoft SQL Server Configuration](#microsoft-sql-server…",
          "azurerm_mssql_server: ----------------------------  This module is used to deploy a private endpointed MSSQL Server in Azu…",
          "azurerm_mssql_server: Ability to create and configure an elastic pool on the MsSql Server (Optional)    Ability to create …",
          "azurerm_mssql_server: **Microsoft SQL Server:** Microsoft SQL Server is a relational database management system (RDBMS) th…",
          "azurerm_mssql_server: **MSSQL Elastic Pool:** MSSQL Elastic Pool is a resource management solution within Azure SQL Databa…",
          "azurerm_mssql_server: **MS Database:** MS Database (Microsoft Database) generally refers to any database service offered b…",
          "azurerm_mssql_server: ## Deployed Resources  ----------------------------  - azurerm_mssql_server - azurerm_role_assignmen…",
          "azurerm_mssql_server: ----------------------------  It is assumed that the following resources already exists:  - Azure **…",
          "azurerm_mssql_server: **Construct:** `\"axso-${var.subscription}-appl-${var.project_name}-${var.environment}-sqlserver\"`   …",
          "azurerm_mssql_server: ## Terraform Files  ----------------------------  ## module.tf  ```hcl module \"axso_mssql_server\" { …",
          "azurerm_mssql_server: # Server params   location                                              = var.location   server_vers…",
          "azurerm_mssql_server: # EntraID Administrator     resource_group_name         = var.resource_group_name   login_username  …",
          "azurerm_mssql_server: # Private endpoint   network_resource_group_name = var.network_resource_group_name   network_name   …",
          "azurerm_mssql_server: # MSSQL Databases   mssql_databases = var.mssql_databases } ```  ## module.tf.tfvars  ```hcl resourc…",
          "azurerm_mssql_server: location                                              = \"West Europe\" environment                   …",
          "azurerm_mssql_server: create_elastic_pool = true elastic_pool_config = {   name                = \"test-elasticpool\"   max_…",
          "azurerm_mssql_server: mssql_databases = [   {     create_db                   = true     db_name                     = \"te…",
          "azurerm_mssql_server: ## variables.tf  ```hcl # Common Vars variable \"resource_group_name\" {   type        = string   desc…",
          "azurerm_mssql_server: variable \"project_name\" {   type        = string   description = \"The name of the project. e.g. MDS\"…",
          "azurerm_mssql_server: variable \"key_vault_name\" {   type        = string   description = \"The name of the key vault to sto…",
          "azurerm_mssql_server: variable \"mssql_administrator_group\" {   type        = string   description = \"The Azure AD group th…",
          "azurerm_mssql_server: }  variable \"login_username\" {   description = \"The Azure login username details for the server.\"   …",
          "azurerm_mssql_server: }  # Private endpoint (used in data block to get subnet ID) variable \"virtual_network_name\" {   type…",
          "azurerm_mssql_server: variable \"network_resource_group_name\" {   type        = string   description = \"The existing core n…",
          "azurerm_mssql_server: variable \"email_accounts\" {   type        = list(string)   description = \"Email accounts to send vul…",
          "azurerm_mssql_server: variable \"elastic_pool_config\" {   type = object({     name                = string     max_size_gb …",
          "azurerm_mssql_server: # MS SQL Databases variable \"mssql_databases\" {   type = list(object({     create_db                …",
          "azurerm_mssql_server: }))   default = [     {       create_db                   = true       db_name                     =…",
          "azurerm_mssql_server: ```  <!-- BEGIN_TF_DOCS -->   ## main.tf  ```hcl terraform {   backend \"azurerm\" {} }  provider \"azu…",
          "azurerm_mssql_server: provider \"azuread\" { } ```  # Input Description  ## Requirements  | Name | Version | |------|-------…",
          "azurerm_mssql_server: ## Providers  | Name | Version | |------|---------| | <a name=\"provider_azuread\"></a> [azuread](#pro…",
          "azurerm_mssql_server: | Name | Type | |------|------| | [azurerm_key_vault_secret.mysql_password](https://registry.terrafo…",
          "azurerm_mssql_server: ## Inputs…",
          "azurerm_mssql_server: | Name | Description | Type | Default | Required | |------|-------------|------|---------|:--------:…",
          "azurerm_mssql_server: ## Outputs…",
          "azurerm_mssql_server: | Name | Description | |------|-------------| | <a name=\"output_fully_qualified_domain_name\"></a> [f…",
          "azurerm_mssql_server: # Releases  ## v1.0.0 - 20/11/2024  * Initial release  ## v1.1.0 - 24/11/2024  * Added feature - Abi…",
          "azurerm_mssql_server: ## v1.3.1 - 05/02/2024  * Bump azurerm provider version 3.75.0 -> 3.90.0 * Bump terraform version 1.…",
          "azurerm_mssql_server: ## v1.5.2 - 25/04/2024  * Dependencies updated - Provider versions updated  ## v1.6.0 - 29/05/2024  …",
          "azurerm_mssql_server: ## v1.6.4 - 25/08/2024  * Dependencies updated - Provider versions updated  ## v2.0.0 - 05/09/2024  …",
          "azurerm_mssql_server: ## v2.1.1 - 25/09/2024  * Dependencies updated - Provider versions updated  ## v2.1.2 - 24/10/2024  …",
          "azurerm_mssql_server: # Infra Team Test  This module is used to create a SQL Server in Azure and is for testing purposes o…",
          "azurerm_mssql_server: ## Providers  No providers.  ## Modules  | Name | Source | Version | |------|--------|---------| | <…",
          "azurerm_mssql_server: | Name | Description | Type | Default | Required | |------|-------------|------|---------|:--------:…",
          "azurerm_mssql_server: ## Outputs  No outputs. <!-- END_TF_DOCS -->…"
         ],
         "marker": {
          "color": "hsl(196,60%,50%)",
          "size": 8
         },
         "mode": "markers",
         "name": "azurerm_mssql_server",
         "type": "scatter",
         "x": {
          "bdata": "/KleQnIy/UG8HkJCpbbxQaL9HUJPrB1CoPAXQhW9G0IUA6JBTSthQRdSlUBqfzVAMoK8wdBV4sG3DNTBoYtTwcE1E8KgLjDCoMwswkE5LcGgN6fBe2zewcUZ88FE0+fBeQ6bwcCZrcEJnfnBGNUVwgGTA8L8HAvC0US6vqDfsb+U6YNA2k4JQZbjbUHWTdm/Byd2QTfMCcJbTgNB95auwQOqXkLrFwVCMidCQqS18UE+/h1CT6wdQqDwF0I8vBtCFAOiQY0pYUEiTZVAg381QPuBvMFTTuLBOA3UwUSOU8FTNhPCcy4wwrjLLML7Ni3B7imnwXts3sF9GfPBwtHnwXkOm8Esmq3BCZ35wcHVFcJHlQPCGx0LwpWgvz8rwQlBAupmQWBO2b+vBWxBPMAJwidJEUH3lq7B8VJqQaUxhkHamdNBwYn+QdVG9UH03L1B97jFQfy2CcLI+yDB",
          "dtype": "f4"
         },
         "y": {
          "bdata": "YfdeQWDljsF1DsDAkGNvwCBZ1cBhUIrADni3wLBcd8B2xmxA5SqfwTTWrMFWVzzBE4iuwYySyMHE/cDBfCJbwcoFhsEFCinAdsAhv0K7nsCS3AfByfNYwCD0iMASPpnA64r0vz3Zq7/SF/y+IhU7QPLKnb/F54VBpURrQav5Y0F+3pZB1PiuQRHO+0EZ6wJCoiheQmyEzkEa8GNC6XMeQnv3XkHHvJTBerTKwNhWb8A6WNXAYVCKwD54t8DXZHfAdsZsQJgsn8GY1qzBVlc8wbGHrsFki8jBwf3AwdojW8GGB4bBfZAowMg+Ir8Is57A8+8HwcnzWMBm8ojAhT2ZwOuK9L+p0Ku/0hf8vqkhPEA/kZ2/Ke2FQR/llEF1dK9BXKz8QRjrAkLnTVpCyIfOQRXdYkLpcx5CXMlGwj2oWML4nlLCG3JGwtxrPcJHn4dBkHECQhqPzkHKX0BC",
          "dtype": "f4"
         }
        },
        {
         "hoverinfo": "text",
         "hovertext": [
          "azurerm_mysql_flexible_server: | **Build Status** | **Latest Version** | **Date** | |:-----------------|:-------------------|:-----…",
          "azurerm_mysql_flexible_server: To see more available Axso services please see **[Production Ready Services](https://dev.azure.com/A…",
          "azurerm_mysql_flexible_server: # INDEX -------  1. [Azure MySQL flexible server Configuration](#azure-mysql-flexible-server-configu…",
          "azurerm_mysql_flexible_server: Azure Database for MySQL flexible server is cost effective and easy to set up, operate, and scale. E…",
          "azurerm_mysql_flexible_server: ## Deployed Resources ---------------------  This module will deploy the following azurerm resources…",
          "azurerm_mysql_flexible_server: ## Pre-requisites -----------------  It is assumed that the following resources already exists:  - R…",
          "azurerm_mysql_flexible_server: **Construct MySQL flexible server name:** `axso-${var.subscription}-appl-${var.project_name}-${var.e…",
          "azurerm_mysql_flexible_server: # Generic   resource_group_name = var.resource_group_name   location            = var.location   pro…",
          "azurerm_mysql_flexible_server: # SQL server configuration   mysql_version = var.mysql_version   sku_name      = var.sku_name    # A…",
          "azurerm_mysql_flexible_server: # Storage   storage = var.storage    # Backup and restore configuration   geo_redundant_backup_enabl…",
          "azurerm_mysql_flexible_server: # Databases   databases = var.databases } ```  ## module.tf.tfvars  ```hcl # Generic  resource_group…",
          "azurerm_mysql_flexible_server: storage = {   auto_grow_enabled  = true   io_scaling_enabled = false   iops               = 360   si…",
          "azurerm_mysql_flexible_server: allowed_cidrs = {   \"onprem\" = \"10.0.0.0/24\" }  # Authentication administrator_login            = \"s…",
          "azurerm_mysql_flexible_server: mysql_options = {   audit_log_enabled = \"ON\" }  high_availability_mode = {   mode = \"SameZone\" } ```…",
          "azurerm_mysql_flexible_server: variable \"location\" {   type        = string   description = \"The default location where the mysql s…",
          "azurerm_mysql_flexible_server: variable \"environment\" {   type        = string   description = \"The environment. e.g. dev, qa, uat,…",
          "azurerm_mysql_flexible_server: variable \"geo_redundant_backup_enabled\" {   type        = bool   description = \"(Required) Enable Ge…",
          "azurerm_mysql_flexible_server: variable \"databases\" {   type        = map(map(string))   description = \"(Required) The databases to…",
          "azurerm_mysql_flexible_server: variable \"administrator_login\" {   type        = string   description = \"(Required) The administrato…",
          "azurerm_mysql_flexible_server: variable \"admin_password_expiration_date\" {   type        = string   description = \"(Required) The e…",
          "azurerm_mysql_flexible_server: variable \"high_availability_mode\" {   type = object({     mode = string   }) }  variable \"delegated_…",
          "azurerm_mysql_flexible_server: ```  <!-- BEGIN_TF_DOCS --> ### main.tf  ```hcl terraform {   backend \"azurerm\" {}    required_provi…",
          "azurerm_mysql_flexible_server: ----------------------------  # Input Description  ## Requirements  | Name | Version | |------|-----…",
          "azurerm_mysql_flexible_server: ## Providers  | Name | Version | |------|---------| | <a name=\"provider_azuread\"></a> [azuread](#pro…",
          "azurerm_mysql_flexible_server: | Name | Type | |------|------| | [azurerm_key_vault_secret.mysql_password](https://registry.terrafo…",
          "azurerm_mysql_flexible_server: ## Inputs…",
          "azurerm_mysql_flexible_server: | Name | Description | Type | Default | Required | |------|-------------|------|---------|:--------:…",
          "azurerm_mysql_flexible_server: ## Outputs…",
          "azurerm_mysql_flexible_server: | Name | Description | |------|-------------| | <a name=\"output_mysql_flexible_database_ids\"></a> [m…",
          "azurerm_mysql_flexible_server: # Releases  ## v1.0.0 - 16/11/2023  * Initial release  ## v1.1.0 - 22/12/2023  * Added random string…",
          "azurerm_mysql_flexible_server: ## v1.3.0 - 25/03/2024  * Tags added to lifecycle block in module    ## v1.3.1 - 23/04/2024  * Depen…",
          "azurerm_mysql_flexible_server: ## v1.3.5 - 25/06/2024  * Dependencies updated - Provider versions updated  ## v1.3.6 - 25/07/2024  …",
          "azurerm_mysql_flexible_server: ## v1.3.11 - 07/01/2025  * Dependencies updated - Provider versions updated  ## v1.3.12 - 27/01/2025…",
          "azurerm_mysql_flexible_server: <!-- BEGIN_TF_DOCS --> ## Requirements  | Name | Version | |------|---------| | <a name=\"requirement…",
          "azurerm_mysql_flexible_server: ## Resources  No resources.  ## Inputs…",
          "azurerm_mysql_flexible_server: | Name | Description | Type | Default | Required | |------|-------------|------|---------|:--------:…",
          "azurerm_mysql_flexible_server: ## Outputs  No outputs. <!-- END_TF_DOCS -->…"
         ],
         "marker": {
          "color": "hsl(203,60%,50%)",
          "size": 8
         },
         "mode": "markers",
         "name": "azurerm_mysql_flexible_server",
         "type": "scatter",
         "x": {
          "bdata": "16pmQkVS6EECqzNCOaAVQmYRpkE+XmRB5vFCQGd3yMG1JNrB5FjTwUl0V8HzVinCLNoOwqpmFMGSLprBVIS6wfRfBsJJ/vjBRwDzwQBI8cEmrD3B7MjmP08jRkGjYGlB9fsBwLTfc0Gb/AjC86EMQRohrMF6OVVBdGzdQb6+3kFyfNNBoZSAQb2IhkF6EwnCUTEXwQ==",
          "dtype": "f4"
         },
         "y": {
          "bdata": "juFyQQVSmcFgg5HAWbI7wFAzNUACdpbBzw+qwY3mzsEgu87BbHHWwcbSVMHd4b/AMH6OwXYBUcB78MzAAv3RwOZjr0AdoCjAanRhwN14P8Bw4FA/jcyEQW00okEhYvhBq6gDQrElVUKcQt9Bnh5lQt6/IkIfJE/CUQdkwqiiRsLdzDnC/LeLQYP6KkKQv95Bm4VAQg==",
          "dtype": "f4"
         }
        },
        {
         "hoverinfo": "text",
         "hovertext": [
          "azurerm_network_security_group: | **Build Status** | **Latest Version** | **Date** | |:-----------------|:-------------------|:-----…",
          "azurerm_network_security_group: To see more available Axso services please see **[Production Ready Services](https://dev.azure.com/A…",
          "azurerm_network_security_group: # INDEX  ----------------------------  1. [Azure Network Security Group Configuration](#azure-networ…",
          "azurerm_network_security_group: ## Service Description  ----------------------------  A network security group contains security rul…",
          "azurerm_network_security_group: - azurerm_network_security_group  ## Pre-requisites  ----------------------------  It is assumed tha…",
          "azurerm_network_security_group: The naming convention is derived from the following variable `subnet_name`:    **Construct:** `\"${va…",
          "azurerm_network_security_group: ## module.tf  ```hcl module \"axso_nsg\" {   source              = \"git::ssh://git@ssh.dev.azure.com/v…",
          "azurerm_network_security_group: ## module.tf.tfvars  ```hcl resource_group_name                 = \"rg-cloudinfra-nonprod-axso-ymiw\" …",
          "azurerm_network_security_group: nsgs = [   {     subnet_name         = \"pe\"     associate_to_subnet = false     nsg_rules = [       …",
          "azurerm_network_security_group: ## variables.tf  ```hcl ################################################## # VARIABLES              …",
          "azurerm_network_security_group: variable \"virtual_network_resource_group_name\" {   type        = string   description = \"The name of…",
          "azurerm_network_security_group: variable \"nsgs\" {   type = list(object({     subnet_name         = string     associate_to_subnet = …",
          "azurerm_network_security_group: nsg_rules = list(object({       nsg_rule_name                = optional(string, \"default_rule_name\")…",
          "azurerm_network_security_group: default     = []   description = \"Specifies a list of objects to represent Network Security Group(NS…",
          "azurerm_network_security_group: ```  ----------------------------  # Input Description  ## Requirements  | Name | Version | |------|…",
          "azurerm_network_security_group: ## Modules  No modules.    ## Resources  | Name | Type | |------|------| | [azurerm_network_security…",
          "azurerm_network_security_group: | Name | Description | Type | Default | Required | |------|-------------|------|---------|:--------:…",
          "azurerm_network_security_group: ## Outputs  | Name | Description | |------|-------------| | <a name=\"output_id\"></a> [id](#output\\_i…",
          "azurerm_network_security_group: # Releases  ## v1.0.0 - 16/10/2023  * Initial release  ## v1.0.1 - 05/02/2024  * Bump azurerm provid…",
          "azurerm_network_security_group: ## v1.2.2 - 25/04/2024  * Dependencies updated - Provider versions updated  ## v1.2.3 - 25/05/2024  …",
          "azurerm_network_security_group: ## v1.2.7 - 01/08/2024  * Dependencies updated - Provider versions updated  ## v1.2.8 - 01/08/2024  …",
          "azurerm_network_security_group: ## v1.2.11 - 25/10/2024  * Dependencies updated - Provider versions updated  ## v1.3.0 - 11/11/2024 …",
          "azurerm_network_security_group: ## v1.3.2 - 25/12/2024  * Dependencies updated - Provider versions updated  ## v1.3.3 - 25/01/2025  …",
          "azurerm_network_security_group: # Infra Team Test  This module is for testing purposes only.   <!-- BEGIN_TF_DOCS --> ## Requirement…",
          "azurerm_network_security_group: ## Resources  No resources.  ## Inputs…",
          "azurerm_network_security_group: | Name | Description | Type | Default | Required | |------|-------------|------|---------|:--------:…",
          "azurerm_network_security_group: ## Outputs  No outputs. <!-- END_TF_DOCS -->…"
         ],
         "marker": {
          "color": "hsl(211,60%,50%)",
          "size": 8
         },
         "mode": "markers",
         "name": "azurerm_network_security_group",
         "type": "scatter",
         "x": {
          "bdata": "tn5kQrm+BULUYEdCxWb5QZx5dEEezLdAmnf2P+SF8cCaprPBxbwywXXsiMFSRrXBfEm5wX1KpD7OMS5Bd4OdQUNkx8FnsIbBOU1nQWEEzkHFGsxB/mqyQV1b2UGXYp9B1Z+BQUNkx8HvVffA",
          "dtype": "f4"
         },
         "y": {
          "bdata": "bIZkQeTJmcGTxGHAY8jtQKKXi8EcbpbBJNIUwTONOMFzIHtBFnpywD0ESD88vW9BO3iDQZpEmkHbZI9BCZwTQlkgvUGFXCZChJpTwk8BScJ8ikbCyT0/wvZUOsK6tH9B7/4qQlkgvUG7A0JC",
          "dtype": "f4"
         }
        },
        {
         "hoverinfo": "text",
         "hovertext": [
          "azurerm_network_security_rule: | **Build Status** | **Latest Version** | **Date** | |:-----------------|:-------------------|:-----…",
          "azurerm_network_security_rule: To see more available Axso services please see **[Production Ready Services](https://dev.azure.com/A…",
          "azurerm_network_security_rule: # INDEX -------  1. [Azure Network security rule](#azure-network-security-rule) 2. [Terraform Files]…",
          "azurerm_network_security_rule: ## Service Description ----------------------  You can use an Azure network security group to filter…",
          "azurerm_network_security_rule: This article describes the properties of a network security group rule, the default security rules t…",
          "azurerm_network_security_rule: - Resource Group - Network security group  ## Axso Naming convention example -----------------------…",
          "azurerm_network_security_rule: # Terraform Files -----------------  ## module.tf  ```hcl module \"axso_nsg_rules\" {   for_each      …",
          "azurerm_network_security_rule: ## module.tf.tfvars  ```hcl location = \"westeurope\"  resource_group_name = \"axso-np-appl-ssp-test-rg…",
          "azurerm_network_security_rule: variable \"resource_group_name\" {   type        = string   description = \"Specifies the Resource Grou…",
          "azurerm_network_security_rule: ```hcl #Master config file locals {   nsg_config = {     #Identify NSG 1      axso-np-appl-test-nsg-…",
          "azurerm_network_security_rule: #Identify NSG 2      axso-np-appl-test-nsg-2 = {       nsgRules = [         {           nsg_rule_nam…",
          "azurerm_network_security_rule: <!-- BEGIN_TF_DOCS --> ### main.tf  ```hcl terraform {   backend \"azurerm\" {}   required_providers {…",
          "azurerm_network_security_rule: ----------------------------  # Input Description  ## Requirements  | Name | Version | |------|-----…",
          "azurerm_network_security_rule: ## Modules  No modules.    ## Resources  | Name | Type | |------|------| | [azurerm_network_security…",
          "azurerm_network_security_rule: | Name | Description | Type | Default | Required | |------|-------------|------|---------|:--------:…",
          "azurerm_network_security_rule: ## Outputs  | Name | Description | |------|-------------| | <a name=\"output_nsg_rules_map\"></a> [nsg…",
          "azurerm_network_security_rule: # Releases  ## v1.0.0 - 13/10/2023  * Initial release  ## v1.0.1 - 02/02/2024  * Bump azurerm provid…",
          "azurerm_network_security_rule: ## v1.1.3 - 25/05/2024  * Dependencies updated - Provider versions updated  ## v1.1.4 - 31/05/2024  …",
          "azurerm_network_security_rule: ## v1.1.8 - 25/09/2024  * Dependencies updated - Provider versions updated  ## v1.1.9 - 25/10/2024  …",
          "azurerm_network_security_rule: ## v1.2.4 - 26/02/2025  * Dependencies updated - Provider versions updated  ## v1.2.5 - 25/03/2025  …",
          "azurerm_network_security_rule: # Infra Team Test  This template deploys Azure Network Security Rules and is linked with ADO pipelin…",
          "azurerm_network_security_rule: ## Providers  No providers.  ## Modules  | Name | Source | Version | |------|--------|---------| | <…",
          "azurerm_network_security_rule: | Name | Description | Type | Default | Required | |------|-------------|------|---------|:--------:…",
          "azurerm_network_security_rule: ## Outputs  No outputs. <!-- END_TF_DOCS -->…"
         ],
         "marker": {
          "color": "hsl(219,60%,50%)",
          "size": 8
         },
         "mode": "markers",
         "name": "azurerm_network_security_rule",
         "type": "scatter",
         "x": {
          "bdata": "iQNkQv536EF6VUlCn8T9QZ8n+EH3aitB+VTlPyT5EMHd5z3BHMevwQafssGPlLE8R79EQfjonUGv8MXBpilvwfNyZUEhhNNBsGLnQTqx00EQAbRBZafDQVmpw8FulAvB",
          "dtype": "f4"
         },
         "y": {
          "bdata": "6mppQVjnksH1k0nAScnnQP5C8UCGSpTBKQYnwV/oAsFgfi3AOt59QfVYfkEFeodBi8OSQWTzE0LqZbhBNPQjQk1LUsKJKEbCsXBDwt+sNcL+TGpBj68DQpauwEGTK0BC",
          "dtype": "f4"
         }
        },
        {
         "hoverinfo": "text",
         "hovertext": [
          "azurerm_postgresql_flexible_server: | **Build Status** | **Latest Version** | **date** | |:-----------------|:-------------------|:-----…",
          "azurerm_postgresql_flexible_server: To see more available Axso services please see **[Production Ready Services](https://dev.azure.com/A…",
          "azurerm_postgresql_flexible_server: # INDEX  ----------------------------  1. [PostgreSQL flexible server Configuration](#postgresql-fle…",
          "azurerm_postgresql_flexible_server: >**Note:**   > >- To adhere to Axpo's security policies, PostgreSQL Flexible Server cannot be deploy…",
          "azurerm_postgresql_flexible_server: ## Service Description  ----------------------------  Azure Database for PostgreSQL flexible server …",
          "azurerm_postgresql_flexible_server: ----------------------------  This module will deploy the following azurerm resources:  - azuread_gr…",
          "azurerm_postgresql_flexible_server: - Resource Group - Virtual Network - Dedicated subnet (Subnet delegation - Microsoft.DBforPostgreSQL…",
          "azurerm_postgresql_flexible_server: ## Axso Naming convention example  ----------------------------  The naming convention is derived fr…",
          "azurerm_postgresql_flexible_server: # Terraform Files  ----------------------------  ## module.tf  ```hcl  module \"axso_postgresql_flexi…",
          "azurerm_postgresql_flexible_server: # Naming convention for postgresql flexible server   project_name = var.project_name   subscription …",
          "azurerm_postgresql_flexible_server: # Network configuration   vnet_integration_enable = var.vnet_integration_enable   psql_subnet_name  …",
          "azurerm_postgresql_flexible_server: # Authentication configuration   password_auth_enabled          = var.password_auth_enabled   route_…",
          "azurerm_postgresql_flexible_server: # Identity configuration   identity_type  = var.identity_type   identity_names = var.identity_names …",
          "azurerm_postgresql_flexible_server: # Databadses configuration   postgresql_flexible_server_databases = var.postgresql_flexible_server_d…",
          "azurerm_postgresql_flexible_server: # PostgreSQL flexible server pgsql_version     = \"15\" sku_name          = \"GP_Standard_D2ds_v5\" stor…",
          "azurerm_postgresql_flexible_server: # Authentication configuration password_auth_enabled          = true #Blocked by policy route_table_…",
          "azurerm_postgresql_flexible_server: # High availability configuration high_availability_required = false high_availability_mode     = \"Z…",
          "azurerm_postgresql_flexible_server: ## variables.tf  ```hcl  # Prerequisites:  # Admin EID group for access to the PostgreSQL server  va…",
          "azurerm_postgresql_flexible_server: variable \"keyvault_resource_group_name\" {   type        = string   description = \"The name of the re…",
          "azurerm_postgresql_flexible_server: variable \"subscription\" {   type        = string   default     = \"p\"   description = \"The subscripti…",
          "azurerm_postgresql_flexible_server: variable \"resource_group_name\" {   type        = string   default     = \"axso-np-appl-<project-name>…",
          "azurerm_postgresql_flexible_server: variable \"location\" {   type        = string   default     = \"west europe\"   description = \"(Require…",
          "azurerm_postgresql_flexible_server: variable \"sku_name\" {   type        = string   default     = \"B_Standard_B1ms\"   description = \"(Opt…",
          "azurerm_postgresql_flexible_server: variable \"storage_mb\" {   type        = number   default     = 32768   description = \"(Optional) The…",
          "azurerm_postgresql_flexible_server: variable \"storage_tier\" {   type        = string   default     = \"P10\"   description = <<EOF   (Opti…",
          "azurerm_postgresql_flexible_server: variable \"auto_grow_enabled\" {   type        = bool   default     = true   description = \"(Optional)…",
          "azurerm_postgresql_flexible_server: # Network configuration  variable \"vnet_integration_enable\" {   type        = bool   default     = t…",
          "azurerm_postgresql_flexible_server: variable \"psql_subnet_name\" {   type        = string   default     = null   description = \"(for data…",
          "azurerm_postgresql_flexible_server: variable \"virtual_network_name\" {   type        = string   default     = null   description = \"(for …",
          "azurerm_postgresql_flexible_server: variable \"virtual_network_rg\" {   type        = string   default     = null   description = \"(for da…",
          "azurerm_postgresql_flexible_server: # Authentication configuration  variable \"active_directory_auth_enabled\" {   type        = bool   de…",
          "azurerm_postgresql_flexible_server: variable \"route_table_name\" {   type        = string   default     = null   description = \"(Optional…",
          "azurerm_postgresql_flexible_server: variable \"identity_type\" {   type        = string   default     = \"UserAssigned\"   description = \"(R…",
          "azurerm_postgresql_flexible_server: # High availability configuration  variable \"high_availability_required\" {   type        = bool   de…",
          "azurerm_postgresql_flexible_server: # Backup configuration  variable \"backup_retention_days\" {   type        = number   default     = 7 …",
          "azurerm_postgresql_flexible_server: }   #-------------------------------------# # PostgreSQL flexible server database # #---------------…",
          "azurerm_postgresql_flexible_server: ```  <!-- BEGIN_TF_DOCS --> ### main.tf  ```hcl terraform {   backend \"azurerm\" {}   required_provid…",
          "azurerm_postgresql_flexible_server: provider \"azuread\" {} ```  ----------------------------  # Input Description  ## Requirements  | Nam…",
          "azurerm_postgresql_flexible_server: ## Providers  | Name | Version | |------|---------| | <a name=\"provider_azuread\"></a> [azuread](#pro…",
          "azurerm_postgresql_flexible_server: | Name | Type | |------|------| | [azurerm_key_vault_secret.password_secret](https://registry.terraf…",
          "azurerm_postgresql_flexible_server: ## Inputs…",
          "azurerm_postgresql_flexible_server: | Name | Description | Type | Default | Required | |------|-------------|------|---------|:--------:…",
          "azurerm_postgresql_flexible_server: ## Outputs…",
          "azurerm_postgresql_flexible_server: | Name | Description | |------|-------------| | <a name=\"output_fqdn\"></a> [fqdn](#output\\_fqdn) | T…",
          "azurerm_postgresql_flexible_server: # Releases  ## v1.0.0 - 06/12/2023  * Initial release  ## v1.1.0 - 07/12/2023  * Secret expiration e…",
          "azurerm_postgresql_flexible_server: ## v1.2.1 - 23/04/2024  * Dependencies updated - Provider versions updated  ## v1.2.2 - 25/04/2024  …",
          "azurerm_postgresql_flexible_server: * Fix networking bug  ## v1.3.1 - 25/06/2024  * Dependencies updated - Provider versions updated  ##…",
          "azurerm_postgresql_flexible_server: * Dependencies updated - Provider versions updated * Removed group creation   ## v1.6.1 - 25/09/2024…",
          "azurerm_postgresql_flexible_server: ## v1.7.1 - 07/01/2025  * Dependencies updated - Provider versions updated  ## v1.7.2 - 27/01/2025  …",
          "azurerm_postgresql_flexible_server: ## v1.7.2 - 27/01/2025  * Dependencies updated - Provider versions updated  ## v1.8.0 - 03/02/2025  …",
          "azurerm_postgresql_flexible_server: ## v1.8.1 - 26/02/2025  * Dependencies updated - Provider versions updated  ## v1.8.2 - 25/03/2025  …",
          "azurerm_postgresql_flexible_server: # Infra Team Test  This is a test for the Infra team to check the quality of the code and the docume…",
          "azurerm_postgresql_flexible_server: ## Providers  No providers.  ## Modules  | Name | Source | Version | |------|--------|---------| | <…",
          "azurerm_postgresql_flexible_server: | Name | Description | Type | Default | Required | |------|-------------|------|---------|:--------:…",
          "azurerm_postgresql_flexible_server: ## Outputs  No outputs. <!-- END_TF_DOCS -->…"
         ],
         "marker": {
          "color": "hsl(227,60%,50%)",
          "size": 8
         },
         "mode": "markers",
         "name": "azurerm_postgresql_flexible_server",
         "type": "scatter",
         "x": {
          "bdata": "gtpkQjkE/kGG4UJCQEPwQRkK2UHZ7adBQK6JQVcM8kAsES5ADEbHwU1s18FALuDBnIbUwfC8XsHl2RXCgQQOwkf+8cF2gkjBI726wcoQmsEZUIrBWmOPwRx50sEbEADCxMr/wdVms8EP+avBMImowZuPq8Gigq/B3f8Dwp8QA8KR/eDBNrzwwdGZBsJ9D3HBMj6MP+qpCkGFjm5BGhbCv68FbEEjzAzC3NkIQZtDrMFSOU5BvNzIQUVeyEFBJeVBOLnHQf6frkHzmc1BXF25QSxKzUEq4gzCnJcewQ==",
          "dtype": "f4"
         },
         "y": {
          "bdata": "Gd+AQV46lcHCTePAUHaOwNCWQ0BKrCxAlq2SwUVKoMFCIzbBGDjVwcDzw8EYdcDB3fLTwb5MTcHS+zvB5UORwYUO6kCIHwDBtaQswHZYBcF0e41A9tmdwIWy2cBAR25AcvJsQFNrwT9wGoU/+QNpP57Dhj/O9p0/MrOjwKFSnMCss+pA3gboQPLM50DAF0nBCzl/Qas3rUEPOvtBW4MCQudNWkJAB+ZBvGtnQqXJIEIDLk/C3qlMwrLxT8IjvVPCmvc2wm46OsKYrTTCVtyYQWQ2AkKEGeZBtslEQg==",
          "dtype": "f4"
         }
        },
        {
         "hoverinfo": "text",
         "hovertext": [
          "azurerm_private_dns_records: | **Build Status** | **Latest Version** | **Date** | |:-----------------|:-------------------|:-----…",
          "azurerm_private_dns_records: To see more available Axso services please see **[Production Ready Services](https://dev.azure.com/A…",
          "azurerm_private_dns_records: # INDEX  ----------------------------  1. [Private DNS Records configuration](#private-dns-records-c…",
          "azurerm_private_dns_records: ## Service Description  ----------------------------  A Private DNS record in Azure is a DNS entry c…",
          "azurerm_private_dns_records: ----------------------------  This module allows the following private DNS records to be deployed:  …",
          "azurerm_private_dns_records: ----------------------------  It is assumed that the following resources already exists:  - Resource…",
          "azurerm_private_dns_records: ## Terraform Files  ----------------------------  > >**Note**: >Not all record types are required to…",
          "azurerm_private_dns_records: module \"dns-a-records-administration\" {   providers = {     azurerm = azurerm.dns   }   source      …",
          "azurerm_private_dns_records: # AAAA Records…",
          "azurerm_private_dns_records: module \"dns-aaaa-records-administration\" {   providers = {     azurerm = azurerm.dns   }   source   …",
          "azurerm_private_dns_records: # PTR Records…",
          "azurerm_private_dns_records: module \"dns-ptr-records-administration\" {   providers = {     azurerm = azurerm.dns   }   source    …",
          "azurerm_private_dns_records: # CNAME Records…",
          "azurerm_private_dns_records: module \"dns-cname-records-administration\" {   providers = {     azurerm = azurerm.dns   }   source  …",
          "azurerm_private_dns_records: # MX Records…",
          "azurerm_private_dns_records: module \"dns-mx-records-administration\" {   providers = {     azurerm = azurerm.dns   }   source     …",
          "azurerm_private_dns_records: # SRV Records…",
          "azurerm_private_dns_records: module \"dns-srv-records-administration\" {   providers = {     azurerm = azurerm.dns   }   source    …",
          "azurerm_private_dns_records: # TXT Records…",
          "azurerm_private_dns_records: module \"dns-txt-records-administration\" {   providers = {     azurerm = azurerm.dns   }   source    …",
          "azurerm_private_dns_records: ```  ## main.tf  ``` terraform {   backend \"azurerm\" {}     required_providers {     azurerm = {    …",
          "azurerm_private_dns_records: ----------------------------  # Input Description  <!-- BEGIN_TF_DOCS --> ## Requirements  | Name | …",
          "azurerm_private_dns_records: ## Providers  | Name | Version | |------|---------| | <a name=\"provider_azurerm\"></a> [azurerm](#pro…",
          "azurerm_private_dns_records: | Name | Type | |------|------| | [azurerm_private_dns_a_record.private_dns_a_record](https://regist…",
          "azurerm_private_dns_records: ## Inputs…",
          "azurerm_private_dns_records: | Name | Description | Type | Default | Required | |------|-------------|------|---------|:--------:…",
          "azurerm_private_dns_records: ## Outputs  | Name | Description | |------|-------------| | <a name=\"output_dns_a_record_fqdns\"></a>…",
          "azurerm_private_dns_records: # Releases  ## v1.0.0 - 03/11/2023  * Initial release  ## v1.0.1 - 02/02/2024  * Bump azurerm provid…",
          "azurerm_private_dns_records: # Infra Team Test  This template deploys Azure Private DNS records and is linked with ADO pipelines …",
          "azurerm_private_dns_records: Note that not all record types are required to be specified in the usage of this module, this exampl…",
          "azurerm_private_dns_records: ## Providers  | Name | Version | |------|---------| | <a name=\"provider_random\"></a> [random](#provi…",
          "azurerm_private_dns_records: | Name | Source | Version | |------|--------|---------| | <a name=\"module_dns-a-records-administrati…",
          "azurerm_private_dns_records: ## Resources  | Name | Type | |------|------| | [random_integer.number](https://registry.terraform.i…",
          "azurerm_private_dns_records: | Name | Description | Type | Default | Required | |------|-------------|------|---------|:--------:…",
          "azurerm_private_dns_records: ## Outputs  No outputs. <!-- END_TF_DOCS -->…"
         ],
         "marker": {
          "color": "hsl(235,60%,50%)",
          "size": 8
         },
         "mode": "markers",
         "name": "azurerm_private_dns_records",
         "type": "scatter",
         "x": {
          "bdata": "b3FpQjsa+UEOnkJCQe45QeoqPkFKo1FBGQNIQb5TBEGrDxZB/f8FQXIKGUH2OwZBhvkeQcvWAkG9IiBBNof5QCB4HEHaQf5A6Z8fQajV+kCHcc++Wa8tQVCghkFXQpG+ih5/QcsN88FIl6jBa9BpQVn4IUEr8EhBBe5PQTVc+0DcN45BJhHzwZZRGsE=",
          "dtype": "f4"
         },
         "y": {
          "bdata": "GyFfQTfBmMGloS3AjmIhP5DrYD//55TBIRlUQag4bb8/2kVCk5p8vywaRUKdupu/eINCQlyEOb/RPUVCF4GWv2PkQ0L1/Za/o/REQsZwkr8XLUVBMmWlQRMi+kETQvBBQZ5ZQhqmAEJjZSdCh2tWwi/KtD0tylZB2fP3QaIMND5f3yZCZa8AQln8QkI=",
          "dtype": "f4"
         }
        },
        {
         "hoverinfo": "text",
         "hovertext": [
          "azurerm_private_endpoint: | **Build Status** | **Latest Version** | **Date** | |:-----------------|:-------------------|:-----…",
          "azurerm_private_endpoint: To see more available Axso services please see **[Production Ready Services](https://dev.azure.com/A…",
          "azurerm_private_endpoint: # INDEX  ----------------------------  1. [Azure Private Endpoint Configuration](#azure-private-endp…",
          "azurerm_private_endpoint: ## Service Description  ----------------------------  A private endpoint is a network interface that…",
          "azurerm_private_endpoint: - azurerm_private_endpoint  ## Pre-requisites  ----------------------------  It is assumed that the …",
          "azurerm_private_endpoint: ### Storage Account Example  **Construct:** `\"${name_of_resource}-pe\"`   **NonProd:** `axso4np4dev4e…",
          "azurerm_private_endpoint: module \"private_endpoint_kv\" {   source                              = \"git::ssh://git@ssh.dev.azure…",
          "azurerm_private_endpoint: ```  ## module.tf.tfvars  ```hcl…",
          "azurerm_private_endpoint: #common variables private_dns_zone_name               = \"privatelink.vaultcore.azure.net\" private_en…",
          "azurerm_private_endpoint: ```  ## variables.tf  ```hcl  #Common vars variable \"location\" {   type        = string   default   …",
          "azurerm_private_endpoint: variable \"private_endpoint_name\" {   type        = string   description = \"The name of the Private E…",
          "azurerm_private_endpoint: variable \"private_dns_zone_group\" {   type = list(object({     enabled              = bool     name …",
          "azurerm_private_endpoint: variable \"subresource_names\" {   type        = list(string)   description = \"A list of subresource n…",
          "azurerm_private_endpoint: variable \"virtual_network_name\" {   type        = string   description = \"The name of the vnet where…",
          "azurerm_private_endpoint: } }  provider \"azurerm\" {   features {}   resource_provider_registrations = \"none\" } ```  ----------…",
          "azurerm_private_endpoint: ## Modules  No modules.    ## Resources…",
          "azurerm_private_endpoint: | Name | Type | |------|------| | [azurerm_private_endpoint.private_endpoint](https://registry.terra…",
          "azurerm_private_endpoint: ## Inputs…",
          "azurerm_private_endpoint: | Name | Description | Type | Default | Required | |------|-------------|------|---------|:--------:…",
          "azurerm_private_endpoint: ## Outputs  | Name | Description | |------|-------------| | <a name=\"output_id\"></a> [id](#output\\_i…",
          "azurerm_private_endpoint: # Releases  ## v1.0.0 - 10/10/2024  * Initial release  ## v1.1.0 - 12/01/2024  * Refactor for Azure …",
          "azurerm_private_endpoint: ## v1.3.0 - 25/03/2024  * Tags added to lifecycle block in module   ## v1.3.1 - 11/04/2024  * Bump P…",
          "azurerm_private_endpoint: ## v1.3.5 - 31/05/2024  * Dependencies updated - Provider versions updated  ## v1.3.6 - 25/06/2024  …",
          "azurerm_private_endpoint: * Dependencies updated - Provider versions updated * Refactor * ReadmeV2 ## v2.0.1 - 25/11/2024  * D…",
          "azurerm_private_endpoint: # Infra Team Test   This module is used to test the private endpoint module  <!-- BEGIN_TF_DOCS --> …",
          "azurerm_private_endpoint: ## Providers  No providers.  ## Modules  | Name | Source | Version | |------|--------|---------| | <…",
          "azurerm_private_endpoint: | Name | Description | Type | Default | Required | |------|-------------|------|---------|:--------:…",
          "azurerm_private_endpoint: ## Outputs  No outputs. <!-- END_TF_DOCS -->…"
         ],
         "marker": {
          "color": "hsl(243,60%,50%)",
          "size": 8
         },
         "mode": "markers",
         "name": "azurerm_private_endpoint",
         "type": "scatter",
         "x": {
          "bdata": "TllaQhAi/0FTW0BCydbfQaS2c0ESn6FABUx4QFwy9MDdJRjCe6clwWgWm8F7H8DBfb2OwTAHV8HBc9xAhhN9QeIysj+vBWxBNQvdwYbCjcFFUnFBLozcQfdz30E/d+5B+f2oQb0Uv0FwDN3BWEsvwQ==",
          "dtype": "f4"
         },
         "y": {
          "bdata": "LJV1QcUnmcHLPCzA0ZsVP719jMFKLYfByh6mwK9QbMGznV3BTIrNwPF+Hr+HHRQ8CIFRPzzerz+vZYZBa08XQq8rBELnTVpCXxe+Qfb3J0LYWlXCz/hjwuHTRsLkCTzCM22RQQtYCEI3F75BxX5AQg==",
          "dtype": "f4"
         }
        },
        {
         "hoverinfo": "text",
         "hovertext": [
          "azurerm_rbac_administration: | **Build Status** | **Latest Version** | **Date** | |:-----------------|:-------------------|:-----…",
          "azurerm_rbac_administration: To see more available Axso services please see **[Production Ready Services](https://dev.azure.com/A…",
          "azurerm_rbac_administration: # INDEX  ----------------------------  1. [Resource Configuration](#resource-configuration) 2. [Terr…",
          "azurerm_rbac_administration: ----------------------------  ## Service Description  ----------------------------  Azure Role Assig…",
          "azurerm_rbac_administration: This module will:  - Grant a specific role over a scope to a Service Principal, Managed Identity, Us…",
          "azurerm_rbac_administration: - Target resource ID.  # Terraform Files  ----------------------------  ## module.tf  ```hcl module …",
          "azurerm_rbac_administration: ## locals.tf    ```hcl locals {   azure_rbac_config = [     {       description          = \"Example …",
          "azurerm_rbac_administration: <!-- BEGIN_TF_DOCS --> ### main.tf  ```hcl terraform {   backend \"azurerm\" {}    required_providers …",
          "azurerm_rbac_administration: ----------------------------  # Input Description  ## Requirements  | Name | Version | |------|-----…",
          "azurerm_rbac_administration: ## Modules  No modules.    ## Resources  | Name | Type | |------|------| | [azurerm_role_assignment.…",
          "azurerm_rbac_administration: | Name | Description | Type | Default | Required | |------|-------------|------|---------|:--------:…",
          "azurerm_rbac_administration: ## Outputs  | Name | Description | |------|-------------| | <a name=\"output_role_assignment_ids\"></a…",
          "azurerm_rbac_administration: # Releases  ## v1.0.0 - 16/10/2023  * Initial release  ## v1.0.1 - 02/02/2024  * Bump azurerm provid…",
          "azurerm_rbac_administration: ## v1.0.5 - 25/04/2024  * Dependencies updated - Provider versions updated  ## v1.0.6 - 25/05/2024  …",
          "azurerm_rbac_administration: ## v1.0.10 - 25/08/2024  * Dependencies updated - Provider versions updated  ## v1.0.11 - 25/09/2024…",
          "azurerm_rbac_administration: ## v1.0.15 - 25/01/2025  * Dependencies updated - Provider versions updated  ## v1.0.16 - 25/02/2025…",
          "azurerm_rbac_administration: # Infra Team Test  This template deploys a Resource Group and tests Role assignment against the reso…",
          "azurerm_rbac_administration: ## Providers  | Name | Version | |------|---------| | <a name=\"provider_azurerm\"></a> [azurerm](#pro…",
          "azurerm_rbac_administration: ## Resources  | Name | Type | |------|------| | [azurerm_client_config.current](https://registry.ter…",
          "azurerm_rbac_administration: ## Inputs  | Name | Description | Type | Default | Required | |------|-------------|------|---------…"
         ],
         "marker": {
          "color": "hsl(250,60%,50%)",
          "size": 8
         },
         "mode": "markers",
         "name": "azurerm_rbac_administration",
         "type": "scatter",
         "x": {
          "bdata": "RnVcQgeRAEISqkBCmoFfQeVOX0H2CI9AGfy+wOswAD+/CTtB+tWWQerJDMK9CY/BnMZlQTWmzUF5i8lB4mPHQaw4sUHz6Y9Bv2SjQVHRu8E=",
          "dtype": "f4"
         },
         "y": {
          "bdata": "1e1wQbs3oMHG8ZrActRaQBk2YUCO4DTBoowIwR8MikEVF45B9hsQQrzIyEGOkzRCQfpPwhs5QcJO6z/CSpI6wgT+ZkHQu/RB3iIYQo3ew0E=",
          "dtype": "f4"
         }
        },
        {
         "hoverinfo": "text",
         "hovertext": [
          "azurerm_redis_cache: | **Build Status** | **Latest Version** | **Date** | |:-----------------|:-------------------|------…",
          "azurerm_redis_cache: To see more available Axso services please see **[Production Ready Services](https://dev.azure.com/A…",
          "azurerm_redis_cache: # INDEX  -------  1. [Azure Cache for Redis](#azure-cache-for-redis) 2. [Terraform Files](#terraform…",
          "azurerm_redis_cache: ----------------------  Azure Cache for Redis provides an in-memory data store based on the Redis so…",
          "azurerm_redis_cache: Azure Cache for Redis offers both the Redis open-source (OSS Redis) and a commercial product from Re…",
          "azurerm_redis_cache: Azure Cache for Redis can be used as a distributed data or content cache, a session store, a message…",
          "azurerm_redis_cache: ## Pre-requisites  -----------------  It is assumed that the following resources already exists:  - …",
          "azurerm_redis_cache: - **Construct:** `axso-${var.subscription}-appl-${var.project_name}-${var.environment}-redis-cache` …",
          "azurerm_redis_cache: # General   resource_group_name = var.resource_group_name   location            = var.location    # …",
          "azurerm_redis_cache: # Patching - The Patch Window lasts for 5 hours from the start_hour_utc.   enable_patching = var.ena…",
          "azurerm_redis_cache: ## module.tf.tfvars  ```hcl # Prerequisites and general                                             …",
          "azurerm_redis_cache: ### Redis Cache - Pricing ###  # C (Basic/Standard) are 0, 1, 2, 3, 4, 5, 6 # P (Premium) are 1, 2, …",
          "azurerm_redis_cache: # Firewall Rules  redis_fw_rules = {   \"test-rule-1\" = {     name     = \"test_rule_1\"    # \"name\" ma…",
          "azurerm_redis_cache: ### Redis Cache - Patching schedule ###  enable_patching = true day_of_week     = \"Sunday\" start_hou…",
          "azurerm_redis_cache: identity_type = \"UserAssigned\"  redis_umids = {   umid-1 = {     umid_name    = \"axso-np-appl-ssp-te…",
          "azurerm_redis_cache: variable \"resource_group_name\" {   type        = string   description = \"(Required) The name of the …",
          "azurerm_redis_cache: # Naming Convention  variable \"project_name\" {   type        = string   default     = \"cloudinfra\"  …",
          "azurerm_redis_cache: # Redis cache                                                                                       …",
          "azurerm_redis_cache: variable \"family\" {   type        = string   default     = \"C\"   description = \"(Optional) The SKU f…",
          "azurerm_redis_cache: ### Redis Cache - Patching ###  variable \"enable_patching\" {   type        = bool   default     = fa…",
          "azurerm_redis_cache: variable \"start_hour_utc\" {   type        = number   default     = 0   description = \"(Optional) The…",
          "azurerm_redis_cache: variable \"redis_fw_rules\" {   type        = map(object({     name     = string     start_ip = string…",
          "azurerm_redis_cache: ### Redis Cache - Authentication ###  variable \"active_directory_authentication_enabled\" {   type   …",
          "azurerm_redis_cache: variable \"identity_type\" {   type        = string   default     = null   description = \"(Optional) T…",
          "azurerm_redis_cache: <!-- BEGIN_TF_DOCS --> ### main.tf  ```hcl terraform {   backend \"azurerm\" {}    required_providers …",
          "azurerm_redis_cache: provider \"azuread\" {} ```  ----------------------------  # Input Description  ## Requirements  | Nam…",
          "azurerm_redis_cache: ## Providers  | Name | Version | |------|---------| | <a name=\"provider_azurerm\"></a> [azurerm](#pro…",
          "azurerm_redis_cache: | Name | Type | |------|------| | [azurerm_private_endpoint.private_endpoint](https://registry.terra…",
          "azurerm_redis_cache: ## Inputs…",
          "azurerm_redis_cache: | Name | Description | Type | Default | Required | |------|-------------|------|---------|:--------:…",
          "azurerm_redis_cache: ## Outputs  | Name | Description | |------|-------------| | <a name=\"output_id\"></a> [id](#output\\_i…",
          "azurerm_redis_cache: # Releases  ## v1.0.0 - 06/11/2024  * Initial release  ## v1.0.1 - 07/11/2024  * Dependencies update…",
          "azurerm_redis_cache: # Infra Team Test  This is a test for the Infra team to check the quality of the code and the docume…",
          "azurerm_redis_cache: ## Providers  No providers.  ## Modules  | Name | Source | Version | |------|--------|---------| | <…",
          "azurerm_redis_cache: | Name | Description | Type | Default | Required | |------|-------------|------|---------|:--------:…",
          "azurerm_redis_cache: ## Outputs  No outputs. <!-- END_TF_DOCS -->…"
         ],
         "marker": {
          "color": "hsl(258,60%,50%)",
          "size": 8
         },
         "mode": "markers",
         "name": "azurerm_redis_cache",
         "type": "scatter",
         "x": {
          "bdata": "yeRfQkgY60HIBjJCR2kbQtMJG0JqvsdByAZwQU2Oa0CXtsbB4jkmwZH8x8BSgg7C2HkNwkdWC8KAgMrBPMl7wdpDqsFm3AzCctUGwuBXCMJJRgfCY/ALwnQdBsJ4gcvBZv3jPr7QDUHwyYRBWdJ0P4oef0HYpBDCimmHwaV5g0F0AbZB/XfDQTeyEMKdLB/B",
          "dtype": "f4"
         },
         "y": {
          "bdata": "jYIzQey7kME0o1LAKTnzv0lm9L8RYopAbOWSwUQFpMECeMvBk4SOwQTiIcEQxQrBmBfQwLsP5sBZ8AxBeV1pQP0PF8FSgQfBoYn9wIYl8MAVIevA9sS8wM9jtsDYQQhBApiCQVLOqEGdN/pByPcDQkGeWUI/w9dBemonQsprOMKiXI5BJBf5QcLE10F5EElC",
          "dtype": "f4"
         }
        },
        {
         "hoverinfo": "text",
         "hovertext": [
          "azurerm_resource_group: | **Build Status** | **Latest Version** | **Date** | |:-----------------|:-------------------|:-----…",
          "azurerm_resource_group: To see more available Axso services please see **[Production Ready Services](https://dev.azure.com/A…",
          "azurerm_resource_group: # INDEX  ----------------------------  1. [Resource Group Configuration](#resource-group-configurati…",
          "azurerm_resource_group: ## Service Description  ---------------------------- This module can be used to create an Axso Resou…",
          "azurerm_resource_group: ----------------------------  - Azure Subscription  ## Axso Naming convention example  The naming co…",
          "azurerm_resource_group: ----------------------------  ### module.tf  ```hcl module \"axso_resource_group\" {   for_each       …",
          "azurerm_resource_group: ### module.tf.tfvars  ```hcl location = \"westeurope\" research_groups = [   {     subscription = \"np\"…",
          "azurerm_resource_group: ### variables.tf  ```hcl variable \"location\" {   type        = string   description = \"The location/…",
          "azurerm_resource_group: variable \"resource_groups\" {   type = list(object({     subscription = string     project_name = str…",
          "azurerm_resource_group: <!-- BEGIN_TF_DOCS --> ### main.tf  ```hcl terraform {   backend \"azurerm\" {}    required_providers …",
          "azurerm_resource_group: ----------------------------  # Input Description  ## Requirements  | Name | Version | |------|-----…",
          "azurerm_resource_group: ## Modules  No modules.    ## Resources  | Name | Type | |------|------| | [azurerm_resource_group.r…",
          "azurerm_resource_group: | Name | Description | Type | Default | Required | |------|-------------|------|---------|:--------:…",
          "azurerm_resource_group: ## Outputs  | Name | Description | |------|-------------| | <a name=\"output_resource_group_id\"></a> …",
          "azurerm_resource_group: # Releases  ## v1.0.0 - 06/10/2023  * Initial release  ## v1.1.1 - 23/10/2023  * Added ability to cr…",
          "azurerm_resource_group: ## v1.1.3 - 06/02/2024  * Bump `azurerm` provider version **3.90.0** -> **3.94.0** * Bump `azuread` …",
          "azurerm_resource_group: ## v1.3.3 - 24/05/2024  * Dependencies updated - Provider versions updated  ## v1.3.4 - 31/05/2024  …",
          "azurerm_resource_group: ## v1.4.2 - 24/08/2024  * Dependencies updated - Provider versions updated  ## v1.4.3 - 11/09/2024  …",
          "azurerm_resource_group: ## v2.0.1 - 25/11/2024  * Dependencies updated - Provider versions updated  ## v2.0.2 - 24/12/2024  …",
          "azurerm_resource_group: # Infra Team Test  This is a test for the Infra team to check the quality of the code and the docume…",
          "azurerm_resource_group: ## Providers  No providers.  ## Modules  | Name | Source | Version | |------|--------|---------| | <…",
          "azurerm_resource_group: | Name | Description | Type | Default | Required | |------|-------------|------|---------|:--------:…",
          "azurerm_resource_group: ## Outputs  No outputs. <!-- END_TF_DOCS -->…"
         ],
         "marker": {
          "color": "hsl(266,60%,50%)",
          "size": 8
         },
         "mode": "markers",
         "name": "azurerm_resource_group",
         "type": "scatter",
         "x": {
          "bdata": "0WxaQlus90H8/EFCYkO+QbRg10Bjy+8/Pagcwbo/LcHFhZHB/8cIPwvcRkG5oJtBvPLVwYH3jMHQuVNBOX6LQVDHvEFqBvFB+uzqQQq4r0G4YMBBmbTBwQR4E8E=",
          "dtype": "f4"
         },
         "y": {
          "bdata": "MMZlQY5oscG20YnAPBPGQP+TmcFhSxDBSgEdwQ0o4MAFyHJAW32NQe8aj0G/GRJCmqncQdQLJEIni1PC/6BawkEiSMLxS0rCYv48wkYLkEHeiwFC4mXFQQaoSkI=",
          "dtype": "f4"
         }
        },
        {
         "hoverinfo": "text",
         "hovertext": [
          "azurerm_route_table: | **Build Status** | **Latest Version** | **Date** | |:-----------------|:-------------------|:-----…",
          "azurerm_route_table: To see more available Axso services please see **[Production Ready Services](https://dev.azure.com/A…",
          "azurerm_route_table: # INDEX  ----------------------------  1. [Route Table Configuration](#route-table-configuration) 2.…",
          "azurerm_route_table: ## Service Description  ---------------------------- This module can be used to create an Axso Route…",
          "azurerm_route_table: ----------------------------  These all resources will be deployed when using route table module.  -…",
          "azurerm_route_table: ## Pre-requisites  ----------------------------  - Resource Group  ## Axso Naming convention example…",
          "azurerm_route_table: ```hcl module \"axso_rt\" {   source              = \"git::ssh://git@ssh.dev.azure.com/v3/Axpo-AXSO/TIM…",
          "azurerm_route_table: }  ```  ### module.tf.tfvars…",
          "azurerm_route_table: ```hcl resource_group_name           = \"axso-np-appl-ssp-test-rg\" subscription                  = \"n…",
          "azurerm_route_table: ### variables.tf  ```hcl variable \"subscription\" {   type        = string   description = \"The short…",
          "azurerm_route_table: variable \"usecase\" {   type        = string   description = \"The usecase of the route table to use i…",
          "azurerm_route_table: variable \"bgp_route_propagation_enabled\" {   type        = bool   default     = false   description …",
          "azurerm_route_table: variable \"udr_config\" {   type = object({     routes = list(object({       route_name     = string  …",
          "azurerm_route_table: <!-- BEGIN_TF_DOCS --> ### main.tf  ```hcl terraform {   backend \"azurerm\" {}    required_providers …",
          "azurerm_route_table: ----------------------------  # Input Description  ## Requirements  | Name | Version | |------|-----…",
          "azurerm_route_table: ## Modules  No modules.    ## Resources  | Name | Type | |------|------| | [azurerm_route.default_ro…",
          "azurerm_route_table: | Name | Description | Type | Default | Required | |------|-------------|------|---------|:--------:…",
          "azurerm_route_table: ## Outputs  | Name | Description | |------|-------------| | <a name=\"output_route_table_name\"></a> […",
          "azurerm_route_table: # Releases  ## v1.0.0 - 16/10/2023  * Initial release  ## v1.0.1 - 05/02/2024  * Bump azurerm provid…",
          "azurerm_route_table: ## v1.2.2 - 25/04/2024  * Dependencies updated - Provider versions updated  ## v1.3.0 - 29/04/2024  …",
          "azurerm_route_table: ## v1.3.4 - 25/07/2024  * Dependencies updated - Provider versions updated  ## v2.0.0 - 06/09/2024  …",
          "azurerm_route_table: ## v2.1.3 - 25/01/2025  * Dependencies updated - Provider versions updated  ## v2.2.0 - 29/01/2025  …",
          "azurerm_route_table: * Dependencies updated - Provider versions updated  ## v2.3.2 - 25/03/2025  * Dependencies updated -…",
          "azurerm_route_table: # Infra Team Test  This module is used for testing purposes only.  <!-- BEGIN_TF_DOCS --> ## Require…",
          "azurerm_route_table: ## Resources  No resources.  ## Inputs…",
          "azurerm_route_table: | Name | Description | Type | Default | Required | |------|-------------|------|---------|:--------:…",
          "azurerm_route_table: ## Outputs  No outputs. <!-- END_TF_DOCS -->…"
         ],
         "marker": {
          "color": "hsl(274,60%,50%)",
          "size": 8
         },
         "mode": "markers",
         "name": "azurerm_route_table",
         "type": "scatter",
         "x": {
          "bdata": "2gdfQqWpBkKOzkhC1966QcViuUFz7N5AVSx7Px2uB8HLFB3A7KNNwZz2psERK+XBVyHfweswAD8eHDhBiSKWQXCQ5MHy+XTBE1xnQUU7AEIOtbBBjKgAQg4v7EHkBaBB1Z+BQU2K5MGN2Q7B",
          "dtype": "f4"
         },
         "y": {
          "bdata": "Z2l/QSEgkMH3yKvAHpb8QM9P5EDjkZbBlvf1wGU4ccErr9rAQX8XwSLwjcBL3JNBNRBiQR8MikHeV5JBuKgUQrUtm0GLvilCBYhTwhyxNsL2xk/CaFM2wtyoNMJsKHlB7/4qQkopm0FY40JC",
          "dtype": "f4"
         }
        },
        {
         "hoverinfo": "text",
         "hovertext": [
          "azurerm_route_table_administration: | **Build Status** | **Latest Version** | **Date** | |:-----------------|:-------------------|:-----…",
          "azurerm_route_table_administration: To see more available Axso services please see **[Production Ready Services](https://dev.azure.com/A…",
          "azurerm_route_table_administration: # INDEX  ----------------------------  1. [Route Table Administration Configuration](#route-table-ad…",
          "azurerm_route_table_administration: ## Service Description  ---------------------------- Axso terraform module for administering **AZURE…",
          "azurerm_route_table_administration: ## Axso Naming convention example  No naming convention is applied to this module. Route name should…",
          "azurerm_route_table_administration: ```hcl module \"onprem_routes\" {   source              = \"git::ssh://git@ssh.dev.azure.com/v3/Axpo-AX…",
          "azurerm_route_table_administration: ### module.tf.tfvars  ```hcl resource_group_name = \"axso-np-appl-ssp-test-rg\"…",
          "azurerm_route_table_administration: udr_config = {   route_table_name = \"axso-np-appl-ssp-test-rt\"   routes = [     {       route_name  …",
          "azurerm_route_table_administration: ### variables.tf  ```hcl variable \"resource_group_name\" {   type        = string   description = \"Th…",
          "azurerm_route_table_administration: variable \"udr_config\" {   type = object({     route_table_name = string     routes = list(object({  …",
          "azurerm_route_table_administration: <!-- BEGIN_TF_DOCS --> ### main.tf  ```hcl terraform {   backend \"azurerm\" {}    required_providers …",
          "azurerm_route_table_administration: ----------------------------  # Input Description  ## Requirements  | Name | Version | |------|-----…",
          "azurerm_route_table_administration: ## Modules  No modules.    ## Resources  | Name | Type | |------|------| | [azurerm_route.network_ro…",
          "azurerm_route_table_administration: | Name | Description | Type | Default | Required | |------|-------------|------|---------|:--------:…",
          "azurerm_route_table_administration: ## Outputs  | Name | Description | |------|-------------| | <a name=\"output_id\"></a> [id](#output\\_i…",
          "azurerm_route_table_administration: # Releases  ## v1.0.0 - 16/10/2023  * Initial release  ## v1.0.1 - 02/02/2024  * Bump azurerm provid…",
          "azurerm_route_table_administration: ## v1.1.3 - 25/05/2024  * Dependencies updated - Provider versions updated  ## v1.1.4 - 31/05/2024  …",
          "azurerm_route_table_administration: ## v2.0.1 - 25/09/2024  * Dependencies updated - Provider versions updated  ## v2.0.2 - 25/10/2024  …",
          "azurerm_route_table_administration: ## v2.1.4 - 26/02/2025  * Dependencies updated - Provider versions updated  ## v2.1.5 - 25/03/2025  …",
          "azurerm_route_table_administration: # Infra Team Test  This test template deploys an Azure resource group, and route table to test route…",
          "azurerm_route_table_administration: ## Providers  No providers.  ## Modules  | Name | Source | Version | |------|--------|---------| | <…",
          "azurerm_route_table_administration: | Name | Description | Type | Default | Required | |------|-------------|------|---------|:--------:…",
          "azurerm_route_table_administration: ## Outputs  No outputs. <!-- END_TF_DOCS -->…"
         ],
         "marker": {
          "color": "hsl(282,60%,50%)",
          "size": 8
         },
         "mode": "markers",
         "name": "azurerm_route_table_administration",
         "type": "scatter",
         "x": {
          "bdata": "PK9eQl8F+0EvEklCtne6QXURD0E8zQo/onLLwLCS3sHjRTDB/xbfwd+vZT7jDTtBmLOWQX9P2sENQYHBJEVmQW95sUFO+OxBzN7lQSFdsEGdq7ZBJSfawY3ZDsE=",
          "dtype": "f4"
         },
         "y": {
          "bdata": "YqV+QbwesMH5eK3AaAL0QJCuocFrVvXArjgywZ3+ZkFoQ3LA3kJiQaXAi0HTE45BxrYUQmJhpEExRSlCk2FRwuYVUMKBM0DCtpw4wnXYbEH6dwhCddejQVjjQkI=",
          "dtype": "f4"
         }
        },
        {
         "hoverinfo": "text",
         "hovertext": [
          "azurerm_storage_account (1): | **Build Status** | **Latest Version** | **Date** | |:-----------------|:-------------------|:-----…",
          "azurerm_storage_account (1): To see more available Axso services please see **[Production Ready Services](https://dev.azure.com/A…",
          "azurerm_storage_account (1): # INDEX  ----------------------------  1. [Storage Account Configuration](#storage-account-configura…",
          "azurerm_storage_account (1): ## Service Description  ---------------------------- This module deploys a Storage Account in Azure …",
          "azurerm_storage_account (1): ## Deployed Resources  ----------------------------  These all resources will be deployed when using…",
          "azurerm_storage_account (1): ## Axso Naming convention example  The naming convention is derived from the following variables `su…",
          "azurerm_storage_account (1): ```hcl module \"axso_storage_account\" {   for_each                         = { for each in var.storag…",
          "azurerm_storage_account (1): ### module.tf.tfvars  ```hcl location            = \"West Europe\" subscription        = \"np\" environm…",
          "azurerm_storage_account (1): storage_accounts = [   {     #Datalake storage with storage containers     storage_account_index    …",
          "azurerm_storage_account (1): ```  ### variables.tf…",
          "azurerm_storage_account (1): ```hcl variable \"storage_accounts\" {   type = list(object({     storage_account_index            = s…",
          "azurerm_storage_account (1): variable \"location\" {   type        = string   description = \"The default location where the Storage…",
          "azurerm_storage_account (1): variable \"project_name\" {   type        = string   description = \"The short name of the project e.g.…",
          "azurerm_storage_account (1): }   ```  <!-- BEGIN_TF_DOCS --> ### main.tf  ```hcl terraform {   backend \"azurerm\" {}    required_p…",
          "azurerm_storage_account (1): ----------------------------  # Input Description  ## Requirements  | Name | Version | |------|-----…",
          "azurerm_storage_account (1): ## Providers  | Name | Version | |------|---------| | <a name=\"provider_azurerm\"></a> [azurerm](#pro…",
          "azurerm_storage_account (1): | Name | Type | |------|------| | [azurerm_key_vault_key.key_vault_key](https://registry.terraform.i…",
          "azurerm_storage_account (1): ## Inputs…",
          "azurerm_storage_account (1): | Name | Description | Type | Default | Required | |------|-------------|------|---------|:--------:…",
          "azurerm_storage_account (1): ## Outputs…",
          "azurerm_storage_account (1): | Name | Description | |------|-------------| | <a name=\"output_container_ids\"></a> [container\\_ids]…",
          "azurerm_storage_account (1): # Releases  ## v1.0.0 - 13/10/2023  * Initial release  ## v1.1.0 - 27/11/2023  * README File fixed *…",
          "azurerm_storage_account (1): ## v1.3.0 - 06/02/2024  * Major refactor to the module to combine storage containers and private end…",
          "azurerm_storage_account (1): * Bump azurerm provider version 3.90.0 -> 3.97.1 * Added main.tf to README.md  ## v1.4.2 - 23/04/202…",
          "azurerm_storage_account (1): ## v1.4.6 - 24/06/2024  * Dependencies updated - Provider versions updated  ## v1.5.0 - 25/06/2024  …",
          "azurerm_storage_account (1): ## v2.0.2 - 28/10/2024  * Dependencies updated - Provider versions updated  ## v3.0.0 - 29/10/2024  …",
          "azurerm_storage_account (1): ## v4.0.1 - 24/11/2024  * Dependencies updated - Provider versions updated  ## v5.0.0 - 28/11/2024  …",
          "azurerm_storage_account (1): # Infra Team Test  This template is used for testing purposes only.   <!-- BEGIN_TF_DOCS --> ## Requ…",
          "azurerm_storage_account (1): ## Providers  No providers.  ## Modules  | Name | Source | Version | |------|--------|---------| | <…",
          "azurerm_storage_account (1): | Name | Description | Type | Default | Required | |------|-------------|------|---------|:--------:…",
          "azurerm_storage_account (1): ## Outputs  No outputs. <!-- END_TF_DOCS -->…"
         ],
         "marker": {
          "color": "hsl(290,60%,50%)",
          "size": 8
         },
         "mode": "markers",
         "name": "azurerm_storage_account (1)",
         "type": "scatter",
         "x": {
          "bdata": "NV1YQkW8AkLXtzxCCKLlQf9NskF07t1Amf3mPrSMAMGhCDPCamoNwdrJGsLMtJvB5GsxwdJN6T9NlTZBxOl4QamDRr9ZcGFBkZUHwlfbAkHN2J7BJ2VLQabWhEFI85BBGOWwQcG7uUETU7pBikavQUG4vkGSmtnBMYscwQ==",
          "dtype": "f4"
         },
         "y": {
          "bdata": "3TlhQQw5ocGc82nAuM42P+zPlUCXzZzBmQvVwHeOHMFZ9d/AU4RlweS+vUDxEbrAN7sEQHu6jUECcZ9Bl73zQZoVAUJHiV5C2We7QfFgZUJP9ilCHtpBwlGTWcLb+FfCDf9Mwk7hUsLXCTPC3xiGQXucAUIX3NZBEeM9Qg==",
          "dtype": "f4"
         }
        },
        {
         "hoverinfo": "text",
         "hovertext": [
          "azurerm_subnet: | **Build Status** | **Latest Version** | **Date** | |:-----------------|:-------------------|:-----…",
          "azurerm_subnet: To see more available Axso services please see **[Production Ready Services](https://dev.azure.com/A…",
          "azurerm_subnet: # INDEX  ----------------------------  1. [Azure Virtual Network Subnet Configuration](#azure-virtua…",
          "azurerm_subnet: ## Service Description  ----------------------------  A subnet is a range of IP addresses in the vir…",
          "azurerm_subnet: ## Deployed Resources  ---------------------------- This module will deploy the following azurerm re…",
          "azurerm_subnet: - Virtual Network - Network Security Group (Only if you want to use an existing one)  >**Note:**   >…",
          "azurerm_subnet: ## Axso Naming convention example  ----------------------------  We don't have a naming convention f…",
          "azurerm_subnet: # Terraform Files  ----------------------------  ## module.tf…",
          "azurerm_subnet: ```hcl module \"subnet\" {   for_each                                      = { for each in var.subnet_…",
          "azurerm_subnet: ```  ## module.tf.tfvars  ```hcl location                            = \"westeurope\" virtual_network_…",
          "azurerm_subnet: subnet_config = [   {     subnet_name                                = \"uat-db-backend-subnet\"     s…",
          "azurerm_subnet: },   {     subnet_name                                = \"uat-api-frondend-subnet\"     subnet_address…",
          "azurerm_subnet: ```  ## variables.tf  ```hcl  variable \"location\" {   type        = string   description = \"The defa…",
          "azurerm_subnet: variable \"subnet_config\" {   description = \"List of subnet configurations.\"   type = list(object({  …",
          "azurerm_subnet: ```   <!-- BEGIN_TF_DOCS --> ### main.tf  ```hcl terraform {   backend \"azurerm\" {}   required_provi…",
          "azurerm_subnet: ----------------------------  # Input Description  ## Requirements  | Name | Version | |------|-----…",
          "azurerm_subnet: | Name | Type | |------|------| | [azurerm_network_security_group.network_nsg](https://registry.terr…",
          "azurerm_subnet: ## Inputs…",
          "azurerm_subnet: | Name | Description | Type | Default | Required | |------|-------------|------|---------|:--------:…",
          "azurerm_subnet: ## Outputs  | Name | Description | |------|-------------| | <a name=\"output_subnet_ids\"></a> [subnet…",
          "azurerm_subnet: # Releases  ## v1.0.0 - 24/10/2023  * Initial release  ## v1.1.0 - 16/02/2024  * Provider and terraf…",
          "azurerm_subnet: ## v1.2.0 - 23/05/2024  * Fix issue empty route table  ## v1.2.1 - 24/05/2024  * Dependencies update…",
          "azurerm_subnet: ## v1.3.1 - 24/09/2024  * Dependencies updated - Provider versions updated  ## v1.3.2 - 24/10/2024  …",
          "azurerm_subnet: ## v1.4.3 - 24/02/2025  * Dependencies updated - Provider versions updated  ## v1.5.0 - 25/03/2025  …",
          "azurerm_subnet: # Infra Team Test  This template is only used for testing purposes.  <!-- BEGIN_TF_DOCS --> ## Requi…",
          "azurerm_subnet: ## Resources  No resources.  ## Inputs…",
          "azurerm_subnet: | Name | Description | Type | Default | Required | |------|-------------|------|---------|:--------:…",
          "azurerm_subnet: ## Outputs  No outputs. <!-- END_TF_DOCS -->…"
         ],
         "marker": {
          "color": "hsl(297,60%,50%)",
          "size": 8
         },
         "mode": "markers",
         "name": "azurerm_subnet",
         "type": "scatter",
         "x": {
          "bdata": "yy5hQo6uB0LkYkdC6GrVQUeMs0FEpTNBbg9CQZcDBUCe6o0+CsQAwZcfJMLxpiPCgzg4wc8EDsLOta8/MjNDQZoY4TuvBWxBVmfQwZfel8GoqXNBOs2/QV5EuEG3lbFBtaCoQczlhUEDjszBaS4CwQ==",
          "dtype": "f4"
         },
         "y": {
          "bdata": "wIxuQRBbmMFNNGzANF2QwL1TX0DDhpPBNcazwd+TT8FGQ9TAv803wUqA08C8dNXA5LG9wKpbZz/bgIpBCneNQWqUC0LnTVpC9IO+QSwVKUK14k7Cwi1NwmTCP8LTdj7CdHCCQdSLKUKS/b5BGM9FQg==",
          "dtype": "f4"
         }
        },
        {
         "hoverinfo": "text",
         "hovertext": [
          "azurerm_user_assigned_managed_identity: | **Build Status** | **Latest Version** | **Date** | |:-----------------|:-------------------|:-----…",
          "azurerm_user_assigned_managed_identity: To see more available Axso services please see **[Production Ready Services](https://dev.azure.com/A…",
          "azurerm_user_assigned_managed_identity: # INDEX  ----------------------------  1. [Azure Managed Identities Configuration](#azure-managed-id…",
          "azurerm_user_assigned_managed_identity: ## Service Description  ----------------------------  Managed identities provide an automatically ma…",
          "azurerm_user_assigned_managed_identity: - azurerm_user_assigned_identity  ## Pre-requisites  ----------------------------  It is assumed tha…",
          "azurerm_user_assigned_managed_identity: **NonProd:** `axso-np-appl-etools-dev-management-umid`   **Prod:** `axso-p-appl-etools-prod-manageme…",
          "azurerm_user_assigned_managed_identity: # Terraform Files  ----------------------------  ## module.tf  ```hcl  module \"umid\" {   source     …",
          "azurerm_user_assigned_managed_identity: ```  ## module.tf.tfvars  ```hcl location            = \"West Europe\" subscription        = \"np\" envi…",
          "azurerm_user_assigned_managed_identity: variable \"environment\" {   type        = string   description = \"The short name for the environment.…",
          "azurerm_user_assigned_managed_identity: variable \"resource_group_name\" {   type        = string   description = \"The name of the resource gr…",
          "azurerm_user_assigned_managed_identity: } } provider \"azurerm\" {   features {}   resource_provider_registrations = \"none\" }  ```  ----------…",
          "azurerm_user_assigned_managed_identity: ## Modules  No modules.    ## Resources  | Name | Type | |------|------| | [azurerm_user_assigned_id…",
          "azurerm_user_assigned_managed_identity: | Name | Description | Type | Default | Required | |------|-------------|------|---------|:--------:…",
          "azurerm_user_assigned_managed_identity: ## Outputs…",
          "azurerm_user_assigned_managed_identity: | Name | Description | |------|-------------| | <a name=\"output_tenant_id\"></a> [tenant\\_id](#output…",
          "azurerm_user_assigned_managed_identity: # Releases  ## v1.0.0 - 30/10/2023  * Initial release  ## v1.1.0 - 12/12/2023  * README File modifie…",
          "azurerm_user_assigned_managed_identity: ## v1.2.2 - 06/03/2024  * Bump azurerm provider version 3.90.0 -> 3.94.0  ## v1.3.0 - 12/03/2024  * …",
          "azurerm_user_assigned_managed_identity: ## v1.4.4 - 24/05/2024  * Dependencies updated - Provider versions updated  ## v1.4.5 - 31/05/2024  …",
          "azurerm_user_assigned_managed_identity: ## v1.4.9 - 24/09/2024  * Dependencies updated - Provider versions updated  ## v1.4.10 - 24/10/2024 …",
          "azurerm_user_assigned_managed_identity: ## v1.5.3 - 24/01/2025  * Dependencies updated - Provider versions updated  ## v1.5.4 - 24/02/2025  …",
          "azurerm_user_assigned_managed_identity: # Infra Team Test  Used only for feature and development testing.  <!-- BEGIN_TF_DOCS --> ## Require…",
          "azurerm_user_assigned_managed_identity: ## Resources  No resources.  ## Inputs…",
          "azurerm_user_assigned_managed_identity: | Name | Description | Type | Default | Required | |------|-------------|------|---------|:--------:…",
          "azurerm_user_assigned_managed_identity: ## Outputs  No outputs. <!-- END_TF_DOCS -->…"
         ],
         "marker": {
          "color": "hsl(305,60%,50%)",
          "size": 8
         },
         "mode": "markers",
         "name": "azurerm_user_assigned_managed_identity",
         "type": "scatter",
         "x": {
          "bdata": "BFlgQranAUIp+TlC4ODOQbP1XEHYJ5FAA3bSPwNIEMF3E6fBtPk0wdnG10DtpZRB2ZDQwRqVFUFwqprBVThXQaBvi0G2DNVBB2zqQcLIz0HT6Z9B1Z+BQY040MEkEhHB",
          "dtype": "f4"
         },
         "y": {
          "bdata": "VLZqQXUWlcHqmh3AimraQHPLi8HQfIrB7G5DwbtoEMGbguzAlttTQEXfh0FHBQ5Ce/XeQcIGZkJFBSVCCCJXwhddWsLWfUXCPFdJwuwxOMK52JBB7/4qQkz13kHkxEZC",
          "dtype": "f4"
         }
        },
        {
         "hoverinfo": "text",
         "hovertext": [
          "azurerm_windows_function_app: | **Build Status** | **Latest Version** | **Date** | |:-----------------|:-------------------|:-----…",
          "azurerm_windows_function_app: To see more available Axso services please see **[Production Ready Services](https://dev.azure.com/A…",
          "azurerm_windows_function_app: # INDEX  ----------------------------  1. [Windows Function App Configuration](#windows-function-app…",
          "azurerm_windows_function_app: Azure Function Apps is a serverless compute service provided by Microsoft Azure that allows you to r…",
          "azurerm_windows_function_app: ## Deployed Resources  ---------------------------- This module will deploy the following azurerm re…",
          "azurerm_windows_function_app: ## Axso Naming convention example  ---------------------------------  The naming convention is deriv…",
          "azurerm_windows_function_app: ## App Service Plan  - **NonProd:** `axso-np-appl-cloud-dev-asp` - **Prod:** `axso-p-appl-cloud-prod…",
          "azurerm_windows_function_app: # General    resource_group_name = var.resource_group_name   location            = var.location    #…",
          "azurerm_windows_function_app: # Function Apps    function_app                        = var.function_app   storage_account_name    …",
          "azurerm_windows_function_app: # Private Endpoint    pe_subnet_name              = var.pe_subnet_name   network_name               …",
          "azurerm_windows_function_app: # App Service Plan  sku_name               = \"P1v2\" zone_balancing_enabled = false worker_count     …",
          "azurerm_windows_function_app: function_app = [   {     usecase = \"java\"   },   {     usecase = \"script\"   } ]  # Private Endpoint …",
          "azurerm_windows_function_app: variable \"location\" {   description = \"The Azure location where the resources will be deployed.\"   t…",
          "azurerm_windows_function_app: variable \"environment\" {   type        = string   default     = \"prod \"   description = \"The environ…",
          "azurerm_windows_function_app: variable \"pe_subnet_name\" {   description = \"The name of the subnet within the virtual network where…",
          "azurerm_windows_function_app: # App Service Plan Variables  variable \"sku_name\" {   description = \"The SKU (pricing tier) of the A…",
          "azurerm_windows_function_app: variable \"worker_count\" {   description = \"The number of Workers (instances) to be allocated.\"   typ…",
          "azurerm_windows_function_app: variable \"https_only\" {   description = \"The name of the virtual network to which the subnet belongs…",
          "azurerm_windows_function_app: <!-- BEGIN_TF_DOCS --> ### main.tf  ```hcl terraform {   backend \"azurerm\" {}    required_providers …",
          "azurerm_windows_function_app: ----------------------------  # Input Description  ## Requirements  | Name | Version | |------|-----…",
          "azurerm_windows_function_app: | Name | Type | |------|------| | [azurerm_private_endpoint.private_endpoint](https://registry.terra…",
          "azurerm_windows_function_app: ## Inputs…",
          "azurerm_windows_function_app: | Name | Description | Type | Default | Required | |------|-------------|------|---------|:--------:…",
          "azurerm_windows_function_app: ## Outputs…",
          "azurerm_windows_function_app: | Name | Description | |------|-------------| | <a name=\"output_function_app_default_hostnames\"></a>…",
          "azurerm_windows_function_app: # Releases  ## v1.0.0  * Initial release  ## v1.0.1 - 11/03/2025  * Dependencies updated - Provider …",
          "azurerm_windows_function_app: # Infra Team Test  This is a test for the Infra team to check the quality of the code and the docume…",
          "azurerm_windows_function_app: ## Providers  No providers.  ## Modules  | Name | Source | Version | |------|--------|---------| | <…",
          "azurerm_windows_function_app: | Name | Description | Type | Default | Required | |------|-------------|------|---------|:--------:…",
          "azurerm_windows_function_app: ## Outputs  No outputs. <!-- END_TF_DOCS -->…"
         ],
         "marker": {
          "color": "hsl(313,60%,50%)",
          "size": 8
         },
         "mode": "markers",
         "name": "azurerm_windows_function_app",
         "type": "scatter",
         "x": {
          "bdata": "vLJVQhzJ9kFGNDhCq5IUQhg1ukFYoSJBaIMIQJUOvMFjVqvBzjM7wR1LHMIr/F7BcvKYwQE0tsGsRYDBOQbGwQ4Zm8EAHGXBgCYbP4akREGkoao/XoFeQYW65MGbsxdBlY6nwaNBdUFuB7NBaPSxQSvE5MHpISzB",
          "dtype": "f4"
         },
         "y": {
          "bdata": "nAhJQf0+rsFtJcHAZK+GPcEibUBHhb3B7kmQwQCO0cFjh9TBYB91wTKJl8Fd9CzA8AKvwB40u8A08I+/ZdAXwTmYUcEdgjS+gzGPQWjOkkHbsAFCtUxVQlgj0kES2WRC7GEyQks3OcKoKJpBShz1QZYX0kHSy0VC",
          "dtype": "f4"
         }
        },
        {
         "hoverinfo": "text",
         "hovertext": [
          "azurerm_windows_virtual_machine: | **Build Status** | **Latest Version** | **Date** | |:-----------------|:-------------------| :----…",
          "azurerm_windows_virtual_machine: To see more available Axso services please see **[Production Ready Services](https://dev.azure.com/A…",
          "azurerm_windows_virtual_machine: # INDEX  ----------------------------  1. [Windows Virtual Machine Configuration](#windows-virtual-m…",
          "azurerm_windows_virtual_machine: ## Service Description  ----------------------------  Azure virtual machines (VMs) are one of severa…",
          "azurerm_windows_virtual_machine: These all resources will be deployed when using Windows Virtual Machine module.  - azurerm_managed_d…",
          "azurerm_windows_virtual_machine: > **Note:** > >Your SPI needs to have access to the Key Vault to store the admin user and password f…",
          "azurerm_windows_virtual_machine: module \"vm\" {   for_each                            = { for each in var.vm_config : each.vm_number =…",
          "azurerm_windows_virtual_machine: ```  ## module.tf.tfvars    ```hcl  subscription = \"np\" project_name = \"prj\" environment  = \"dev\" lo…",
          "azurerm_windows_virtual_machine: vm_config = [   {     vm_size        = \"Standard_B4s_v2\"     admin_username = \"tester\"     vm_number…",
          "azurerm_windows_virtual_machine: virtual_network_resource_group_name = \"rg-cloudinfra-nonprod-axso-ymiw\" resource_group_name         …",
          "azurerm_windows_virtual_machine: variable \"project_name\" {   type        = string   description = \"The name of the project. e.g. MDS\"…",
          "azurerm_windows_virtual_machine: variable \"resource_group_name\" {   type        = string   description = \"The name of the resource gr…",
          "azurerm_windows_virtual_machine: default = {     publisher = \"Debian\"     offer     = \"debian-10\"     sku       = \"10\"     version   …",
          "azurerm_windows_virtual_machine: variable \"vm_config\" {   description = \"List of Virtual Machine configurations.\"   type = list(objec…",
          "azurerm_windows_virtual_machine: })) }  variable \"subnet_name\" {   type        = string   description = \"The name of the subnet for t…",
          "azurerm_windows_virtual_machine: ```  <!-- BEGIN_TF_DOCS --> ### main.tf  ```hcl terraform {   backend \"azurerm\" {}    required_provi…",
          "azurerm_windows_virtual_machine: ----------------------------  # Input Description  ## Requirements  | Name | Version | |------|-----…",
          "azurerm_windows_virtual_machine: ## Modules  No modules.    ## Resources…",
          "azurerm_windows_virtual_machine: | Name | Type | |------|------| | [azurerm_disk_encryption_set.disk_encryption_set](https://registry…",
          "azurerm_windows_virtual_machine: ## Inputs…",
          "azurerm_windows_virtual_machine: | Name | Description | Type | Default | Required | |------|-------------|------|---------|:--------:…",
          "azurerm_windows_virtual_machine: ## Outputs…",
          "azurerm_windows_virtual_machine: | Name | Description | |------|-------------| | <a name=\"output_vm_id\"></a> [vm\\_id](#output\\_vm\\_id…",
          "azurerm_windows_virtual_machine: # Releases  ## v1.0.0 - 17/10/2023  * Initial release  ## v1.1.0 - 22/12/2023  * Added support for c…",
          "azurerm_windows_virtual_machine: ## v1.2.0 - 19/02/2024  * Removed support for creation of placement group and aviability set. Creati…",
          "azurerm_windows_virtual_machine: ## v1.3.0 - 12/03/2024  * Removed tagging from code  ## v1.4.0 - 25/03/2024  * Tags added to lifecyc…",
          "azurerm_windows_virtual_machine: ## v1.4.5 - 24/06/2024  * Dependencies updated - Provider versions updated  ## v1.5.0 - 16/07/2024  …",
          "azurerm_windows_virtual_machine: ## v1.6.2 - 24/10/2024  * Dependencies updated - Provider versions updated  ## v1.6.3 - 25/11/2024  …",
          "azurerm_windows_virtual_machine: # Infra Team Test  This template is used for testing the infra team's modules only.  <!-- BEGIN_TF_D…",
          "azurerm_windows_virtual_machine: ## Resources  No resources.  ## Inputs…",
          "azurerm_windows_virtual_machine: | Name | Description | Type | Default | Required | |------|-------------|------|---------|:--------:…",
          "azurerm_windows_virtual_machine: ## Outputs  No outputs. <!-- END_TF_DOCS -->…"
         ],
         "marker": {
          "color": "hsl(321,60%,50%)",
          "size": 8
         },
         "mode": "markers",
         "name": "azurerm_windows_virtual_machine",
         "type": "scatter",
         "x": {
          "bdata": "vv5RQshkB0JL+zxCyxvvQdQVp0F7QW+/RXAhQJ/kE8EYwjPCwQJPwbbJqMEQMJXBN2HMwZDGDcJ6v17B1d6vPzldUEEQFH1BoWLXv7Tfc0Hb+gHCvAkVQaA6oMH+9kVBKLqQQfvc2UFh7K9BbB/eQfOHp0HO/oVBKCvawSyJKsE=",
          "dtype": "f4"
         },
         "y": {
          "bdata": "4RVcQZgvlMHjAsfA7k1HQBcGpUDmLmPB6xWQwJBeLsE7k5LA8ySywCfeCME1zsdA67KPwM2QwD/84aM/OyqHQUaRnEGATxdC4Xb4QbElVUJdVudBrZdjQucgI0LCTEXC5rdjwkNIZcJfOEjCf6hRwng7hEGkmytC1nrQQdNuPkI=",
          "dtype": "f4"
         }
        },
        {
         "hoverinfo": "text",
         "hovertext": [
          "azurerm_windows_virtual_machine_scale_set: | **Build Status**      | **Latest Version** | **Date** | |:----------------------|:----------------…",
          "azurerm_windows_virtual_machine_scale_set: To see more available Axso services please see **[Production Ready Services](https://dev.azure.com/A…",
          "azurerm_windows_virtual_machine_scale_set: # INDEX  ----------------------------  1. [<Azure Resource> Configuration](#<Azure-Resource>-configu…",
          "azurerm_windows_virtual_machine_scale_set: ## Service Description  ----------------------------  Example  ## Deployed Resources  --------------…",
          "azurerm_windows_virtual_machine_scale_set: ## Axso Naming convention example  ----------------------------  The naming convention is derived fr…",
          "azurerm_windows_virtual_machine_scale_set: ```hcl ```  ## locals.tf  ```hcl ```  ## variables.tf  ```hcl ```  ## main.tf  ```hcl ```  ---------…",
          "azurerm_windows_virtual_machine_scale_set: # Releases  ## v1.0.0 - dd/mm/yyyy  * Initial release…",
          "azurerm_windows_virtual_machine_scale_set: # Infra Team Test  This is a test for the Infra team to check the quality of the code and the docume…"
         ],
         "marker": {
          "color": "hsl(329,60%,50%)",
          "size": 8
         },
         "mode": "markers",
         "name": "azurerm_windows_virtual_machine_scale_set",
         "type": "scatter",
         "x": {
          "bdata": "D0NlQor6AEJ/lD9CADC/Qf9qA0FPA8bAAIVZQRNouEE=",
          "dtype": "f4"
         },
         "y": {
          "bdata": "mU8PQYV6nMGB+YzAnRGzQOQIo8HJX4HBre8xwhGIo0E=",
          "dtype": "f4"
         }
        },
        {
         "hoverinfo": "text",
         "hovertext": [
          "azurerm_windows_web_app: | **Build Status** | **Latest Version** | **Date** | |:-----------------|:-------------------|:-----…",
          "azurerm_windows_web_app: To see more available Axso services please see **[Production Ready Services](https://dev.azure.com/A…",
          "azurerm_windows_web_app: # INDEX  ----------------------------  1. [Windows App Service Configuration](#windows-app-service-c…",
          "azurerm_windows_web_app: This module allows deploying Azure App Service Plans with the necessary Windows App Services, and al…",
          "azurerm_windows_web_app: >**Note:**   > >- To set up managed identities do it in (app_services.identity_type) > Supported val…",
          "azurerm_windows_web_app: ## Service Description  ----------------------------  **Windows App Service Plan:** Is a resource th…",
          "azurerm_windows_web_app: **App Services:** Is a fully managed platform for building, deploying, and scaling web applications …",
          "azurerm_windows_web_app: **Deployment Slots:** Are live instances of an Azure Web App that allow you to deploy and test chang…",
          "azurerm_windows_web_app: ## Deployed Resources  ---------------------------- This module will deploy the following azurerm re…",
          "azurerm_windows_web_app: If certificate/custom domain is configured:  - azurerm_role_assignment - azurerm_app_service_certifi…",
          "azurerm_windows_web_app: ----------------------------  It is assumed that the following resources already exists:  - Resource…",
          "azurerm_windows_web_app: ## Axso Naming convention example  ----------------------------  **App Service Plan** The naming con…",
          "azurerm_windows_web_app: **Construct:** `\"axso-${var.subscription}-appl-${var.project_name}-${var.environment}-${var.service_…",
          "azurerm_windows_web_app: **Construct:** `\"axso-${var.subscription}-appl-${var.project_name}-${var.environment}-${var.service_…",
          "azurerm_windows_web_app: **Construct:** `\"axso-${var.subscription}-appl-${var.project_name}-${var.environment}-${var.service_…",
          "azurerm_windows_web_app: **Construct:** `\"axso-${var.subscription}-appl-${var.project_name}-${var.environment}-${var.service_…",
          "azurerm_windows_web_app: **Construct:** `\"axso-${var.subscription}-appl-${var.project_name}-${var.environment}-${var.service_…",
          "azurerm_windows_web_app: ```hcl module \"webapps\" {   source = \"git::ssh://git@ssh.dev.azure.com/v3/Axpo-AXSO/TIM-INFRA-MODULE…",
          "azurerm_windows_web_app: ## Another call for windowscontainer OS type down here! module \"webapps_container\" {   source = \"git…",
          "azurerm_windows_web_app: ## module.tf.tfvars…",
          "azurerm_windows_web_app: ```hcl location                    = \"West Europe\" environment                 = \"dev\" project_name …",
          "azurerm_windows_web_app: service_plan_sku_name  = \"P1v3\" service_plan_usage     = \"billing\" service_plan_os_type   = \"Windows…",
          "azurerm_windows_web_app: umid_names_windows_container = [   \"axso-np-appl-ssp-test-umid2\" ]  app_settings = {   developers_se…",
          "azurerm_windows_web_app: app_services = [   {     appservice_short_description         = \"developers\",     app_settings_name …",
          "azurerm_windows_web_app: deployment_slots = [   {     deployment_slot_name                 = \"stage\",     appservice_short_de…",
          "azurerm_windows_web_app: app_services2 = [   {     appservice_short_description         = \"container\",     app_settings_name …",
          "azurerm_windows_web_app: private_dns_zone_name = \"nonprod.cloudinfra.axpo.cloud\" public_dns_zone_name  = \"cloudinfra.axpo.clo…",
          "azurerm_windows_web_app: webapp_custom_certificates = {   \"webapp-c-1\" = {     keyvault_certificate_name        = \"nonprod-cl…",
          "azurerm_windows_web_app: webapp_custom_domains = {   \"developers\" = {     webapp_description               = \"developers\" #Th…",
          "azurerm_windows_web_app: ```  ## variables.tf  ```hcl ### App Services - General ### variable \"location\" {   type        = st…",
          "azurerm_windows_web_app: variable \"subscription\" {   type        = string   description = \"The short name of the subscription…",
          "azurerm_windows_web_app: variable \"service_plan_sku_name\" {   type        = string   description = \"The SKU for the plan. Pos…",
          "azurerm_windows_web_app: variable \"virtual_network_name\" {   type    = string   default = \"Name of the virtual Network\" }  va…",
          "azurerm_windows_web_app: variable \"app_services\" {   description = \"Add details for your App services\"   type = list(object({…",
          "azurerm_windows_web_app: ### App Services - Site Config ### variable \"default_documents\" {   type        = list(string)   def…",
          "azurerm_windows_web_app: variable \"umids\" {   description = \"(Optional) Specifies a list of User Assigned Managed Identity ID…",
          "azurerm_windows_web_app: variable \"deployment_slots\" {   description = \"Add details for your App services Slots\"   type = lis…",
          "azurerm_windows_web_app: variable \"acr_name\" {   description = \"(Optional) name of the ACR if ACR is enabled per app\"   defau…",
          "azurerm_windows_web_app: variable \"public_dns_zone_name\" {   type        = string   description = \"(Optional) The domain name…",
          "azurerm_windows_web_app: variable \"webapp_custom_certificates\" {   type = map(object({     keyvault_certificate_name        =…",
          "azurerm_windows_web_app: variable \"webapp_custom_domains\" {   type = map(object({     webapp_description               = stri…",
          "azurerm_windows_web_app: <!-- BEGIN_TF_DOCS --> ### main.tf  ```hcl terraform {   backend \"azurerm\" {}    required_providers …",
          "azurerm_windows_web_app: ----------------------------  # Input Description  ## Requirements  | Name | Version | |------|-----…",
          "azurerm_windows_web_app: ## Providers  | Name | Version | |------|---------| | <a name=\"provider_azuread\"></a> [azuread](#pro…",
          "azurerm_windows_web_app: | Name | Type | |------|------| | [azurerm_app_service_certificate.app_certificate](https://registry…",
          "azurerm_windows_web_app: ## Inputs…",
          "azurerm_windows_web_app: | Name | Description | Type | Default | Required | |------|-------------|------|---------|:--------:…",
          "azurerm_windows_web_app: ## Outputs  | Name | Description | |------|-------------| | <a name=\"output_app_service_ids\"></a> [a…",
          "azurerm_windows_web_app: # Releases  ## v1.0.0 - 17/10/2023  * Initial release  ## v1.1.0 - 27/11/2023  * README File modifie…",
          "azurerm_windows_web_app: ## v2.1.0 - 25/03/2024  * Tags added to lifecycle block in module  ## v2.1.1 - 23/04/2024  * Depende…",
          "azurerm_windows_web_app: ## v2.1.5 - 24/06/2024  * Dependencies updated - Provider versions updated  ## v2.1.6 - 24/07/2024  …",
          "azurerm_windows_web_app: ## v4.0.0 - 24/09/2024  * Various bug fixes and support for AzureRm provider 4.x.x * Version pinning…",
          "azurerm_windows_web_app: ## v4.0.2 - 24/10/2024  * Dependencies updated - Provider versions updated  ## v5.0.0 - 06/11/2024  …",
          "azurerm_windows_web_app: ## v5.1.1 - 24/11/2024  * Dependencies updated - Provider versions updated  ## v5.1.2 - 07/01/2025  …",
          "azurerm_windows_web_app: # Infra Team Test  This template deploys a Windows App Service Plan, Windows App services, Deploymen…",
          "azurerm_windows_web_app: ## Providers  No providers.  ## Modules  | Name | Source | Version | |------|--------|---------| | <…",
          "azurerm_windows_web_app: | Name | Description | Type | Default | Required | |------|-------------|------|---------|:--------:…",
          "azurerm_windows_web_app: ## Outputs  No outputs. <!-- END_TF_DOCS -->…"
         ],
         "marker": {
          "color": "hsl(337,60%,50%)",
          "size": 8
         },
         "mode": "markers",
         "name": "azurerm_windows_web_app",
         "type": "scatter",
         "x": {
          "bdata": "i1dXQmJ8BkIUjDpCI3AEQneVzMG3qwhC90INQgBoAkJc9MNBV4WMQXQQdEFi2y5BGk0JQbUq/ECdCvhAwfTvQECHskAkZ9M/KkbQP6QHBMGjPpbAfIclwuvVJ8I/gjPCHyg2wo7JM8L1SivCqhg2wrGrNMKJexTBIESewfaaxcGkXpfBI18RwrF4r8Es3rnBjowVwlm2u8FncMrB3NjdwTw/S8Gzcoq/INA3QR/VdUEYm9Y+tN9zQTT/9sG6aJnBYiJVQdM55EH4wbVBKvKYQcHZpkGUC+FBtCXFQZDfskGLCPfBqA42wQ==",
          "dtype": "f4"
         },
         "y": {
          "bdata": "6stTQaynncHZFrfAyB1XvomOwUBAcdi/MUg7v0ydAkCUkjBA/903QEsAncGGHLrB/bzHwZwAycEttsvBeYnNwcUguMHINc3AXWu2wKXFe8EO68fAdiBMwQp9TMGjlSPB2EsPweFxIsHPII7BgYOTwdrQnsGlE7bANIcYwVWCEMHvREQ/Zzc+wDhgYsEKKwNBkpt8wHiQiUCZ25U+OKu2Pz7D4UD8eE5Bog2tQT2460Frf/pBsSVVQh25xkEnOi1CUBRbwqitYsLMF13Csb5PwlL1WMJIJjbCECRxQfa4+kESVcZB/kpRQg==",
          "dtype": "f4"
         }
        },
        {
         "hoverinfo": "text",
         "hovertext": [
          "terraform_yaml_pipeline_templates: # TERRAFORM YAML PIPELINE HOWTO  ## Introduction  This document provides a detailed explanation of t…",
          "terraform_yaml_pipeline_templates: Also have a look at the [Terraform UseCase Template](https://dev.azure.com/Axpo-AXSO/TIM-INFRA-MODUL…",
          "terraform_yaml_pipeline_templates: ## Resource Deployment Pipeline  Copy the file `azure-pipeline-[project]-[azureservicename]-[environ…",
          "terraform_yaml_pipeline_templates: **Example:** `azure-pipeline-mds-storageaccount-dev.yml`  ```yaml trigger:   none  resources:   repo…",
          "terraform_yaml_pipeline_templates: stages:   - template: tf_main.yml@Terraform_Deployment_Pipeline     parameters:           environmen…",
          "terraform_yaml_pipeline_templates: ## Pipeline Parameters  The following parameters are required to be set in the deployment pipeline:…",
          "terraform_yaml_pipeline_templates: - `environment_name`: The name of the environment. This is used to set the environment name in the p…",
          "terraform_yaml_pipeline_templates: ## Pipeline Variables  You will notice that the deployment pipeline references a variable template: …",
          "terraform_yaml_pipeline_templates: You can add any additional variables based on the resource being deployed. Copy the file `[azureserv…",
          "terraform_yaml_pipeline_templates: ```yaml # Replace tokens  variables:   - name: terraformVersion     value: '1.5.7'  # Feature Flags …",
          "terraform_yaml_pipeline_templates: - name: terraform_format # Automatically format terraform code - Only usable on 'feature' branches  …",
          "terraform_yaml_pipeline_templates: ## Stages  **Format_Code:** This stage formats the Terraform code using the `tf_format_code.yml` tem…",
          "terraform_yaml_pipeline_templates: ```yml variables:   terraform_format: 'true' ```  **Terraform_Docs:** This stage generates Terraform…",
          "terraform_yaml_pipeline_templates: ```yml variables:   terraform_docs: 'true' ```  ## Destroy  This stage destroys the resources using …",
          "terraform_yaml_pipeline_templates: ```yml variables:   destroy: 'true' ```  By setting these variables, you can control the execution o…",
          "terraform_yaml_pipeline_templates: - name: terraform_format # Automatically format terraform code - Only usable on 'feature' branches  …",
          "terraform_yaml_pipeline_templates: - name: terraform_docs # Automatically generate terraform documentation - Only usable on 'feature' b…",
          "terraform_yaml_pipeline_templates: ## Pipeline Stages  The deployment pipeline consists of the following stages:  ## 1. Validate:  This…",
          "terraform_yaml_pipeline_templates: 1. **Parameters**: It accepts several parameters like the container name, environment name, root dir…",
          "terraform_yaml_pipeline_templates: In summary, this stage is designed to validate and plan a Terraform configuration, analyze the chang…",
          "terraform_yaml_pipeline_templates: 1. **Parameters**: It accepts several parameters like the container name, key, environment name, Ter…",
          "terraform_yaml_pipeline_templates: In summary, this pipeline downloads build artifacts, fetches secrets from Azure Key Vault, installs …",
          "terraform_yaml_pipeline_templates: ```yml # Feature Flags (By default these are disabled and have to be explicitly enabled)   - name: d…",
          "terraform_yaml_pipeline_templates: 1. **Parameters**: It accepts various parameters like container name, key, environment name, Terrafo…",
          "terraform_yaml_pipeline_templates: In summary, this stage downloads build artifacts, fetches secrets from Azure Key Vault, installs an …",
          "terraform_yaml_pipeline_templates: ## 4. Format_Code: (Optional stage)  This in an optional stage that can automatically lint and forma…",
          "terraform_yaml_pipeline_templates: Here's a brief summary of what the stage does:  This stage defines an Azure DevOps pipeline job that…",
          "terraform_yaml_pipeline_templates: 1. **Parameters**: The pipeline accepts a parameter for the agent pool that runs the job. 2. **Jobs*…",
          "terraform_yaml_pipeline_templates: In summary, this stage formats Terraform code in the repository and commits the formatted code back …",
          "terraform_yaml_pipeline_templates: ```yml # Feature Flags (By default these are disabled and have to be explicitly enabled)   - name: t…",
          "terraform_yaml_pipeline_templates: 1. **Parameters**: The pipeline accepts two parameters: the version of Terraform-Docs to install and…",
          "terraform_yaml_pipeline_templates: In summary, this stage installs Terraform-Docs, updates README.md files for each Terraform module in…"
         ],
         "marker": {
          "color": "hsl(344,60%,50%)",
          "size": 8
         },
         "mode": "markers",
         "name": "terraform_yaml_pipeline_templates",
         "type": "scatter",
         "x": {
          "bdata": "C5nAQRBMvkHUR1JBFIBMQViCL0FoynJB394mQRoqZkEqRV1BDJpkQWxXfUGHR4RBOxZqQaIyaUFmtmhBDbdyQf80gUHgtZFBy++RQRj0kUEElo5BwXSIQcSobEEya45BFo2IQepYhEHRpJJBB/CWQS5fjEFD5HpB7b2WQbnoj0E=",
          "dtype": "f4"
         },
         "y": {
          "bdata": "ohNCwUwTSMG0BTLBvWkzwXY0JcET3SHBKQIiwXvfKsGsHC/Bfl/OwGIEw8Cb2aXAUGqjwM2TpMAHGMnARunIwH/q1sB18u7A7BUgwdTJ68DOGyHB0VADwfCyy8BPMCHBmVADwR7PqMAAlOHANcAXwcKPwcAUgdTA7nkXwaeSycA=",
          "dtype": "f4"
         }
        },
        {
         "hoverinfo": "text",
         "hovertext": [
          "TIM-INFRA-MODULES-WIKI.wiki: [![Board Status](https://dev.azure.com/Axpo-AXSO/194c0121-61f9-487b-8b1f-e71dd39a44f1/c04a65c9-33ee-…",
          "TIM-INFRA-MODULES-WIKI.wiki: # Welcome to the Axso Terraform Self Service Wiki (DYOS - Do Your Own System)  Welcome to the Axso s…",
          "TIM-INFRA-MODULES-WIKI.wiki: Please note that the **Cloud Infrastructure Team** work very closely with **Axpo Security** to build…",
          "TIM-INFRA-MODULES-WIKI.wiki: The **Cloud Infrastructure Team** will rigorously test all modules, including against an **Azure Pol…",
          "TIM-INFRA-MODULES-WIKI.wiki: # Project Overview  - [Devops-Organisation-Team-Structure](/Axso-Terraform-Modules/OVERVIEW/Devops-O…",
          "TIM-INFRA-MODULES-WIKI.wiki: # Getting Started  - [Getting-Started](/Axso-Terraform-Modules/GETTING.STARTED.md)   - [Production-R…",
          "TIM-INFRA-MODULES-WIKI.wiki: # AXSO Concepts  These tutorials and posts are designed to help you understand the concepts behind t…",
          "TIM-INFRA-MODULES-WIKI.wiki: # Getting Started  ## New Project On-boarding Prerequisites  To start using the Axso self service te…",
          "TIM-INFRA-MODULES-WIKI.wiki: |**Prerequisites** | **Ownership** | |:-----------------|:--------------| | 1. An Azure DevOps servi…",
          "TIM-INFRA-MODULES-WIKI.wiki: ## Access to the Axso Terraform Self Service Project  Once you have completed the above prerequisite…",
          "TIM-INFRA-MODULES-WIKI.wiki: |**Prerequisites** | **Ownership** | |:-----------------|:--------------| | 1. Order a **Visual Stud…",
          "TIM-INFRA-MODULES-WIKI.wiki: # How-To Guides  The self-service portal modules are designed to be used in a self service manner, w…",
          "TIM-INFRA-MODULES-WIKI.wiki: 1. [How-to-setup-your-terraform-pipeline](/Axso-Terraform-Modules/HOW-TO/How-to-setup-your-terraform…",
          "TIM-INFRA-MODULES-WIKI.wiki: ---  ## Platform Team Guides  1. [In-Place-Testing-Infrastructure-Data-Sources](/Axso-Terraform-Modu…",
          "TIM-INFRA-MODULES-WIKI.wiki: # Blueprints  COMING SOON...  The below list of blueprints are **collections** of **Services** avail…",
          "TIM-INFRA-MODULES-WIKI.wiki: **Blueprints** are comprised of multiple **Services** combined together to form a **Reference Archit…",
          "TIM-INFRA-MODULES-WIKI.wiki: # Production Ready Services  The below list of modules are available for use by any Axso employee to…",
          "TIM-INFRA-MODULES-WIKI.wiki: A **Service** may be comprised of multiple resources combined together to form a **Service**. For ex…",
          "TIM-INFRA-MODULES-WIKI.wiki: See [Blueprints](https://dev.azure.com/Axpo-AXSO/TIM-INFRA-MODULES/_wiki/wikis/Axso%20Terraform%20Se…",
          "TIM-INFRA-MODULES-WIKI.wiki: |**AzureRM - Foundation Modules** | **Test Build Status** | |:--------------------------------|:----…",
          "TIM-INFRA-MODULES-WIKI.wiki: |**AzureRM - Networking Modules** | **Test Build Status** | |:--------------------------------|:----…",
          "TIM-INFRA-MODULES-WIKI.wiki: |**AzureRM - PaaS Services Modules** | **Test Build Status** | |:------------------|:---------------…",
          "TIM-INFRA-MODULES-WIKI.wiki: |**AzureRM - Database Modules** | **Test Build Status** | |:-----------------------|:---------------…",
          "TIM-INFRA-MODULES-WIKI.wiki: |**AzureRM - Compute Modules** | **Test Build Status** | |:------------------|:---------------------…",
          "TIM-INFRA-MODULES-WIKI.wiki: |**AzureRM - Container Modules** | **Test Build Status** | |:------------------------|:-------------…",
          "TIM-INFRA-MODULES-WIKI.wiki: |**AzureRM - Web Services Modules** | **Test Build Status** | |:------------------|:----------------…",
          "TIM-INFRA-MODULES-WIKI.wiki: |**AzureRM - Monitoring Modules** | **Test Build Status** | |:------------------|:------------------…",
          "TIM-INFRA-MODULES-WIKI.wiki: |**AzureRM - Automation Modules** | **Test Build Status** | |:------------------|:------------------…",
          "TIM-INFRA-MODULES-WIKI.wiki: |**AzureRM - Backups & Data Protection Modules** | **Test Build Status** | |:------------------|:---…",
          "TIM-INFRA-MODULES-WIKI.wiki: |**AzureRM - Administration Modules** | **Test Build Status** | |:----------------------------------…",
          "TIM-INFRA-MODULES-WIKI.wiki: ---…",
          "TIM-INFRA-MODULES-WIKI.wiki: # MDS Azure Onboarding and App Registrations  This tutorial will guide you through the process of on…",
          "TIM-INFRA-MODULES-WIKI.wiki: ![image](../../assets/MDS-App-Registration/slide5.png)    ![image](../../assets/MDS-App-Registration…",
          "TIM-INFRA-MODULES-WIKI.wiki: # Resource Tagging in portal  In new GIT subscriptions Tagging is done at subscription level and pro…",
          "TIM-INFRA-MODULES-WIKI.wiki: ## Examples  Resource_CostCenter: CC_2002545\\ Resource_DataCriticality: public\\ Resource_Department:…",
          "TIM-INFRA-MODULES-WIKI.wiki: # How to set up your Terraform pipeline  Please see the below steps to set up your Terraform pipelin…",
          "TIM-INFRA-MODULES-WIKI.wiki: # In Place Testing Infrastructure Data Sources  ## Introduction…",
          "TIM-INFRA-MODULES-WIKI.wiki: ## Introduction  As part of module development, it is important to test the module in isolation. Thi…",
          "TIM-INFRA-MODULES-WIKI.wiki: Instead of creating supporting resources for testing, the Platform team has some pre-built resources…",
          "TIM-INFRA-MODULES-WIKI.wiki: - **Resource Group:** axso-np-appl-ssp-test-rg ([link](https://portal.azure.com/#@axpogrp.onmicrosof…",
          "TIM-INFRA-MODULES-WIKI.wiki: ## Data Sources for Testing  ### Resource Group  ```hcl data \"azurerm_resource_group\" \"resource_grou…",
          "TIM-INFRA-MODULES-WIKI.wiki: ## Virtual Network  ```hcl data \"azurerm_virtual_network\" \"virtual_network\" {   name                …",
          "TIM-INFRA-MODULES-WIKI.wiki: ## User Assigned Managed Identity  ```hcl data \"azurerm_user_assigned_identity\" \"example\" {   name  …",
          "TIM-INFRA-MODULES-WIKI.wiki: ## Azure Monitor Workspace  ```hcl data \"azurerm_monitor_workspace\" \"monitor_workspace\" {   name    …",
          "TIM-INFRA-MODULES-WIKI.wiki: Private DNS zones are created and managed by the Group IT team in subscription: **[sub-connectivity-…",
          "TIM-INFRA-MODULES-WIKI.wiki: The following is an example of how to use terraform aliasing to test a module that requires a privat…",
          "TIM-INFRA-MODULES-WIKI.wiki: # Then create a data source for the Private DNS zone (Example Key vault) data \"azurerm_private_dns_z…",
          "TIM-INFRA-MODULES-WIKI.wiki: ## Platform Team DevOps Pipeline and Service Connection  The platform team DevOps Service Connection…",
          "TIM-INFRA-MODULES-WIKI.wiki: stages:   - template: tf_main.yml@Terraform_Deployment_Pipeline     parameters:           environmen…",
          "TIM-INFRA-MODULES-WIKI.wiki: # Module Versioning Lifecycle  ## Introduction  Modules are versioned using [Semantic Versioning](ht…",
          "TIM-INFRA-MODULES-WIKI.wiki: - **Major:** Breaking changes to the module that will require consumers to update their code to use …",
          "TIM-INFRA-MODULES-WIKI.wiki: |**Major** |**Minor** |**Patch** |**Description**| |:---------|:---------|:---------|:--------------…",
          "TIM-INFRA-MODULES-WIKI.wiki: ---  ## How to upgrade Module Versioning and Lifecycle  The following is an example of how to versio…",
          "TIM-INFRA-MODULES-WIKI.wiki: To upgrade the module to the latest version. We can do this by changing the `ref` parameter to the l…",
          "TIM-INFRA-MODULES-WIKI.wiki: # Module Parameters   argument1                        = \"value1\"   argument2                       …",
          "TIM-INFRA-MODULES-WIKI.wiki: ```hcl module \"example\" {   source                          = \"git::ssh.dev.azure.com/v3/Axpo-AXSO/T…",
          "TIM-INFRA-MODULES-WIKI.wiki: For breaking changes to the module, we can do this by changing the `ref` parameter to the latest ver…",
          "TIM-INFRA-MODULES-WIKI.wiki: # Module Parameters   new_feature_argument1            = \"new_value\"   new_feature_argument2        …",
          "TIM-INFRA-MODULES-WIKI.wiki: # New Service Onboarding  When a new service is required or requested to be onboarded to the platfor…",
          "TIM-INFRA-MODULES-WIKI.wiki: - Create a new git repository for the service using the following naming convention: `<Provider>_<se…",
          "TIM-INFRA-MODULES-WIKI.wiki: Update each of the pipeline variable files **new** repository:  Change the following variables in th…",
          "TIM-INFRA-MODULES-WIKI.wiki: # TFLINT testing   ## Introduction  As part of module development, we've added the TFLINT linting to…",
          "TIM-INFRA-MODULES-WIKI.wiki: Once the run is finished, the results will be published in the \"Test\" tab in Azure DevOps, allowing …",
          "TIM-INFRA-MODULES-WIKI.wiki: If you encounter any false positives or need to exclude any errors, you'll need to open a Pull Reque…",
          "TIM-INFRA-MODULES-WIKI.wiki: The file look like this  ```json plugin \"terraform\" {   enabled = true   preset  = \"recommended\" } p…",
          "TIM-INFRA-MODULES-WIKI.wiki: rule \"terraform_required_version\" {   enabled = false } ```  To create an exception, you only need t…",
          "TIM-INFRA-MODULES-WIKI.wiki: # Understanding Count and For_Each Loops in Terraform  When working with Terraform, you may need to …",
          "TIM-INFRA-MODULES-WIKI.wiki: ## Count in Terraform  The `count` parameter in Terraform allows you to create a specified number of…",
          "TIM-INFRA-MODULES-WIKI.wiki: Here's an example of how to use `count` in Terraform:  ```hcl resource \"azurerm_resource_group\" \"exa…",
          "TIM-INFRA-MODULES-WIKI.wiki: ## Pros:  - **Simple to use:** The `count` parameter is straightforward for creating multiple instan…",
          "TIM-INFRA-MODULES-WIKI.wiki: - **Lacks key-based identification:** `count` doesn’t include a way to address a resource with a uni…",
          "TIM-INFRA-MODULES-WIKI.wiki: ```hcl resource \"azurerm_virtual_machine\" \"vm\" {   count               = 5   name                = \"…",
          "TIM-INFRA-MODULES-WIKI.wiki: In the above example. Say After some time, you decide that you no longer need the second VM (**\"vm-1…",
          "TIM-INFRA-MODULES-WIKI.wiki: The problem arises here: Terraform determines the creation and destruction of resources based on the…",
          "TIM-INFRA-MODULES-WIKI.wiki: - **Downtime:** Recreating VMs would lead to downtime for the services running on them, which may be…",
          "TIM-INFRA-MODULES-WIKI.wiki: To avoid such issues with `count`, you'd want to use `create_before_destroy` lifecycle rules or cons…",
          "TIM-INFRA-MODULES-WIKI.wiki: ## For_Each in Terraform  The `for_each` loop in Terraform, used within the `for_each` argument, ite…",
          "TIM-INFRA-MODULES-WIKI.wiki: # Alternatively, using a map resource \"azurerm_storage_account\" \"example\" {   for_each  = {     prod…",
          "TIM-INFRA-MODULES-WIKI.wiki: In the first example using a **set** of strings, we create resource groups with specific names: **\"r…",
          "TIM-INFRA-MODULES-WIKI.wiki: ## Pros:  - **Detailed declaration:** `for_each` provides greater control when creating resources th…",
          "TIM-INFRA-MODULES-WIKI.wiki: ## Cons:  - **Complexity:** `for_each` is more complex to use than `count` and requires more plannin…",
          "TIM-INFRA-MODULES-WIKI.wiki: ### Use Count when:  - You need to create a fixed number of similar resources. - Resource difference…",
          "TIM-INFRA-MODULES-WIKI.wiki: ## Conclusion  Choosing between `count` and `for_each` largely depends on the scenario at hand. The …",
          "TIM-INFRA-MODULES-WIKI.wiki: # Understanding Implicit and Explicit Dependencies in Terraform  When working with Terraform, it is …",
          "TIM-INFRA-MODULES-WIKI.wiki: ## What Are Dependencies in Terraform?  Dependencies in Terraform dictate the order in which resourc…",
          "TIM-INFRA-MODULES-WIKI.wiki: ## Implicit Dependencies  Implicit dependencies are automatically discovered by Terraform by analysi…",
          "TIM-INFRA-MODULES-WIKI.wiki: Consider this example involving an Azure virtual network and a subnet:    ```hcl resource \"azurerm_r…",
          "TIM-INFRA-MODULES-WIKI.wiki: resource \"azurerm_subnet\" \"example_subnet\" {   name                 = \"example-subnet\"   resource_gr…",
          "TIM-INFRA-MODULES-WIKI.wiki: In this example, the `azurerm_subnet` resource has an implicit dependency on the `azurerm_virtual_ne…",
          "TIM-INFRA-MODULES-WIKI.wiki: ## Explicit Dependencies  Sometimes, however, the relationship between resources is not captured by …",
          "TIM-INFRA-MODULES-WIKI.wiki: Let's illustrate an explicit dependency in a scenario where an Azure App Service depends on certain …",
          "TIM-INFRA-MODULES-WIKI.wiki: resource \"azurerm_key_vault\" \"example_kv\" {   name                        = \"exampleKeyVault\"   loca…",
          "TIM-INFRA-MODULES-WIKI.wiki: soft_delete_enabled         = true   purge_protection_enabled    = false }  resource \"null_resource\"…",
          "TIM-INFRA-MODULES-WIKI.wiki: resource \"azurerm_app_service\" \"example_app_service\" {   name                = \"example-appservice\" …",
          "TIM-INFRA-MODULES-WIKI.wiki: resource \"azurerm_app_service_plan\" \"example_asp\" {   name                = \"example-asp\"   location…",
          "TIM-INFRA-MODULES-WIKI.wiki: - `azurerm_resource_group.example_rg` creates a resource group. - `azurerm_key_vault.example_kv` cre…",
          "TIM-INFRA-MODULES-WIKI.wiki: By using `depends_on`, we establish an explicit dependency chain: Resource Group -> Key Vault -> Key…",
          "TIM-INFRA-MODULES-WIKI.wiki: ## When to Use Implicit vs. Explicit Dependencies  Implicit dependencies should be your first go-to …",
          "TIM-INFRA-MODULES-WIKI.wiki: To minimise potential issues:    - Rely mostly on implicit dependencies through resource attribute r…",
          "TIM-INFRA-MODULES-WIKI.wiki: Grasping the concept of implicit and explicit dependencies and applying that knowledge to Azure reso…",
          "TIM-INFRA-MODULES-WIKI.wiki: # DevOps Organisation Team Structure  The DevOps team is responsible for the development and mainten…",
          "TIM-INFRA-MODULES-WIKI.wiki: # Low Code No Code  Evaluating tools are:    1. Backstage and Port 2. Terraform cloud 3. ⁠Service No…",
          "TIM-INFRA-MODULES-WIKI.wiki: # Mission Statement  The Axso Terraform Self Service modules are designed to be used in a self servi…",
          "TIM-INFRA-MODULES-WIKI.wiki: # Problem Statement  We will show the Problem Statements and how our self service products are mitig…",
          "TIM-INFRA-MODULES-WIKI.wiki: 1. Organisation Structure 2. Process to onboard Projects in Cloud 3. Team Structure 4. Common Toolin…",
          "TIM-INFRA-MODULES-WIKI.wiki: **Note:** Self Service is a collection of **Automation tools** but there's a lot of other processes …",
          "TIM-INFRA-MODULES-WIKI.wiki: ![image.png](/assets/Overview/Project_Structure.PNG)  Self Service (DYOS) fulfils the need for **`Se…",
          "TIM-INFRA-MODULES-WIKI.wiki: ### 2. Process  There was never a process to onboard projects in cloud. With Self Service, we now ha…",
          "TIM-INFRA-MODULES-WIKI.wiki: - **`Business`** - Responsible for the **usecase** of the project. - **`Architecture`** - Responsibl…",
          "TIM-INFRA-MODULES-WIKI.wiki: **Cloud Platfrom Team:**    ![image.png](/assets/Overview/Cloud-platform-team.png)  ### 4. Common To…",
          "TIM-INFRA-MODULES-WIKI.wiki: - Azure Devops - Octopus - Github Actions - Circle CI - Jenkins  We are also developing a **low code…",
          "TIM-INFRA-MODULES-WIKI.wiki: - On Prem K8s - Azure Kubernetes Service (Microsoft AKS) - Google Kubernetes Service (Google GKS) - …",
          "TIM-INFRA-MODULES-WIKI.wiki: This is what the **new Hub** looks like that is using Express Route:    ![image.png](/assets/Overvie…",
          "TIM-INFRA-MODULES-WIKI.wiki: ### 8. Network Address Space Requests  The problem with **Network Address Space** requests have been…",
          "TIM-INFRA-MODULES-WIKI.wiki: ### 11. DNS Order  DNS Orders have been solved by implementing Azure Private DNS Resolver - https://…",
          "TIM-INFRA-MODULES-WIKI.wiki: ### 13. Build and Deployment Process  Infrastructure **Build and Deploy** process has been greatly s…",
          "TIM-INFRA-MODULES-WIKI.wiki: ### 14. Cloud Resources  With Self Service, there are two approaches:    - Dev Teams can Build, Depl…",
          "TIM-INFRA-MODULES-WIKI.wiki: ### 15. Silo Technologies around Applications  Dev Teams can now leverage **common Technologies** fr…",
          "TIM-INFRA-MODULES-WIKI.wiki: ### 18. Operation Model based on use cases  Similar to Point 14, we have two approaches:  - Dev Team…",
          "TIM-INFRA-MODULES-WIKI.wiki: # Product Roadmap  ## Current State  **Phase 1** - Refactor Terraform Modules and Azure Devops Pipel…",
          "TIM-INFRA-MODULES-WIKI.wiki: ---  ## Future State  **Phase 7** - Enable Dev Team to Contribute to DYOS Codebase - **Option 1**: P…",
          "TIM-INFRA-MODULES-WIKI.wiki: **Phase 11** - Blueprints based on Azure Reference Architecture.  **Phase 12** - Ready to go setting…",
          "TIM-INFRA-MODULES-WIKI.wiki: **Phase 16** - Extend the CI/CD from Azure Devops to Jenkins using the same Terraform Modules.  **Ph…",
          "TIM-INFRA-MODULES-WIKI.wiki: # Why DYOS?  DYOS Stands for - \"DO YOUR OWN SYSTEM\" or \"DESIGN YOUR OWN SYSTEM\"    ![image.png](/ass…"
         ],
         "marker": {
          "color": "hsl(352,60%,50%)",
          "size": 8
         },
         "mode": "markers",
         "name": "TIM-INFRA-MODULES-WIKI.wiki",
         "type": "scatter",
         "x": {
          "bdata": "lfDxQb707kFQPOJBge/hQcLN10HEkNRBJRPTQdA/4EFMwsVB5QfhQZ13xkFQfuVBD7/RQUlj1kHkKQ1CNDAPQpcADEIFdxdCSgsNQtvuSkKU6kpCKjRLQoFQSEJdbktCAdFJQm59S0KrLEhCNtNOQmj/UUL6v0tC8wYPQW6MJ0IZjSdCgRxVQU3tVEEqIsFBjEjOQbeek0H86qNBsGejQa9iJcAk+QXAQOHmv5bQNr6rYaVBseuSPFadUkCMOD9BiGEvQceCi0ErSWBBMGJgQcfNm0DwTL5AJijoQDxoYkBHU79Ar+nuQKjHC0KUqLhBOWVfQZwdpEHGT6lBLjGqQXg7JcBf2apBvak0wBNOXsDapXfA0lFowEYsXMA8o53AKzwcvx9y1L6Oc7A+ub4CwGcAIcAu0SPAlVKUwFLACcCUthPA0hEcwJFYGsBwWKFA6RKiQPV4o0A01ZzAakOdwG4Ch0BuebJAzd6FQB6YKkBBBCxAnvd5QAEyeUARJIBA6Y2nQDWQsUC3WchA/qmZQJ6/2UENIvlBHm/qQTAUA0JzsAhCwGQFQuO/BEKCOAhCPh4CQjvg/EFjUgBCd5bRQSfB00F2sdVB9dbaQaCtBUIwvwRCejAEQg5DBEI8kflBcdP6QfLf8kHs+fJBE1H4QQ==",
          "dtype": "f4"
         },
         "y": {
          "bdata": "TeVhwe17X8EDtBHBxhkSwarvR8E2A1bB8nNiwU+Ib8GuKoXBT/puwWAnhcErCFbBTi5RwYISU8Eo/XjB4dNswSJXgcHftubAz0Z2wX65iUHFV49BLjmJQcWCg0GBdIVBSCKIQbwZg0GeEIpB5wqJQT1OhUEtYo1B1XhUQqtkdkD2vnhAdPcAQc4KAUGpI0rBOzGjQUX7UEH7VpXBhNiUwckPEcBDKfa/CXLgv1jma78Bjp/Bbv5Cv/qaI78CNTfBVNIlwfjkGMI74mrC8axqwjpGAcEcjfvAN6bvwD6Z+MDkZvvAy9HtwFzKI8Fl5lLBqgQvwSnIusAyesjAYuK0wHZYSkHsAq7AWzWxQIxJt0B6NblAKuLTQJAJwkA2N+E/7fikQA31o0AQL59AEtSuQDvalEDk5ThA/YWyQNOlzEBo5uBAXljgQNAG3kAmYf1A7lkCQTmZAUHNpYk/Rhl3P8sZzUBTHuhAwMOtQD/YKkCu3C1AdQWCQPrmdEBmmZJAE5HOQNdS8kAb4OVAlFbsQPvOOsHSrxDBa8xbwd8QPME/eBbB1QQ2wYcbNcETdCHBpUgnwWg4GMFFlRHBvyizwWtWscF9za/BCZWrwbh1GcGmxhTB4rwJwS0kGMHOyDTBs5w1wXq3K8FLvirBcu9YwQ==",
          "dtype": "f4"
         }
        }
       ],
       "layout": {
        "height": 600,
        "legend": {
         "title": {
          "text": "Module"
         }
        },
        "template": {
         "data": {
          "bar": [
           {
            "error_x": {
             "color": "#2a3f5f"
            },
            "error_y": {
             "color": "#2a3f5f"
            },
            "marker": {
             "line": {
              "color": "#E5ECF6",
              "width": 0.5
             },
             "pattern": {
              "fillmode": "overlay",
              "size": 10,
              "solidity": 0.2
             }
            },
            "type": "bar"
           }
          ],
          "barpolar": [
           {
            "marker": {
             "line": {
              "color": "#E5ECF6",
              "width": 0.5
             },
             "pattern": {
              "fillmode": "overlay",
              "size": 10,
              "solidity": 0.2
             }
            },
            "type": "barpolar"
           }
          ],
          "carpet": [
           {
            "aaxis": {
             "endlinecolor": "#2a3f5f",
             "gridcolor": "white",
             "linecolor": "white",
             "minorgridcolor": "white",
             "startlinecolor": "#2a3f5f"
            },
            "baxis": {
             "endlinecolor": "#2a3f5f",
             "gridcolor": "white",
             "linecolor": "white",
             "minorgridcolor": "white",
             "startlinecolor": "#2a3f5f"
            },
            "type": "carpet"
           }
          ],
          "choropleth": [
           {
            "colorbar": {
             "outlinewidth": 0,
             "ticks": ""
            },
            "type": "choropleth"
           }
          ],
          "contour": [
           {
            "colorbar": {
             "outlinewidth": 0,
             "ticks": ""
            },
            "colorscale": [
             [
              0,
              "#0d0887"
             ],
             [
              0.1111111111111111,
              "#46039f"
             ],
             [
              0.2222222222222222,
              "#7201a8"
             ],
             [
              0.3333333333333333,
              "#9c179e"
             ],
             [
              0.4444444444444444,
              "#bd3786"
             ],
             [
              0.5555555555555556,
              "#d8576b"
             ],
             [
              0.6666666666666666,
              "#ed7953"
             ],
             [
              0.7777777777777778,
              "#fb9f3a"
             ],
             [
              0.8888888888888888,
              "#fdca26"
             ],
             [
              1,
              "#f0f921"
             ]
            ],
            "type": "contour"
           }
          ],
          "contourcarpet": [
           {
            "colorbar": {
             "outlinewidth": 0,
             "ticks": ""
            },
            "type": "contourcarpet"
           }
          ],
          "heatmap": [
           {
            "colorbar": {
             "outlinewidth": 0,
             "ticks": ""
            },
            "colorscale": [
             [
              0,
              "#0d0887"
             ],
             [
              0.1111111111111111,
              "#46039f"
             ],
             [
              0.2222222222222222,
              "#7201a8"
             ],
             [
              0.3333333333333333,
              "#9c179e"
             ],
             [
              0.4444444444444444,
              "#bd3786"
             ],
             [
              0.5555555555555556,
              "#d8576b"
             ],
             [
              0.6666666666666666,
              "#ed7953"
             ],
             [
              0.7777777777777778,
              "#fb9f3a"
             ],
             [
              0.8888888888888888,
              "#fdca26"
             ],
             [
              1,
              "#f0f921"
             ]
            ],
            "type": "heatmap"
           }
          ],
          "histogram": [
           {
            "marker": {
             "pattern": {
              "fillmode": "overlay",
              "size": 10,
              "solidity": 0.2
             }
            },
            "type": "histogram"
           }
          ],
          "histogram2d": [
           {
            "colorbar": {
             "outlinewidth": 0,
             "ticks": ""
            },
            "colorscale": [
             [
              0,
              "#0d0887"
             ],
             [
              0.1111111111111111,
              "#46039f"
             ],
             [
              0.2222222222222222,
              "#7201a8"
             ],
             [
              0.3333333333333333,
              "#9c179e"
             ],
             [
              0.4444444444444444,
              "#bd3786"
             ],
             [
              0.5555555555555556,
              "#d8576b"
             ],
             [
              0.6666666666666666,
              "#ed7953"
             ],
             [
              0.7777777777777778,
              "#fb9f3a"
             ],
             [
              0.8888888888888888,
              "#fdca26"
             ],
             [
              1,
              "#f0f921"
             ]
            ],
            "type": "histogram2d"
           }
          ],
          "histogram2dcontour": [
           {
            "colorbar": {
             "outlinewidth": 0,
             "ticks": ""
            },
            "colorscale": [
             [
              0,
              "#0d0887"
             ],
             [
              0.1111111111111111,
              "#46039f"
             ],
             [
              0.2222222222222222,
              "#7201a8"
             ],
             [
              0.3333333333333333,
              "#9c179e"
             ],
             [
              0.4444444444444444,
              "#bd3786"
             ],
             [
              0.5555555555555556,
              "#d8576b"
             ],
             [
              0.6666666666666666,
              "#ed7953"
             ],
             [
              0.7777777777777778,
              "#fb9f3a"
             ],
             [
              0.8888888888888888,
              "#fdca26"
             ],
             [
              1,
              "#f0f921"
             ]
            ],
            "type": "histogram2dcontour"
           }
          ],
          "mesh3d": [
           {
            "colorbar": {
             "outlinewidth": 0,
             "ticks": ""
            },
            "type": "mesh3d"
           }
          ],
          "parcoords": [
           {
            "line": {
             "colorbar": {
              "outlinewidth": 0,
              "ticks": ""
             }
            },
            "type": "parcoords"
           }
          ],
          "pie": [
           {
            "automargin": true,
            "type": "pie"
           }
          ],
          "scatter": [
           {
            "fillpattern": {
             "fillmode": "overlay",
             "size": 10,
             "solidity": 0.2
            },
            "type": "scatter"
           }
          ],
          "scatter3d": [
           {
            "line": {
             "colorbar": {
              "outlinewidth": 0,
              "ticks": ""
             }
            },
            "marker": {
             "colorbar": {
              "outlinewidth": 0,
              "ticks": ""
             }
            },
            "type": "scatter3d"
           }
          ],
          "scattercarpet": [
           {
            "marker": {
             "colorbar": {
              "outlinewidth": 0,
              "ticks": ""
             }
            },
            "type": "scattercarpet"
           }
          ],
          "scattergeo": [
           {
            "marker": {
             "colorbar": {
              "outlinewidth": 0,
              "ticks": ""
             }
            },
            "type": "scattergeo"
           }
          ],
          "scattergl": [
           {
            "marker": {
             "colorbar": {
              "outlinewidth": 0,
              "ticks": ""
             }
            },
            "type": "scattergl"
           }
          ],
          "scattermap": [
           {
            "marker": {
             "colorbar": {
              "outlinewidth": 0,
              "ticks": ""
             }
            },
            "type": "scattermap"
           }
          ],
          "scattermapbox": [
           {
            "marker": {
             "colorbar": {
              "outlinewidth": 0,
              "ticks": ""
             }
            },
            "type": "scattermapbox"
           }
          ],
          "scatterpolar": [
           {
            "marker": {
             "colorbar": {
              "outlinewidth": 0,
              "ticks": ""
             }
            },
            "type": "scatterpolar"
           }
          ],
          "scatterpolargl": [
           {
            "marker": {
             "colorbar": {
              "outlinewidth": 0,
              "ticks": ""
             }
            },
            "type": "scatterpolargl"
           }
          ],
          "scatterternary": [
           {
            "marker": {
             "colorbar": {
              "outlinewidth": 0,
              "ticks": ""
             }
            },
            "type": "scatterternary"
           }
          ],
          "surface": [
           {
            "colorbar": {
             "outlinewidth": 0,
             "ticks": ""
            },
            "colorscale": [
             [
              0,
              "#0d0887"
             ],
             [
              0.1111111111111111,
              "#46039f"
             ],
             [
              0.2222222222222222,
              "#7201a8"
             ],
             [
              0.3333333333333333,
              "#9c179e"
             ],
             [
              0.4444444444444444,
              "#bd3786"
             ],
             [
              0.5555555555555556,
              "#d8576b"
             ],
             [
              0.6666666666666666,
              "#ed7953"
             ],
             [
              0.7777777777777778,
              "#fb9f3a"
             ],
             [
              0.8888888888888888,
              "#fdca26"
             ],
             [
              1,
              "#f0f921"
             ]
            ],
            "type": "surface"
           }
          ],
          "table": [
           {
            "cells": {
             "fill": {
              "color": "#EBF0F8"
             },
             "line": {
              "color": "white"
             }
            },
            "header": {
             "fill": {
              "color": "#C8D4E3"
             },
             "line": {
              "color": "white"
             }
            },
            "type": "table"
           }
          ]
         },
         "layout": {
          "annotationdefaults": {
           "arrowcolor": "#2a3f5f",
           "arrowhead": 0,
           "arrowwidth": 1
          },
          "autotypenumbers": "strict",
          "coloraxis": {
           "colorbar": {
            "outlinewidth": 0,
            "ticks": ""
           }
          },
          "colorscale": {
           "diverging": [
            [
             0,
             "#8e0152"
            ],
            [
             0.1,
             "#c51b7d"
            ],
            [
             0.2,
             "#de77ae"
            ],
            [
             0.3,
             "#f1b6da"
            ],
            [
             0.4,
             "#fde0ef"
            ],
            [
             0.5,
             "#f7f7f7"
            ],
            [
             0.6,
             "#e6f5d0"
            ],
            [
             0.7,
             "#b8e186"
            ],
            [
             0.8,
             "#7fbc41"
            ],
            [
             0.9,
             "#4d9221"
            ],
            [
             1,
             "#276419"
            ]
           ],
           "sequential": [
            [
             0,
             "#0d0887"
            ],
            [
             0.1111111111111111,
             "#46039f"
            ],
            [
             0.2222222222222222,
             "#7201a8"
            ],
            [
             0.3333333333333333,
             "#9c179e"
            ],
            [
             0.4444444444444444,
             "#bd3786"
            ],
            [
             0.5555555555555556,
             "#d8576b"
            ],
            [
             0.6666666666666666,
             "#ed7953"
            ],
            [
             0.7777777777777778,
             "#fb9f3a"
            ],
            [
             0.8888888888888888,
             "#fdca26"
            ],
            [
             1,
             "#f0f921"
            ]
           ],
           "sequentialminus": [
            [
             0,
             "#0d0887"
            ],
            [
             0.1111111111111111,
             "#46039f"
            ],
            [
             0.2222222222222222,
             "#7201a8"
            ],
            [
             0.3333333333333333,
             "#9c179e"
            ],
            [
             0.4444444444444444,
             "#bd3786"
            ],
            [
             0.5555555555555556,
             "#d8576b"
            ],
            [
             0.6666666666666666,
             "#ed7953"
            ],
            [
             0.7777777777777778,
             "#fb9f3a"
            ],
            [
             0.8888888888888888,
             "#fdca26"
            ],
            [
             1,
             "#f0f921"
            ]
           ]
          },
          "colorway": [
           "#636efa",
           "#EF553B",
           "#00cc96",
           "#ab63fa",
           "#FFA15A",
           "#19d3f3",
           "#FF6692",
           "#B6E880",
           "#FF97FF",
           "#FECB52"
          ],
          "font": {
           "color": "#2a3f5f"
          },
          "geo": {
           "bgcolor": "white",
           "lakecolor": "white",
           "landcolor": "#E5ECF6",
           "showlakes": true,
           "showland": true,
           "subunitcolor": "white"
          },
          "hoverlabel": {
           "align": "left"
          },
          "hovermode": "closest",
          "mapbox": {
           "style": "light"
          },
          "paper_bgcolor": "white",
          "plot_bgcolor": "#E5ECF6",
          "polar": {
           "angularaxis": {
            "gridcolor": "white",
            "linecolor": "white",
            "ticks": ""
           },
           "bgcolor": "#E5ECF6",
           "radialaxis": {
            "gridcolor": "white",
            "linecolor": "white",
            "ticks": ""
           }
          },
          "scene": {
           "xaxis": {
            "backgroundcolor": "#E5ECF6",
            "gridcolor": "white",
            "gridwidth": 2,
            "linecolor": "white",
            "showbackground": true,
            "ticks": "",
            "zerolinecolor": "white"
           },
           "yaxis": {
            "backgroundcolor": "#E5ECF6",
            "gridcolor": "white",
            "gridwidth": 2,
            "linecolor": "white",
            "showbackground": true,
            "ticks": "",
            "zerolinecolor": "white"
           },
           "zaxis": {
            "backgroundcolor": "#E5ECF6",
            "gridcolor": "white",
            "gridwidth": 2,
            "linecolor": "white",
            "showbackground": true,
            "ticks": "",
            "zerolinecolor": "white"
           }
          },
          "shapedefaults": {
           "line": {
            "color": "#2a3f5f"
           }
          },
          "ternary": {
           "aaxis": {
            "gridcolor": "white",
            "linecolor": "white",
            "ticks": ""
           },
           "baxis": {
            "gridcolor": "white",
            "linecolor": "white",
            "ticks": ""
           },
           "bgcolor": "#E5ECF6",
           "caxis": {
            "gridcolor": "white",
            "linecolor": "white",
            "ticks": ""
           }
          },
          "title": {
           "x": 0.05
          },
          "xaxis": {
           "automargin": true,
           "gridcolor": "white",
           "linecolor": "white",
           "ticks": "",
           "title": {
            "standoff": 15
           },
           "zerolinecolor": "white",
           "zerolinewidth": 2
          },
          "yaxis": {
           "automargin": true,
           "gridcolor": "white",
           "linecolor": "white",
           "ticks": "",
           "title": {
            "standoff": 15
           },
           "zerolinecolor": "white",
           "zerolinewidth": 2
          }
         }
        },
        "title": {
         "text": "t-SNE of Terraform Module Chunks"
        },
        "width": 800,
        "xaxis": {
         "title": {
          "text": "TSNE-Dim 1"
         }
        },
        "yaxis": {
         "title": {
          "text": "TSNE-Dim 2"
         }
        }
       }
      }
     },
     "metadata": {},
     "output_type": "display_data"
    }
   ],
   "source": [
    "from sklearn.manifold import TSNE\n",
    "import plotly.graph_objects as go\n",
    "import numpy as np\n",
    "\n",
    "# 2. Pull embeddings + metadata from your existing vectorstore\n",
    "collection = vectorstore._collection\n",
    "result = collection.get(include=[\"embeddings\", \"metadatas\"])\n",
    "vectors = np.array(result[\"embeddings\"])\n",
    "metadatas = result[\"metadatas\"]\n",
    "\n",
    "# 3. Build hover text and doc_type lists\n",
    "doc_types = [m[\"doc_type\"] for m in metadatas]\n",
    "hover_text = [\n",
    "    f\"{m['doc_type']}: {chunks[i].page_content[:100].replace(chr(10),' ')}…\"\n",
    "    for i, m in enumerate(metadatas)\n",
    "]\n",
    "\n",
    "# 4. Run t-SNE down to 2D\n",
    "tsne = TSNE(n_components=2, perplexity=30, init=\"pca\", random_state=42)\n",
    "coords = tsne.fit_transform(vectors)\n",
    "\n",
    "# 5. Assign one color per module\n",
    "unique = list(dict.fromkeys(doc_types))\n",
    "color_map = {t: f\"hsl({i*360/len(unique):.0f},60%,50%)\" for i, t in enumerate(unique)}\n",
    "\n",
    "# 6. Plot with Plotly\n",
    "fig = go.Figure()\n",
    "for t in unique:\n",
    "    idxs = [i for i, dt in enumerate(doc_types) if dt == t]\n",
    "    fig.add_trace(go.Scatter(\n",
    "        x=coords[idxs,0],\n",
    "        y=coords[idxs,1],\n",
    "        mode=\"markers\",\n",
    "        marker=dict(color=color_map[t], size=8),\n",
    "        name=t,\n",
    "        hovertext=[hover_text[i] for i in idxs],\n",
    "        hoverinfo=\"text\"\n",
    "    ))\n",
    "fig.update_layout(\n",
    "    title=\"t-SNE of Terraform Module Chunks\",\n",
    "    xaxis_title=\"TSNE-Dim 1\",\n",
    "    yaxis_title=\"TSNE-Dim 2\",\n",
    "    legend_title=\"Module\",\n",
    "    width=800, height=600\n",
    ")\n",
    "fig.show()"
   ]
  },
  {
   "cell_type": "code",
   "execution_count": 19,
   "metadata": {},
   "outputs": [
    {
     "ename": "NameError",
     "evalue": "name 'colors' is not defined",
     "output_type": "error",
     "traceback": [
      "\u001b[31m---------------------------------------------------------------------------\u001b[39m",
      "\u001b[31mNameError\u001b[39m                                 Traceback (most recent call last)",
      "\u001b[36mCell\u001b[39m\u001b[36m \u001b[39m\u001b[32mIn[19]\u001b[39m\u001b[32m, line 13\u001b[39m\n\u001b[32m      6\u001b[39m reduced_vectors = tsne.fit_transform(vectors)\n\u001b[32m      8\u001b[39m \u001b[38;5;66;03m# Create the 2D scatter plot\u001b[39;00m\n\u001b[32m      9\u001b[39m fig = go.Figure(data=[go.Scatter(\n\u001b[32m     10\u001b[39m     x=reduced_vectors[:, \u001b[32m0\u001b[39m],\n\u001b[32m     11\u001b[39m     y=reduced_vectors[:, \u001b[32m1\u001b[39m],\n\u001b[32m     12\u001b[39m     mode=\u001b[33m'\u001b[39m\u001b[33mmarkers\u001b[39m\u001b[33m'\u001b[39m,\n\u001b[32m---> \u001b[39m\u001b[32m13\u001b[39m     marker=\u001b[38;5;28mdict\u001b[39m(size=\u001b[32m5\u001b[39m, color=\u001b[43mcolors\u001b[49m, opacity=\u001b[32m0.8\u001b[39m),\n\u001b[32m     14\u001b[39m     text=[\u001b[33mf\u001b[39m\u001b[33m\"\u001b[39m\u001b[33mType: \u001b[39m\u001b[38;5;132;01m{\u001b[39;00mt\u001b[38;5;132;01m}\u001b[39;00m\u001b[33m<br>Text: \u001b[39m\u001b[38;5;132;01m{\u001b[39;00md[:\u001b[32m100\u001b[39m]\u001b[38;5;132;01m}\u001b[39;00m\u001b[33m...\u001b[39m\u001b[33m\"\u001b[39m \u001b[38;5;28;01mfor\u001b[39;00m t, d \u001b[38;5;129;01min\u001b[39;00m \u001b[38;5;28mzip\u001b[39m(doc_types, documents)],\n\u001b[32m     15\u001b[39m     hoverinfo=\u001b[33m'\u001b[39m\u001b[33mtext\u001b[39m\u001b[33m'\u001b[39m\n\u001b[32m     16\u001b[39m )])\n\u001b[32m     18\u001b[39m fig.update_layout(\n\u001b[32m     19\u001b[39m     title=\u001b[33m'\u001b[39m\u001b[33m2D Chroma Vector Store Visualization\u001b[39m\u001b[33m'\u001b[39m,\n\u001b[32m     20\u001b[39m     scene=\u001b[38;5;28mdict\u001b[39m(xaxis_title=\u001b[33m'\u001b[39m\u001b[33mx\u001b[39m\u001b[33m'\u001b[39m,yaxis_title=\u001b[33m'\u001b[39m\u001b[33my\u001b[39m\u001b[33m'\u001b[39m),\n\u001b[32m   (...)\u001b[39m\u001b[32m     23\u001b[39m     margin=\u001b[38;5;28mdict\u001b[39m(r=\u001b[32m20\u001b[39m, b=\u001b[32m10\u001b[39m, l=\u001b[32m10\u001b[39m, t=\u001b[32m40\u001b[39m)\n\u001b[32m     24\u001b[39m )\n\u001b[32m     26\u001b[39m fig.show()\n",
      "\u001b[31mNameError\u001b[39m: name 'colors' is not defined"
     ]
    }
   ],
   "source": [
    "# We humans find it easier to visalize things in 2D!\n",
    "# Reduce the dimensionality of the vectors to 2D using t-SNE\n",
    "# (t-distributed stochastic neighbor embedding)\n",
    "\n",
    "tsne = TSNE(n_components=2, random_state=42)\n",
    "reduced_vectors = tsne.fit_transform(vectors)\n",
    "\n",
    "# Create the 2D scatter plot\n",
    "fig = go.Figure(data=[go.Scatter(\n",
    "    x=reduced_vectors[:, 0],\n",
    "    y=reduced_vectors[:, 1],\n",
    "    mode='markers',\n",
    "    marker=dict(size=5, color=colors, opacity=0.8),\n",
    "    text=[f\"Type: {t}<br>Text: {d[:100]}...\" for t, d in zip(doc_types, documents)],\n",
    "    hoverinfo='text'\n",
    ")])\n",
    "\n",
    "fig.update_layout(\n",
    "    title='2D Chroma Vector Store Visualization',\n",
    "    scene=dict(xaxis_title='x',yaxis_title='y'),\n",
    "    width=800,\n",
    "    height=600,\n",
    "    margin=dict(r=20, b=10, l=10, t=40)\n",
    ")\n",
    "\n",
    "fig.show()"
   ]
  },
  {
   "cell_type": "code",
   "execution_count": null,
   "metadata": {},
   "outputs": [
    {
     "data": {
      "application/vnd.plotly.v1+json": {
       "config": {
        "plotlyServerURL": "https://plot.ly"
       },
       "data": [
        {
         "hoverinfo": "text",
         "marker": {
          "color": [
           "orange",
           "orange",
           "orange",
           "red",
           "red",
           "red",
           "red",
           "red",
           "red",
           "red",
           "red",
           "red",
           "red",
           "red",
           "red",
           "red",
           "red",
           "red",
           "red",
           "red",
           "red",
           "red",
           "red",
           "red",
           "red",
           "red",
           "red",
           "red",
           "red",
           "red",
           "red",
           "red",
           "red",
           "red",
           "red",
           "red",
           "red",
           "red",
           "red",
           "red",
           "red",
           "red",
           "red",
           "red",
           "red",
           "red",
           "red",
           "red",
           "red",
           "red",
           "red",
           "red",
           "red",
           "red",
           "red",
           "green",
           "green",
           "green",
           "green",
           "green",
           "green",
           "green",
           "green",
           "green",
           "green",
           "green",
           "green",
           "green",
           "green",
           "green",
           "green",
           "green",
           "green",
           "green",
           "green",
           "green",
           "green",
           "green",
           "green",
           "green",
           "green",
           "green",
           "green",
           "green",
           "green",
           "green",
           "green",
           "green",
           "green",
           "green",
           "green",
           "green",
           "green",
           "green",
           "green",
           "green",
           "green",
           "green",
           "green",
           "green",
           "green",
           "green",
           "blue",
           "blue",
           "blue",
           "blue",
           "blue",
           "blue",
           "blue",
           "blue",
           "blue",
           "blue",
           "blue",
           "blue",
           "blue",
           "blue",
           "blue",
           "blue",
           "blue",
           "blue",
           "blue",
           "blue",
           "blue"
          ],
          "opacity": 0.8,
          "size": 5
         },
         "mode": "markers",
         "text": [
          "Type: company<br>Text: # About Insurellm\n\nInsurellm was founded by Avery Lancaster in 2015 as an insurance tech startup des...",
          "Type: company<br>Text: # Careers at Insurellm\n\nInsurellm is hiring! We are looking for talented software engineers, data sc...",
          "Type: company<br>Text: # Overview of Insurellm\n\nInsurellm is an innovative insurance tech firm with 200 employees across th...",
          "Type: contracts<br>Text: # Contract with Apex Reinsurance for Rellm: AI-Powered Enterprise Reinsurance Solution\n\n## Terms\n\n1....",
          "Type: contracts<br>Text: ## Renewal\n\n1. **Automatic Renewal**: This Agreement will automatically renew for successive one-yea...",
          "Type: contracts<br>Text: 2. **Seamless Integrations**: The architecture of Rellm allows for easy integration with existing sy...",
          "Type: contracts<br>Text: 1. **Technical Support**: Provider shall offer dedicated technical support to the Client via phone, ...",
          "Type: contracts<br>Text: **Insurellm, Inc.**  \n_____________________________  \nAuthorized Signature   \nDate: ________________...",
          "Type: contracts<br>Text: # Contract with Belvedere Insurance for Markellm\n\n## Terms\nThis Contract (\"Agreement\") is made and e...",
          "Type: contracts<br>Text: ## Renewal\n1. **Renewal Terms**: This Agreement may be renewed for additional one-year terms upon mu...",
          "Type: contracts<br>Text: ## Features\n1. **AI-Powered Matching**: Belvedere Insurance will benefit from Markellm's AI-powered ...",
          "Type: contracts<br>Text: ## Support\n1. **Technical Support**: Technical support will be available from 9 AM to 7 PM EST, Mond...",
          "Type: contracts<br>Text: **Belvedere Insurance**  \nSignature: ______________________  \nName: [Authorized Signatory]  \nTitle: ...",
          "Type: contracts<br>Text: # Contract with BrightWay Solutions for Markellm\n\n**Contract Date:** October 5, 2023  \n**Contract ID...",
          "Type: contracts<br>Text: 3. **Service Level Agreement (SLA):**  \n   Insurellm commits to a 99.9% uptime for the platform with...",
          "Type: contracts<br>Text: 2. **Real-Time Quote Availability:**  \n   Consumers sourced via BrightWay Solutions will receive rea...",
          "Type: contracts<br>Text: 3. **Training and Onboarding:**  \n   Insurellm agrees to provide one free training session on how to...",
          "Type: contracts<br>Text: # Contract with EverGuard Insurance for Rellm: AI-Powered Enterprise Reinsurance Solution\n\n**Contrac...",
          "Type: contracts<br>Text: 4. **Usage Rights**: EverGuard Insurance is granted a non-exclusive, non-transferable license to acc...",
          "Type: contracts<br>Text: 1. **Core Functionality**: Rellm provides EverGuard Insurance with advanced AI-driven analytics, sea...",
          "Type: contracts<br>Text: 1. **Customer Support**: Insurellm will provide EverGuard Insurance with 24/7 customer support, incl...",
          "Type: contracts<br>Text: ---\n\n**Signatures**  \n**For Insurellm**: __________________________  \n**Name**: John Smith  \n**Title...",
          "Type: contracts<br>Text: # Contract with GreenField Holdings for Markellm\n\n**Effective Date:** November 15, 2023  \n**Contract...",
          "Type: contracts<br>Text: ## Renewal\n1. **Automatic Renewal**: This contract will automatically renew for sequential one-year ...",
          "Type: contracts<br>Text: ## Features\n1. **AI-Powered Matching**: Access to advanced algorithms that connect GreenField Holdin...",
          "Type: contracts<br>Text: ## Support\n1. **Customer Support Access**: The Client will have access to dedicated support through ...",
          "Type: contracts<br>Text: **Signatures:**  \n_________________________                           _________________________  \n**...",
          "Type: contracts<br>Text: # Contract with Greenstone Insurance for Homellm\n\n---\n\n## Terms\n\n1. **Parties**: This Contract (\"Agr...",
          "Type: contracts<br>Text: 4. **Payment Terms**: \n   - The Customer shall pay an amount of $10,000 per month for the Standard T...",
          "Type: contracts<br>Text: ---\n\n## Features\n\n- **AI-Powered Risk Assessment**: Customer will have access to enhanced risk evalu...",
          "Type: contracts<br>Text: - **Customer Portal**: A dedicated portal will be provided, allowing the Customer's clients to manag...",
          "Type: contracts<br>Text: ______________________________  \n[Name], [Title]  \nDate: ______________________\n\n**For Greenstone In...",
          "Type: contracts<br>Text: # Contract with GreenValley Insurance for Homellm\n\n**Contract Date:** October 6, 2023  \n**Contract N...",
          "Type: contracts<br>Text: 4. **Confidentiality:** Both parties agree to maintain the confidentiality of proprietary informatio...",
          "Type: contracts<br>Text: 1. **AI-Powered Risk Assessment:** Access to advanced AI algorithms for real-time risk evaluations.\n...",
          "Type: contracts<br>Text: 3. **Regular Updates:** Insurellm will offer ongoing updates and enhancements to the Homellm platfor...",
          "Type: contracts<br>Text: # Contract with Pinnacle Insurance Co. for Homellm\n\n## Terms\nThis contract (\"Contract\") is entered i...",
          "Type: contracts<br>Text: ## Renewal\n1. **Renewal Terms**: At the end of the initial term, this Contract shall automatically r...",
          "Type: contracts<br>Text: ## Features\n1. **AI-Powered Risk Assessment**: Utilized for tailored underwriting decisions specific...",
          "Type: contracts<br>Text: ## Support\n1. **Technical Support**: Insurellm shall provide 24/7 technical support via an email and...",
          "Type: contracts<br>Text: # Contract with Roadway Insurance Inc. for Carllm\n\n---\n\n## Terms\n\n1. **Agreement Effective Date**: T...",
          "Type: contracts<br>Text: ---\n\n## Renewal\n\n1. **Automatic Renewal**: This agreement will automatically renew for an additional...",
          "Type: contracts<br>Text: ---\n\n## Features\n\n1. **Access to Core Features**: Roadway Insurance Inc. will have access to all Pro...",
          "Type: contracts<br>Text: ---\n\n## Support\n\n1. **Technical Support**: Roadway Insurance Inc. will receive priority technical su...",
          "Type: contracts<br>Text: # Contract with Stellar Insurance Co. for Rellm\n\n## Terms\nThis contract is made between **Insurellm*...",
          "Type: contracts<br>Text: ### Termination\nEither party may terminate this agreement with a **30-day written notice**. In the e...",
          "Type: contracts<br>Text: ## Features\nStellar Insurance Co. will receive access to the following features of the Rellm product...",
          "Type: contracts<br>Text: ## Support\nInsurellm provides Stellar Insurance Co. with the following support services:\n\n- **24/7 T...",
          "Type: contracts<br>Text: # Contract with TechDrive Insurance for Carllm\n\n**Contract Date:** October 1, 2024  \n**Contract Dura...",
          "Type: contracts<br>Text: ## Renewal\n\n1. **Automatic Renewal**: This contract shall automatically renew for additional one-yea...",
          "Type: contracts<br>Text: ## Support\n\n1. **Customer Support**: Insurellm will provide 24/7 customer support to TechDrive Insur...",
          "Type: contracts<br>Text: **TechDrive Insurance Representative:**  \nName: Sarah Johnson  \nTitle: Operations Director  \nDate: _...",
          "Type: contracts<br>Text: # Contract with Velocity Auto Solutions for Carllm\n\n**Contract Date:** October 1, 2023  \n**Contract ...",
          "Type: contracts<br>Text: ## Renewal\n\n1. **Automatic Renewal**: This contract will automatically renew for successive 12-month...",
          "Type: contracts<br>Text: ## Support\n\n1. **Customer Support**: Velocity Auto Solutions will have access to Insurellm’s custome...",
          "Type: employees<br>Text: # HR Record\n\n# Alex Chen\n\n## Summary\n- **Date of Birth:** March 15, 1990  \n- **Job Title:** Backend ...",
          "Type: employees<br>Text: ## Annual Performance History\n- **2020:**  \n  - Completed onboarding successfully.  \n  - Met expecta...",
          "Type: employees<br>Text: ## Compensation History\n- **2020:** Base Salary: $80,000  \n- **2021:** Base Salary Increase to $90,0...",
          "Type: employees<br>Text: Alex Chen continues to be a vital asset at Insurellm, contributing significantly to innovative backe...",
          "Type: employees<br>Text: # HR Record\n\n# Alex Harper\n\n## Summary\n- **Date of Birth**: March 15, 1993  \n- **Job Title**: Sales ...",
          "Type: employees<br>Text: ## Annual Performance History  \n- **2021**:  \n  - **Performance Rating**: 4.5/5  \n  - **Key Achievem...",
          "Type: employees<br>Text: - **2022**:  \n  - **Base Salary**: $65,000 (Promotion to Senior SDR)  \n  - **Bonus**: $13,000 (20% o...",
          "Type: employees<br>Text: # HR Record\n\n# Alex Thomson\n\n## Summary\n- **Date of Birth:** March 15, 1995  \n- **Job Title:** Sales...",
          "Type: employees<br>Text: ## Annual Performance History  \n- **2022** - Rated as \"Exceeds Expectations.\" Alex Thomson achieved ...",
          "Type: employees<br>Text: ## Other HR Notes\n- Alex Thomson is an active member of the Diversity and Inclusion committee at Ins...",
          "Type: employees<br>Text: # Avery Lancaster\n\n## Summary\n- **Date of Birth**: March 15, 1985  \n- **Job Title**: Co-Founder & Ch...",
          "Type: employees<br>Text: - **2010 - 2013**: Business Analyst at Edge Analytics  \n  Prior to joining Innovate, Avery worked as...",
          "Type: employees<br>Text: - **2018**: **Exceeds Expectations**  \n  Under Avery’s pivoted vision, Insurellm launched two new su...",
          "Type: employees<br>Text: - **2022**: **Satisfactory**  \n  Avery focused on rebuilding team dynamics and addressing employee c...",
          "Type: employees<br>Text: ## Compensation History\n- **2015**: $150,000 base salary + Significant equity stake  \n- **2016**: $1...",
          "Type: employees<br>Text: ## Other HR Notes\n- **Professional Development**: Avery has actively participated in leadership trai...",
          "Type: employees<br>Text: # HR Record\n\n# Emily Carter\n\n## Summary\n- **Date of Birth:** August 12, 1990  \n- **Job Title:** Acco...",
          "Type: employees<br>Text: - **2017-2019:** Marketing Intern  \n  - Assisted with market research and campaign development for s...",
          "Type: employees<br>Text: ## Compensation History\n| Year | Base Salary | Bonus         | Total Compensation |\n|------|--------...",
          "Type: employees<br>Text: Emily Carter exemplifies the kind of talent that drives Insurellm's success and is an invaluable ass...",
          "Type: employees<br>Text: # HR Record\n\n# Emily Tran\n\n## Summary\n- **Date of Birth:** March 18, 1991  \n- **Job Title:** Digital...",
          "Type: employees<br>Text: - **January 2017 - May 2018**: Marketing Intern  \n  - Supported the Marketing team by collaborating ...",
          "Type: employees<br>Text: - **2021**:  \n  - Performance Rating: Meets Expectations  \n  - Key Achievements: Contributed to the ...",
          "Type: employees<br>Text: - **Professional Development Goals**:  \n  - Emily Tran aims to become a Marketing Manager within the...",
          "Type: employees<br>Text: # HR Record\n\n# Jordan Blake\n\n## Summary\n- **Date of Birth:** March 15, 1993  \n- **Job Title:** Sales...",
          "Type: employees<br>Text: ## Annual Performance History\n- **2021:** First year at Insurellm; achieved 90% of monthly targets. ...",
          "Type: employees<br>Text: ## Other HR Notes\n- Jordan has shown an interest in continuing education, actively participating in ...",
          "Type: employees<br>Text: # HR Record\n\n# Jordan K. Bishop\n\n## Summary\n- **Date of Birth:** March 15, 1990\n- **Job Title:** Fro...",
          "Type: employees<br>Text: ## Annual Performance History\n- **2019:** Exceeds Expectations - Continuously delivered high-quality...",
          "Type: employees<br>Text: ## Compensation History\n- **June 2018:** Starting Salary - $85,000\n- **June 2019:** Salary Increase ...",
          "Type: employees<br>Text: ## Other HR Notes\n- Jordan K. Bishop has been an integral part of club initiatives, including the In...",
          "Type: employees<br>Text: # HR Record\n\n# Maxine Thompson\n\n## Summary\n- **Date of Birth:** January 15, 1991  \n- **Job Title:** ...",
          "Type: employees<br>Text: ## Insurellm Career Progression\n- **January 2017 - October 2018**: **Junior Data Engineer**  \n  * Ma...",
          "Type: employees<br>Text: ## Annual Performance History\n- **2017**: *Meets Expectations*  \n  Maxine showed potential in her ro...",
          "Type: employees<br>Text: - **2021**: *Exceeds Expectations*  \n  Maxine spearheaded the transition to a new data warehousing s...",
          "Type: employees<br>Text: ## Compensation History\n- **2017**: $70,000 (Junior Data Engineer)  \n- **2018**: $75,000 (Junior Dat...",
          "Type: employees<br>Text: # HR Record\n\n# Oliver Spencer\n\n## Summary\n- **Date of Birth**: May 14, 1990  \n- **Job Title**: Backe...",
          "Type: employees<br>Text: ## Annual Performance History\n- **2018**: **3/5** - Adaptable team player but still learning to take...",
          "Type: employees<br>Text: ## Compensation History\n- **March 2018**: Initial salary of $80,000.\n- **July 2019**: Salary increas...",
          "Type: employees<br>Text: # Samantha Greene\n\n## Summary\n- **Date of Birth:** October 14, 1990\n- **Job Title:** HR Generalist\n-...",
          "Type: employees<br>Text: ## Annual Performance History\n- **2020:** Exceeds Expectations  \n  Samantha Greene demonstrated exce...",
          "Type: employees<br>Text: ## Compensation History\n- **2020:** Base Salary - $55,000  \n  The entry-level salary matched industr...",
          "Type: employees<br>Text: - **2023:** Base Salary - $70,000  \n  Recognized for substantial improvement in employee relations m...",
          "Type: employees<br>Text: # HR Record\n\n# Samuel Trenton\n\n## Summary\n- **Date of Birth:** April 12, 1989  \n- **Job Title:** Sen...",
          "Type: employees<br>Text: ## Annual Performance History\n- **2023:** Rating: 4.5/5  \n  *Samuel exceeded expectations, successfu...",
          "Type: employees<br>Text: ## Compensation History\n- **2023:** Base Salary: $115,000 + Bonus: $15,000  \n  *Annual bonus based o...",
          "Type: employees<br>Text: - **Engagement in Company Culture:** Regularly participates in team-building events and contributes ...",
          "Type: products<br>Text: # Product Summary\n\n# Carllm\n\n## Summary\n\nCarllm is an innovative auto insurance product developed by...",
          "Type: products<br>Text: - **Instant Quoting**: With Carllm, insurance companies can offer near-instant quotes to customers, ...",
          "Type: products<br>Text: - **Mobile Integration**: Carllm is designed to work seamlessly with mobile applications, providing ...",
          "Type: products<br>Text: - **Professional Tier**: $2,500/month\n  - For medium-sized companies.\n  - All Basic Tier features pl...",
          "Type: products<br>Text: ### Q2 2025: Customer Experience Improvements\n- Launch of a new **mobile app** for end-users.\n- Intr...",
          "Type: products<br>Text: # Product Summary\n\n# Homellm\n\n## Summary\nHomellm is an innovative home insurance product developed b...",
          "Type: products<br>Text: ### 2. Dynamic Pricing Model\nWith Homellm's innovative dynamic pricing model, insurance providers ca...",
          "Type: products<br>Text: ### 5. Multi-Channel Integration\nHomellm seamlessly integrates into existing insurance platforms, pr...",
          "Type: products<br>Text: - **Basic Tier:** Starting at $5,000/month for small insurers with basic integration features.\n- **S...",
          "Type: products<br>Text: All tiers include a comprehensive training program and ongoing updates to ensure optimal performance...",
          "Type: products<br>Text: With Homellm, Insurellm is committed to transforming the landscape of home insurance, ensuring both ...",
          "Type: products<br>Text: # Product Summary\n\n# Markellm\n\n## Summary\n\nMarkellm is an innovative two-sided marketplace designed ...",
          "Type: products<br>Text: - **User-Friendly Interface**: Designed with user experience in mind, Markellm features an intuitive...",
          "Type: products<br>Text: - **Customer Support**: Our dedicated support team is always available to assist both consumers and ...",
          "Type: products<br>Text: ### For Insurance Companies:\n- **Basic Listing Fee**: $199/month for a featured listing on the platf...",
          "Type: products<br>Text: ### Q3 2025\n- Initiate a comprehensive marketing campaign targeting both consumers and insurers to i...",
          "Type: products<br>Text: # Product Summary\n\n# Rellm: AI-Powered Enterprise Reinsurance Solution\n\n## Summary\n\nRellm is an inno...",
          "Type: products<br>Text: ### Seamless Integrations\nRellm's architecture is designed for effortless integration with existing ...",
          "Type: products<br>Text: ### Regulatory Compliance Tools\nRellm includes built-in compliance tracking features to help organiz...",
          "Type: products<br>Text: Join the growing number of organizations leveraging Rellm to enhance their reinsurance processes whi...",
          "Type: products<br>Text: Experience the future of reinsurance with Rellm, where innovation meets reliability. Let Insurellm h..."
         ],
         "type": "scatter3d",
         "x": {
          "bdata": "jeaqQadx3kFcHPFBvtWrwq4IesLjh9m/09abPvKrpEFHuULCfvikwmD0qcHNlnpAvPrfwEEQKsLo2gfCouK5wXxJGcKfUeNCHneCwsHNM8LhcBRCwS8ZQnBCYcKp6pTCZO4CwokxhkCofuxAqD+NwvfzzMJeKgrCSezKwc6fgsBdRTrCUK2nwnMhEsDBGHbBM+iEwpSNscIRJRPCIhI5QJaRAUJeSVLCjcDswM8+OUKttTM/gPPQwQvCpcH0FOq/tKdfQeimdMGa16tCMJiKQj10MULReLe/lWgdQrVBGMAhNjNBFOFVQhQWtkFU7g7CQuRAQV7vN8H7XoVC4zExwZLpNMIqR51CnkOKQjMOiELBG0BCNyj2QSnbgEJRXafBiuzVQhuIEEJB4j1C+0cNQLvnk8JtRttBDD/MQbNhgsF3dpfCIR5Ywn/iVsEUzC5BKeFYQlMhAML2CD1B8pyRQl/cF0JDpHtCIjBlQsibzMFCn/NAIMuMQtRUFEI7yB5CY69oQiUpe0IEox1BQXejQl1e8kG8drxCIm8RQeHmA0AmdXJBoTgFwi9MD8Ialc5AUd8CwbDFM8EAG15BM6cxwd/nLkKkWcrBfSQVwe4c48EdnB3CXj/AwYC6PcJaSkbCeL3jwRRsZcKV2OJB",
          "dtype": "f4"
         },
         "y": {
          "bdata": "Z8DwwUo9ksHBGR/B9NCpQZnXa0G5o4HBUTkgQpA4PEKhSeBA7FWIQsGvHUCmhwtCgKQbQtvT+EECkI5C+oeuQmrFQkLkLdPCnsguQBnAy8B6NtvCFRKQQh0b3EFwXFhCYgDgQj8VxkIH9YlCy3oawDVzwMDDgg9C/91WQtQ8VkKo1aJCGY5fwRcrSkLrRKFCzIdrQiyTM0KxG4BCabFuQr1AkkIa/0tC/Cx9Quq+SELT5GHCyTVLwq1ptsFKUCLCMgZ1Qn0dRUJgdxXA7pWKwfpu7sFRmZLCc9VmQsFiTsL617fBW10Lwtb5RcILfJ/C/UeAwjUrlcK3KmZBzZAdwo9HRsLLHwbCcuFbQOw15kGM+MBB6ypZwvzRhMHBYMHCdNVmQbJTY0AXAVnCZq2qwo2St0IE4azCCCWswpasr8LX2I3B9To7wgjeSsKfVv/AcXBswnFPBMJE6t/AA6lZwGEBjzwSFPRAGKa1wb+KesJzWuE/mCKbwgNZYsKMus3BIXKKwuaTVsL925PCnRbgQdHCFsKeZu3BXxGxP+UUqUGrdv9BSwQLQiNkgsLlIdtCRMg3QqteqEEXqYxBadQOQd0SaEHcrJLBMcgewBqrc0EL8sM/c7YnwmyEgsHjsQLCdtxJQFxYP8IH2XBB",
          "dtype": "f4"
         },
         "z": {
          "bdata": "Ea4FwkpM2MDmAgjCJP6fwLCZCMIqsLDCiQCdwH7GZ0IceAZCTJAmwmwcZ0HIm7RBU0NXQlR2K0Lq4ozBlwkdwudcaELlkl9CWAxswoMDmMLt6R1BehEtQgOSaEEOnY/BmqwPwTbi1cBcGIJCea0/Qah8NMKkP8zCOeJmQeHkokKnuBZCdMFVwbWgGUOGWvRBhL3aQcHGE8JP3LjCPiGHQcrvXMKJWiLCjLaLwjAhDsLK8qjCgTK1wltMgcJCR2/C8X0MwjCpHsJRKfzBtpErwmHxk8KpcErCaucmwAHrR0EuEWVCX6GEQkDQB8FOY1ZCmUq0QiewlUKi6pHCgoysQmb7kULfF2/AUyjHQeomCkLs1cFBTLeCQhTwYkB+LalAsCOzQZLvr0JI15jB92I8wHlK1D/0wYRCEh+LwQayEUIJ+HBCaLMWQuZqGEIaExBCayqyQuwLIkIWJeNC7IShQg7rSUIVxGNCo9a9QtWbXUHOwn5CZazTQAExz0HumApCBvtNQqpL+kF8N+pBbCbewEAgs0KWLh1C7vxYwt6KJsLLd4HCYt5/wn04EsLUKC1CawfPwiSiqMLFyM/CGQ/rwvMIGcJArNLAfRCDwTl0QME+HHxCwA6vwTX2D8I2uXzCTrxQwi6o+sEy4kfB",
          "dtype": "f4"
         }
        }
       ],
       "layout": {
        "height": 700,
        "margin": {
         "b": 10,
         "l": 10,
         "r": 20,
         "t": 40
        },
        "scene": {
         "xaxis": {
          "title": {
           "text": "x"
          }
         },
         "yaxis": {
          "title": {
           "text": "y"
          }
         },
         "zaxis": {
          "title": {
           "text": "z"
          }
         }
        },
        "template": {
         "data": {
          "bar": [
           {
            "error_x": {
             "color": "#2a3f5f"
            },
            "error_y": {
             "color": "#2a3f5f"
            },
            "marker": {
             "line": {
              "color": "#E5ECF6",
              "width": 0.5
             },
             "pattern": {
              "fillmode": "overlay",
              "size": 10,
              "solidity": 0.2
             }
            },
            "type": "bar"
           }
          ],
          "barpolar": [
           {
            "marker": {
             "line": {
              "color": "#E5ECF6",
              "width": 0.5
             },
             "pattern": {
              "fillmode": "overlay",
              "size": 10,
              "solidity": 0.2
             }
            },
            "type": "barpolar"
           }
          ],
          "carpet": [
           {
            "aaxis": {
             "endlinecolor": "#2a3f5f",
             "gridcolor": "white",
             "linecolor": "white",
             "minorgridcolor": "white",
             "startlinecolor": "#2a3f5f"
            },
            "baxis": {
             "endlinecolor": "#2a3f5f",
             "gridcolor": "white",
             "linecolor": "white",
             "minorgridcolor": "white",
             "startlinecolor": "#2a3f5f"
            },
            "type": "carpet"
           }
          ],
          "choropleth": [
           {
            "colorbar": {
             "outlinewidth": 0,
             "ticks": ""
            },
            "type": "choropleth"
           }
          ],
          "contour": [
           {
            "colorbar": {
             "outlinewidth": 0,
             "ticks": ""
            },
            "colorscale": [
             [
              0,
              "#0d0887"
             ],
             [
              0.1111111111111111,
              "#46039f"
             ],
             [
              0.2222222222222222,
              "#7201a8"
             ],
             [
              0.3333333333333333,
              "#9c179e"
             ],
             [
              0.4444444444444444,
              "#bd3786"
             ],
             [
              0.5555555555555556,
              "#d8576b"
             ],
             [
              0.6666666666666666,
              "#ed7953"
             ],
             [
              0.7777777777777778,
              "#fb9f3a"
             ],
             [
              0.8888888888888888,
              "#fdca26"
             ],
             [
              1,
              "#f0f921"
             ]
            ],
            "type": "contour"
           }
          ],
          "contourcarpet": [
           {
            "colorbar": {
             "outlinewidth": 0,
             "ticks": ""
            },
            "type": "contourcarpet"
           }
          ],
          "heatmap": [
           {
            "colorbar": {
             "outlinewidth": 0,
             "ticks": ""
            },
            "colorscale": [
             [
              0,
              "#0d0887"
             ],
             [
              0.1111111111111111,
              "#46039f"
             ],
             [
              0.2222222222222222,
              "#7201a8"
             ],
             [
              0.3333333333333333,
              "#9c179e"
             ],
             [
              0.4444444444444444,
              "#bd3786"
             ],
             [
              0.5555555555555556,
              "#d8576b"
             ],
             [
              0.6666666666666666,
              "#ed7953"
             ],
             [
              0.7777777777777778,
              "#fb9f3a"
             ],
             [
              0.8888888888888888,
              "#fdca26"
             ],
             [
              1,
              "#f0f921"
             ]
            ],
            "type": "heatmap"
           }
          ],
          "histogram": [
           {
            "marker": {
             "pattern": {
              "fillmode": "overlay",
              "size": 10,
              "solidity": 0.2
             }
            },
            "type": "histogram"
           }
          ],
          "histogram2d": [
           {
            "colorbar": {
             "outlinewidth": 0,
             "ticks": ""
            },
            "colorscale": [
             [
              0,
              "#0d0887"
             ],
             [
              0.1111111111111111,
              "#46039f"
             ],
             [
              0.2222222222222222,
              "#7201a8"
             ],
             [
              0.3333333333333333,
              "#9c179e"
             ],
             [
              0.4444444444444444,
              "#bd3786"
             ],
             [
              0.5555555555555556,
              "#d8576b"
             ],
             [
              0.6666666666666666,
              "#ed7953"
             ],
             [
              0.7777777777777778,
              "#fb9f3a"
             ],
             [
              0.8888888888888888,
              "#fdca26"
             ],
             [
              1,
              "#f0f921"
             ]
            ],
            "type": "histogram2d"
           }
          ],
          "histogram2dcontour": [
           {
            "colorbar": {
             "outlinewidth": 0,
             "ticks": ""
            },
            "colorscale": [
             [
              0,
              "#0d0887"
             ],
             [
              0.1111111111111111,
              "#46039f"
             ],
             [
              0.2222222222222222,
              "#7201a8"
             ],
             [
              0.3333333333333333,
              "#9c179e"
             ],
             [
              0.4444444444444444,
              "#bd3786"
             ],
             [
              0.5555555555555556,
              "#d8576b"
             ],
             [
              0.6666666666666666,
              "#ed7953"
             ],
             [
              0.7777777777777778,
              "#fb9f3a"
             ],
             [
              0.8888888888888888,
              "#fdca26"
             ],
             [
              1,
              "#f0f921"
             ]
            ],
            "type": "histogram2dcontour"
           }
          ],
          "mesh3d": [
           {
            "colorbar": {
             "outlinewidth": 0,
             "ticks": ""
            },
            "type": "mesh3d"
           }
          ],
          "parcoords": [
           {
            "line": {
             "colorbar": {
              "outlinewidth": 0,
              "ticks": ""
             }
            },
            "type": "parcoords"
           }
          ],
          "pie": [
           {
            "automargin": true,
            "type": "pie"
           }
          ],
          "scatter": [
           {
            "fillpattern": {
             "fillmode": "overlay",
             "size": 10,
             "solidity": 0.2
            },
            "type": "scatter"
           }
          ],
          "scatter3d": [
           {
            "line": {
             "colorbar": {
              "outlinewidth": 0,
              "ticks": ""
             }
            },
            "marker": {
             "colorbar": {
              "outlinewidth": 0,
              "ticks": ""
             }
            },
            "type": "scatter3d"
           }
          ],
          "scattercarpet": [
           {
            "marker": {
             "colorbar": {
              "outlinewidth": 0,
              "ticks": ""
             }
            },
            "type": "scattercarpet"
           }
          ],
          "scattergeo": [
           {
            "marker": {
             "colorbar": {
              "outlinewidth": 0,
              "ticks": ""
             }
            },
            "type": "scattergeo"
           }
          ],
          "scattergl": [
           {
            "marker": {
             "colorbar": {
              "outlinewidth": 0,
              "ticks": ""
             }
            },
            "type": "scattergl"
           }
          ],
          "scattermap": [
           {
            "marker": {
             "colorbar": {
              "outlinewidth": 0,
              "ticks": ""
             }
            },
            "type": "scattermap"
           }
          ],
          "scattermapbox": [
           {
            "marker": {
             "colorbar": {
              "outlinewidth": 0,
              "ticks": ""
             }
            },
            "type": "scattermapbox"
           }
          ],
          "scatterpolar": [
           {
            "marker": {
             "colorbar": {
              "outlinewidth": 0,
              "ticks": ""
             }
            },
            "type": "scatterpolar"
           }
          ],
          "scatterpolargl": [
           {
            "marker": {
             "colorbar": {
              "outlinewidth": 0,
              "ticks": ""
             }
            },
            "type": "scatterpolargl"
           }
          ],
          "scatterternary": [
           {
            "marker": {
             "colorbar": {
              "outlinewidth": 0,
              "ticks": ""
             }
            },
            "type": "scatterternary"
           }
          ],
          "surface": [
           {
            "colorbar": {
             "outlinewidth": 0,
             "ticks": ""
            },
            "colorscale": [
             [
              0,
              "#0d0887"
             ],
             [
              0.1111111111111111,
              "#46039f"
             ],
             [
              0.2222222222222222,
              "#7201a8"
             ],
             [
              0.3333333333333333,
              "#9c179e"
             ],
             [
              0.4444444444444444,
              "#bd3786"
             ],
             [
              0.5555555555555556,
              "#d8576b"
             ],
             [
              0.6666666666666666,
              "#ed7953"
             ],
             [
              0.7777777777777778,
              "#fb9f3a"
             ],
             [
              0.8888888888888888,
              "#fdca26"
             ],
             [
              1,
              "#f0f921"
             ]
            ],
            "type": "surface"
           }
          ],
          "table": [
           {
            "cells": {
             "fill": {
              "color": "#EBF0F8"
             },
             "line": {
              "color": "white"
             }
            },
            "header": {
             "fill": {
              "color": "#C8D4E3"
             },
             "line": {
              "color": "white"
             }
            },
            "type": "table"
           }
          ]
         },
         "layout": {
          "annotationdefaults": {
           "arrowcolor": "#2a3f5f",
           "arrowhead": 0,
           "arrowwidth": 1
          },
          "autotypenumbers": "strict",
          "coloraxis": {
           "colorbar": {
            "outlinewidth": 0,
            "ticks": ""
           }
          },
          "colorscale": {
           "diverging": [
            [
             0,
             "#8e0152"
            ],
            [
             0.1,
             "#c51b7d"
            ],
            [
             0.2,
             "#de77ae"
            ],
            [
             0.3,
             "#f1b6da"
            ],
            [
             0.4,
             "#fde0ef"
            ],
            [
             0.5,
             "#f7f7f7"
            ],
            [
             0.6,
             "#e6f5d0"
            ],
            [
             0.7,
             "#b8e186"
            ],
            [
             0.8,
             "#7fbc41"
            ],
            [
             0.9,
             "#4d9221"
            ],
            [
             1,
             "#276419"
            ]
           ],
           "sequential": [
            [
             0,
             "#0d0887"
            ],
            [
             0.1111111111111111,
             "#46039f"
            ],
            [
             0.2222222222222222,
             "#7201a8"
            ],
            [
             0.3333333333333333,
             "#9c179e"
            ],
            [
             0.4444444444444444,
             "#bd3786"
            ],
            [
             0.5555555555555556,
             "#d8576b"
            ],
            [
             0.6666666666666666,
             "#ed7953"
            ],
            [
             0.7777777777777778,
             "#fb9f3a"
            ],
            [
             0.8888888888888888,
             "#fdca26"
            ],
            [
             1,
             "#f0f921"
            ]
           ],
           "sequentialminus": [
            [
             0,
             "#0d0887"
            ],
            [
             0.1111111111111111,
             "#46039f"
            ],
            [
             0.2222222222222222,
             "#7201a8"
            ],
            [
             0.3333333333333333,
             "#9c179e"
            ],
            [
             0.4444444444444444,
             "#bd3786"
            ],
            [
             0.5555555555555556,
             "#d8576b"
            ],
            [
             0.6666666666666666,
             "#ed7953"
            ],
            [
             0.7777777777777778,
             "#fb9f3a"
            ],
            [
             0.8888888888888888,
             "#fdca26"
            ],
            [
             1,
             "#f0f921"
            ]
           ]
          },
          "colorway": [
           "#636efa",
           "#EF553B",
           "#00cc96",
           "#ab63fa",
           "#FFA15A",
           "#19d3f3",
           "#FF6692",
           "#B6E880",
           "#FF97FF",
           "#FECB52"
          ],
          "font": {
           "color": "#2a3f5f"
          },
          "geo": {
           "bgcolor": "white",
           "lakecolor": "white",
           "landcolor": "#E5ECF6",
           "showlakes": true,
           "showland": true,
           "subunitcolor": "white"
          },
          "hoverlabel": {
           "align": "left"
          },
          "hovermode": "closest",
          "mapbox": {
           "style": "light"
          },
          "paper_bgcolor": "white",
          "plot_bgcolor": "#E5ECF6",
          "polar": {
           "angularaxis": {
            "gridcolor": "white",
            "linecolor": "white",
            "ticks": ""
           },
           "bgcolor": "#E5ECF6",
           "radialaxis": {
            "gridcolor": "white",
            "linecolor": "white",
            "ticks": ""
           }
          },
          "scene": {
           "xaxis": {
            "backgroundcolor": "#E5ECF6",
            "gridcolor": "white",
            "gridwidth": 2,
            "linecolor": "white",
            "showbackground": true,
            "ticks": "",
            "zerolinecolor": "white"
           },
           "yaxis": {
            "backgroundcolor": "#E5ECF6",
            "gridcolor": "white",
            "gridwidth": 2,
            "linecolor": "white",
            "showbackground": true,
            "ticks": "",
            "zerolinecolor": "white"
           },
           "zaxis": {
            "backgroundcolor": "#E5ECF6",
            "gridcolor": "white",
            "gridwidth": 2,
            "linecolor": "white",
            "showbackground": true,
            "ticks": "",
            "zerolinecolor": "white"
           }
          },
          "shapedefaults": {
           "line": {
            "color": "#2a3f5f"
           }
          },
          "ternary": {
           "aaxis": {
            "gridcolor": "white",
            "linecolor": "white",
            "ticks": ""
           },
           "baxis": {
            "gridcolor": "white",
            "linecolor": "white",
            "ticks": ""
           },
           "bgcolor": "#E5ECF6",
           "caxis": {
            "gridcolor": "white",
            "linecolor": "white",
            "ticks": ""
           }
          },
          "title": {
           "x": 0.05
          },
          "xaxis": {
           "automargin": true,
           "gridcolor": "white",
           "linecolor": "white",
           "ticks": "",
           "title": {
            "standoff": 15
           },
           "zerolinecolor": "white",
           "zerolinewidth": 2
          },
          "yaxis": {
           "automargin": true,
           "gridcolor": "white",
           "linecolor": "white",
           "ticks": "",
           "title": {
            "standoff": 15
           },
           "zerolinecolor": "white",
           "zerolinewidth": 2
          }
         }
        },
        "title": {
         "text": "3D Chroma Vector Store Visualization"
        },
        "width": 900
       }
      }
     },
     "metadata": {},
     "output_type": "display_data"
    }
   ],
   "source": [
    "# Let's try 3D!\n",
    "\n",
    "tsne = TSNE(n_components=3, random_state=42)\n",
    "reduced_vectors = tsne.fit_transform(vectors)\n",
    "\n",
    "# Create the 3D scatter plot\n",
    "fig = go.Figure(data=[go.Scatter3d(\n",
    "    x=reduced_vectors[:, 0],\n",
    "    y=reduced_vectors[:, 1],\n",
    "    z=reduced_vectors[:, 2],\n",
    "    mode='markers',\n",
    "    marker=dict(size=5, color=colors, opacity=0.8),\n",
    "    text=[f\"Type: {t}<br>Text: {d[:100]}...\" for t, d in zip(doc_types, documents)],\n",
    "    hoverinfo='text'\n",
    ")])\n",
    "\n",
    "fig.update_layout(\n",
    "    title='3D Chroma Vector Store Visualization',\n",
    "    scene=dict(xaxis_title='x', yaxis_title='y', zaxis_title='z'),\n",
    "    width=900,\n",
    "    height=700,\n",
    "    margin=dict(r=20, b=10, l=10, t=40)\n",
    ")\n",
    "\n",
    "fig.show()"
   ]
  },
  {
   "cell_type": "markdown",
   "metadata": {},
   "source": [
    "## Time to use LangChain to bring it all together"
   ]
  },
  {
   "cell_type": "code",
   "execution_count": 20,
   "metadata": {},
   "outputs": [
    {
     "name": "stderr",
     "output_type": "stream",
     "text": [
      "C:\\Users\\georg\\AppData\\Local\\Temp\\ipykernel_21772\\751425390.py:5: LangChainDeprecationWarning:\n",
      "\n",
      "Please see the migration guide at: https://python.langchain.com/docs/versions/migrating_memory/\n",
      "\n"
     ]
    }
   ],
   "source": [
    "# create a new Chat with OpenAI\n",
    "llm = ChatOpenAI(temperature=0.7, model_name=MODEL)\n",
    "\n",
    "# set up the conversation memory for the chat\n",
    "memory = ConversationBufferMemory(memory_key='chat_history', return_messages=True)\n",
    "\n",
    "# how many chunks to provide in each prompt\n",
    "retriever = vectorstore.as_retriever(search_kwargs={\"k\": 35})\n",
    "\n",
    "# putting it together: set up the conversation chain with the GPT 3.5 LLM, the vector store and memory\n",
    "conversation_chain = ConversationalRetrievalChain.from_llm(llm=llm, retriever=retriever, memory=memory)"
   ]
  },
  {
   "cell_type": "code",
   "execution_count": 21,
   "metadata": {},
   "outputs": [
    {
     "name": "stdout",
     "output_type": "stream",
     "text": [
      "Axso Terraform Self Service is a set of Terraform modules designed to enable users to deploy cloud infrastructure in a self-service manner. These modules are intended to be used both interactively and within CI/CD pipelines, allowing teams to manage infrastructure efficiently and consistently.\n",
      "\n",
      "Key points about Axso Terraform Self Service:\n",
      "\n",
      "- It provides production-ready Terraform modules, services, and blueprints that have been rigorously tested, including compliance with Azure Policies defined by the Security Team.\n",
      "- Users need access to the Axso Terraform Self Service project to utilize the modules and access valuable documentation such as How-To Guides.\n",
      "- The modules support automation and are designed to integrate with Azure DevOps pipelines.\n",
      "- The service follows a \"Do Your Own System\" (DYOS) approach, empowering teams to manage their own infrastructure deployments using standardized, compliant modules.\n",
      "\n",
      "In summary, Axso Terraform Self Service is a platform and repository of tested Terraform modules that streamline and standardize cloud infrastructure deployment within an organization, with strong emphasis on compliance, automation, and self-service usage.\n"
     ]
    }
   ],
   "source": [
    "# Let's try a simple question\n",
    "\n",
    "query = \"Please explain what Axso Terraform Self Service is?\"\n",
    "result = conversation_chain.invoke({\"question\": query})\n",
    "print(result[\"answer\"])"
   ]
  },
  {
   "cell_type": "markdown",
   "metadata": {},
   "source": [
    "## Now we will bring this up in Gradio using the Chat interface -\n",
    "\n",
    "A quick and easy way to prototype a chat with an LLM"
   ]
  },
  {
   "cell_type": "code",
   "execution_count": 22,
   "metadata": {},
   "outputs": [],
   "source": [
    "# Wrapping that in a function\n",
    "\n",
    "def chat(question, history):\n",
    "    result = conversation_chain.invoke({\"question\": question})\n",
    "    return result[\"answer\"]"
   ]
  },
  {
   "cell_type": "code",
   "execution_count": 23,
   "metadata": {},
   "outputs": [],
   "source": [
    "# Start the conversation again\n",
    "\n",
    "memory = ConversationBufferMemory(memory_key='chat_history', return_messages=True)\n",
    "conversation_chain = ConversationalRetrievalChain.from_llm(llm=llm, retriever=retriever, memory=memory)"
   ]
  },
  {
   "cell_type": "code",
   "execution_count": 24,
   "metadata": {},
   "outputs": [
    {
     "name": "stdout",
     "output_type": "stream",
     "text": [
      "* Running on local URL:  http://127.0.0.1:7864\n",
      "* To create a public link, set `share=True` in `launch()`.\n"
     ]
    },
    {
     "data": {
      "text/html": [
       "<div><iframe src=\"http://127.0.0.1:7864/\" width=\"100%\" height=\"500\" allow=\"autoplay; camera; microphone; clipboard-read; clipboard-write;\" frameborder=\"0\" allowfullscreen></iframe></div>"
      ],
      "text/plain": [
       "<IPython.core.display.HTML object>"
      ]
     },
     "metadata": {},
     "output_type": "display_data"
    }
   ],
   "source": [
    "# And launch Gradio\n",
    "\n",
    "view = gr.ChatInterface(chat, type=\"messages\").launch(inbrowser=True)"
   ]
  },
  {
   "cell_type": "code",
   "execution_count": 29,
   "metadata": {},
   "outputs": [
    {
     "name": "stdout",
     "output_type": "stream",
     "text": [
      "\n",
      "\n",
      "\u001b[1m> Entering new ConversationalRetrievalChain chain...\u001b[0m\n",
      "\n",
      "\n",
      "\u001b[1m> Entering new StuffDocumentsChain chain...\u001b[0m\n",
      "\n",
      "\n",
      "\u001b[1m> Entering new LLMChain chain...\u001b[0m\n",
      "Prompt after formatting:\n",
      "\u001b[32;1m\u001b[1;3mSystem: Use the following pieces of context to answer the user's question. \n",
      "If you don't know the answer, just say that you don't know, don't try to make up an answer.\n",
      "----------------\n",
      "In summary, this stage installs Terraform-Docs, updates README.md files for each Terraform module in the repository, and commits the updated files back to the repository.\n",
      "\n",
      "# Terraform Files\n",
      "\n",
      "----------------------------\n",
      "\n",
      "## module.tf\n",
      "\n",
      "1. [How-to-setup-your-terraform-pipeline](/Axso-Terraform-Modules/HOW-TO/How-to-setup-your-terraform-pipeline.md)\n",
      "1. [Module-Versioning-Lifecycle](/Axso-Terraform-Modules/HOW-TO/Module-Versioning-Lifecycle.md)\n",
      "1. [Understanding-Implicit-and-Explicit-Dependencies-in-Terraform](/Axso-Terraform-Modules/HOW-TO/Understanding-Implicit-and-Explicit-Dependencies-in-Terraform.md)\n",
      "1. [Understanding-Count-and-ForEach-Loops-in-Terraform](/Axso-Terraform-Modules/HOW-TO/Understanding-Count-and-ForEach-Loops-in-Terraform.md)\n",
      "\n",
      "# Terraform Files\n",
      "\n",
      "----------------------------\n",
      "\n",
      "## module.tf\n",
      "\n",
      "```hcl\n",
      "\n",
      "module \"umid\" {\n",
      "  source              = \"git::ssh://git@ssh.dev.azure.com/v3/Axpo-AXSO/TIM-INFRA-MODULES/azurerm_user_assigned_managed_identity?ref=v1.5.5\"\n",
      "  umid_name           = var.umid_name\n",
      "  location            = var.location\n",
      "  subscription        = var.subscription\n",
      "  environment         = var.environment\n",
      "  project_name        = var.project_name\n",
      "  resource_group_name = var.resource_group_name\n",
      "}\n",
      "\n",
      "```\n",
      "\n",
      "## module.tf.tfvars\n",
      "Human: How many terraform modules do we have? Count the .md files\u001b[0m\n",
      "\n",
      "\u001b[1m> Finished chain.\u001b[0m\n",
      "\n",
      "\u001b[1m> Finished chain.\u001b[0m\n",
      "\n",
      "\u001b[1m> Finished chain.\u001b[0m\n",
      "\n",
      "Answer: There are 4 Terraform module-related .md files listed:\n",
      "\n",
      "1. How-to-setup-your-terraform-pipeline.md\n",
      "2. Module-Versioning-Lifecycle.md\n",
      "3. Understanding-Implicit-and-Explicit-Dependencies-in-Terraform.md\n",
      "4. Understanding-Count-and-ForEach-Loops-in-Terraform.md\n",
      "\n",
      "So, there are 4 Terraform modules counted by the .md files.\n"
     ]
    }
   ],
   "source": [
    "# Let's investigate what gets sent behind the scenes\n",
    "\n",
    "from langchain_core.callbacks import StdOutCallbackHandler\n",
    "\n",
    "llm = ChatOpenAI(temperature=0.7, model_name=MODEL)\n",
    "memory = ConversationBufferMemory(memory_key='chat_history', return_messages=True)\n",
    "conversation_chain = ConversationalRetrievalChain.from_llm(\n",
    "    llm=llm, \n",
    "    retriever=vectorstore.as_retriever(), \n",
    "    memory=memory,\n",
    "    callbacks=[StdOutCallbackHandler()]\n",
    ")\n",
    "\n",
    "query = \"How many terraform modules do we have? Count the .md files\"\n",
    "result = conversation_chain.invoke({\"question\": query})\n",
    "answer = result[\"answer\"]\n",
    "print(\"\\nAnswer:\", answer)"
   ]
  },
  {
   "cell_type": "markdown",
   "metadata": {},
   "source": [
    "# Major Assignment: Applying this to your business\n",
    "\n",
    "Try applying this to your own folder of data, so that you create a personal knowledge worker, an expert on your own information!\n",
    "\n",
    "## Stretch challenge\n",
    "\n",
    "LangChain is very useful here, but it's not needed at all. There are benefits to implementing RAG manually, without relying on LangChain's prompts.\n",
    "\n",
    "Give this a try - make an alternative implementation that bypasses LangChain!\n",
    "\n",
    "## Stretch challenge #2\n",
    "\n",
    "Implement hierarchical RAG, and demonstrate it answering a question correctly that it couldn't answer before"
   ]
  },
  {
   "cell_type": "code",
   "execution_count": null,
   "metadata": {},
   "outputs": [],
   "source": []
  }
 ],
 "metadata": {
  "kernelspec": {
   "display_name": ".venv",
   "language": "python",
   "name": "python3"
  },
  "language_info": {
   "codemirror_mode": {
    "name": "ipython",
    "version": 3
   },
   "file_extension": ".py",
   "mimetype": "text/x-python",
   "name": "python",
   "nbconvert_exporter": "python",
   "pygments_lexer": "ipython3",
   "version": "3.12.11"
  }
 },
 "nbformat": 4,
 "nbformat_minor": 2
}
