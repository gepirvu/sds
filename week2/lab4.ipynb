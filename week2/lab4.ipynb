{
 "cells": [
  {
   "cell_type": "markdown",
   "metadata": {},
   "source": [
    "# Lab 4\n",
    "\n",
    "LEADERBOARDS!\n",
    "\n",
    "From the Leaderbore.."
   ]
  },
  {
   "cell_type": "markdown",
   "metadata": {},
   "source": [
    "The Vellum leaderboard - find the useful section that compares costs of all LLMs:  \n",
    "https://www.vellum.ai/llm-leaderboard\n",
    "\n",
    "Humanity’s Last Exam - can you answer any of the 6 sample questions? (Spoiler alert: no)  \n",
    "https://scale.com/leaderboard/humanitys_last_exam\n",
    "\n",
    "The LM Arena (formerly LMSys Arena) - the models ranked according to a public vote.  \n",
    "https://lmarena.ai/\n",
    "\n",
    "And Artificial Analysis - an incredibly comprehensive site where I can lose myself for hours:  \n",
    "https://artificialanalysis.ai/\n",
    "\n",
    "All the HuggingFace Leaderboards (sadly their most famous one is retired):  \n",
    "https://huggingface.co/spaces?search=leaderboard\n",
    "\n",
    "A challenging leaderboard that is 'contamination free':  \n",
    "https://livebench.ai/"
   ]
  },
  {
   "cell_type": "markdown",
   "metadata": {},
   "source": [
    "## And a homemade leaderboard\n",
    "\n",
    "https://edwarddonner.com/connect-four"
   ]
  },
  {
   "cell_type": "markdown",
   "metadata": {},
   "source": [
    "<iframe\n",
    "\tsrc=\"https://ed-donner-connect.hf.space\"\n",
    "\tframeborder=\"0\"\n",
    "\twidth=\"1500\"\n",
    "\theight=\"1000\"\n",
    "></iframe>\n"
   ]
  },
  {
   "cell_type": "markdown",
   "metadata": {},
   "source": []
  }
 ],
 "metadata": {
  "kernelspec": {
   "display_name": ".venv",
   "language": "python",
   "name": "python3"
  },
  "language_info": {
   "name": "python",
   "version": "3.12.11"
  }
 },
 "nbformat": 4,
 "nbformat_minor": 2
}
