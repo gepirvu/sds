{
 "cells": [
  {
   "cell_type": "markdown",
   "metadata": {},
   "source": [
    "# Lab 6\n",
    "\n",
    "Advanced APIs for Scale - Batching"
   ]
  },
  {
   "cell_type": "code",
   "execution_count": 1,
   "metadata": {},
   "outputs": [],
   "source": [
    "from dotenv import load_dotenv\n",
    "from openai import OpenAI\n",
    "load_dotenv(override=True)\n",
    "\n",
    "openai = OpenAI()\n"
   ]
  },
  {
   "cell_type": "code",
   "execution_count": 2,
   "metadata": {},
   "outputs": [],
   "source": [
    "support_tickets = [\n",
    "    \"I can't access my account after the password reset\",\n",
    "    \"When will the new mobile app features be released?\", \n",
    "    \"My credit card was charged twice for the same subscription\",\n",
    "    \"The API is returning 500 errors for all my requests\",\n",
    "    \"I'd like to request a bulk pricing discount for my team\",\n",
    "    \"How do I export my data before canceling my account?\",\n",
    "    \"The dashboard is loading very slowly since yesterday\",\n",
    "    \"Can you add support for OAuth authentication?\",\n",
    "    \"I was charged for premium but still see ads\",\n",
    "    \"Why is my API rate limit so low compared to the documentation?\"\n",
    "]\n"
   ]
  },
  {
   "cell_type": "markdown",
   "metadata": {},
   "source": [
    "## First step - Generate a jsonl file - json line - good for streaming and batch\n",
    "\n",
    "With this format:\n",
    "\n",
    "```jsonl\n",
    "{\"custom_id\": \"request-1\", \"method\": \"POST\", \"url\": \"/v1/chat/completions\", \"body\": {\"model\": \"gpt-3.5-turbo-0125\", \"messages\": [{\"role\": \"system\", \"content\": \"You are a helpful assistant.\"},{\"role\": \"user\", \"content\": \"Hello world!\"}],\"max_tokens\": 1000}}\n",
    "{\"custom_id\": \"request-2\", \"method\": \"POST\", \"url\": \"/v1/chat/completions\", \"body\": {\"model\": \"gpt-3.5-turbo-0125\", \"messages\": [{\"role\": \"system\", \"content\": \"You are an unhelpful assistant.\"},{\"role\": \"user\", \"content\": \"Hello world!\"}],\"max_tokens\": 1000}}\n",
    "```"
   ]
  },
  {
   "cell_type": "code",
   "execution_count": 7,
   "metadata": {},
   "outputs": [
    {
     "data": {
      "text/plain": [
       "'{\"custom_id\": \"ticket-0\", \"method\": \"POST\", \"url\": \"/v1/chat/completions\", \"body\": {\"model\": \"gpt-4o-mini\", \"messages\": [{\"role\": \"user\", \"content\": \"Classify this support ticket into one of these categories: billing, technical, feature_request, account_access, or general_inquiry.\\\\n\\\\nTicket: I can\\'t access my account after the password reset\\\\n\\\\nRespond with just the category name.\"}], \"max_tokens\": 50}}'"
      ]
     },
     "execution_count": 7,
     "metadata": {},
     "output_type": "execute_result"
    }
   ],
   "source": [
    "def make_classification_line(index):\n",
    "    ticket = support_tickets[index]\n",
    "    prompt = f\"\"\"Classify this support ticket into one of these categories: billing, technical, feature_request, account_access, or general_inquiry.\n",
    "\n",
    "Ticket: {ticket}\n",
    "\n",
    "Respond with just the category name.\"\"\"\n",
    "    \n",
    "    # Properly escape quotes in the JSON string\n",
    "    escaped_prompt = prompt.replace('\"', '\\\\\"').replace('\\n', '\\\\n')\n",
    "    \n",
    "    return f'{{\"custom_id\": \"ticket-{index}\", \"method\": \"POST\", \"url\": \"/v1/chat/completions\", \"body\": {{\"model\": \"gpt-4o-mini\", \"messages\": [{{\"role\": \"user\", \"content\": \"{escaped_prompt}\"}}], \"max_tokens\": 50}}}}'\n",
    "\n",
    "make_classification_line(0)"
   ]
  },
  {
   "cell_type": "code",
   "execution_count": 10,
   "metadata": {},
   "outputs": [],
   "source": [
    "# Create classification batch\n",
    "with open(\"ticket_classification.jsonl\", \"w\", encoding=\"utf-8\") as f:\n",
    "    for i in range(len(support_tickets)):\n",
    "        f.write(make_classification_line(i) + \"\\n\")"
   ]
  },
  {
   "cell_type": "markdown",
   "metadata": {},
   "source": [
    "## Second step - upload the file"
   ]
  },
  {
   "cell_type": "code",
   "execution_count": 11,
   "metadata": {},
   "outputs": [],
   "source": [
    "tickets_file = openai.files.create(\n",
    "    file=open(\"ticket_classification.jsonl\", \"rb\"), \n",
    "    purpose=\"batch\"\n",
    ")"
   ]
  },
  {
   "cell_type": "markdown",
   "metadata": {},
   "source": [
    "## Third step - make the batch"
   ]
  },
  {
   "cell_type": "code",
   "execution_count": 63,
   "metadata": {},
   "outputs": [
    {
     "data": {
      "text/plain": [
       "Batch(id='batch_685ebed434d48190ad8a35bd9a9605ae', completion_window='24h', created_at=1751039700, endpoint='/v1/chat/completions', input_file_id='file-V7dK92MpAj5ukRw1KxnmRP', object='batch', status='validating', cancelled_at=None, cancelling_at=None, completed_at=None, error_file_id=None, errors=None, expired_at=None, expires_at=1751126100, failed_at=None, finalizing_at=None, in_progress_at=None, metadata=None, output_file_id=None, request_counts=BatchRequestCounts(completed=0, failed=0, total=0))"
      ]
     },
     "execution_count": 63,
     "metadata": {},
     "output_type": "execute_result"
    }
   ],
   "source": [
    "#completion_window='24h' means openai you hvae 24h to do it when you want.\n",
    "\n",
    "batch = openai.batches.create(\n",
    "    input_file_id=tickets_file.id,\n",
    "    endpoint=\"/v1/chat/completions\", \n",
    "    completion_window=\"24h\"\n",
    ")\n",
    "batch"
   ]
  },
  {
   "cell_type": "markdown",
   "metadata": {},
   "source": [
    "## Fourth step - monitor the batch"
   ]
  },
  {
   "cell_type": "code",
   "execution_count": 76,
   "metadata": {},
   "outputs": [
    {
     "name": "stdout",
     "output_type": "stream",
     "text": [
      "Batch(id='batch_685ebed434d48190ad8a35bd9a9605ae', completion_window='24h', created_at=1751039700, endpoint='/v1/chat/completions', input_file_id='file-V7dK92MpAj5ukRw1KxnmRP', object='batch', status='in_progress', cancelled_at=None, cancelling_at=None, completed_at=None, error_file_id=None, errors=None, expired_at=None, expires_at=1751126100, failed_at=None, finalizing_at=None, in_progress_at=1751039701, metadata=None, output_file_id=None, request_counts=BatchRequestCounts(completed=0, failed=0, total=10))\n",
      "in_progress\n"
     ]
    }
   ],
   "source": [
    "latest = openai.batches.retrieve(batch.id)\n",
    "print(latest)\n",
    "print(latest.status)\n",
    "#Batch(id='batch_685eaeb9b3d88190bb6d360946412e5c', completion_window='24h', created_at=1751035577, endpoint='/v1/chat/completions', input_file_id='file-V7dK92MpAj5ukRw1KxnmRP', object='batch', status='in_progress', cancelled_at=None, cancelling_at=None, completed_at=None, error_file_id=None, errors=None, expired_at=None, expires_at=1751121977, failed_at=None, finalizing_at=None, in_progress_at=1751035579, metadata=None, output_file_id=None, request_counts=BatchRequestCounts(completed=0, failed=0, total=10))\n",
    "#in_progress"
   ]
  },
  {
   "cell_type": "markdown",
   "metadata": {},
   "source": [
    "## Fifth step - collect the results"
   ]
  },
  {
   "cell_type": "code",
   "execution_count": 73,
   "metadata": {},
   "outputs": [
    {
     "data": {
      "text/plain": [
       "'{\"id\": \"batch_req_685ebdebdd888190926935e456b9b125\", \"custom_id\": \"ticket-0\", \"response\": {\"status_code\": 200, \"request_id\": \"da2a5c3bfb698af4d8c9d72c5f895bbf\", \"body\": {\"id\": \"chatcmpl-Bn5dlCn6KBXL3Ki08hW475OaLvGq0\", \"object\": \"chat.completion\", \"created\": 1751039453, \"model\": \"gpt-4o-mini-2024-07-18\", \"choices\": [{\"index\": 0, \"message\": {\"role\": \"assistant\", \"content\": \"account_access\", \"refusal\": null, \"annotations\": []}, \"logprobs\": null, \"finish_reason\": \"stop\"}], \"usage\": {\"prompt_tokens\": 52, \"completion_tokens\": 2, \"total_tokens\": 54, \"prompt_tokens_details\": {\"cached_tokens\": 0, \"audio_tokens\": 0}, \"completion_tokens_details\": {\"reasoning_tokens\": 0, \"audio_tokens\": 0, \"accepted_prediction_tokens\": 0, \"rejected_prediction_tokens\": 0}}, \"service_tier\": \"default\", \"system_fingerprint\": \"fp_34a54ae93c\"}}, \"error\": null}\\n{\"id\": \"batch_req_685ebdebe9a08190b60c8ab6dc490c2a\", \"custom_id\": \"ticket-1\", \"response\": {\"status_code\": 200, \"request_id\": \"6487ad5cc8fbcc8b451026e991e67706\", \"body\": {\"id\": \"chatcmpl-Bn5dfvMYL2Jpf03cEgSvKWZUV6sBA\", \"object\": \"chat.completion\", \"created\": 1751039447, \"model\": \"gpt-4o-mini-2024-07-18\", \"choices\": [{\"index\": 0, \"message\": {\"role\": \"assistant\", \"content\": \"feature_request\", \"refusal\": null, \"annotations\": []}, \"logprobs\": null, \"finish_reason\": \"stop\"}], \"usage\": {\"prompt_tokens\": 52, \"completion_tokens\": 2, \"total_tokens\": 54, \"prompt_tokens_details\": {\"cached_tokens\": 0, \"audio_tokens\": 0}, \"completion_tokens_details\": {\"reasoning_tokens\": 0, \"audio_tokens\": 0, \"accepted_prediction_tokens\": 0, \"rejected_prediction_tokens\": 0}}, \"service_tier\": \"default\", \"system_fingerprint\": \"fp_62a23a81ef\"}}, \"error\": null}\\n{\"id\": \"batch_req_685ebdebf650819085775b67a29a278f\", \"custom_id\": \"ticket-2\", \"response\": {\"status_code\": 200, \"request_id\": \"7338b57e63e0559542bba1db5bddbe8e\", \"body\": {\"id\": \"chatcmpl-Bn5djmpQp6mGq9m2OXby4X8LmI5ze\", \"object\": \"chat.completion\", \"created\": 1751039451, \"model\": \"gpt-4o-mini-2024-07-18\", \"choices\": [{\"index\": 0, \"message\": {\"role\": \"assistant\", \"content\": \"billing\", \"refusal\": null, \"annotations\": []}, \"logprobs\": null, \"finish_reason\": \"stop\"}], \"usage\": {\"prompt_tokens\": 53, \"completion_tokens\": 1, \"total_tokens\": 54, \"prompt_tokens_details\": {\"cached_tokens\": 0, \"audio_tokens\": 0}, \"completion_tokens_details\": {\"reasoning_tokens\": 0, \"audio_tokens\": 0, \"accepted_prediction_tokens\": 0, \"rejected_prediction_tokens\": 0}}, \"service_tier\": \"default\", \"system_fingerprint\": \"fp_34a54ae93c\"}}, \"error\": null}\\n{\"id\": \"batch_req_685ebdec01208190a7680aacd65bdd11\", \"custom_id\": \"ticket-3\", \"response\": {\"status_code\": 200, \"request_id\": \"c37c85f20ab5bd095b622848adc9caab\", \"body\": {\"id\": \"chatcmpl-Bn5dgedbBvl2bGdP5qHl9ghIVUiAu\", \"object\": \"chat.completion\", \"created\": 1751039448, \"model\": \"gpt-4o-mini-2024-07-18\", \"choices\": [{\"index\": 0, \"message\": {\"role\": \"assistant\", \"content\": \"technical\", \"refusal\": null, \"annotations\": []}, \"logprobs\": null, \"finish_reason\": \"stop\"}], \"usage\": {\"prompt_tokens\": 54, \"completion_tokens\": 1, \"total_tokens\": 55, \"prompt_tokens_details\": {\"cached_tokens\": 0, \"audio_tokens\": 0}, \"completion_tokens_details\": {\"reasoning_tokens\": 0, \"audio_tokens\": 0, \"accepted_prediction_tokens\": 0, \"rejected_prediction_tokens\": 0}}, \"service_tier\": \"default\", \"system_fingerprint\": \"fp_34a54ae93c\"}}, \"error\": null}\\n{\"id\": \"batch_req_685ebdec0d10819082218279da2b8e59\", \"custom_id\": \"ticket-4\", \"response\": {\"status_code\": 200, \"request_id\": \"dd8f934d01203f2f7c7d6384c79d2b66\", \"body\": {\"id\": \"chatcmpl-Bn5djfSd8U4FNnEGuAd00mlBl29lZ\", \"object\": \"chat.completion\", \"created\": 1751039451, \"model\": \"gpt-4o-mini-2024-07-18\", \"choices\": [{\"index\": 0, \"message\": {\"role\": \"assistant\", \"content\": \"billing\", \"refusal\": null, \"annotations\": []}, \"logprobs\": null, \"finish_reason\": \"stop\"}], \"usage\": {\"prompt_tokens\": 54, \"completion_tokens\": 1, \"total_tokens\": 55, \"prompt_tokens_details\": {\"cached_tokens\": 0, \"audio_tokens\": 0}, \"completion_tokens_details\": {\"reasoning_tokens\": 0, \"audio_tokens\": 0, \"accepted_prediction_tokens\": 0, \"rejected_prediction_tokens\": 0}}, \"service_tier\": \"default\", \"system_fingerprint\": \"fp_34a54ae93c\"}}, \"error\": null}\\n{\"id\": \"batch_req_685ebdec1920819099d68648ab726c19\", \"custom_id\": \"ticket-5\", \"response\": {\"status_code\": 200, \"request_id\": \"a764aed50b518a9cb165f802a4b17847\", \"body\": {\"id\": \"chatcmpl-Bn5djtXiuFlXMvKFf2EibpA0AT1dK\", \"object\": \"chat.completion\", \"created\": 1751039451, \"model\": \"gpt-4o-mini-2024-07-18\", \"choices\": [{\"index\": 0, \"message\": {\"role\": \"assistant\", \"content\": \"account_access\", \"refusal\": null, \"annotations\": []}, \"logprobs\": null, \"finish_reason\": \"stop\"}], \"usage\": {\"prompt_tokens\": 54, \"completion_tokens\": 2, \"total_tokens\": 56, \"prompt_tokens_details\": {\"cached_tokens\": 0, \"audio_tokens\": 0}, \"completion_tokens_details\": {\"reasoning_tokens\": 0, \"audio_tokens\": 0, \"accepted_prediction_tokens\": 0, \"rejected_prediction_tokens\": 0}}, \"service_tier\": \"default\", \"system_fingerprint\": \"fp_34a54ae93c\"}}, \"error\": null}\\n{\"id\": \"batch_req_685ebdec25e8819088f73420a4f595b2\", \"custom_id\": \"ticket-6\", \"response\": {\"status_code\": 200, \"request_id\": \"58d467347bd8cc79bd4a1a502670eb8f\", \"body\": {\"id\": \"chatcmpl-Bn5dgi8S6ZcfsoLxA0fR3zGYDgo0U\", \"object\": \"chat.completion\", \"created\": 1751039448, \"model\": \"gpt-4o-mini-2024-07-18\", \"choices\": [{\"index\": 0, \"message\": {\"role\": \"assistant\", \"content\": \"technical\", \"refusal\": null, \"annotations\": []}, \"logprobs\": null, \"finish_reason\": \"stop\"}], \"usage\": {\"prompt_tokens\": 51, \"completion_tokens\": 1, \"total_tokens\": 52, \"prompt_tokens_details\": {\"cached_tokens\": 0, \"audio_tokens\": 0}, \"completion_tokens_details\": {\"reasoning_tokens\": 0, \"audio_tokens\": 0, \"accepted_prediction_tokens\": 0, \"rejected_prediction_tokens\": 0}}, \"service_tier\": \"default\", \"system_fingerprint\": \"fp_34a54ae93c\"}}, \"error\": null}\\n{\"id\": \"batch_req_685ebdec33988190a9daebc69bde5c5a\", \"custom_id\": \"ticket-7\", \"response\": {\"status_code\": 200, \"request_id\": \"6d29cc90ae933b1f3d21db696424eba1\", \"body\": {\"id\": \"chatcmpl-Bn5df0unPZXhs0m1iTAyPlCxlxxrr\", \"object\": \"chat.completion\", \"created\": 1751039447, \"model\": \"gpt-4o-mini-2024-07-18\", \"choices\": [{\"index\": 0, \"message\": {\"role\": \"assistant\", \"content\": \"feature_request\", \"refusal\": null, \"annotations\": []}, \"logprobs\": null, \"finish_reason\": \"stop\"}], \"usage\": {\"prompt_tokens\": 50, \"completion_tokens\": 2, \"total_tokens\": 52, \"prompt_tokens_details\": {\"cached_tokens\": 0, \"audio_tokens\": 0}, \"completion_tokens_details\": {\"reasoning_tokens\": 0, \"audio_tokens\": 0, \"accepted_prediction_tokens\": 0, \"rejected_prediction_tokens\": 0}}, \"service_tier\": \"default\", \"system_fingerprint\": \"fp_34a54ae93c\"}}, \"error\": null}\\n{\"id\": \"batch_req_685ebdec40fc8190b3e18eedf062bf47\", \"custom_id\": \"ticket-8\", \"response\": {\"status_code\": 200, \"request_id\": \"eeba2268ed5f8ed34c5a2e846f8a24c0\", \"body\": {\"id\": \"chatcmpl-Bn5dmICgbBgkgWcUFyBodaYFgQYag\", \"object\": \"chat.completion\", \"created\": 1751039454, \"model\": \"gpt-4o-mini-2024-07-18\", \"choices\": [{\"index\": 0, \"message\": {\"role\": \"assistant\", \"content\": \"billing\", \"refusal\": null, \"annotations\": []}, \"logprobs\": null, \"finish_reason\": \"stop\"}], \"usage\": {\"prompt_tokens\": 52, \"completion_tokens\": 1, \"total_tokens\": 53, \"prompt_tokens_details\": {\"cached_tokens\": 0, \"audio_tokens\": 0}, \"completion_tokens_details\": {\"reasoning_tokens\": 0, \"audio_tokens\": 0, \"accepted_prediction_tokens\": 0, \"rejected_prediction_tokens\": 0}}, \"service_tier\": \"default\", \"system_fingerprint\": \"fp_34a54ae93c\"}}, \"error\": null}\\n{\"id\": \"batch_req_685ebdec5020819095d656b6c864657d\", \"custom_id\": \"ticket-9\", \"response\": {\"status_code\": 200, \"request_id\": \"99c94f96cbda5c53dbe187304f94128f\", \"body\": {\"id\": \"chatcmpl-Bn5dh0RslsdPjJIynvWnatp7yU2nY\", \"object\": \"chat.completion\", \"created\": 1751039449, \"model\": \"gpt-4o-mini-2024-07-18\", \"choices\": [{\"index\": 0, \"message\": {\"role\": \"assistant\", \"content\": \"technical\", \"refusal\": null, \"annotations\": []}, \"logprobs\": null, \"finish_reason\": \"stop\"}], \"usage\": {\"prompt_tokens\": 55, \"completion_tokens\": 1, \"total_tokens\": 56, \"prompt_tokens_details\": {\"cached_tokens\": 0, \"audio_tokens\": 0}, \"completion_tokens_details\": {\"reasoning_tokens\": 0, \"audio_tokens\": 0, \"accepted_prediction_tokens\": 0, \"rejected_prediction_tokens\": 0}}, \"service_tier\": \"default\", \"system_fingerprint\": \"fp_34a54ae93c\"}}, \"error\": null}\\n'"
      ]
     },
     "execution_count": 73,
     "metadata": {},
     "output_type": "execute_result"
    }
   ],
   "source": [
    "results_file_id = latest.output_file_id\n",
    "results_file = openai.files.content(results_file_id)\n",
    "results_file.text"
   ]
  },
  {
   "cell_type": "markdown",
   "metadata": {},
   "source": [
    "## And now let's see"
   ]
  },
  {
   "cell_type": "code",
   "execution_count": 74,
   "metadata": {},
   "outputs": [
    {
     "name": "stdout",
     "output_type": "stream",
     "text": [
      "Number of results: 10\n",
      "First result:\n"
     ]
    },
    {
     "data": {
      "text/plain": [
       "{'id': 'batch_req_685ebdebdd888190926935e456b9b125',\n",
       " 'custom_id': 'ticket-0',\n",
       " 'response': {'status_code': 200,\n",
       "  'request_id': 'da2a5c3bfb698af4d8c9d72c5f895bbf',\n",
       "  'body': {'id': 'chatcmpl-Bn5dlCn6KBXL3Ki08hW475OaLvGq0',\n",
       "   'object': 'chat.completion',\n",
       "   'created': 1751039453,\n",
       "   'model': 'gpt-4o-mini-2024-07-18',\n",
       "   'choices': [{'index': 0,\n",
       "     'message': {'role': 'assistant',\n",
       "      'content': 'account_access',\n",
       "      'refusal': None,\n",
       "      'annotations': []},\n",
       "     'logprobs': None,\n",
       "     'finish_reason': 'stop'}],\n",
       "   'usage': {'prompt_tokens': 52,\n",
       "    'completion_tokens': 2,\n",
       "    'total_tokens': 54,\n",
       "    'prompt_tokens_details': {'cached_tokens': 0, 'audio_tokens': 0},\n",
       "    'completion_tokens_details': {'reasoning_tokens': 0,\n",
       "     'audio_tokens': 0,\n",
       "     'accepted_prediction_tokens': 0,\n",
       "     'rejected_prediction_tokens': 0}},\n",
       "   'service_tier': 'default',\n",
       "   'system_fingerprint': 'fp_34a54ae93c'}},\n",
       " 'error': None}"
      ]
     },
     "execution_count": 74,
     "metadata": {},
     "output_type": "execute_result"
    }
   ],
   "source": [
    "import json\n",
    "lines = results_file.text.split(\"\\n\")\n",
    "results = [json.loads(line) for line in lines if line]\n",
    "print(f\"Number of results: {len(results)}\")\n",
    "print(\"First result:\")\n",
    "results[0]"
   ]
  },
  {
   "cell_type": "code",
   "execution_count": 75,
   "metadata": {},
   "outputs": [
    {
     "name": "stdout",
     "output_type": "stream",
     "text": [
      "I can't access my account after the password reset\n",
      "account_access\n",
      "----------------------------------------------------------------------------------------------------\n",
      "When will the new mobile app features be released?\n",
      "feature_request\n",
      "----------------------------------------------------------------------------------------------------\n",
      "My credit card was charged twice for the same subscription\n",
      "billing\n",
      "----------------------------------------------------------------------------------------------------\n",
      "The API is returning 500 errors for all my requests\n",
      "technical\n",
      "----------------------------------------------------------------------------------------------------\n",
      "I'd like to request a bulk pricing discount for my team\n",
      "billing\n",
      "----------------------------------------------------------------------------------------------------\n",
      "How do I export my data before canceling my account?\n",
      "account_access\n",
      "----------------------------------------------------------------------------------------------------\n",
      "The dashboard is loading very slowly since yesterday\n",
      "technical\n",
      "----------------------------------------------------------------------------------------------------\n",
      "Can you add support for OAuth authentication?\n",
      "feature_request\n",
      "----------------------------------------------------------------------------------------------------\n",
      "I was charged for premium but still see ads\n",
      "billing\n",
      "----------------------------------------------------------------------------------------------------\n",
      "Why is my API rate limit so low compared to the documentation?\n",
      "technical\n",
      "----------------------------------------------------------------------------------------------------\n"
     ]
    }
   ],
   "source": [
    "for result in results:\n",
    "    id = result[\"custom_id\"]\n",
    "    question = support_tickets[int(id.split(\"-\")[1])]\n",
    "    print(question)\n",
    "    print(result[\"response\"][\"body\"][\"choices\"][0][\"message\"][\"content\"])\n",
    "    print(\"-\"*100)"
   ]
  },
  {
   "cell_type": "markdown",
   "metadata": {},
   "source": [
    "## Anthropic has a similar Batch API\n",
    "\n",
    "https://docs.anthropic.com/en/docs/build-with-claude/batch-processing"
   ]
  },
  {
   "cell_type": "markdown",
   "metadata": {},
   "source": []
  }
 ],
 "metadata": {
  "kernelspec": {
   "display_name": ".venv",
   "language": "python",
   "name": "python3"
  },
  "language_info": {
   "codemirror_mode": {
    "name": "ipython",
    "version": 3
   },
   "file_extension": ".py",
   "mimetype": "text/x-python",
   "name": "python",
   "nbconvert_exporter": "python",
   "pygments_lexer": "ipython3",
   "version": "3.12.11"
  }
 },
 "nbformat": 4,
 "nbformat_minor": 2
}
