{
 "cells": [
  {
   "cell_type": "markdown",
   "metadata": {},
   "source": [
    "# Lab 6\n",
    "\n",
    "Advanced APIs for Scale - Batching"
   ]
  },
  {
   "cell_type": "code",
   "execution_count": 1,
   "metadata": {},
   "outputs": [],
   "source": [
    "from dotenv import load_dotenv\n",
    "from openai import OpenAI\n",
    "load_dotenv(override=True)\n",
    "\n",
    "openai = OpenAI()\n"
   ]
  },
  {
   "cell_type": "code",
   "execution_count": 2,
   "metadata": {},
   "outputs": [],
   "source": [
    "questions = [\n",
    "    \"What is the capital of France?\",\n",
    "    \"What is the capital of Germany?\",\n",
    "    \"What is the capital of Italy?\",\n",
    "    \"What is the capital of Spain?\",\n",
    "    \"What is the capital of Portugal?\",\n",
    "    \"What is the capital of Greece?\",\n",
    "    \"What is the capital of Turkey?\",\n",
    "    \"What is the capital of Egypt?\",\n",
    "    \"What is the capital of South Africa?\",\n",
    "]"
   ]
  },
  {
   "cell_type": "markdown",
   "metadata": {},
   "source": [
    "## First step - Generate a jsonl file - json line - good for streaming and batch\n",
    "\n",
    "With this format:\n",
    "\n",
    "```jsonl\n",
    "{\"custom_id\": \"request-1\", \"method\": \"POST\", \"url\": \"/v1/chat/completions\", \"body\": {\"model\": \"gpt-3.5-turbo-0125\", \"messages\": [{\"role\": \"system\", \"content\": \"You are a helpful assistant.\"},{\"role\": \"user\", \"content\": \"Hello world!\"}],\"max_tokens\": 1000}}\n",
    "{\"custom_id\": \"request-2\", \"method\": \"POST\", \"url\": \"/v1/chat/completions\", \"body\": {\"model\": \"gpt-3.5-turbo-0125\", \"messages\": [{\"role\": \"system\", \"content\": \"You are an unhelpful assistant.\"},{\"role\": \"user\", \"content\": \"Hello world!\"}],\"max_tokens\": 1000}}\n",
    "```"
   ]
  },
  {
   "cell_type": "code",
   "execution_count": 3,
   "metadata": {},
   "outputs": [
    {
     "data": {
      "text/plain": [
       "'{\"custom_id\": \"request-0\", \"method\": \"POST\", \"url\": \"/v1/chat/completions\", \"body\": {\"model\": \"gpt-4.1-nano\", \"messages\": [{\"role\": \"user\", \"content\": \"What is the capital of France?\"}],\"max_tokens\": 1000}}'"
      ]
     },
     "execution_count": 3,
     "metadata": {},
     "output_type": "execute_result"
    }
   ],
   "source": [
    "#generate one line to fill the questions from the list\n",
    "def make_line(index):\n",
    "    question = questions[index]\n",
    "    return f'{{\"custom_id\": \"request-{index}\", \"method\": \"POST\", \"url\": \"/v1/chat/completions\", \"body\": {{\"model\": \"gpt-4.1-nano\", \"messages\": [{{\"role\": \"user\", \"content\": \"{question}\"}}],\"max_tokens\": 1000}}}}'\n",
    "\n",
    "\n",
    "make_line(0)"
   ]
  },
  {
   "cell_type": "code",
   "execution_count": 4,
   "metadata": {},
   "outputs": [],
   "source": [
    "#create new jsonl file in the folder\n",
    "\n",
    "with open(\"questions.jsonl\", \"w\", encoding=\"utf-8\") as f:\n",
    "    for i in range(len(questions)):\n",
    "        f.write(make_line(i) + \"\\n\")"
   ]
  },
  {
   "cell_type": "markdown",
   "metadata": {},
   "source": [
    "## Second step - upload the file"
   ]
  },
  {
   "cell_type": "code",
   "execution_count": 6,
   "metadata": {},
   "outputs": [
    {
     "data": {
      "text/plain": [
       "FileObject(id='file-4H91wDPgn4LsoS7Ls6C49f', bytes=1878, created_at=1750973921, filename='questions.jsonl', object='file', purpose='batch', status='processed', expires_at=None, status_details=None)"
      ]
     },
     "execution_count": 6,
     "metadata": {},
     "output_type": "execute_result"
    }
   ],
   "source": [
    "#create a file with file object and id uploaded\n",
    "questions_file = openai.files.create(file=open(\"questions.jsonl\", \"rb\"), purpose=\"batch\")\n",
    "questions_file"
   ]
  },
  {
   "cell_type": "markdown",
   "metadata": {},
   "source": [
    "## Third step - make the batch"
   ]
  },
  {
   "cell_type": "code",
   "execution_count": 1,
   "metadata": {},
   "outputs": [
    {
     "ename": "NameError",
     "evalue": "name 'questions_file' is not defined",
     "output_type": "error",
     "traceback": [
      "\u001b[31m---------------------------------------------------------------------------\u001b[39m",
      "\u001b[31mNameError\u001b[39m                                 Traceback (most recent call last)",
      "\u001b[36mCell\u001b[39m\u001b[36m \u001b[39m\u001b[32mIn[1]\u001b[39m\u001b[32m, line 3\u001b[39m\n\u001b[32m      1\u001b[39m \u001b[38;5;66;03m#completion_window='24h' means openai you hvae 24h to do it when you want.\u001b[39;00m\n\u001b[32m----> \u001b[39m\u001b[32m3\u001b[39m file_id = \u001b[43mquestions_file\u001b[49m.id\n\u001b[32m      4\u001b[39m batch = openai.batches.create(input_file_id=file_id, endpoint=\u001b[33m\"\u001b[39m\u001b[33m/v1/chat/completions\u001b[39m\u001b[33m\"\u001b[39m, completion_window=\u001b[33m\"\u001b[39m\u001b[33m24h\u001b[39m\u001b[33m\"\u001b[39m)\n\u001b[32m      5\u001b[39m batch\n",
      "\u001b[31mNameError\u001b[39m: name 'questions_file' is not defined"
     ]
    }
   ],
   "source": [
    "#completion_window='24h' means openai you hvae 24h to do it when you want.\n",
    "\n",
    "file_id = questions_file.id\n",
    "batch = openai.batches.create(input_file_id=file_id, endpoint=\"/v1/chat/completions\", completion_window=\"24h\")\n",
    "batch"
   ]
  },
  {
   "cell_type": "markdown",
   "metadata": {},
   "source": [
    "## Fourth step - monitor the batch"
   ]
  },
  {
   "cell_type": "code",
   "execution_count": 14,
   "metadata": {},
   "outputs": [
    {
     "name": "stdout",
     "output_type": "stream",
     "text": [
      "Batch(id='batch_685dbde53e4081909da2edee538af0e5', completion_window='24h', created_at=1750973925, endpoint='/v1/chat/completions', input_file_id='file-4H91wDPgn4LsoS7Ls6C49f', object='batch', status='completed', cancelled_at=None, cancelling_at=None, completed_at=1750974037, error_file_id=None, errors=None, expired_at=None, expires_at=1751060325, failed_at=None, finalizing_at=1750974036, in_progress_at=1750973926, metadata=None, output_file_id='file-XoF5wuc5MA8kKiDviobohP', request_counts=BatchRequestCounts(completed=9, failed=0, total=9))\n",
      "completed\n"
     ]
    }
   ],
   "source": [
    "latest = openai.batches.retrieve(batch.id)\n",
    "print(latest)\n",
    "print(latest.status)"
   ]
  },
  {
   "cell_type": "markdown",
   "metadata": {},
   "source": [
    "## Fifth step - collect the results"
   ]
  },
  {
   "cell_type": "code",
   "execution_count": 15,
   "metadata": {},
   "outputs": [
    {
     "data": {
      "text/plain": [
       "'{\"id\": \"batch_req_685dbe5462788190b64a5c829e988fa6\", \"custom_id\": \"request-0\", \"response\": {\"status_code\": 200, \"request_id\": \"074316ca1153fe66398a53dfba0dee86\", \"body\": {\"id\": \"chatcmpl-BmobM6TwzTAB3mQSpvQcgql117G0S\", \"object\": \"chat.completion\", \"created\": 1750973956, \"model\": \"gpt-4.1-nano-2025-04-14\", \"choices\": [{\"index\": 0, \"message\": {\"role\": \"assistant\", \"content\": \"The capital of France is Paris.\", \"refusal\": null, \"annotations\": []}, \"logprobs\": null, \"finish_reason\": \"stop\"}], \"usage\": {\"prompt_tokens\": 14, \"completion_tokens\": 7, \"total_tokens\": 21, \"prompt_tokens_details\": {\"cached_tokens\": 0, \"audio_tokens\": 0}, \"completion_tokens_details\": {\"reasoning_tokens\": 0, \"audio_tokens\": 0, \"accepted_prediction_tokens\": 0, \"rejected_prediction_tokens\": 0}}, \"service_tier\": \"default\", \"system_fingerprint\": \"fp_38343a2f8f\"}}, \"error\": null}\\n{\"id\": \"batch_req_685dbe54727881909bcb87c30b6f2256\", \"custom_id\": \"request-1\", \"response\": {\"status_code\": 200, \"request_id\": \"6f6fdf69cbb7b690cc3d2af1d483a6c0\", \"body\": {\"id\": \"chatcmpl-Bmob3lPwoTjIQvRSiQw0wyLSdVY5q\", \"object\": \"chat.completion\", \"created\": 1750973937, \"model\": \"gpt-4.1-nano-2025-04-14\", \"choices\": [{\"index\": 0, \"message\": {\"role\": \"assistant\", \"content\": \"The capital of Germany is Berlin.\", \"refusal\": null, \"annotations\": []}, \"logprobs\": null, \"finish_reason\": \"stop\"}], \"usage\": {\"prompt_tokens\": 14, \"completion_tokens\": 7, \"total_tokens\": 21, \"prompt_tokens_details\": {\"cached_tokens\": 0, \"audio_tokens\": 0}, \"completion_tokens_details\": {\"reasoning_tokens\": 0, \"audio_tokens\": 0, \"accepted_prediction_tokens\": 0, \"rejected_prediction_tokens\": 0}}, \"service_tier\": \"default\", \"system_fingerprint\": \"fp_f12167b370\"}}, \"error\": null}\\n{\"id\": \"batch_req_685dbe5482188190bfba6eeaf5bcf92a\", \"custom_id\": \"request-2\", \"response\": {\"status_code\": 200, \"request_id\": \"7cd7f29d305a9e2fd6dceed41a7fea87\", \"body\": {\"id\": \"chatcmpl-Bmobq17aUCImfNgBW6v9trX4wBSSR\", \"object\": \"chat.completion\", \"created\": 1750973986, \"model\": \"gpt-4.1-nano-2025-04-14\", \"choices\": [{\"index\": 0, \"message\": {\"role\": \"assistant\", \"content\": \"The capital of Italy is Rome.\", \"refusal\": null, \"annotations\": []}, \"logprobs\": null, \"finish_reason\": \"stop\"}], \"usage\": {\"prompt_tokens\": 14, \"completion_tokens\": 7, \"total_tokens\": 21, \"prompt_tokens_details\": {\"cached_tokens\": 0, \"audio_tokens\": 0}, \"completion_tokens_details\": {\"reasoning_tokens\": 0, \"audio_tokens\": 0, \"accepted_prediction_tokens\": 0, \"rejected_prediction_tokens\": 0}}, \"service_tier\": \"default\", \"system_fingerprint\": \"fp_38343a2f8f\"}}, \"error\": null}\\n{\"id\": \"batch_req_685dbe54921481909338811b81ff1212\", \"custom_id\": \"request-3\", \"response\": {\"status_code\": 200, \"request_id\": \"70a47861c3e47fbd1edb0fb43310acb2\", \"body\": {\"id\": \"chatcmpl-BmoavGPGkJeYenQS2G73Kn1RMrISW\", \"object\": \"chat.completion\", \"created\": 1750973929, \"model\": \"gpt-4.1-nano-2025-04-14\", \"choices\": [{\"index\": 0, \"message\": {\"role\": \"assistant\", \"content\": \"The capital of Spain is Madrid.\", \"refusal\": null, \"annotations\": []}, \"logprobs\": null, \"finish_reason\": \"stop\"}], \"usage\": {\"prompt_tokens\": 14, \"completion_tokens\": 7, \"total_tokens\": 21, \"prompt_tokens_details\": {\"cached_tokens\": 0, \"audio_tokens\": 0}, \"completion_tokens_details\": {\"reasoning_tokens\": 0, \"audio_tokens\": 0, \"accepted_prediction_tokens\": 0, \"rejected_prediction_tokens\": 0}}, \"service_tier\": \"default\", \"system_fingerprint\": \"fp_38343a2f8f\"}}, \"error\": null}\\n{\"id\": \"batch_req_685dbe54a2e08190813e182783cd3a49\", \"custom_id\": \"request-4\", \"response\": {\"status_code\": 200, \"request_id\": \"f3b1b5e6488cb67cb6800bde144fa898\", \"body\": {\"id\": \"chatcmpl-Bmoaxw8wdJUYLVq4G7HPfvgOA4at8\", \"object\": \"chat.completion\", \"created\": 1750973931, \"model\": \"gpt-4.1-nano-2025-04-14\", \"choices\": [{\"index\": 0, \"message\": {\"role\": \"assistant\", \"content\": \"The capital of Portugal is Lisbon.\", \"refusal\": null, \"annotations\": []}, \"logprobs\": null, \"finish_reason\": \"stop\"}], \"usage\": {\"prompt_tokens\": 14, \"completion_tokens\": 7, \"total_tokens\": 21, \"prompt_tokens_details\": {\"cached_tokens\": 0, \"audio_tokens\": 0}, \"completion_tokens_details\": {\"reasoning_tokens\": 0, \"audio_tokens\": 0, \"accepted_prediction_tokens\": 0, \"rejected_prediction_tokens\": 0}}, \"service_tier\": \"default\", \"system_fingerprint\": \"fp_f12167b370\"}}, \"error\": null}\\n{\"id\": \"batch_req_685dbe54b3c48190810f6731ee3597e9\", \"custom_id\": \"request-5\", \"response\": {\"status_code\": 200, \"request_id\": \"f3594e8c76c94b9cfab3736b0bfd8fa8\", \"body\": {\"id\": \"chatcmpl-BmobXu9LbtfFEOzlvoGb95ddoqYI4\", \"object\": \"chat.completion\", \"created\": 1750973967, \"model\": \"gpt-4.1-nano-2025-04-14\", \"choices\": [{\"index\": 0, \"message\": {\"role\": \"assistant\", \"content\": \"The capital of Greece is Athens.\", \"refusal\": null, \"annotations\": []}, \"logprobs\": null, \"finish_reason\": \"stop\"}], \"usage\": {\"prompt_tokens\": 14, \"completion_tokens\": 7, \"total_tokens\": 21, \"prompt_tokens_details\": {\"cached_tokens\": 0, \"audio_tokens\": 0}, \"completion_tokens_details\": {\"reasoning_tokens\": 0, \"audio_tokens\": 0, \"accepted_prediction_tokens\": 0, \"rejected_prediction_tokens\": 0}}, \"service_tier\": \"default\", \"system_fingerprint\": \"fp_38343a2f8f\"}}, \"error\": null}\\n{\"id\": \"batch_req_685dbe54c5ac81909987527f4de2f22a\", \"custom_id\": \"request-6\", \"response\": {\"status_code\": 200, \"request_id\": \"4659b921b39420d247e03944b94255b8\", \"body\": {\"id\": \"chatcmpl-BmoawIy6y1PN7ehZa8S4RstIJDX33\", \"object\": \"chat.completion\", \"created\": 1750973930, \"model\": \"gpt-4.1-nano-2025-04-14\", \"choices\": [{\"index\": 0, \"message\": {\"role\": \"assistant\", \"content\": \"The capital of Turkey is Ankara.\", \"refusal\": null, \"annotations\": []}, \"logprobs\": null, \"finish_reason\": \"stop\"}], \"usage\": {\"prompt_tokens\": 14, \"completion_tokens\": 7, \"total_tokens\": 21, \"prompt_tokens_details\": {\"cached_tokens\": 0, \"audio_tokens\": 0}, \"completion_tokens_details\": {\"reasoning_tokens\": 0, \"audio_tokens\": 0, \"accepted_prediction_tokens\": 0, \"rejected_prediction_tokens\": 0}}, \"service_tier\": \"default\", \"system_fingerprint\": \"fp_38343a2f8f\"}}, \"error\": null}\\n{\"id\": \"batch_req_685dbe54d5688190aa7f79c96ae5490d\", \"custom_id\": \"request-7\", \"response\": {\"status_code\": 200, \"request_id\": \"7dbc00ca364d4867fbf836064dfcae4e\", \"body\": {\"id\": \"chatcmpl-BmoavCAJaVH4OXFDxDBZVdHkYdgEg\", \"object\": \"chat.completion\", \"created\": 1750973929, \"model\": \"gpt-4.1-nano-2025-04-14\", \"choices\": [{\"index\": 0, \"message\": {\"role\": \"assistant\", \"content\": \"The capital of Egypt is Cairo.\", \"refusal\": null, \"annotations\": []}, \"logprobs\": null, \"finish_reason\": \"stop\"}], \"usage\": {\"prompt_tokens\": 14, \"completion_tokens\": 7, \"total_tokens\": 21, \"prompt_tokens_details\": {\"cached_tokens\": 0, \"audio_tokens\": 0}, \"completion_tokens_details\": {\"reasoning_tokens\": 0, \"audio_tokens\": 0, \"accepted_prediction_tokens\": 0, \"rejected_prediction_tokens\": 0}}, \"service_tier\": \"default\", \"system_fingerprint\": \"fp_38343a2f8f\"}}, \"error\": null}\\n{\"id\": \"batch_req_685dbe54e4d88190b03642483c8e92db\", \"custom_id\": \"request-8\", \"response\": {\"status_code\": 200, \"request_id\": \"5857f92c0d4fe4bd80568b7659d41eff\", \"body\": {\"id\": \"chatcmpl-Bmoav5BJBt6Vbelt8oiwixmNAjfrF\", \"object\": \"chat.completion\", \"created\": 1750973929, \"model\": \"gpt-4.1-nano-2025-04-14\", \"choices\": [{\"index\": 0, \"message\": {\"role\": \"assistant\", \"content\": \"South Africa has three capital cities: Pretoria (administrative capital), Cape Town (legislative capital), and Bloemfontein (judicial capital).\", \"refusal\": null, \"annotations\": []}, \"logprobs\": null, \"finish_reason\": \"stop\"}], \"usage\": {\"prompt_tokens\": 15, \"completion_tokens\": 31, \"total_tokens\": 46, \"prompt_tokens_details\": {\"cached_tokens\": 0, \"audio_tokens\": 0}, \"completion_tokens_details\": {\"reasoning_tokens\": 0, \"audio_tokens\": 0, \"accepted_prediction_tokens\": 0, \"rejected_prediction_tokens\": 0}}, \"service_tier\": \"default\", \"system_fingerprint\": \"fp_f12167b370\"}}, \"error\": null}\\n'"
      ]
     },
     "execution_count": 15,
     "metadata": {},
     "output_type": "execute_result"
    }
   ],
   "source": [
    "results_file_id = latest.output_file_id\n",
    "results_file = openai.files.content(results_file_id)\n",
    "results_file.text"
   ]
  },
  {
   "cell_type": "markdown",
   "metadata": {},
   "source": [
    "## And now let's see"
   ]
  },
  {
   "cell_type": "code",
   "execution_count": 16,
   "metadata": {},
   "outputs": [
    {
     "name": "stdout",
     "output_type": "stream",
     "text": [
      "Number of results: 9\n",
      "First result:\n"
     ]
    },
    {
     "data": {
      "text/plain": [
       "{'id': 'batch_req_685dbe5462788190b64a5c829e988fa6',\n",
       " 'custom_id': 'request-0',\n",
       " 'response': {'status_code': 200,\n",
       "  'request_id': '074316ca1153fe66398a53dfba0dee86',\n",
       "  'body': {'id': 'chatcmpl-BmobM6TwzTAB3mQSpvQcgql117G0S',\n",
       "   'object': 'chat.completion',\n",
       "   'created': 1750973956,\n",
       "   'model': 'gpt-4.1-nano-2025-04-14',\n",
       "   'choices': [{'index': 0,\n",
       "     'message': {'role': 'assistant',\n",
       "      'content': 'The capital of France is Paris.',\n",
       "      'refusal': None,\n",
       "      'annotations': []},\n",
       "     'logprobs': None,\n",
       "     'finish_reason': 'stop'}],\n",
       "   'usage': {'prompt_tokens': 14,\n",
       "    'completion_tokens': 7,\n",
       "    'total_tokens': 21,\n",
       "    'prompt_tokens_details': {'cached_tokens': 0, 'audio_tokens': 0},\n",
       "    'completion_tokens_details': {'reasoning_tokens': 0,\n",
       "     'audio_tokens': 0,\n",
       "     'accepted_prediction_tokens': 0,\n",
       "     'rejected_prediction_tokens': 0}},\n",
       "   'service_tier': 'default',\n",
       "   'system_fingerprint': 'fp_38343a2f8f'}},\n",
       " 'error': None}"
      ]
     },
     "execution_count": 16,
     "metadata": {},
     "output_type": "execute_result"
    }
   ],
   "source": [
    "import json\n",
    "lines = results_file.text.split(\"\\n\")\n",
    "results = [json.loads(line) for line in lines if line]\n",
    "print(f\"Number of results: {len(results)}\")\n",
    "print(\"First result:\")\n",
    "results[0]"
   ]
  },
  {
   "cell_type": "code",
   "execution_count": 17,
   "metadata": {},
   "outputs": [
    {
     "name": "stdout",
     "output_type": "stream",
     "text": [
      "What is the capital of France?\n",
      "The capital of France is Paris.\n",
      "----------------------------------------------------------------------------------------------------\n",
      "What is the capital of Germany?\n",
      "The capital of Germany is Berlin.\n",
      "----------------------------------------------------------------------------------------------------\n",
      "What is the capital of Italy?\n",
      "The capital of Italy is Rome.\n",
      "----------------------------------------------------------------------------------------------------\n",
      "What is the capital of Spain?\n",
      "The capital of Spain is Madrid.\n",
      "----------------------------------------------------------------------------------------------------\n",
      "What is the capital of Portugal?\n",
      "The capital of Portugal is Lisbon.\n",
      "----------------------------------------------------------------------------------------------------\n",
      "What is the capital of Greece?\n",
      "The capital of Greece is Athens.\n",
      "----------------------------------------------------------------------------------------------------\n",
      "What is the capital of Turkey?\n",
      "The capital of Turkey is Ankara.\n",
      "----------------------------------------------------------------------------------------------------\n",
      "What is the capital of Egypt?\n",
      "The capital of Egypt is Cairo.\n",
      "----------------------------------------------------------------------------------------------------\n",
      "What is the capital of South Africa?\n",
      "South Africa has three capital cities: Pretoria (administrative capital), Cape Town (legislative capital), and Bloemfontein (judicial capital).\n",
      "----------------------------------------------------------------------------------------------------\n"
     ]
    }
   ],
   "source": [
    "for result in results:\n",
    "    id = result[\"custom_id\"]\n",
    "    question = questions[int(id.split(\"-\")[1])]\n",
    "    print(question)\n",
    "    print(result[\"response\"][\"body\"][\"choices\"][0][\"message\"][\"content\"])\n",
    "    print(\"-\"*100)"
   ]
  },
  {
   "cell_type": "markdown",
   "metadata": {},
   "source": [
    "## Anthropic has a similar Batch API\n",
    "\n",
    "https://docs.anthropic.com/en/docs/build-with-claude/batch-processing"
   ]
  },
  {
   "cell_type": "markdown",
   "metadata": {},
   "source": []
  }
 ],
 "metadata": {
  "kernelspec": {
   "display_name": ".venv",
   "language": "python",
   "name": "python3"
  },
  "language_info": {
   "codemirror_mode": {
    "name": "ipython",
    "version": 3
   },
   "file_extension": ".py",
   "mimetype": "text/x-python",
   "name": "python",
   "nbconvert_exporter": "python",
   "pygments_lexer": "ipython3",
   "version": "3.12.11"
  }
 },
 "nbformat": 4,
 "nbformat_minor": 2
}
