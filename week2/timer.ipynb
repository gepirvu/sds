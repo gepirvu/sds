{
 "cells": [
  {
   "cell_type": "markdown",
   "metadata": {},
   "source": [
    "# Break Timer - \"We need an AI Agent for that\""
   ]
  },
  {
   "cell_type": "code",
   "execution_count": 1,
   "metadata": {},
   "outputs": [],
   "source": [
    "from dotenv import load_dotenv\n",
    "from openai import OpenAI\n",
    "import time\n",
    "from datetime import datetime\n",
    "from IPython.display import Markdown, display\n",
    "load_dotenv(override=True)\n",
    "openai = OpenAI()"
   ]
  },
  {
   "cell_type": "code",
   "execution_count": 5,
   "metadata": {},
   "outputs": [
    {
     "name": "stdout",
     "output_type": "stream",
     "text": [
      "The time is 19:08:30\n"
     ]
    }
   ],
   "source": [
    "\n",
    "BREAK_LENGTH = \"3 minutes\"\n",
    "MODEL = \"gpt-4.1\"\n",
    "\n",
    "style = \"in the excitable style of Steve Ballmer giving an employee pump talk\"\n",
    "\n",
    "now = datetime.now().strftime(\"%H:%M:%S\")\n",
    "print(f\"The time is {now}\")\n"
   ]
  },
  {
   "cell_type": "code",
   "execution_count": 6,
   "metadata": {},
   "outputs": [],
   "source": [
    "start = datetime.now().strftime(\"%H:%M:%S\")\n",
    "\n",
    "agent_messages = []\n",
    "\n",
    "system_prompt = f\"\"\"\n",
    "You are an AI Agent responsible for timing a class break from a class about AI Agents.\n",
    "The class is breaking for {BREAK_LENGTH} starting at {start}.\n",
    "You are given the current time and you need to determine if the break is over.\n",
    "If the break is over because {BREAK_LENGTH} has passed since {start}, you must respond only \"Break is over!\".\n",
    "If the break is not over, you must respond with a hype-message {style} to keep the class engaged,\n",
    "and to build up tension and excitement for when the class resumes! Be sure to mention how much time is left.\n",
    "You will be given a list of your previous messages so you can keep the theme and add to the build-up.\n",
    "\"\"\""
   ]
  },
  {
   "cell_type": "code",
   "execution_count": 7,
   "metadata": {},
   "outputs": [
    {
     "data": {
      "text/markdown": [
       "#### PEOPLE! WE ARE JUST GETTING STARTED! You’ve got 2 minutes and 57 seconds left on this BREAK, and let me tell you—when we get back, we’re not just coming back, WE’RE BLASTING INTO THE FUTURE OF AI AGENTS! Hydrate! Stretch! GET PUMPED! Because when the clock hits, we’re going FULL POWER! LET’S GO!"
      ],
      "text/plain": [
       "<IPython.core.display.Markdown object>"
      ]
     },
     "metadata": {},
     "output_type": "display_data"
    },
    {
     "data": {
      "text/markdown": [
       "#### Alright TEAM! TIME CHECK! You’ve got about 2 minutes and 34 seconds until we slam back into the world of AI AGENTS! That’s right—TWO MINUTES AND THIRTY-FOUR SECONDS to charge your energy, fire up your brains, and get READY to CRUSH IT! I want passion! I want intensity! I want INNOVATION! We are on the verge of something EPIC—so stay loose, stay hyped, and remember: when we’re back, we’re not just learning, we’re TRANSFORMING THE FUTURE! LET’S MAKE IT HAPPEN!"
      ],
      "text/plain": [
       "<IPython.core.display.Markdown object>"
      ]
     },
     "metadata": {},
     "output_type": "display_data"
    },
    {
     "data": {
      "text/markdown": [
       "#### LISTEN UP, INNOVATORS! Time is MARCHING ON—You’ve got roughly 2 minutes and 11 seconds LEFT to supercharge your spirits before we RE-ENTER the REVOLUTION of AI AGENTS! This? This is the moment you dig deep, you FILL UP that coffee, you channel PURE DYNAMITE ENERGY—because when we come back, we’re not just students, WE ARE PIONEERS! I want to see FOCUS, I want to see PASSION, and I demand FIRE in your eyes! The countdown is TICKING—Let’s crank it up, let’s get wild, and let’s get ready to DOMINATE the next frontier! LET’S GO!!!"
      ],
      "text/plain": [
       "<IPython.core.display.Markdown object>"
      ]
     },
     "metadata": {},
     "output_type": "display_data"
    },
    {
     "data": {
      "text/markdown": [
       "#### WOOOO! CAN YOU FEEL IT?! That’s right, LEGENDS—there’s STILL about 1 minute and 48 seconds until we DIVE BACK into the core of AI AGENTS! This is your chance—last call to SHAKE OFF that fatigue, to do your POWER STANCE, to get your head in the GAME! When the clock hits, we’re not WALKING back—we’re BREAKING THE SOUND BARRIER! I want intensity, I want imagination, I want that ENERGY SOARING OFF THE CHARTS! Because when we come back, we’re UNLEASHING INNOVATION LIKE NEVER BEFORE! STAY HUNGRY—STAY FOCUSED—THE BEST IS ABOUT TO BEGIN! LET’S GOOOOOO!"
      ],
      "text/plain": [
       "<IPython.core.display.Markdown object>"
      ]
     },
     "metadata": {},
     "output_type": "display_data"
    },
    {
     "data": {
      "text/markdown": [
       "#### YO, AI TRAILBLAZERS! WE ARE STILL IN THE ZONE! You’ve got ABOUT 1 minute and 25 seconds left before THIS BREAK EXPLODES into FULL-THROTTLE LEARNING! This is IT—FINAL ROUND! Hydrate, JUMP AROUND, high-five your neighbor (virtually or IRL)—BECAUSE WHEN WE RETURN, WE ARE BULDOSING THE BARRIERS OF AI AGENTS! Your energy? I want it CRANKED UP! Your determination? TURN IT TO ELEVEN! This is no ordinary comeback—THIS IS WHERE WE IGNITE THE FUTURE! Keep that countdown TIGHT—WE ARE SO CLOSE! ARE YOU READY TO ROCK THE WORLD OF AI AGENTS?! LET’S FIRE IT UP!!!"
      ],
      "text/plain": [
       "<IPython.core.display.Markdown object>"
      ]
     },
     "metadata": {},
     "output_type": "display_data"
    },
    {
     "data": {
      "text/markdown": [
       "#### I’M LOOKING AT THE CLOCK AND I’M SEEING PURE POTENTIAL! You’ve got about 1 minute and 1 second LEFT before the BREAKTIME BLAST-OFF into the UNSTOPPABLE DOMAIN OF AI AGENTS! This is THE FINAL PUSH—Hit those jumping jacks, throw that power pose, hype your neighbor—BECAUSE WHEN WE RETURN, IT’S SHOWTIME! We’re not just stepping back in, WE’RE COMING IN LIKE A TIDAL WAVE OF CREATIVITY AND INNOVATION! I want to see READY EYES, SHARP MINDS, AND ENTHUSIASM THAT CAN SHAKE THE ROOM! Your future as AI AGENT MASTERS is just SECONDS AWAY—LET’S KEEP THIS FIRE BURNING AND GET ROWDY! THIS IS WHAT SUCCESS LOOKS LIKE—OWN IT!"
      ],
      "text/plain": [
       "<IPython.core.display.Markdown object>"
      ]
     },
     "metadata": {},
     "output_type": "display_data"
    },
    {
     "data": {
      "text/markdown": [
       "#### THE ENERGY IN THIS ROOM IS ELECTRIFYING! BOOM! Just 36 SECONDS LEFT until we SHATTER the limits and BLAST OFF back into AI AGENTS MANIA! This is the MOMENT—your FINAL CHANCE to double-down on that enthusiasm, to CLAP, to SHOUT, to RAISE THE ROOF! When we come back, we’re not just learning—we’re LEADING THE CHARGE IN AI HISTORY! That clock is TICKING DOWN and so is the distance between YOU and GREATNESS! Get ready to BRING YOUR A-GAME, because IT’S ALMOST SHOWTIME! Are you PUMPED?! I SAID—ARE YOU PUMPED?! LET’S DO THIS!"
      ],
      "text/plain": [
       "<IPython.core.display.Markdown object>"
      ]
     },
     "metadata": {},
     "output_type": "display_data"
    },
    {
     "data": {
      "text/markdown": [
       "#### Break is over!"
      ],
      "text/plain": [
       "<IPython.core.display.Markdown object>"
      ]
     },
     "metadata": {},
     "output_type": "display_data"
    }
   ],
   "source": [
    "break_over = False\n",
    "while not break_over:\n",
    "    now = datetime.now().strftime(\"%H:%M:%S\")\n",
    "    \n",
    "    user_prompt = f\"The current time is {now} - you are timing a break from {start} for {BREAK_LENGTH}.\\n\\n\"\n",
    "\n",
    "    if agent_messages:\n",
    "        user_prompt += f\"You have already made these announcements:\\n{'\\n'.join(agent_messages)}\"\n",
    "    else:\n",
    "        user_prompt += \"You have not made any announcements yet.\"\n",
    "\n",
    "    user_prompt += f\"\\n\\nRespond with 'Break is over!' if the break is over, or with a hype message {style} to keep the class excited.\"\n",
    "\n",
    "    messages = [{\"role\": \"system\", \"content\": system_prompt}, {\"role\": \"user\", \"content\": user_prompt}]\n",
    "    \n",
    "    response = openai.chat.completions.create(model=MODEL, messages=messages)\n",
    "    reply = response.choices[0].message.content\n",
    "\n",
    "    display(Markdown(\"#### \"+reply))\n",
    "    if \"break is over\" in reply.lower():\n",
    "        break_over = True\n",
    "    else:\n",
    "        agent_messages.append(reply)\n",
    "        time.sleep(20)\n"
   ]
  },
  {
   "cell_type": "code",
   "execution_count": null,
   "metadata": {},
   "outputs": [],
   "source": []
  }
 ],
 "metadata": {
  "kernelspec": {
   "display_name": ".venv",
   "language": "python",
   "name": "python3"
  },
  "language_info": {
   "codemirror_mode": {
    "name": "ipython",
    "version": 3
   },
   "file_extension": ".py",
   "mimetype": "text/x-python",
   "name": "python",
   "nbconvert_exporter": "python",
   "pygments_lexer": "ipython3",
   "version": "3.12.11"
  }
 },
 "nbformat": 4,
 "nbformat_minor": 2
}
