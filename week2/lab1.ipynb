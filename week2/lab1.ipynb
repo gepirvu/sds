{
 "cells": [
  {
   "cell_type": "markdown",
   "metadata": {},
   "source": [
    "# Welcome to Core Session 2!\n",
    "\n",
    "## AGENDA\n",
    "\n",
    "1. LLMs and APIs - conclusion  \n",
    "  - Review of Week 1 via LiteLLM  \n",
    "  - Leaderboards: costs, context windows and capabilities  \n",
    "  - APIs at scale: Prompt caching & Batch APIs  \n",
    "2. Tools\n",
    "  - Exploring Tools Use aka Function Calling\n",
    "  - The FlightAI Airline Chatbot equipped with Tools\n",
    "  - Tools + SQL\n",
    "3. Introducing the Digital Twin\n",
    "  - Context\n",
    "  - Tools\n",
    "  - Assignments: security / prompt hardening; rate-limiting; adding RAG\n",
    "\n",
    "## New Approach\n",
    "\n",
    "- Interactive\n",
    "- More coding\n",
    "- Fewer slides..."
   ]
  },
  {
   "cell_type": "code",
   "execution_count": 3,
   "metadata": {},
   "outputs": [],
   "source": [
    "# What is the meaning of life?\n",
    "from dotenv import load_dotenv\n",
    "from openai import OpenAI\n",
    "load_dotenv()\n",
    "\n",
    "client = OpenAI()\n",
    "\n",
    "\n"
   ]
  },
  {
   "cell_type": "code",
   "execution_count": 4,
   "metadata": {},
   "outputs": [
    {
     "name": "stdout",
     "output_type": "stream",
     "text": [
      "The meaning of life is a profound philosophical question that has been explored by thinkers throughout history. Different cultures, religions, and individuals offer various perspectives. Here are some common viewpoints:\n",
      "\n",
      "1. **Philosophical Perspectives**: Philosophers like existentialists argue that life has no inherent meaning and that individuals must create their own purpose through choices and actions.\n",
      "\n",
      "2. **Religious Views**: Many religions provide specific answers, often involving the belief in a higher power or the fulfillment of a divine purpose. For example, in Christianity, the meaning may involve serving God and loving others, while in Buddhism, it might be about achieving enlightenment.\n",
      "\n",
      "3. **Scientific Perspectives**: Some people find meaning through understanding the universe and our place within it, often related to concepts of evolution, consciousness, and the interconnectedness of life.\n",
      "\n",
      "4. **Personal Fulfillment**: Many argue that personal happiness, relationships, love, creativity, and contributing to society provide meaning. This perspective emphasizes individual experience and fulfillment.\n",
      "\n",
      "Ultimately, the meaning of life may differ from person to person, shaped by individual experiences, beliefs, and values. It's a question that invites reflection and personal interpretation.\n"
     ]
    }
   ],
   "source": [
    "# And now try Command+K\n",
    "system_prompt = \"You are a helpful assistant.\"\n",
    "user_prompt = \"What is the meaning of life?\"\n",
    "\n",
    "response = client.chat.completions.create(\n",
    "    model=\"gpt-4o-mini\",\n",
    "    messages=[\n",
    "        {\"role\": \"system\", \"content\": system_prompt},\n",
    "        {\"role\": \"user\", \"content\": user_prompt}\n",
    "    ]\n",
    ")\n",
    "\n",
    "print(response.choices[0].message.content)\n",
    "\n",
    "\n",
    "\n"
   ]
  }
 ],
 "metadata": {
  "kernelspec": {
   "display_name": ".venv",
   "language": "python",
   "name": "python3"
  },
  "language_info": {
   "codemirror_mode": {
    "name": "ipython",
    "version": 3
   },
   "file_extension": ".py",
   "mimetype": "text/x-python",
   "name": "python",
   "nbconvert_exporter": "python",
   "pygments_lexer": "ipython3",
   "version": "3.12.11"
  }
 },
 "nbformat": 4,
 "nbformat_minor": 2
}
