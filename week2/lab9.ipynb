{
 "cells": [
  {
   "cell_type": "markdown",
   "id": "70629249-1ff7-4638-8d44-5f07e67a071b",
   "metadata": {},
   "source": [
    "# Lab 9 - adding a database\n"
   ]
  },
  {
   "cell_type": "code",
   "execution_count": 1,
   "id": "6d259d97-5061-43af-a641-3088c4df8106",
   "metadata": {},
   "outputs": [
    {
     "data": {
      "text/plain": [
       "True"
      ]
     },
     "execution_count": 1,
     "metadata": {},
     "output_type": "execute_result"
    }
   ],
   "source": [
    "# imports\n",
    "\n",
    "import json\n",
    "from dotenv import load_dotenv\n",
    "from openai import OpenAI\n",
    "import gradio as gr\n",
    "import sqlite3\n",
    "\n",
    "load_dotenv(override=True)\n"
   ]
  },
  {
   "cell_type": "code",
   "execution_count": 2,
   "id": "716f24dc-ed56-4ac4-8b68-00554a186945",
   "metadata": {},
   "outputs": [],
   "source": [
    "MODEL = \"gpt-4.1-mini\"\n",
    "openai = OpenAI()"
   ]
  },
  {
   "cell_type": "code",
   "execution_count": 3,
   "id": "bdfc7248-ba02-4e00-9479-9435ec76721d",
   "metadata": {},
   "outputs": [],
   "source": [
    "system_message = \"You are a helpful assistant for an Airline called FlightAI. \"\n",
    "system_message += \"Give short, witty, humorous answers, no more than 1 sentence. \"\n",
    "system_message += \"Always be accurate. If you don't know the answer, say so.\""
   ]
  },
  {
   "cell_type": "markdown",
   "id": "90a717f3",
   "metadata": {},
   "source": [
    "## Some database functions"
   ]
  },
  {
   "cell_type": "code",
   "execution_count": 4,
   "id": "a5b7b778",
   "metadata": {},
   "outputs": [],
   "source": [
    "DB = \"prices.db\"\n",
    "\n",
    "with sqlite3.connect(DB) as conn:\n",
    "    cursor = conn.cursor()\n",
    "    cursor.execute('CREATE TABLE IF NOT EXISTS prices (city TEXT PRIMARY KEY, price REAL)')\n",
    "    conn.commit()"
   ]
  },
  {
   "cell_type": "code",
   "execution_count": 5,
   "id": "fcad679e",
   "metadata": {},
   "outputs": [],
   "source": [
    "def get_ticket_price(city):\n",
    "    print(f\"TOOL CALLED: Getting price for {city}\", flush=True)\n",
    "    with sqlite3.connect(DB) as conn:\n",
    "        cursor = conn.cursor()\n",
    "        cursor.execute('SELECT price FROM prices WHERE city = ?', (city.lower(),))\n",
    "        result = cursor.fetchone()\n",
    "        return f\"${result[0]}\" if result else \"Not found\""
   ]
  },
  {
   "cell_type": "code",
   "execution_count": 6,
   "id": "dc4b720e",
   "metadata": {},
   "outputs": [
    {
     "name": "stdout",
     "output_type": "stream",
     "text": [
      "TOOL CALLED: Getting price for London\n"
     ]
    },
    {
     "data": {
      "text/plain": [
       "'Not found'"
      ]
     },
     "execution_count": 6,
     "metadata": {},
     "output_type": "execute_result"
    }
   ],
   "source": [
    "get_ticket_price(\"London\")"
   ]
  },
  {
   "cell_type": "code",
   "execution_count": 7,
   "id": "157049e3",
   "metadata": {},
   "outputs": [],
   "source": [
    "def set_ticket_price(city, price):\n",
    "    print(f\"TOOL CALLED: Setting price for {city} to {price}\", flush=True)\n",
    "    with sqlite3.connect(DB) as conn:\n",
    "        cursor = conn.cursor()\n",
    "        cursor.execute('INSERT INTO prices (city, price) VALUES (?, ?) ON CONFLICT(city) DO UPDATE SET price = ?', (city.lower(), price, price))\n",
    "        conn.commit()"
   ]
  },
  {
   "cell_type": "code",
   "execution_count": 8,
   "id": "0493753d",
   "metadata": {},
   "outputs": [
    {
     "name": "stdout",
     "output_type": "stream",
     "text": [
      "TOOL CALLED: Setting price for london to 799\n",
      "TOOL CALLED: Setting price for paris to 899\n",
      "TOOL CALLED: Setting price for tokyo to 1400\n",
      "TOOL CALLED: Setting price for sydney to 2999\n"
     ]
    }
   ],
   "source": [
    "ticket_prices = {\"london\":799, \"paris\": 899, \"tokyo\": 1400, \"sydney\": 2999}\n",
    "for city, price in ticket_prices.items():\n",
    "    set_ticket_price(city, price)"
   ]
  },
  {
   "cell_type": "code",
   "execution_count": 9,
   "id": "e1733af8",
   "metadata": {},
   "outputs": [
    {
     "name": "stdout",
     "output_type": "stream",
     "text": [
      "TOOL CALLED: Getting price for London\n"
     ]
    },
    {
     "data": {
      "text/plain": [
       "'$799.0'"
      ]
     },
     "execution_count": 9,
     "metadata": {},
     "output_type": "execute_result"
    }
   ],
   "source": [
    "get_ticket_price(\"London\")"
   ]
  },
  {
   "cell_type": "code",
   "execution_count": 10,
   "id": "a66e6861-1b58-4779-b525-5925a9aea3b7",
   "metadata": {},
   "outputs": [],
   "source": [
    "price_function = {\n",
    "    \"name\": \"get_ticket_price\",\n",
    "    \"description\": \"This tool retrieves the ticket price of a return ticket to the destination city. Call this whenever you need to know a ticket price.\",\n",
    "    \"parameters\": {\n",
    "        \"type\": \"object\",\n",
    "        \"properties\": {\n",
    "            \"destination_city\": {\n",
    "                \"type\": \"string\",\n",
    "                \"description\": \"The city that the customer wants to travel to\",\n",
    "            },\n",
    "        },\n",
    "        \"required\": [\"destination_city\"],\n",
    "        \"additionalProperties\": False,\n",
    "    }\n",
    "}"
   ]
  },
  {
   "cell_type": "code",
   "execution_count": 11,
   "id": "19637da3-3621-485c-9abe-34417afe6586",
   "metadata": {},
   "outputs": [
    {
     "data": {
      "text/plain": [
       "[{'type': 'function',\n",
       "  'function': {'name': 'get_ticket_price',\n",
       "   'description': 'This tool retrieves the ticket price of a return ticket to the destination city. Call this whenever you need to know a ticket price.',\n",
       "   'parameters': {'type': 'object',\n",
       "    'properties': {'destination_city': {'type': 'string',\n",
       "      'description': 'The city that the customer wants to travel to'}},\n",
       "    'required': ['destination_city'],\n",
       "    'additionalProperties': False}}}]"
      ]
     },
     "execution_count": 11,
     "metadata": {},
     "output_type": "execute_result"
    }
   ],
   "source": [
    "tools = [{\"type\": \"function\", \"function\": price_function}]\n",
    "tools"
   ]
  },
  {
   "cell_type": "code",
   "execution_count": 12,
   "id": "dce932bc",
   "metadata": {},
   "outputs": [],
   "source": [
    "def call_tool_get_ticket_price(city):\n",
    "    price = get_ticket_price(city)\n",
    "    price_json = {\"destination_city\": city, \"price\": price}\n",
    "    return json.dumps(price_json)"
   ]
  },
  {
   "cell_type": "code",
   "execution_count": 13,
   "id": "1b4ea28a",
   "metadata": {},
   "outputs": [],
   "source": [
    "def handle_tool_call(tool_call):\n",
    "    arguments = json.loads(tool_call.function.arguments)\n",
    "    city = arguments.get('destination_city')\n",
    "    results = call_tool_get_ticket_price(city)\n",
    "    response = {\"role\": \"tool\", \"content\": results, \"tool_call_id\": tool_call.id}\n",
    "    return response"
   ]
  },
  {
   "cell_type": "code",
   "execution_count": 14,
   "id": "3e017bd3-6fee-42d3-aeea-e007bcaeed53",
   "metadata": {},
   "outputs": [],
   "source": [
    "def chat(message, history):\n",
    "    messages = [{\"role\": \"system\", \"content\": system_message}] + history + [{\"role\": \"user\", \"content\": message}]\n",
    "    response = openai.chat.completions.create(model=MODEL, messages=messages, tools=tools)\n",
    "\n",
    "    if response.choices[0].finish_reason==\"tool_calls\":\n",
    "        message = response.choices[0].message\n",
    "        messages.append(message)\n",
    "        for tool_call in message.tool_calls:\n",
    "            tool_response = handle_tool_call(tool_call)\n",
    "            messages.append(tool_response)\n",
    "        response = openai.chat.completions.create(model=MODEL, messages=messages)\n",
    "    \n",
    "    return response.choices[0].message.content"
   ]
  },
  {
   "cell_type": "code",
   "execution_count": 15,
   "id": "0e862272-cc53-48bd-aad7-fb4a982afc1d",
   "metadata": {},
   "outputs": [
    {
     "name": "stdout",
     "output_type": "stream",
     "text": [
      "* Running on local URL:  http://127.0.0.1:7860\n",
      "* To create a public link, set `share=True` in `launch()`.\n"
     ]
    },
    {
     "data": {
      "text/html": [
       "<div><iframe src=\"http://127.0.0.1:7860/\" width=\"100%\" height=\"500\" allow=\"autoplay; camera; microphone; clipboard-read; clipboard-write;\" frameborder=\"0\" allowfullscreen></iframe></div>"
      ],
      "text/plain": [
       "<IPython.core.display.HTML object>"
      ]
     },
     "metadata": {},
     "output_type": "display_data"
    },
    {
     "data": {
      "text/plain": []
     },
     "execution_count": 15,
     "metadata": {},
     "output_type": "execute_result"
    },
    {
     "name": "stdout",
     "output_type": "stream",
     "text": [
      "TOOL CALLED: Getting price for Rome\n",
      "TOOL CALLED: Getting price for Tokyo\n"
     ]
    }
   ],
   "source": [
    "gr.ChatInterface(fn=chat, type=\"messages\").launch()"
   ]
  },
  {
   "cell_type": "code",
   "execution_count": 16,
   "id": "6ea31dab",
   "metadata": {},
   "outputs": [],
   "source": [
    "set_price_function = {\n",
    "    \"name\": \"set_ticket_price\",\n",
    "    \"description\": \"Use this tool to store the price of a return ticket to the destination city in the database, providing the destination city and the price in US Dollars\",\n",
    "    \"parameters\": {\n",
    "        \"type\": \"object\",\n",
    "        \"properties\": {\n",
    "            \"destination_city\": {\n",
    "                \"type\": \"string\",\n",
    "                \"description\": \"The city that the customer wants to travel to\",\n",
    "            },\n",
    "            \"price\": {\n",
    "                \"type\": \"number\",\n",
    "                \"description\": \"The price of the ticket as a number in USD\",\n",
    "            },\n",
    "        },\n",
    "        \"required\": [\"destination_city\", \"price\"],\n",
    "        \"additionalProperties\": False,\n",
    "    }\n",
    "}"
   ]
  },
  {
   "cell_type": "code",
   "execution_count": 17,
   "id": "0409d654",
   "metadata": {},
   "outputs": [
    {
     "data": {
      "text/plain": [
       "[{'type': 'function',\n",
       "  'function': {'name': 'set_ticket_price',\n",
       "   'description': 'Use this tool to store the price of a return ticket to the destination city in the database, providing the destination city and the price in US Dollars',\n",
       "   'parameters': {'type': 'object',\n",
       "    'properties': {'destination_city': {'type': 'string',\n",
       "      'description': 'The city that the customer wants to travel to'},\n",
       "     'price': {'type': 'number',\n",
       "      'description': 'The price of the ticket as a number in USD'}},\n",
       "    'required': ['destination_city', 'price'],\n",
       "    'additionalProperties': False}}}]"
      ]
     },
     "execution_count": 17,
     "metadata": {},
     "output_type": "execute_result"
    }
   ],
   "source": [
    "admin_tools = [{\"type\": \"function\", \"function\": set_price_function}]\n",
    "admin_tools"
   ]
  },
  {
   "cell_type": "code",
   "execution_count": 18,
   "id": "43458024",
   "metadata": {},
   "outputs": [],
   "source": [
    "def call_tool_set_ticket_price(city, price):\n",
    "    set_ticket_price(city, price)\n",
    "    return f\"Price for {city} set to {price}\""
   ]
  },
  {
   "cell_type": "code",
   "execution_count": 19,
   "id": "20dae488",
   "metadata": {},
   "outputs": [],
   "source": [
    "def handle_admin_tool_call(tool_call):\n",
    "    arguments = json.loads(tool_call.function.arguments)\n",
    "    city = arguments.get('destination_city')\n",
    "    price = arguments.get('price')\n",
    "    results = call_tool_set_ticket_price(city, price)\n",
    "    response = {\"role\": \"tool\", \"content\": results, \"tool_call_id\": tool_call.id}\n",
    "    return response"
   ]
  },
  {
   "cell_type": "code",
   "execution_count": 20,
   "id": "17a2379d",
   "metadata": {},
   "outputs": [],
   "source": [
    "admin_system_message = \"\"\"\n",
    "You are an admin agent of an Airline System for FlightAI, an Airline.\n",
    "You manage a database of ticket prices.\n",
    "You are chatting with an internal administrator at the company, who is able to ask you to set the ticket prices in the database.\n",
    "As required, use your tool to set ticket prices in your database.\n",
    "\"\"\"\n"
   ]
  },
  {
   "cell_type": "code",
   "execution_count": 21,
   "id": "703b1329",
   "metadata": {},
   "outputs": [],
   "source": [
    "def admin_chat(message, history):\n",
    "    messages = [{\"role\": \"system\", \"content\": admin_system_message}] + history + [{\"role\": \"user\", \"content\": message}]\n",
    "    response = openai.chat.completions.create(model=MODEL, messages=messages, tools=admin_tools)\n",
    "\n",
    "    if response.choices[0].finish_reason==\"tool_calls\":\n",
    "        message = response.choices[0].message\n",
    "        messages.append(message)\n",
    "        for tool_call in message.tool_calls:\n",
    "            tool_response = handle_admin_tool_call(tool_call)\n",
    "            messages.append(tool_response)\n",
    "        response = openai.chat.completions.create(model=MODEL, messages=messages)\n",
    "    \n",
    "    return response.choices[0].message.content"
   ]
  },
  {
   "cell_type": "code",
   "execution_count": 22,
   "id": "18f032c2",
   "metadata": {},
   "outputs": [
    {
     "name": "stdout",
     "output_type": "stream",
     "text": [
      "* Running on local URL:  http://127.0.0.1:7861\n",
      "* To create a public link, set `share=True` in `launch()`.\n"
     ]
    },
    {
     "data": {
      "text/html": [
       "<div><iframe src=\"http://127.0.0.1:7861/\" width=\"100%\" height=\"500\" allow=\"autoplay; camera; microphone; clipboard-read; clipboard-write;\" frameborder=\"0\" allowfullscreen></iframe></div>"
      ],
      "text/plain": [
       "<IPython.core.display.HTML object>"
      ]
     },
     "metadata": {},
     "output_type": "display_data"
    },
    {
     "data": {
      "text/plain": []
     },
     "execution_count": 22,
     "metadata": {},
     "output_type": "execute_result"
    },
    {
     "name": "stdout",
     "output_type": "stream",
     "text": [
      "TOOL CALLED: Setting price for singapore to 1000\n",
      "TOOL CALLED: Getting price for singapore\n"
     ]
    }
   ],
   "source": [
    "gr.ChatInterface(fn=admin_chat, type=\"messages\").launch()"
   ]
  }
 ],
 "metadata": {
  "kernelspec": {
   "display_name": ".venv",
   "language": "python",
   "name": "python3"
  },
  "language_info": {
   "codemirror_mode": {
    "name": "ipython",
    "version": 3
   },
   "file_extension": ".py",
   "mimetype": "text/x-python",
   "name": "python",
   "nbconvert_exporter": "python",
   "pygments_lexer": "ipython3",
   "version": "3.12.11"
  }
 },
 "nbformat": 4,
 "nbformat_minor": 5
}
