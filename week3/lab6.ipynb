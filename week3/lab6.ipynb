{
 "cells": [
  {
   "cell_type": "markdown",
   "metadata": {},
   "source": [
    "# Lab 6 - Coder Agent\n",
    "\n",
    "A coder agent doesn't necessarily mean that it generates code - but more broadly that it can write code and run it in order to solve a task."
   ]
  },
  {
   "cell_type": "code",
   "execution_count": 1,
   "metadata": {},
   "outputs": [],
   "source": [
    "from agents import Agent, Runner, trace, function_tool\n",
    "import docker\n",
    "import tempfile\n",
    "import os"
   ]
  },
  {
   "cell_type": "code",
   "execution_count": 3,
   "metadata": {},
   "outputs": [],
   "source": [
    "docker_client = docker.from_env()\n",
    "image = \"python:3.12-slim\""
   ]
  },
  {
   "cell_type": "code",
   "execution_count": null,
   "metadata": {},
   "outputs": [],
   "source": [
    "docker_client.containers.run(image=\"python:3.12-slim\",\n",
    "                             command=[\"python\", \"-c\", \"print(2+2)\"],\n",
    "                             remove=True)"
   ]
  },
  {
   "cell_type": "code",
   "execution_count": 11,
   "metadata": {},
   "outputs": [],
   "source": [
    "@function_tool\n",
    "def execute_python(code: str) -> str:\n",
    "    \"\"\"\n",
    "    Execute the given Python code inside a Docker container with python:3.12-slim,\n",
    "    and return whatever is printed to stdout.\n",
    "    You must print the result of the code to stdout in order to retrieve it.\n",
    "    This uses the python:3.12-slim image and so it does not have scientific libraries installed;\n",
    "    write simple python 3.12 code using the standard library only. Do not use numpy or scipy.\n",
    "\n",
    "    Args:\n",
    "        code: The Python code to run.\n",
    "\n",
    "    \"\"\"\n",
    "    print(f\"Executing code: {code}\")\n",
    "    with tempfile.TemporaryDirectory() as tmpdir:\n",
    "        script_path = os.path.join(tmpdir, \"script.py\")\n",
    "        with open(script_path, \"w\") as f:\n",
    "            f.write(code)\n",
    "        logs = docker_client.containers.run(\n",
    "            image=image,\n",
    "            command=[\"python\", \"/tmp/script.py\"],\n",
    "            volumes={tmpdir: {\"bind\": \"/tmp\", \"mode\": \"ro\"}},\n",
    "            remove=True, \n",
    "            stdout=True,\n",
    "            stderr=True,\n",
    "        )\n",
    "    result = logs.decode(\"utf-8\")\n",
    "    print(f\"Result: {result}\")\n",
    "    return result"
   ]
  },
  {
   "cell_type": "code",
   "execution_count": null,
   "metadata": {},
   "outputs": [],
   "source": [
    "execute_python.description"
   ]
  },
  {
   "cell_type": "code",
   "execution_count": 13,
   "metadata": {},
   "outputs": [],
   "source": [
    "instructions = \"\"\"\n",
    "You are a Coder Agent that writes python, uses a tool to execute the code, and returns the results,\n",
    "in order to solve the user's problem.\n",
    "\"\"\"\n",
    "\n",
    "input = \"\"\"\n",
    "Write a python function to calculate the price of an option using the Black-Scholes model.\n",
    "Then use your tool to execute the code and calculate the price of this option:\n",
    "GOOGL\n",
    "Stock Price: 150\n",
    "Strike Price: 155\n",
    "Time to maturity: 3 years\n",
    "Risk free rate: 1%\n",
    "Volatility: 20%\n",
    "Dividend Yield: 0%\n",
    "Respond with the calculated price of the option only.\n",
    "\"\"\""
   ]
  },
  {
   "cell_type": "code",
   "execution_count": null,
   "metadata": {},
   "outputs": [],
   "source": [
    "\n",
    "agent = Agent(\"Coder Agent\", model=\"gpt-4.1-mini\", instructions=instructions, tools=[execute_python])\n",
    "\n",
    "with trace(\"Coder Agent\"):\n",
    "    result = await Runner.run(agent, input)\n",
    "    print(result.final_output)"
   ]
  },
  {
   "cell_type": "code",
   "execution_count": null,
   "metadata": {},
   "outputs": [],
   "source": []
  }
 ],
 "metadata": {
  "kernelspec": {
   "display_name": ".venv",
   "language": "python",
   "name": "python3"
  },
  "language_info": {
   "codemirror_mode": {
    "name": "ipython",
    "version": 3
   },
   "file_extension": ".py",
   "mimetype": "text/x-python",
   "name": "python",
   "nbconvert_exporter": "python",
   "pygments_lexer": "ipython3",
   "version": "3.12.9"
  }
 },
 "nbformat": 4,
 "nbformat_minor": 2
}
