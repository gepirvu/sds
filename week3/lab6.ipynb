{
 "cells": [
  {
   "cell_type": "markdown",
   "metadata": {},
   "source": [
    "# Lab 6 - Coder Agent\n",
    "\n",
    "A coder agent doesn't necessarily mean that it generates code - but more broadly that it can write code and run it in order to solve a task."
   ]
  },
  {
   "cell_type": "code",
   "execution_count": 3,
   "metadata": {},
   "outputs": [],
   "source": [
    "from agents import Agent, Runner, trace, function_tool\n",
    "import docker\n",
    "import tempfile\n",
    "import os"
   ]
  },
  {
   "cell_type": "code",
   "execution_count": 8,
   "metadata": {},
   "outputs": [],
   "source": [
    "docker_client = docker.from_env()\n",
    "image = \"python:3.12-slim\""
   ]
  },
  {
   "cell_type": "code",
   "execution_count": 9,
   "metadata": {},
   "outputs": [
    {
     "data": {
      "text/plain": [
       "b'4\\n'"
      ]
     },
     "execution_count": 9,
     "metadata": {},
     "output_type": "execute_result"
    }
   ],
   "source": [
    "docker_client.containers.run(image=\"python:3.12-slim\",\n",
    "                             command=[\"python\", \"-c\", \"print(2+2)\"],\n",
    "                             remove=True)"
   ]
  },
  {
   "cell_type": "code",
   "execution_count": 12,
   "metadata": {},
   "outputs": [],
   "source": [
    "@function_tool\n",
    "def execute_python(code: str) -> str:\n",
    "    \"\"\"\n",
    "    Execute the given Python code inside a Docker container with python:3.12-slim,\n",
    "    and return whatever is printed to stdout.\n",
    "    You must print the result of the code to stdout in order to retrieve it.\n",
    "    This uses the python:3.12-slim image and so it does not have scientific libraries installed;\n",
    "    write simple python 3.12 code using the standard library only. Do not use numpy or scipy.\n",
    "\n",
    "    Args:\n",
    "        code: The Python code to run.\n",
    "\n",
    "    \"\"\"\n",
    "    print(f\"Executing code: {code}\")\n",
    "    with tempfile.TemporaryDirectory() as tmpdir:\n",
    "        script_path = os.path.join(tmpdir, \"script.py\")\n",
    "        with open(script_path, \"w\") as f:\n",
    "            f.write(code)\n",
    "        logs = docker_client.containers.run(\n",
    "            image=image,\n",
    "            command=[\"python\", \"/tmp/script.py\"],\n",
    "            volumes={tmpdir: {\"bind\": \"/tmp\", \"mode\": \"ro\"}},\n",
    "            remove=True, \n",
    "            stdout=True,\n",
    "            stderr=True,\n",
    "        )\n",
    "    result = logs.decode(\"utf-8\")\n",
    "    print(f\"Result: {result}\")\n",
    "    return result"
   ]
  },
  {
   "cell_type": "code",
   "execution_count": 13,
   "metadata": {},
   "outputs": [
    {
     "data": {
      "text/plain": [
       "'Execute the given Python code inside a Docker container with python:3.12-slim,\\nand return whatever is printed to stdout.\\nYou must print the result of the code to stdout in order to retrieve it.\\nThis uses the python:3.12-slim image and so it does not have scientific libraries installed;\\nwrite simple python 3.12 code using the standard library only. Do not use numpy or scipy.'"
      ]
     },
     "execution_count": 13,
     "metadata": {},
     "output_type": "execute_result"
    }
   ],
   "source": [
    "execute_python.description"
   ]
  },
  {
   "cell_type": "code",
   "execution_count": 15,
   "metadata": {},
   "outputs": [],
   "source": [
    "instructions = \"\"\"\n",
    "You are a Coder Agent that writes python, uses a tool to execute the code, and returns the results,\n",
    "in order to solve the user's problem.\n",
    "\"\"\"\n",
    "\n",
    "input = \"\"\"\n",
    "Write a python function to calculate the price of an option using the Black-Scholes model.\n",
    "Then use your tool to execute the code and calculate the price of this call option:\n",
    "GOOGL\n",
    "Stock Price: 150\n",
    "Strike Price: 155\n",
    "Time to maturity: 3 years\n",
    "Risk free rate: 1%\n",
    "Volatility: 20%\n",
    "Dividend Yield: 0%\n",
    "Respond with the calculated price of the option only.\n",
    "\"\"\""
   ]
  },
  {
   "cell_type": "code",
   "execution_count": 16,
   "metadata": {},
   "outputs": [
    {
     "name": "stdout",
     "output_type": "stream",
     "text": [
      "Executing code: import math\n",
      "from math import log, sqrt, exp\n",
      "from math import erf\n",
      "\n",
      "def normal_cdf(x):\n",
      "    return (1.0 + erf(x / sqrt(2.0))) / 2.0\n",
      "\n",
      "def black_scholes_call_price(S, K, T, r, sigma, q=0.0):\n",
      "    d1 = (log(S / K) + (r - q + 0.5 * sigma**2) * T) / (sigma * sqrt(T))\n",
      "    d2 = d1 - sigma * sqrt(T)\n",
      "    call_price = (S * exp(-q * T) * normal_cdf(d1)) - (K * exp(-r * T) * normal_cdf(d2))\n",
      "    return call_price\n",
      "\n",
      "# Given data\n",
      "S = 150          # Stock price\n",
      "K = 155          # Strike price\n",
      "T = 3            # Time to maturity (years)\n",
      "r = 0.01         # Risk free rate\n",
      "sigma = 0.20     # Volatility\n",
      "q = 0.0          # Dividend Yield\n",
      "\n",
      "# Calculate call option price\n",
      "call_price = black_scholes_call_price(S, K, T, r, sigma, q)\n",
      "print(call_price)\n",
      "Result: 20.44641206078066\n",
      "\n",
      "The calculated price of the GOOGL call option is 20.45.\n"
     ]
    }
   ],
   "source": [
    "\n",
    "agent = Agent(\"Coder Agent\", model=\"gpt-4.1-mini\", instructions=instructions, tools=[execute_python])\n",
    "\n",
    "with trace(\"Coder Agent\"):\n",
    "    result = await Runner.run(agent, input)\n",
    "    print(result.final_output)"
   ]
  },
  {
   "cell_type": "code",
   "execution_count": null,
   "metadata": {},
   "outputs": [],
   "source": []
  }
 ],
 "metadata": {
  "kernelspec": {
   "display_name": ".venv",
   "language": "python",
   "name": "python3"
  },
  "language_info": {
   "codemirror_mode": {
    "name": "ipython",
    "version": 3
   },
   "file_extension": ".py",
   "mimetype": "text/x-python",
   "name": "python",
   "nbconvert_exporter": "python",
   "pygments_lexer": "ipython3",
   "version": "3.12.11"
  }
 },
 "nbformat": 4,
 "nbformat_minor": 2
}
