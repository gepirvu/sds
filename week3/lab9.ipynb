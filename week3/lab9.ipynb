{
 "cells": [
  {
   "cell_type": "code",
   "execution_count": 4,
   "metadata": {},
   "outputs": [
    {
     "name": "stdout",
     "output_type": "stream",
     "text": [
      "* Running on local URL:  http://127.0.0.1:7863\n",
      "* To create a public link, set `share=True` in `launch()`.\n"
     ]
    },
    {
     "data": {
      "text/html": [
       "<div><iframe src=\"http://127.0.0.1:7863/\" width=\"100%\" height=\"500\" allow=\"autoplay; camera; microphone; clipboard-read; clipboard-write;\" frameborder=\"0\" allowfullscreen></iframe></div>"
      ],
      "text/plain": [
       "<IPython.core.display.HTML object>"
      ]
     },
     "metadata": {},
     "output_type": "display_data"
    },
    {
     "data": {
      "text/plain": []
     },
     "execution_count": 4,
     "metadata": {},
     "output_type": "execute_result"
    }
   ],
   "source": [
    "import numpy as np\n",
    "import gradio as gr\n",
    "from agents import Agent\n",
    "from agents.voice import SingleAgentVoiceWorkflow, VoicePipeline, AudioInput\n",
    "\n",
    "agent = Agent(\n",
    "    name=\"Assistant\", \n",
    "    instructions=\"You are a helpful assistant\",\n",
    "    model=\"gpt-4o-mini\"\n",
    ")\n",
    "\n",
    "pipeline = VoicePipeline(workflow=SingleAgentVoiceWorkflow(agent))\n",
    "\n",
    "async def process_audio(audio_data):\n",
    "    if audio_data is None:\n",
    "        return None\n",
    "    \n",
    "    sr, audio_array = audio_data\n",
    "    audio_input = AudioInput(buffer=audio_array)\n",
    "    result = await pipeline.run(audio_input)\n",
    "    \n",
    "    # Collect audio chunks\n",
    "    audio_chunks = []\n",
    "    async for event in result.stream():\n",
    "        if event.type == \"voice_stream_event_audio\":\n",
    "            audio_chunks.append(event.data)\n",
    "    \n",
    "    # Combine audio chunks\n",
    "    if audio_chunks:\n",
    "        combined_audio = np.concatenate(audio_chunks)\n",
    "        return (24000, combined_audio)  # Return (sample_rate, audio_data)\n",
    "    \n",
    "    return None\n",
    "\n",
    "demo = gr.Interface(\n",
    "    fn=process_audio,\n",
    "    inputs=gr.Audio(sources=[\"microphone\"], type=\"numpy\"),\n",
    "    outputs=gr.Audio(type=\"numpy\"),\n",
    "    title=\"Voice Assistant\",\n",
    "    description=\"Speak into the microphone to chat with the AI assistant\"\n",
    ")\n",
    "\n",
    "demo.launch()"
   ]
  },
  {
   "cell_type": "code",
   "execution_count": null,
   "metadata": {},
   "outputs": [],
   "source": []
  }
 ],
 "metadata": {
  "kernelspec": {
   "display_name": ".venv",
   "language": "python",
   "name": "python3"
  },
  "language_info": {
   "codemirror_mode": {
    "name": "ipython",
    "version": 3
   },
   "file_extension": ".py",
   "mimetype": "text/x-python",
   "name": "python",
   "nbconvert_exporter": "python",
   "pygments_lexer": "ipython3",
   "version": "3.12.11"
  }
 },
 "nbformat": 4,
 "nbformat_minor": 2
}
