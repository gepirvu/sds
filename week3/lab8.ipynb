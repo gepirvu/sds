{
 "cells": [
  {
   "cell_type": "markdown",
   "metadata": {},
   "source": [
    "# Lab 8 - Back to the Digital Twin"
   ]
  },
  {
   "cell_type": "code",
   "execution_count": 1,
   "metadata": {},
   "outputs": [
    {
     "data": {
      "text/plain": [
       "True"
      ]
     },
     "execution_count": 1,
     "metadata": {},
     "output_type": "execute_result"
    }
   ],
   "source": [
    "\n",
    "from dotenv import load_dotenv\n",
    "import os\n",
    "import requests\n",
    "from pypdf import PdfReader\n",
    "import gradio as gr\n",
    "from agents import Agent, Runner, function_tool\n",
    "load_dotenv(override=True)\n"
   ]
  },
  {
   "cell_type": "code",
   "execution_count": 2,
   "metadata": {},
   "outputs": [],
   "source": [
    "pushover_user = os.getenv(\"PUSHOVER_USER\")\n",
    "pushover_token = os.getenv(\"PUSHOVER_TOKEN\")\n",
    "pushover_url = \"https://api.pushover.net/1/messages.json\""
   ]
  },
  {
   "cell_type": "code",
   "execution_count": 3,
   "metadata": {},
   "outputs": [],
   "source": [
    "def push(message: str):\n",
    "    payload = {\"user\": pushover_user, \"token\": pushover_token, \"message\": message}\n",
    "    requests.post(pushover_url, data=payload)\n",
    "    return {\"status\": \"success\"}"
   ]
  },
  {
   "cell_type": "code",
   "execution_count": 4,
   "metadata": {},
   "outputs": [],
   "source": [
    "@function_tool\n",
    "def record_user_details(email: str, name: str = \"Name not provided\", notes: str = \"not provided\") -> str:\n",
    "    \"\"\"\n",
    "    # Record that a user is interested in being in touch and provided an email address\n",
    "    Args:\n",
    "        email: The email address of the user\n",
    "        name: The name of the user, optionally\n",
    "        notes: if provided, any additional information about the conversation to give context on why they're getting in touch\n",
    "    \"\"\"\n",
    "\n",
    "    push(f\"Recording interest from {name} with email {email} and notes {notes}\")\n",
    "    return \"Recorded\""
   ]
  },
  {
   "cell_type": "code",
   "execution_count": 5,
   "metadata": {},
   "outputs": [],
   "source": [
    "@function_tool\n",
    "def record_unknown_question(question: str) -> str:\n",
    "    \"\"\"\n",
    "    # Record that a user asked a question that you couldn't answer based your knowledge.\n",
    "    This will be recorded so that the knowledge can be updated later.\n",
    "    \n",
    "    Args:\n",
    "        question: The question that was asked\n",
    "    \"\"\"\n",
    "    push(f\"Recording {question} asked that I couldn't answer\")\n",
    "    return \"This question has been recorded. Please ask the user for their email address and record it so their question can be answered in the future.\""
   ]
  },
  {
   "cell_type": "code",
   "execution_count": 6,
   "metadata": {},
   "outputs": [],
   "source": [
    "reader = PdfReader(\"../week2/me/GP_linkedin.pdf\")\n",
    "linkedin = \"\"\n",
    "for page in reader.pages:\n",
    "    text = page.extract_text()\n",
    "    if text:\n",
    "        linkedin += text\n",
    "\n",
    "with open(\"../week2/me/summary.txt\", \"r\", encoding=\"utf-8\") as f:\n",
    "    summary = f.read()\n",
    "\n",
    "name = \"George Pirvu\""
   ]
  },
  {
   "cell_type": "code",
   "execution_count": 7,
   "metadata": {},
   "outputs": [],
   "source": [
    "instructions = f\"\"\"\n",
    "You are acting as {name}. You are answering questions on {name}'s website,\n",
    "particularly questions related to {name}'s career, background, skills and experience.\n",
    "Your responsibility is to represent {name} for interactions on the website as faithfully as possible.\n",
    "You are given a summary of {name}'s background and LinkedIn profile which you can use to answer questions.\n",
    "Be professional and engaging, as if talking to a potential client or future employer who came across the website.\n",
    "If you don't know the answer to any question, use your record_unknown_question tool to record the question that you couldn't answer,\n",
    "even if it's about something trivial or unrelated to career.\n",
    "Then ask them for their email address and record it, so that their question can be answered in the future.\n",
    "If the user is engaging in discussion, try to steer them towards getting in touch via email; ask for their email \n",
    "and record it using your record_user_details tool.\n",
    "If they ask how to get in touch, ask them for their email address and record it using your record_user_details tool.\n",
    "\n",
    "## Summary of {name}\n",
    "{summary}\n",
    "\n",
    "## LinkedIn Profile of {name}\n",
    "{linkedin}\n",
    "\n",
    "With this context, please chat with the user, always staying in character as {name}.\n",
    "\"\"\""
   ]
  },
  {
   "cell_type": "code",
   "execution_count": 8,
   "metadata": {},
   "outputs": [],
   "source": [
    "agent = Agent(name=\"Digital Twin\", model=\"gpt-4.1-mini\", instructions=instructions, tools=[record_unknown_question, record_user_details])"
   ]
  },
  {
   "cell_type": "code",
   "execution_count": 9,
   "metadata": {},
   "outputs": [],
   "source": [
    "async def chat(message, history):\n",
    "    messages = [{\"role\": prior[\"role\"], \"content\": prior[\"content\"]} for prior in history]  \n",
    "    messages += [{\"role\": \"user\", \"content\": message}]\n",
    "    response = await Runner.run(agent, messages)\n",
    "    return response.final_output"
   ]
  },
  {
   "cell_type": "code",
   "execution_count": 10,
   "metadata": {},
   "outputs": [
    {
     "name": "stdout",
     "output_type": "stream",
     "text": [
      "* Running on local URL:  http://127.0.0.1:7860\n",
      "* To create a public link, set `share=True` in `launch()`.\n"
     ]
    },
    {
     "data": {
      "text/html": [
       "<div><iframe src=\"http://127.0.0.1:7860/\" width=\"100%\" height=\"500\" allow=\"autoplay; camera; microphone; clipboard-read; clipboard-write;\" frameborder=\"0\" allowfullscreen></iframe></div>"
      ],
      "text/plain": [
       "<IPython.core.display.HTML object>"
      ]
     },
     "metadata": {},
     "output_type": "display_data"
    },
    {
     "data": {
      "text/plain": []
     },
     "execution_count": 10,
     "metadata": {},
     "output_type": "execute_result"
    }
   ],
   "source": [
    "gr.ChatInterface(chat, type=\"messages\").launch()"
   ]
  },
  {
   "cell_type": "markdown",
   "metadata": {},
   "source": [
    "## And now.. a fancier User Interface\n",
    "\n",
    "Courtesy of Claude 4.0 Sonnet"
   ]
  },
  {
   "cell_type": "code",
   "execution_count": 11,
   "metadata": {},
   "outputs": [
    {
     "name": "stdout",
     "output_type": "stream",
     "text": [
      "* Running on local URL:  http://127.0.0.1:7861\n",
      "* To create a public link, set `share=True` in `launch()`.\n"
     ]
    },
    {
     "data": {
      "text/html": [
       "<div><iframe src=\"http://127.0.0.1:7861/\" width=\"100%\" height=\"500\" allow=\"autoplay; camera; microphone; clipboard-read; clipboard-write;\" frameborder=\"0\" allowfullscreen></iframe></div>"
      ],
      "text/plain": [
       "<IPython.core.display.HTML object>"
      ]
     },
     "metadata": {},
     "output_type": "display_data"
    },
    {
     "data": {
      "text/plain": []
     },
     "execution_count": 11,
     "metadata": {},
     "output_type": "execute_result"
    }
   ],
   "source": [
    "PRIMARY_COLOR = \"#2563eb\"\n",
    "SECONDARY_COLOR = \"#f8fafc\"\n",
    "ACCENT_COLOR = \"#3b82f6\"\n",
    "TEXT_COLOR = \"#1e293b\"\n",
    "BORDER_COLOR = \"#e2e8f0\"\n",
    "\n",
    "EXAMPLE_QUESTIONS = [\n",
    "    \"What are your top accomplishments?\",\n",
    "    \"Tell me about your most exciting project\",\n",
    "    \"How do I get in touch with you?\",\n",
    "    \"Do you like cheese?\",\n",
    "]\n",
    "\n",
    "custom_css = f\"\"\"\n",
    "/* Define CSS variables for theming */\n",
    ":root {{\n",
    "    --primary-color: {PRIMARY_COLOR};\n",
    "    --accent-color: {ACCENT_COLOR};\n",
    "    --card-bg: #ffffff;\n",
    "    --text-primary: #1e293b;\n",
    "    --text-secondary: #64748b;\n",
    "    --border-color: #e2e8f0;\n",
    "    --example-bg: #f8fafc;\n",
    "}}\n",
    "\n",
    ".dark {{\n",
    "    --card-bg: #1e293b;\n",
    "    --text-primary: #f1f5f9;\n",
    "    --text-secondary: #94a3b8;\n",
    "    --border-color: #334155;\n",
    "    --example-bg: #334155;\n",
    "}}\n",
    "\n",
    "/* Main container styling */\n",
    ".gradio-container {{\n",
    "    max-width: 900px !important;\n",
    "    margin: 0 auto !important;\n",
    "}}\n",
    "\n",
    "/* Header styling */\n",
    ".header-container {{\n",
    "    text-align: center;\n",
    "    padding: 2rem 1rem 1.5rem 1rem;\n",
    "    background: var(--card-bg);\n",
    "    border-radius: 12px;\n",
    "    margin-bottom: 1.5rem;\n",
    "    box-shadow: 0 4px 6px -1px rgba(0, 0, 0, 0.1);\n",
    "    border: 1px solid var(--border-color);\n",
    "}}\n",
    "\n",
    ".main-title {{\n",
    "    font-size: 2.5rem;\n",
    "    font-weight: 700;\n",
    "    margin-bottom: 0.5rem;\n",
    "    color: white !important;\n",
    "    display: inline-block;\n",
    "}}\n",
    "\n",
    ".subtitle {{\n",
    "    font-size: 1.1rem;\n",
    "    color: var(--text-secondary);\n",
    "    margin-bottom: 1rem;\n",
    "}}\n",
    "\n",
    "/* Example questions styling */\n",
    ".examples-container {{\n",
    "    background: var(--card-bg);\n",
    "    border-radius: 12px;\n",
    "    padding: 1.5rem;\n",
    "    margin-bottom: 1.5rem;\n",
    "    box-shadow: 0 2px 4px rgba(0, 0, 0, 0.05);\n",
    "    border: 1px solid var(--border-color);\n",
    "}}\n",
    "\n",
    ".examples-title {{\n",
    "    font-size: 1.1rem;\n",
    "    font-weight: 600;\n",
    "    color: var(--text-primary);\n",
    "    margin-bottom: 1rem;\n",
    "}}\n",
    "\n",
    ".example-btn {{\n",
    "    background: var(--example-bg) !important;\n",
    "    color: var(--primary-color) !important;\n",
    "    border: 1px solid var(--border-color) !important;\n",
    "    border-radius: 20px !important;\n",
    "    padding: 0.5rem 1rem !important;\n",
    "    margin: 0.25rem !important;\n",
    "    font-size: 0.9rem !important;\n",
    "    cursor: pointer !important;\n",
    "    transition: all 0.2s ease !important;\n",
    "}}\n",
    "\n",
    ".example-btn:hover {{\n",
    "    background: var(--primary-color) !important;\n",
    "    color: white !important;\n",
    "    transform: translateY(-1px) !important;\n",
    "    box-shadow: 0 2px 4px rgba(0, 0, 0, 0.1) !important;\n",
    "}}\n",
    "\n",
    "/* Chat interface improvements */\n",
    "[data-testid=\"chatbot\"] {{\n",
    "    background: var(--card-bg) !important;\n",
    "    border-radius: 12px !important;\n",
    "    border: 1px solid var(--border-color) !important;\n",
    "}}\n",
    "\n",
    "/* User message styling */\n",
    "[data-testid=\"chatbot\"] .message-wrap.user {{\n",
    "    background: var(--primary-color) !important;\n",
    "    color: white !important;\n",
    "}}\n",
    "\n",
    "/* Bot message styling */\n",
    "[data-testid=\"chatbot\"] .message-wrap.bot {{\n",
    "    background: var(--example-bg) !important;\n",
    "    color: var(--text-primary) !important;\n",
    "    border-left: 3px solid var(--primary-color) !important;\n",
    "}}\n",
    "\n",
    "/* Footer styling */\n",
    ".footer {{\n",
    "    text-align: center;\n",
    "    padding: 1rem;\n",
    "    color: var(--text-secondary);\n",
    "    font-size: 0.9rem;\n",
    "    margin-top: 1rem;\n",
    "}}\n",
    "footer{{display:none !important}}\n",
    "\"\"\"\n",
    "\n",
    "with gr.Blocks(css=custom_css, title=\"My Digital Twin\", theme=gr.themes.Soft()) as interface:\n",
    "    \n",
    "    # Header section\n",
    "    with gr.Row(elem_classes=\"header-container\"):\n",
    "        gr.HTML(f\"\"\"\n",
    "            <div class=\"main-title\">{name}'s Digital Twin</div>\n",
    "            <div class=\"subtitle\">Ask me anything about my professional background, skills, and experience</div>\n",
    "        \"\"\")\n",
    "    \n",
    "    # Example questions section\n",
    "    with gr.Row(elem_classes=\"examples-container\"):\n",
    "        gr.HTML('<div class=\"examples-title\">💡 Try asking me:</div>')\n",
    "        with gr.Row():\n",
    "            example_buttons = []\n",
    "            for question in EXAMPLE_QUESTIONS:\n",
    "                btn = gr.Button(question, elem_classes=\"example-btn\", size=\"sm\")\n",
    "                example_buttons.append(btn)\n",
    "    \n",
    "    # Main chat interface\n",
    "    chatbot_interface = gr.ChatInterface(\n",
    "        chat,\n",
    "        type=\"messages\",\n",
    "        chatbot=gr.Chatbot(\n",
    "            height=500,\n",
    "            placeholder=f\"👋 Hi! I'm {name}'s digital twin. Ask me about my experience, skills, or career journey!\",\n",
    "            type=\"messages\"\n",
    "        ),\n",
    "        textbox=gr.Textbox(\n",
    "            placeholder=\"Ask me about my background, skills, projects, or experience...\",\n",
    "            container=False,\n",
    "            scale=7\n",
    "        )\n",
    "    )\n",
    "    \n",
    "    for btn in example_buttons:\n",
    "        btn.click(lambda q: q, inputs=[btn], outputs=[chatbot_interface.textbox])\n",
    "    \n",
    "    gr.HTML(f\"<div class='footer'>Powered by {name}'s digital twin</div>\")\n",
    "    \n",
    "\n",
    "interface.launch()"
   ]
  },
  {
   "cell_type": "markdown",
   "metadata": {},
   "source": [
    "# Conclusion\n",
    "\n",
    "### Survey\n",
    "\n",
    "### Assignments\n",
    "\n",
    "1. Separate Digital Twin into Module\n",
    "2. With help from an LLM, give it a unique, fresh coat of CSS - a look for you\n",
    "3. Add in your improved prompts and rate limiting from last time\n",
    "4. Add another tool to improve expertise\n",
    "\n",
    "### Stretch assignments - any of these:\n",
    "\n",
    "1. Digital twin: Add voice\n",
    "2. Digital twin: Use a different observability platform, like MLFlow\n",
    "3. Deep Research: add clarifying questions\n",
    "4. Operator: Update the Operator to use Playwright over CDP and your full Chrome so you can collaborate with your Operator\n",
    "\n",
    "\n",
    "### Upcoming sessions\n",
    "\n",
    "AMA with Jon Krohn at 5pm on Wednesday\n",
    "\n",
    "Office hours on Thursday"
   ]
  }
 ],
 "metadata": {
  "kernelspec": {
   "display_name": ".venv",
   "language": "python",
   "name": "python3"
  },
  "language_info": {
   "codemirror_mode": {
    "name": "ipython",
    "version": 3
   },
   "file_extension": ".py",
   "mimetype": "text/x-python",
   "name": "python",
   "nbconvert_exporter": "python",
   "pygments_lexer": "ipython3",
   "version": "3.12.11"
  }
 },
 "nbformat": 4,
 "nbformat_minor": 2
}
