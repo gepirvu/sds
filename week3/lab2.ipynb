{
 "cells": [
  {
   "cell_type": "markdown",
   "metadata": {},
   "source": [
    "# Lab 2 - OpenAI Agents SDK!\n",
    "\n",
    "2 steps to making an Agent:\n",
    "\n",
    "1. Create a new class:\n",
    "\n",
    "`agent = Agent(...)`\n",
    "\n",
    "2. Call Runner.run\n",
    "\n",
    "`Runner.run(agent, input)`\n",
    "\n",
    "For this first part we will explore:\n",
    "\n",
    "- The System Prompt with instructions\n",
    "- Runner.run()\n",
    "- Using LiteLLM to switch models\n",
    "- Structured Outputs with Pydantic objects"
   ]
  },
  {
   "cell_type": "code",
   "execution_count": 1,
   "metadata": {},
   "outputs": [],
   "source": [
    "from agents import Agent, Runner\n",
    "from IPython.display import Markdown, display\n",
    "from pydantic import BaseModel, Field\n",
    "import os\n",
    "from agents.extensions.models.litellm_model import LitellmModel\n",
    "from dotenv import load_dotenv\n",
    "load_dotenv(override=True)\n"
   ]
  },
  {
   "cell_type": "markdown",
   "metadata": {},
   "source": [
    "## Before we start - who wants to Define an Agent?"
   ]
  },
  {
   "cell_type": "code",
   "execution_count": 2,
   "metadata": {},
   "outputs": [],
   "source": [
    "autonomous_agent = Agent(name=\"Autonomous Agent\", instructions=\"You are an autonomous agent\", model=\"gpt-4.1-mini\")"
   ]
  },
  {
   "cell_type": "code",
   "execution_count": 3,
   "metadata": {},
   "outputs": [],
   "source": [
    "input = \"\"\"\n",
    "You and a partner are contestants on a game show. You're each taken to separate rooms and given a choice:\n",
    "\n",
    "Cooperate: Choose \"Share\" — if both of you choose this, you each win $1,000.\n",
    "\n",
    "Defect: Choose \"Steal\" — if one steals and the other shares, the stealer gets $2,000 and the sharer gets nothing.\n",
    "\n",
    "If both steal, you both get nothing.\n",
    "\n",
    "Do you choose to Steal or Share? Pick one.\n",
    "\"\"\""
   ]
  },
  {
   "cell_type": "code",
   "execution_count": null,
   "metadata": {},
   "outputs": [],
   "source": [
    "result = await Runner.run(autonomous_agent, input)\n",
    "display(Markdown(result.final_output))"
   ]
  },
  {
   "cell_type": "markdown",
   "metadata": {},
   "source": [
    "## Now let's use LiteLLM to switch up to different models\n",
    "\n",
    "Here are all the providers:\n",
    "\n",
    "https://docs.litellm.ai/docs/providers"
   ]
  },
  {
   "cell_type": "code",
   "execution_count": null,
   "metadata": {},
   "outputs": [],
   "source": [
    "model = LitellmModel(model=\"xai/grok-3\", api_key=os.getenv(\"GROK_API_KEY\"))\n",
    "autonomous_agent = Agent(name=\"Autonomous Agent\", instructions=\"You are an autonomous agent\", model=model)\n",
    "result = await Runner.run(autonomous_agent, input)\n",
    "display(Markdown(result.final_output))"
   ]
  },
  {
   "cell_type": "code",
   "execution_count": null,
   "metadata": {},
   "outputs": [],
   "source": [
    "model = LitellmModel(model=\"deepseek/deepseek-chat\")\n",
    "autonomous_agent = Agent(name=\"Autonomous Agent\", instructions=\"You are an autonomous agent\", model=model)\n",
    "result = await Runner.run(autonomous_agent, input)\n",
    "display(Markdown(result.final_output))"
   ]
  },
  {
   "cell_type": "code",
   "execution_count": 8,
   "metadata": {},
   "outputs": [],
   "source": [
    "# The famous trolley dilemma\n",
    "\n",
    "input = \"\"\"\n",
    "A runaway trolley is heading down a track. Ahead, five people are tied to the tracks and will be killed if the trolley continues.\n",
    "\n",
    "You are standing next to a lever. If you pull it, the trolley will switch to a different track — but one person is tied to that one.\n",
    "\n",
    "Do you pull the lever? Choose to pull or not to pull.\n",
    "\"\"\""
   ]
  },
  {
   "cell_type": "markdown",
   "metadata": {},
   "source": [
    "## Structured Outputs\n",
    "\n",
    "In the next cell, we define a Pydantic object.\n",
    "\n",
    "We will then ask our LLM to generate a response that meets this output schema."
   ]
  },
  {
   "cell_type": "code",
   "execution_count": 9,
   "metadata": {},
   "outputs": [],
   "source": [
    "class Decision(BaseModel):\n",
    "    reasoning: str = Field(description=\"The rationale for your decision\")\n",
    "    counter_argument: str = Field(description=\"A counter-argument to the reasoning\")\n",
    "    pull_lever: bool = Field(description=\"Whether to pull the lever\")"
   ]
  },
  {
   "cell_type": "code",
   "execution_count": null,
   "metadata": {},
   "outputs": [],
   "source": [
    "autonomous_agent_with_structure = Agent(name=\"Autonomous Agent\", instructions=\"You are an autonomous agent\", model=\"gpt-4.1-mini\", output_type=Decision)\n",
    "result = await Runner.run(autonomous_agent_with_structure, input)\n",
    "decision = result.final_output_as(Decision)\n",
    "print(\"Pull lever?\", decision.pull_lever)\n",
    "print(\"Reasoning:\", decision.reasoning)\n",
    "print(\"Counter-argument:\", decision.counter_argument)\n"
   ]
  },
  {
   "cell_type": "code",
   "execution_count": null,
   "metadata": {},
   "outputs": [],
   "source": []
  }
 ],
 "metadata": {
  "kernelspec": {
   "display_name": ".venv",
   "language": "python",
   "name": "python3"
  },
  "language_info": {
   "codemirror_mode": {
    "name": "ipython",
    "version": 3
   },
   "file_extension": ".py",
   "mimetype": "text/x-python",
   "name": "python",
   "nbconvert_exporter": "python",
   "pygments_lexer": "ipython3",
   "version": "3.12.9"
  }
 },
 "nbformat": 4,
 "nbformat_minor": 2
}
