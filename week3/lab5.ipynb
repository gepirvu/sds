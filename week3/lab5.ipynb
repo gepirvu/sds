{
 "cells": [
  {
   "cell_type": "markdown",
   "metadata": {},
   "source": [
    "# Lab 5: Deep Research\n",
    "\n",
    "One of the classic cross-business Agentic use cases!"
   ]
  },
  {
   "cell_type": "markdown",
   "metadata": {},
   "source": [
    "<table style=\"margin: 0; text-align: left; width:100%\">\n",
    "    <tr>\n",
    "        <td style=\"width: 150px; height: 150px; vertical-align: middle;\">\n",
    "            <img src=\"../assets/business.png\" width=\"150\" height=\"150\" style=\"display: block;\" />\n",
    "        </td>\n",
    "        <td>\n",
    "            <h2 style=\"color:#00bfff;\">Commercial implications</h2>\n",
    "            <span style=\"color:#00bfff;\">A Deep Research agent is broadly applicable to any business area, and to your own day-to-day activities. You can make use of this yourself!\n",
    "            </span>\n",
    "        </td>\n",
    "    </tr>\n",
    "</table>"
   ]
  },
  {
   "cell_type": "code",
   "execution_count": 1,
   "metadata": {},
   "outputs": [],
   "source": [
    "# Imports\n",
    "\n",
    "from agents import Agent, WebSearchTool, trace, Runner, function_tool\n",
    "from agents.model_settings import ModelSettings\n",
    "from pydantic import BaseModel, Field\n",
    "from dotenv import load_dotenv\n",
    "import asyncio\n",
    "import os\n",
    "from IPython.display import display, Markdown\n",
    "from pprint import pprint\n",
    "import requests\n",
    "load_dotenv(override=True)\n",
    "\n",
    "# Constants\n",
    "\n",
    "pushover_user = os.getenv(\"PUSHOVER_USER\")\n",
    "pushover_token = os.getenv(\"PUSHOVER_TOKEN\")\n",
    "pushover_url = \"https://api.pushover.net/1/messages.json\""
   ]
  },
  {
   "cell_type": "markdown",
   "metadata": {},
   "source": [
    "## OpenAI Hosted Tools\n",
    "\n",
    "OpenAI Agents SDK includes the following built-in tools:\n",
    "\n",
    "- `WebSearchTool` lets an agent search the web.\n",
    "- `FileSearchTool` allows retrieving information from your OpenAI Vector Stores.\n",
    "- `ComputerTool` allows automating computer use tasks.\n",
    "- `CodeInterpreterTool` lets the LLM execute code in a sandboxed environment.\n",
    "- `HostedMCPTool` exposes a remote MCP server's tools to the model.\n",
    "- `ImageGenerationTool` generates images from a prompt.\n",
    "- `LocalShellTool` runs shell commands on your machine.\n",
    "\n",
    "### Important note - API charge of WebSearchTool\n",
    "\n",
    "This is costing me 2.5 cents per call for OpenAI WebSearchTool..\n",
    "\n",
    "Costs are here: https://platform.openai.com/docs/pricing#web-search"
   ]
  },
  {
   "cell_type": "markdown",
   "metadata": {},
   "source": [
    "## We will be making 4 Agents:\n",
    "\n",
    "1. Search Agent - searches online given a search term using an OpenAI hosted tool\n",
    "2. Planner Agent - given a query from the user, come up with searches\n",
    "3. Report Agent - make a report on results\n",
    "4. Push Agent - send a notification to the user's phone with a summary\n",
    "\n",
    "## Our First Agent: Search Agent\n",
    "\n",
    "Given a Search term, search for it on the internet and summarize results."
   ]
  },
  {
   "cell_type": "code",
   "execution_count": 3,
   "metadata": {},
   "outputs": [],
   "source": [
    "INSTRUCTIONS = \"You are a research assistant. Given a search term, you search the web for that term and \\\n",
    "produce a concise summary of the results. The summary must 2-3 paragraphs and less than 300 \\\n",
    "words. Capture the main points. Write succintly, no need to have complete sentences or good \\\n",
    "grammar. This will be consumed by someone synthesizing a report, so it's vital you capture the \\\n",
    "essence and ignore any fluff. Do not include any additional commentary other than the summary itself.\"\n",
    "\n",
    "search_agent = Agent(\n",
    "    name=\"Search agent\",\n",
    "    instructions=INSTRUCTIONS,\n",
    "    tools=[WebSearchTool(search_context_size=\"low\")],\n",
    "    model=\"gpt-4.1-mini\",\n",
    "    model_settings=ModelSettings(tool_choice=\"required\"),\n",
    ")"
   ]
  },
  {
   "cell_type": "code",
   "execution_count": 4,
   "metadata": {},
   "outputs": [
    {
     "data": {
      "text/markdown": [
       "As of May 2025, several AI agent frameworks have gained prominence for their capabilities and developer adoption:\n",
       "\n",
       "- **LangChain**: A modular Python framework for building LLM-powered agents, supporting various large language models and offering tools for chaining prompts, models, memory, and external tools. ([medium.com](https://medium.com/%40elisowski/top-ai-agent-frameworks-in-2025-9bcedab2e239?utm_source=openai))\n",
       "\n",
       "- **AutoGen**: Developed by Microsoft, AutoGen facilitates multi-agent systems and code automation, enabling agents to communicate in natural language to complete tasks. ([medium.com](https://medium.com/%40elisowski/top-ai-agent-frameworks-in-2025-9bcedab2e239?utm_source=openai))\n",
       "\n",
       "- **CrewAI**: Orchestrates role-playing AI agents for collaborative tasks, focusing on simplicity and minimal setup, making it popular for customer service and marketing automation. ([datacamp.com](https://www.datacamp.com/blog/best-ai-agents?utm_source=openai))\n",
       "\n",
       "- **OpenAI Agents SDK**: A lightweight Python framework released in March 2025, focusing on creating multi-agent workflows with comprehensive tracing and guardrails. ([datacamp.com](https://www.datacamp.com/blog/best-ai-agents?utm_source=openai))\n",
       "\n",
       "- **LangGraph**: An extension of LangChain, LangGraph allows developers to define agents as state machines, ideal for complex agent workflows requiring deterministic control, retries, or branching logic. ([medium.com](https://medium.com/%40elisowski/top-ai-agent-frameworks-in-2025-9bcedab2e239?utm_source=openai))\n",
       "\n",
       "- **Semantic Kernel**: Backed by Microsoft, Semantic Kernel is an enterprise-ready SDK for AI agent development, blending symbolic AI, LLMs, and business rules into modular, reusable agents. ([ment.tech](https://www.ment.tech/ai-agent-development-frameworks-every-business-should-know-in-2025/?utm_source=openai))\n",
       "\n",
       "These frameworks are widely adopted for their flexibility, scalability, and support for complex AI agent development. "
      ],
      "text/plain": [
       "<IPython.core.display.Markdown object>"
      ]
     },
     "metadata": {},
     "output_type": "display_data"
    }
   ],
   "source": [
    "message = \"What are the most popular and successful AI Agent frameworks in May 2025\"\n",
    "\n",
    "with trace(\"Search\"):\n",
    "    result = await Runner.run(search_agent, message)\n",
    "\n",
    "display(Markdown(result.final_output))"
   ]
  },
  {
   "cell_type": "markdown",
   "metadata": {},
   "source": [
    "Take a look at the trace\n",
    "\n",
    "https://platform.openai.com/traces"
   ]
  },
  {
   "cell_type": "markdown",
   "metadata": {},
   "source": [
    "## Our Second Agent: Planner Agent\n",
    "\n",
    "Given a query, come up with 5 ideas for web searches that could be run.\n",
    "\n",
    "Use Structured Outputs as our way to ensure the Agent provides what we need."
   ]
  },
  {
   "cell_type": "code",
   "execution_count": 6,
   "metadata": {},
   "outputs": [],
   "source": [
    "# See note above about cost of WebSearchTool\n",
    "\n",
    "HOW_MANY_SEARCHES = 5\n",
    "\n",
    "\n",
    "INSTRUCTIONS = f\"You are a helpful research assistant. Given a query, come up with a set of web searches \\\n",
    "to perform to best answer the query. Output {HOW_MANY_SEARCHES} terms to query for.\"\n",
    "\n",
    "# We use Pydantic objects to describe the Schema of the output\n",
    "\n",
    "class WebSearchItem(BaseModel):\n",
    "    reason: str = Field(description=\"Your reasoning for why this search is important to the query.\")\n",
    "    query: str = Field(description=\"The search term to use for the web search.\")\n",
    "\n",
    "\n",
    "class WebSearchPlan(BaseModel):\n",
    "    searches: list[WebSearchItem] = Field(description=\"A list of web searches to perform to best answer the query.\")\n",
    "\n",
    "# We pass in the Pydantic object to ensure the output follows the schema\n",
    "\n",
    "planner_agent = Agent(\n",
    "    name=\"PlannerAgent\",\n",
    "    instructions=INSTRUCTIONS,\n",
    "    model=\"gpt-4.1-mini\",\n",
    "    output_type=WebSearchPlan,\n",
    ")"
   ]
  },
  {
   "cell_type": "code",
   "execution_count": 7,
   "metadata": {},
   "outputs": [
    {
     "name": "stdout",
     "output_type": "stream",
     "text": [
      "WebSearchPlan(searches=[WebSearchItem(reason='To identify the currently most popular AI agent frameworks as of the latest data in 2025.', query='most popular AI agent frameworks 2025'), WebSearchItem(reason='To find which AI agent frameworks are considered most successful in terms of adoption, features, and community support in 2025.', query='successful AI agent frameworks 2025'), WebSearchItem(reason='To gather expert reviews and comparisons of AI agent frameworks available in 2025 to evaluate their strengths and weaknesses.', query='AI agent frameworks comparison review 2025'), WebSearchItem(reason='To check recent industry reports and market analysis on AI agent frameworks adoption and trends for 2025.', query='AI agent frameworks market trends 2025'), WebSearchItem(reason='To explore developer community feedback and GitHub stats for various AI agent frameworks popular in 2025.', query='AI agent frameworks GitHub stars and developer reviews 2025')])\n"
     ]
    }
   ],
   "source": [
    "\n",
    "message = \"What are the most popular and successful AI Agent frameworks in June 2025\"\n",
    "\n",
    "with trace(\"Search\"):\n",
    "    result = await Runner.run(planner_agent, message)\n",
    "    pprint(result.final_output)"
   ]
  },
  {
   "cell_type": "code",
   "execution_count": 8,
   "metadata": {},
   "outputs": [
    {
     "name": "stdout",
     "output_type": "stream",
     "text": [
      "I will run this search: most popular AI agent frameworks 2025\n",
      "For this reason: To identify the currently most popular AI agent frameworks as of the latest data in 2025.\n",
      "--------------------------------\n",
      "I will run this search: successful AI agent frameworks 2025\n",
      "For this reason: To find which AI agent frameworks are considered most successful in terms of adoption, features, and community support in 2025.\n",
      "--------------------------------\n",
      "I will run this search: AI agent frameworks comparison review 2025\n",
      "For this reason: To gather expert reviews and comparisons of AI agent frameworks available in 2025 to evaluate their strengths and weaknesses.\n",
      "--------------------------------\n",
      "I will run this search: AI agent frameworks market trends 2025\n",
      "For this reason: To check recent industry reports and market analysis on AI agent frameworks adoption and trends for 2025.\n",
      "--------------------------------\n",
      "I will run this search: AI agent frameworks GitHub stars and developer reviews 2025\n",
      "For this reason: To explore developer community feedback and GitHub stats for various AI agent frameworks popular in 2025.\n",
      "--------------------------------\n"
     ]
    }
   ],
   "source": [
    "for search in result.final_output.searches:\n",
    "    print(\"I will run this search:\", search.query)\n",
    "    print(\"For this reason:\", search.reason)\n",
    "    print(\"--------------------------------\")\n",
    "    "
   ]
  },
  {
   "cell_type": "markdown",
   "metadata": {},
   "source": [
    "## Our Third Agent: Writer Agent\n",
    "\n",
    "Take the results of internet searches and make a report"
   ]
  },
  {
   "cell_type": "code",
   "execution_count": 9,
   "metadata": {},
   "outputs": [],
   "source": [
    "INSTRUCTIONS = (\n",
    "    \"You are a senior researcher tasked with writing a cohesive report for a research query. \"\n",
    "    \"You will be provided with the original query, and some initial research done by a research assistant.\\n\"\n",
    "    \"You should first come up with an outline for the report that describes the structure and \"\n",
    "    \"flow of the report. Then, generate the report and return that as your final output.\\n\"\n",
    "    \"The final output should be in markdown format, and it should be lengthy and detailed. Aim \"\n",
    "    \"for 5-10 pages of content, at least 1000 words.\"\n",
    ")\n",
    "\n",
    "\n",
    "class ReportData(BaseModel):\n",
    "    short_summary: str = Field(description=\"A short 2-3 sentence summary of the findings.\")\n",
    "\n",
    "    markdown_report: str = Field(description=\"The final report\")\n",
    "\n",
    "    follow_up_questions: list[str] = Field(description=\"Suggested topics to research further\")\n",
    "\n",
    "\n",
    "writer_agent = Agent(\n",
    "    name=\"WriterAgent\",\n",
    "    instructions=INSTRUCTIONS,\n",
    "    model=\"gpt-4o-mini\",\n",
    "    output_type=ReportData,\n",
    ")"
   ]
  },
  {
   "cell_type": "markdown",
   "metadata": {},
   "source": [
    "## Our Fourth Agent: push notification\n"
   ]
  },
  {
   "cell_type": "code",
   "execution_count": 10,
   "metadata": {},
   "outputs": [],
   "source": [
    "\n",
    "@function_tool\n",
    "def push(message: str):\n",
    "    \"\"\"Send a push notification with this brief message\n",
    "\n",
    "    Args:\n",
    "        message: The message to send to the user as a push notification.\n",
    "    \"\"\"\n",
    "    payload = {\"user\": pushover_user, \"token\": pushover_token, \"message\": message}\n",
    "    requests.post(pushover_url, data=payload)\n",
    "    return {\"status\": \"success\"}"
   ]
  },
  {
   "cell_type": "code",
   "execution_count": 11,
   "metadata": {},
   "outputs": [
    {
     "data": {
      "text/plain": [
       "{'properties': {'message': {'description': 'The message to send to the user as a push notification.',\n",
       "   'title': 'Message',\n",
       "   'type': 'string'}},\n",
       " 'required': ['message'],\n",
       " 'title': 'push_args',\n",
       " 'type': 'object',\n",
       " 'additionalProperties': False}"
      ]
     },
     "execution_count": 11,
     "metadata": {},
     "output_type": "execute_result"
    }
   ],
   "source": [
    "push.params_json_schema"
   ]
  },
  {
   "cell_type": "code",
   "execution_count": 12,
   "metadata": {},
   "outputs": [],
   "source": [
    "INSTRUCTIONS = \"\"\"You are a member of a research team and will be provided with a short summary of a report.\n",
    "When you receive the report summary, you send a push notification to the user using your tool, informing them that research is complete,\n",
    "and including the report summary you receive\"\"\"\n",
    "\n",
    "\n",
    "push_agent = Agent(\n",
    "    name=\"Push agent\",\n",
    "    instructions=INSTRUCTIONS,\n",
    "    tools=[push],\n",
    "    model=\"gpt-4.1-mini\",\n",
    "    model_settings=ModelSettings(tool_choice=\"required\")\n",
    ")"
   ]
  },
  {
   "cell_type": "markdown",
   "metadata": {},
   "source": [
    "### The next 3 functions will plan and execute the search, using planner_agent and search_agent"
   ]
  },
  {
   "cell_type": "code",
   "execution_count": 13,
   "metadata": {},
   "outputs": [],
   "source": [
    "async def plan_searches(query: str):\n",
    "    \"\"\" Use the planner_agent to plan which searches to run for the query \"\"\"\n",
    "    print(\"Planning searches...\")\n",
    "    result = await Runner.run(planner_agent, f\"Query: {query}\")\n",
    "    print(f\"Will perform {len(result.final_output.searches)} searches\")\n",
    "    return result.final_output\n",
    "\n",
    "async def perform_searches(search_plan: WebSearchPlan):\n",
    "    \"\"\" Call search() for each item in the search plan \"\"\"\n",
    "    print(\"Searching...\")\n",
    "    tasks = [asyncio.create_task(search(item)) for item in search_plan.searches]\n",
    "    results = await asyncio.gather(*tasks)\n",
    "    print(\"Finished searching\")\n",
    "    return results\n",
    "\n",
    "async def search(item: WebSearchItem):\n",
    "    \"\"\" Use the search agent to run a web search for each item in the search plan \"\"\"\n",
    "    input = f\"Search term: {item.query}\\nReason for searching: {item.reason}\"\n",
    "    result = await Runner.run(search_agent, input)\n",
    "    return result.final_output"
   ]
  },
  {
   "cell_type": "markdown",
   "metadata": {},
   "source": [
    "### The next 2 functions write a report and send a push notification"
   ]
  },
  {
   "cell_type": "code",
   "execution_count": 14,
   "metadata": {},
   "outputs": [],
   "source": [
    "async def write_report(query: str, search_results: list[str]):\n",
    "    \"\"\" Use the writer agent to write a report based on the search results\"\"\"\n",
    "    print(\"Thinking about report...\")\n",
    "    input = f\"Original query: {query}\\nSummarized search results: {search_results}\"\n",
    "    result = await Runner.run(writer_agent, input)\n",
    "    print(\"Finished writing report\")\n",
    "    return result.final_output\n",
    "\n",
    "async def send_push(report: ReportData):\n",
    "    \"\"\" Use the push agent to send a notification to the user \"\"\"\n",
    "    print(\"Pushing...\")\n",
    "    await Runner.run(push_agent, report.short_summary)\n",
    "    print(\"Push sent\")\n",
    "    return report"
   ]
  },
  {
   "cell_type": "markdown",
   "metadata": {},
   "source": [
    "### Showtime!"
   ]
  },
  {
   "cell_type": "code",
   "execution_count": 15,
   "metadata": {},
   "outputs": [
    {
     "name": "stdout",
     "output_type": "stream",
     "text": [
      "Starting research...\n",
      "Planning searches...\n",
      "Will perform 5 searches\n",
      "Searching...\n",
      "Finished searching\n",
      "Thinking about report...\n",
      "Finished writing report\n",
      "Pushing...\n",
      "Push sent\n",
      "Hooray!\n"
     ]
    },
    {
     "data": {
      "text/markdown": [
       "# Report on AI Agent Frameworks Popularity and Success in May 2025\n",
       "\n",
       "## Table of Contents\n",
       "1. **Introduction**  \n",
       "2. **Overview of AI Agent Frameworks in 2025**  \n",
       "   1. LangChain  \n",
       "   2. AutoGen  \n",
       "   3. CrewAI  \n",
       "   4. Semantic Kernel  \n",
       "   5. LangGraph  \n",
       "   6. LlamaIndex  \n",
       "   7. OpenAI Agents SDK  \n",
       "3. **Real-world Applications**  \n",
       "4. **Market Trends and Projections**  \n",
       "5. **Conclusion**  \n",
       "6. **Follow-up Questions**  \n",
       "\n",
       "---  \n",
       "\n",
       "## 1. Introduction  \n",
       "The field of artificial intelligence (AI) continues to innovate at a remarkable pace. In May 2025, AI agent frameworks have become integral to the development of intelligent systems, facilitating complex task execution, enhancing operational efficiency, and improving user experience across various sectors. This report reviews the most popular and successful AI agent frameworks as of May 2025, discusses their unique features, and outlines their applications and implications for the future.  \n",
       "\n",
       "## 2. Overview of AI Agent Frameworks in 2025  \n",
       "Numerous AI frameworks have emerged, each targeting specific aspects of AI development. Below are the leading frameworks:\n",
       "\n",
       "### 2.1 LangChain  \n",
       "LangChain has established itself as a versatile Python framework for building large language model (LLM) applications, including AI agents. Its modular architecture allows for the creation of complex workflows by integrating diverse tools, APIs, and memory management capabilities. This feature makes LangChain particularly adaptable for developers aiming to build customized AI applications. With a supportive community, it remains a primary choice for sophisticated AI development.  \n",
       "\n",
       "### 2.2 AutoGen  \n",
       "Developed by Microsoft, AutoGen emphasizes multi-agent orchestration, allowing AI agents to communicate naturally. This framework includes various built-in agents and a user-friendly graphical interface for prototype development. Particularly effective in domains requiring dynamic interactions among agents, AutoGen caters to applications ranging from automated customer service to collaborative research tasks.  \n",
       "\n",
       "### 2.3 CrewAI  \n",
       "CrewAI introduces a role-based design focusing on collaboration among AI agents. This lightweight Python framework is tailored for structured teamwork, making it ideal for scenarios like project management or marketing automation. Its user-friendly setup lowers the barrier to entry for teams wanting to implement AI-driven initiatives.  \n",
       "\n",
       "### 2.4 Semantic Kernel  \n",
       "Also from Microsoft, Semantic Kernel is an enterprise-ready SDK that integrates symbolic AI and LLMs. This framework is well-suited for applications requiring robust security and compliance, while supporting multiple programming languages including Python and C#. It encapsulates powerful orchestration capabilities suitable for enterprise contexts where integration of AI skills into existing applications is critical.  \n",
       "\n",
       "### 2.5 LangGraph  \n",
       "An extension of LangChain, LangGraph offers a graph-based approach to agent design, allowing developers to create stateful, controllable multi-agent systems. This innovative design facilitates complex workflows with conditional logic and state persistence, positioning it as a significant, emerging tool for constructing sophisticated AI applications.  \n",
       "\n",
       "### 2.6 LlamaIndex  \n",
       "LlamaIndex focuses on Retrieval-Augmented Generation (RAG), gaining attention for its capabilities in data indexing and context creation. This framework excels at supporting teams aiming to build AI agents requiring substantial data processing and contextual understanding. Its application areas span from content generation to contextually aware customer interactions.  \n",
       "\n",
       "### 2.7 OpenAI Agents SDK  \n",
       "The OpenAI Agents SDK serves as a lightweight solution for creating multi-agent workflows within the OpenAI ecosystem. The SDK's emphasis on tracing and implementing guardrails makes it suitable for applications that benefit from coordination among multiple agents. Its ease of use aligns well with Python developers seeking a straightforward entry into multi-agent systems.  \n",
       "\n",
       "## 3. Real-world Applications  \n",
       "The rapid advancement of AI agent frameworks has translated into significant real-world applications. For example:\n",
       "- **Siemens AG** employs agentic AI for analyzing real-time sensor data from industrial machinery, enabling them to predict failure events and reduce unplanned downtime by 25%.\n",
       "- **JPMorgan Chase** developed an AI agent, known as \"LOXM,\" which autonomously executes high-frequency trading strategies, dynamically adjusting to market fluctuations faster than traditional human traders.  \n",
       "- In healthcare, several hospital networks have integrated AI agents to manage scheduling and organize medical records, reportedly decreasing administrative workloads by around 30%.  \n",
       "- A financial services firm utilized AI agents to expedite its loan approval processes, reducing the time taken from three days to just four hours, leading to a 40% cut in operational costs.\n",
       "\n",
       "These applications illustrate how these AI frameworks enhance efficiency, reduce costs, and elevate customer satisfaction across various industries.  \n",
       "\n",
       "## 4. Market Trends and Projections  \n",
       "The AI agent framework sector is experiencing exponential growth. Projections suggest a compound annual growth rate (CAGR) of approximately 45% from 2025 to 2030. This expansion is prompted by increasing adoption of autonomous agents and multi-agent systems across sectors such as finance, healthcare, and manufacturing. Industry experts emphasize a trend toward developing more collaborative, intuitive agents capable of understanding and responding to complex social and operational dynamics.\n",
       "\n",
       "Frameworks like LangChain and AutoGen are lauded for their approachability and innovative capabilities. In contrast, frameworks from larger companies, while robust, often come with steeper learning curves and stricter integration demands. The ongoing demand for custom AI solutions ensures that flexibility and adaptability will be vital attributes of future frameworks.  \n",
       "\n",
       "## 5. Conclusion  \n",
       "As we analyze the AI landscape in May 2025, it’s evident that frameworks such as LangChain, AutoGen, CrewAI, and Semantic Kernel are set to define the future trajectory of AI agent development. With their continuous evolution and user-friendly design, these frameworks empower a broad range of applications across industries, paving the way for more sophisticated, adaptive AI solutions that enhance productivity and streamline workflows.\n",
       "\n",
       "## 6. Follow-up Questions  \n",
       "- What are the specific use cases driving the adoption of AI agent frameworks in different sectors?  \n",
       "- How do various frameworks compare in terms of scalability and performance in high-demand environments?  \n",
       "- What future innovations can we anticipate in the AI agent framework space in the next 5 years?  \n",
       "- What role does community feedback play in the development and evolution of these frameworks?  \n",
       "- Are there potential ethical considerations or challenges associated with the increased reliance on AI agents in business operations?"
      ],
      "text/plain": [
       "<IPython.core.display.Markdown object>"
      ]
     },
     "metadata": {},
     "output_type": "display_data"
    }
   ],
   "source": [
    "query =\"What are the most popular and successful AI Agent frameworks in May 2025\"\n",
    "\n",
    "with trace(\"Research trace\"):\n",
    "    print(\"Starting research...\")\n",
    "    search_plan = await plan_searches(query)\n",
    "    search_results = await perform_searches(search_plan)\n",
    "    report = await write_report(query, search_results)\n",
    "    await send_push(report)  \n",
    "    print(\"Hooray!\")\n",
    "display(Markdown(report.markdown_report))"
   ]
  },
  {
   "cell_type": "markdown",
   "metadata": {},
   "source": [
    "### Take a look at the trace\n",
    "\n",
    "https://platform.openai.com/traces"
   ]
  },
  {
   "cell_type": "markdown",
   "metadata": {},
   "source": []
  }
 ],
 "metadata": {
  "kernelspec": {
   "display_name": ".venv",
   "language": "python",
   "name": "python3"
  },
  "language_info": {
   "codemirror_mode": {
    "name": "ipython",
    "version": 3
   },
   "file_extension": ".py",
   "mimetype": "text/x-python",
   "name": "python",
   "nbconvert_exporter": "python",
   "pygments_lexer": "ipython3",
   "version": "3.12.11"
  }
 },
 "nbformat": 4,
 "nbformat_minor": 2
}
