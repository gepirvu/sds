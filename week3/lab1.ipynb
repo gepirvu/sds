{
 "cells": [
  {
   "cell_type": "markdown",
   "metadata": {},
   "source": [
    "# Welcome to Core Session 3!\n",
    "\n",
    "## AGENDA\n",
    "\n",
    "1. OpenAI Agents SDK  \n",
    "  - Recap of Async Python and Pydantic\n",
    "  - Agents with Tools and Structured Outputs \n",
    "  - 3 ways for Agents to Collaborate  \n",
    "2. Use Case: Research Agent\n",
    "  - Deep Research Prototype\n",
    "  - Deep Research App\n",
    "3. Going Deeper \n",
    "  - Coder Agents\n",
    "  - Operator Agents\n",
    "  - Digital Me revisited\n",
    "\n",
    "\n",
    "## Approach\n",
    "\n",
    "- Interactive\n",
    "- More coding\n",
    "- Fewer slides...\n",
    "- Some more advanced stuff"
   ]
  },
  {
   "cell_type": "markdown",
   "metadata": {},
   "source": [
    "# Lab 1: Foundations\n",
    "\n",
    "## Topic 1: Async"
   ]
  },
  {
   "cell_type": "code",
   "execution_count": null,
   "metadata": {},
   "outputs": [],
   "source": [
    "# from functions to co-routines\n",
    "\n",
    "def hello():\n",
    "    print(\"Hey!\")\n",
    "\n",
    "# And now call it:\n"
   ]
  },
  {
   "cell_type": "code",
   "execution_count": null,
   "metadata": {},
   "outputs": [],
   "source": [
    "async def hello():\n",
    "    print(\"Hey!\")\n",
    "\n",
    "# And now call it without await:"
   ]
  },
  {
   "cell_type": "code",
   "execution_count": null,
   "metadata": {},
   "outputs": [],
   "source": [
    "async def hello():\n",
    "    print(\"Hey!\")\n",
    "\n",
    "# And now call it with await:"
   ]
  },
  {
   "cell_type": "code",
   "execution_count": null,
   "metadata": {},
   "outputs": [],
   "source": [
    "await hello()\n",
    "await hello()\n",
    "await hello()"
   ]
  },
  {
   "cell_type": "code",
   "execution_count": 2,
   "metadata": {},
   "outputs": [],
   "source": [
    "import asyncio\n",
    "\n",
    "async def do_some_work(id):\n",
    "    print(f\"Starting work {id}\")\n",
    "    await asyncio.sleep(1)\n",
    "    print(f\"Completed work {id}\")"
   ]
  },
  {
   "cell_type": "code",
   "execution_count": null,
   "metadata": {},
   "outputs": [],
   "source": [
    "await do_some_work(1)"
   ]
  },
  {
   "cell_type": "code",
   "execution_count": 4,
   "metadata": {},
   "outputs": [],
   "source": [
    "coroutine = do_some_work(1)"
   ]
  },
  {
   "cell_type": "code",
   "execution_count": null,
   "metadata": {},
   "outputs": [],
   "source": [
    "await coroutine"
   ]
  },
  {
   "cell_type": "code",
   "execution_count": null,
   "metadata": {},
   "outputs": [],
   "source": [
    "await do_some_work(1)\n",
    "await do_some_work(2)\n",
    "await do_some_work(3)"
   ]
  },
  {
   "cell_type": "code",
   "execution_count": null,
   "metadata": {},
   "outputs": [],
   "source": [
    "# And now!!\n",
    "\n",
    "await asyncio.gather(do_some_work(1), do_some_work(2), do_some_work(3))\n"
   ]
  },
  {
   "cell_type": "code",
   "execution_count": 8,
   "metadata": {},
   "outputs": [],
   "source": [
    "# But - check this out:\n",
    "\n",
    "import time\n",
    "\n",
    "async def do_some_work(id):\n",
    "    print(f\"Starting work {id}\")\n",
    "    time.sleep(1)\n",
    "    print(f\"Completed work {id}\")"
   ]
  },
  {
   "cell_type": "code",
   "execution_count": null,
   "metadata": {},
   "outputs": [],
   "source": [
    "await asyncio.gather(do_some_work(1), do_some_work(2), do_some_work(3))"
   ]
  },
  {
   "cell_type": "markdown",
   "metadata": {},
   "source": [
    "## It looks like threading.. but it's not..\n",
    "\n",
    "\"Cooperative Multi-tasking\"\n",
    "\n",
    "Discuss the similarities and differences\n",
    "\n",
    "When is it better to use multi-threading (or multi-processing) versus Async?\n",
    "\n",
    "Why is it so common with LLM projects, and Agents in particular? Why not use multi-processing?"
   ]
  },
  {
   "cell_type": "markdown",
   "metadata": {},
   "source": [
    "## Topic 2: Pydantic\n",
    "\n",
    "Pydantic is a Data Validation and Schema framework.\n",
    "\n",
    "Useful for describing the format of structured data (like json), in a way that allows us to be more rigorous. "
   ]
  },
  {
   "cell_type": "code",
   "execution_count": 10,
   "metadata": {},
   "outputs": [],
   "source": [
    "from pydantic import BaseModel, Field\n",
    "from typing import Optional"
   ]
  },
  {
   "cell_type": "code",
   "execution_count": null,
   "metadata": {},
   "outputs": [],
   "source": [
    "# The old way\n",
    "\n",
    "book_dict = {\"title\": \"The Great Gatsby\", \"author\": \"F. Scott Fitzgerald\"}\n",
    "print(book_dict[\"title\"])\n",
    "print(book_dict[\"author\"])\n",
    "\n"
   ]
  },
  {
   "cell_type": "code",
   "execution_count": null,
   "metadata": {},
   "outputs": [],
   "source": [
    "# The new way\n",
    "\n",
    "class Book(BaseModel):\n",
    "    title: str\n",
    "    author: str\n",
    "\n",
    "book = Book(title=\"The Great Gatsby\", author=\"F. Scott Fitzgerald\")\n",
    "print(book.title)\n",
    "print(book.author)\n",
    "print(book)"
   ]
  },
  {
   "cell_type": "code",
   "execution_count": null,
   "metadata": {},
   "outputs": [],
   "source": [
    "# Convenient shortcut, rather than specifying each field\n",
    "\n",
    "book = Book(**book_dict)\n",
    "book"
   ]
  },
  {
   "cell_type": "code",
   "execution_count": null,
   "metadata": {},
   "outputs": [],
   "source": [
    "# Newer way in latest Pydantic\n",
    "\n",
    "book = Book.model_validate(book_dict)\n",
    "book"
   ]
  },
  {
   "cell_type": "markdown",
   "metadata": {},
   "source": [
    "### So structured data in Python could be represented in 3 ways:\n",
    "\n",
    "1. As a JSON string\n",
    "2. As a Python dict\n",
    "3. As a Pydantic object\n",
    "\n",
    "Let's explore all 3, and see how to convert between them"
   ]
  },
  {
   "cell_type": "code",
   "execution_count": null,
   "metadata": {},
   "outputs": [],
   "source": [
    "book_json = book.model_dump_json()\n",
    "\n",
    "print(book_json)\n",
    "print(book_dict)\n",
    "print(book)"
   ]
  },
  {
   "cell_type": "code",
   "execution_count": 17,
   "metadata": {},
   "outputs": [],
   "source": [
    "this_is_json = '{\"title\": \"The Great Gatsby\", \"author\": \"F. Scott Fitzgerald\"}'\n",
    "this_is_dict = {\"title\": \"The Great Gatsby\", \"author\": \"F. Scott Fitzgerald\"}\n",
    "this_is_pydantic_object = Book(title=\"The Great Gatsby\", author=\"F. Scott Fitzgerald\")\n"
   ]
  },
  {
   "cell_type": "code",
   "execution_count": null,
   "metadata": {},
   "outputs": [],
   "source": [
    "book_json = book.model_dump_json(indent=4)\n",
    "print(book_json)"
   ]
  },
  {
   "cell_type": "code",
   "execution_count": null,
   "metadata": {},
   "outputs": [],
   "source": [
    "# ERROR\n",
    "\n",
    "book = Book(**book_json)"
   ]
  },
  {
   "cell_type": "code",
   "execution_count": null,
   "metadata": {},
   "outputs": [],
   "source": [
    "book = Book.model_validate_json(book_json)\n",
    "book"
   ]
  },
  {
   "cell_type": "code",
   "execution_count": null,
   "metadata": {},
   "outputs": [],
   "source": [
    "# To dict\n",
    "\n",
    "book.model_dump()"
   ]
  },
  {
   "cell_type": "code",
   "execution_count": null,
   "metadata": {},
   "outputs": [],
   "source": [
    "# To json\n",
    "\n",
    "book.model_dump_json()"
   ]
  },
  {
   "cell_type": "markdown",
   "metadata": {},
   "source": [
    "## Pydantic Validation - Optional vs Default\n",
    "\n",
    "This is confusing!\n",
    "\n",
    "You can set default values and Optional types, per below. But this might not have the exact implications that you expect.."
   ]
  },
  {
   "cell_type": "code",
   "execution_count": 26,
   "metadata": {},
   "outputs": [],
   "source": [
    "class BookCheck(BaseModel):\n",
    "    title: str = \"Untitled\"\n",
    "    author: Optional[str]\n"
   ]
  },
  {
   "cell_type": "code",
   "execution_count": null,
   "metadata": {},
   "outputs": [],
   "source": [
    "# Is this OK?\n",
    "\n",
    "book_json = '{\"title\": \"The Great Gatsby\"}'\n",
    "book = BookCheck.model_validate_json(book_json)"
   ]
  },
  {
   "cell_type": "code",
   "execution_count": null,
   "metadata": {},
   "outputs": [],
   "source": [
    "# Is this OK?\n",
    "\n",
    "book_json = '{\"author\": null}'\n",
    "book = BookCheck.model_validate_json(book_json)\n",
    "book"
   ]
  },
  {
   "cell_type": "markdown",
   "metadata": {},
   "source": [
    "## Pydantic Validation - new fields\n",
    "\n",
    "Silently discards extra fields by default; can be strict, and can accept extras"
   ]
  },
  {
   "cell_type": "code",
   "execution_count": null,
   "metadata": {},
   "outputs": [],
   "source": [
    "book_special_json = {\"title\": \"The Great Gatsby\", \"author\": \"F. Scott Fitzgerald\", \"pages\": 180}\n",
    "book_special_json\n",
    "\n",
    "book_special = Book.model_validate(book_special_json)\n",
    "book_special"
   ]
  },
  {
   "cell_type": "code",
   "execution_count": null,
   "metadata": {},
   "outputs": [],
   "source": [
    "book_special"
   ]
  },
  {
   "cell_type": "code",
   "execution_count": null,
   "metadata": {},
   "outputs": [],
   "source": [
    "class BookStrict(BaseModel):\n",
    "    title: str\n",
    "    author: str\n",
    "\n",
    "    class Config:\n",
    "        extra = \"forbid\"\n",
    "\n",
    "book_strict = BookStrict.model_validate(book_special_json)\n",
    "book_strict"
   ]
  },
  {
   "cell_type": "code",
   "execution_count": 32,
   "metadata": {},
   "outputs": [],
   "source": [
    "class BookFlexible(BaseModel):\n",
    "    title: str\n",
    "    author: str\n",
    "\n",
    "    class Config:\n",
    "        extra = \"allow\""
   ]
  },
  {
   "cell_type": "code",
   "execution_count": null,
   "metadata": {},
   "outputs": [],
   "source": [
    "book_special = BookFlexible.model_validate(book_special_json)\n",
    "book_special"
   ]
  },
  {
   "cell_type": "markdown",
   "metadata": {},
   "source": [
    "## Annotating fields\n",
    "\n",
    "You can add descriptions to fields."
   ]
  },
  {
   "cell_type": "code",
   "execution_count": null,
   "metadata": {},
   "outputs": [],
   "source": [
    "class BookExplained(BaseModel):\n",
    "    title: str = Field(description=\"The title of the book\")\n",
    "    author: str = Field(description=\"The author of the book\")\n",
    "\n",
    "\n",
    "BookExplained.model_json_schema()"
   ]
  },
  {
   "cell_type": "code",
   "execution_count": null,
   "metadata": {},
   "outputs": [],
   "source": []
  }
 ],
 "metadata": {
  "kernelspec": {
   "display_name": ".venv",
   "language": "python",
   "name": "python3"
  },
  "language_info": {
   "codemirror_mode": {
    "name": "ipython",
    "version": 3
   },
   "file_extension": ".py",
   "mimetype": "text/x-python",
   "name": "python",
   "nbconvert_exporter": "python",
   "pygments_lexer": "ipython3",
   "version": "3.12.9"
  }
 },
 "nbformat": 4,
 "nbformat_minor": 2
}
