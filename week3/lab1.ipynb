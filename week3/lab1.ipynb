{
 "cells": [
  {
   "cell_type": "markdown",
   "metadata": {},
   "source": [
    "# Welcome to Core Session 3!\n",
    "\n",
    "## AGENDA\n",
    "\n",
    "1. OpenAI Agents SDK  \n",
    "  - Recap of Async Python and Pydantic\n",
    "  - Agents with Tools and Structured Outputs \n",
    "  - 3 ways for Agents to Collaborate  \n",
    "2. Use Case: Research Agent\n",
    "  - Deep Research Prototype\n",
    "  - Deep Research App\n",
    "3. Going Deeper \n",
    "  - Coder Agents\n",
    "  - Operator Agents\n",
    "  - Digital Me revisited\n",
    "\n",
    "\n",
    "## Approach\n",
    "\n",
    "- Interactive\n",
    "- More coding\n",
    "- Fewer slides...\n",
    "- Some more advanced stuff"
   ]
  },
  {
   "cell_type": "markdown",
   "metadata": {},
   "source": [
    "# Lab 1: Foundations\n",
    "\n",
    "## Topic 1: Async"
   ]
  },
  {
   "cell_type": "code",
   "execution_count": 1,
   "metadata": {},
   "outputs": [],
   "source": [
    "# from functions to co-routines\n",
    "\n",
    "def hello():\n",
    "    print(\"Hey!\")\n",
    "\n",
    "# And now call it:\n"
   ]
  },
  {
   "cell_type": "code",
   "execution_count": 2,
   "metadata": {},
   "outputs": [],
   "source": [
    "async def hello():\n",
    "    print(\"Hey!\")\n",
    "\n",
    "# And now call it without await:"
   ]
  },
  {
   "cell_type": "code",
   "execution_count": 4,
   "metadata": {},
   "outputs": [
    {
     "data": {
      "text/plain": [
       "<coroutine object hello at 0x000001630F8E8400>"
      ]
     },
     "execution_count": 4,
     "metadata": {},
     "output_type": "execute_result"
    }
   ],
   "source": [
    "hello()"
   ]
  },
  {
   "cell_type": "code",
   "execution_count": 5,
   "metadata": {},
   "outputs": [],
   "source": [
    "async def hello():\n",
    "    print(\"Hey!\")\n",
    "\n",
    "# And now call it with await:"
   ]
  },
  {
   "cell_type": "code",
   "execution_count": 6,
   "metadata": {},
   "outputs": [
    {
     "name": "stdout",
     "output_type": "stream",
     "text": [
      "Hey!\n",
      "Hey!\n",
      "Hey!\n"
     ]
    }
   ],
   "source": [
    "await hello()\n",
    "await hello()\n",
    "await hello()"
   ]
  },
  {
   "cell_type": "code",
   "execution_count": 7,
   "metadata": {},
   "outputs": [],
   "source": [
    "import asyncio\n",
    "\n",
    "async def do_some_work(id):\n",
    "    print(f\"Starting work {id}\")\n",
    "    await asyncio.sleep(1)\n",
    "    print(f\"Completed work {id}\")"
   ]
  },
  {
   "cell_type": "code",
   "execution_count": 8,
   "metadata": {},
   "outputs": [
    {
     "name": "stdout",
     "output_type": "stream",
     "text": [
      "Starting work 1\n",
      "Completed work 1\n"
     ]
    }
   ],
   "source": [
    "await do_some_work(1)"
   ]
  },
  {
   "cell_type": "code",
   "execution_count": 9,
   "metadata": {},
   "outputs": [],
   "source": [
    "coroutine = do_some_work(1)"
   ]
  },
  {
   "cell_type": "code",
   "execution_count": 10,
   "metadata": {},
   "outputs": [
    {
     "name": "stdout",
     "output_type": "stream",
     "text": [
      "Starting work 1\n",
      "Completed work 1\n"
     ]
    }
   ],
   "source": [
    "await coroutine"
   ]
  },
  {
   "cell_type": "code",
   "execution_count": 11,
   "metadata": {},
   "outputs": [
    {
     "name": "stdout",
     "output_type": "stream",
     "text": [
      "Starting work 1\n",
      "Completed work 1\n",
      "Starting work 2\n",
      "Completed work 2\n",
      "Starting work 3\n",
      "Completed work 3\n"
     ]
    }
   ],
   "source": [
    "await do_some_work(1)\n",
    "await do_some_work(2)\n",
    "await do_some_work(3)"
   ]
  },
  {
   "cell_type": "code",
   "execution_count": 12,
   "metadata": {},
   "outputs": [
    {
     "name": "stdout",
     "output_type": "stream",
     "text": [
      "Starting work 1\n",
      "Starting work 2\n",
      "Starting work 3\n",
      "Completed work 1\n",
      "Completed work 2\n",
      "Completed work 3\n"
     ]
    },
    {
     "data": {
      "text/plain": [
       "[None, None, None]"
      ]
     },
     "execution_count": 12,
     "metadata": {},
     "output_type": "execute_result"
    }
   ],
   "source": [
    "# And now!!\n",
    "\n",
    "await asyncio.gather(do_some_work(1), do_some_work(2), do_some_work(3))\n"
   ]
  },
  {
   "cell_type": "code",
   "execution_count": 13,
   "metadata": {},
   "outputs": [],
   "source": [
    "# But - check this out:\n",
    "\n",
    "import time\n",
    "\n",
    "async def do_some_work(id):\n",
    "    print(f\"Starting work {id}\")\n",
    "    time.sleep(1)\n",
    "    print(f\"Completed work {id}\")"
   ]
  },
  {
   "cell_type": "code",
   "execution_count": 14,
   "metadata": {},
   "outputs": [
    {
     "name": "stdout",
     "output_type": "stream",
     "text": [
      "Starting work 1\n",
      "Completed work 1\n",
      "Starting work 2\n",
      "Completed work 2\n",
      "Starting work 3\n",
      "Completed work 3\n"
     ]
    },
    {
     "data": {
      "text/plain": [
       "[None, None, None]"
      ]
     },
     "execution_count": 14,
     "metadata": {},
     "output_type": "execute_result"
    }
   ],
   "source": [
    "await asyncio.gather(do_some_work(1), do_some_work(2), do_some_work(3))"
   ]
  },
  {
   "cell_type": "markdown",
   "metadata": {},
   "source": [
    "## It looks like threading.. but it's not..\n",
    "\n",
    "\"Cooperative Multi-tasking\"\n",
    "\n",
    "Discuss the similarities and differences\n",
    "\n",
    "When is it better to use multi-threading (or multi-processing) versus Async?\n",
    "\n",
    "Why is it so common with LLM projects, and Agents in particular? Why not use multi-processing?"
   ]
  },
  {
   "cell_type": "markdown",
   "metadata": {},
   "source": [
    "## Topic 2: Pydantic\n",
    "\n",
    "Pydantic is a Data Validation and Schema framework.\n",
    "\n",
    "Useful for describing the format of structured data (like json), in a way that allows us to be more rigorous. "
   ]
  },
  {
   "cell_type": "code",
   "execution_count": 15,
   "metadata": {},
   "outputs": [],
   "source": [
    "from pydantic import BaseModel, Field\n",
    "from typing import Optional"
   ]
  },
  {
   "cell_type": "code",
   "execution_count": 16,
   "metadata": {},
   "outputs": [
    {
     "name": "stdout",
     "output_type": "stream",
     "text": [
      "The Great Gatsby\n",
      "F. Scott Fitzgerald\n"
     ]
    }
   ],
   "source": [
    "# The old way\n",
    "\n",
    "book_dict = {\"title\": \"The Great Gatsby\", \"author\": \"F. Scott Fitzgerald\"}\n",
    "print(book_dict[\"title\"])\n",
    "print(book_dict[\"author\"])\n",
    "\n"
   ]
  },
  {
   "cell_type": "code",
   "execution_count": 17,
   "metadata": {},
   "outputs": [
    {
     "name": "stdout",
     "output_type": "stream",
     "text": [
      "The Great Gatsby\n",
      "F. Scott Fitzgerald\n",
      "title='The Great Gatsby' author='F. Scott Fitzgerald'\n"
     ]
    }
   ],
   "source": [
    "# The new way\n",
    "\n",
    "class Book(BaseModel):\n",
    "    title: str\n",
    "    author: str\n",
    "\n",
    "book = Book(title=\"The Great Gatsby\", author=\"F. Scott Fitzgerald\")\n",
    "print(book.title)\n",
    "print(book.author)\n",
    "print(book)"
   ]
  },
  {
   "cell_type": "code",
   "execution_count": 18,
   "metadata": {},
   "outputs": [
    {
     "data": {
      "text/plain": [
       "Book(title='The Great Gatsby', author='F. Scott Fitzgerald')"
      ]
     },
     "execution_count": 18,
     "metadata": {},
     "output_type": "execute_result"
    }
   ],
   "source": [
    "# Convenient shortcut, rather than specifying each field\n",
    "\n",
    "book = Book(**book_dict)\n",
    "book"
   ]
  },
  {
   "cell_type": "code",
   "execution_count": 19,
   "metadata": {},
   "outputs": [
    {
     "data": {
      "text/plain": [
       "Book(title='The Great Gatsby', author='F. Scott Fitzgerald')"
      ]
     },
     "execution_count": 19,
     "metadata": {},
     "output_type": "execute_result"
    }
   ],
   "source": [
    "# Newer way in latest Pydantic\n",
    "\n",
    "book = Book.model_validate(book_dict)\n",
    "book"
   ]
  },
  {
   "cell_type": "markdown",
   "metadata": {},
   "source": [
    "### So structured data in Python could be represented in 3 ways:\n",
    "\n",
    "1. As a JSON string\n",
    "2. As a Python dict\n",
    "3. As a Pydantic object\n",
    "\n",
    "Let's explore all 3, and see how to convert between them"
   ]
  },
  {
   "cell_type": "code",
   "execution_count": 20,
   "metadata": {},
   "outputs": [
    {
     "name": "stdout",
     "output_type": "stream",
     "text": [
      "{\"title\":\"The Great Gatsby\",\"author\":\"F. Scott Fitzgerald\"}\n",
      "{'title': 'The Great Gatsby', 'author': 'F. Scott Fitzgerald'}\n",
      "title='The Great Gatsby' author='F. Scott Fitzgerald'\n"
     ]
    }
   ],
   "source": [
    "book_json = book.model_dump_json()\n",
    "\n",
    "print(book_json)\n",
    "print(book_dict)\n",
    "print(book)"
   ]
  },
  {
   "cell_type": "code",
   "execution_count": 21,
   "metadata": {},
   "outputs": [],
   "source": [
    "this_is_json = '{\"title\": \"The Great Gatsby\", \"author\": \"F. Scott Fitzgerald\"}'\n",
    "this_is_dict = {\"title\": \"The Great Gatsby\", \"author\": \"F. Scott Fitzgerald\"}\n",
    "this_is_pydantic_object = Book(title=\"The Great Gatsby\", author=\"F. Scott Fitzgerald\")\n"
   ]
  },
  {
   "cell_type": "code",
   "execution_count": 24,
   "metadata": {},
   "outputs": [
    {
     "name": "stdout",
     "output_type": "stream",
     "text": [
      "{\n",
      "    \"title\": \"The Great Gatsby\",\n",
      "    \"author\": \"F. Scott Fitzgerald\"\n",
      "}\n"
     ]
    }
   ],
   "source": [
    "book_json = book.model_dump_json(indent=4)\n",
    "print(book_json)"
   ]
  },
  {
   "cell_type": "code",
   "execution_count": 23,
   "metadata": {},
   "outputs": [
    {
     "ename": "TypeError",
     "evalue": "__main__.Book() argument after ** must be a mapping, not str",
     "output_type": "error",
     "traceback": [
      "\u001b[31m---------------------------------------------------------------------------\u001b[39m",
      "\u001b[31mTypeError\u001b[39m                                 Traceback (most recent call last)",
      "\u001b[36mCell\u001b[39m\u001b[36m \u001b[39m\u001b[32mIn[23]\u001b[39m\u001b[32m, line 3\u001b[39m\n\u001b[32m      1\u001b[39m \u001b[38;5;66;03m# ERROR\u001b[39;00m\n\u001b[32m----> \u001b[39m\u001b[32m3\u001b[39m book = Book(**book_json)\n",
      "\u001b[31mTypeError\u001b[39m: __main__.Book() argument after ** must be a mapping, not str"
     ]
    }
   ],
   "source": [
    "# ERROR - create a pydantic object- cant parse just a string\n",
    "\n",
    "book = Book(**book_json)"
   ]
  },
  {
   "cell_type": "code",
   "execution_count": 25,
   "metadata": {},
   "outputs": [
    {
     "data": {
      "text/plain": [
       "Book(title='The Great Gatsby', author='F. Scott Fitzgerald')"
      ]
     },
     "execution_count": 25,
     "metadata": {},
     "output_type": "execute_result"
    }
   ],
   "source": [
    "book = Book.model_validate_json(book_json)\n",
    "book"
   ]
  },
  {
   "cell_type": "code",
   "execution_count": 26,
   "metadata": {},
   "outputs": [
    {
     "data": {
      "text/plain": [
       "{'title': 'The Great Gatsby', 'author': 'F. Scott Fitzgerald'}"
      ]
     },
     "execution_count": 26,
     "metadata": {},
     "output_type": "execute_result"
    }
   ],
   "source": [
    "# To dict\n",
    "\n",
    "book.model_dump()"
   ]
  },
  {
   "cell_type": "code",
   "execution_count": 27,
   "metadata": {},
   "outputs": [
    {
     "data": {
      "text/plain": [
       "'{\"title\":\"The Great Gatsby\",\"author\":\"F. Scott Fitzgerald\"}'"
      ]
     },
     "execution_count": 27,
     "metadata": {},
     "output_type": "execute_result"
    }
   ],
   "source": [
    "# To json\n",
    "\n",
    "book.model_dump_json()"
   ]
  },
  {
   "cell_type": "markdown",
   "metadata": {},
   "source": [
    "## Pydantic Validation - Optional vs Default\n",
    "\n",
    "This is confusing!\n",
    "\n",
    "You can set default values and Optional types, per below. But this might not have the exact implications that you expect.."
   ]
  },
  {
   "cell_type": "code",
   "execution_count": 29,
   "metadata": {},
   "outputs": [],
   "source": [
    "class BookCheck(BaseModel):\n",
    "    title: str = \"Untitled\"\n",
    "    author: Optional[str]\n"
   ]
  },
  {
   "cell_type": "code",
   "execution_count": 30,
   "metadata": {},
   "outputs": [
    {
     "ename": "ValidationError",
     "evalue": "1 validation error for BookCheck\nauthor\n  Field required [type=missing, input_value={'title': 'The Great Gatsby'}, input_type=dict]\n    For further information visit https://errors.pydantic.dev/2.11/v/missing",
     "output_type": "error",
     "traceback": [
      "\u001b[31m---------------------------------------------------------------------------\u001b[39m",
      "\u001b[31mValidationError\u001b[39m                           Traceback (most recent call last)",
      "\u001b[36mCell\u001b[39m\u001b[36m \u001b[39m\u001b[32mIn[30]\u001b[39m\u001b[32m, line 4\u001b[39m\n\u001b[32m      1\u001b[39m \u001b[38;5;66;03m# Is this OK?\u001b[39;00m\n\u001b[32m      3\u001b[39m book_json = \u001b[33m'\u001b[39m\u001b[33m{\u001b[39m\u001b[33m\"\u001b[39m\u001b[33mtitle\u001b[39m\u001b[33m\"\u001b[39m\u001b[33m: \u001b[39m\u001b[33m\"\u001b[39m\u001b[33mThe Great Gatsby\u001b[39m\u001b[33m\"\u001b[39m\u001b[33m}\u001b[39m\u001b[33m'\u001b[39m\n\u001b[32m----> \u001b[39m\u001b[32m4\u001b[39m book = \u001b[43mBookCheck\u001b[49m\u001b[43m.\u001b[49m\u001b[43mmodel_validate_json\u001b[49m\u001b[43m(\u001b[49m\u001b[43mbook_json\u001b[49m\u001b[43m)\u001b[49m\n",
      "\u001b[36mFile \u001b[39m\u001b[32mc:\\Users\\georg\\OneDrive\\Desktop\\Work\\01_ml_and_ai\\sdsbootcamp\\sds\\.venv\\Lib\\site-packages\\pydantic\\main.py:746\u001b[39m, in \u001b[36mBaseModel.model_validate_json\u001b[39m\u001b[34m(cls, json_data, strict, context, by_alias, by_name)\u001b[39m\n\u001b[32m    740\u001b[39m \u001b[38;5;28;01mif\u001b[39;00m by_alias \u001b[38;5;129;01mis\u001b[39;00m \u001b[38;5;28;01mFalse\u001b[39;00m \u001b[38;5;129;01mand\u001b[39;00m by_name \u001b[38;5;129;01mis\u001b[39;00m \u001b[38;5;129;01mnot\u001b[39;00m \u001b[38;5;28;01mTrue\u001b[39;00m:\n\u001b[32m    741\u001b[39m     \u001b[38;5;28;01mraise\u001b[39;00m PydanticUserError(\n\u001b[32m    742\u001b[39m         \u001b[33m'\u001b[39m\u001b[33mAt least one of `by_alias` or `by_name` must be set to True.\u001b[39m\u001b[33m'\u001b[39m,\n\u001b[32m    743\u001b[39m         code=\u001b[33m'\u001b[39m\u001b[33mvalidate-by-alias-and-name-false\u001b[39m\u001b[33m'\u001b[39m,\n\u001b[32m    744\u001b[39m     )\n\u001b[32m--> \u001b[39m\u001b[32m746\u001b[39m \u001b[38;5;28;01mreturn\u001b[39;00m \u001b[38;5;28;43mcls\u001b[39;49m\u001b[43m.\u001b[49m\u001b[43m__pydantic_validator__\u001b[49m\u001b[43m.\u001b[49m\u001b[43mvalidate_json\u001b[49m\u001b[43m(\u001b[49m\n\u001b[32m    747\u001b[39m \u001b[43m    \u001b[49m\u001b[43mjson_data\u001b[49m\u001b[43m,\u001b[49m\u001b[43m \u001b[49m\u001b[43mstrict\u001b[49m\u001b[43m=\u001b[49m\u001b[43mstrict\u001b[49m\u001b[43m,\u001b[49m\u001b[43m \u001b[49m\u001b[43mcontext\u001b[49m\u001b[43m=\u001b[49m\u001b[43mcontext\u001b[49m\u001b[43m,\u001b[49m\u001b[43m \u001b[49m\u001b[43mby_alias\u001b[49m\u001b[43m=\u001b[49m\u001b[43mby_alias\u001b[49m\u001b[43m,\u001b[49m\u001b[43m \u001b[49m\u001b[43mby_name\u001b[49m\u001b[43m=\u001b[49m\u001b[43mby_name\u001b[49m\n\u001b[32m    748\u001b[39m \u001b[43m\u001b[49m\u001b[43m)\u001b[49m\n",
      "\u001b[31mValidationError\u001b[39m: 1 validation error for BookCheck\nauthor\n  Field required [type=missing, input_value={'title': 'The Great Gatsby'}, input_type=dict]\n    For further information visit https://errors.pydantic.dev/2.11/v/missing"
     ]
    }
   ],
   "source": [
    "# Is this OK?\n",
    "\n",
    "book_json = '{\"title\": \"The Great Gatsby\"}'\n",
    "book = BookCheck.model_validate_json(book_json)"
   ]
  },
  {
   "cell_type": "code",
   "execution_count": 31,
   "metadata": {},
   "outputs": [
    {
     "data": {
      "text/plain": [
       "BookCheck(title='Untitled', author=None)"
      ]
     },
     "execution_count": 31,
     "metadata": {},
     "output_type": "execute_result"
    }
   ],
   "source": [
    "# Is this OK?\n",
    "\n",
    "book_json = '{\"author\": null}'\n",
    "book = BookCheck.model_validate_json(book_json)\n",
    "book"
   ]
  },
  {
   "cell_type": "markdown",
   "metadata": {},
   "source": [
    "## Pydantic Validation - new fields\n",
    "\n",
    "Silently discards extra fields by default; can be strict, and can accept extras"
   ]
  },
  {
   "cell_type": "code",
   "execution_count": 32,
   "metadata": {},
   "outputs": [
    {
     "data": {
      "text/plain": [
       "Book(title='The Great Gatsby', author='F. Scott Fitzgerald')"
      ]
     },
     "execution_count": 32,
     "metadata": {},
     "output_type": "execute_result"
    }
   ],
   "source": [
    "book_special_json = {\"title\": \"The Great Gatsby\", \"author\": \"F. Scott Fitzgerald\", \"pages\": 180}\n",
    "book_special_json\n",
    "\n",
    "book_special = Book.model_validate(book_special_json)\n",
    "book_special"
   ]
  },
  {
   "cell_type": "code",
   "execution_count": 33,
   "metadata": {},
   "outputs": [
    {
     "data": {
      "text/plain": [
       "Book(title='The Great Gatsby', author='F. Scott Fitzgerald')"
      ]
     },
     "execution_count": 33,
     "metadata": {},
     "output_type": "execute_result"
    }
   ],
   "source": [
    "book_special"
   ]
  },
  {
   "cell_type": "code",
   "execution_count": 34,
   "metadata": {},
   "outputs": [
    {
     "ename": "ValidationError",
     "evalue": "1 validation error for BookStrict\npages\n  Extra inputs are not permitted [type=extra_forbidden, input_value=180, input_type=int]\n    For further information visit https://errors.pydantic.dev/2.11/v/extra_forbidden",
     "output_type": "error",
     "traceback": [
      "\u001b[31m---------------------------------------------------------------------------\u001b[39m",
      "\u001b[31mValidationError\u001b[39m                           Traceback (most recent call last)",
      "\u001b[36mCell\u001b[39m\u001b[36m \u001b[39m\u001b[32mIn[34]\u001b[39m\u001b[32m, line 8\u001b[39m\n\u001b[32m      5\u001b[39m     \u001b[38;5;28;01mclass\u001b[39;00m\u001b[38;5;250m \u001b[39m\u001b[34;01mConfig\u001b[39;00m:\n\u001b[32m      6\u001b[39m         extra = \u001b[33m\"\u001b[39m\u001b[33mforbid\u001b[39m\u001b[33m\"\u001b[39m\n\u001b[32m----> \u001b[39m\u001b[32m8\u001b[39m book_strict = \u001b[43mBookStrict\u001b[49m\u001b[43m.\u001b[49m\u001b[43mmodel_validate\u001b[49m\u001b[43m(\u001b[49m\u001b[43mbook_special_json\u001b[49m\u001b[43m)\u001b[49m\n\u001b[32m      9\u001b[39m book_strict\n",
      "\u001b[36mFile \u001b[39m\u001b[32mc:\\Users\\georg\\OneDrive\\Desktop\\Work\\01_ml_and_ai\\sdsbootcamp\\sds\\.venv\\Lib\\site-packages\\pydantic\\main.py:705\u001b[39m, in \u001b[36mBaseModel.model_validate\u001b[39m\u001b[34m(cls, obj, strict, from_attributes, context, by_alias, by_name)\u001b[39m\n\u001b[32m    699\u001b[39m \u001b[38;5;28;01mif\u001b[39;00m by_alias \u001b[38;5;129;01mis\u001b[39;00m \u001b[38;5;28;01mFalse\u001b[39;00m \u001b[38;5;129;01mand\u001b[39;00m by_name \u001b[38;5;129;01mis\u001b[39;00m \u001b[38;5;129;01mnot\u001b[39;00m \u001b[38;5;28;01mTrue\u001b[39;00m:\n\u001b[32m    700\u001b[39m     \u001b[38;5;28;01mraise\u001b[39;00m PydanticUserError(\n\u001b[32m    701\u001b[39m         \u001b[33m'\u001b[39m\u001b[33mAt least one of `by_alias` or `by_name` must be set to True.\u001b[39m\u001b[33m'\u001b[39m,\n\u001b[32m    702\u001b[39m         code=\u001b[33m'\u001b[39m\u001b[33mvalidate-by-alias-and-name-false\u001b[39m\u001b[33m'\u001b[39m,\n\u001b[32m    703\u001b[39m     )\n\u001b[32m--> \u001b[39m\u001b[32m705\u001b[39m \u001b[38;5;28;01mreturn\u001b[39;00m \u001b[38;5;28;43mcls\u001b[39;49m\u001b[43m.\u001b[49m\u001b[43m__pydantic_validator__\u001b[49m\u001b[43m.\u001b[49m\u001b[43mvalidate_python\u001b[49m\u001b[43m(\u001b[49m\n\u001b[32m    706\u001b[39m \u001b[43m    \u001b[49m\u001b[43mobj\u001b[49m\u001b[43m,\u001b[49m\u001b[43m \u001b[49m\u001b[43mstrict\u001b[49m\u001b[43m=\u001b[49m\u001b[43mstrict\u001b[49m\u001b[43m,\u001b[49m\u001b[43m \u001b[49m\u001b[43mfrom_attributes\u001b[49m\u001b[43m=\u001b[49m\u001b[43mfrom_attributes\u001b[49m\u001b[43m,\u001b[49m\u001b[43m \u001b[49m\u001b[43mcontext\u001b[49m\u001b[43m=\u001b[49m\u001b[43mcontext\u001b[49m\u001b[43m,\u001b[49m\u001b[43m \u001b[49m\u001b[43mby_alias\u001b[49m\u001b[43m=\u001b[49m\u001b[43mby_alias\u001b[49m\u001b[43m,\u001b[49m\u001b[43m \u001b[49m\u001b[43mby_name\u001b[49m\u001b[43m=\u001b[49m\u001b[43mby_name\u001b[49m\n\u001b[32m    707\u001b[39m \u001b[43m\u001b[49m\u001b[43m)\u001b[49m\n",
      "\u001b[31mValidationError\u001b[39m: 1 validation error for BookStrict\npages\n  Extra inputs are not permitted [type=extra_forbidden, input_value=180, input_type=int]\n    For further information visit https://errors.pydantic.dev/2.11/v/extra_forbidden"
     ]
    }
   ],
   "source": [
    "class BookStrict(BaseModel):\n",
    "    title: str\n",
    "    author: str\n",
    "\n",
    "    class Config:\n",
    "        extra = \"forbid\"\n",
    "\n",
    "book_strict = BookStrict.model_validate(book_special_json)\n",
    "book_strict"
   ]
  },
  {
   "cell_type": "code",
   "execution_count": 35,
   "metadata": {},
   "outputs": [],
   "source": [
    "class BookFlexible(BaseModel):\n",
    "    title: str\n",
    "    author: str\n",
    "\n",
    "    class Config:\n",
    "        extra = \"allow\""
   ]
  },
  {
   "cell_type": "code",
   "execution_count": 36,
   "metadata": {},
   "outputs": [
    {
     "data": {
      "text/plain": [
       "BookFlexible(title='The Great Gatsby', author='F. Scott Fitzgerald', pages=180)"
      ]
     },
     "execution_count": 36,
     "metadata": {},
     "output_type": "execute_result"
    }
   ],
   "source": [
    "book_special = BookFlexible.model_validate(book_special_json)\n",
    "book_special"
   ]
  },
  {
   "cell_type": "markdown",
   "metadata": {},
   "source": [
    "## Annotating fields\n",
    "\n",
    "You can add descriptions to fields."
   ]
  },
  {
   "cell_type": "code",
   "execution_count": 37,
   "metadata": {},
   "outputs": [
    {
     "data": {
      "text/plain": [
       "{'properties': {'title': {'description': 'The title of the book',\n",
       "   'title': 'Title',\n",
       "   'type': 'string'},\n",
       "  'author': {'description': 'The author of the book',\n",
       "   'title': 'Author',\n",
       "   'type': 'string'}},\n",
       " 'required': ['title', 'author'],\n",
       " 'title': 'BookExplained',\n",
       " 'type': 'object'}"
      ]
     },
     "execution_count": 37,
     "metadata": {},
     "output_type": "execute_result"
    }
   ],
   "source": [
    "class BookExplained(BaseModel):\n",
    "    title: str = Field(description=\"The title of the book\")\n",
    "    author: str = Field(description=\"The author of the book\")\n",
    "\n",
    "\n",
    "BookExplained.model_json_schema()"
   ]
  },
  {
   "cell_type": "code",
   "execution_count": null,
   "metadata": {},
   "outputs": [],
   "source": []
  }
 ],
 "metadata": {
  "kernelspec": {
   "display_name": ".venv",
   "language": "python",
   "name": "python3"
  },
  "language_info": {
   "codemirror_mode": {
    "name": "ipython",
    "version": 3
   },
   "file_extension": ".py",
   "mimetype": "text/x-python",
   "name": "python",
   "nbconvert_exporter": "python",
   "pygments_lexer": "ipython3",
   "version": "3.12.11"
  }
 },
 "nbformat": 4,
 "nbformat_minor": 2
}
