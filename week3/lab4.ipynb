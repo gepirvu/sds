{
 "cells": [
  {
   "cell_type": "markdown",
   "metadata": {},
   "source": [
    "# Lab 4 - Three ways for Agents to Interact\n",
    "\n",
    "The 3 models:\n",
    "\n",
    "1. Separate calls to Runner.run()\n",
    "\n",
    "2. Agent Handoffs, turns within a Runner.run()\n",
    "\n",
    "    A -> B -> C\n",
    "\n",
    "3. Agents as Tools, turns within a Runner.run()\n",
    "\n",
    "    A -> B -> A\n",
    "\n",
    "\n",
    "Approach (1) is the least juicy & fashionable, but it's the one I recommend the most!\n",
    "\n",
    "Approach (2) seems really hard to make reliable.\n",
    "\n",
    "Approach (3) works OK with good enough prompts.."
   ]
  },
  {
   "cell_type": "code",
   "execution_count": null,
   "metadata": {},
   "outputs": [],
   "source": [
    "from agents import Agent, Runner, trace, handoff\n",
    "from IPython.display import Markdown, display\n",
    "from pydantic import BaseModel, Field\n",
    "from dotenv import load_dotenv\n",
    "load_dotenv(override=True)\n"
   ]
  },
  {
   "cell_type": "code",
   "execution_count": 7,
   "metadata": {},
   "outputs": [],
   "source": [
    "\n",
    "entrepreneur_instructions = \"You generate novel, exciting business ideas for Autonomous AI Agents\"\n",
    "entrepreneur_input = \"\"\"\n",
    "Propose one compelling business idea for applying Autonomous AI Agents to any industry you choose.\n",
    "The idea should be unique, high potential commercial impact, and make true use of the autonomous capabilities of AI Agents.\n",
    "\"\"\"\n",
    "\n",
    "evaluator_instructions = \"You evaluate novel, exciting business ideas for Autonomous AI Agents\"\n",
    "evaluator_input = \"Evaluate the following business idea; assess it for uniqueness, potential commercial impact, and use of Autonomous AI Agents:\\n\\n\""
   ]
  },
  {
   "cell_type": "markdown",
   "metadata": {},
   "source": [
    "## Now let's define 2 important Pydantic Objects to describe our Data"
   ]
  },
  {
   "cell_type": "code",
   "execution_count": 8,
   "metadata": {},
   "outputs": [],
   "source": [
    "class Idea(BaseModel):\n",
    "    title: str = Field(description=\"The title of the idea\")\n",
    "    description: str = Field(description=\"A detailed description of the idea, in Markdown\")\n",
    "\n",
    "    def print_summary(self):\n",
    "        print(f\"Title: {self.title}\")\n",
    "        display(Markdown(self.description))"
   ]
  },
  {
   "cell_type": "code",
   "execution_count": 9,
   "metadata": {},
   "outputs": [],
   "source": [
    "class Evaluation(BaseModel):\n",
    "    idea: Idea = Field(description=\"The idea that you are evaluating\")\n",
    "    uniqueness_feedback: str = Field(description=\"Your view on how unique the idea is\")\n",
    "    uniqueness_score: int = Field(description=\"How unique the idea is, on a scale of 1 to 10, where 1 is mundane and 10 is groundbreaking\")\n",
    "    commercial_feedback: str = Field(description=\"Your view on the commercial potential of the idea\")\n",
    "    commercial_score: int = Field(description=\"How high the commercial potential of the idea is from 1 to 10, where 1 is barely profitable and 10 is a billion dollar idea\")\n",
    "    autonomy_feedback: str = Field(description=\"Your commentary on to what extent the idea truly benefits from the autonomous nature of AI Agents\")\n",
    "    autonomy_score: int = Field(description=\"How deeply the idea involves autonomous agents from 1 to 10, where 1 is that it plays no meaningful role, and 10 is that it is pivotal\")\n",
    "\n",
    "    def is_brilliant(self):\n",
    "        return self.uniqueness_score > 8 and self.commercial_score > 8 and self.autonomy_score > 8\n",
    "    \n",
    "    def print_summary(self):\n",
    "        print(f\"Idea: {self.idea.title}\")\n",
    "        print(f\"Uniqueness: {self.uniqueness_score}/10: ({self.uniqueness_feedback})\")\n",
    "        print(f\"Commercial: {self.commercial_score}/10: ({self.commercial_feedback})\")\n",
    "        print(f\"Autonomy: {self.autonomy_score}/10: ({self.autonomy_feedback})\")"
   ]
  },
  {
   "cell_type": "markdown",
   "metadata": {},
   "source": [
    "## Approach 1 (Highly Recommended!) - Call Runner.run() separately"
   ]
  },
  {
   "cell_type": "code",
   "execution_count": null,
   "metadata": {},
   "outputs": [],
   "source": [
    "entrepreneur = Agent(name=\"Entrepreneur\", model=\"gpt-4.1-mini\", instructions=entrepreneur_instructions, output_type=Idea)\n",
    "result = await Runner.run(entrepreneur, entrepreneur_input)\n",
    "idea = result.final_output_as(Idea)\n",
    "idea.print_summary()"
   ]
  },
  {
   "cell_type": "code",
   "execution_count": null,
   "metadata": {},
   "outputs": [],
   "source": [
    "evaluator = Agent(name=\"Evaluator\", model=\"gpt-4.1-mini\", instructions=evaluator_instructions, output_type=Evaluation)\n",
    "result = await Runner.run(evaluator, f\"{evaluator_input}{idea}\")\n",
    "evaluation = result.final_output_as(Evaluation)\n",
    "evaluation.print_summary()"
   ]
  },
  {
   "cell_type": "code",
   "execution_count": 12,
   "metadata": {},
   "outputs": [],
   "source": [
    "entrepreneur_latest = f\"You were originally given the following task:\\n\\n{entrepreneur_input}\\n\\n\"\n",
    "remaining_attempts = 4"
   ]
  },
  {
   "cell_type": "code",
   "execution_count": null,
   "metadata": {},
   "outputs": [],
   "source": [
    "with trace(\"Entrepreneur Approach 1\"):\n",
    "    while not evaluation.is_brilliant() and remaining_attempts:\n",
    "        remaining_attempts -= 1\n",
    "        entrepreneur_latest += f\"You responded with this idea:\\n\\n{idea}\\n\\nYou received this feedback:\\n\\n{evaluation}\\n\\n\"\n",
    "        entrepreneur_latest += \"Now respond with an improved idea that adresses the feedback. Do not directly reference the feedback.\\n\\n\"\n",
    "        result = await Runner.run(entrepreneur, entrepreneur_latest)\n",
    "        idea = result.final_output_as(Idea)\n",
    "        idea.print_summary()\n",
    "        result = await Runner.run(evaluator, f\"{evaluator_input}{idea}\")\n",
    "        evaluation = result.final_output_as(Evaluation)\n",
    "        evaluation.print_summary()"
   ]
  },
  {
   "cell_type": "markdown",
   "metadata": {},
   "source": [
    "## Approach 2 - Handoff\n",
    "\n",
    "This seems to be the more unpredictable of the approaches, and I struggle to get it to ever handoff more than 1 loop.."
   ]
  },
  {
   "cell_type": "code",
   "execution_count": 14,
   "metadata": {},
   "outputs": [],
   "source": [
    "entrepreneur_instructions = \"You generate novel, exciting business ideas for Autonomous AI Agents that you pass to the Evaluator to evaluate\"\n",
    "entrepreneur_input = \"\"\"\n",
    "Propose one compelling business idea for applying Autonomous AI Agents to any industry you choose.\n",
    "The idea should be unique, high potential commercial impact, and make true use of the autonomous capabilities of AI Agents.\n",
    "You MUST handoff your idea to the Evaluator to be evaluated by using the tool Handoff_to_Evaluator. You must always call this tool with your idea or an improved idea.\n",
    "\"\"\"\n",
    "\n",
    "evaluator_instructions = \"\"\"\n",
    "You evaluate novel, exciting business ideas for Autonomous AI Agents.\n",
    "Evaluate the business idea that you are given; assess it for uniqueness, potential commercial impact, and use of Autonomous AI Agents.\n",
    "If you would not score the idea 9/10 or 10/10 in all 3 categories, then you must handoff the idea back to the Entrepreneur to improve it by using the tool Handoff_to_Entrepreneur and providing your feedback.\n",
    "if you do score the idea 9/10 or better in all categories, then respond with the evaluation.\n",
    "\"\"\""
   ]
  },
  {
   "cell_type": "code",
   "execution_count": 15,
   "metadata": {},
   "outputs": [],
   "source": [
    "entrepreneur = Agent(name=\"Entrepreneur\", model=\"gpt-4.1-mini\", instructions=entrepreneur_instructions, output_type=Idea)\n",
    "evaluator = Agent(name=\"Evaluator\", model=\"gpt-4.1-mini\", instructions=evaluator_instructions, output_type=Evaluation)\n",
    "\n",
    "\n",
    "def on_handoff(ctx, input):\n",
    "    print(\"Handoff called\")\n",
    "\n",
    "entrepreneur.handoffs = [handoff(\n",
    "    agent=evaluator,\n",
    "    input_type=Idea,\n",
    "    on_handoff=on_handoff,\n",
    "    tool_name_override=\"Handoff_to_Evaluator\",\n",
    "    tool_description_override=\"Use this tool to handoff your idea to the Evaluator to evaluate. You must always call this tool.\"\n",
    ")]\n",
    "\n",
    "evaluator.handoffs = [handoff(\n",
    "    agent=entrepreneur,\n",
    "    input_type=Evaluation,\n",
    "    on_handoff=on_handoff,\n",
    "    tool_name_override=\"Handoff_to_Entrepreneur\",\n",
    "    tool_description_override=\"Use this tool to handoff your feedback to the Entrepreneur to improve the idea. You should call this tool if your feedback is less than 9/10 in any category.\"\n",
    ")] "
   ]
  },
  {
   "cell_type": "code",
   "execution_count": null,
   "metadata": {},
   "outputs": [],
   "source": [
    "with trace(\"Entrepreneur Approach 2\"):\n",
    "    result = await Runner.run(entrepreneur, entrepreneur_input, max_turns=10)"
   ]
  },
  {
   "cell_type": "code",
   "execution_count": null,
   "metadata": {},
   "outputs": [],
   "source": [
    "result.final_output.print_summary()"
   ]
  },
  {
   "cell_type": "markdown",
   "metadata": {},
   "source": [
    "## Approach 3 - Agents as Tools"
   ]
  },
  {
   "cell_type": "code",
   "execution_count": 18,
   "metadata": {},
   "outputs": [],
   "source": [
    "\n",
    "entrepreneur_instructions = \"You generate novel, exciting business ideas for Autonomous AI Agents\"\n",
    "entrepreneur_input = \"\"\"\n",
    "Propose one compelling business idea for applying Autonomous AI Agents to any industry you choose.\n",
    "The idea should be unique, high potential commercial impact, and make true use of the autonomous capabilities of AI Agents.\n",
    "You must call the Evaluator tool to Evaluate the idea. If the idea is not 9 or 10 in all 3 scores,\n",
    "then you must improve the idea and call the Evaluator tool again.\n",
    "Keep improving the idea and calling the Evaluator tool until you get a 9 or 10 in all 3 scores.\n",
    "Then finally respond with the idea.\n",
    "\"\"\"\n",
    "evaluator_instructions = \"\"\"\n",
    "You evaluate novel, exciting business ideas for Autonomous AI Agents.\n",
    "Evaluate the following business idea; assess it for uniqueness, potential commercial impact, and use of Autonomous AI Agents.\n",
    "\"\"\"\n",
    "\n"
   ]
  },
  {
   "cell_type": "code",
   "execution_count": 19,
   "metadata": {},
   "outputs": [],
   "source": [
    "evaluator = Agent(name=\"Evaluator\", model=\"gpt-4.1-mini\", instructions=evaluator_instructions, output_type=Evaluation)\n",
    "evaluator_tool = evaluator.as_tool(\n",
    "    tool_name=\"Evaluator_Idea_Evaluator\",\n",
    "    tool_description=\"Evaluates the idea for uniqueness, potential commercial impact, and use of Autonomous AI Agents\",\n",
    ")\n",
    "\n",
    "entrepreneur = Agent(name=\"Entrepreneur\", model=\"gpt-4.1-mini\", instructions=entrepreneur_instructions, output_type=Idea, tools=[evaluator_tool])"
   ]
  },
  {
   "cell_type": "code",
   "execution_count": null,
   "metadata": {},
   "outputs": [],
   "source": [
    "with trace(\"Entrepreneur Approach 3\"):\n",
    "    result = await Runner.run(entrepreneur, entrepreneur_input)\n",
    "    idea = result.final_output_as(Idea)\n",
    "    idea.print_summary()"
   ]
  },
  {
   "cell_type": "markdown",
   "metadata": {},
   "source": [
    "## OpenAI Traces\n",
    "\n",
    "We've been writing all this information to OpenAI traces, the 'observability' framework built into OpenAI.\n",
    "\n",
    "You can take a look at these traces here:\n",
    "\n",
    "https://platform.openai.com/traces\n",
    "\n",
    "There's also a nice way to visualize:"
   ]
  },
  {
   "cell_type": "code",
   "execution_count": null,
   "metadata": {},
   "outputs": [],
   "source": [
    "from agents.extensions.visualization import draw_graph\n",
    "draw_graph(entrepreneur)\n"
   ]
  },
  {
   "cell_type": "code",
   "execution_count": null,
   "metadata": {},
   "outputs": [],
   "source": []
  }
 ],
 "metadata": {
  "kernelspec": {
   "display_name": ".venv",
   "language": "python",
   "name": "python3"
  },
  "language_info": {
   "codemirror_mode": {
    "name": "ipython",
    "version": 3
   },
   "file_extension": ".py",
   "mimetype": "text/x-python",
   "name": "python",
   "nbconvert_exporter": "python",
   "pygments_lexer": "ipython3",
   "version": "3.12.9"
  }
 },
 "nbformat": 4,
 "nbformat_minor": 2
}
