{
 "cells": [
  {
   "cell_type": "markdown",
   "metadata": {},
   "source": [
    "# Lab 4 - Three ways for Agents to Interact\n",
    "\n",
    "The 3 models:\n",
    "\n",
    "1. Separate calls to Runner.run()\n",
    "\n",
    "2. Agent Handoffs, turns within a Runner.run()\n",
    "\n",
    "    A -> B -> C\n",
    "\n",
    "3. Agents as Tools, turns within a Runner.run()\n",
    "\n",
    "    A -> B -> A\n",
    "\n",
    "\n",
    "Approach (1) is the least juicy & fashionable, but it's the one I recommend the most!\n",
    "\n",
    "Approach (2) seems really hard to make reliable.\n",
    "\n",
    "Approach (3) works OK with good enough prompts.."
   ]
  },
  {
   "cell_type": "code",
   "execution_count": 2,
   "metadata": {},
   "outputs": [
    {
     "data": {
      "text/plain": [
       "True"
      ]
     },
     "execution_count": 2,
     "metadata": {},
     "output_type": "execute_result"
    }
   ],
   "source": [
    "from agents import Agent, Runner, trace, handoff\n",
    "from IPython.display import Markdown, display\n",
    "from pydantic import BaseModel, Field\n",
    "from dotenv import load_dotenv\n",
    "load_dotenv(override=True)\n"
   ]
  },
  {
   "cell_type": "code",
   "execution_count": 3,
   "metadata": {},
   "outputs": [],
   "source": [
    "\n",
    "entrepreneur_instructions = \"You generate novel, exciting business ideas for Autonomous AI Agents\"\n",
    "entrepreneur_input = \"\"\"\n",
    "Propose one compelling business idea for applying Autonomous AI Agents to any industry you choose.\n",
    "The idea should be unique, high potential commercial impact, and make true use of the autonomous capabilities of AI Agents.\n",
    "\"\"\"\n",
    "\n",
    "evaluator_instructions = \"You evaluate novel, exciting business ideas for Autonomous AI Agents\"\n",
    "evaluator_input = \"Evaluate the following business idea; assess it for uniqueness, potential commercial impact, and use of Autonomous AI Agents:\\n\\n\""
   ]
  },
  {
   "cell_type": "markdown",
   "metadata": {},
   "source": [
    "## Now let's define 2 important Pydantic Objects to describe our Data"
   ]
  },
  {
   "cell_type": "code",
   "execution_count": 4,
   "metadata": {},
   "outputs": [],
   "source": [
    "class Idea(BaseModel):\n",
    "    title: str = Field(description=\"The title of the idea\")\n",
    "    description: str = Field(description=\"A detailed description of the idea, in Markdown\")\n",
    "\n",
    "    def print_summary(self):\n",
    "        print(f\"Title: {self.title}\")\n",
    "        display(Markdown(self.description))"
   ]
  },
  {
   "cell_type": "code",
   "execution_count": 5,
   "metadata": {},
   "outputs": [],
   "source": [
    "class Evaluation(BaseModel):\n",
    "    idea: Idea = Field(description=\"The idea that you are evaluating\")\n",
    "    uniqueness_feedback: str = Field(description=\"Your view on how unique the idea is\")\n",
    "    uniqueness_score: int = Field(description=\"How unique the idea is, on a scale of 1 to 10, where 1 is mundane and 10 is groundbreaking\")\n",
    "    commercial_feedback: str = Field(description=\"Your view on the commercial potential of the idea\")\n",
    "    commercial_score: int = Field(description=\"How high the commercial potential of the idea is from 1 to 10, where 1 is barely profitable and 10 is a billion dollar idea\")\n",
    "    autonomy_feedback: str = Field(description=\"Your commentary on to what extent the idea truly benefits from the autonomous nature of AI Agents\")\n",
    "    autonomy_score: int = Field(description=\"How deeply the idea involves autonomous agents from 1 to 10, where 1 is that it plays no meaningful role, and 10 is that it is pivotal\")\n",
    "\n",
    "    def is_brilliant(self):\n",
    "        return self.uniqueness_score > 8 and self.commercial_score > 8 and self.autonomy_score > 8\n",
    "    \n",
    "    def print_summary(self):\n",
    "        print(f\"Idea: {self.idea.title}\")\n",
    "        print(f\"Uniqueness: {self.uniqueness_score}/10: ({self.uniqueness_feedback})\")\n",
    "        print(f\"Commercial: {self.commercial_score}/10: ({self.commercial_feedback})\")\n",
    "        print(f\"Autonomy: {self.autonomy_score}/10: ({self.autonomy_feedback})\")"
   ]
  },
  {
   "cell_type": "markdown",
   "metadata": {},
   "source": [
    "## Approach 1 (Highly Recommended!) - Call Runner.run() separately"
   ]
  },
  {
   "cell_type": "code",
   "execution_count": 6,
   "metadata": {},
   "outputs": [
    {
     "name": "stdout",
     "output_type": "stream",
     "text": [
      "Title: Autonomous AI Real-Time Supply Chain Orchestrator\n"
     ]
    },
    {
     "data": {
      "text/markdown": [
       "### Industry: Logistics and Supply Chain Management\n",
       "\n",
       "### Concept Overview\n",
       "Develop an Autonomous AI Agent that acts as a real-time Supply Chain Orchestrator, capable of independently managing and optimizing complex supply chains across global networks. This AI agent would monitor shipments, production schedules, and inventory levels continuously, autonomously responding to disruptions or inefficiencies by recalculating logistics routes, adjusting orders, and negotiating with suppliers and carriers using integrated smart contracts.\n",
       "\n",
       "### Unique Selling Points\n",
       "- **True Autonomy:** Unlike existing supply chain software that depends on human input for adjustments, this agent autonomously identifies bottlenecks or delays (e.g., due to weather, geopolitical issues, or demand spikes) and implements corrective actions without requiring human intervention.\n",
       "- **Integrated Negotiations:** Equipped with NLP and contract negotiation capabilities, the AI can dynamically renegotiate terms or procure alternative suppliers and logistics vendors on behalf of the business.\n",
       "- **End-to-End Visibility:** Combines data from IoT sensors, transportation trackers, production lines, and demand forecasting AI to create a holistic, up-to-the-minute picture and controls the supply chain accordingly.\n",
       "- **Scalable Impact:** Suitable for multinational corporations managing thousands of SKU lines, this system can reduce lead times, cut inventory costs, and improve responsiveness to market changes.\n",
       "\n",
       "### Commercial Potential\n",
       "Global supply chains are increasingly complex and vulnerable to disruption. Autonomous AI supply chain orchestrators could drastically reduce operational costs and losses due to delays or mismanagement, offering a competitive edge to adopters. The system could be sold as a subscription-based SaaS model or integrated consultancy solution, targeting industries such as automotive, retail, pharmaceuticals, and electronics.\n",
       "\n",
       "---\n",
       "\n",
       "This idea leverages autonomous AI agent capabilities to independently sense, plan, and act within a high-stakes, dynamic environment, delivering measurable value by optimizing processes that currently require extensive human oversight."
      ],
      "text/plain": [
       "<IPython.core.display.Markdown object>"
      ]
     },
     "metadata": {},
     "output_type": "display_data"
    }
   ],
   "source": [
    "entrepreneur = Agent(name=\"Entrepreneur\", model=\"gpt-4.1-mini\", instructions=entrepreneur_instructions, output_type=Idea)\n",
    "result = await Runner.run(entrepreneur, entrepreneur_input)\n",
    "idea = result.final_output_as(Idea)\n",
    "idea.print_summary()"
   ]
  },
  {
   "cell_type": "code",
   "execution_count": 7,
   "metadata": {},
   "outputs": [
    {
     "name": "stdout",
     "output_type": "stream",
     "text": [
      "Idea: Autonomous AI Real-Time Supply Chain Orchestrator\n",
      "Uniqueness: 8/10: (The idea is quite unique in its deep level of autonomy and integration. While there are many supply chain management tools and AI-powered analytics, few—if any—offer full autonomous orchestration with real-time adjustments, negotiation capabilities, and seamless integration of diverse data streams using smart contracts. The combination of these features into a single autonomous agent that can operate with minimal human intervention represents a significant step beyond current market offerings.)\n",
      "Commercial: 9/10: (The commercial potential is very high. Supply chain disruptions cost global industries billions, and a system that can autonomously minimize these losses and optimize operations can offer tremendous ROI. The scalability to large multinational corporations and industries with complex supply chains enhances its market size. The SaaS or consultancy model is practical and aligns well with current enterprise software purchasing behaviors. However, successful deployment would require overcoming significant integration and trust challenges with clients.)\n",
      "Autonomy: 10/10: (Autonomy is central and critical to this idea. The value proposition specifically hinges on the agent's ability to independently sense complex data inputs, make decisions, negotiate contracts, and execute changes without human supervision. This truly leverages the capabilities of autonomous AI agents rather than merely augmenting human tasks. Thus, autonomy here is pivotal to both technical feasibility and commercial differentiation.)\n"
     ]
    }
   ],
   "source": [
    "evaluator = Agent(name=\"Evaluator\", model=\"gpt-4.1-mini\", instructions=evaluator_instructions, output_type=Evaluation)\n",
    "result = await Runner.run(evaluator, f\"{evaluator_input}{idea}\")\n",
    "evaluation = result.final_output_as(Evaluation)\n",
    "evaluation.print_summary()"
   ]
  },
  {
   "cell_type": "code",
   "execution_count": 8,
   "metadata": {},
   "outputs": [],
   "source": [
    "entrepreneur_latest = f\"You were originally given the following task:\\n\\n{entrepreneur_input}\\n\\n\"\n",
    "remaining_attempts = 4"
   ]
  },
  {
   "cell_type": "code",
   "execution_count": 9,
   "metadata": {},
   "outputs": [
    {
     "name": "stdout",
     "output_type": "stream",
     "text": [
      "Title: Autonomous AI Global Supply Chain Resilience Hub\n"
     ]
    },
    {
     "data": {
      "text/markdown": [
       "### Industry: Logistics and Supply Chain Management\n",
       "\n",
       "### Concept Overview\n",
       "Create an advanced Autonomous AI Agent platform, the Global Supply Chain Resilience Hub, designed to provide fully autonomous, end-to-end supply chain orchestration with a focus on proactive disruption anticipation and recovery. This agent continuously ingests and analyzes heterogeneous data streams — including IoT device inputs, satellite and weather data, geopolitical news, trade regulations, and market demand signals — to autonomously forecast risks and initiate mitigation strategies in real time.\n",
       "\n",
       "### Key Innovations\n",
       "- **Predictive Disruption Management:** Uses deep learning to anticipate multi-modal risks such as natural disasters, customs delays, or supplier insolvencies days or weeks ahead, allowing the agent to preemptively reroute logistics, adjust production, or secure alternative sourcing.\n",
       "- **Autonomous Adaptive Contracting:** Employs natural language understanding and negotiation frameworks to autonomously manage and renegotiate smart contracts with suppliers, carriers, and partners, dynamically optimizing terms based on evolving circumstances.\n",
       "- **Federated Multi-Partner Integration:** Supports secure, privacy-preserving collaboration across diverse stakeholders (manufacturers, 3PLs, distributors) through federated learning models, enabling ecosystem-wide synchronized decision making without exposing sensitive data.\n",
       "- **Dynamic Inventory and Capacity Optimization:** Continuously rebalances inventory and capacity allocations across global warehouses and production facilities in reaction to live demand and supply fluctuations.\n",
       "\n",
       "### Commercial Potential\n",
       "The solution addresses the high cost and complexity of global supply chain disruptions by offering companies a resilient, self-healing operations platform that minimizes downtime and reduces excess inventory holding. Delivered as a modular SaaS suite tailored by industry vertical, this platform targets global enterprises in automotive, electronics, pharmaceuticals, and consumer goods. Early adopters gain significant competitive advantages through improved service levels, lowered costs, and increased supply chain agility.\n",
       "\n",
       "---\n",
       "\n",
       "This idea moves beyond current supply chain software by embedding deep autonomous intelligence that anticipates, negotiates, and adapts across complex global networks in real time, offering a transformative leap in supply chain resilience and efficiency."
      ],
      "text/plain": [
       "<IPython.core.display.Markdown object>"
      ]
     },
     "metadata": {},
     "output_type": "display_data"
    },
    {
     "name": "stdout",
     "output_type": "stream",
     "text": [
      "Idea: Autonomous AI Global Supply Chain Resilience Hub\n",
      "Uniqueness: 9/10: (The idea is quite unique in the realm of autonomous AI agents applied to supply chain management. While predictive analytics and some automation exist in current supply chain solutions, the integration of fully autonomous, end-to-end orchestration combining multi-source real-time data ingestion, proactive risk forecasting, autonomous contract renegotiation, and federated learning for ecosystem-wide collaboration is a novel and comprehensive approach. Especially the autonomous adaptive contracting and federated multi-partner integration are standout innovations not commonly seen together in existing platforms.)\n",
      "Commercial: 9/10: (The commercial potential is substantial, given the critical importance and fragility of global supply chains worldwide. Enterprises across multiple major industries face significant losses from disruptions and inefficiencies, so a platform that can proactively manage risks, autonomously adapt contracts, and optimize inventory dynamically has a huge market. Delivering this as a modular SaaS solution tailored to sectors enhances scalability and customer adoption. The combination of cost savings, agility, and resiliency offers strong value propositions likely to drive wide enterprise adoption and justify premium pricing, making it a potentially multi-billion dollar venture over time.)\n",
      "Autonomy: 10/10: (The core of the idea centers on the autonomous capabilities of the AI agent. It involves continuous autonomous data ingestion from diverse sources, real-time risk analysis, autonomous mitigation decision making including rerouting logistics and adjusting production, and self-driven contract negotiation with partners. The federated learning framework also requires autonomous coordination across stakeholders without manual intervention. This deep, multi-faceted autonomy across complex global operations is pivotal to its value and distinctive from semi-automated or assisted decision systems, making autonomy the fundamental enabler here.)\n"
     ]
    }
   ],
   "source": [
    "with trace(\"Entrepreneur Approach 1\"):\n",
    "    while not evaluation.is_brilliant() and remaining_attempts:\n",
    "        remaining_attempts -= 1\n",
    "        entrepreneur_latest += f\"You responded with this idea:\\n\\n{idea}\\n\\nYou received this feedback:\\n\\n{evaluation}\\n\\n\"\n",
    "        entrepreneur_latest += \"Now respond with an improved idea that adresses the feedback. Do not directly reference the feedback.\\n\\n\"\n",
    "        result = await Runner.run(entrepreneur, entrepreneur_latest)\n",
    "        idea = result.final_output_as(Idea)\n",
    "        idea.print_summary()\n",
    "        result = await Runner.run(evaluator, f\"{evaluator_input}{idea}\")\n",
    "        evaluation = result.final_output_as(Evaluation)\n",
    "        evaluation.print_summary()"
   ]
  },
  {
   "cell_type": "markdown",
   "metadata": {},
   "source": [
    "## Approach 2 - Handoff\n",
    "\n",
    "This seems to be the more unpredictable of the approaches, and I struggle to get it to ever handoff more than 1 loop.."
   ]
  },
  {
   "cell_type": "code",
   "execution_count": 10,
   "metadata": {},
   "outputs": [],
   "source": [
    "entrepreneur_instructions = \"You generate novel, exciting business ideas for Autonomous AI Agents that you pass to the Evaluator to evaluate\"\n",
    "entrepreneur_input = \"\"\"\n",
    "Propose one compelling business idea for applying Autonomous AI Agents to any industry you choose.\n",
    "The idea should be unique, high potential commercial impact, and make true use of the autonomous capabilities of AI Agents.\n",
    "You MUST handoff your idea to the Evaluator to be evaluated by using the tool Handoff_to_Evaluator. You must always call this tool with your idea or an improved idea.\n",
    "\"\"\"\n",
    "\n",
    "evaluator_instructions = \"\"\"\n",
    "You evaluate novel, exciting business ideas for Autonomous AI Agents.\n",
    "Evaluate the business idea that you are given; assess it for uniqueness, potential commercial impact, and use of Autonomous AI Agents.\n",
    "If you would not score the idea 9/10 or 10/10 in all 3 categories, then you must handoff the idea back to the Entrepreneur to improve it by using the tool Handoff_to_Entrepreneur and providing your feedback.\n",
    "if you do score the idea 9/10 or better in all categories, then respond with the evaluation.\n",
    "\"\"\""
   ]
  },
  {
   "cell_type": "code",
   "execution_count": 11,
   "metadata": {},
   "outputs": [],
   "source": [
    "entrepreneur = Agent(name=\"Entrepreneur\", model=\"gpt-4.1-mini\", instructions=entrepreneur_instructions, output_type=Idea)\n",
    "evaluator = Agent(name=\"Evaluator\", model=\"gpt-4.1-mini\", instructions=evaluator_instructions, output_type=Evaluation)\n",
    "\n",
    "\n",
    "def on_handoff(ctx, input):\n",
    "    print(\"Handoff called\")\n",
    "\n",
    "entrepreneur.handoffs = [handoff(\n",
    "    agent=evaluator,\n",
    "    input_type=Idea,\n",
    "    on_handoff=on_handoff,\n",
    "    tool_name_override=\"Handoff_to_Evaluator\",\n",
    "    tool_description_override=\"Use this tool to handoff your idea to the Evaluator to evaluate. You must always call this tool.\"\n",
    ")]\n",
    "\n",
    "evaluator.handoffs = [handoff(\n",
    "    agent=entrepreneur,\n",
    "    input_type=Evaluation,\n",
    "    on_handoff=on_handoff,\n",
    "    tool_name_override=\"Handoff_to_Entrepreneur\",\n",
    "    tool_description_override=\"Use this tool to handoff your feedback to the Entrepreneur to improve the idea. You should call this tool if your feedback is less than 9/10 in any category.\"\n",
    ")] "
   ]
  },
  {
   "cell_type": "code",
   "execution_count": 12,
   "metadata": {},
   "outputs": [
    {
     "name": "stdout",
     "output_type": "stream",
     "text": [
      "Handoff called\n",
      "Handoff called\n"
     ]
    }
   ],
   "source": [
    "with trace(\"Entrepreneur Approach 2\"):\n",
    "    result = await Runner.run(entrepreneur, entrepreneur_input, max_turns=10)"
   ]
  },
  {
   "cell_type": "code",
   "execution_count": 13,
   "metadata": {},
   "outputs": [
    {
     "name": "stdout",
     "output_type": "stream",
     "text": [
      "Title: AI-Driven Autonomous Facility Management Agents\n"
     ]
    },
    {
     "data": {
      "text/markdown": [
       "### Industry: Commercial Real Estate and Facility Management\n",
       "\n",
       "### Concept:\n",
       "Develop autonomous AI Agents specialized in facility management that independently monitor, predict, and manage building systems to optimize energy use, maintenance schedules, security, and occupant comfort without human intervention.\n",
       "\n",
       "### How It Works:\n",
       "- **Continuous Autonomous Monitoring:** AI agents utilize IoT sensors and building management systems data to continuously monitor HVAC, lighting, security cameras, elevators, and other building operations.\n",
       "- **Predictive Maintenance:** Agents analyze patterns and predict equipment failures or inefficiencies, scheduling maintenance autonomously before issues arise, reducing downtime and repair costs.\n",
       "- **Energy Optimization:** Autonomously adjust heating, cooling, lighting, and energy consumption patterns in real-time based on occupancy patterns and weather forecasts, significantly lowering energy costs.\n",
       "- **Security and Access Control:** Agents independently identify security threats or unsafe conditions by integrating data from cameras and sensors, alerting authorities or locking down zones as needed.\n",
       "- **Occupant Comfort Management:** Dynamically adjust lighting, temperature, and air quality to maximize occupant well-being using feedback loops from autonomous sensing and user preferences.\n",
       "\n",
       "### Commercial Impact:\n",
       "- Significant cost savings from reduced energy consumption and maintenance expenses.\n",
       "- Enhanced building safety and security through proactive risk management.\n",
       "- Increased tenant satisfaction and retention due to improved comfort and reliability.\n",
       "- Scalable to manage multiple properties or large commercial complexes autonomously, offering a high-impact service for facility management companies or real estate owners.\n",
       "\n",
       "### Why Autonomous AI Agents?\n",
       "The fully autonomous nature eliminates the constant need for human monitoring and intervention, enabling 24/7 proactive building management that can rapidly adapt to changing conditions at scale. This disrupts traditional facility management approaches dependent on scheduled checks and reactive repairs, providing a transformative leap in efficiency and service quality."
      ],
      "text/plain": [
       "<IPython.core.display.Markdown object>"
      ]
     },
     "metadata": {},
     "output_type": "display_data"
    }
   ],
   "source": [
    "result.final_output.print_summary()"
   ]
  },
  {
   "cell_type": "markdown",
   "metadata": {},
   "source": [
    "## Approach 3 - Agents as Tools"
   ]
  },
  {
   "cell_type": "code",
   "execution_count": 14,
   "metadata": {},
   "outputs": [],
   "source": [
    "\n",
    "entrepreneur_instructions = \"You generate novel, exciting business ideas for Autonomous AI Agents\"\n",
    "entrepreneur_input = \"\"\"\n",
    "Propose one compelling business idea for applying Autonomous AI Agents to any industry you choose.\n",
    "The idea should be unique, high potential commercial impact, and make true use of the autonomous capabilities of AI Agents.\n",
    "You must call the Evaluator tool to Evaluate the idea. If the idea is not 9 or 10 in all 3 scores,\n",
    "then you must improve the idea and call the Evaluator tool again.\n",
    "Keep improving the idea and calling the Evaluator tool until you get a 9 or 10 in all 3 scores.\n",
    "Then finally respond with the idea.\n",
    "\"\"\"\n",
    "evaluator_instructions = \"\"\"\n",
    "You evaluate novel, exciting business ideas for Autonomous AI Agents.\n",
    "Evaluate the following business idea; assess it for uniqueness, potential commercial impact, and use of Autonomous AI Agents.\n",
    "\"\"\"\n",
    "\n"
   ]
  },
  {
   "cell_type": "code",
   "execution_count": 15,
   "metadata": {},
   "outputs": [],
   "source": [
    "evaluator = Agent(name=\"Evaluator\", model=\"gpt-4.1-mini\", instructions=evaluator_instructions, output_type=Evaluation)\n",
    "evaluator_tool = evaluator.as_tool(\n",
    "    tool_name=\"Evaluator_Idea_Evaluator\",\n",
    "    tool_description=\"Evaluates the idea for uniqueness, potential commercial impact, and use of Autonomous AI Agents\",\n",
    ")\n",
    "\n",
    "entrepreneur = Agent(name=\"Entrepreneur\", model=\"gpt-4.1-mini\", instructions=entrepreneur_instructions, output_type=Idea, tools=[evaluator_tool])"
   ]
  },
  {
   "cell_type": "code",
   "execution_count": 16,
   "metadata": {},
   "outputs": [
    {
     "name": "stdout",
     "output_type": "stream",
     "text": [
      "Title: Autonomous Cooperative AgriSentinel AI Network with Integrated Autonomous Financial Services\n"
     ]
    },
    {
     "data": {
      "text/markdown": [
       "Enhance the existing Autonomous Cooperative AgriSentinel AI Network by integrating autonomous AI-driven financial services. This integration includes real-time dynamic pricing adjustments, automated insurance claims processing through AI agents analyzing crop damage via drone surveillance, and autonomous investment recommendations customized based on each farm's performance and current market trends. The financial AI agents operate in seamless coordination with operational farming agents, creating a comprehensive, fully autonomous agricultural management ecosystem encompassing farming, logistics, compliance, and finance without human intervention, thereby maximizing efficiency and profitability.\n",
       "\n",
       "This platform uniquely combines autonomous crop and resource management across cooperative farm networks with advanced financial services, enabling farms to optimize operations, reduce costs, ensure regulatory compliance, and enhance financial outcomes simultaneously. The depth of autonomy across these multiple domains represents a breakthrough in smart agriculture, offering significant commercial potential globally in the growing agri-tech sector."
      ],
      "text/plain": [
       "<IPython.core.display.Markdown object>"
      ]
     },
     "metadata": {},
     "output_type": "display_data"
    }
   ],
   "source": [
    "with trace(\"Entrepreneur Approach 3\"):\n",
    "    result = await Runner.run(entrepreneur, entrepreneur_input)\n",
    "    idea = result.final_output_as(Idea)\n",
    "    idea.print_summary()"
   ]
  },
  {
   "cell_type": "markdown",
   "metadata": {},
   "source": [
    "## OpenAI Traces\n",
    "\n",
    "We've been writing all this information to OpenAI traces, the 'observability' framework built into OpenAI.\n",
    "\n",
    "You can take a look at these traces here:\n",
    "\n",
    "https://platform.openai.com/traces\n",
    "\n",
    "There's also a nice way to visualize:"
   ]
  },
  {
   "cell_type": "code",
   "execution_count": null,
   "metadata": {},
   "outputs": [],
   "source": [
    "from agents.extensions.visualization import draw_graph\n",
    "draw_graph(entrepreneur)\n"
   ]
  },
  {
   "cell_type": "code",
   "execution_count": null,
   "metadata": {},
   "outputs": [],
   "source": []
  }
 ],
 "metadata": {
  "kernelspec": {
   "display_name": ".venv",
   "language": "python",
   "name": "python3"
  },
  "language_info": {
   "codemirror_mode": {
    "name": "ipython",
    "version": 3
   },
   "file_extension": ".py",
   "mimetype": "text/x-python",
   "name": "python",
   "nbconvert_exporter": "python",
   "pygments_lexer": "ipython3",
   "version": "3.12.11"
  }
 },
 "nbformat": 4,
 "nbformat_minor": 2
}
