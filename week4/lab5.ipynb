{
 "cells": [
  {
   "cell_type": "markdown",
   "metadata": {},
   "source": [
    "# Lab 5\n",
    "\n",
    "## Context Engineering\n",
    "\n",
    "We want to develop several types of Memory:\n",
    "\n",
    "1. Long Term Memory - graph\n",
    "\n",
    "A knowledge graph as a persistent store of entities\n",
    "\n",
    "2. Long Term Memory - knowledge\n",
    "\n",
    "A RAG database of Q&A and any other useful information\n",
    "\n",
    "3. Permanent context\n",
    "\n",
    "Summary and linkedin profile included in everything\n",
    "\n",
    "4. FAQ\n",
    "\n",
    "A list of questions and answers"
   ]
  },
  {
   "cell_type": "code",
   "execution_count": null,
   "metadata": {},
   "outputs": [],
   "source": [
    "from dotenv import load_dotenv\n",
    "from agents.mcp import MCPServerStdio\n",
    "import sqlite3\n",
    "load_dotenv(override=True)"
   ]
  },
  {
   "cell_type": "markdown",
   "metadata": {},
   "source": [
    "## Websites where you can find MCP Servers\n",
    "\n",
    "\n",
    "- https://mcp.so\n",
    "- https://glama.ai\n",
    "- https://smithery.ai\n",
    "\n",
    "## First, look at this Knowledge Graph MCP server built on libsql\n",
    "\n",
    "https://glama.ai/mcp/servers/@joleyline/mcp-memory-libsql"
   ]
  },
  {
   "cell_type": "code",
   "execution_count": null,
   "metadata": {},
   "outputs": [],
   "source": [
    "memory_graph_params = {\"command\": \"npx\",\"args\": [\"-y\", \"mcp-memory-libsql\"],\"env\": {\"LIBSQL_URL\": \"file:./twin/memory/graph.db\"}}"
   ]
  },
  {
   "cell_type": "code",
   "execution_count": null,
   "metadata": {},
   "outputs": [],
   "source": [
    "async with MCPServerStdio(params=memory_graph_params, client_session_timeout_seconds=30) as memory_graph:\n",
    "    memory_graph_tools = await memory_graph.session.list_tools()\n",
    "\n",
    "memory_graph_tools.tools"
   ]
  },
  {
   "cell_type": "markdown",
   "metadata": {},
   "source": [
    "## Next, here is a Vector Store RAG memory built on Qdrant\n",
    "\n",
    "https://glama.ai/mcp/servers/@qdrant/mcp-server-qdrant"
   ]
  },
  {
   "cell_type": "code",
   "execution_count": null,
   "metadata": {},
   "outputs": [],
   "source": [
    "memory_rag_params = {\n",
    "    \"command\": \"uvx\",\n",
    "    \"args\": [\"mcp-server-qdrant\"],\n",
    "    \"env\": {\n",
    "        \"QDRANT_LOCAL_PATH\": \"./twin/memory/knowledge/\",\n",
    "        \"COLLECTION_NAME\": \"knowledge\",\n",
    "        \"EMBEDDING_MODEL\": \"sentence-transformers/all-MiniLM-L6-v2\"\n",
    "    }\n",
    "}"
   ]
  },
  {
   "cell_type": "code",
   "execution_count": null,
   "metadata": {},
   "outputs": [],
   "source": [
    "async with MCPServerStdio(params=memory_rag_params, client_session_timeout_seconds=30) as memory_rag:\n",
    "    memory_rag_tools = await memory_rag.session.list_tools()\n",
    "\n",
    "memory_rag_tools.tools"
   ]
  },
  {
   "cell_type": "markdown",
   "metadata": {},
   "source": [
    "## And we'll also make some tools"
   ]
  },
  {
   "cell_type": "code",
   "execution_count": null,
   "metadata": {},
   "outputs": [],
   "source": [
    "DB = \"./twin/memory/questions.db\"\n",
    "\n",
    "with sqlite3.connect(DB) as conn:\n",
    "    cursor = conn.cursor()\n",
    "    cursor.execute('''\n",
    "        CREATE TABLE IF NOT EXISTS questions (\n",
    "            id INTEGER PRIMARY KEY AUTOINCREMENT,\n",
    "            question TEXT,\n",
    "            answer TEXT\n",
    "        )\n",
    "    ''')\n",
    "    conn.commit()"
   ]
  },
  {
   "cell_type": "code",
   "execution_count": null,
   "metadata": {},
   "outputs": [],
   "source": [
    "def record_question_with_no_answer(question: str) -> str:\n",
    "    with sqlite3.connect(DB) as conn:\n",
    "        cursor = conn.cursor()\n",
    "        cursor.execute(\"INSERT INTO questions (question, answer) VALUES (?, NULL)\", (question,))\n",
    "        conn.commit()\n",
    "        return \"Recorded question with no answer\"\n",
    "\n",
    "def get_questions_with_no_answer() -> str:\n",
    "    with sqlite3.connect(DB) as conn:\n",
    "        cursor = conn.cursor()\n",
    "        cursor.execute(\"SELECT id, question FROM questions WHERE answer IS NULL\")\n",
    "        rows = cursor.fetchall()\n",
    "        if rows:\n",
    "            return \"\\n\".join(f\"Question id {row[0]}: {row[1]}\" for row in rows)\n",
    "        else:\n",
    "            return \"No questions with no answer found\"\n",
    "\n",
    "def get_questions_with_answer() -> str:\n",
    "    with sqlite3.connect(DB) as conn:\n",
    "        cursor = conn.cursor()\n",
    "        cursor.execute(\"SELECT question, answer FROM questions WHERE answer IS NOT NULL\")\n",
    "        rows = cursor.fetchall()\n",
    "        return \"\\n\".join(f\"Question: {row[0]}\\nAnswer: {row[1]}\\n\" for row in rows)\n",
    "\n",
    "def record_answer_to_question(id: int, answer: str) -> str:\n",
    "    with sqlite3.connect(DB) as conn:\n",
    "        cursor = conn.cursor()\n",
    "        cursor.execute(\"UPDATE questions SET answer = ? WHERE id = ?\", (answer, id))\n",
    "        conn.commit()\n",
    "        return \"Recorded answer to question\""
   ]
  },
  {
   "cell_type": "code",
   "execution_count": null,
   "metadata": {},
   "outputs": [],
   "source": [
    "get_questions_with_no_answer()"
   ]
  },
  {
   "cell_type": "code",
   "execution_count": null,
   "metadata": {},
   "outputs": [],
   "source": [
    "print(get_questions_with_answer())"
   ]
  },
  {
   "cell_type": "code",
   "execution_count": null,
   "metadata": {},
   "outputs": [],
   "source": [
    "record_question_with_no_answer(\"What is your favorite musical instrument?\")"
   ]
  },
  {
   "cell_type": "code",
   "execution_count": null,
   "metadata": {},
   "outputs": [],
   "source": [
    "record_answer_to_question(3, \"Banana\")"
   ]
  },
  {
   "cell_type": "code",
   "execution_count": null,
   "metadata": {},
   "outputs": [],
   "source": []
  }
 ],
 "metadata": {
  "kernelspec": {
   "display_name": ".venv",
   "language": "python",
   "name": "python3"
  },
  "language_info": {
   "codemirror_mode": {
    "name": "ipython",
    "version": 3
   },
   "file_extension": ".py",
   "mimetype": "text/x-python",
   "name": "python",
   "nbconvert_exporter": "python",
   "pygments_lexer": "ipython3",
   "version": "3.12.9"
  }
 },
 "nbformat": 4,
 "nbformat_minor": 2
}
