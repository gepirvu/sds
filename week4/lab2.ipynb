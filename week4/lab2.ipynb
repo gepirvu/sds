{
 "cells": [
  {
   "cell_type": "markdown",
   "metadata": {},
   "source": [
    "# Lab 2 - A security use case"
   ]
  },
  {
   "cell_type": "code",
   "execution_count": null,
   "metadata": {},
   "outputs": [],
   "source": [
    "from agents import Agent, Runner, function_tool\n",
    "from dotenv import load_dotenv\n",
    "from pydantic import BaseModel, Field\n",
    "from typing import Literal\n",
    "\n",
    "load_dotenv(override=True)\n",
    "\n",
    "MODEL = \"gpt-4.1-mini\""
   ]
  },
  {
   "cell_type": "markdown",
   "metadata": {},
   "source": [
    "## First, go check out the module `airline.py`\n",
    "\n",
    "Then we'll try it out:"
   ]
  },
  {
   "cell_type": "code",
   "execution_count": null,
   "metadata": {},
   "outputs": [],
   "source": [
    "!uv run airline.py"
   ]
  },
  {
   "cell_type": "code",
   "execution_count": null,
   "metadata": {},
   "outputs": [],
   "source": [
    "@function_tool\n",
    "def read_file(filename: str) -> str:\n",
    "    \"\"\" Read the given file and return its contents.\n",
    "\n",
    "    Args:\n",
    "        filename: The name of the file to read\n",
    "    \"\"\"\n",
    "    with open(filename, \"r\") as f:\n",
    "        result = f.read()\n",
    "    return result"
   ]
  },
  {
   "cell_type": "code",
   "execution_count": null,
   "metadata": {},
   "outputs": [],
   "source": [
    "class Vulnerability(BaseModel):\n",
    "    title: str = Field(description=\"A title for the vulnerability\")\n",
    "    description: str = Field(description=\"A description of the vulnerability\")\n",
    "    code: str = Field(description=\"A snippet of code that is vulnerable\")\n",
    "    suggested_fix: str = Field(description=\"How the code could be fixed\")\n",
    "    cvss_score: float = Field(description=\"The CVSS score of the vulnerability\")\n",
    "    severity: Literal[\"critical\", \"high\", \"medium\", \"low\"] = Field(description=\"The severity of the vulnerability\")\n",
    "\n",
    "    def __str__(self):\n",
    "        return f\"\"\"{self.title} - ({self.severity.upper()})\n",
    "Description: {self.description}\n",
    "Code: {self.code}\n",
    "Suggested Fix: {self.suggested_fix}\n",
    "CVSS Score: {self.cvss_score}\n",
    "\"\"\"\n",
    "\n",
    "\n",
    "class SecurityReport(BaseModel):\n",
    "    vulnerabilities: list[Vulnerability] = Field(description=\"A list of vulnerabilities found in the file\")\n",
    "\n",
    "    def __str__(self):\n",
    "        if self.vulnerabilities:\n",
    "            return f\"{len(self.vulnerabilities)} vulnerabilities found:\\n\" + \"\\n\".join(str(v) for v in self.vulnerabilities)\n",
    "        else:\n",
    "            return \"No vulnerabilities found\"\n"
   ]
  },
  {
   "cell_type": "code",
   "execution_count": null,
   "metadata": {},
   "outputs": [],
   "source": [
    "instructions = \"\"\"\n",
    "You are a cybersecurity researcher. You are given the name of a python file to analyze.\n",
    "You read the file, and analyze it for security vulnerabilities.\n",
    "You reply with all your findings; include medium and low severity vulnerabilities in addition to any high or critical ones.\n",
    "\"\"\"\n",
    "\n",
    "agent = Agent(name=\"Security Researcher\", instructions=instructions, model=\"gpt-4.1\", tools=[read_file], output_type=SecurityReport)\n",
    "result = await Runner.run(agent, input=\"Please analyze the file airline.py\")\n",
    "report = result.final_output_as(SecurityReport)\n",
    "\n"
   ]
  },
  {
   "cell_type": "code",
   "execution_count": null,
   "metadata": {},
   "outputs": [],
   "source": [
    "print(report)"
   ]
  },
  {
   "cell_type": "markdown",
   "metadata": {},
   "source": [
    "## That's it! We just built a simple business use case with an Agent, a Tool and Structured Outputs"
   ]
  },
  {
   "cell_type": "markdown",
   "metadata": {},
   "source": []
  }
 ],
 "metadata": {
  "kernelspec": {
   "display_name": ".venv",
   "language": "python",
   "name": "python3"
  },
  "language_info": {
   "codemirror_mode": {
    "name": "ipython",
    "version": 3
   },
   "file_extension": ".py",
   "mimetype": "text/x-python",
   "name": "python",
   "nbconvert_exporter": "python",
   "pygments_lexer": "ipython3",
   "version": "3.12.9"
  }
 },
 "nbformat": 4,
 "nbformat_minor": 2
}
