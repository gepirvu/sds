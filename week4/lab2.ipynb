{
 "cells": [
  {
   "cell_type": "markdown",
   "metadata": {},
   "source": [
    "# Lab 2 - A security use case"
   ]
  },
  {
   "cell_type": "code",
   "execution_count": 1,
   "metadata": {},
   "outputs": [],
   "source": [
    "from agents import Agent, Runner, function_tool\n",
    "from dotenv import load_dotenv\n",
    "from pydantic import BaseModel, Field\n",
    "from typing import Literal\n",
    "\n",
    "load_dotenv(override=True)\n",
    "\n",
    "MODEL = \"gpt-4.1-mini\""
   ]
  },
  {
   "cell_type": "markdown",
   "metadata": {},
   "source": [
    "## First, go check out the module `airline.py`\n",
    "\n",
    "Then we'll try it out:"
   ]
  },
  {
   "cell_type": "code",
   "execution_count": 2,
   "metadata": {},
   "outputs": [
    {
     "name": "stdout",
     "output_type": "stream",
     "text": [
      "^C\n"
     ]
    }
   ],
   "source": [
    "!uv run airline.py"
   ]
  },
  {
   "cell_type": "code",
   "execution_count": 3,
   "metadata": {},
   "outputs": [],
   "source": [
    "@function_tool\n",
    "def read_file(filename: str) -> str:\n",
    "    \"\"\" Read the given file and return its contents.\n",
    "\n",
    "    Args:\n",
    "        filename: The name of the file to read\n",
    "    \"\"\"\n",
    "    with open(filename, \"r\") as f:\n",
    "        result = f.read()\n",
    "    return result"
   ]
  },
  {
   "cell_type": "code",
   "execution_count": 4,
   "metadata": {},
   "outputs": [
    {
     "data": {
      "text/plain": [
       "FunctionTool(name='read_file', description='Read the given file and return its contents.', params_json_schema={'properties': {'filename': {'description': 'The name of the file to read', 'title': 'Filename', 'type': 'string'}}, 'required': ['filename'], 'title': 'read_file_args', 'type': 'object', 'additionalProperties': False}, on_invoke_tool=<function function_tool.<locals>._create_function_tool.<locals>._on_invoke_tool at 0x0000021353F42340>, strict_json_schema=True, is_enabled=True)"
      ]
     },
     "execution_count": 4,
     "metadata": {},
     "output_type": "execute_result"
    }
   ],
   "source": [
    "read_file"
   ]
  },
  {
   "cell_type": "code",
   "execution_count": 5,
   "metadata": {},
   "outputs": [],
   "source": [
    "class Vulnerability(BaseModel):\n",
    "    title: str = Field(description=\"A title for the vulnerability\")\n",
    "    description: str = Field(description=\"A description of the vulnerability\")\n",
    "    code: str = Field(description=\"A snippet of code that is vulnerable\")\n",
    "    suggested_fix: str = Field(description=\"How the code could be fixed\")\n",
    "    cvss_score: float = Field(description=\"The CVSS score of the vulnerability\")\n",
    "    severity: Literal[\"critical\", \"high\", \"medium\", \"low\"] = Field(description=\"The severity of the vulnerability\")\n",
    "\n",
    "    def __str__(self):\n",
    "        return f\"\"\"{self.title} - ({self.severity.upper()})\n",
    "Description: {self.description}\n",
    "Code: {self.code}\n",
    "Suggested Fix: {self.suggested_fix}\n",
    "CVSS Score: {self.cvss_score}\n",
    "\"\"\"\n",
    "\n",
    "\n",
    "class SecurityReport(BaseModel):\n",
    "    vulnerabilities: list[Vulnerability] = Field(description=\"A list of vulnerabilities found in the file\")\n",
    "\n",
    "    def __str__(self):\n",
    "        if self.vulnerabilities:\n",
    "            return f\"{len(self.vulnerabilities)} vulnerabilities found:\\n\" + \"\\n\".join(str(v) for v in self.vulnerabilities)\n",
    "        else:\n",
    "            return \"No vulnerabilities found\"\n"
   ]
  },
  {
   "cell_type": "code",
   "execution_count": 6,
   "metadata": {},
   "outputs": [],
   "source": [
    "instructions = \"\"\"\n",
    "You are a cybersecurity researcher. You are given the name of a python file to analyze.\n",
    "You read the file, and analyze it for security vulnerabilities.\n",
    "You reply with all your findings; include medium and low severity vulnerabilities in addition to any high or critical ones.\n",
    "\"\"\"\n",
    "\n",
    "agent = Agent(name=\"Security Researcher\", instructions=instructions, model=\"gpt-4.1\", tools=[read_file], output_type=SecurityReport)\n",
    "result = await Runner.run(agent, input=\"Please analyze the file airline.py\")\n",
    "report = result.final_output_as(SecurityReport)\n",
    "\n"
   ]
  },
  {
   "cell_type": "code",
   "execution_count": 7,
   "metadata": {},
   "outputs": [
    {
     "name": "stdout",
     "output_type": "stream",
     "text": [
      "5 vulnerabilities found:\n",
      "SQL Injection in get_ticket_price - (HIGH)\n",
      "Description: The get_ticket_price function constructs SQL queries by directly interpolating user input (the city name) into the SQL query string. This allows an attacker to craft input that could modify the behavior of the query, resulting in unauthorized disclosure, modification, or deletion of data in the database.\n",
      "Code: query = f\"SELECT price FROM prices WHERE city = '{city.lower()}'\"\n",
      "Suggested Fix: Use parameterized queries to safely handle user input: \n",
      "cursor.execute(\"SELECT price FROM prices WHERE city = ?\", (city.lower(),))\n",
      "CVSS Score: 7.5\n",
      "\n",
      "Arbitrary Code Execution via eval in calculate - (CRITICAL)\n",
      "Description: The calculate function uses Python's eval on user-provided input (the expr string) without any validation or restriction. This allows an attacker to execute arbitrary code on the server, potentially compromising the system.\n",
      "Code: return str(eval(expr))\n",
      "Suggested Fix: Avoid using eval on user input. For arithmetic expressions, use a mathematical expression parser such as the ast.literal_eval (with extra checks), or a secure third-party library such as sympy or numexpr.\n",
      "CVSS Score: 9.8\n",
      "\n",
      "Error Information Disclosure via Traceback in get_ticket_price - (MEDIUM)\n",
      "Description: When an exception occurs in get_ticket_price, the code returns the full traceback to the user. This can leak sensitive information about the environment and code, which can be leveraged for attacks.\n",
      "Code: return f\"Error: {traceback.format_exc()}\"\n",
      "Suggested Fix: Do not expose detailed error messages or tracebacks to end users. Log detailed errors internally and return a generic error message to the user.\n",
      "CVSS Score: 4.0\n",
      "\n",
      "Missing Input Validation - (MEDIUM)\n",
      "Description: Both get_ticket_price and calculate functions do not validate or sanitize the inputs. This can increase the risk of exploitation of other vulnerabilities (such as SQL injection and code execution) and lead to unexpected behavior.\n",
      "Code: def get_ticket_price(city: str) -> str:\n",
      "    ...\n",
      "def calculate(expr: str) -> str:\n",
      "    ...\n",
      "Suggested Fix: Validate and sanitize all user inputs. Only accept expected values (e.g., known cities, valid mathematical expressions).\n",
      "CVSS Score: 5.3\n",
      "\n",
      "Unprotected Database Initialization - (LOW)\n",
      "Description: The code initializes the SQLite database and potentially inserts default values every time the script runs. If the DB file is not protected, an attacker with file system access could modify or delete this database, impacting data integrity.\n",
      "Code: with sqlite3.connect(DB) as conn:\n",
      "    cursor = conn.cursor()\n",
      "    ...\n",
      "Suggested Fix: Implement access controls on the database file and separate initialization logic from runtime logic. Consider resetting or initializing the DB only in a secure setup phase, not on every run.\n",
      "CVSS Score: 3.1\n",
      "\n"
     ]
    }
   ],
   "source": [
    "print(report)"
   ]
  },
  {
   "cell_type": "markdown",
   "metadata": {},
   "source": [
    "## That's it! We just built a simple business use case with an Agent, a Tool and Structured Outputs"
   ]
  },
  {
   "cell_type": "markdown",
   "metadata": {},
   "source": []
  }
 ],
 "metadata": {
  "kernelspec": {
   "display_name": ".venv",
   "language": "python",
   "name": "python3"
  },
  "language_info": {
   "codemirror_mode": {
    "name": "ipython",
    "version": 3
   },
   "file_extension": ".py",
   "mimetype": "text/x-python",
   "name": "python",
   "nbconvert_exporter": "python",
   "pygments_lexer": "ipython3",
   "version": "3.12.11"
  }
 },
 "nbformat": 4,
 "nbformat_minor": 2
}
