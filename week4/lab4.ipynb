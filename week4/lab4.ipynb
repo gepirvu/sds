{
 "cells": [
  {
   "cell_type": "markdown",
   "metadata": {},
   "source": [
    "# Lab 4\n",
    "\n",
    "The security project revisited"
   ]
  },
  {
   "cell_type": "code",
   "execution_count": 1,
   "metadata": {},
   "outputs": [],
   "source": [
    "from dotenv import load_dotenv\n",
    "import os\n",
    "from agents import Agent, Runner, trace\n",
    "from agents.mcp import MCPServerStdio\n",
    "from IPython.display import Markdown\n",
    "load_dotenv(override=True)\n",
    "\n",
    "semgrep_app_token = os.getenv(\"SEMGREP_APP_TOKEN\")"
   ]
  },
  {
   "cell_type": "code",
   "execution_count": 2,
   "metadata": {},
   "outputs": [],
   "source": [
    "semgrep_params = {\n",
    "      \"command\": \"uvx\",\n",
    "      \"args\": [\"semgrep-mcp\"],\n",
    "      \"env\": {\n",
    "        \"SEMGREP_APP_TOKEN\": semgrep_app_token\n",
    "      }\n",
    "    }"
   ]
  },
  {
   "cell_type": "code",
   "execution_count": null,
   "metadata": {},
   "outputs": [],
   "source": [
    "async with MCPServerStdio(params=semgrep_params, client_session_timeout_seconds=30) as semgrep:\n",
    "    semgrep_tools = await semgrep.session.list_tools()\n",
    "\n",
    "semgrep_tools.tools"
   ]
  },
  {
   "cell_type": "code",
   "execution_count": null,
   "metadata": {},
   "outputs": [],
   "source": [
    "sandbox_path = os.path.abspath(os.path.join(os.getcwd(), \"sandbox\"))\n",
    "files_params = {\"command\": \"npx\", \"args\": [\"-y\", \"@modelcontextprotocol/server-filesystem\", sandbox_path]}\n",
    "\n",
    "async with MCPServerStdio(params=files_params,client_session_timeout_seconds=30,) as filesystem:\n",
    "    file_tools = await filesystem.session.list_tools()\n",
    "\n",
    "file_tools.tools"
   ]
  },
  {
   "cell_type": "code",
   "execution_count": null,
   "metadata": {},
   "outputs": [],
   "source": [
    "instructions = \"\"\"\n",
    "You are a cybersecurity researcher. You are given the name of a python file to analyze. You have tools to use Semgrep to scan the code.\n",
    "You read the file, you use the semgrep_scan tool to analyze the code.\n",
    "Reply with the results of the analysis.\n",
    "\"\"\"\n",
    "\n",
    "with trace(\"Security Researcher\"):\n",
    "    async with MCPServerStdio(params=semgrep_params, client_session_timeout_seconds=120) as semgrep:\n",
    "        async with MCPServerStdio(params=files_params,client_session_timeout_seconds=30) as filesystem:\n",
    "            agent = Agent(name=\"Security Researcher\", instructions=instructions, model=\"gpt-4.1\", mcp_servers=[semgrep, filesystem], mcp_config={\"allowed_tools\": [\"semgrep_scan\", \"read_file\"]})\n",
    "            result = await Runner.run(agent, input=\"Please scan the file airline.py in the sandbox directory using the semgrep_scan tool and return the results\")\n",
    "            report = result.final_output\n",
    "\n",
    "display(Markdown(report))"
   ]
  },
  {
   "cell_type": "code",
   "execution_count": null,
   "metadata": {},
   "outputs": [],
   "source": []
  }
 ],
 "metadata": {
  "kernelspec": {
   "display_name": ".venv",
   "language": "python",
   "name": "python3"
  },
  "language_info": {
   "codemirror_mode": {
    "name": "ipython",
    "version": 3
   },
   "file_extension": ".py",
   "mimetype": "text/x-python",
   "name": "python",
   "nbconvert_exporter": "python",
   "pygments_lexer": "ipython3",
   "version": "3.12.11"
  }
 },
 "nbformat": 4,
 "nbformat_minor": 2
}
