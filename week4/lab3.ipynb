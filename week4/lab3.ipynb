{
 "cells": [
  {
   "cell_type": "markdown",
   "metadata": {},
   "source": [
    "# Lab 3 - Enter the Model Context Protocol!"
   ]
  },
  {
   "cell_type": "code",
   "execution_count": null,
   "metadata": {},
   "outputs": [],
   "source": [
    "from dotenv import load_dotenv\n",
    "from agents import Agent, Runner, trace\n",
    "from agents.mcp import MCPServerStdio\n",
    "import os\n",
    "load_dotenv(override=True)\n",
    "MODEL_NAME = \"gpt-4.1-mini\""
   ]
  },
  {
   "cell_type": "markdown",
   "metadata": {},
   "source": [
    "# First - around the table:\n",
    "\n",
    "### What is an MCP Server - how do you think of it?\n",
    "\n",
    "### What is it _NOT_ - what's a misconception?\n"
   ]
  },
  {
   "cell_type": "code",
   "execution_count": null,
   "metadata": {},
   "outputs": [],
   "source": [
    "# An MCP Server is defined by Parameters\n",
    "\n",
    "fetch_params = {\"command\": \"uvx\", \"args\": [\"mcp-server-fetch\"]}\n",
    "\n",
    "async with MCPServerStdio(params=fetch_params, client_session_timeout_seconds=30) as fetch:\n",
    "    tools = await fetch.session.list_tools()\n",
    "\n",
    "tools.tools"
   ]
  },
  {
   "cell_type": "code",
   "execution_count": null,
   "metadata": {},
   "outputs": [],
   "source": [
    "sandbox_path = os.path.abspath(os.path.join(os.getcwd(), \"sandbox\"))\n",
    "files_params = {\"command\": \"npx\", \"args\": [\"-y\", \"@modelcontextprotocol/server-filesystem\", sandbox_path]}\n",
    "\n",
    "async with MCPServerStdio(params=files_params,client_session_timeout_seconds=30) as filesystem:\n",
    "    file_tools = await filesystem.session.list_tools()\n",
    "\n",
    "file_tools.tools"
   ]
  },
  {
   "cell_type": "code",
   "execution_count": null,
   "metadata": {},
   "outputs": [],
   "source": [
    "instructions = \"You use your tools to navigate the web and write summaries to a file\"\n",
    "\n",
    "input = \"Bring up a browser, visit 3 different news sites, click on at least 1 story on each site, and write a summary of the news in markdown to a file news.md in the sandbox directory\""
   ]
  },
  {
   "cell_type": "code",
   "execution_count": null,
   "metadata": {},
   "outputs": [],
   "source": [
    "with trace(\"News\"):\n",
    "    async with MCPServerStdio(params=fetch_params, client_session_timeout_seconds=30) as fetch:\n",
    "        async with MCPServerStdio(params=files_params,client_session_timeout_seconds=30) as filesystem:\n",
    "            agent = Agent(name=\"News\", instructions=instructions, model=MODEL_NAME, mcp_servers=[fetch, filesystem])\n",
    "            result = await Runner.run(agent, input)\n",
    "            print(result.final_output)"
   ]
  },
  {
   "cell_type": "markdown",
   "metadata": {},
   "source": [
    "# And now.. a hands on moment\n",
    "\n",
    "### Everyone write a version of this that uses the MCP Server from Playwright instead of from Fetch\n",
    "\n",
    "Using this MCP Server from Microsoft:\n",
    "\n",
    "https://mcp.so/server/playwright-mcp/microsoft\n",
    "\n",
    "But NOT running it in headless mode, so you get to see the browser"
   ]
  },
  {
   "cell_type": "code",
   "execution_count": null,
   "metadata": {},
   "outputs": [],
   "source": []
  },
  {
   "cell_type": "markdown",
   "metadata": {},
   "source": [
    "### And check out the traces\n",
    "\n",
    "https://platform.openai.com/traces"
   ]
  },
  {
   "cell_type": "markdown",
   "metadata": {},
   "source": []
  }
 ],
 "metadata": {
  "kernelspec": {
   "display_name": ".venv",
   "language": "python",
   "name": "python3"
  },
  "language_info": {
   "codemirror_mode": {
    "name": "ipython",
    "version": 3
   },
   "file_extension": ".py",
   "mimetype": "text/x-python",
   "name": "python",
   "nbconvert_exporter": "python",
   "pygments_lexer": "ipython3",
   "version": "3.12.9"
  }
 },
 "nbformat": 4,
 "nbformat_minor": 2
}
