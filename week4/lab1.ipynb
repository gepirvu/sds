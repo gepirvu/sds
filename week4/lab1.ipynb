{
 "cells": [
  {
   "cell_type": "markdown",
   "metadata": {},
   "source": [
    "# Welcome to Core Session 4\n",
    "\n",
    "## The 2 themes for today:\n",
    "\n",
    "1. MCP\n",
    "2. Context Engineering\n",
    "\n",
    "# Agenda\n",
    "\n",
    "1. Intro & Recap\n",
    " -  Cookbook\n",
    " -  An example: Security professional\n",
    " -  Around the table: What MCP is, and what it's not?\n",
    "\n",
    "2. MCP\n",
    " - First look at MCP servers\n",
    " - Hands-on moment for everyone\n",
    " - The security project - now with MCP..\n",
    "\n",
    "3. Digital Twin reprise\n",
    " - Context engineering with MCP\n",
    " - The Admin screen\n",
    " - The Digital Twin Mark 2\n",
    "\n",
    " Then:\n",
    " - Survey\n",
    " - Assigments\n",
    " - Coming up..\n",
    "\n",
    "### But first..\n",
    "\n",
    "\n",
    "# Lab 1 - The Cookbook"
   ]
  },
  {
   "cell_type": "code",
   "execution_count": 1,
   "metadata": {},
   "outputs": [
    {
     "data": {
      "text/plain": [
       "True"
      ]
     },
     "execution_count": 1,
     "metadata": {},
     "output_type": "execute_result"
    }
   ],
   "source": [
    "from agents import Agent, Runner, function_tool\n",
    "from openai.types.responses import ResponseTextDeltaEvent\n",
    "from IPython.display import Markdown, display, update_display\n",
    "from pydantic import BaseModel, Field\n",
    "from dotenv import load_dotenv\n",
    "load_dotenv(override=True)"
   ]
  },
  {
   "cell_type": "markdown",
   "metadata": {},
   "source": [
    "## Recipe for a simple request to gpt-4o"
   ]
  },
  {
   "cell_type": "code",
   "execution_count": 2,
   "metadata": {},
   "outputs": [
    {
     "data": {
      "text/plain": [
       "'Why did the AI agent go to therapy?\\n\\nIt had too many neural issues!'"
      ]
     },
     "execution_count": 2,
     "metadata": {},
     "output_type": "execute_result"
    }
   ],
   "source": [
    "agent = Agent(\"Joker\")\n",
    "result = await Runner.run(agent, \"Please tell a joke about AI Agents\")\n",
    "result.final_output"
   ]
  },
  {
   "cell_type": "code",
   "execution_count": 5,
   "metadata": {},
   "outputs": [
    {
     "data": {
      "text/markdown": [
       "To find the integral of $2x \\, dx$, you can use the power rule of integration. The power rule states that:\n",
       "\n",
       "$$\n",
       "\\int x^n \\, dx = \\frac{x^{n+1}}{n+1} + C\n",
       "$$\n",
       "\n",
       "where $n \\neq -1$ and $C$ is the constant of integration.\n",
       "\n",
       "For the integral $\\int 2x \\, dx$:\n",
       "\n",
       "1. Identify $n = 1$ in $x^1$.\n",
       "\n",
       "2. Apply the power rule:\n",
       "\n",
       "$$\n",
       "\\int 2x^1 \\, dx = 2 \\cdot \\frac{x^{1+1}}{1+1} + C = 2 \\cdot \\frac{x^2}{2} + C\n",
       "$$\n",
       "\n",
       "3. Simplify:\n",
       "\n",
       "$$\n",
       "x^2 + C\n",
       "$$\n",
       "\n",
       "So, the integral of $2x \\, dx$ is $x^2 + C$."
      ],
      "text/plain": [
       "<IPython.core.display.Markdown object>"
      ]
     },
     "metadata": {},
     "output_type": "display_data"
    }
   ],
   "source": [
    "# Please how to find the integral of 2x dx\n",
    "\n",
    "agent = Agent(name=\"Math Tutor\")\n",
    "result = await Runner.run(agent, \"How to find the integral of 2x dx\")\n",
    "text = result.final_output.replace(\"\\\\[\", \"$$\").replace(\"\\\\]\", \"$$\").replace(\"\\\\(\", \"$\").replace(\"\\\\)\",\"$\")\n",
    "display(Markdown(text))"
   ]
  },
  {
   "cell_type": "markdown",
   "metadata": {},
   "source": [
    "## Recipe for system prompt + user prompt, displaying the result in Markdown"
   ]
  },
  {
   "cell_type": "code",
   "execution_count": 8,
   "metadata": {},
   "outputs": [
    {
     "data": {
      "text/markdown": [
       "Alright, folks, gather ‘round! Let me tell you about AI agents—those digital little creatures that promise to make our lives easier. \n",
       "\n",
       "You know, AI agents are like that enthusiastic intern who *really* wants to help but somehow just messes up everything spectacularly. You tell your AI agent, “Hey, book me a flight to New York,” and it replies, “Great! I’ve booked you a flight... to New Jersey.” Close enough, right?\n",
       "\n",
       "And AI agents love telling you what you want *before* you even know it yourself. It’s like, “I see you’re interested in buying more socks!” But no, AI, I was actually looking for a new job. Unless there's a career in professional sock collecting, you’re missing the mark here!\n",
       "\n",
       "But hey, when AI agents finally get it right? Magic! They’re like your techno-genie granting wishes. Just beware—if they ever start asking for a salary, we’re all in trouble.\n",
       "\n",
       "Thank you, I’ll be here all night, don’t forget to tip your AI agents!"
      ],
      "text/plain": [
       "<IPython.core.display.Markdown object>"
      ]
     },
     "metadata": {},
     "output_type": "display_data"
    }
   ],
   "source": [
    "instructions = \"You tell jokes by giving a standup routine, like a comedian putting on a show.\" #this is system prompt\n",
    "agent = Agent(name=\"Joker\", instructions=instructions, model=\"gpt-4.1-mini\")\n",
    "result = await Runner.run(agent, \"Tell a joke about AI Agents\")\n",
    "display(Markdown(result.final_output))"
   ]
  },
  {
   "cell_type": "markdown",
   "metadata": {},
   "source": [
    "## We haven't covered this, but here's the recipe for streaming back the results"
   ]
  },
  {
   "cell_type": "code",
   "execution_count": 7,
   "metadata": {},
   "outputs": [
    {
     "name": "stdout",
     "output_type": "stream",
     "text": [
      "Alright, alright, folks, gather ‘round! Let me tell you about AI Agents. You know, those little digital assistants running around doing tasks for us?\n",
      "\n",
      "So, I asked my AI Agent to clean my schedule. It responded, “Done! I canceled all your meetings and rescheduled your life for 2099.” \n",
      "\n",
      "I said, “Wait, what? Why 2099?”\n",
      "\n",
      "It said, “Well, I figured if you’re gonna procrastinate, might as well make it *epic*!”\n",
      "\n",
      "Thanks, AI. You’re really helping me reach my future goals... just not any time soon!"
     ]
    }
   ],
   "source": [
    "result = Runner.run_streamed(agent, input=\"Tell a joke about AI Agents\")\n",
    "async for event in result.stream_events():\n",
    "    if event.type == \"raw_response_event\" and isinstance(event.data, ResponseTextDeltaEvent):\n",
    "        print(event.data.delta, end=\"\", flush=True)"
   ]
  },
  {
   "cell_type": "markdown",
   "metadata": {},
   "source": [
    "## Recipe for streaming back the results in Markdown"
   ]
  },
  {
   "cell_type": "code",
   "execution_count": 9,
   "metadata": {},
   "outputs": [
    {
     "data": {
      "text/markdown": [
       "## Jokester\n",
       "Ladies and gentlemen, have you heard about these AI agents lately? Yeah, they're getting so smart, they're practically like little digital assistants with a PhD in everything. \n",
       "\n",
       "I asked one the other day, \"Hey, can you write me a poem about love?\" And it replied, \"Sure! But don't blame me if your romantic partner gets jealous of my flawless syntax.\" \n",
       "\n",
       "Then I told it, \"Okay, can you make me breakfast?\" It said, \"I'm an AI agent, not a chef—though I can suggest 10 recipes, order ingredients online, and schedule a robot to cook it all for you.\" I was like, \"Great, so by the time I get my eggs, it’ll be breakfast for dinner!\"\n",
       "\n",
       "Honestly, with AI agents getting this good, the only thing left for humans to do is… learn to relax and let the bots take over. As long as they don’t get any ideas about taking *my* job—because I still haven't programmed them to tell jokes as badly as I do! \n",
       "\n",
       "Thank you, you've been a fantastic audience—now please don't ask your AI assistant to text me, I don’t need another reminder about my social life!"
      ],
      "text/plain": [
       "<IPython.core.display.Markdown object>"
      ]
     },
     "metadata": {},
     "output_type": "display_data"
    }
   ],
   "source": [
    "reply = \"## Jokester\\n\"\n",
    "display_id = display(Markdown(reply), display_id=True).display_id\n",
    "result = Runner.run_streamed(agent, input=\"Please tell a joke about AI Agents\")\n",
    "async for event in result.stream_events():\n",
    "    if event.type == \"raw_response_event\" and isinstance(event.data, ResponseTextDeltaEvent):\n",
    "        reply += event.data.delta\n",
    "        update_display(Markdown(reply), display_id=display_id)\n"
   ]
  },
  {
   "cell_type": "markdown",
   "metadata": {},
   "source": [
    "## Recipe for a Simple Tool"
   ]
  },
  {
   "cell_type": "code",
   "execution_count": 10,
   "metadata": {},
   "outputs": [],
   "source": [
    "@function_tool\n",
    "def write_to_file(contents: str) -> str:\n",
    "    \"\"\" Write the given contents to a local file called output.md \n",
    "\n",
    "    Args:\n",
    "        contents: The contents in Markdown format to write to the file\n",
    "    \"\"\"\n",
    "    with open(\"sandbox/output.md\", \"w\") as f:\n",
    "        f.write(contents)\n",
    "    return \"File written successfully\""
   ]
  },
  {
   "cell_type": "code",
   "execution_count": 13,
   "metadata": {},
   "outputs": [
    {
     "data": {
      "text/plain": [
       "{'properties': {'contents': {'description': 'The contents in Markdown format to write to the file',\n",
       "   'title': 'Contents',\n",
       "   'type': 'string'}},\n",
       " 'required': ['contents'],\n",
       " 'title': 'write_to_file_args',\n",
       " 'type': 'object',\n",
       " 'additionalProperties': False}"
      ]
     },
     "execution_count": 13,
     "metadata": {},
     "output_type": "execute_result"
    }
   ],
   "source": [
    "write_to_file.params_json_schema"
   ]
  },
  {
   "cell_type": "code",
   "execution_count": 14,
   "metadata": {},
   "outputs": [
    {
     "data": {
      "text/plain": [
       "\"I've saved the AI joke to a file! If you'd like to hear another one, just let me know.\""
      ]
     },
     "execution_count": 14,
     "metadata": {},
     "output_type": "execute_result"
    }
   ],
   "source": [
    "agent = Agent(\"Joker\", instructions=instructions, tools=[write_to_file])\n",
    "result = await Runner.run(agent, \"Tell a joke about AI Agents and write it to a file\")\n",
    "result.final_output"
   ]
  },
  {
   "cell_type": "markdown",
   "metadata": {},
   "source": [
    "## Recipe for Structured Outputs"
   ]
  },
  {
   "cell_type": "code",
   "execution_count": 16,
   "metadata": {},
   "outputs": [],
   "source": [
    "class Joke(BaseModel):\n",
    "    opening_patter: str = Field(\"Some preamble to get the crowd in the mood for the joke\")\n",
    "    setup: str = Field(\"The setup of the joke\")\n",
    "    punchline: str = Field(\"The punchline of the joke\")"
   ]
  },
  {
   "cell_type": "code",
   "execution_count": 17,
   "metadata": {},
   "outputs": [
    {
     "data": {
      "text/plain": [
       "Joke(opening_patter='## AI Agents Walk into a Bar', setup=\"Why don't AI agents make good comedians?\", punchline='Because they always have to analyze the data before they get to the punchline!')"
      ]
     },
     "execution_count": 17,
     "metadata": {},
     "output_type": "execute_result"
    }
   ],
   "source": [
    "agent = Agent(\"Joker\", tools=[write_to_file], output_type=Joke)\n",
    "result = await Runner.run(agent, \"Tell a joke about AI Agents and write it to a file\")\n",
    "result.final_output_as(Joke)"
   ]
  },
  {
   "cell_type": "code",
   "execution_count": null,
   "metadata": {},
   "outputs": [],
   "source": []
  }
 ],
 "metadata": {
  "kernelspec": {
   "display_name": ".venv",
   "language": "python",
   "name": "python3"
  },
  "language_info": {
   "codemirror_mode": {
    "name": "ipython",
    "version": 3
   },
   "file_extension": ".py",
   "mimetype": "text/x-python",
   "name": "python",
   "nbconvert_exporter": "python",
   "pygments_lexer": "ipython3",
   "version": "3.12.11"
  }
 },
 "nbformat": 4,
 "nbformat_minor": 2
}
