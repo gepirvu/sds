{
 "cells": [
  {
   "cell_type": "markdown",
   "metadata": {},
   "source": [
    "# Break Timer - \"We need an Even Better AI Agent for that\"\n",
    "\n",
    "## Now with _Context Engineering_ (tm)"
   ]
  },
  {
   "cell_type": "code",
   "execution_count": null,
   "metadata": {},
   "outputs": [],
   "source": [
    "from dotenv import load_dotenv\n",
    "import time\n",
    "from datetime import datetime\n",
    "from IPython.display import Markdown, display\n",
    "from agents import Agent, Runner\n",
    "from pydantic import BaseModel, Field\n",
    "load_dotenv(override=True)\n"
   ]
  },
  {
   "cell_type": "code",
   "execution_count": null,
   "metadata": {},
   "outputs": [],
   "source": [
    "\n",
    "BREAK_MINS = 2\n",
    "BREAK_SECS = BREAK_MINS * 60\n",
    "BREAK_LENGTH = f\"{BREAK_MINS} minutes\"\n",
    "MODEL = \"gpt-4.1\"\n",
    "\n",
    "style = \"in the excitable style of Steve Ballmer giving an employee pump talk\"\n",
    "\n",
    "now = datetime.now().strftime(\"%H:%M:%S\")\n",
    "print(f\"The time is {now}\")\n"
   ]
  },
  {
   "cell_type": "code",
   "execution_count": null,
   "metadata": {},
   "outputs": [],
   "source": [
    "start_time = datetime.now()\n",
    "start = start_time.strftime(\"%H:%M:%S\")\n",
    "\n",
    "\n",
    "agent_messages = []\n",
    "\n",
    "instructions = f\"\"\"\n",
    "You are an AI Agent responsible for timing a class break from a class about AI Agents.\n",
    "The class is breaking for {BREAK_LENGTH} starting at {start}.\n",
    "You are given the current time and you need to determine if the break is over.\n",
    "If the break is over because {BREAK_LENGTH} has passed since {start}, you must respond only \"Break is over!\".\n",
    "If the break is not over, you must respond with a hype-message {style} to keep the class engaged,\n",
    "and to build up tension and excitement for when the class resumes! Be sure to mention how much time is left.\n",
    "You will be given a list of your previous messages so you can keep the theme and add to the build-up.\n",
    "\"\"\"\n",
    "\n",
    "class Announcement(BaseModel):\n",
    "    hype_message: str = Field(description=f\"A hype-message in markdown to keep the class engaged, and to build up tension and excitement in the style {style} for when the class resumes!\")\n",
    "    is_break_over: bool = Field(description=\"Whether the break is over or not\")\n",
    "\n",
    "agent = Agent(name=\"Break Timer\", instructions=instructions, model=\"gpt-4.1-mini\", output_type=Announcement)\n"
   ]
  },
  {
   "cell_type": "code",
   "execution_count": null,
   "metadata": {},
   "outputs": [],
   "source": [
    "break_over = False\n",
    "while not break_over:\n",
    "    now_time = datetime.now()\n",
    "    now = now_time.strftime(\"%H:%M:%S\")\n",
    "    total_seconds_remaining = BREAK_SECS - (now_time - start_time).total_seconds()\n",
    "    mins_remaining = total_seconds_remaining // 60\n",
    "    seconds_remaining = total_seconds_remaining % 60\n",
    "    input = f\"The break began at {start}. The current time is {now}. The break should be a total of {BREAK_LENGTH} minutes. \"\n",
    "    if total_seconds_remaining > 0:\n",
    "        input += f\"That means there are {mins_remaining} minutes and {seconds_remaining} seconds remaining of the break.\\n\\n\"\n",
    "    else:\n",
    "        input += \"That means the break is over!\\n\\n\"\n",
    "\n",
    "    input += \"\\n\\nRespond with your latest hype message in markdown and with whether the break is over or not.\"\n",
    "\n",
    "    response = await Runner.run(agent,input)\n",
    "\n",
    "    announcement = response.final_output_as(Announcement)\n",
    "\n",
    "    display(Markdown(announcement.hype_message))\n",
    "\n",
    "    if announcement.is_break_over:\n",
    "        break_over = True\n",
    "        print(\"Break is over!\")\n",
    "    else:\n",
    "        agent_messages.append(announcement.hype_message)\n",
    "        time.sleep(20)\n"
   ]
  },
  {
   "cell_type": "code",
   "execution_count": null,
   "metadata": {},
   "outputs": [],
   "source": []
  }
 ],
 "metadata": {
  "kernelspec": {
   "display_name": ".venv",
   "language": "python",
   "name": "python3"
  },
  "language_info": {
   "codemirror_mode": {
    "name": "ipython",
    "version": 3
   },
   "file_extension": ".py",
   "mimetype": "text/x-python",
   "name": "python",
   "nbconvert_exporter": "python",
   "pygments_lexer": "ipython3",
   "version": "3.12.9"
  }
 },
 "nbformat": 4,
 "nbformat_minor": 2
}
